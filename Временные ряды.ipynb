{
 "cells": [
  {
   "cell_type": "markdown",
   "metadata": {
    "toc": true
   },
   "source": [
    "<h1>Содержание<span class=\"tocSkip\"></span></h1>\n",
    "<div class=\"toc\"><ul class=\"toc-item\"><li><span><a href=\"#Подготовка\" data-toc-modified-id=\"Подготовка-1\"><span class=\"toc-item-num\">1&nbsp;&nbsp;</span>Подготовка</a></span><ul class=\"toc-item\"><li><span><a href=\"#Импорт-инструментов-и-данных\" data-toc-modified-id=\"Импорт-инструментов-и-данных-1.1\"><span class=\"toc-item-num\">1.1&nbsp;&nbsp;</span>Импорт инструментов и данных</a></span></li><li><span><a href=\"#Предобработка\" data-toc-modified-id=\"Предобработка-1.2\"><span class=\"toc-item-num\">1.2&nbsp;&nbsp;</span>Предобработка</a></span></li></ul></li><li><span><a href=\"#Анализ\" data-toc-modified-id=\"Анализ-2\"><span class=\"toc-item-num\">2&nbsp;&nbsp;</span>Анализ</a></span><ul class=\"toc-item\"><li><span><a href=\"#Разбивка-на-тренд-и-сезонные-составляющие\" data-toc-modified-id=\"Разбивка-на-тренд-и-сезонные-составляющие-2.1\"><span class=\"toc-item-num\">2.1&nbsp;&nbsp;</span>Разбивка на тренд и сезонные составляющие</a></span></li><li><span><a href=\"#Параметры-после-анализа\" data-toc-modified-id=\"Параметры-после-анализа-2.2\"><span class=\"toc-item-num\">2.2&nbsp;&nbsp;</span>Параметры после анализа</a></span></li></ul></li><li><span><a href=\"#Обучение\" data-toc-modified-id=\"Обучение-3\"><span class=\"toc-item-num\">3&nbsp;&nbsp;</span>Обучение</a></span><ul class=\"toc-item\"><li><span><a href=\"#Линейная\" data-toc-modified-id=\"Линейная-3.1\"><span class=\"toc-item-num\">3.1&nbsp;&nbsp;</span>Линейная</a></span></li><li><span><a href=\"#Дерево-решений\" data-toc-modified-id=\"Дерево-решений-3.2\"><span class=\"toc-item-num\">3.2&nbsp;&nbsp;</span>Дерево решений</a></span></li><li><span><a href=\"#LGBM\" data-toc-modified-id=\"LGBM-3.3\"><span class=\"toc-item-num\">3.3&nbsp;&nbsp;</span>LGBM</a></span></li><li><span><a href=\"#Сравнение\" data-toc-modified-id=\"Сравнение-3.4\"><span class=\"toc-item-num\">3.4&nbsp;&nbsp;</span>Сравнение</a></span></li></ul></li><li><span><a href=\"#Тестирование\" data-toc-modified-id=\"Тестирование-4\"><span class=\"toc-item-num\">4&nbsp;&nbsp;</span>Тестирование</a></span><ul class=\"toc-item\"><li><span><a href=\"#Визуализация\" data-toc-modified-id=\"Визуализация-4.1\"><span class=\"toc-item-num\">4.1&nbsp;&nbsp;</span>Визуализация</a></span></li></ul></li><li><span><a href=\"#Чек-лист-проверки\" data-toc-modified-id=\"Чек-лист-проверки-5\"><span class=\"toc-item-num\">5&nbsp;&nbsp;</span>Чек-лист проверки</a></span></li><li><span><a href=\"#Вывод\" data-toc-modified-id=\"Вывод-6\"><span class=\"toc-item-num\">6&nbsp;&nbsp;</span>Вывод</a></span></li></ul></div>"
   ]
  },
  {
   "cell_type": "markdown",
   "metadata": {},
   "source": [
    "#  Прогнозирование заказов такси"
   ]
  },
  {
   "cell_type": "markdown",
   "metadata": {},
   "source": [
    "Компания «Чётенькое такси» собрала исторические данные о заказах такси в аэропортах. Чтобы привлекать больше водителей в период пиковой нагрузки, нужно спрогнозировать количество заказов такси на следующий час. Постройте модель для такого предсказания.\n",
    "\n",
    "Значение метрики *RMSE* на тестовой выборке должно быть не больше 48.\n",
    "\n",
    "Вам нужно:\n",
    "\n",
    "1. Загрузить данные и выполнить их ресемплирование по одному часу.\n",
    "2. Проанализировать данные.\n",
    "3. Обучить разные модели с различными гиперпараметрами. Сделать тестовую выборку размером 10% от исходных данных.\n",
    "4. Проверить данные на тестовой выборке и сделать выводы.\n",
    "\n",
    "\n",
    "Данные лежат в файле `taxi.csv`. Количество заказов находится в столбце `num_orders` (от англ. *number of orders*, «число заказов»)."
   ]
  },
  {
   "cell_type": "markdown",
   "metadata": {},
   "source": [
    "## Подготовка"
   ]
  },
  {
   "cell_type": "markdown",
   "metadata": {},
   "source": [
    "### Импорт инструментов и данных"
   ]
  },
  {
   "cell_type": "code",
   "execution_count": 1,
   "metadata": {},
   "outputs": [],
   "source": [
    "import pandas as pd\n",
    "import numpy as np\n",
    "import matplotlib.pyplot as plt\n",
    "import seaborn as sns\n",
    "\n",
    "from sklearn.metrics import mean_squared_error\n",
    " \n",
    "from sklearn.model_selection import train_test_split\n",
    "from sklearn.linear_model import LinearRegression\n",
    "from sklearn.tree import DecisionTreeRegressor\n",
    "from lightgbm.sklearn import LGBMRegressor\n",
    "\n",
    "from statsmodels.tsa.seasonal import seasonal_decompose\n",
    "\n",
    "from sklearn.model_selection import GridSearchCV\n",
    "from sklearn.model_selection import cross_val_score\n",
    "from sklearn.model_selection import TimeSeriesSplit\n"
   ]
  },
  {
   "cell_type": "code",
   "execution_count": 2,
   "metadata": {},
   "outputs": [
    {
     "name": "stdout",
     "output_type": "stream",
     "text": [
      "<class 'pandas.core.frame.DataFrame'>\n",
      "DatetimeIndex: 26496 entries, 2018-03-01 00:00:00 to 2018-08-31 23:50:00\n",
      "Data columns (total 1 columns):\n",
      " #   Column      Non-Null Count  Dtype\n",
      "---  ------      --------------  -----\n",
      " 0   num_orders  26496 non-null  int64\n",
      "dtypes: int64(1)\n",
      "memory usage: 414.0 KB\n"
     ]
    }
   ],
   "source": [
    "data = pd.read_csv('/datasets/taxi.csv',index_col=[0], parse_dates=[0])\n",
    "data.info()"
   ]
  },
  {
   "cell_type": "code",
   "execution_count": 3,
   "metadata": {},
   "outputs": [
    {
     "data": {
      "text/html": [
       "<div>\n",
       "<style scoped>\n",
       "    .dataframe tbody tr th:only-of-type {\n",
       "        vertical-align: middle;\n",
       "    }\n",
       "\n",
       "    .dataframe tbody tr th {\n",
       "        vertical-align: top;\n",
       "    }\n",
       "\n",
       "    .dataframe thead th {\n",
       "        text-align: right;\n",
       "    }\n",
       "</style>\n",
       "<table border=\"1\" class=\"dataframe\">\n",
       "  <thead>\n",
       "    <tr style=\"text-align: right;\">\n",
       "      <th></th>\n",
       "      <th>num_orders</th>\n",
       "    </tr>\n",
       "    <tr>\n",
       "      <th>datetime</th>\n",
       "      <th></th>\n",
       "    </tr>\n",
       "  </thead>\n",
       "  <tbody>\n",
       "    <tr>\n",
       "      <th>2018-03-01 00:00:00</th>\n",
       "      <td>9</td>\n",
       "    </tr>\n",
       "    <tr>\n",
       "      <th>2018-03-01 00:10:00</th>\n",
       "      <td>14</td>\n",
       "    </tr>\n",
       "    <tr>\n",
       "      <th>2018-03-01 00:20:00</th>\n",
       "      <td>28</td>\n",
       "    </tr>\n",
       "    <tr>\n",
       "      <th>2018-03-01 00:30:00</th>\n",
       "      <td>20</td>\n",
       "    </tr>\n",
       "    <tr>\n",
       "      <th>2018-03-01 00:40:00</th>\n",
       "      <td>32</td>\n",
       "    </tr>\n",
       "    <tr>\n",
       "      <th>2018-03-01 00:50:00</th>\n",
       "      <td>21</td>\n",
       "    </tr>\n",
       "    <tr>\n",
       "      <th>2018-03-01 01:00:00</th>\n",
       "      <td>7</td>\n",
       "    </tr>\n",
       "    <tr>\n",
       "      <th>2018-03-01 01:10:00</th>\n",
       "      <td>5</td>\n",
       "    </tr>\n",
       "    <tr>\n",
       "      <th>2018-03-01 01:20:00</th>\n",
       "      <td>17</td>\n",
       "    </tr>\n",
       "    <tr>\n",
       "      <th>2018-03-01 01:30:00</th>\n",
       "      <td>12</td>\n",
       "    </tr>\n",
       "  </tbody>\n",
       "</table>\n",
       "</div>"
      ],
      "text/plain": [
       "                     num_orders\n",
       "datetime                       \n",
       "2018-03-01 00:00:00           9\n",
       "2018-03-01 00:10:00          14\n",
       "2018-03-01 00:20:00          28\n",
       "2018-03-01 00:30:00          20\n",
       "2018-03-01 00:40:00          32\n",
       "2018-03-01 00:50:00          21\n",
       "2018-03-01 01:00:00           7\n",
       "2018-03-01 01:10:00           5\n",
       "2018-03-01 01:20:00          17\n",
       "2018-03-01 01:30:00          12"
      ]
     },
     "execution_count": 3,
     "metadata": {},
     "output_type": "execute_result"
    }
   ],
   "source": [
    "data.head(10)"
   ]
  },
  {
   "cell_type": "markdown",
   "metadata": {},
   "source": [
    "### Предобработка"
   ]
  },
  {
   "cell_type": "code",
   "execution_count": 4,
   "metadata": {},
   "outputs": [],
   "source": [
    "data.sort_index(inplace=True)\n",
    "data = data.resample('1H').sum()"
   ]
  },
  {
   "cell_type": "code",
   "execution_count": 5,
   "metadata": {},
   "outputs": [
    {
     "data": {
      "text/html": [
       "<div>\n",
       "<style scoped>\n",
       "    .dataframe tbody tr th:only-of-type {\n",
       "        vertical-align: middle;\n",
       "    }\n",
       "\n",
       "    .dataframe tbody tr th {\n",
       "        vertical-align: top;\n",
       "    }\n",
       "\n",
       "    .dataframe thead th {\n",
       "        text-align: right;\n",
       "    }\n",
       "</style>\n",
       "<table border=\"1\" class=\"dataframe\">\n",
       "  <thead>\n",
       "    <tr style=\"text-align: right;\">\n",
       "      <th></th>\n",
       "      <th>num_orders</th>\n",
       "    </tr>\n",
       "    <tr>\n",
       "      <th>datetime</th>\n",
       "      <th></th>\n",
       "    </tr>\n",
       "  </thead>\n",
       "  <tbody>\n",
       "    <tr>\n",
       "      <th>2018-03-01 00:00:00</th>\n",
       "      <td>124</td>\n",
       "    </tr>\n",
       "    <tr>\n",
       "      <th>2018-03-01 01:00:00</th>\n",
       "      <td>85</td>\n",
       "    </tr>\n",
       "    <tr>\n",
       "      <th>2018-03-01 02:00:00</th>\n",
       "      <td>71</td>\n",
       "    </tr>\n",
       "    <tr>\n",
       "      <th>2018-03-01 03:00:00</th>\n",
       "      <td>66</td>\n",
       "    </tr>\n",
       "    <tr>\n",
       "      <th>2018-03-01 04:00:00</th>\n",
       "      <td>43</td>\n",
       "    </tr>\n",
       "    <tr>\n",
       "      <th>2018-03-01 05:00:00</th>\n",
       "      <td>6</td>\n",
       "    </tr>\n",
       "    <tr>\n",
       "      <th>2018-03-01 06:00:00</th>\n",
       "      <td>12</td>\n",
       "    </tr>\n",
       "    <tr>\n",
       "      <th>2018-03-01 07:00:00</th>\n",
       "      <td>15</td>\n",
       "    </tr>\n",
       "    <tr>\n",
       "      <th>2018-03-01 08:00:00</th>\n",
       "      <td>34</td>\n",
       "    </tr>\n",
       "    <tr>\n",
       "      <th>2018-03-01 09:00:00</th>\n",
       "      <td>69</td>\n",
       "    </tr>\n",
       "  </tbody>\n",
       "</table>\n",
       "</div>"
      ],
      "text/plain": [
       "                     num_orders\n",
       "datetime                       \n",
       "2018-03-01 00:00:00         124\n",
       "2018-03-01 01:00:00          85\n",
       "2018-03-01 02:00:00          71\n",
       "2018-03-01 03:00:00          66\n",
       "2018-03-01 04:00:00          43\n",
       "2018-03-01 05:00:00           6\n",
       "2018-03-01 06:00:00          12\n",
       "2018-03-01 07:00:00          15\n",
       "2018-03-01 08:00:00          34\n",
       "2018-03-01 09:00:00          69"
      ]
     },
     "execution_count": 5,
     "metadata": {},
     "output_type": "execute_result"
    }
   ],
   "source": [
    "data.head(10)"
   ]
  },
  {
   "cell_type": "markdown",
   "metadata": {},
   "source": [
    "###"
   ]
  },
  {
   "cell_type": "markdown",
   "metadata": {},
   "source": [
    "## Анализ"
   ]
  },
  {
   "cell_type": "markdown",
   "metadata": {},
   "source": [
    "### Разбивка на тренд и сезонные составляющие"
   ]
  },
  {
   "cell_type": "code",
   "execution_count": 6,
   "metadata": {},
   "outputs": [
    {
     "data": {
      "image/png": "[encoded data removed]",
      "text/plain": [
       "<Figure size 864x720 with 3 Axes>"
      ]
     },
     "metadata": {
      "needs_background": "light"
     },
     "output_type": "display_data"
    }
   ],
   "source": [
    "decomposed = seasonal_decompose(data)\n",
    " \n",
    "plt.figure(figsize=(12, 10)) \n",
    "plt.subplot(311)\n",
    "decomposed.trend.plot(ax=plt.gca())\n",
    "plt.title('Тренд')\n",
    "plt.subplot(312)\n",
    "decomposed.seasonal['2018-03-01':'2018-03-05'].plot(ax=plt.gca())\n",
    "plt.title('Сезонная состаляющая')\n",
    "plt.subplot(313)\n",
    "decomposed.resid.plot(ax=plt.gca())\n",
    "plt.title('Остаток')\n",
    "plt.tight_layout()"
   ]
  },
  {
   "cell_type": "markdown",
   "metadata": {},
   "source": [
    " "
   ]
  },
  {
   "cell_type": "markdown",
   "metadata": {},
   "source": [
    "<b>Вывод:</b>\n",
    "\n",
    "Прогноз делается на сутки => скользящее среднее 24 часа  \n",
    "Лаги подберем перебором по часам  \n",
    "\n",
    "Использовать кросс-валидацию будем с параметором TimeSeriesSplit.   \n",
    "Результаты расчета функции сохранятся в отдельный список data_temp. \n",
    "\n",
    "Исходя из графиков определеям календарные признаки будем закладывать в модель:\n",
    "\n",
    "Месяц и число (по графику тренда) так как прослеживается рост по месяцам и дням, притом довольно пропорциональный\n",
    "Часы (по графику сезонности) так как прослеживается цикличное изменение по часам \n",
    " "
   ]
  },
  {
   "cell_type": "code",
   "execution_count": 7,
   "metadata": {},
   "outputs": [],
   "source": [
    "data['month'] = data.index.month\n",
    "data['day'] = data.index.day\n",
    "data['hour'] = data.index.hour\n",
    "data['dayofweek'] = data.index.dayofweek"
   ]
  },
  {
   "cell_type": "code",
   "execution_count": 8,
   "metadata": {},
   "outputs": [],
   "source": [
    "def make_features(data, max_lag, rolling_mean_size):\n",
    "  \n",
    "\n",
    "    for lag in range(1, max_lag + 1):\n",
    "        data['lag_{}'.format(lag)] = data['num_orders'].shift(lag)\n",
    "\n",
    "    data['rolling_mean'] = data['num_orders'].shift().rolling(rolling_mean_size).mean()\n",
    "    \n",
    "    train, test = train_test_split(data, shuffle=False, test_size=0.1)\n",
    "    train = train.dropna()\n",
    "    \n",
    "    X_train = train.drop('num_orders',axis=1)\n",
    "    X_test = test.drop('num_orders',axis=1)\n",
    "    Y_train = train['num_orders']\n",
    "    Y_test = test['num_orders']\n",
    "\n",
    "    model = LinearRegression()\n",
    "    rsme = -cross_val_score(model, X_train, Y_train, scoring='neg_root_mean_squared_error', cv=TimeSeriesSplit(n_splits=5)).mean()\n",
    "    print(f'RSME = {rsme.round(2)} при lag= {max_lag}')\n",
    "    return data"
   ]
  },
  {
   "cell_type": "code",
   "execution_count": 9,
   "metadata": {},
   "outputs": [
    {
     "name": "stdout",
     "output_type": "stream",
     "text": [
      "RSME = 31.54 при lag= 1\n"
     ]
    },
    {
     "data": {
      "text/html": [
       "<div>\n",
       "<style scoped>\n",
       "    .dataframe tbody tr th:only-of-type {\n",
       "        vertical-align: middle;\n",
       "    }\n",
       "\n",
       "    .dataframe tbody tr th {\n",
       "        vertical-align: top;\n",
       "    }\n",
       "\n",
       "    .dataframe thead th {\n",
       "        text-align: right;\n",
       "    }\n",
       "</style>\n",
       "<table border=\"1\" class=\"dataframe\">\n",
       "  <thead>\n",
       "    <tr style=\"text-align: right;\">\n",
       "      <th></th>\n",
       "      <th>num_orders</th>\n",
       "      <th>month</th>\n",
       "      <th>day</th>\n",
       "      <th>hour</th>\n",
       "      <th>dayofweek</th>\n",
       "      <th>lag_1</th>\n",
       "      <th>rolling_mean</th>\n",
       "    </tr>\n",
       "    <tr>\n",
       "      <th>datetime</th>\n",
       "      <th></th>\n",
       "      <th></th>\n",
       "      <th></th>\n",
       "      <th></th>\n",
       "      <th></th>\n",
       "      <th></th>\n",
       "      <th></th>\n",
       "    </tr>\n",
       "  </thead>\n",
       "  <tbody>\n",
       "    <tr>\n",
       "      <th>2018-03-01 00:00:00</th>\n",
       "      <td>124</td>\n",
       "      <td>3</td>\n",
       "      <td>1</td>\n",
       "      <td>0</td>\n",
       "      <td>3</td>\n",
       "      <td>NaN</td>\n",
       "      <td>NaN</td>\n",
       "    </tr>\n",
       "    <tr>\n",
       "      <th>2018-03-01 01:00:00</th>\n",
       "      <td>85</td>\n",
       "      <td>3</td>\n",
       "      <td>1</td>\n",
       "      <td>1</td>\n",
       "      <td>3</td>\n",
       "      <td>124.0</td>\n",
       "      <td>NaN</td>\n",
       "    </tr>\n",
       "    <tr>\n",
       "      <th>2018-03-01 02:00:00</th>\n",
       "      <td>71</td>\n",
       "      <td>3</td>\n",
       "      <td>1</td>\n",
       "      <td>2</td>\n",
       "      <td>3</td>\n",
       "      <td>85.0</td>\n",
       "      <td>NaN</td>\n",
       "    </tr>\n",
       "  </tbody>\n",
       "</table>\n",
       "</div>"
      ],
      "text/plain": [
       "                     num_orders  month  day  hour  dayofweek  lag_1  \\\n",
       "datetime                                                              \n",
       "2018-03-01 00:00:00         124      3    1     0          3    NaN   \n",
       "2018-03-01 01:00:00          85      3    1     1          3  124.0   \n",
       "2018-03-01 02:00:00          71      3    1     2          3   85.0   \n",
       "\n",
       "                     rolling_mean  \n",
       "datetime                           \n",
       "2018-03-01 00:00:00           NaN  \n",
       "2018-03-01 01:00:00           NaN  \n",
       "2018-03-01 02:00:00           NaN  "
      ]
     },
     "metadata": {},
     "output_type": "display_data"
    },
    {
     "name": "stdout",
     "output_type": "stream",
     "text": [
      "RSME = 31.46 при lag= 3\n"
     ]
    },
    {
     "data": {
      "text/html": [
       "<div>\n",
       "<style scoped>\n",
       "    .dataframe tbody tr th:only-of-type {\n",
       "        vertical-align: middle;\n",
       "    }\n",
       "\n",
       "    .dataframe tbody tr th {\n",
       "        vertical-align: top;\n",
       "    }\n",
       "\n",
       "    .dataframe thead th {\n",
       "        text-align: right;\n",
       "    }\n",
       "</style>\n",
       "<table border=\"1\" class=\"dataframe\">\n",
       "  <thead>\n",
       "    <tr style=\"text-align: right;\">\n",
       "      <th></th>\n",
       "      <th>num_orders</th>\n",
       "      <th>month</th>\n",
       "      <th>day</th>\n",
       "      <th>hour</th>\n",
       "      <th>dayofweek</th>\n",
       "      <th>lag_1</th>\n",
       "      <th>rolling_mean</th>\n",
       "      <th>lag_2</th>\n",
       "      <th>lag_3</th>\n",
       "    </tr>\n",
       "    <tr>\n",
       "      <th>datetime</th>\n",
       "      <th></th>\n",
       "      <th></th>\n",
       "      <th></th>\n",
       "      <th></th>\n",
       "      <th></th>\n",
       "      <th></th>\n",
       "      <th></th>\n",
       "      <th></th>\n",
       "      <th></th>\n",
       "    </tr>\n",
       "  </thead>\n",
       "  <tbody>\n",
       "    <tr>\n",
       "      <th>2018-03-01 00:00:00</th>\n",
       "      <td>124</td>\n",
       "      <td>3</td>\n",
       "      <td>1</td>\n",
       "      <td>0</td>\n",
       "      <td>3</td>\n",
       "      <td>NaN</td>\n",
       "      <td>NaN</td>\n",
       "      <td>NaN</td>\n",
       "      <td>NaN</td>\n",
       "    </tr>\n",
       "    <tr>\n",
       "      <th>2018-03-01 01:00:00</th>\n",
       "      <td>85</td>\n",
       "      <td>3</td>\n",
       "      <td>1</td>\n",
       "      <td>1</td>\n",
       "      <td>3</td>\n",
       "      <td>124.0</td>\n",
       "      <td>NaN</td>\n",
       "      <td>NaN</td>\n",
       "      <td>NaN</td>\n",
       "    </tr>\n",
       "    <tr>\n",
       "      <th>2018-03-01 02:00:00</th>\n",
       "      <td>71</td>\n",
       "      <td>3</td>\n",
       "      <td>1</td>\n",
       "      <td>2</td>\n",
       "      <td>3</td>\n",
       "      <td>85.0</td>\n",
       "      <td>NaN</td>\n",
       "      <td>124.0</td>\n",
       "      <td>NaN</td>\n",
       "    </tr>\n",
       "  </tbody>\n",
       "</table>\n",
       "</div>"
      ],
      "text/plain": [
       "                     num_orders  month  day  hour  dayofweek  lag_1  \\\n",
       "datetime                                                              \n",
       "2018-03-01 00:00:00         124      3    1     0          3    NaN   \n",
       "2018-03-01 01:00:00          85      3    1     1          3  124.0   \n",
       "2018-03-01 02:00:00          71      3    1     2          3   85.0   \n",
       "\n",
       "                     rolling_mean  lag_2  lag_3  \n",
       "datetime                                         \n",
       "2018-03-01 00:00:00           NaN    NaN    NaN  \n",
       "2018-03-01 01:00:00           NaN    NaN    NaN  \n",
       "2018-03-01 02:00:00           NaN  124.0    NaN  "
      ]
     },
     "metadata": {},
     "output_type": "display_data"
    },
    {
     "name": "stdout",
     "output_type": "stream",
     "text": [
      "RSME = 31.48 при lag= 6\n"
     ]
    },
    {
     "data": {
      "text/html": [
       "<div>\n",
       "<style scoped>\n",
       "    .dataframe tbody tr th:only-of-type {\n",
       "        vertical-align: middle;\n",
       "    }\n",
       "\n",
       "    .dataframe tbody tr th {\n",
       "        vertical-align: top;\n",
       "    }\n",
       "\n",
       "    .dataframe thead th {\n",
       "        text-align: right;\n",
       "    }\n",
       "</style>\n",
       "<table border=\"1\" class=\"dataframe\">\n",
       "  <thead>\n",
       "    <tr style=\"text-align: right;\">\n",
       "      <th></th>\n",
       "      <th>num_orders</th>\n",
       "      <th>month</th>\n",
       "      <th>day</th>\n",
       "      <th>hour</th>\n",
       "      <th>dayofweek</th>\n",
       "      <th>lag_1</th>\n",
       "      <th>rolling_mean</th>\n",
       "      <th>lag_2</th>\n",
       "      <th>lag_3</th>\n",
       "      <th>lag_4</th>\n",
       "      <th>lag_5</th>\n",
       "      <th>lag_6</th>\n",
       "    </tr>\n",
       "    <tr>\n",
       "      <th>datetime</th>\n",
       "      <th></th>\n",
       "      <th></th>\n",
       "      <th></th>\n",
       "      <th></th>\n",
       "      <th></th>\n",
       "      <th></th>\n",
       "      <th></th>\n",
       "      <th></th>\n",
       "      <th></th>\n",
       "      <th></th>\n",
       "      <th></th>\n",
       "      <th></th>\n",
       "    </tr>\n",
       "  </thead>\n",
       "  <tbody>\n",
       "    <tr>\n",
       "      <th>2018-03-01 00:00:00</th>\n",
       "      <td>124</td>\n",
       "      <td>3</td>\n",
       "      <td>1</td>\n",
       "      <td>0</td>\n",
       "      <td>3</td>\n",
       "      <td>NaN</td>\n",
       "      <td>NaN</td>\n",
       "      <td>NaN</td>\n",
       "      <td>NaN</td>\n",
       "      <td>NaN</td>\n",
       "      <td>NaN</td>\n",
       "      <td>NaN</td>\n",
       "    </tr>\n",
       "    <tr>\n",
       "      <th>2018-03-01 01:00:00</th>\n",
       "      <td>85</td>\n",
       "      <td>3</td>\n",
       "      <td>1</td>\n",
       "      <td>1</td>\n",
       "      <td>3</td>\n",
       "      <td>124.0</td>\n",
       "      <td>NaN</td>\n",
       "      <td>NaN</td>\n",
       "      <td>NaN</td>\n",
       "      <td>NaN</td>\n",
       "      <td>NaN</td>\n",
       "      <td>NaN</td>\n",
       "    </tr>\n",
       "    <tr>\n",
       "      <th>2018-03-01 02:00:00</th>\n",
       "      <td>71</td>\n",
       "      <td>3</td>\n",
       "      <td>1</td>\n",
       "      <td>2</td>\n",
       "      <td>3</td>\n",
       "      <td>85.0</td>\n",
       "      <td>NaN</td>\n",
       "      <td>124.0</td>\n",
       "      <td>NaN</td>\n",
       "      <td>NaN</td>\n",
       "      <td>NaN</td>\n",
       "      <td>NaN</td>\n",
       "    </tr>\n",
       "  </tbody>\n",
       "</table>\n",
       "</div>"
      ],
      "text/plain": [
       "                     num_orders  month  day  hour  dayofweek  lag_1  \\\n",
       "datetime                                                              \n",
       "2018-03-01 00:00:00         124      3    1     0          3    NaN   \n",
       "2018-03-01 01:00:00          85      3    1     1          3  124.0   \n",
       "2018-03-01 02:00:00          71      3    1     2          3   85.0   \n",
       "\n",
       "                     rolling_mean  lag_2  lag_3  lag_4  lag_5  lag_6  \n",
       "datetime                                                              \n",
       "2018-03-01 00:00:00           NaN    NaN    NaN    NaN    NaN    NaN  \n",
       "2018-03-01 01:00:00           NaN    NaN    NaN    NaN    NaN    NaN  \n",
       "2018-03-01 02:00:00           NaN  124.0    NaN    NaN    NaN    NaN  "
      ]
     },
     "metadata": {},
     "output_type": "display_data"
    },
    {
     "name": "stdout",
     "output_type": "stream",
     "text": [
      "RSME = 31.36 при lag= 12\n"
     ]
    },
    {
     "data": {
      "text/html": [
       "<div>\n",
       "<style scoped>\n",
       "    .dataframe tbody tr th:only-of-type {\n",
       "        vertical-align: middle;\n",
       "    }\n",
       "\n",
       "    .dataframe tbody tr th {\n",
       "        vertical-align: top;\n",
       "    }\n",
       "\n",
       "    .dataframe thead th {\n",
       "        text-align: right;\n",
       "    }\n",
       "</style>\n",
       "<table border=\"1\" class=\"dataframe\">\n",
       "  <thead>\n",
       "    <tr style=\"text-align: right;\">\n",
       "      <th></th>\n",
       "      <th>num_orders</th>\n",
       "      <th>month</th>\n",
       "      <th>day</th>\n",
       "      <th>hour</th>\n",
       "      <th>dayofweek</th>\n",
       "      <th>lag_1</th>\n",
       "      <th>rolling_mean</th>\n",
       "      <th>lag_2</th>\n",
       "      <th>lag_3</th>\n",
       "      <th>lag_4</th>\n",
       "      <th>lag_5</th>\n",
       "      <th>lag_6</th>\n",
       "      <th>lag_7</th>\n",
       "      <th>lag_8</th>\n",
       "      <th>lag_9</th>\n",
       "      <th>lag_10</th>\n",
       "      <th>lag_11</th>\n",
       "      <th>lag_12</th>\n",
       "    </tr>\n",
       "    <tr>\n",
       "      <th>datetime</th>\n",
       "      <th></th>\n",
       "      <th></th>\n",
       "      <th></th>\n",
       "      <th></th>\n",
       "      <th></th>\n",
       "      <th></th>\n",
       "      <th></th>\n",
       "      <th></th>\n",
       "      <th></th>\n",
       "      <th></th>\n",
       "      <th></th>\n",
       "      <th></th>\n",
       "      <th></th>\n",
       "      <th></th>\n",
       "      <th></th>\n",
       "      <th></th>\n",
       "      <th></th>\n",
       "      <th></th>\n",
       "    </tr>\n",
       "  </thead>\n",
       "  <tbody>\n",
       "    <tr>\n",
       "      <th>2018-03-01 00:00:00</th>\n",
       "      <td>124</td>\n",
       "      <td>3</td>\n",
       "      <td>1</td>\n",
       "      <td>0</td>\n",
       "      <td>3</td>\n",
       "      <td>NaN</td>\n",
       "      <td>NaN</td>\n",
       "      <td>NaN</td>\n",
       "      <td>NaN</td>\n",
       "      <td>NaN</td>\n",
       "      <td>NaN</td>\n",
       "      <td>NaN</td>\n",
       "      <td>NaN</td>\n",
       "      <td>NaN</td>\n",
       "      <td>NaN</td>\n",
       "      <td>NaN</td>\n",
       "      <td>NaN</td>\n",
       "      <td>NaN</td>\n",
       "    </tr>\n",
       "    <tr>\n",
       "      <th>2018-03-01 01:00:00</th>\n",
       "      <td>85</td>\n",
       "      <td>3</td>\n",
       "      <td>1</td>\n",
       "      <td>1</td>\n",
       "      <td>3</td>\n",
       "      <td>124.0</td>\n",
       "      <td>NaN</td>\n",
       "      <td>NaN</td>\n",
       "      <td>NaN</td>\n",
       "      <td>NaN</td>\n",
       "      <td>NaN</td>\n",
       "      <td>NaN</td>\n",
       "      <td>NaN</td>\n",
       "      <td>NaN</td>\n",
       "      <td>NaN</td>\n",
       "      <td>NaN</td>\n",
       "      <td>NaN</td>\n",
       "      <td>NaN</td>\n",
       "    </tr>\n",
       "    <tr>\n",
       "      <th>2018-03-01 02:00:00</th>\n",
       "      <td>71</td>\n",
       "      <td>3</td>\n",
       "      <td>1</td>\n",
       "      <td>2</td>\n",
       "      <td>3</td>\n",
       "      <td>85.0</td>\n",
       "      <td>NaN</td>\n",
       "      <td>124.0</td>\n",
       "      <td>NaN</td>\n",
       "      <td>NaN</td>\n",
       "      <td>NaN</td>\n",
       "      <td>NaN</td>\n",
       "      <td>NaN</td>\n",
       "      <td>NaN</td>\n",
       "      <td>NaN</td>\n",
       "      <td>NaN</td>\n",
       "      <td>NaN</td>\n",
       "      <td>NaN</td>\n",
       "    </tr>\n",
       "  </tbody>\n",
       "</table>\n",
       "</div>"
      ],
      "text/plain": [
       "                     num_orders  month  day  hour  dayofweek  lag_1  \\\n",
       "datetime                                                              \n",
       "2018-03-01 00:00:00         124      3    1     0          3    NaN   \n",
       "2018-03-01 01:00:00          85      3    1     1          3  124.0   \n",
       "2018-03-01 02:00:00          71      3    1     2          3   85.0   \n",
       "\n",
       "                     rolling_mean  lag_2  lag_3  lag_4  lag_5  lag_6  lag_7  \\\n",
       "datetime                                                                      \n",
       "2018-03-01 00:00:00           NaN    NaN    NaN    NaN    NaN    NaN    NaN   \n",
       "2018-03-01 01:00:00           NaN    NaN    NaN    NaN    NaN    NaN    NaN   \n",
       "2018-03-01 02:00:00           NaN  124.0    NaN    NaN    NaN    NaN    NaN   \n",
       "\n",
       "                     lag_8  lag_9  lag_10  lag_11  lag_12  \n",
       "datetime                                                   \n",
       "2018-03-01 00:00:00    NaN    NaN     NaN     NaN     NaN  \n",
       "2018-03-01 01:00:00    NaN    NaN     NaN     NaN     NaN  \n",
       "2018-03-01 02:00:00    NaN    NaN     NaN     NaN     NaN  "
      ]
     },
     "metadata": {},
     "output_type": "display_data"
    },
    {
     "name": "stdout",
     "output_type": "stream",
     "text": [
      "RSME = 26.94 при lag= 24\n"
     ]
    },
    {
     "data": {
      "text/html": [
       "<div>\n",
       "<style scoped>\n",
       "    .dataframe tbody tr th:only-of-type {\n",
       "        vertical-align: middle;\n",
       "    }\n",
       "\n",
       "    .dataframe tbody tr th {\n",
       "        vertical-align: top;\n",
       "    }\n",
       "\n",
       "    .dataframe thead th {\n",
       "        text-align: right;\n",
       "    }\n",
       "</style>\n",
       "<table border=\"1\" class=\"dataframe\">\n",
       "  <thead>\n",
       "    <tr style=\"text-align: right;\">\n",
       "      <th></th>\n",
       "      <th>num_orders</th>\n",
       "      <th>month</th>\n",
       "      <th>day</th>\n",
       "      <th>hour</th>\n",
       "      <th>dayofweek</th>\n",
       "      <th>lag_1</th>\n",
       "      <th>rolling_mean</th>\n",
       "      <th>lag_2</th>\n",
       "      <th>lag_3</th>\n",
       "      <th>lag_4</th>\n",
       "      <th>...</th>\n",
       "      <th>lag_15</th>\n",
       "      <th>lag_16</th>\n",
       "      <th>lag_17</th>\n",
       "      <th>lag_18</th>\n",
       "      <th>lag_19</th>\n",
       "      <th>lag_20</th>\n",
       "      <th>lag_21</th>\n",
       "      <th>lag_22</th>\n",
       "      <th>lag_23</th>\n",
       "      <th>lag_24</th>\n",
       "    </tr>\n",
       "    <tr>\n",
       "      <th>datetime</th>\n",
       "      <th></th>\n",
       "      <th></th>\n",
       "      <th></th>\n",
       "      <th></th>\n",
       "      <th></th>\n",
       "      <th></th>\n",
       "      <th></th>\n",
       "      <th></th>\n",
       "      <th></th>\n",
       "      <th></th>\n",
       "      <th></th>\n",
       "      <th></th>\n",
       "      <th></th>\n",
       "      <th></th>\n",
       "      <th></th>\n",
       "      <th></th>\n",
       "      <th></th>\n",
       "      <th></th>\n",
       "      <th></th>\n",
       "      <th></th>\n",
       "      <th></th>\n",
       "    </tr>\n",
       "  </thead>\n",
       "  <tbody>\n",
       "    <tr>\n",
       "      <th>2018-03-01 00:00:00</th>\n",
       "      <td>124</td>\n",
       "      <td>3</td>\n",
       "      <td>1</td>\n",
       "      <td>0</td>\n",
       "      <td>3</td>\n",
       "      <td>NaN</td>\n",
       "      <td>NaN</td>\n",
       "      <td>NaN</td>\n",
       "      <td>NaN</td>\n",
       "      <td>NaN</td>\n",
       "      <td>...</td>\n",
       "      <td>NaN</td>\n",
       "      <td>NaN</td>\n",
       "      <td>NaN</td>\n",
       "      <td>NaN</td>\n",
       "      <td>NaN</td>\n",
       "      <td>NaN</td>\n",
       "      <td>NaN</td>\n",
       "      <td>NaN</td>\n",
       "      <td>NaN</td>\n",
       "      <td>NaN</td>\n",
       "    </tr>\n",
       "    <tr>\n",
       "      <th>2018-03-01 01:00:00</th>\n",
       "      <td>85</td>\n",
       "      <td>3</td>\n",
       "      <td>1</td>\n",
       "      <td>1</td>\n",
       "      <td>3</td>\n",
       "      <td>124.0</td>\n",
       "      <td>NaN</td>\n",
       "      <td>NaN</td>\n",
       "      <td>NaN</td>\n",
       "      <td>NaN</td>\n",
       "      <td>...</td>\n",
       "      <td>NaN</td>\n",
       "      <td>NaN</td>\n",
       "      <td>NaN</td>\n",
       "      <td>NaN</td>\n",
       "      <td>NaN</td>\n",
       "      <td>NaN</td>\n",
       "      <td>NaN</td>\n",
       "      <td>NaN</td>\n",
       "      <td>NaN</td>\n",
       "      <td>NaN</td>\n",
       "    </tr>\n",
       "    <tr>\n",
       "      <th>2018-03-01 02:00:00</th>\n",
       "      <td>71</td>\n",
       "      <td>3</td>\n",
       "      <td>1</td>\n",
       "      <td>2</td>\n",
       "      <td>3</td>\n",
       "      <td>85.0</td>\n",
       "      <td>NaN</td>\n",
       "      <td>124.0</td>\n",
       "      <td>NaN</td>\n",
       "      <td>NaN</td>\n",
       "      <td>...</td>\n",
       "      <td>NaN</td>\n",
       "      <td>NaN</td>\n",
       "      <td>NaN</td>\n",
       "      <td>NaN</td>\n",
       "      <td>NaN</td>\n",
       "      <td>NaN</td>\n",
       "      <td>NaN</td>\n",
       "      <td>NaN</td>\n",
       "      <td>NaN</td>\n",
       "      <td>NaN</td>\n",
       "    </tr>\n",
       "  </tbody>\n",
       "</table>\n",
       "<p>3 rows × 30 columns</p>\n",
       "</div>"
      ],
      "text/plain": [
       "                     num_orders  month  day  hour  dayofweek  lag_1  \\\n",
       "datetime                                                              \n",
       "2018-03-01 00:00:00         124      3    1     0          3    NaN   \n",
       "2018-03-01 01:00:00          85      3    1     1          3  124.0   \n",
       "2018-03-01 02:00:00          71      3    1     2          3   85.0   \n",
       "\n",
       "                     rolling_mean  lag_2  lag_3  lag_4  ...  lag_15  lag_16  \\\n",
       "datetime                                                ...                   \n",
       "2018-03-01 00:00:00           NaN    NaN    NaN    NaN  ...     NaN     NaN   \n",
       "2018-03-01 01:00:00           NaN    NaN    NaN    NaN  ...     NaN     NaN   \n",
       "2018-03-01 02:00:00           NaN  124.0    NaN    NaN  ...     NaN     NaN   \n",
       "\n",
       "                     lag_17  lag_18  lag_19  lag_20  lag_21  lag_22  lag_23  \\\n",
       "datetime                                                                      \n",
       "2018-03-01 00:00:00     NaN     NaN     NaN     NaN     NaN     NaN     NaN   \n",
       "2018-03-01 01:00:00     NaN     NaN     NaN     NaN     NaN     NaN     NaN   \n",
       "2018-03-01 02:00:00     NaN     NaN     NaN     NaN     NaN     NaN     NaN   \n",
       "\n",
       "                     lag_24  \n",
       "datetime                     \n",
       "2018-03-01 00:00:00     NaN  \n",
       "2018-03-01 01:00:00     NaN  \n",
       "2018-03-01 02:00:00     NaN  \n",
       "\n",
       "[3 rows x 30 columns]"
      ]
     },
     "metadata": {},
     "output_type": "display_data"
    }
   ],
   "source": [
    "display(make_features(data, 1, 24).head(3))\n",
    "display(make_features(data, 3, 24).head(3))\n",
    "display(make_features(data, 6, 24).head(3))\n",
    "display(make_features(data, 12, 24).head(3))\n",
    "display(make_features(data, 24, 24).head(3))"
   ]
  },
  {
   "cell_type": "markdown",
   "metadata": {},
   "source": [
    "###  Параметры после анализа\n",
    "\n",
    "Минимальное значение RSME при lag= 24  \n",
    "Далее придерживаемся данных условий  "
   ]
  },
  {
   "cell_type": "code",
   "execution_count": 10,
   "metadata": {},
   "outputs": [
    {
     "name": "stdout",
     "output_type": "stream",
     "text": [
      "RSME = 26.94 при lag= 24\n"
     ]
    }
   ],
   "source": [
    "make_features(data, 24, 24)\n",
    "train, test = train_test_split(data, shuffle=False, test_size=0.1)\n",
    "\n",
    "train = train.dropna()\n",
    "    \n",
    "X_train = train.drop('num_orders',axis=1)\n",
    "X_test = test.drop('num_orders',axis=1)\n",
    "Y_train = train['num_orders']\n",
    "Y_test = test['num_orders']\n"
   ]
  },
  {
   "cell_type": "code",
   "execution_count": 11,
   "metadata": {},
   "outputs": [
    {
     "data": {
      "text/plain": [
       "(3950, 29)"
      ]
     },
     "metadata": {},
     "output_type": "display_data"
    },
    {
     "data": {
      "text/plain": [
       "(3950,)"
      ]
     },
     "metadata": {},
     "output_type": "display_data"
    },
    {
     "data": {
      "text/plain": [
       "(442, 29)"
      ]
     },
     "metadata": {},
     "output_type": "display_data"
    },
    {
     "data": {
      "text/plain": [
       "(442,)"
      ]
     },
     "metadata": {},
     "output_type": "display_data"
    }
   ],
   "source": [
    "display(X_train.shape)\n",
    "display(Y_train.shape)\n",
    "display(X_test.shape)\n",
    "display(Y_test.shape)"
   ]
  },
  {
   "cell_type": "markdown",
   "metadata": {},
   "source": [
    "## Обучение"
   ]
  },
  {
   "cell_type": "markdown",
   "metadata": {},
   "source": [
    "###  Линейная"
   ]
  },
  {
   "cell_type": "code",
   "execution_count": 12,
   "metadata": {},
   "outputs": [
    {
     "name": "stdout",
     "output_type": "stream",
     "text": [
      "RMSE: 45.81094888906951\n"
     ]
    }
   ],
   "source": [
    "model_lr = LinearRegression() \n",
    "model_lr.fit(X_train, Y_train)\n",
    " \n",
    "predictions = model_lr.predict(X_test)  \n",
    "print(\"RMSE:\",mean_squared_error(Y_test,predictions,squared= False))"
   ]
  },
  {
   "cell_type": "markdown",
   "metadata": {},
   "source": [
    "### Дерево решений"
   ]
  },
  {
   "cell_type": "code",
   "execution_count": 13,
   "metadata": {},
   "outputs": [
    {
     "name": "stdout",
     "output_type": "stream",
     "text": [
      "Лучшая RMSE: 28.776013240838164 при параметрах {'max_depth': 15, 'min_samples_leaf': 27, 'min_samples_split': 2}\n"
     ]
    }
   ],
   "source": [
    "model_DT= DecisionTreeRegressor(random_state=12345)\n",
    "param_grid = {  'min_samples_split': range(2, 20),  \"max_depth\" : range(15,16),\"min_samples_leaf\" : range(20,30)}\n",
    "\n",
    "gsearch = GridSearchCV(model_DT, \n",
    "                       param_grid = param_grid, \n",
    "                       scoring='neg_root_mean_squared_error', \n",
    "                       cv=TimeSeriesSplit(n_splits=5))\n",
    "\n",
    "model_DT = gsearch.fit(X_train,Y_train)\n",
    "print(f'Лучшая RMSE: {-model_DT.best_score_} при параметрах {model_DT.best_params_}')"
   ]
  },
  {
   "cell_type": "markdown",
   "metadata": {},
   "source": [
    "### LGBM"
   ]
  },
  {
   "cell_type": "code",
   "execution_count": 14,
   "metadata": {},
   "outputs": [
    {
     "name": "stdout",
     "output_type": "stream",
     "text": [
      "Best RMSE: 24.853726148098758 при параметрах ,{'max_depth': 11, 'n_estimators': 52}\n"
     ]
    }
   ],
   "source": [
    "LGBM_model= LGBMRegressor(random_state=12345, n_jobs=2)\n",
    "\n",
    "param_grid = { \"max_depth\" : range(10,20), \"n_estimators\" : range(50,60)}\n",
    "\n",
    "gsearch = GridSearchCV(LGBM_model, param_grid = param_grid, scoring='neg_root_mean_squared_error', cv=TimeSeriesSplit(n_splits=5))\n",
    "LGBM_model = gsearch.fit(X_train,Y_train)\n",
    "print(f'Best RMSE: {-LGBM_model.best_score_} при параметрах ,{LGBM_model.best_params_}')"
   ]
  },
  {
   "cell_type": "markdown",
   "metadata": {},
   "source": [
    "Минимальное значение RSME= 24.853726148098758 при обучении модели методом LGBM. \n",
    "Гиперпараметры {'max_depth': 11, 'n_estimators': 52}"
   ]
  },
  {
   "cell_type": "markdown",
   "metadata": {},
   "source": [
    "### Сравнение"
   ]
  },
  {
   "cell_type": "code",
   "execution_count": 15,
   "metadata": {},
   "outputs": [
    {
     "name": "stdout",
     "output_type": "stream",
     "text": [
      "26.941338395918326 28.963286602403134 24.967172120164644\n"
     ]
    }
   ],
   "source": [
    "RSME_lr = -cross_val_score(model_lr, \n",
    "                           X_train, \n",
    "                           Y_train, \n",
    "                           scoring='neg_root_mean_squared_error', \n",
    "                           cv=TimeSeriesSplit(n_splits=5)).mean()\n",
    "\n",
    "RSME_DT = -cross_val_score(model_DT, \n",
    "                           X_train, \n",
    "                           Y_train, \n",
    "                           scoring='neg_root_mean_squared_error', \n",
    "                           cv=TimeSeriesSplit(n_splits=5)).mean()\n",
    "RSME_LGBM= -cross_val_score(LGBM_model, \n",
    "                             X_train, \n",
    "                             Y_train,  \n",
    "                             scoring='neg_root_mean_squared_error', \n",
    "                             cv=TimeSeriesSplit(n_splits=5)).mean()\n",
    "print( RSME_lr , RSME_DT ,RSME_LGBM)"
   ]
  },
  {
   "cell_type": "markdown",
   "metadata": {},
   "source": [
    "## Тестирование\n",
    "\n",
    "Финальные тесты"
   ]
  },
  {
   "cell_type": "code",
   "execution_count": 16,
   "metadata": {},
   "outputs": [],
   "source": [
    " \n",
    "lr_predictions = model_lr.predict(X_test)\n",
    "RSME_lr_test = mean_squared_error(Y_test, lr_predictions,squared= False)"
   ]
  },
  {
   "cell_type": "code",
   "execution_count": 17,
   "metadata": {},
   "outputs": [],
   "source": [
    " \n",
    "DT_predictions = model_DT.predict(X_test)\n",
    "RSME_DT_test = mean_squared_error(Y_test, DT_predictions,squared= False)"
   ]
  },
  {
   "cell_type": "code",
   "execution_count": 18,
   "metadata": {},
   "outputs": [],
   "source": [
    "  \n",
    "LGBM_predictions = LGBM_model.predict(X_test)\n",
    "RSME_LGBM_test = mean_squared_error(Y_test, LGBM_predictions,squared= False)"
   ]
  },
  {
   "cell_type": "code",
   "execution_count": 19,
   "metadata": {},
   "outputs": [
    {
     "name": "stdout",
     "output_type": "stream",
     "text": [
      "45.81094888906951 56.188282345206964 41.815066813207096\n"
     ]
    }
   ],
   "source": [
    "\n",
    "print(RSME_lr_test,RSME_DT_test,RSME_LGBM_test )"
   ]
  },
  {
   "cell_type": "markdown",
   "metadata": {},
   "source": [
    "### Визуализация"
   ]
  },
  {
   "cell_type": "code",
   "execution_count": 23,
   "metadata": {},
   "outputs": [
    {
     "data": {
      "image/png": "[encoded data removed]",
      "text/plain": [
       "<Figure size 1152x576 with 1 Axes>"
      ]
     },
     "metadata": {
      "needs_background": "light"
     },
     "output_type": "display_data"
    }
   ],
   "source": [
    "plt.figure(figsize=(16, 8)) \n",
    "plt.scatter(y= Y_test, x= Y_test.index, label='Data')\n",
    "plt.scatter(y= lr_predictions, x= Y_test.index, label='Predictions')\n",
    "plt.legend(loc='upper left')\n",
    "plt.title('Linear')\n",
    "plt.show() \n",
    " \n"
   ]
  },
  {
   "cell_type": "code",
   "execution_count": 24,
   "metadata": {},
   "outputs": [
    {
     "data": {
      "image/png": "[encoded data removed]",
      "text/plain": [
       "<Figure size 1152x576 with 1 Axes>"
      ]
     },
     "metadata": {
      "needs_background": "light"
     },
     "output_type": "display_data"
    }
   ],
   "source": [
    "plt.figure(figsize=(16, 8)) \n",
    "plt.scatter(y= Y_test, x= Y_test.index, label='Data')\n",
    "plt.scatter(y= DT_predictions, x= Y_test.index, label='Predictions')\n",
    "plt.legend(loc='upper left')\n",
    "plt.title('DT')\n",
    "plt.show() \n",
    " "
   ]
  },
  {
   "cell_type": "code",
   "execution_count": 25,
   "metadata": {},
   "outputs": [
    {
     "data": {
      "image/png": "[encoded data removed]",
      "text/plain": [
       "<Figure size 1152x576 with 1 Axes>"
      ]
     },
     "metadata": {
      "needs_background": "light"
     },
     "output_type": "display_data"
    }
   ],
   "source": [
    "plt.figure(figsize=(16, 8)) \n",
    "plt.scatter(y= Y_test, x= Y_test.index, label='Data')\n",
    "plt.scatter(y= LGBM_predictions, x= Y_test.index, label='Predictions')\n",
    "plt.legend(loc='upper left')\n",
    "plt.title('LGBM')\n",
    "plt.show() \n",
    " "
   ]
  },
  {
   "cell_type": "markdown",
   "metadata": {},
   "source": [
    "## Чек-лист проверки"
   ]
  },
  {
   "cell_type": "markdown",
   "metadata": {},
   "source": [
    "- [x]  Jupyter Notebook открыт\n",
    "- [x]  Весь код выполняется без ошибок\n",
    "- [x]  Ячейки с кодом расположены в порядке исполнения\n",
    "- [x]  Данные загружены и подготовлены\n",
    "- [x]  Данные проанализированы\n",
    "- [x]  Модель обучена, гиперпараметры подобраны\n",
    "- [x]  Качество моделей проверено, выводы сделаны\n",
    "- [x]  Значение *RMSE* на тестовой выборке не больше 48"
   ]
  },
  {
   "cell_type": "markdown",
   "metadata": {},
   "source": [
    "## Вывод  \n",
    "\n",
    "\n",
    "\n"
   ]
  },
  {
   "cell_type": "markdown",
   "metadata": {},
   "source": [
    "В ходе проекта были обработаны данные о заказах такси. \n",
    " \n",
    "Для прогноза количества заказов такси были построены 3 модели предскания.  \n",
    "\n",
    "Самой эффективной моделью, которая показала минимальную метрику RSME(41.815 ) является модель градиентного бустинга библиотеки LightGBM. \n",
    "\n",
    "Требование о значении метрики RMSE выполнено."
   ]
  },
  {
   "cell_type": "code",
   "execution_count": null,
   "metadata": {},
   "outputs": [],
   "source": []
  }
 ],
 "metadata": {
  "ExecuteTimeLog": [
   {
    "duration": 52,
    "start_time": "2023-12-25T20:38:27.780Z"
   },
   {
    "duration": 14038,
    "start_time": "2023-12-25T20:39:07.021Z"
   },
   {
    "duration": 152,
    "start_time": "2023-12-25T20:39:21.061Z"
   },
   {
    "duration": 4,
    "start_time": "2023-12-25T20:40:52.275Z"
   },
   {
    "duration": 15,
    "start_time": "2023-12-25T20:54:32.871Z"
   },
   {
    "duration": 1746,
    "start_time": "2023-12-26T13:12:54.599Z"
   },
   {
    "duration": 120,
    "start_time": "2023-12-26T13:12:56.347Z"
   },
   {
    "duration": 11,
    "start_time": "2023-12-26T13:12:56.469Z"
   },
   {
    "duration": 1504,
    "start_time": "2023-12-26T13:14:17.223Z"
   },
   {
    "duration": 58,
    "start_time": "2023-12-26T13:14:18.729Z"
   },
   {
    "duration": 11,
    "start_time": "2023-12-26T13:14:18.788Z"
   },
   {
    "duration": 9,
    "start_time": "2023-12-26T13:14:18.801Z"
   },
   {
    "duration": 15,
    "start_time": "2023-12-26T13:14:18.812Z"
   },
   {
    "duration": 776,
    "start_time": "2023-12-26T13:20:35.125Z"
   },
   {
    "duration": 89,
    "start_time": "2023-12-26T13:24:15.283Z"
   },
   {
    "duration": 115,
    "start_time": "2023-12-26T13:24:29.757Z"
   },
   {
    "duration": 22,
    "start_time": "2023-12-26T13:24:53.863Z"
   },
   {
    "duration": 91,
    "start_time": "2023-12-26T13:25:56.890Z"
   },
   {
    "duration": 22,
    "start_time": "2023-12-26T13:25:57.323Z"
   },
   {
    "duration": 8,
    "start_time": "2023-12-26T13:26:08.880Z"
   },
   {
    "duration": 33,
    "start_time": "2023-12-26T13:26:09.499Z"
   },
   {
    "duration": 6,
    "start_time": "2023-12-26T13:26:20.206Z"
   },
   {
    "duration": 217,
    "start_time": "2023-12-26T13:26:20.923Z"
   },
   {
    "duration": 6,
    "start_time": "2023-12-26T13:26:50.631Z"
   },
   {
    "duration": 2081,
    "start_time": "2023-12-26T13:26:50.961Z"
   },
   {
    "duration": 6,
    "start_time": "2023-12-26T13:27:05.648Z"
   },
   {
    "duration": 30,
    "start_time": "2023-12-26T13:27:07.691Z"
   },
   {
    "duration": 5,
    "start_time": "2023-12-26T13:27:23.213Z"
   },
   {
    "duration": 35,
    "start_time": "2023-12-26T13:27:25.477Z"
   },
   {
    "duration": 8,
    "start_time": "2023-12-26T13:28:40.920Z"
   },
   {
    "duration": 30,
    "start_time": "2023-12-26T13:28:42.914Z"
   },
   {
    "duration": 5,
    "start_time": "2023-12-26T13:29:18.840Z"
   },
   {
    "duration": 35,
    "start_time": "2023-12-26T13:29:21.459Z"
   },
   {
    "duration": 24,
    "start_time": "2023-12-26T13:30:01.802Z"
   },
   {
    "duration": 7,
    "start_time": "2023-12-26T13:30:06.036Z"
   },
   {
    "duration": 56,
    "start_time": "2023-12-26T13:30:07.220Z"
   },
   {
    "duration": 43,
    "start_time": "2023-12-26T13:30:19.024Z"
   },
   {
    "duration": 1456,
    "start_time": "2023-12-26T13:31:30.161Z"
   },
   {
    "duration": 56,
    "start_time": "2023-12-26T13:31:31.619Z"
   },
   {
    "duration": 83,
    "start_time": "2023-12-26T13:31:31.677Z"
   },
   {
    "duration": 38,
    "start_time": "2023-12-26T13:31:31.761Z"
   },
   {
    "duration": 57,
    "start_time": "2023-12-26T13:31:31.801Z"
   },
   {
    "duration": 813,
    "start_time": "2023-12-26T13:31:31.860Z"
   },
   {
    "duration": 7,
    "start_time": "2023-12-26T13:31:32.675Z"
   },
   {
    "duration": 74,
    "start_time": "2023-12-26T13:31:32.683Z"
   },
   {
    "duration": 73,
    "start_time": "2023-12-26T13:31:32.759Z"
   },
   {
    "duration": 1489,
    "start_time": "2023-12-26T13:31:32.834Z"
   },
   {
    "duration": 47,
    "start_time": "2023-12-26T13:35:01.201Z"
   },
   {
    "duration": 52,
    "start_time": "2023-12-26T13:35:01.394Z"
   },
   {
    "duration": 616,
    "start_time": "2023-12-26T13:35:01.905Z"
   },
   {
    "duration": 1097,
    "start_time": "2023-12-26T13:35:02.653Z"
   },
   {
    "duration": 1132,
    "start_time": "2023-12-26T13:35:25.599Z"
   },
   {
    "duration": 798,
    "start_time": "2023-12-26T13:35:26.733Z"
   },
   {
    "duration": 595,
    "start_time": "2023-12-26T13:35:27.533Z"
   },
   {
    "duration": 716,
    "start_time": "2023-12-26T13:35:28.130Z"
   },
   {
    "duration": 980,
    "start_time": "2023-12-26T13:35:28.848Z"
   },
   {
    "duration": 1413,
    "start_time": "2023-12-26T13:37:12.181Z"
   },
   {
    "duration": 57,
    "start_time": "2023-12-26T13:37:13.596Z"
   },
   {
    "duration": 11,
    "start_time": "2023-12-26T13:37:13.654Z"
   },
   {
    "duration": 10,
    "start_time": "2023-12-26T13:37:13.667Z"
   },
   {
    "duration": 7,
    "start_time": "2023-12-26T13:37:13.679Z"
   },
   {
    "duration": 805,
    "start_time": "2023-12-26T13:37:13.688Z"
   },
   {
    "duration": 7,
    "start_time": "2023-12-26T13:37:14.495Z"
   },
   {
    "duration": 72,
    "start_time": "2023-12-26T13:37:14.504Z"
   },
   {
    "duration": 171,
    "start_time": "2023-12-26T13:37:14.578Z"
   },
   {
    "duration": 5,
    "start_time": "2023-12-26T13:37:21.605Z"
   },
   {
    "duration": 22,
    "start_time": "2023-12-26T13:37:25.861Z"
   },
   {
    "duration": 6,
    "start_time": "2023-12-26T13:37:36.427Z"
   },
   {
    "duration": 186,
    "start_time": "2023-12-26T13:37:37.959Z"
   },
   {
    "duration": 1477,
    "start_time": "2023-12-26T13:39:27.130Z"
   },
   {
    "duration": 58,
    "start_time": "2023-12-26T13:39:28.609Z"
   },
   {
    "duration": 10,
    "start_time": "2023-12-26T13:39:28.669Z"
   },
   {
    "duration": 54,
    "start_time": "2023-12-26T13:39:28.680Z"
   },
   {
    "duration": 11,
    "start_time": "2023-12-26T13:39:28.736Z"
   },
   {
    "duration": 764,
    "start_time": "2023-12-26T13:39:28.749Z"
   },
   {
    "duration": 9,
    "start_time": "2023-12-26T13:39:29.515Z"
   },
   {
    "duration": 79,
    "start_time": "2023-12-26T13:39:29.526Z"
   },
   {
    "duration": 1836,
    "start_time": "2023-12-26T13:39:29.607Z"
   },
   {
    "duration": 209,
    "start_time": "2023-12-26T13:39:34.373Z"
   },
   {
    "duration": 238,
    "start_time": "2023-12-26T13:39:37.019Z"
   },
   {
    "duration": 5,
    "start_time": "2023-12-26T13:39:46.016Z"
   },
   {
    "duration": 5087,
    "start_time": "2023-12-26T13:39:47.241Z"
   },
   {
    "duration": 6,
    "start_time": "2023-12-26T14:51:20.667Z"
   },
   {
    "duration": 2932,
    "start_time": "2023-12-26T14:51:20.994Z"
   },
   {
    "duration": 6,
    "start_time": "2023-12-26T14:51:36.210Z"
   },
   {
    "duration": 4525,
    "start_time": "2023-12-26T14:51:36.510Z"
   },
   {
    "duration": 4193,
    "start_time": "2023-12-26T14:51:41.037Z"
   },
   {
    "duration": 1459,
    "start_time": "2023-12-26T14:52:42.694Z"
   },
   {
    "duration": 56,
    "start_time": "2023-12-26T14:52:44.154Z"
   },
   {
    "duration": 13,
    "start_time": "2023-12-26T14:52:44.212Z"
   },
   {
    "duration": 28,
    "start_time": "2023-12-26T14:52:44.227Z"
   },
   {
    "duration": 7,
    "start_time": "2023-12-26T14:52:44.257Z"
   },
   {
    "duration": 747,
    "start_time": "2023-12-26T14:52:44.266Z"
   },
   {
    "duration": 78,
    "start_time": "2023-12-26T14:52:45.015Z"
   },
   {
    "duration": 1937,
    "start_time": "2023-12-26T14:52:45.095Z"
   },
   {
    "duration": 4542,
    "start_time": "2023-12-26T14:59:31.190Z"
   },
   {
    "duration": 6,
    "start_time": "2023-12-26T14:59:54.982Z"
   },
   {
    "duration": 1180,
    "start_time": "2023-12-26T14:59:55.744Z"
   },
   {
    "duration": 6,
    "start_time": "2023-12-26T15:00:00.115Z"
   },
   {
    "duration": 4009,
    "start_time": "2023-12-26T15:00:00.518Z"
   },
   {
    "duration": 1493,
    "start_time": "2023-12-26T15:00:23.297Z"
   },
   {
    "duration": 59,
    "start_time": "2023-12-26T15:00:24.793Z"
   },
   {
    "duration": 13,
    "start_time": "2023-12-26T15:00:24.854Z"
   },
   {
    "duration": 30,
    "start_time": "2023-12-26T15:00:24.869Z"
   },
   {
    "duration": 47,
    "start_time": "2023-12-26T15:00:24.901Z"
   },
   {
    "duration": 731,
    "start_time": "2023-12-26T15:00:24.950Z"
   },
   {
    "duration": 91,
    "start_time": "2023-12-26T15:00:25.683Z"
   },
   {
    "duration": 0,
    "start_time": "2023-12-26T15:00:25.775Z"
   },
   {
    "duration": 0,
    "start_time": "2023-12-26T15:00:25.776Z"
   },
   {
    "duration": 8,
    "start_time": "2023-12-26T15:06:26.360Z"
   },
   {
    "duration": 5,
    "start_time": "2023-12-26T15:06:26.937Z"
   },
   {
    "duration": 1955,
    "start_time": "2023-12-26T15:06:28.375Z"
   },
   {
    "duration": 7,
    "start_time": "2023-12-26T15:07:18.296Z"
   },
   {
    "duration": 650,
    "start_time": "2023-12-26T15:07:19.282Z"
   },
   {
    "duration": 1443,
    "start_time": "2023-12-26T15:07:33.894Z"
   },
   {
    "duration": 57,
    "start_time": "2023-12-26T15:07:35.339Z"
   },
   {
    "duration": 11,
    "start_time": "2023-12-26T15:07:35.398Z"
   },
   {
    "duration": 32,
    "start_time": "2023-12-26T15:07:35.410Z"
   },
   {
    "duration": 8,
    "start_time": "2023-12-26T15:07:35.445Z"
   },
   {
    "duration": 730,
    "start_time": "2023-12-26T15:07:35.455Z"
   },
   {
    "duration": 8,
    "start_time": "2023-12-26T15:07:36.186Z"
   },
   {
    "duration": 78,
    "start_time": "2023-12-26T15:07:36.196Z"
   },
   {
    "duration": 212,
    "start_time": "2023-12-26T15:07:36.275Z"
   },
   {
    "duration": 9,
    "start_time": "2023-12-26T15:10:56.972Z"
   },
   {
    "duration": 1026,
    "start_time": "2023-12-26T15:10:59.699Z"
   },
   {
    "duration": 8,
    "start_time": "2023-12-26T15:11:00.727Z"
   },
   {
    "duration": 8,
    "start_time": "2023-12-26T15:11:10.656Z"
   },
   {
    "duration": 1460,
    "start_time": "2023-12-26T15:12:50.503Z"
   },
   {
    "duration": 55,
    "start_time": "2023-12-26T15:12:51.965Z"
   },
   {
    "duration": 10,
    "start_time": "2023-12-26T15:12:52.022Z"
   },
   {
    "duration": 8,
    "start_time": "2023-12-26T15:12:52.034Z"
   },
   {
    "duration": 6,
    "start_time": "2023-12-26T15:12:52.043Z"
   },
   {
    "duration": 747,
    "start_time": "2023-12-26T15:12:52.050Z"
   },
   {
    "duration": 9,
    "start_time": "2023-12-26T15:12:52.800Z"
   },
   {
    "duration": 88,
    "start_time": "2023-12-26T15:12:52.811Z"
   },
   {
    "duration": 1426,
    "start_time": "2023-12-26T15:12:52.900Z"
   },
   {
    "duration": 499,
    "start_time": "2023-12-26T15:12:54.327Z"
   },
   {
    "duration": 100,
    "start_time": "2023-12-26T15:12:54.828Z"
   },
   {
    "duration": 1399,
    "start_time": "2023-12-26T15:27:49.321Z"
   },
   {
    "duration": 66,
    "start_time": "2023-12-26T15:27:50.722Z"
   },
   {
    "duration": 10,
    "start_time": "2023-12-26T15:27:50.789Z"
   },
   {
    "duration": 13,
    "start_time": "2023-12-26T15:27:50.801Z"
   },
   {
    "duration": 17,
    "start_time": "2023-12-26T15:27:50.816Z"
   },
   {
    "duration": 727,
    "start_time": "2023-12-26T15:27:50.834Z"
   },
   {
    "duration": 7,
    "start_time": "2023-12-26T15:27:51.562Z"
   },
   {
    "duration": 89,
    "start_time": "2023-12-26T15:27:51.571Z"
   },
   {
    "duration": 1772,
    "start_time": "2023-12-26T15:27:51.662Z"
   },
   {
    "duration": 696,
    "start_time": "2023-12-26T15:27:53.436Z"
   },
   {
    "duration": 7,
    "start_time": "2023-12-26T15:27:54.223Z"
   },
   {
    "duration": 193,
    "start_time": "2023-12-26T15:27:54.231Z"
   },
   {
    "duration": 186,
    "start_time": "2023-12-26T15:27:54.425Z"
   },
   {
    "duration": 0,
    "start_time": "2023-12-26T15:27:54.612Z"
   },
   {
    "duration": 0,
    "start_time": "2023-12-26T15:27:54.613Z"
   },
   {
    "duration": 1339,
    "start_time": "2023-12-26T15:40:48.155Z"
   },
   {
    "duration": 55,
    "start_time": "2023-12-26T15:40:49.495Z"
   },
   {
    "duration": 10,
    "start_time": "2023-12-26T15:40:49.552Z"
   },
   {
    "duration": 13,
    "start_time": "2023-12-26T15:40:49.563Z"
   },
   {
    "duration": 7,
    "start_time": "2023-12-26T15:40:49.578Z"
   },
   {
    "duration": 718,
    "start_time": "2023-12-26T15:40:49.586Z"
   },
   {
    "duration": 17,
    "start_time": "2023-12-26T15:40:50.305Z"
   },
   {
    "duration": 86,
    "start_time": "2023-12-26T15:40:50.324Z"
   },
   {
    "duration": 1922,
    "start_time": "2023-12-26T15:40:50.412Z"
   },
   {
    "duration": 791,
    "start_time": "2023-12-26T15:40:52.336Z"
   },
   {
    "duration": 7,
    "start_time": "2023-12-26T15:40:53.128Z"
   },
   {
    "duration": 190,
    "start_time": "2023-12-26T15:40:53.136Z"
   },
   {
    "duration": 231,
    "start_time": "2023-12-26T15:40:53.327Z"
   },
   {
    "duration": 0,
    "start_time": "2023-12-26T15:40:53.560Z"
   },
   {
    "duration": 0,
    "start_time": "2023-12-26T15:40:53.562Z"
   },
   {
    "duration": 0,
    "start_time": "2023-12-26T15:40:53.563Z"
   },
   {
    "duration": 0,
    "start_time": "2023-12-26T15:40:53.565Z"
   },
   {
    "duration": 0,
    "start_time": "2023-12-26T15:40:53.566Z"
   },
   {
    "duration": 0,
    "start_time": "2023-12-26T15:40:53.568Z"
   },
   {
    "duration": 0,
    "start_time": "2023-12-26T15:40:53.569Z"
   },
   {
    "duration": 23830,
    "start_time": "2023-12-26T15:41:26.765Z"
   },
   {
    "duration": 1046,
    "start_time": "2023-12-26T15:41:50.597Z"
   },
   {
    "duration": 68915,
    "start_time": "2023-12-26T15:41:51.645Z"
   },
   {
    "duration": 162,
    "start_time": "2023-12-26T15:43:00.562Z"
   },
   {
    "duration": 0,
    "start_time": "2023-12-26T15:43:00.726Z"
   },
   {
    "duration": 1,
    "start_time": "2023-12-26T15:43:00.727Z"
   },
   {
    "duration": 0,
    "start_time": "2023-12-26T15:43:00.729Z"
   },
   {
    "duration": 0,
    "start_time": "2023-12-26T15:43:00.730Z"
   },
   {
    "duration": 6,
    "start_time": "2023-12-26T15:52:18.949Z"
   },
   {
    "duration": 5,
    "start_time": "2023-12-26T15:52:19.512Z"
   },
   {
    "duration": 7,
    "start_time": "2023-12-26T15:52:19.865Z"
   },
   {
    "duration": 4,
    "start_time": "2023-12-26T15:52:20.270Z"
   },
   {
    "duration": 377,
    "start_time": "2023-12-26T15:52:35.116Z"
   },
   {
    "duration": 913,
    "start_time": "2023-12-26T15:52:40.317Z"
   },
   {
    "duration": 781,
    "start_time": "2023-12-26T15:52:51.877Z"
   },
   {
    "duration": 10,
    "start_time": "2023-12-26T15:55:06.887Z"
   },
   {
    "duration": 105,
    "start_time": "2023-12-26T15:55:19.042Z"
   },
   {
    "duration": 233,
    "start_time": "2023-12-26T15:55:23.067Z"
   },
   {
    "duration": 616,
    "start_time": "2023-12-26T15:55:35.777Z"
   },
   {
    "duration": 681,
    "start_time": "2023-12-26T15:56:17.375Z"
   },
   {
    "duration": 45,
    "start_time": "2023-12-26T15:57:48.797Z"
   },
   {
    "duration": 648,
    "start_time": "2023-12-26T15:58:11.670Z"
   },
   {
    "duration": 238,
    "start_time": "2023-12-26T16:04:25.228Z"
   },
   {
    "duration": 240,
    "start_time": "2023-12-26T16:05:13.307Z"
   },
   {
    "duration": 235,
    "start_time": "2023-12-26T16:05:13.835Z"
   },
   {
    "duration": 227,
    "start_time": "2023-12-26T16:05:14.301Z"
   },
   {
    "duration": 71,
    "start_time": "2023-12-26T16:29:08.372Z"
   },
   {
    "duration": 88261,
    "start_time": "2023-12-26T16:30:19.003Z"
   },
   {
    "duration": 8,
    "start_time": "2023-12-26T16:32:12.174Z"
   },
   {
    "duration": 4,
    "start_time": "2023-12-26T16:32:14.799Z"
   },
   {
    "duration": 1586,
    "start_time": "2023-12-26T16:32:48.698Z"
   },
   {
    "duration": 57,
    "start_time": "2023-12-26T16:32:50.286Z"
   },
   {
    "duration": 15,
    "start_time": "2023-12-26T16:32:50.345Z"
   },
   {
    "duration": 28,
    "start_time": "2023-12-26T16:32:50.363Z"
   },
   {
    "duration": 14,
    "start_time": "2023-12-26T16:32:50.395Z"
   },
   {
    "duration": 836,
    "start_time": "2023-12-26T16:32:50.411Z"
   },
   {
    "duration": 10,
    "start_time": "2023-12-26T16:32:51.249Z"
   },
   {
    "duration": 7,
    "start_time": "2023-12-26T16:32:51.261Z"
   },
   {
    "duration": 2269,
    "start_time": "2023-12-26T16:32:51.270Z"
   },
   {
    "duration": 888,
    "start_time": "2023-12-26T16:32:53.542Z"
   },
   {
    "duration": 9,
    "start_time": "2023-12-26T16:32:54.433Z"
   },
   {
    "duration": 189,
    "start_time": "2023-12-26T16:32:54.444Z"
   },
   {
    "duration": 24447,
    "start_time": "2023-12-26T16:32:54.635Z"
   },
   {
    "duration": 81271,
    "start_time": "2023-12-26T16:33:19.084Z"
   },
   {
    "duration": 333479,
    "start_time": "2023-12-26T16:34:40.356Z"
   },
   {
    "duration": 14,
    "start_time": "2023-12-26T16:40:13.838Z"
   },
   {
    "duration": 9,
    "start_time": "2023-12-26T16:40:13.922Z"
   },
   {
    "duration": 8,
    "start_time": "2023-12-26T16:40:14.022Z"
   },
   {
    "duration": 8,
    "start_time": "2023-12-26T16:40:14.032Z"
   },
   {
    "duration": 336,
    "start_time": "2023-12-26T16:40:14.042Z"
   },
   {
    "duration": 244,
    "start_time": "2023-12-26T16:40:14.380Z"
   },
   {
    "duration": 259,
    "start_time": "2023-12-26T16:40:14.626Z"
   },
   {
    "duration": 275,
    "start_time": "2023-12-26T16:47:58.510Z"
   },
   {
    "duration": 266,
    "start_time": "2023-12-26T16:47:58.788Z"
   },
   {
    "duration": 268,
    "start_time": "2023-12-26T16:47:59.056Z"
   }
  ],
  "kernelspec": {
   "display_name": "Python 3 (ipykernel)",
   "language": "python",
   "name": "python3"
  },
  "language_info": {
   "codemirror_mode": {
    "name": "ipython",
    "version": 3
   },
   "file_extension": ".py",
   "mimetype": "text/x-python",
   "name": "python",
   "nbconvert_exporter": "python",
   "pygments_lexer": "ipython3",
   "version": "3.11.4"
  },
  "toc": {
   "base_numbering": 1,
   "nav_menu": {},
   "number_sections": true,
   "sideBar": true,
   "skip_h1_title": true,
   "title_cell": "Содержание",
   "title_sidebar": "Contents",
   "toc_cell": true,
   "toc_position": {},
   "toc_section_display": true,
   "toc_window_display": true
  }
 },
 "nbformat": 4,
 "nbformat_minor": 2
}
