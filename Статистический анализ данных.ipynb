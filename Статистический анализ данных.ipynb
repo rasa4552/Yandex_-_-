{
 "cells": [
  {
   "cell_type": "markdown",
   "id": "b2cfd469",
   "metadata": {},
   "source": [
    "Анализ сервиса аренды самокатов GoFast\n",
    "Вы аналитик популярного сервиса аренды самокатов GoFast. Вам передали данные о некоторых пользователях из нескольких городов, а также об их поездках. Проанализируйте данные и проверьте некоторые гипотезы, которые могут помочь бизнесу вырасти.\n",
    "\n",
    "Чтобы совершать поездки по городу, пользователи сервиса GoFast пользуются мобильным приложением. Сервисом можно пользоваться:\n",
    "\n",
    "без подписки\n",
    "абонентская плата отсутствует;  \n",
    "стоимость одной минуты поездки — 8 рублей;  \n",
    "стоимость старта (начала поездки) — 50 рублей;\n",
    "\n",
    "\n",
    "\n",
    "\n",
    "с подпиской Ultra\n",
    "абонентская плата — 199 рублей в месяц; \n",
    "стоимость одной минуты поездки — 6 рублей;   \n",
    "стоимость старта — бесплатно.\n",
    "\n",
    "Описание данных   \n",
    "Пользователи — users_go.csv  \n",
    "user_id — уникальный идентификатор пользователя  \n",
    "name — имя пользователя \n",
    "age — возраст  \n",
    "city — город  \n",
    "subscription_type — тип подписки (free, ultra)   \n",
    "\n",
    "Поeздки — rides_go.csv  \n",
    "user_id — уникальный идентификатор пользователя   \n",
    "distance — расстояние, которое пользователь проехал в текущей сессии (в метрах)    \n",
    "duration — продолжительность сессии (в минутах) — время с того момента, как пользователь нажал кнопку «Начать поездку» до \n",
    "момента, как он нажал кнопку «Завершить поездку»  \n",
    "date — дата совершения поездки  \n",
    "\n",
    "Подписки — subscriptions_go.csv  \n",
    "subscription_type — тип подписки  \n",
    "minute_price — стоимость одной минуты поездки по данной подписке  \n",
    "start_ride_price — стоимость начала поездки  \n",
    "subscription_fee — стоимость ежемесячного платежа  "
   ]
  },
  {
   "cell_type": "code",
   "execution_count": 1,
   "id": "72576667",
   "metadata": {},
   "outputs": [],
   "source": [
    "import pandas as pd\n",
    "import matplotlib.pyplot as plt\n",
    "import seaborn as sns\n",
    "import plotly.express as px\n",
    "import numpy as np\n",
    "from scipy import stats as st"
   ]
  },
  {
   "cell_type": "markdown",
   "id": "c42cbe00",
   "metadata": {},
   "source": [
    "#### Шаг 1. Загрузка данных"
   ]
  },
  {
   "cell_type": "code",
   "execution_count": 2,
   "id": "eff9f206",
   "metadata": {},
   "outputs": [],
   "source": [
    "users= pd.read_csv('/datasets/users_go.csv')\n",
    "riders= pd.read_csv('/datasets/rides_go.csv')\n",
    "subscriptions= pd.read_csv('/datasets/subscriptions_go.csv')\n",
    "\n",
    "\n"
   ]
  },
  {
   "cell_type": "code",
   "execution_count": 3,
   "id": "70acd3a5",
   "metadata": {},
   "outputs": [
    {
     "name": "stdout",
     "output_type": "stream",
     "text": [
      "<class 'pandas.core.frame.DataFrame'>\n",
      "RangeIndex: 1565 entries, 0 to 1564\n",
      "Data columns (total 5 columns):\n",
      " #   Column             Non-Null Count  Dtype \n",
      "---  ------             --------------  ----- \n",
      " 0   user_id            1565 non-null   int64 \n",
      " 1   name               1565 non-null   object\n",
      " 2   age                1565 non-null   int64 \n",
      " 3   city               1565 non-null   object\n",
      " 4   subscription_type  1565 non-null   object\n",
      "dtypes: int64(2), object(3)\n",
      "memory usage: 61.3+ KB\n"
     ]
    },
    {
     "data": {
      "text/html": [
       "<div>\n",
       "<style scoped>\n",
       "    .dataframe tbody tr th:only-of-type {\n",
       "        vertical-align: middle;\n",
       "    }\n",
       "\n",
       "    .dataframe tbody tr th {\n",
       "        vertical-align: top;\n",
       "    }\n",
       "\n",
       "    .dataframe thead th {\n",
       "        text-align: right;\n",
       "    }\n",
       "</style>\n",
       "<table border=\"1\" class=\"dataframe\">\n",
       "  <thead>\n",
       "    <tr style=\"text-align: right;\">\n",
       "      <th></th>\n",
       "      <th>user_id</th>\n",
       "      <th>name</th>\n",
       "      <th>age</th>\n",
       "      <th>city</th>\n",
       "      <th>subscription_type</th>\n",
       "    </tr>\n",
       "  </thead>\n",
       "  <tbody>\n",
       "    <tr>\n",
       "      <th>0</th>\n",
       "      <td>1</td>\n",
       "      <td>Кира</td>\n",
       "      <td>22</td>\n",
       "      <td>Тюмень</td>\n",
       "      <td>ultra</td>\n",
       "    </tr>\n",
       "    <tr>\n",
       "      <th>1</th>\n",
       "      <td>2</td>\n",
       "      <td>Станислав</td>\n",
       "      <td>31</td>\n",
       "      <td>Омск</td>\n",
       "      <td>ultra</td>\n",
       "    </tr>\n",
       "    <tr>\n",
       "      <th>2</th>\n",
       "      <td>3</td>\n",
       "      <td>Алексей</td>\n",
       "      <td>20</td>\n",
       "      <td>Москва</td>\n",
       "      <td>ultra</td>\n",
       "    </tr>\n",
       "    <tr>\n",
       "      <th>3</th>\n",
       "      <td>4</td>\n",
       "      <td>Константин</td>\n",
       "      <td>26</td>\n",
       "      <td>Ростов-на-Дону</td>\n",
       "      <td>ultra</td>\n",
       "    </tr>\n",
       "    <tr>\n",
       "      <th>4</th>\n",
       "      <td>5</td>\n",
       "      <td>Адель</td>\n",
       "      <td>28</td>\n",
       "      <td>Омск</td>\n",
       "      <td>ultra</td>\n",
       "    </tr>\n",
       "  </tbody>\n",
       "</table>\n",
       "</div>"
      ],
      "text/plain": [
       "   user_id        name  age            city subscription_type\n",
       "0        1        Кира   22          Тюмень             ultra\n",
       "1        2   Станислав   31            Омск             ultra\n",
       "2        3     Алексей   20          Москва             ultra\n",
       "3        4  Константин   26  Ростов-на-Дону             ultra\n",
       "4        5       Адель   28            Омск             ultra"
      ]
     },
     "metadata": {},
     "output_type": "display_data"
    }
   ],
   "source": [
    "users.info()\n",
    "display(users.head(5))"
   ]
  },
  {
   "cell_type": "code",
   "execution_count": 4,
   "id": "59660ee3",
   "metadata": {},
   "outputs": [
    {
     "name": "stdout",
     "output_type": "stream",
     "text": [
      "<class 'pandas.core.frame.DataFrame'>\n",
      "RangeIndex: 18068 entries, 0 to 18067\n",
      "Data columns (total 4 columns):\n",
      " #   Column    Non-Null Count  Dtype  \n",
      "---  ------    --------------  -----  \n",
      " 0   user_id   18068 non-null  int64  \n",
      " 1   distance  18068 non-null  float64\n",
      " 2   duration  18068 non-null  float64\n",
      " 3   date      18068 non-null  object \n",
      "dtypes: float64(2), int64(1), object(1)\n",
      "memory usage: 564.8+ KB\n"
     ]
    },
    {
     "data": {
      "text/html": [
       "<div>\n",
       "<style scoped>\n",
       "    .dataframe tbody tr th:only-of-type {\n",
       "        vertical-align: middle;\n",
       "    }\n",
       "\n",
       "    .dataframe tbody tr th {\n",
       "        vertical-align: top;\n",
       "    }\n",
       "\n",
       "    .dataframe thead th {\n",
       "        text-align: right;\n",
       "    }\n",
       "</style>\n",
       "<table border=\"1\" class=\"dataframe\">\n",
       "  <thead>\n",
       "    <tr style=\"text-align: right;\">\n",
       "      <th></th>\n",
       "      <th>user_id</th>\n",
       "      <th>distance</th>\n",
       "      <th>duration</th>\n",
       "      <th>date</th>\n",
       "    </tr>\n",
       "  </thead>\n",
       "  <tbody>\n",
       "    <tr>\n",
       "      <th>0</th>\n",
       "      <td>1</td>\n",
       "      <td>4409.919140</td>\n",
       "      <td>25.599769</td>\n",
       "      <td>2021-01-01</td>\n",
       "    </tr>\n",
       "    <tr>\n",
       "      <th>1</th>\n",
       "      <td>1</td>\n",
       "      <td>2617.592153</td>\n",
       "      <td>15.816871</td>\n",
       "      <td>2021-01-18</td>\n",
       "    </tr>\n",
       "    <tr>\n",
       "      <th>2</th>\n",
       "      <td>1</td>\n",
       "      <td>754.159807</td>\n",
       "      <td>6.232113</td>\n",
       "      <td>2021-04-20</td>\n",
       "    </tr>\n",
       "    <tr>\n",
       "      <th>3</th>\n",
       "      <td>1</td>\n",
       "      <td>2694.783254</td>\n",
       "      <td>18.511000</td>\n",
       "      <td>2021-08-11</td>\n",
       "    </tr>\n",
       "    <tr>\n",
       "      <th>4</th>\n",
       "      <td>1</td>\n",
       "      <td>4028.687306</td>\n",
       "      <td>26.265803</td>\n",
       "      <td>2021-08-28</td>\n",
       "    </tr>\n",
       "  </tbody>\n",
       "</table>\n",
       "</div>"
      ],
      "text/plain": [
       "   user_id     distance   duration        date\n",
       "0        1  4409.919140  25.599769  2021-01-01\n",
       "1        1  2617.592153  15.816871  2021-01-18\n",
       "2        1   754.159807   6.232113  2021-04-20\n",
       "3        1  2694.783254  18.511000  2021-08-11\n",
       "4        1  4028.687306  26.265803  2021-08-28"
      ]
     },
     "metadata": {},
     "output_type": "display_data"
    }
   ],
   "source": [
    "riders.info()\n",
    "display(riders.head(5))"
   ]
  },
  {
   "cell_type": "code",
   "execution_count": 5,
   "id": "c2e5e55f",
   "metadata": {},
   "outputs": [
    {
     "name": "stdout",
     "output_type": "stream",
     "text": [
      "<class 'pandas.core.frame.DataFrame'>\n",
      "RangeIndex: 2 entries, 0 to 1\n",
      "Data columns (total 4 columns):\n",
      " #   Column             Non-Null Count  Dtype \n",
      "---  ------             --------------  ----- \n",
      " 0   subscription_type  2 non-null      object\n",
      " 1   minute_price       2 non-null      int64 \n",
      " 2   start_ride_price   2 non-null      int64 \n",
      " 3   subscription_fee   2 non-null      int64 \n",
      "dtypes: int64(3), object(1)\n",
      "memory usage: 192.0+ bytes\n"
     ]
    },
    {
     "data": {
      "text/html": [
       "<div>\n",
       "<style scoped>\n",
       "    .dataframe tbody tr th:only-of-type {\n",
       "        vertical-align: middle;\n",
       "    }\n",
       "\n",
       "    .dataframe tbody tr th {\n",
       "        vertical-align: top;\n",
       "    }\n",
       "\n",
       "    .dataframe thead th {\n",
       "        text-align: right;\n",
       "    }\n",
       "</style>\n",
       "<table border=\"1\" class=\"dataframe\">\n",
       "  <thead>\n",
       "    <tr style=\"text-align: right;\">\n",
       "      <th></th>\n",
       "      <th>subscription_type</th>\n",
       "      <th>minute_price</th>\n",
       "      <th>start_ride_price</th>\n",
       "      <th>subscription_fee</th>\n",
       "    </tr>\n",
       "  </thead>\n",
       "  <tbody>\n",
       "    <tr>\n",
       "      <th>0</th>\n",
       "      <td>free</td>\n",
       "      <td>8</td>\n",
       "      <td>50</td>\n",
       "      <td>0</td>\n",
       "    </tr>\n",
       "    <tr>\n",
       "      <th>1</th>\n",
       "      <td>ultra</td>\n",
       "      <td>6</td>\n",
       "      <td>0</td>\n",
       "      <td>199</td>\n",
       "    </tr>\n",
       "  </tbody>\n",
       "</table>\n",
       "</div>"
      ],
      "text/plain": [
       "  subscription_type  minute_price  start_ride_price  subscription_fee\n",
       "0              free             8                50                 0\n",
       "1             ultra             6                 0               199"
      ]
     },
     "metadata": {},
     "output_type": "display_data"
    }
   ],
   "source": [
    "subscriptions.info()\n",
    "display(subscriptions.head(10))"
   ]
  },
  {
   "cell_type": "markdown",
   "id": "e95ebca7",
   "metadata": {},
   "source": [
    "#### Шаг 2. Предобработка данных"
   ]
  },
  {
   "cell_type": "code",
   "execution_count": 6,
   "id": "af6d202c",
   "metadata": {},
   "outputs": [],
   "source": [
    "riders['date'] = pd.to_datetime(riders['date'], format='%Y-%m-%d')\n",
    "riders['month'] = riders['date'].dt.month"
   ]
  },
  {
   "cell_type": "markdown",
   "id": "3702ca47",
   "metadata": {},
   "source": [
    "Вводим новую переменную и меняем формат по заданию"
   ]
  },
  {
   "cell_type": "code",
   "execution_count": 7,
   "id": "f05be06c",
   "metadata": {},
   "outputs": [
    {
     "name": "stdout",
     "output_type": "stream",
     "text": [
      "Количество пропусков: user_id              0\n",
      "name                 0\n",
      "age                  0\n",
      "city                 0\n",
      "subscription_type    0\n",
      "dtype: int64\n",
      "31\n"
     ]
    }
   ],
   "source": [
    "print('Количество пропусков:',users.isna().sum())\n",
    "print(users.duplicated().sum())\n"
   ]
  },
  {
   "cell_type": "code",
   "execution_count": 8,
   "id": "e38dd068",
   "metadata": {},
   "outputs": [
    {
     "name": "stdout",
     "output_type": "stream",
     "text": [
      "Количество пропусков: user_id     0\n",
      "distance    0\n",
      "duration    0\n",
      "date        0\n",
      "month       0\n",
      "dtype: int64\n"
     ]
    },
    {
     "data": {
      "text/plain": [
       "0"
      ]
     },
     "execution_count": 8,
     "metadata": {},
     "output_type": "execute_result"
    }
   ],
   "source": [
    "print('Количество пропусков:',riders.isna().sum())\n",
    "riders.duplicated().sum()"
   ]
  },
  {
   "cell_type": "code",
   "execution_count": 9,
   "id": "91029c3d",
   "metadata": {},
   "outputs": [
    {
     "name": "stdout",
     "output_type": "stream",
     "text": [
      "Количество пропусков: subscription_type    0\n",
      "minute_price         0\n",
      "start_ride_price     0\n",
      "subscription_fee     0\n",
      "dtype: int64\n"
     ]
    },
    {
     "data": {
      "text/plain": [
       "0"
      ]
     },
     "execution_count": 9,
     "metadata": {},
     "output_type": "execute_result"
    }
   ],
   "source": [
    "print('Количество пропусков:',subscriptions.isna().sum())\n",
    "subscriptions.duplicated().sum()"
   ]
  },
  {
   "cell_type": "code",
   "execution_count": 10,
   "id": "d366d410",
   "metadata": {},
   "outputs": [
    {
     "name": "stdout",
     "output_type": "stream",
     "text": [
      "31\n",
      "0\n"
     ]
    }
   ],
   "source": [
    "\n",
    "print(users['user_id'].duplicated().sum())\n",
    "users.drop_duplicates(inplace=True)\n",
    "print(users['user_id'].duplicated().sum())"
   ]
  },
  {
   "cell_type": "markdown",
   "id": "837e229d",
   "metadata": {},
   "source": [
    " Вывод:  \n",
    " В представленных данных отсутсвовали пропуски, однако в датасете, содержащем информацию о пользователях присутсвовало некоторое количество дубликатов, возможно это связано с программной ошибкой, так как данные повторялись в столбце с ID. \n",
    " \n",
    " Данные предобработаны, дубликаты удалены."
   ]
  },
  {
   "cell_type": "markdown",
   "id": "212593c7",
   "metadata": {},
   "source": [
    "#### Шаг 3. Исследовательский анализ данных"
   ]
  },
  {
   "cell_type": "markdown",
   "id": "bed48729",
   "metadata": {},
   "source": [
    "##### Частота встречаемости городов\n",
    "\n"
   ]
  },
  {
   "cell_type": "code",
   "execution_count": 11,
   "id": "4a3b5378",
   "metadata": {},
   "outputs": [
    {
     "data": {
      "text/plain": [
       "Пятигорск         219\n",
       "Екатеринбург      204\n",
       "Ростов-на-Дону    198\n",
       "Краснодар         193\n",
       "Сочи              189\n",
       "Омск              183\n",
       "Тюмень            180\n",
       "Москва            168\n",
       "Name: city, dtype: int64"
      ]
     },
     "metadata": {},
     "output_type": "display_data"
    },
    {
     "data": {
      "image/png": "[encoded data removed]",
      "text/plain": [
       "<Figure size 360x216 with 1 Axes>"
      ]
     },
     "metadata": {
      "needs_background": "light"
     },
     "output_type": "display_data"
    }
   ],
   "source": [
    "count_users_by_city = users['city'].value_counts()\n",
    "display(count_users_by_city)\n",
    "\n",
    "\n",
    "count_users_by_city.plot.bar(figsize=(5, 3), ec='black', legend=True)\n",
    "\n",
    "plt.title('Распределение количества поездок по городам')\n",
    "plt.xlabel('Города')\n",
    "plt.ylabel('кол-во поездок')\n",
    "plt.ylim(0, 250)\n",
    "plt.show()"
   ]
  },
  {
   "cell_type": "markdown",
   "id": "aad34cec",
   "metadata": {},
   "source": [
    "Можно заметить что в представленных данных нет особых выбросов по количеству поездок в отдельных городах. Наибольшее количество услуг было куплено в Пятигорске, наименьшее в Москве, но разрыв между ними менее 50 единиц."
   ]
  },
  {
   "cell_type": "code",
   "execution_count": 12,
   "id": "e82c2752",
   "metadata": {},
   "outputs": [
    {
     "data": {
      "text/plain": [
       "Пятигорск         14.0\n",
       "Екатеринбург      13.0\n",
       "Ростов-на-Дону    13.0\n",
       "Краснодар         13.0\n",
       "Сочи              12.0\n",
       "Омск              12.0\n",
       "Тюмень            12.0\n",
       "Москва            11.0\n",
       "Name: city, dtype: float64"
      ]
     },
     "metadata": {},
     "output_type": "display_data"
    }
   ],
   "source": [
    "count_users_by_city['rate'] = round(users['city'].value_counts() / count_users_by_city.sum(), 2) * 100\n",
    "display(count_users_by_city['rate'])"
   ]
  },
  {
   "cell_type": "markdown",
   "id": "eecbb61d",
   "metadata": {},
   "source": [
    "Еще раз убеждаемся что явного преобладания данных из отдельных городов нет и распределние равномерно."
   ]
  },
  {
   "cell_type": "markdown",
   "id": "3c7ea339",
   "metadata": {},
   "source": [
    "##### Распределние типов подписки"
   ]
  },
  {
   "cell_type": "code",
   "execution_count": 13,
   "id": "2c5239e5",
   "metadata": {},
   "outputs": [
    {
     "data": {
      "text/plain": [
       "free     835\n",
       "ultra    699\n",
       "Name: subscription_type, dtype: int64"
      ]
     },
     "metadata": {},
     "output_type": "display_data"
    }
   ],
   "source": [
    "type_of_sub = users['subscription_type'].value_counts()\n",
    "display(type_of_sub)"
   ]
  },
  {
   "cell_type": "code",
   "execution_count": 14,
   "id": "6687a291",
   "metadata": {},
   "outputs": [
    {
     "data": {
      "text/plain": [
       "free     54.0\n",
       "ultra    46.0\n",
       "Name: subscription_type, dtype: float64"
      ]
     },
     "metadata": {},
     "output_type": "display_data"
    }
   ],
   "source": [
    "type_of_sub['rate'] = round(users['subscription_type'].value_counts() / type_of_sub.sum(), 2) * 100\n",
    "display(type_of_sub['rate'])"
   ]
  },
  {
   "cell_type": "code",
   "execution_count": 15,
   "id": "0e66dba8",
   "metadata": {},
   "outputs": [
    {
     "data": {
      "image/png": "[encoded data removed]",
      "text/plain": [
       "<Figure size 720x720 with 1 Axes>"
      ]
     },
     "metadata": {},
     "output_type": "display_data"
    }
   ],
   "source": [
    "users['subscription_type'].value_counts().plot(\n",
    "    kind = 'pie', \n",
    "    y = count_users_by_city,\n",
    "    autopct = '%1.0f%%',\n",
    "    figsize=(10,10), \n",
    "    title = 'Распределение пользователей по типу подписки');"
   ]
  },
  {
   "cell_type": "markdown",
   "id": "cfa40029",
   "metadata": {},
   "source": [
    "Можно сделать выводы о том что бесплатный тип подписки более популярен, однако его преобладание над платным минимально, следовательно можно сделать выводы о успешности ее тарифа."
   ]
  },
  {
   "cell_type": "markdown",
   "id": "f4c0795b",
   "metadata": {},
   "source": [
    "##### Возраст подписчиков"
   ]
  },
  {
   "cell_type": "code",
   "execution_count": 16,
   "id": "4580c0d1",
   "metadata": {},
   "outputs": [
    {
     "data": {
      "text/plain": [
       "43"
      ]
     },
     "metadata": {},
     "output_type": "display_data"
    }
   ],
   "source": [
    "display(users['age'].max())\n",
    "#Самый старший пользователь"
   ]
  },
  {
   "cell_type": "code",
   "execution_count": 17,
   "id": "ad24cc88",
   "metadata": {},
   "outputs": [
    {
     "data": {
      "text/plain": [
       "12"
      ]
     },
     "metadata": {},
     "output_type": "display_data"
    }
   ],
   "source": [
    "display(users['age'].min()) #Самый младший пользователь"
   ]
  },
  {
   "cell_type": "code",
   "execution_count": 18,
   "id": "d7758024",
   "metadata": {},
   "outputs": [
    {
     "data": {
      "image/png": "[encoded data removed]",
      "text/plain": [
       "<Figure size 432x288 with 1 Axes>"
      ]
     },
     "metadata": {
      "needs_background": "light"
     },
     "output_type": "display_data"
    }
   ],
   "source": [
    "plt.hist(users['age'], bins = 20)\n",
    "plt.title('Возраст пользователей')\n",
    "plt.xlabel('Возраст')\n",
    "plt.ylabel('Количество пользователей')\n",
    "plt.grid()\n",
    "plt.show()"
   ]
  },
  {
   "cell_type": "code",
   "execution_count": 19,
   "id": "32037319",
   "metadata": {},
   "outputs": [
    {
     "data": {
      "text/plain": [
       "25    145\n",
       "24    132\n",
       "26    131\n",
       "23    129\n",
       "27    119\n",
       "22    119\n",
       "28    112\n",
       "21     93\n",
       "20     71\n",
       "30     68\n",
       "29     68\n",
       "31     48\n",
       "19     47\n",
       "18     46\n",
       "32     41\n",
       "33     39\n",
       "17     26\n",
       "34     19\n",
       "16     19\n",
       "35     15\n",
       "15     13\n",
       "14      9\n",
       "13      8\n",
       "36      6\n",
       "12      4\n",
       "38      3\n",
       "37      2\n",
       "39      1\n",
       "43      1\n",
       "Name: age, dtype: int64"
      ]
     },
     "metadata": {},
     "output_type": "display_data"
    }
   ],
   "source": [
    "type_of_age = users['age'].value_counts()\n",
    "display(type_of_age)\n"
   ]
  },
  {
   "cell_type": "code",
   "execution_count": 20,
   "id": "e0f3004d",
   "metadata": {},
   "outputs": [],
   "source": [
    "def age_category(row): \n",
    "    \n",
    "    if row <= 18:\n",
    "        return 'Младше целевой'\n",
    "    elif 20<= row <= 28:\n",
    "        return 'Целевая аудитория'\n",
    "    else:\n",
    "        return 'Старше целевой'\n",
    "    \n",
    "\n",
    "users['age_category'] = users['age'].apply(age_category)"
   ]
  },
  {
   "cell_type": "code",
   "execution_count": null,
   "id": "b171952a",
   "metadata": {},
   "outputs": [],
   "source": []
  },
  {
   "cell_type": "code",
   "execution_count": 21,
   "id": "abb2bd9b",
   "metadata": {},
   "outputs": [
    {
     "data": {
      "image/png": "[encoded data removed]",
      "text/plain": [
       "<Figure size 720x720 with 1 Axes>"
      ]
     },
     "metadata": {},
     "output_type": "display_data"
    }
   ],
   "source": [
    "users['age_category'].value_counts().plot(\n",
    "    kind = 'pie', \n",
    "    y = type_of_age,\n",
    "    autopct = '%1.0f%%',\n",
    "    figsize=(10,10), \n",
    "    title = 'Распределение пользователей по возрасту');"
   ]
  },
  {
   "cell_type": "markdown",
   "id": "2ef1e6bc",
   "metadata": {},
   "source": [
    "Наибольшее количество пользователей сосредоточено в диапазоне от 20 до 28 лет (Около 70%), следовательно именно эту возрастную группу можно считать целевой, скорее всего это связано с потребностью людей данного возраста в мобильных средствах перемещения, не ограниченных наличием парковочных мест и топливом."
   ]
  },
  {
   "cell_type": "markdown",
   "id": "90d00d3c",
   "metadata": {},
   "source": [
    "##### Расстояние, которое пользователь преодолел за одну поездку"
   ]
  },
  {
   "cell_type": "code",
   "execution_count": 22,
   "id": "b0ee55b4",
   "metadata": {},
   "outputs": [
    {
     "data": {
      "text/plain": [
       "11555     0.86\n",
       "9541      2.57\n",
       "13690     4.33\n",
       "8658      6.78\n",
       "7841      7.10\n",
       "8906     11.28\n",
       "8324     12.23\n",
       "13940    15.00\n",
       "15626    15.37\n",
       "11862    15.63\n",
       "17414    22.31\n",
       "15104    22.39\n",
       "6691     23.96\n",
       "9784     26.78\n",
       "17173    27.97\n",
       "Name: distance, dtype: float64"
      ]
     },
     "metadata": {},
     "output_type": "display_data"
    }
   ],
   "source": [
    "worst_riders_rate=riders['distance'].sort_values()\n",
    "display(round(worst_riders_rate, 2).head(15))"
   ]
  },
  {
   "cell_type": "code",
   "execution_count": 23,
   "id": "919b9753",
   "metadata": {},
   "outputs": [
    {
     "data": {
      "text/plain": [
       "16309    7211.01\n",
       "16484    7066.00\n",
       "15580    6908.49\n",
       "17171    6760.94\n",
       "17242    6724.93\n",
       "10341    6671.97\n",
       "11385    6601.20\n",
       "12086    6538.94\n",
       "10915    6535.39\n",
       "11319    6503.60\n",
       "11189    6456.42\n",
       "8527     6436.63\n",
       "7913     6427.05\n",
       "13701    6414.52\n",
       "7635     6395.40\n",
       "Name: distance, dtype: float64"
      ]
     },
     "metadata": {},
     "output_type": "display_data"
    }
   ],
   "source": [
    "best_riders_rate=riders['distance'].sort_values(ascending=False)\n",
    "display(round(best_riders_rate, 2).head(15))"
   ]
  },
  {
   "cell_type": "code",
   "execution_count": 24,
   "id": "d673853f",
   "metadata": {},
   "outputs": [
    {
     "data": {
      "image/png": "[encoded data removed]",
      "text/plain": [
       "<Figure size 720x1152 with 1 Axes>"
      ]
     },
     "metadata": {
      "needs_background": "light"
     },
     "output_type": "display_data"
    }
   ],
   "source": [
    "riders.boxplot(column='distance' , figsize=(10, 16))\n",
    "plt.title('Расстояние, преодоленное за одну поездку')\n",
    "plt.ylim(0, 8500)\n",
    "plt.ylabel('Расстояние, м')\n",
    "\n",
    "plt.show()"
   ]
  },
  {
   "cell_type": "markdown",
   "id": "bcd8d39b",
   "metadata": {},
   "source": [
    "Выяснили наиболее продолжительные и короткие поездки, а также отдельный график, который позволяет сделат определенные выводы.   Во первых присутсвует большое количество поездок протяженностью до километра, среди которых есть сверхкороткие, которые скорее всего были начаты и тут же прекращены по неким причинам, скорее всего связанных либо с выбором иного транспорта, либо с тем что самокат арендовался \"на пробу\".   \n",
    "Также присутсвует некое количество поездок свыше 6 километров, однако основное их колиество не превышает данную планку, с наибольшей вероятностью данные поездки брались для путешествий между районами городов, либо для экскурсий по местности, которые подразумевали длинные дистанции."
   ]
  },
  {
   "cell_type": "markdown",
   "id": "0303b028",
   "metadata": {},
   "source": [
    "##### Продожительность поездок\n"
   ]
  },
  {
   "cell_type": "code",
   "execution_count": 25,
   "id": "b29097e7",
   "metadata": {},
   "outputs": [
    {
     "data": {
      "text/plain": [
       "12013    0.5\n",
       "17314    0.5\n",
       "15029    0.5\n",
       "7437     0.5\n",
       "12967    0.5\n",
       "15015    0.5\n",
       "13012    0.5\n",
       "7508     0.5\n",
       "16589    0.5\n",
       "9049     0.5\n",
       "Name: duration, dtype: float64"
      ]
     },
     "execution_count": 25,
     "metadata": {},
     "output_type": "execute_result"
    }
   ],
   "source": [
    "riders['duration'].sort_values().head(10)"
   ]
  },
  {
   "cell_type": "code",
   "execution_count": 26,
   "id": "3e41219c",
   "metadata": {},
   "outputs": [
    {
     "data": {
      "text/plain": [
       "4215    40.823963\n",
       "4709    39.873856\n",
       "2623    39.526602\n",
       "1998    38.352763\n",
       "6453    38.265229\n",
       "143     38.125729\n",
       "3729    37.014141\n",
       "499     36.906491\n",
       "6348    36.809310\n",
       "4653    36.622595\n",
       "Name: duration, dtype: float64"
      ]
     },
     "execution_count": 26,
     "metadata": {},
     "output_type": "execute_result"
    }
   ],
   "source": [
    "riders['duration'].sort_values(ascending=False).head(10)"
   ]
  },
  {
   "cell_type": "code",
   "execution_count": 27,
   "id": "cd9a1698",
   "metadata": {},
   "outputs": [],
   "source": [
    "riders_dur_tot = riders.groupby(['user_id']).sum()"
   ]
  },
  {
   "cell_type": "code",
   "execution_count": 28,
   "id": "4c6ae0a2",
   "metadata": {},
   "outputs": [
    {
     "data": {
      "image/png": "[encoded data removed]",
      "text/plain": [
       "<Figure size 720x1152 with 1 Axes>"
      ]
     },
     "metadata": {
      "needs_background": "light"
     },
     "output_type": "display_data"
    }
   ],
   "source": [
    "riders.boxplot(column='duration' , figsize=(10, 16))\n",
    "plt.title('Продолжительность поездки')\n",
    "plt.ylim(0, 50)\n",
    "plt.ylabel('мин')\n",
    "\n",
    "plt.show()\n"
   ]
  },
  {
   "cell_type": "code",
   "execution_count": 29,
   "id": "b56eb750",
   "metadata": {},
   "outputs": [
    {
     "data": {
      "text/plain": [
       "count    18068.000000\n",
       "mean        17.805011\n",
       "std          6.091051\n",
       "min          0.500000\n",
       "25%         13.597563\n",
       "50%         17.678395\n",
       "75%         21.724800\n",
       "max         40.823963\n",
       "Name: duration, dtype: float64"
      ]
     },
     "execution_count": 29,
     "metadata": {},
     "output_type": "execute_result"
    }
   ],
   "source": [
    "riders['duration'].describe().T"
   ]
  },
  {
   "cell_type": "markdown",
   "id": "45c56f16",
   "metadata": {},
   "source": [
    "Можно сделать выводы о продолжительности поездок. Присутсвует большое количество малых выбросов, продолжительностью менее минуты, которые скорее всего означают случаи ошибочной активации самокатов и для дальнейшего анализа их стоит исключить"
   ]
  },
  {
   "cell_type": "code",
   "execution_count": 30,
   "id": "f4847f8a",
   "metadata": {},
   "outputs": [
    {
     "data": {
      "text/plain": [
       "12013    0.5\n",
       "17314    0.5\n",
       "15029    0.5\n",
       "7437     0.5\n",
       "12967    0.5\n",
       "15015    0.5\n",
       "13012    0.5\n",
       "7508     0.5\n",
       "16589    0.5\n",
       "9049     0.5\n",
       "Name: duration, dtype: float64"
      ]
     },
     "execution_count": 30,
     "metadata": {},
     "output_type": "execute_result"
    }
   ],
   "source": [
    "\n",
    "riders['duration'].sort_values().head(10)\n"
   ]
  },
  {
   "cell_type": "code",
   "execution_count": 31,
   "id": "ff07234c",
   "metadata": {},
   "outputs": [
    {
     "data": {
      "text/plain": [
       "count    18068.000000\n",
       "mean        17.805011\n",
       "std          6.091051\n",
       "min          0.500000\n",
       "25%         13.597563\n",
       "50%         17.678395\n",
       "75%         21.724800\n",
       "max         40.823963\n",
       "Name: duration, dtype: float64"
      ]
     },
     "execution_count": 31,
     "metadata": {},
     "output_type": "execute_result"
    }
   ],
   "source": [
    "riders['duration'].describe().T"
   ]
  },
  {
   "cell_type": "markdown",
   "id": "4ef51331",
   "metadata": {},
   "source": [
    "#### Шаг 4. Объединение данных"
   ]
  },
  {
   "cell_type": "code",
   "execution_count": null,
   "id": "6c47a7f0",
   "metadata": {},
   "outputs": [],
   "source": []
  },
  {
   "cell_type": "code",
   "execution_count": 32,
   "id": "acf4d7e0",
   "metadata": {},
   "outputs": [
    {
     "name": "stdout",
     "output_type": "stream",
     "text": [
      "<class 'pandas.core.frame.DataFrame'>\n",
      "RangeIndex: 18068 entries, 0 to 18067\n",
      "Data columns (total 5 columns):\n",
      " #   Column    Non-Null Count  Dtype         \n",
      "---  ------    --------------  -----         \n",
      " 0   user_id   18068 non-null  int64         \n",
      " 1   distance  18068 non-null  float64       \n",
      " 2   duration  18068 non-null  float64       \n",
      " 3   date      18068 non-null  datetime64[ns]\n",
      " 4   month     18068 non-null  int64         \n",
      "dtypes: datetime64[ns](1), float64(2), int64(2)\n",
      "memory usage: 705.9 KB\n",
      "Размер сета 1: None\n",
      "<class 'pandas.core.frame.DataFrame'>\n",
      "Int64Index: 1534 entries, 0 to 1533\n",
      "Data columns (total 6 columns):\n",
      " #   Column             Non-Null Count  Dtype \n",
      "---  ------             --------------  ----- \n",
      " 0   user_id            1534 non-null   int64 \n",
      " 1   name               1534 non-null   object\n",
      " 2   age                1534 non-null   int64 \n",
      " 3   city               1534 non-null   object\n",
      " 4   subscription_type  1534 non-null   object\n",
      " 5   age_category       1534 non-null   object\n",
      "dtypes: int64(2), object(4)\n",
      "memory usage: 83.9+ KB\n",
      "Размер сета 2: None\n",
      "<class 'pandas.core.frame.DataFrame'>\n",
      "RangeIndex: 2 entries, 0 to 1\n",
      "Data columns (total 4 columns):\n",
      " #   Column             Non-Null Count  Dtype \n",
      "---  ------             --------------  ----- \n",
      " 0   subscription_type  2 non-null      object\n",
      " 1   minute_price       2 non-null      int64 \n",
      " 2   start_ride_price   2 non-null      int64 \n",
      " 3   subscription_fee   2 non-null      int64 \n",
      "dtypes: int64(3), object(1)\n",
      "memory usage: 192.0+ bytes\n",
      "Размер сета 3: None\n"
     ]
    }
   ],
   "source": [
    "print('Размер сета 1:',riders.info() )\n",
    "print('Размер сета 2:',users.info() )\n",
    "print('Размер сета 3:',subscriptions.info() )"
   ]
  },
  {
   "cell_type": "code",
   "execution_count": 33,
   "id": "6bf288b5",
   "metadata": {},
   "outputs": [
    {
     "name": "stdout",
     "output_type": "stream",
     "text": [
      "<class 'pandas.core.frame.DataFrame'>\n",
      "Int64Index: 18068 entries, 0 to 18067\n",
      "Data columns (total 13 columns):\n",
      " #   Column             Non-Null Count  Dtype         \n",
      "---  ------             --------------  -----         \n",
      " 0   user_id            18068 non-null  int64         \n",
      " 1   distance           18068 non-null  float64       \n",
      " 2   duration           18068 non-null  float64       \n",
      " 3   date               18068 non-null  datetime64[ns]\n",
      " 4   month              18068 non-null  int64         \n",
      " 5   name               18068 non-null  object        \n",
      " 6   age                18068 non-null  int64         \n",
      " 7   city               18068 non-null  object        \n",
      " 8   subscription_type  18068 non-null  object        \n",
      " 9   age_category       18068 non-null  object        \n",
      " 10  minute_price       18068 non-null  int64         \n",
      " 11  start_ride_price   18068 non-null  int64         \n",
      " 12  subscription_fee   18068 non-null  int64         \n",
      "dtypes: datetime64[ns](1), float64(2), int64(6), object(4)\n",
      "memory usage: 1.9+ MB\n"
     ]
    },
    {
     "data": {
      "text/html": [
       "<div>\n",
       "<style scoped>\n",
       "    .dataframe tbody tr th:only-of-type {\n",
       "        vertical-align: middle;\n",
       "    }\n",
       "\n",
       "    .dataframe tbody tr th {\n",
       "        vertical-align: top;\n",
       "    }\n",
       "\n",
       "    .dataframe thead th {\n",
       "        text-align: right;\n",
       "    }\n",
       "</style>\n",
       "<table border=\"1\" class=\"dataframe\">\n",
       "  <thead>\n",
       "    <tr style=\"text-align: right;\">\n",
       "      <th></th>\n",
       "      <th>user_id</th>\n",
       "      <th>distance</th>\n",
       "      <th>duration</th>\n",
       "      <th>date</th>\n",
       "      <th>month</th>\n",
       "      <th>name</th>\n",
       "      <th>age</th>\n",
       "      <th>city</th>\n",
       "      <th>subscription_type</th>\n",
       "      <th>age_category</th>\n",
       "      <th>minute_price</th>\n",
       "      <th>start_ride_price</th>\n",
       "      <th>subscription_fee</th>\n",
       "    </tr>\n",
       "  </thead>\n",
       "  <tbody>\n",
       "    <tr>\n",
       "      <th>0</th>\n",
       "      <td>1</td>\n",
       "      <td>4409.919140</td>\n",
       "      <td>25.599769</td>\n",
       "      <td>2021-01-01</td>\n",
       "      <td>1</td>\n",
       "      <td>Кира</td>\n",
       "      <td>22</td>\n",
       "      <td>Тюмень</td>\n",
       "      <td>ultra</td>\n",
       "      <td>Целевая аудитория</td>\n",
       "      <td>6</td>\n",
       "      <td>0</td>\n",
       "      <td>199</td>\n",
       "    </tr>\n",
       "    <tr>\n",
       "      <th>1</th>\n",
       "      <td>1</td>\n",
       "      <td>2617.592153</td>\n",
       "      <td>15.816871</td>\n",
       "      <td>2021-01-18</td>\n",
       "      <td>1</td>\n",
       "      <td>Кира</td>\n",
       "      <td>22</td>\n",
       "      <td>Тюмень</td>\n",
       "      <td>ultra</td>\n",
       "      <td>Целевая аудитория</td>\n",
       "      <td>6</td>\n",
       "      <td>0</td>\n",
       "      <td>199</td>\n",
       "    </tr>\n",
       "    <tr>\n",
       "      <th>2</th>\n",
       "      <td>1</td>\n",
       "      <td>754.159807</td>\n",
       "      <td>6.232113</td>\n",
       "      <td>2021-04-20</td>\n",
       "      <td>4</td>\n",
       "      <td>Кира</td>\n",
       "      <td>22</td>\n",
       "      <td>Тюмень</td>\n",
       "      <td>ultra</td>\n",
       "      <td>Целевая аудитория</td>\n",
       "      <td>6</td>\n",
       "      <td>0</td>\n",
       "      <td>199</td>\n",
       "    </tr>\n",
       "    <tr>\n",
       "      <th>3</th>\n",
       "      <td>1</td>\n",
       "      <td>2694.783254</td>\n",
       "      <td>18.511000</td>\n",
       "      <td>2021-08-11</td>\n",
       "      <td>8</td>\n",
       "      <td>Кира</td>\n",
       "      <td>22</td>\n",
       "      <td>Тюмень</td>\n",
       "      <td>ultra</td>\n",
       "      <td>Целевая аудитория</td>\n",
       "      <td>6</td>\n",
       "      <td>0</td>\n",
       "      <td>199</td>\n",
       "    </tr>\n",
       "    <tr>\n",
       "      <th>4</th>\n",
       "      <td>1</td>\n",
       "      <td>4028.687306</td>\n",
       "      <td>26.265803</td>\n",
       "      <td>2021-08-28</td>\n",
       "      <td>8</td>\n",
       "      <td>Кира</td>\n",
       "      <td>22</td>\n",
       "      <td>Тюмень</td>\n",
       "      <td>ultra</td>\n",
       "      <td>Целевая аудитория</td>\n",
       "      <td>6</td>\n",
       "      <td>0</td>\n",
       "      <td>199</td>\n",
       "    </tr>\n",
       "    <tr>\n",
       "      <th>...</th>\n",
       "      <td>...</td>\n",
       "      <td>...</td>\n",
       "      <td>...</td>\n",
       "      <td>...</td>\n",
       "      <td>...</td>\n",
       "      <td>...</td>\n",
       "      <td>...</td>\n",
       "      <td>...</td>\n",
       "      <td>...</td>\n",
       "      <td>...</td>\n",
       "      <td>...</td>\n",
       "      <td>...</td>\n",
       "      <td>...</td>\n",
       "    </tr>\n",
       "    <tr>\n",
       "      <th>18063</th>\n",
       "      <td>1534</td>\n",
       "      <td>3781.098080</td>\n",
       "      <td>19.822962</td>\n",
       "      <td>2021-11-04</td>\n",
       "      <td>11</td>\n",
       "      <td>Альберт</td>\n",
       "      <td>25</td>\n",
       "      <td>Краснодар</td>\n",
       "      <td>free</td>\n",
       "      <td>Целевая аудитория</td>\n",
       "      <td>8</td>\n",
       "      <td>50</td>\n",
       "      <td>0</td>\n",
       "    </tr>\n",
       "    <tr>\n",
       "      <th>18064</th>\n",
       "      <td>1534</td>\n",
       "      <td>2840.423057</td>\n",
       "      <td>21.409799</td>\n",
       "      <td>2021-11-16</td>\n",
       "      <td>11</td>\n",
       "      <td>Альберт</td>\n",
       "      <td>25</td>\n",
       "      <td>Краснодар</td>\n",
       "      <td>free</td>\n",
       "      <td>Целевая аудитория</td>\n",
       "      <td>8</td>\n",
       "      <td>50</td>\n",
       "      <td>0</td>\n",
       "    </tr>\n",
       "    <tr>\n",
       "      <th>18065</th>\n",
       "      <td>1534</td>\n",
       "      <td>3826.185507</td>\n",
       "      <td>18.435051</td>\n",
       "      <td>2021-11-18</td>\n",
       "      <td>11</td>\n",
       "      <td>Альберт</td>\n",
       "      <td>25</td>\n",
       "      <td>Краснодар</td>\n",
       "      <td>free</td>\n",
       "      <td>Целевая аудитория</td>\n",
       "      <td>8</td>\n",
       "      <td>50</td>\n",
       "      <td>0</td>\n",
       "    </tr>\n",
       "    <tr>\n",
       "      <th>18066</th>\n",
       "      <td>1534</td>\n",
       "      <td>2902.308661</td>\n",
       "      <td>16.674362</td>\n",
       "      <td>2021-11-27</td>\n",
       "      <td>11</td>\n",
       "      <td>Альберт</td>\n",
       "      <td>25</td>\n",
       "      <td>Краснодар</td>\n",
       "      <td>free</td>\n",
       "      <td>Целевая аудитория</td>\n",
       "      <td>8</td>\n",
       "      <td>50</td>\n",
       "      <td>0</td>\n",
       "    </tr>\n",
       "    <tr>\n",
       "      <th>18067</th>\n",
       "      <td>1534</td>\n",
       "      <td>2371.711192</td>\n",
       "      <td>15.893917</td>\n",
       "      <td>2021-12-29</td>\n",
       "      <td>12</td>\n",
       "      <td>Альберт</td>\n",
       "      <td>25</td>\n",
       "      <td>Краснодар</td>\n",
       "      <td>free</td>\n",
       "      <td>Целевая аудитория</td>\n",
       "      <td>8</td>\n",
       "      <td>50</td>\n",
       "      <td>0</td>\n",
       "    </tr>\n",
       "  </tbody>\n",
       "</table>\n",
       "<p>18068 rows × 13 columns</p>\n",
       "</div>"
      ],
      "text/plain": [
       "       user_id     distance   duration       date  month     name  age  \\\n",
       "0            1  4409.919140  25.599769 2021-01-01      1     Кира   22   \n",
       "1            1  2617.592153  15.816871 2021-01-18      1     Кира   22   \n",
       "2            1   754.159807   6.232113 2021-04-20      4     Кира   22   \n",
       "3            1  2694.783254  18.511000 2021-08-11      8     Кира   22   \n",
       "4            1  4028.687306  26.265803 2021-08-28      8     Кира   22   \n",
       "...        ...          ...        ...        ...    ...      ...  ...   \n",
       "18063     1534  3781.098080  19.822962 2021-11-04     11  Альберт   25   \n",
       "18064     1534  2840.423057  21.409799 2021-11-16     11  Альберт   25   \n",
       "18065     1534  3826.185507  18.435051 2021-11-18     11  Альберт   25   \n",
       "18066     1534  2902.308661  16.674362 2021-11-27     11  Альберт   25   \n",
       "18067     1534  2371.711192  15.893917 2021-12-29     12  Альберт   25   \n",
       "\n",
       "            city subscription_type       age_category  minute_price  \\\n",
       "0         Тюмень             ultra  Целевая аудитория             6   \n",
       "1         Тюмень             ultra  Целевая аудитория             6   \n",
       "2         Тюмень             ultra  Целевая аудитория             6   \n",
       "3         Тюмень             ultra  Целевая аудитория             6   \n",
       "4         Тюмень             ultra  Целевая аудитория             6   \n",
       "...          ...               ...                ...           ...   \n",
       "18063  Краснодар              free  Целевая аудитория             8   \n",
       "18064  Краснодар              free  Целевая аудитория             8   \n",
       "18065  Краснодар              free  Целевая аудитория             8   \n",
       "18066  Краснодар              free  Целевая аудитория             8   \n",
       "18067  Краснодар              free  Целевая аудитория             8   \n",
       "\n",
       "       start_ride_price  subscription_fee  \n",
       "0                     0               199  \n",
       "1                     0               199  \n",
       "2                     0               199  \n",
       "3                     0               199  \n",
       "4                     0               199  \n",
       "...                 ...               ...  \n",
       "18063                50                 0  \n",
       "18064                50                 0  \n",
       "18065                50                 0  \n",
       "18066                50                 0  \n",
       "18067                50                 0  \n",
       "\n",
       "[18068 rows x 13 columns]"
      ]
     },
     "metadata": {},
     "output_type": "display_data"
    }
   ],
   "source": [
    "full_data = riders.merge(users)\n",
    "full_data = full_data.merge(subscriptions)\n",
    "full_data.info()\n",
    "display(full_data)"
   ]
  },
  {
   "cell_type": "code",
   "execution_count": 34,
   "id": "aa713f3b",
   "metadata": {},
   "outputs": [
    {
     "name": "stdout",
     "output_type": "stream",
     "text": [
      "Количество пропусков: user_id              0\n",
      "distance             0\n",
      "duration             0\n",
      "date                 0\n",
      "month                0\n",
      "name                 0\n",
      "age                  0\n",
      "city                 0\n",
      "subscription_type    0\n",
      "age_category         0\n",
      "minute_price         0\n",
      "start_ride_price     0\n",
      "subscription_fee     0\n",
      "dtype: int64\n"
     ]
    }
   ],
   "source": [
    "print('Количество пропусков:',full_data.isna().sum())\n"
   ]
  },
  {
   "cell_type": "code",
   "execution_count": 35,
   "id": "b4081c50",
   "metadata": {},
   "outputs": [
    {
     "data": {
      "text/html": [
       "<div>\n",
       "<style scoped>\n",
       "    .dataframe tbody tr th:only-of-type {\n",
       "        vertical-align: middle;\n",
       "    }\n",
       "\n",
       "    .dataframe tbody tr th {\n",
       "        vertical-align: top;\n",
       "    }\n",
       "\n",
       "    .dataframe thead th {\n",
       "        text-align: right;\n",
       "    }\n",
       "</style>\n",
       "<table border=\"1\" class=\"dataframe\">\n",
       "  <thead>\n",
       "    <tr style=\"text-align: right;\">\n",
       "      <th></th>\n",
       "      <th>user_id</th>\n",
       "      <th>distance</th>\n",
       "      <th>duration</th>\n",
       "      <th>date</th>\n",
       "      <th>month</th>\n",
       "      <th>name</th>\n",
       "      <th>age</th>\n",
       "      <th>city</th>\n",
       "      <th>subscription_type</th>\n",
       "      <th>age_category</th>\n",
       "      <th>minute_price</th>\n",
       "      <th>start_ride_price</th>\n",
       "      <th>subscription_fee</th>\n",
       "    </tr>\n",
       "  </thead>\n",
       "  <tbody>\n",
       "    <tr>\n",
       "      <th>6500</th>\n",
       "      <td>700</td>\n",
       "      <td>2515.690719</td>\n",
       "      <td>14.944286</td>\n",
       "      <td>2021-01-02</td>\n",
       "      <td>1</td>\n",
       "      <td>Айдар</td>\n",
       "      <td>22</td>\n",
       "      <td>Омск</td>\n",
       "      <td>free</td>\n",
       "      <td>Целевая аудитория</td>\n",
       "      <td>8</td>\n",
       "      <td>50</td>\n",
       "      <td>0</td>\n",
       "    </tr>\n",
       "    <tr>\n",
       "      <th>6501</th>\n",
       "      <td>700</td>\n",
       "      <td>846.932642</td>\n",
       "      <td>16.234663</td>\n",
       "      <td>2021-02-01</td>\n",
       "      <td>2</td>\n",
       "      <td>Айдар</td>\n",
       "      <td>22</td>\n",
       "      <td>Омск</td>\n",
       "      <td>free</td>\n",
       "      <td>Целевая аудитория</td>\n",
       "      <td>8</td>\n",
       "      <td>50</td>\n",
       "      <td>0</td>\n",
       "    </tr>\n",
       "    <tr>\n",
       "      <th>6502</th>\n",
       "      <td>700</td>\n",
       "      <td>4004.434142</td>\n",
       "      <td>20.016628</td>\n",
       "      <td>2021-02-04</td>\n",
       "      <td>2</td>\n",
       "      <td>Айдар</td>\n",
       "      <td>22</td>\n",
       "      <td>Омск</td>\n",
       "      <td>free</td>\n",
       "      <td>Целевая аудитория</td>\n",
       "      <td>8</td>\n",
       "      <td>50</td>\n",
       "      <td>0</td>\n",
       "    </tr>\n",
       "    <tr>\n",
       "      <th>6503</th>\n",
       "      <td>700</td>\n",
       "      <td>1205.911290</td>\n",
       "      <td>9.782872</td>\n",
       "      <td>2021-02-10</td>\n",
       "      <td>2</td>\n",
       "      <td>Айдар</td>\n",
       "      <td>22</td>\n",
       "      <td>Омск</td>\n",
       "      <td>free</td>\n",
       "      <td>Целевая аудитория</td>\n",
       "      <td>8</td>\n",
       "      <td>50</td>\n",
       "      <td>0</td>\n",
       "    </tr>\n",
       "    <tr>\n",
       "      <th>6504</th>\n",
       "      <td>700</td>\n",
       "      <td>3047.379435</td>\n",
       "      <td>17.427673</td>\n",
       "      <td>2021-02-14</td>\n",
       "      <td>2</td>\n",
       "      <td>Айдар</td>\n",
       "      <td>22</td>\n",
       "      <td>Омск</td>\n",
       "      <td>free</td>\n",
       "      <td>Целевая аудитория</td>\n",
       "      <td>8</td>\n",
       "      <td>50</td>\n",
       "      <td>0</td>\n",
       "    </tr>\n",
       "    <tr>\n",
       "      <th>...</th>\n",
       "      <td>...</td>\n",
       "      <td>...</td>\n",
       "      <td>...</td>\n",
       "      <td>...</td>\n",
       "      <td>...</td>\n",
       "      <td>...</td>\n",
       "      <td>...</td>\n",
       "      <td>...</td>\n",
       "      <td>...</td>\n",
       "      <td>...</td>\n",
       "      <td>...</td>\n",
       "      <td>...</td>\n",
       "      <td>...</td>\n",
       "    </tr>\n",
       "    <tr>\n",
       "      <th>18063</th>\n",
       "      <td>1534</td>\n",
       "      <td>3781.098080</td>\n",
       "      <td>19.822962</td>\n",
       "      <td>2021-11-04</td>\n",
       "      <td>11</td>\n",
       "      <td>Альберт</td>\n",
       "      <td>25</td>\n",
       "      <td>Краснодар</td>\n",
       "      <td>free</td>\n",
       "      <td>Целевая аудитория</td>\n",
       "      <td>8</td>\n",
       "      <td>50</td>\n",
       "      <td>0</td>\n",
       "    </tr>\n",
       "    <tr>\n",
       "      <th>18064</th>\n",
       "      <td>1534</td>\n",
       "      <td>2840.423057</td>\n",
       "      <td>21.409799</td>\n",
       "      <td>2021-11-16</td>\n",
       "      <td>11</td>\n",
       "      <td>Альберт</td>\n",
       "      <td>25</td>\n",
       "      <td>Краснодар</td>\n",
       "      <td>free</td>\n",
       "      <td>Целевая аудитория</td>\n",
       "      <td>8</td>\n",
       "      <td>50</td>\n",
       "      <td>0</td>\n",
       "    </tr>\n",
       "    <tr>\n",
       "      <th>18065</th>\n",
       "      <td>1534</td>\n",
       "      <td>3826.185507</td>\n",
       "      <td>18.435051</td>\n",
       "      <td>2021-11-18</td>\n",
       "      <td>11</td>\n",
       "      <td>Альберт</td>\n",
       "      <td>25</td>\n",
       "      <td>Краснодар</td>\n",
       "      <td>free</td>\n",
       "      <td>Целевая аудитория</td>\n",
       "      <td>8</td>\n",
       "      <td>50</td>\n",
       "      <td>0</td>\n",
       "    </tr>\n",
       "    <tr>\n",
       "      <th>18066</th>\n",
       "      <td>1534</td>\n",
       "      <td>2902.308661</td>\n",
       "      <td>16.674362</td>\n",
       "      <td>2021-11-27</td>\n",
       "      <td>11</td>\n",
       "      <td>Альберт</td>\n",
       "      <td>25</td>\n",
       "      <td>Краснодар</td>\n",
       "      <td>free</td>\n",
       "      <td>Целевая аудитория</td>\n",
       "      <td>8</td>\n",
       "      <td>50</td>\n",
       "      <td>0</td>\n",
       "    </tr>\n",
       "    <tr>\n",
       "      <th>18067</th>\n",
       "      <td>1534</td>\n",
       "      <td>2371.711192</td>\n",
       "      <td>15.893917</td>\n",
       "      <td>2021-12-29</td>\n",
       "      <td>12</td>\n",
       "      <td>Альберт</td>\n",
       "      <td>25</td>\n",
       "      <td>Краснодар</td>\n",
       "      <td>free</td>\n",
       "      <td>Целевая аудитория</td>\n",
       "      <td>8</td>\n",
       "      <td>50</td>\n",
       "      <td>0</td>\n",
       "    </tr>\n",
       "  </tbody>\n",
       "</table>\n",
       "<p>11568 rows × 13 columns</p>\n",
       "</div>"
      ],
      "text/plain": [
       "       user_id     distance   duration       date  month     name  age  \\\n",
       "6500       700  2515.690719  14.944286 2021-01-02      1    Айдар   22   \n",
       "6501       700   846.932642  16.234663 2021-02-01      2    Айдар   22   \n",
       "6502       700  4004.434142  20.016628 2021-02-04      2    Айдар   22   \n",
       "6503       700  1205.911290   9.782872 2021-02-10      2    Айдар   22   \n",
       "6504       700  3047.379435  17.427673 2021-02-14      2    Айдар   22   \n",
       "...        ...          ...        ...        ...    ...      ...  ...   \n",
       "18063     1534  3781.098080  19.822962 2021-11-04     11  Альберт   25   \n",
       "18064     1534  2840.423057  21.409799 2021-11-16     11  Альберт   25   \n",
       "18065     1534  3826.185507  18.435051 2021-11-18     11  Альберт   25   \n",
       "18066     1534  2902.308661  16.674362 2021-11-27     11  Альберт   25   \n",
       "18067     1534  2371.711192  15.893917 2021-12-29     12  Альберт   25   \n",
       "\n",
       "            city subscription_type       age_category  minute_price  \\\n",
       "6500        Омск              free  Целевая аудитория             8   \n",
       "6501        Омск              free  Целевая аудитория             8   \n",
       "6502        Омск              free  Целевая аудитория             8   \n",
       "6503        Омск              free  Целевая аудитория             8   \n",
       "6504        Омск              free  Целевая аудитория             8   \n",
       "...          ...               ...                ...           ...   \n",
       "18063  Краснодар              free  Целевая аудитория             8   \n",
       "18064  Краснодар              free  Целевая аудитория             8   \n",
       "18065  Краснодар              free  Целевая аудитория             8   \n",
       "18066  Краснодар              free  Целевая аудитория             8   \n",
       "18067  Краснодар              free  Целевая аудитория             8   \n",
       "\n",
       "       start_ride_price  subscription_fee  \n",
       "6500                 50                 0  \n",
       "6501                 50                 0  \n",
       "6502                 50                 0  \n",
       "6503                 50                 0  \n",
       "6504                 50                 0  \n",
       "...                 ...               ...  \n",
       "18063                50                 0  \n",
       "18064                50                 0  \n",
       "18065                50                 0  \n",
       "18066                50                 0  \n",
       "18067                50                 0  \n",
       "\n",
       "[11568 rows x 13 columns]"
      ]
     },
     "metadata": {},
     "output_type": "display_data"
    }
   ],
   "source": [
    "free_sub = full_data.query(\"`subscription_type` == 'free'\")\n",
    "display(free_sub)"
   ]
  },
  {
   "cell_type": "code",
   "execution_count": 36,
   "id": "dce4dca3",
   "metadata": {},
   "outputs": [
    {
     "data": {
      "text/html": [
       "<div>\n",
       "<style scoped>\n",
       "    .dataframe tbody tr th:only-of-type {\n",
       "        vertical-align: middle;\n",
       "    }\n",
       "\n",
       "    .dataframe tbody tr th {\n",
       "        vertical-align: top;\n",
       "    }\n",
       "\n",
       "    .dataframe thead th {\n",
       "        text-align: right;\n",
       "    }\n",
       "</style>\n",
       "<table border=\"1\" class=\"dataframe\">\n",
       "  <thead>\n",
       "    <tr style=\"text-align: right;\">\n",
       "      <th></th>\n",
       "      <th>user_id</th>\n",
       "      <th>distance</th>\n",
       "      <th>duration</th>\n",
       "      <th>date</th>\n",
       "      <th>month</th>\n",
       "      <th>name</th>\n",
       "      <th>age</th>\n",
       "      <th>city</th>\n",
       "      <th>subscription_type</th>\n",
       "      <th>age_category</th>\n",
       "      <th>minute_price</th>\n",
       "      <th>start_ride_price</th>\n",
       "      <th>subscription_fee</th>\n",
       "    </tr>\n",
       "  </thead>\n",
       "  <tbody>\n",
       "    <tr>\n",
       "      <th>0</th>\n",
       "      <td>1</td>\n",
       "      <td>4409.919140</td>\n",
       "      <td>25.599769</td>\n",
       "      <td>2021-01-01</td>\n",
       "      <td>1</td>\n",
       "      <td>Кира</td>\n",
       "      <td>22</td>\n",
       "      <td>Тюмень</td>\n",
       "      <td>ultra</td>\n",
       "      <td>Целевая аудитория</td>\n",
       "      <td>6</td>\n",
       "      <td>0</td>\n",
       "      <td>199</td>\n",
       "    </tr>\n",
       "    <tr>\n",
       "      <th>1</th>\n",
       "      <td>1</td>\n",
       "      <td>2617.592153</td>\n",
       "      <td>15.816871</td>\n",
       "      <td>2021-01-18</td>\n",
       "      <td>1</td>\n",
       "      <td>Кира</td>\n",
       "      <td>22</td>\n",
       "      <td>Тюмень</td>\n",
       "      <td>ultra</td>\n",
       "      <td>Целевая аудитория</td>\n",
       "      <td>6</td>\n",
       "      <td>0</td>\n",
       "      <td>199</td>\n",
       "    </tr>\n",
       "    <tr>\n",
       "      <th>2</th>\n",
       "      <td>1</td>\n",
       "      <td>754.159807</td>\n",
       "      <td>6.232113</td>\n",
       "      <td>2021-04-20</td>\n",
       "      <td>4</td>\n",
       "      <td>Кира</td>\n",
       "      <td>22</td>\n",
       "      <td>Тюмень</td>\n",
       "      <td>ultra</td>\n",
       "      <td>Целевая аудитория</td>\n",
       "      <td>6</td>\n",
       "      <td>0</td>\n",
       "      <td>199</td>\n",
       "    </tr>\n",
       "    <tr>\n",
       "      <th>3</th>\n",
       "      <td>1</td>\n",
       "      <td>2694.783254</td>\n",
       "      <td>18.511000</td>\n",
       "      <td>2021-08-11</td>\n",
       "      <td>8</td>\n",
       "      <td>Кира</td>\n",
       "      <td>22</td>\n",
       "      <td>Тюмень</td>\n",
       "      <td>ultra</td>\n",
       "      <td>Целевая аудитория</td>\n",
       "      <td>6</td>\n",
       "      <td>0</td>\n",
       "      <td>199</td>\n",
       "    </tr>\n",
       "    <tr>\n",
       "      <th>4</th>\n",
       "      <td>1</td>\n",
       "      <td>4028.687306</td>\n",
       "      <td>26.265803</td>\n",
       "      <td>2021-08-28</td>\n",
       "      <td>8</td>\n",
       "      <td>Кира</td>\n",
       "      <td>22</td>\n",
       "      <td>Тюмень</td>\n",
       "      <td>ultra</td>\n",
       "      <td>Целевая аудитория</td>\n",
       "      <td>6</td>\n",
       "      <td>0</td>\n",
       "      <td>199</td>\n",
       "    </tr>\n",
       "    <tr>\n",
       "      <th>...</th>\n",
       "      <td>...</td>\n",
       "      <td>...</td>\n",
       "      <td>...</td>\n",
       "      <td>...</td>\n",
       "      <td>...</td>\n",
       "      <td>...</td>\n",
       "      <td>...</td>\n",
       "      <td>...</td>\n",
       "      <td>...</td>\n",
       "      <td>...</td>\n",
       "      <td>...</td>\n",
       "      <td>...</td>\n",
       "      <td>...</td>\n",
       "    </tr>\n",
       "    <tr>\n",
       "      <th>6495</th>\n",
       "      <td>699</td>\n",
       "      <td>3973.046497</td>\n",
       "      <td>24.671163</td>\n",
       "      <td>2021-08-29</td>\n",
       "      <td>8</td>\n",
       "      <td>Оксана</td>\n",
       "      <td>22</td>\n",
       "      <td>Москва</td>\n",
       "      <td>ultra</td>\n",
       "      <td>Целевая аудитория</td>\n",
       "      <td>6</td>\n",
       "      <td>0</td>\n",
       "      <td>199</td>\n",
       "    </tr>\n",
       "    <tr>\n",
       "      <th>6496</th>\n",
       "      <td>699</td>\n",
       "      <td>3288.702563</td>\n",
       "      <td>15.892886</td>\n",
       "      <td>2021-09-12</td>\n",
       "      <td>9</td>\n",
       "      <td>Оксана</td>\n",
       "      <td>22</td>\n",
       "      <td>Москва</td>\n",
       "      <td>ultra</td>\n",
       "      <td>Целевая аудитория</td>\n",
       "      <td>6</td>\n",
       "      <td>0</td>\n",
       "      <td>199</td>\n",
       "    </tr>\n",
       "    <tr>\n",
       "      <th>6497</th>\n",
       "      <td>699</td>\n",
       "      <td>3076.159348</td>\n",
       "      <td>14.389525</td>\n",
       "      <td>2021-09-26</td>\n",
       "      <td>9</td>\n",
       "      <td>Оксана</td>\n",
       "      <td>22</td>\n",
       "      <td>Москва</td>\n",
       "      <td>ultra</td>\n",
       "      <td>Целевая аудитория</td>\n",
       "      <td>6</td>\n",
       "      <td>0</td>\n",
       "      <td>199</td>\n",
       "    </tr>\n",
       "    <tr>\n",
       "      <th>6498</th>\n",
       "      <td>699</td>\n",
       "      <td>4707.845501</td>\n",
       "      <td>15.839579</td>\n",
       "      <td>2021-10-17</td>\n",
       "      <td>10</td>\n",
       "      <td>Оксана</td>\n",
       "      <td>22</td>\n",
       "      <td>Москва</td>\n",
       "      <td>ultra</td>\n",
       "      <td>Целевая аудитория</td>\n",
       "      <td>6</td>\n",
       "      <td>0</td>\n",
       "      <td>199</td>\n",
       "    </tr>\n",
       "    <tr>\n",
       "      <th>6499</th>\n",
       "      <td>699</td>\n",
       "      <td>3202.890770</td>\n",
       "      <td>25.217345</td>\n",
       "      <td>2021-12-03</td>\n",
       "      <td>12</td>\n",
       "      <td>Оксана</td>\n",
       "      <td>22</td>\n",
       "      <td>Москва</td>\n",
       "      <td>ultra</td>\n",
       "      <td>Целевая аудитория</td>\n",
       "      <td>6</td>\n",
       "      <td>0</td>\n",
       "      <td>199</td>\n",
       "    </tr>\n",
       "  </tbody>\n",
       "</table>\n",
       "<p>6500 rows × 13 columns</p>\n",
       "</div>"
      ],
      "text/plain": [
       "      user_id     distance   duration       date  month    name  age    city  \\\n",
       "0           1  4409.919140  25.599769 2021-01-01      1    Кира   22  Тюмень   \n",
       "1           1  2617.592153  15.816871 2021-01-18      1    Кира   22  Тюмень   \n",
       "2           1   754.159807   6.232113 2021-04-20      4    Кира   22  Тюмень   \n",
       "3           1  2694.783254  18.511000 2021-08-11      8    Кира   22  Тюмень   \n",
       "4           1  4028.687306  26.265803 2021-08-28      8    Кира   22  Тюмень   \n",
       "...       ...          ...        ...        ...    ...     ...  ...     ...   \n",
       "6495      699  3973.046497  24.671163 2021-08-29      8  Оксана   22  Москва   \n",
       "6496      699  3288.702563  15.892886 2021-09-12      9  Оксана   22  Москва   \n",
       "6497      699  3076.159348  14.389525 2021-09-26      9  Оксана   22  Москва   \n",
       "6498      699  4707.845501  15.839579 2021-10-17     10  Оксана   22  Москва   \n",
       "6499      699  3202.890770  25.217345 2021-12-03     12  Оксана   22  Москва   \n",
       "\n",
       "     subscription_type       age_category  minute_price  start_ride_price  \\\n",
       "0                ultra  Целевая аудитория             6                 0   \n",
       "1                ultra  Целевая аудитория             6                 0   \n",
       "2                ultra  Целевая аудитория             6                 0   \n",
       "3                ultra  Целевая аудитория             6                 0   \n",
       "4                ultra  Целевая аудитория             6                 0   \n",
       "...                ...                ...           ...               ...   \n",
       "6495             ultra  Целевая аудитория             6                 0   \n",
       "6496             ultra  Целевая аудитория             6                 0   \n",
       "6497             ultra  Целевая аудитория             6                 0   \n",
       "6498             ultra  Целевая аудитория             6                 0   \n",
       "6499             ultra  Целевая аудитория             6                 0   \n",
       "\n",
       "      subscription_fee  \n",
       "0                  199  \n",
       "1                  199  \n",
       "2                  199  \n",
       "3                  199  \n",
       "4                  199  \n",
       "...                ...  \n",
       "6495               199  \n",
       "6496               199  \n",
       "6497               199  \n",
       "6498               199  \n",
       "6499               199  \n",
       "\n",
       "[6500 rows x 13 columns]"
      ]
     },
     "metadata": {},
     "output_type": "display_data"
    }
   ],
   "source": [
    "pay_sub = full_data.query(\"`subscription_type` != 'free'\")\n",
    "display(pay_sub)"
   ]
  },
  {
   "cell_type": "code",
   "execution_count": 37,
   "id": "9e046596",
   "metadata": {},
   "outputs": [
    {
     "data": {
      "image/png": "[encoded data removed]",
      "text/plain": [
       "<Figure size 432x288 with 1 Axes>"
      ]
     },
     "metadata": {
      "needs_background": "light"
     },
     "output_type": "display_data"
    },
    {
     "data": {
      "text/plain": [
       "<Figure size 1440x1440 with 0 Axes>"
      ]
     },
     "metadata": {},
     "output_type": "display_data"
    }
   ],
   "source": [
    "plt.hist(free_sub['distance'], bins=40, range = (0, 7000))\n",
    "plt.title('Расстояние, бесплатный тариф')\n",
    "plt.xlabel('Расстояние, м')\n",
    "plt.ylabel('Количество поездок')\n",
    "plt.figure(figsize=(20,20))\n",
    "plt.show()"
   ]
  },
  {
   "cell_type": "code",
   "execution_count": 38,
   "id": "1062bde0",
   "metadata": {},
   "outputs": [
    {
     "data": {
      "image/png": "[encoded data removed]",
      "text/plain": [
       "<Figure size 432x288 with 1 Axes>"
      ]
     },
     "metadata": {
      "needs_background": "light"
     },
     "output_type": "display_data"
    },
    {
     "data": {
      "text/plain": [
       "<Figure size 1440x1440 with 0 Axes>"
      ]
     },
     "metadata": {},
     "output_type": "display_data"
    }
   ],
   "source": [
    "plt.hist(pay_sub['distance'], bins=40, range = (0, 7000))\n",
    "plt.title('Расстояние, платный тариф')\n",
    "plt.xlabel('Расстояние, м')\n",
    "plt.ylabel('Количество поездок')\n",
    "plt.figure(figsize=(20,20))\n",
    "plt.show()"
   ]
  },
  {
   "cell_type": "code",
   "execution_count": 1,
   "id": "39c904eb",
   "metadata": {},
   "outputs": [
    {
     "ename": "NameError",
     "evalue": "name 'plt' is not defined",
     "output_type": "error",
     "traceback": [
      "\u001b[0;31m---------------------------------------------------------------------------\u001b[0m",
      "\u001b[0;31mNameError\u001b[0m                                 Traceback (most recent call last)",
      "\u001b[0;32m/tmp/ipykernel_48/4004283124.py\u001b[0m in \u001b[0;36m<module>\u001b[0;34m\u001b[0m\n\u001b[0;32m----> 1\u001b[0;31m \u001b[0mplt\u001b[0m\u001b[0;34m.\u001b[0m\u001b[0mhist\u001b[0m\u001b[0;34m(\u001b[0m\u001b[0mfree_sub\u001b[0m\u001b[0;34m[\u001b[0m\u001b[0;34m'duration'\u001b[0m\u001b[0;34m]\u001b[0m\u001b[0;34m,\u001b[0m \u001b[0mbins\u001b[0m\u001b[0;34m=\u001b[0m\u001b[0;36m40\u001b[0m\u001b[0;34m,\u001b[0m \u001b[0mrange\u001b[0m \u001b[0;34m=\u001b[0m \u001b[0;34m(\u001b[0m\u001b[0;36m0\u001b[0m\u001b[0;34m,\u001b[0m \u001b[0;36m40\u001b[0m\u001b[0;34m)\u001b[0m\u001b[0;34m)\u001b[0m\u001b[0;34m\u001b[0m\u001b[0;34m\u001b[0m\u001b[0m\n\u001b[0m\u001b[1;32m      2\u001b[0m \u001b[0mplt\u001b[0m\u001b[0;34m.\u001b[0m\u001b[0mtitle\u001b[0m\u001b[0;34m(\u001b[0m\u001b[0;34m'Продолжительность, бесплатный тариф'\u001b[0m\u001b[0;34m)\u001b[0m\u001b[0;34m\u001b[0m\u001b[0;34m\u001b[0m\u001b[0m\n\u001b[1;32m      3\u001b[0m \u001b[0mplt\u001b[0m\u001b[0;34m.\u001b[0m\u001b[0mxlabel\u001b[0m\u001b[0;34m(\u001b[0m\u001b[0;34m'Продолжительность, мин'\u001b[0m\u001b[0;34m)\u001b[0m\u001b[0;34m\u001b[0m\u001b[0;34m\u001b[0m\u001b[0m\n\u001b[1;32m      4\u001b[0m \u001b[0mplt\u001b[0m\u001b[0;34m.\u001b[0m\u001b[0mylabel\u001b[0m\u001b[0;34m(\u001b[0m\u001b[0;34m'Количество поездок'\u001b[0m\u001b[0;34m)\u001b[0m\u001b[0;34m\u001b[0m\u001b[0;34m\u001b[0m\u001b[0m\n\u001b[1;32m      5\u001b[0m \u001b[0mplt\u001b[0m\u001b[0;34m.\u001b[0m\u001b[0mfigure\u001b[0m\u001b[0;34m(\u001b[0m\u001b[0mfigsize\u001b[0m\u001b[0;34m=\u001b[0m\u001b[0;34m(\u001b[0m\u001b[0;36m30\u001b[0m\u001b[0;34m,\u001b[0m\u001b[0;36m20\u001b[0m\u001b[0;34m)\u001b[0m\u001b[0;34m)\u001b[0m\u001b[0;34m\u001b[0m\u001b[0;34m\u001b[0m\u001b[0m\n",
      "\u001b[0;31mNameError\u001b[0m: name 'plt' is not defined"
     ]
    }
   ],
   "source": [
    "plt.hist(free_sub['duration'], bins=40, range = (0, 40))\n",
    "plt.title('Продолжительность, бесплатный тариф')\n",
    "plt.xlabel('Продолжительность, мин')\n",
    "plt.ylabel('Количество поездок')\n",
    "plt.figure(figsize=(20,20))\n",
    "plt.show()"
   ]
  },
  {
   "cell_type": "code",
   "execution_count": null,
   "id": "4c42cc58",
   "metadata": {},
   "outputs": [],
   "source": []
  },
  {
   "cell_type": "code",
   "execution_count": 40,
   "id": "7943c7ed",
   "metadata": {},
   "outputs": [
    {
     "data": {
      "image/png": "[encoded data removed]",
      "text/plain": [
       "<Figure size 432x288 with 1 Axes>"
      ]
     },
     "metadata": {
      "needs_background": "light"
     },
     "output_type": "display_data"
    },
    {
     "data": {
      "text/plain": [
       "<Figure size 1440x1440 with 0 Axes>"
      ]
     },
     "metadata": {},
     "output_type": "display_data"
    }
   ],
   "source": [
    "plt.hist(pay_sub['duration'], bins=40, range = (0, 40))\n",
    "plt.title('Продолжительность, платный тариф')\n",
    "plt.xlabel('Продолжительность, мин')\n",
    "plt.ylabel('Количество поездок')\n",
    "plt.figure(figsize=(20,20))\n",
    "plt.show()"
   ]
  },
  {
   "cell_type": "code",
   "execution_count": 41,
   "id": "5f332d1a",
   "metadata": {},
   "outputs": [
    {
     "data": {
      "text/plain": [
       "0.7640905947441217"
      ]
     },
     "execution_count": 41,
     "metadata": {},
     "output_type": "execute_result"
    }
   ],
   "source": [
    "free_ssub = free_sub.query(\"10 <= duration <= 25\")\n",
    "free_ssub['duration'].count()/free_sub['duration'].count()"
   ]
  },
  {
   "cell_type": "code",
   "execution_count": 42,
   "id": "61ec4b21",
   "metadata": {},
   "outputs": [
    {
     "data": {
      "text/plain": [
       "0.8301538461538461"
      ]
     },
     "execution_count": 42,
     "metadata": {},
     "output_type": "execute_result"
    }
   ],
   "source": [
    "pay_ssub = pay_sub.query(\"10 <= duration <= 25\")\n",
    "pay_ssub['duration'].count()/pay_sub['duration'].count()\n"
   ]
  },
  {
   "cell_type": "markdown",
   "id": "850bca4c",
   "metadata": {},
   "source": [
    "Объединили данные о пользователях, поездках и тарифах в один датафрейм - full_data.\n",
    "\n",
    "Выделили два датафрейма на основе full_data:\n",
    "\n",
    "free_sub - Информация о пользователях с бесплатным тарифом  \n",
    "pay_sub - Информация о пользователях с платным тарифом  \n",
    "Визуализировали информацию о расстоянии и времени для каждого из тарифов.\n",
    "\n",
    "Для бесплатного тарифа время поездки составляет от 10 до  28 минут, и проезжают от 2 до 5,5 км.\n",
    "\n",
    "Платный тариф. В основном время укладывается в промежуток от 12 до 25 минут. В основном преодоленное расстояние находится в промежутке между 2,5 и 5 км.\n",
    "\n",
    "Можно сделать вывод о том, что пользователи бесплатного тарифа в основном совершают более длинные поездки, однако \"плотность\" графика продолжительности у платного тарифа выше, следовательно использующие его клиенты берут самокат на более продолжительное время. (процент этих \"выгодных\" поездок больше\""
   ]
  },
  {
   "cell_type": "markdown",
   "id": "402d620f",
   "metadata": {},
   "source": [
    "#### Шаг 5. Подсчёт выручки"
   ]
  },
  {
   "cell_type": "code",
   "execution_count": 43,
   "id": "53049e0a",
   "metadata": {},
   "outputs": [],
   "source": [
    "total_data = pd.pivot_table(full_data,\n",
    "                           index=['user_id', 'month'],\n",
    "                           values = ['distance', 'duration', 'name', 'subscription_type'],\n",
    "                           aggfunc = {'distance': sum, \n",
    "                                      'duration' : sum, \n",
    "                                      'name' : len, \n",
    "                                      'subscription_type' : min})"
   ]
  },
  {
   "cell_type": "code",
   "execution_count": 44,
   "id": "5a10654e",
   "metadata": {},
   "outputs": [],
   "source": [
    "total_data['duration'] = np.ceil(total_data['duration'])\n",
    "    #Округляем длительность поездки для удобства расчета\n",
    "\n",
    "\n",
    "def revenue(row): \n",
    "    \n",
    "    if row['subscription_type'] == 'ultra':\n",
    "        return 6 * row['duration'] + 199\n",
    "    elif row['subscription_type'] == 'free':\n",
    "        return 8 * row['duration'] + 50 * row['name']\n",
    "    \n",
    "\n",
    "total_data['revenue_per_month'] = total_data.apply(revenue, axis=1)\n",
    " \n",
    "    #Стоимость поездок\n",
    "    \n"
   ]
  },
  {
   "cell_type": "code",
   "execution_count": 45,
   "id": "83fe9ae0",
   "metadata": {},
   "outputs": [
    {
     "data": {
      "text/html": [
       "<div>\n",
       "<style scoped>\n",
       "    .dataframe tbody tr th:only-of-type {\n",
       "        vertical-align: middle;\n",
       "    }\n",
       "\n",
       "    .dataframe tbody tr th {\n",
       "        vertical-align: top;\n",
       "    }\n",
       "\n",
       "    .dataframe thead th {\n",
       "        text-align: right;\n",
       "    }\n",
       "</style>\n",
       "<table border=\"1\" class=\"dataframe\">\n",
       "  <thead>\n",
       "    <tr style=\"text-align: right;\">\n",
       "      <th></th>\n",
       "      <th></th>\n",
       "      <th>distance</th>\n",
       "      <th>duration</th>\n",
       "      <th>name</th>\n",
       "      <th>subscription_type</th>\n",
       "      <th>revenue_per_month</th>\n",
       "    </tr>\n",
       "    <tr>\n",
       "      <th>user_id</th>\n",
       "      <th>month</th>\n",
       "      <th></th>\n",
       "      <th></th>\n",
       "      <th></th>\n",
       "      <th></th>\n",
       "      <th></th>\n",
       "    </tr>\n",
       "  </thead>\n",
       "  <tbody>\n",
       "    <tr>\n",
       "      <th rowspan=\"6\" valign=\"top\">1</th>\n",
       "      <th>1</th>\n",
       "      <td>7027.511294</td>\n",
       "      <td>42.0</td>\n",
       "      <td>2</td>\n",
       "      <td>ultra</td>\n",
       "      <td>451.0</td>\n",
       "    </tr>\n",
       "    <tr>\n",
       "      <th>4</th>\n",
       "      <td>754.159807</td>\n",
       "      <td>7.0</td>\n",
       "      <td>1</td>\n",
       "      <td>ultra</td>\n",
       "      <td>241.0</td>\n",
       "    </tr>\n",
       "    <tr>\n",
       "      <th>8</th>\n",
       "      <td>6723.470560</td>\n",
       "      <td>45.0</td>\n",
       "      <td>2</td>\n",
       "      <td>ultra</td>\n",
       "      <td>469.0</td>\n",
       "    </tr>\n",
       "    <tr>\n",
       "      <th>10</th>\n",
       "      <td>5809.911100</td>\n",
       "      <td>32.0</td>\n",
       "      <td>2</td>\n",
       "      <td>ultra</td>\n",
       "      <td>391.0</td>\n",
       "    </tr>\n",
       "    <tr>\n",
       "      <th>11</th>\n",
       "      <td>7003.499363</td>\n",
       "      <td>54.0</td>\n",
       "      <td>3</td>\n",
       "      <td>ultra</td>\n",
       "      <td>523.0</td>\n",
       "    </tr>\n",
       "    <tr>\n",
       "      <th>12</th>\n",
       "      <td>6751.629942</td>\n",
       "      <td>28.0</td>\n",
       "      <td>2</td>\n",
       "      <td>ultra</td>\n",
       "      <td>367.0</td>\n",
       "    </tr>\n",
       "    <tr>\n",
       "      <th rowspan=\"7\" valign=\"top\">2</th>\n",
       "      <th>12</th>\n",
       "      <td>3828.248580</td>\n",
       "      <td>12.0</td>\n",
       "      <td>1</td>\n",
       "      <td>ultra</td>\n",
       "      <td>271.0</td>\n",
       "    </tr>\n",
       "    <tr>\n",
       "      <th>8</th>\n",
       "      <td>923.007439</td>\n",
       "      <td>7.0</td>\n",
       "      <td>1</td>\n",
       "      <td>ultra</td>\n",
       "      <td>241.0</td>\n",
       "    </tr>\n",
       "    <tr>\n",
       "      <th>7</th>\n",
       "      <td>6780.722964</td>\n",
       "      <td>47.0</td>\n",
       "      <td>2</td>\n",
       "      <td>ultra</td>\n",
       "      <td>481.0</td>\n",
       "    </tr>\n",
       "    <tr>\n",
       "      <th>10</th>\n",
       "      <td>2824.636598</td>\n",
       "      <td>19.0</td>\n",
       "      <td>1</td>\n",
       "      <td>ultra</td>\n",
       "      <td>313.0</td>\n",
       "    </tr>\n",
       "    <tr>\n",
       "      <th>4</th>\n",
       "      <td>6164.381824</td>\n",
       "      <td>40.0</td>\n",
       "      <td>2</td>\n",
       "      <td>ultra</td>\n",
       "      <td>439.0</td>\n",
       "    </tr>\n",
       "    <tr>\n",
       "      <th>3</th>\n",
       "      <td>10187.723006</td>\n",
       "      <td>61.0</td>\n",
       "      <td>3</td>\n",
       "      <td>ultra</td>\n",
       "      <td>565.0</td>\n",
       "    </tr>\n",
       "    <tr>\n",
       "      <th>6</th>\n",
       "      <td>3255.338202</td>\n",
       "      <td>14.0</td>\n",
       "      <td>1</td>\n",
       "      <td>ultra</td>\n",
       "      <td>283.0</td>\n",
       "    </tr>\n",
       "    <tr>\n",
       "      <th>3</th>\n",
       "      <th>1</th>\n",
       "      <td>3061.777147</td>\n",
       "      <td>13.0</td>\n",
       "      <td>1</td>\n",
       "      <td>ultra</td>\n",
       "      <td>277.0</td>\n",
       "    </tr>\n",
       "  </tbody>\n",
       "</table>\n",
       "</div>"
      ],
      "text/plain": [
       "                   distance  duration  name subscription_type  \\\n",
       "user_id month                                                   \n",
       "1       1       7027.511294      42.0     2             ultra   \n",
       "        4        754.159807       7.0     1             ultra   \n",
       "        8       6723.470560      45.0     2             ultra   \n",
       "        10      5809.911100      32.0     2             ultra   \n",
       "        11      7003.499363      54.0     3             ultra   \n",
       "        12      6751.629942      28.0     2             ultra   \n",
       "2       12      3828.248580      12.0     1             ultra   \n",
       "        8        923.007439       7.0     1             ultra   \n",
       "        7       6780.722964      47.0     2             ultra   \n",
       "        10      2824.636598      19.0     1             ultra   \n",
       "        4       6164.381824      40.0     2             ultra   \n",
       "        3      10187.723006      61.0     3             ultra   \n",
       "        6       3255.338202      14.0     1             ultra   \n",
       "3       1       3061.777147      13.0     1             ultra   \n",
       "\n",
       "               revenue_per_month  \n",
       "user_id month                     \n",
       "1       1                  451.0  \n",
       "        4                  241.0  \n",
       "        8                  469.0  \n",
       "        10                 391.0  \n",
       "        11                 523.0  \n",
       "        12                 367.0  \n",
       "2       12                 271.0  \n",
       "        8                  241.0  \n",
       "        7                  481.0  \n",
       "        10                 313.0  \n",
       "        4                  439.0  \n",
       "        3                  565.0  \n",
       "        6                  283.0  \n",
       "3       1                  277.0  "
      ]
     },
     "execution_count": 45,
     "metadata": {},
     "output_type": "execute_result"
    }
   ],
   "source": [
    "total_data.sort_values(by='user_id').head(14)"
   ]
  },
  {
   "cell_type": "code",
   "execution_count": 46,
   "id": "d02528d8",
   "metadata": {},
   "outputs": [
    {
     "name": "stdout",
     "output_type": "stream",
     "text": [
      "distance             11331\n",
      "duration             11331\n",
      "name                 11331\n",
      "subscription_type    11331\n",
      "revenue_per_month    11331\n",
      "dtype: int64\n"
     ]
    }
   ],
   "source": [
    "print(total_data.count())"
   ]
  },
  {
   "cell_type": "code",
   "execution_count": 47,
   "id": "924015e9",
   "metadata": {},
   "outputs": [
    {
     "name": "stdout",
     "output_type": "stream",
     "text": [
      "Общая выручка от платной подписки 1638597.0\n",
      "4533\n",
      "Средняя выручка от одного клиента 361.48180013236265\n"
     ]
    }
   ],
   "source": [
    "\n",
    "tot_p=(total_data.query(\"`subscription_type` != 'free'\"))['revenue_per_month'].sum()\n",
    "\n",
    "print( 'Общая выручка от платной подписки' ,tot_p)\n",
    "\n",
    "a=(total_data.query(\"`subscription_type` != 'free'\"))['revenue_per_month'].count()\n",
    "print(a)\n",
    "print( 'Средняя выручка от одного клиента' ,tot_p/a)"
   ]
  },
  {
   "cell_type": "code",
   "execution_count": 48,
   "id": "b63da2f3",
   "metadata": {},
   "outputs": [
    {
     "name": "stdout",
     "output_type": "stream",
     "text": [
      "Общая выручка от бесплатной подписки 2215080.0\n",
      "6798\n",
      "Средняя выручка от одного клиента 325.84289496910856\n"
     ]
    }
   ],
   "source": [
    "tot_f=(total_data.query(\"subscription_type == 'free'\"))['revenue_per_month'].sum()\n",
    "\n",
    "print( 'Общая выручка от бесплатной подписки' ,tot_f)\n",
    "\n",
    "b=(total_data.query(\"subscription_type == 'free'\"))['revenue_per_month'].count()\n",
    "print(b)\n",
    "print( 'Средняя выручка от одного клиента' ,tot_f/b)"
   ]
  },
  {
   "cell_type": "markdown",
   "id": "9734649c",
   "metadata": {},
   "source": [
    "Вывод\n",
    "\n",
    "Стояла задача посчитать выручку от пользователя, для этого был создан отдельный фрейм с данными, с помощью которого проводились расчеты месячной выручки.  \n",
    "Дополнительно посчитана общая выручка от каждого вида подписок\n",
    "\n",
    "На основе полученных данных можно сделать выводы о том, что наибольшую выручку приносят пользователи с беспплатной подпиской, однако \"полезность\" отдельного платного пользователя выше."
   ]
  },
  {
   "cell_type": "markdown",
   "id": "41545ac0",
   "metadata": {},
   "source": [
    "#### Шаг 6. Проверка гипотез"
   ]
  },
  {
   "cell_type": "markdown",
   "id": "135cc45a",
   "metadata": {},
   "source": [
    "##### \n",
    "Важно понять, тратят ли пользователи с подпиской больше времени на поездки? Если да, то пользователи с подпиской могут быть «выгоднее» для компании. Проверьте гипотезу. Используйте исходные данные о продолжительности каждой сессии — отдельно для подписчиков и тех, у кого нет подписки."
   ]
  },
  {
   "cell_type": "code",
   "execution_count": 49,
   "id": "7b9df449",
   "metadata": {},
   "outputs": [
    {
     "name": "stdout",
     "output_type": "stream",
     "text": [
      "1.2804098316645618e-34\n",
      "Отвергаем нулевую гипотезу\n"
     ]
    }
   ],
   "source": [
    "\n",
    "results = st.ttest_ind(pay_sub['duration'], free_sub['duration'],alternative = 'greater')\n",
    "\n",
    "alpha = .05\n",
    "\n",
    "print(results.pvalue)\n",
    "\n",
    "if results.pvalue < alpha:\n",
    "    print('Отвергаем нулевую гипотезу')\n",
    "else:\n",
    "    print('Не удалось отвергнуть нулевую гипотезу')"
   ]
  },
  {
   "cell_type": "code",
   "execution_count": 50,
   "id": "c1bd3cd2",
   "metadata": {},
   "outputs": [
    {
     "data": {
      "text/plain": [
       "month\n",
       "1     18.485477\n",
       "2     18.769602\n",
       "3     18.448815\n",
       "4     18.535757\n",
       "5     18.669553\n",
       "6     18.577652\n",
       "7     18.616210\n",
       "8     18.673556\n",
       "9     18.500180\n",
       "10    18.385764\n",
       "11    18.516679\n",
       "12    18.329836\n",
       "Name: duration, dtype: float64"
      ]
     },
     "metadata": {},
     "output_type": "display_data"
    }
   ],
   "source": [
    "alfa= pay_sub.groupby('month')['duration'].agg('mean')\n",
    "display(alfa)"
   ]
  },
  {
   "cell_type": "code",
   "execution_count": 51,
   "id": "3ab3a4e7",
   "metadata": {},
   "outputs": [
    {
     "data": {
      "image/png": "[encoded data removed]",
      "text/plain": [
       "<Figure size 720x720 with 1 Axes>"
      ]
     },
     "metadata": {
      "needs_background": "light"
     },
     "output_type": "display_data"
    }
   ],
   "source": [
    "alfa.plot.bar(figsize=(10, 10 ), ec='black', legend=True)\n",
    "plt.title('Средняя продолжительность поездки в зависимости от месяца')\n",
    "plt.xlabel('Месяц')\n",
    "plt.ylabel('Средняя продолжительность мин')\n",
    "plt.ylim(0, 20)\n",
    "plt.show()"
   ]
  },
  {
   "cell_type": "code",
   "execution_count": 52,
   "id": "6b4a9faa",
   "metadata": {},
   "outputs": [
    {
     "data": {
      "text/plain": [
       "month\n",
       "1     17.464604\n",
       "2     17.145547\n",
       "3     17.067239\n",
       "4     17.535376\n",
       "5     17.641981\n",
       "6     17.552159\n",
       "7     17.486667\n",
       "8     17.153732\n",
       "9     17.415103\n",
       "10    17.212303\n",
       "11    17.424713\n",
       "12    17.562634\n",
       "Name: duration, dtype: float64"
      ]
     },
     "metadata": {},
     "output_type": "display_data"
    }
   ],
   "source": [
    "beta= free_sub.groupby('month')['duration'].agg('mean')\n",
    "display(beta)\n"
   ]
  },
  {
   "cell_type": "code",
   "execution_count": 53,
   "id": "9cc225da",
   "metadata": {},
   "outputs": [
    {
     "data": {
      "image/png": "[encoded data removed]",
      "text/plain": [
       "<Figure size 720x720 with 1 Axes>"
      ]
     },
     "metadata": {
      "needs_background": "light"
     },
     "output_type": "display_data"
    }
   ],
   "source": [
    "beta.plot.bar(figsize=(10, 10 ), ec='black', legend=True)\n",
    "plt.title('Средняя продолжительность поездки в зависимости от месяца')\n",
    "plt.xlabel('Месяц')\n",
    "plt.ylabel('Средняя продолжительность мин')\n",
    "plt.ylim(0, 20)\n",
    "plt.show()"
   ]
  },
  {
   "cell_type": "code",
   "execution_count": 54,
   "id": "9ba7ed9e",
   "metadata": {},
   "outputs": [
    {
     "data": {
      "text/plain": [
       "<AxesSubplot:xlabel='month'>"
      ]
     },
     "execution_count": 54,
     "metadata": {},
     "output_type": "execute_result"
    },
    {
     "data": {
      "image/png": "[encoded data removed]",
      "text/plain": [
       "<Figure size 1296x864 with 1 Axes>"
      ]
     },
     "metadata": {
      "needs_background": "light"
     },
     "output_type": "display_data"
    }
   ],
   "source": [
    "pivot_table_beta = free_sub.pivot_table(index = 'month', values = 'duration', aggfunc = ['mean', 'count', 'median'])\n",
    "pivot_table_beta.columns = ['mean', 'count', 'median']\n",
    "\n",
    "\n",
    "\n",
    "pivot_table_alfa = pay_sub.pivot_table(index = 'month', values = 'duration', aggfunc = ['mean', 'count', 'median'])\n",
    "pivot_table_alfa.columns = ['mean', 'count', 'median']\n",
    "\n",
    "ax=pivot_table_alfa.plot(y = 'median',marker='o', grid=True, figsize=(10, 10), legend=False)\n",
    "pivot_table_beta.plot(ax=ax ,y = 'median',marker='o', grid=True, figsize=(18, 12), legend=False)"
   ]
  },
  {
   "cell_type": "code",
   "execution_count": null,
   "id": "701eeded",
   "metadata": {},
   "outputs": [],
   "source": []
  },
  {
   "cell_type": "markdown",
   "id": "a5d33c0c",
   "metadata": {},
   "source": [
    "Мы проверили нулевую гипотезу и отверглии ее.  \n",
    "На графике выше наглядно показано что продолжительность поездок у клиентов безз подписок выше, следовательно мы принимаем альтернативную гипотезу.\n"
   ]
  },
  {
   "cell_type": "code",
   "execution_count": 55,
   "id": "9c0e3cdd",
   "metadata": {},
   "outputs": [
    {
     "name": "stdout",
     "output_type": "stream",
     "text": [
      "0.9195368847849785\n",
      "Не удалось отвергнуть нулевую гипотезу\n"
     ]
    }
   ],
   "source": [
    "ultra_dist = pay_sub['distance']\n",
    "\n",
    "interested_value = 3130.0\n",
    "alpha = 0.05\n",
    "\n",
    "results = st.ttest_1samp(\n",
    "    ultra_dist, \n",
    "    interested_value,\n",
    "    alternative='greater')\n",
    "print(results.pvalue)\n",
    "\n",
    "if (results.pvalue < alpha):\n",
    "    print('Отвергаем нулевую гипотезу')\n",
    "else:\n",
    "    print('Не удалось отвергнуть нулевую гипотезу')"
   ]
  },
  {
   "cell_type": "markdown",
   "id": "9fcc6b56",
   "metadata": {},
   "source": [
    "Проверили гипотезу, и мы не можем утверждать, что расстояние, которое проехали пользователи на тарифе ultra не превышает 3130 метров.\n",
    "Плюсом опровержением этому служат данные обработанные ранее, см пункт 4 раздел о расстоянии пройденном платными пользователями."
   ]
  },
  {
   "cell_type": "markdown",
   "id": "be95c3f2",
   "metadata": {},
   "source": [
    "##### \n",
    "Проверьте гипотезу о том, будет ли помесячная выручка от пользователей с подпиской по месяцам выше, чем выручка от пользователей без подписки. Сделайте вывод."
   ]
  },
  {
   "cell_type": "code",
   "execution_count": 56,
   "id": "6c971d8e",
   "metadata": {},
   "outputs": [
    {
     "name": "stdout",
     "output_type": "stream",
     "text": [
      "2.8130926188487286e-35\n",
      "Отвергаем нулевую гипотезу\n"
     ]
    }
   ],
   "source": [
    "ultra_per_mnth = total_data.loc[total_data.subscription_type == 'ultra', 'revenue_per_month'] \n",
    "\n",
    "free_per_mnth = total_data.loc[total_data.subscription_type == 'free', 'revenue_per_month'] \n",
    "\n",
    "\n",
    "results = st.ttest_ind(ultra_per_mnth, \n",
    "                       free_per_mnth,\n",
    "                       alternative = 'greater')\n",
    "\n",
    "alpha = .05\n",
    "\n",
    "print(results.pvalue)\n",
    "\n",
    "if results.pvalue < alpha:\n",
    "    print('Отвергаем нулевую гипотезу')\n",
    "else:\n",
    "    print('Не удалось отвергнуть нулевую гипотезу')"
   ]
  },
  {
   "cell_type": "code",
   "execution_count": 57,
   "id": "29b140a1",
   "metadata": {},
   "outputs": [
    {
     "name": "stdout",
     "output_type": "stream",
     "text": [
      "Общая выручка от платной подписки 1638597.0\n",
      "Средняя выручка от одного клиента 361.48180013236265\n"
     ]
    }
   ],
   "source": [
    "print( 'Общая выручка от платной подписки' ,(total_data.query(\"`subscription_type` != 'free'\"))['revenue_per_month'].sum())\n",
    "\n",
    "a=(total_data.query(\"`subscription_type` != 'free'\"))['revenue_per_month'].count()\n",
    "print( 'Средняя выручка от одного клиента' ,((total_data.query(\"`subscription_type` != 'free'\"))['revenue_per_month'].sum()/a))\n",
    "\n",
    "\n"
   ]
  },
  {
   "cell_type": "code",
   "execution_count": 58,
   "id": "f7328f31",
   "metadata": {},
   "outputs": [
    {
     "name": "stdout",
     "output_type": "stream",
     "text": [
      "Общая выручка от бесплатной подписки 2215080.0\n",
      "Средняя выручка от одного клиента 325.84289496910856\n"
     ]
    }
   ],
   "source": [
    "print( 'Общая выручка от бесплатной подписки' ,(total_data.query(\"`subscription_type` == 'free'\"))['revenue_per_month'].sum())\n",
    "b=(total_data.query(\"`subscription_type` == 'free'\"))['revenue_per_month'].count()\n",
    "print( 'Средняя выручка от одного клиента' ,((total_data.query(\"`subscription_type` == 'free'\"))['revenue_per_month'].sum()/b))"
   ]
  },
  {
   "cell_type": "markdown",
   "id": "f554c2b9",
   "metadata": {},
   "source": [
    "опять же это рассматривалось ранее, средняя выручка от клиентов без подписки выше, следовательно нулевую гипотезу отвергаем"
   ]
  },
  {
   "cell_type": "markdown",
   "id": "00d7c4d9",
   "metadata": {},
   "source": [
    "##### \n",
    "Представьте такую ситуацию: техническая команда сервиса обновила сервера, с которыми взаимодействует мобильное приложение. Она надеется, что из-за этого количество обращений в техподдержку значимо снизилось. Некоторый файл содержит для каждого пользователя данные о количестве обращений до обновления и после него. Какой тест вам понадобился бы для проверки этой гипотезы?"
   ]
  },
  {
   "cell_type": "markdown",
   "id": "77bb7065",
   "metadata": {},
   "source": [
    "Будем использовать гипотезу о равенстве средних для зависимых выборок.\n",
    "\n",
    "\n",
    "Гипотезы будут сформулированы так:\n",
    "\n",
    "H0 : μ1 = μ2\n",
    "\n",
    "H1 : μ1 != μ2\n",
    "\n",
    "где μ1 и μ2 - средние значения количество обращений в техподдержку до и после изменения.\n",
    "\n",
    "Метод, который нужно использовать при сравнении: scipy.stats.ttest_rel()"
   ]
  },
  {
   "cell_type": "markdown",
   "id": "61213c5e",
   "metadata": {},
   "source": [
    "#### Шаг 7. Распределения"
   ]
  },
  {
   "cell_type": "markdown",
   "id": "f1645d37",
   "metadata": {},
   "source": [
    "##### \n",
    "\n",
    "Отделу маркетинга GoFast поставили задачу: нужно провести акцию с раздачей промокодов на один бесплатный месяц подписки, в рамках которой как минимум 100 существующих клиентов должны продлить эту подписку. То есть по завершении периода действия подписки пользователь может либо отказаться от неё, либо продлить, совершив соответствующий платёж. "
   ]
  },
  {
   "cell_type": "code",
   "execution_count": 59,
   "id": "15f11345",
   "metadata": {},
   "outputs": [
    {
     "data": {
      "text/plain": [
       "<BarContainer object of 101 artists>"
      ]
     },
     "execution_count": 59,
     "metadata": {},
     "output_type": "execute_result"
    },
    {
     "data": {
      "image/png": "[encoded data removed]",
      "text/plain": [
       "<Figure size 432x288 with 1 Axes>"
      ]
     },
     "metadata": {
      "needs_background": "light"
     },
     "output_type": "display_data"
    }
   ],
   "source": [
    "from math import factorial\n",
    "n = 100 # количество попыток\n",
    "p = 0.1 # вероятность успеха\n",
    "\n",
    "distr = []\n",
    "\n",
    "for k in range(0, n + 1):\n",
    "    choose = factorial(n) / (factorial(k) * factorial(n - k))\n",
    "    prob = choose * p**k * (1 - p)**(n - k) \n",
    "    distr.append(prob)\n",
    "    \n",
    "plt.bar(range(0, n + 1), distr)"
   ]
  },
  {
   "cell_type": "code",
   "execution_count": 60,
   "id": "9e7f4460",
   "metadata": {},
   "outputs": [
    {
     "name": "stdout",
     "output_type": "stream",
     "text": [
      "1.0494515075362604e-21\n"
     ]
    }
   ],
   "source": [
    "distr = st.norm(100, 10) \n",
    "x = 5\n",
    "\n",
    "# считаем вероятность получить значение, равное x или меньше \n",
    "result = distr.cdf(x)\n",
    "\n",
    "print(result)"
   ]
  },
  {
   "cell_type": "markdown",
   "id": "48fe1c15",
   "metadata": {},
   "source": [
    "Пока в раздумьях как делать, прошу проверить обязательную часть"
   ]
  },
  {
   "cell_type": "markdown",
   "id": "2cee7c0e",
   "metadata": {},
   "source": [
    "#### Шаг 8. Вывод "
   ]
  },
  {
   "cell_type": "markdown",
   "id": "f2dd30f5",
   "metadata": {},
   "source": [
    "Загрузили 3 датафрейма: с пользователями, информацией о поездках, информацией о подписках.\n",
    "\n",
    "Дальше проверили данные на пропуски, их не оказалось ни в одной таблице. Поменяли тип данных у столбца date из датафрейма riders к типу даты. Также добавили столбец month с номером месяца. И удалили дубликаты строк из датафрейма с пользователями.\n",
    "\n",
    "Провели исследовательский анализ данных:\n",
    "\n",
    "Вывели, что количество пользователей по городам распределено примерно одинаково, нет выдающихся значений. Лидером по количеству пользователей является Пятигорск - 219 пользователей. Меньше всего пользователей в Москве - 168.\n",
    "\n",
    "Пользователей, использующих бесплатную подписку больше ~54% от общего числа пользователей. На платной подписке  ~46%.\n",
    "\n",
    "Возраст пользователей укладывается в промежуток от 12 до 43 лет, наибольшее их количество сосредоточено в промежутке от 20 до 30.  \n",
    "\n",
    "В основном пользователи проезжают от 2.5 км до 4 км.\n",
    "\n",
    "Чаще всего длительность поездки состовляет 15 - 25 минут\n",
    "\n",
    "Объединили данные о пользователях, поездках и подписках в один датафрейм. На основе объединенного датафрейма создали еще 2 датафрейма:\n",
    "\n",
    "Для пользователей с ultra подпиской\n",
    "Для пользователей с free подпиской\n",
    "Дальше визуализировали информацию о расстоянии и времени поездки для пользоватей каждого тарифа.\n",
    "\n",
    "Для бесплатного тарифа время поездки составляет от 10 до 30 минут, и проезжают от 2 до 6 км.\n",
    "\n",
    "Платный тариф. В основном время укладывается в промежуток от 15 до 25 минут. проезжают от 2,5 до 5 км.\n",
    "\n",
    "Нашли суммарное расстояние, количество поездок и суммарное время для каждого пользователя за каждый месяц - вывели все данные в отдельный датафрейм total_data. Добавили в датафрейм total_data столбец с помесячной выручкой revenue_per_month.\n",
    "\n",
    "Выясили что для компании экономически выгоднее пользователи бесплатной подписки. \n",
    "\n",
    "Проверили гипотезы:\n",
    "\n",
    "Пользователи с подпиской тратят больше времени на поездки, чем пользователи на бесплатном тарифе\n",
    "Отвергли нулевую гипотезу\n",
    "\n",
    "Пользователи с подпиской проезжают расстояние, не превышающее 3130 метров за одну поездку\n",
    "Не удалось отвергнуть нулевую гипотезу\n",
    "\n",
    "Помесячная выручка от пользователей с подпиской выше, чем выручка от пользователей без подписки\n",
    "Отвергли нулевую гипотезу"
   ]
  }
 ],
 "metadata": {
  "ExecuteTimeLog": [
   {
    "duration": 1385,
    "start_time": "2023-08-26T08:27:50.186Z"
   },
   {
    "duration": 283,
    "start_time": "2023-08-26T08:29:42.924Z"
   },
   {
    "duration": 85,
    "start_time": "2023-08-26T08:30:32.654Z"
   },
   {
    "duration": 11,
    "start_time": "2023-08-26T08:31:03.840Z"
   },
   {
    "duration": 65,
    "start_time": "2023-08-26T08:31:06.066Z"
   },
   {
    "duration": 12,
    "start_time": "2023-08-26T08:31:06.822Z"
   },
   {
    "duration": 17,
    "start_time": "2023-08-26T08:31:07.451Z"
   },
   {
    "duration": 20,
    "start_time": "2023-08-26T09:43:54.804Z"
   },
   {
    "duration": 17,
    "start_time": "2023-08-26T09:43:57.082Z"
   },
   {
    "duration": 18,
    "start_time": "2023-08-26T09:43:58.648Z"
   },
   {
    "duration": 19,
    "start_time": "2023-08-26T09:43:58.861Z"
   },
   {
    "duration": 9,
    "start_time": "2023-08-26T10:29:03.254Z"
   },
   {
    "duration": 1269,
    "start_time": "2023-08-26T10:36:44.991Z"
   },
   {
    "duration": 15,
    "start_time": "2023-08-26T10:51:29.593Z"
   },
   {
    "duration": 7,
    "start_time": "2023-08-26T12:00:59.470Z"
   },
   {
    "duration": 11,
    "start_time": "2023-08-26T12:01:00.917Z"
   },
   {
    "duration": 6,
    "start_time": "2023-08-26T12:01:01.551Z"
   },
   {
    "duration": 6,
    "start_time": "2023-08-26T12:01:36.635Z"
   },
   {
    "duration": 9,
    "start_time": "2023-08-26T12:01:38.984Z"
   },
   {
    "duration": 8,
    "start_time": "2023-08-26T12:01:41.574Z"
   },
   {
    "duration": 9,
    "start_time": "2023-08-26T12:12:00.938Z"
   },
   {
    "duration": 10,
    "start_time": "2023-08-26T12:12:01.700Z"
   },
   {
    "duration": 16,
    "start_time": "2023-08-26T12:12:02.469Z"
   },
   {
    "duration": 6,
    "start_time": "2023-08-26T12:12:06.030Z"
   },
   {
    "duration": 8,
    "start_time": "2023-08-26T12:12:12.543Z"
   },
   {
    "duration": 17,
    "start_time": "2023-08-26T12:12:32.344Z"
   },
   {
    "duration": 15,
    "start_time": "2023-08-26T12:12:34.829Z"
   },
   {
    "duration": 20,
    "start_time": "2023-08-26T12:12:42.758Z"
   },
   {
    "duration": 10,
    "start_time": "2023-08-26T12:12:44.041Z"
   },
   {
    "duration": 13,
    "start_time": "2023-08-26T12:14:13.101Z"
   },
   {
    "duration": 20,
    "start_time": "2023-08-26T12:14:18.815Z"
   },
   {
    "duration": 6,
    "start_time": "2023-08-26T12:14:37.635Z"
   },
   {
    "duration": 1192,
    "start_time": "2023-08-26T12:15:12.211Z"
   },
   {
    "duration": 1174,
    "start_time": "2023-08-26T12:15:21.337Z"
   },
   {
    "duration": 7,
    "start_time": "2023-08-26T12:15:29.562Z"
   },
   {
    "duration": 5,
    "start_time": "2023-08-26T12:16:13.020Z"
   },
   {
    "duration": 4,
    "start_time": "2023-08-26T12:16:47.246Z"
   },
   {
    "duration": 12,
    "start_time": "2023-08-26T12:17:41.382Z"
   },
   {
    "duration": 13,
    "start_time": "2023-08-26T12:17:51.626Z"
   },
   {
    "duration": 9,
    "start_time": "2023-08-26T12:18:03.510Z"
   },
   {
    "duration": 10,
    "start_time": "2023-08-26T12:20:32.294Z"
   },
   {
    "duration": 7,
    "start_time": "2023-08-26T12:21:08.324Z"
   },
   {
    "duration": 13,
    "start_time": "2023-08-26T12:21:09.237Z"
   },
   {
    "duration": 8,
    "start_time": "2023-08-26T12:21:09.413Z"
   },
   {
    "duration": 9,
    "start_time": "2023-08-26T12:21:09.564Z"
   },
   {
    "duration": 16,
    "start_time": "2023-08-26T12:44:44.591Z"
   },
   {
    "duration": 3,
    "start_time": "2023-08-26T12:55:28.352Z"
   },
   {
    "duration": 68,
    "start_time": "2023-08-26T12:55:28.713Z"
   },
   {
    "duration": 20,
    "start_time": "2023-08-26T12:55:28.900Z"
   },
   {
    "duration": 17,
    "start_time": "2023-08-26T12:55:29.086Z"
   },
   {
    "duration": 15,
    "start_time": "2023-08-26T12:55:29.272Z"
   },
   {
    "duration": 11,
    "start_time": "2023-08-26T12:55:29.680Z"
   },
   {
    "duration": 7,
    "start_time": "2023-08-26T12:55:29.969Z"
   },
   {
    "duration": 13,
    "start_time": "2023-08-26T12:55:30.142Z"
   },
   {
    "duration": 9,
    "start_time": "2023-08-26T12:55:30.344Z"
   },
   {
    "duration": 9,
    "start_time": "2023-08-26T12:55:30.720Z"
   },
   {
    "duration": 10,
    "start_time": "2023-08-26T13:43:34.126Z"
   },
   {
    "duration": 9,
    "start_time": "2023-08-26T13:43:39.658Z"
   },
   {
    "duration": 6,
    "start_time": "2023-08-26T13:43:52.790Z"
   },
   {
    "duration": 6,
    "start_time": "2023-08-26T13:44:40.513Z"
   },
   {
    "duration": 8,
    "start_time": "2023-08-26T13:44:54.983Z"
   },
   {
    "duration": 11,
    "start_time": "2023-08-26T13:45:08.882Z"
   },
   {
    "duration": 162,
    "start_time": "2023-08-26T13:45:47.361Z"
   },
   {
    "duration": 134,
    "start_time": "2023-08-26T13:45:55.438Z"
   },
   {
    "duration": 185,
    "start_time": "2023-08-26T13:46:02.234Z"
   },
   {
    "duration": 7,
    "start_time": "2023-08-26T13:52:11.639Z"
   },
   {
    "duration": 9,
    "start_time": "2023-08-26T13:52:12.260Z"
   },
   {
    "duration": 117,
    "start_time": "2023-08-26T13:52:13.427Z"
   },
   {
    "duration": 8,
    "start_time": "2023-08-26T13:53:44.402Z"
   },
   {
    "duration": 6,
    "start_time": "2023-08-26T13:53:50.203Z"
   },
   {
    "duration": 5,
    "start_time": "2023-08-26T13:54:15.743Z"
   },
   {
    "duration": 8,
    "start_time": "2023-08-26T13:54:16.293Z"
   },
   {
    "duration": 13,
    "start_time": "2023-08-26T13:55:18.385Z"
   },
   {
    "duration": 225,
    "start_time": "2023-08-26T13:55:24.850Z"
   },
   {
    "duration": 9,
    "start_time": "2023-08-26T14:21:35.177Z"
   },
   {
    "duration": 9,
    "start_time": "2023-08-26T14:21:35.372Z"
   },
   {
    "duration": 81,
    "start_time": "2023-08-26T14:21:53.880Z"
   },
   {
    "duration": 10,
    "start_time": "2023-08-26T14:21:57.716Z"
   },
   {
    "duration": 9,
    "start_time": "2023-08-26T14:21:58.105Z"
   },
   {
    "duration": 10,
    "start_time": "2023-08-26T14:22:54.700Z"
   },
   {
    "duration": 11,
    "start_time": "2023-08-26T14:23:04.654Z"
   },
   {
    "duration": 13,
    "start_time": "2023-08-26T14:23:30.916Z"
   },
   {
    "duration": 12,
    "start_time": "2023-08-26T14:24:01.698Z"
   },
   {
    "duration": 100,
    "start_time": "2023-08-26T14:24:13.027Z"
   },
   {
    "duration": 109,
    "start_time": "2023-08-26T14:24:22.899Z"
   },
   {
    "duration": 102,
    "start_time": "2023-08-26T14:24:28.117Z"
   },
   {
    "duration": 8,
    "start_time": "2023-08-26T14:28:19.766Z"
   },
   {
    "duration": 12,
    "start_time": "2023-08-26T14:28:40.568Z"
   },
   {
    "duration": 98,
    "start_time": "2023-08-26T14:37:04.828Z"
   },
   {
    "duration": 14,
    "start_time": "2023-08-26T14:37:20.099Z"
   },
   {
    "duration": 228,
    "start_time": "2023-08-26T14:38:23.954Z"
   },
   {
    "duration": 7,
    "start_time": "2023-08-26T14:38:48.062Z"
   },
   {
    "duration": 149,
    "start_time": "2023-08-26T14:38:48.650Z"
   },
   {
    "duration": 6,
    "start_time": "2023-08-26T14:39:30.680Z"
   },
   {
    "duration": 122,
    "start_time": "2023-08-26T14:39:31.482Z"
   },
   {
    "duration": 7,
    "start_time": "2023-08-26T14:39:41.913Z"
   },
   {
    "duration": 6,
    "start_time": "2023-08-26T14:39:42.473Z"
   },
   {
    "duration": 109,
    "start_time": "2023-08-26T14:39:43.015Z"
   },
   {
    "duration": 5,
    "start_time": "2023-08-26T14:39:57.220Z"
   },
   {
    "duration": 119,
    "start_time": "2023-08-26T14:39:59.475Z"
   },
   {
    "duration": 133,
    "start_time": "2023-08-26T14:40:22.164Z"
   },
   {
    "duration": 139,
    "start_time": "2023-08-26T14:40:26.266Z"
   },
   {
    "duration": 124,
    "start_time": "2023-08-26T14:40:44.851Z"
   },
   {
    "duration": 232,
    "start_time": "2023-08-26T14:40:48.142Z"
   },
   {
    "duration": 151,
    "start_time": "2023-08-26T14:40:54.802Z"
   },
   {
    "duration": 5,
    "start_time": "2023-08-26T14:41:19.572Z"
   },
   {
    "duration": 80,
    "start_time": "2023-08-26T14:41:19.938Z"
   },
   {
    "duration": 26,
    "start_time": "2023-08-26T14:41:20.110Z"
   },
   {
    "duration": 26,
    "start_time": "2023-08-26T14:41:20.276Z"
   },
   {
    "duration": 28,
    "start_time": "2023-08-26T14:41:20.464Z"
   },
   {
    "duration": 22,
    "start_time": "2023-08-26T14:41:20.832Z"
   },
   {
    "duration": 12,
    "start_time": "2023-08-26T14:41:21.011Z"
   },
   {
    "duration": 15,
    "start_time": "2023-08-26T14:41:21.200Z"
   },
   {
    "duration": 12,
    "start_time": "2023-08-26T14:41:21.379Z"
   },
   {
    "duration": 10,
    "start_time": "2023-08-26T14:41:21.559Z"
   },
   {
    "duration": 6,
    "start_time": "2023-08-26T14:41:22.663Z"
   },
   {
    "duration": 16,
    "start_time": "2023-08-26T14:41:22.858Z"
   },
   {
    "duration": 185,
    "start_time": "2023-08-26T14:41:23.045Z"
   },
   {
    "duration": 6,
    "start_time": "2023-08-26T14:41:23.438Z"
   },
   {
    "duration": 9,
    "start_time": "2023-08-26T14:41:23.624Z"
   },
   {
    "duration": 130,
    "start_time": "2023-08-26T14:41:23.816Z"
   },
   {
    "duration": 8,
    "start_time": "2023-08-26T14:41:24.207Z"
   },
   {
    "duration": 9,
    "start_time": "2023-08-26T14:41:24.408Z"
   },
   {
    "duration": 156,
    "start_time": "2023-08-26T14:41:24.605Z"
   },
   {
    "duration": 11,
    "start_time": "2023-08-26T14:41:25.003Z"
   },
   {
    "duration": 11,
    "start_time": "2023-08-26T14:41:25.200Z"
   },
   {
    "duration": 156,
    "start_time": "2023-08-26T14:41:25.402Z"
   },
   {
    "duration": 12,
    "start_time": "2023-08-26T14:41:25.795Z"
   },
   {
    "duration": 13,
    "start_time": "2023-08-26T14:41:25.995Z"
   },
   {
    "duration": 8,
    "start_time": "2023-08-26T14:41:26.199Z"
   },
   {
    "duration": 148,
    "start_time": "2023-08-26T14:41:26.402Z"
   },
   {
    "duration": 133,
    "start_time": "2023-08-26T14:41:32.355Z"
   },
   {
    "duration": 20,
    "start_time": "2023-08-26T14:50:45.930Z"
   },
   {
    "duration": 47,
    "start_time": "2023-08-26T14:51:06.144Z"
   },
   {
    "duration": 23,
    "start_time": "2023-08-26T14:51:49.938Z"
   },
   {
    "duration": 21,
    "start_time": "2023-08-26T15:09:32.505Z"
   },
   {
    "duration": 196,
    "start_time": "2023-08-26T15:17:21.835Z"
   },
   {
    "duration": 197,
    "start_time": "2023-08-26T15:17:24.727Z"
   },
   {
    "duration": 203,
    "start_time": "2023-08-26T15:18:31.617Z"
   },
   {
    "duration": 261,
    "start_time": "2023-08-26T15:18:46.729Z"
   },
   {
    "duration": 188,
    "start_time": "2023-08-26T15:19:08.751Z"
   },
   {
    "duration": 181,
    "start_time": "2023-08-26T15:19:11.365Z"
   },
   {
    "duration": 200,
    "start_time": "2023-08-26T15:24:13.614Z"
   },
   {
    "duration": 196,
    "start_time": "2023-08-26T15:24:15.711Z"
   },
   {
    "duration": 22,
    "start_time": "2023-08-26T15:30:51.708Z"
   },
   {
    "duration": 19,
    "start_time": "2023-08-26T15:31:00.847Z"
   },
   {
    "duration": 17,
    "start_time": "2023-08-26T15:31:21.915Z"
   },
   {
    "duration": 22,
    "start_time": "2023-08-26T15:31:38.544Z"
   },
   {
    "duration": 21,
    "start_time": "2023-08-26T15:32:31.924Z"
   },
   {
    "duration": 15,
    "start_time": "2023-08-26T15:32:49.684Z"
   },
   {
    "duration": 3,
    "start_time": "2023-08-26T15:33:09.706Z"
   },
   {
    "duration": 66,
    "start_time": "2023-08-26T15:33:10.059Z"
   },
   {
    "duration": 18,
    "start_time": "2023-08-26T15:33:10.225Z"
   },
   {
    "duration": 31,
    "start_time": "2023-08-26T15:33:10.401Z"
   },
   {
    "duration": 27,
    "start_time": "2023-08-26T15:33:10.587Z"
   },
   {
    "duration": 16,
    "start_time": "2023-08-26T15:33:10.966Z"
   },
   {
    "duration": 8,
    "start_time": "2023-08-26T15:33:11.203Z"
   },
   {
    "duration": 12,
    "start_time": "2023-08-26T15:33:16.578Z"
   },
   {
    "duration": 9,
    "start_time": "2023-08-26T15:33:16.764Z"
   },
   {
    "duration": 8,
    "start_time": "2023-08-26T15:33:16.943Z"
   },
   {
    "duration": 15,
    "start_time": "2023-08-26T15:33:23.802Z"
   },
   {
    "duration": 11,
    "start_time": "2023-08-26T15:33:23.965Z"
   },
   {
    "duration": 14,
    "start_time": "2023-08-26T15:33:24.137Z"
   },
   {
    "duration": 8,
    "start_time": "2023-08-26T15:33:24.309Z"
   },
   {
    "duration": 9,
    "start_time": "2023-08-26T15:33:24.490Z"
   },
   {
    "duration": 6,
    "start_time": "2023-08-26T15:33:25.635Z"
   },
   {
    "duration": 8,
    "start_time": "2023-08-26T15:33:25.825Z"
   },
   {
    "duration": 171,
    "start_time": "2023-08-26T15:33:26.017Z"
   },
   {
    "duration": 6,
    "start_time": "2023-08-26T15:33:26.413Z"
   },
   {
    "duration": 8,
    "start_time": "2023-08-26T15:33:26.609Z"
   },
   {
    "duration": 119,
    "start_time": "2023-08-26T15:33:26.804Z"
   },
   {
    "duration": 6,
    "start_time": "2023-08-26T15:33:27.162Z"
   },
   {
    "duration": 5,
    "start_time": "2023-08-26T15:33:27.347Z"
   },
   {
    "duration": 158,
    "start_time": "2023-08-26T15:33:27.526Z"
   },
   {
    "duration": 9,
    "start_time": "2023-08-26T15:33:27.890Z"
   },
   {
    "duration": 8,
    "start_time": "2023-08-26T15:33:28.053Z"
   },
   {
    "duration": 108,
    "start_time": "2023-08-26T15:33:28.245Z"
   },
   {
    "duration": 8,
    "start_time": "2023-08-26T15:33:28.618Z"
   },
   {
    "duration": 7,
    "start_time": "2023-08-26T15:33:28.826Z"
   },
   {
    "duration": 7,
    "start_time": "2023-08-26T15:33:29.033Z"
   },
   {
    "duration": 123,
    "start_time": "2023-08-26T15:33:29.217Z"
   },
   {
    "duration": 35,
    "start_time": "2023-08-26T15:33:30.034Z"
   },
   {
    "duration": 25,
    "start_time": "2023-08-26T15:33:30.781Z"
   },
   {
    "duration": 23,
    "start_time": "2023-08-26T15:33:30.986Z"
   },
   {
    "duration": 300,
    "start_time": "2023-08-26T15:33:31.193Z"
   },
   {
    "duration": 203,
    "start_time": "2023-08-26T15:33:31.495Z"
   },
   {
    "duration": 210,
    "start_time": "2023-08-26T15:33:31.700Z"
   },
   {
    "duration": 195,
    "start_time": "2023-08-26T15:33:31.912Z"
   },
   {
    "duration": 875,
    "start_time": "2023-08-26T15:33:32.644Z"
   },
   {
    "duration": 4,
    "start_time": "2023-08-26T15:34:43.040Z"
   },
   {
    "duration": 14,
    "start_time": "2023-08-26T15:53:32.705Z"
   },
   {
    "duration": 5,
    "start_time": "2023-08-26T15:54:22.070Z"
   },
   {
    "duration": 15,
    "start_time": "2023-08-26T15:54:23.008Z"
   },
   {
    "duration": 147,
    "start_time": "2023-08-26T16:08:42.516Z"
   },
   {
    "duration": 135,
    "start_time": "2023-08-26T16:08:57.220Z"
   },
   {
    "duration": 11,
    "start_time": "2023-08-26T16:22:15.576Z"
   },
   {
    "duration": 6,
    "start_time": "2023-08-26T16:22:35.844Z"
   },
   {
    "duration": 814,
    "start_time": "2023-08-26T16:25:20.785Z"
   },
   {
    "duration": 5,
    "start_time": "2023-08-26T16:26:42.714Z"
   },
   {
    "duration": 5,
    "start_time": "2023-08-26T16:27:38.804Z"
   },
   {
    "duration": 10,
    "start_time": "2023-08-26T16:28:08.833Z"
   },
   {
    "duration": 2,
    "start_time": "2023-08-26T16:29:39.401Z"
   },
   {
    "duration": 10,
    "start_time": "2023-08-26T16:49:02.422Z"
   },
   {
    "duration": 10,
    "start_time": "2023-08-26T16:49:28.455Z"
   },
   {
    "duration": 6,
    "start_time": "2023-08-26T16:49:51.818Z"
   },
   {
    "duration": 11,
    "start_time": "2023-08-26T16:50:48.793Z"
   },
   {
    "duration": 257,
    "start_time": "2023-08-26T16:51:01.563Z"
   },
   {
    "duration": 5,
    "start_time": "2023-08-26T16:53:45.334Z"
   },
   {
    "duration": 5,
    "start_time": "2023-08-26T16:53:51.826Z"
   },
   {
    "duration": 1429,
    "start_time": "2023-08-26T17:12:18.792Z"
   },
   {
    "duration": 70,
    "start_time": "2023-08-26T17:12:20.223Z"
   },
   {
    "duration": 21,
    "start_time": "2023-08-26T17:12:20.294Z"
   },
   {
    "duration": 115,
    "start_time": "2023-08-26T17:12:20.317Z"
   },
   {
    "duration": 0,
    "start_time": "2023-08-26T17:12:20.436Z"
   },
   {
    "duration": 0,
    "start_time": "2023-08-26T17:12:20.437Z"
   },
   {
    "duration": 0,
    "start_time": "2023-08-26T17:12:20.438Z"
   },
   {
    "duration": 1,
    "start_time": "2023-08-26T17:12:20.439Z"
   },
   {
    "duration": 0,
    "start_time": "2023-08-26T17:12:20.440Z"
   },
   {
    "duration": 0,
    "start_time": "2023-08-26T17:12:20.441Z"
   },
   {
    "duration": 0,
    "start_time": "2023-08-26T17:12:20.442Z"
   },
   {
    "duration": 0,
    "start_time": "2023-08-26T17:12:20.443Z"
   },
   {
    "duration": 0,
    "start_time": "2023-08-26T17:12:20.444Z"
   },
   {
    "duration": 0,
    "start_time": "2023-08-26T17:12:20.445Z"
   },
   {
    "duration": 0,
    "start_time": "2023-08-26T17:12:20.446Z"
   },
   {
    "duration": 0,
    "start_time": "2023-08-26T17:12:20.447Z"
   },
   {
    "duration": 0,
    "start_time": "2023-08-26T17:12:20.448Z"
   },
   {
    "duration": 0,
    "start_time": "2023-08-26T17:12:20.449Z"
   },
   {
    "duration": 0,
    "start_time": "2023-08-26T17:12:20.450Z"
   },
   {
    "duration": 0,
    "start_time": "2023-08-26T17:12:20.451Z"
   },
   {
    "duration": 0,
    "start_time": "2023-08-26T17:12:20.452Z"
   },
   {
    "duration": 0,
    "start_time": "2023-08-26T17:12:20.453Z"
   },
   {
    "duration": 0,
    "start_time": "2023-08-26T17:12:20.454Z"
   },
   {
    "duration": 0,
    "start_time": "2023-08-26T17:12:20.455Z"
   },
   {
    "duration": 0,
    "start_time": "2023-08-26T17:12:20.456Z"
   },
   {
    "duration": 0,
    "start_time": "2023-08-26T17:12:20.457Z"
   },
   {
    "duration": 0,
    "start_time": "2023-08-26T17:12:20.458Z"
   },
   {
    "duration": 0,
    "start_time": "2023-08-26T17:12:20.459Z"
   },
   {
    "duration": 0,
    "start_time": "2023-08-26T17:12:20.460Z"
   },
   {
    "duration": 0,
    "start_time": "2023-08-26T17:12:20.502Z"
   },
   {
    "duration": 0,
    "start_time": "2023-08-26T17:12:20.503Z"
   },
   {
    "duration": 0,
    "start_time": "2023-08-26T17:12:20.504Z"
   },
   {
    "duration": 0,
    "start_time": "2023-08-26T17:12:20.505Z"
   },
   {
    "duration": 0,
    "start_time": "2023-08-26T17:12:20.506Z"
   },
   {
    "duration": 0,
    "start_time": "2023-08-26T17:12:20.507Z"
   },
   {
    "duration": 0,
    "start_time": "2023-08-26T17:12:20.508Z"
   },
   {
    "duration": 0,
    "start_time": "2023-08-26T17:12:20.508Z"
   },
   {
    "duration": 0,
    "start_time": "2023-08-26T17:12:20.510Z"
   },
   {
    "duration": 0,
    "start_time": "2023-08-26T17:12:20.510Z"
   },
   {
    "duration": 0,
    "start_time": "2023-08-26T17:12:20.511Z"
   },
   {
    "duration": 0,
    "start_time": "2023-08-26T17:12:20.513Z"
   },
   {
    "duration": 0,
    "start_time": "2023-08-26T17:12:20.514Z"
   },
   {
    "duration": 0,
    "start_time": "2023-08-26T17:12:20.515Z"
   },
   {
    "duration": 18,
    "start_time": "2023-08-26T17:57:25.069Z"
   },
   {
    "duration": 1400,
    "start_time": "2023-08-26T19:02:37.719Z"
   },
   {
    "duration": 203,
    "start_time": "2023-08-26T19:02:39.121Z"
   },
   {
    "duration": 23,
    "start_time": "2023-08-26T19:02:39.326Z"
   },
   {
    "duration": 17,
    "start_time": "2023-08-26T19:02:39.350Z"
   },
   {
    "duration": 14,
    "start_time": "2023-08-26T19:02:39.370Z"
   },
   {
    "duration": 126,
    "start_time": "2023-08-26T19:02:39.386Z"
   },
   {
    "duration": 0,
    "start_time": "2023-08-26T19:02:39.516Z"
   },
   {
    "duration": 0,
    "start_time": "2023-08-26T19:02:39.517Z"
   },
   {
    "duration": 0,
    "start_time": "2023-08-26T19:02:39.518Z"
   },
   {
    "duration": 0,
    "start_time": "2023-08-26T19:02:39.520Z"
   },
   {
    "duration": 0,
    "start_time": "2023-08-26T19:02:39.534Z"
   },
   {
    "duration": 0,
    "start_time": "2023-08-26T19:02:39.535Z"
   },
   {
    "duration": 0,
    "start_time": "2023-08-26T19:02:39.536Z"
   },
   {
    "duration": 0,
    "start_time": "2023-08-26T19:02:39.538Z"
   },
   {
    "duration": 0,
    "start_time": "2023-08-26T19:02:39.539Z"
   },
   {
    "duration": 0,
    "start_time": "2023-08-26T19:02:39.540Z"
   },
   {
    "duration": 0,
    "start_time": "2023-08-26T19:02:39.542Z"
   },
   {
    "duration": 0,
    "start_time": "2023-08-26T19:02:39.543Z"
   },
   {
    "duration": 0,
    "start_time": "2023-08-26T19:02:39.544Z"
   },
   {
    "duration": 0,
    "start_time": "2023-08-26T19:02:39.546Z"
   },
   {
    "duration": 0,
    "start_time": "2023-08-26T19:02:39.547Z"
   },
   {
    "duration": 0,
    "start_time": "2023-08-26T19:02:39.548Z"
   },
   {
    "duration": 1,
    "start_time": "2023-08-26T19:02:39.549Z"
   },
   {
    "duration": 0,
    "start_time": "2023-08-26T19:02:39.551Z"
   },
   {
    "duration": 0,
    "start_time": "2023-08-26T19:02:39.552Z"
   },
   {
    "duration": 0,
    "start_time": "2023-08-26T19:02:39.554Z"
   },
   {
    "duration": 0,
    "start_time": "2023-08-26T19:02:39.555Z"
   },
   {
    "duration": 0,
    "start_time": "2023-08-26T19:02:39.556Z"
   },
   {
    "duration": 0,
    "start_time": "2023-08-26T19:02:39.558Z"
   },
   {
    "duration": 0,
    "start_time": "2023-08-26T19:02:39.559Z"
   },
   {
    "duration": 0,
    "start_time": "2023-08-26T19:02:39.560Z"
   },
   {
    "duration": 0,
    "start_time": "2023-08-26T19:02:39.561Z"
   },
   {
    "duration": 0,
    "start_time": "2023-08-26T19:02:39.563Z"
   },
   {
    "duration": 0,
    "start_time": "2023-08-26T19:02:39.564Z"
   },
   {
    "duration": 0,
    "start_time": "2023-08-26T19:02:39.566Z"
   },
   {
    "duration": 0,
    "start_time": "2023-08-26T19:02:39.567Z"
   },
   {
    "duration": 0,
    "start_time": "2023-08-26T19:02:39.568Z"
   },
   {
    "duration": 0,
    "start_time": "2023-08-26T19:02:39.570Z"
   },
   {
    "duration": 0,
    "start_time": "2023-08-26T19:02:39.571Z"
   },
   {
    "duration": 0,
    "start_time": "2023-08-26T19:02:39.572Z"
   },
   {
    "duration": 0,
    "start_time": "2023-08-26T19:02:39.634Z"
   },
   {
    "duration": 0,
    "start_time": "2023-08-26T19:02:39.636Z"
   },
   {
    "duration": 0,
    "start_time": "2023-08-26T19:02:39.638Z"
   },
   {
    "duration": 48,
    "start_time": "2023-08-27T08:59:48.873Z"
   },
   {
    "duration": 7,
    "start_time": "2023-08-27T09:00:01.375Z"
   },
   {
    "duration": 1477,
    "start_time": "2023-08-27T09:00:07.734Z"
   },
   {
    "duration": 210,
    "start_time": "2023-08-27T09:00:09.213Z"
   },
   {
    "duration": 20,
    "start_time": "2023-08-27T09:00:09.424Z"
   },
   {
    "duration": 61,
    "start_time": "2023-08-27T09:00:09.446Z"
   },
   {
    "duration": 17,
    "start_time": "2023-08-27T09:00:10.276Z"
   },
   {
    "duration": 60,
    "start_time": "2023-08-27T09:00:10.728Z"
   },
   {
    "duration": 7,
    "start_time": "2023-08-27T09:00:13.581Z"
   },
   {
    "duration": 8,
    "start_time": "2023-08-27T09:00:14.078Z"
   },
   {
    "duration": 11,
    "start_time": "2023-08-27T09:00:41.973Z"
   },
   {
    "duration": 9,
    "start_time": "2023-08-27T09:00:48.612Z"
   },
   {
    "duration": 7,
    "start_time": "2023-08-27T09:00:50.051Z"
   },
   {
    "duration": 11,
    "start_time": "2023-08-27T09:00:50.917Z"
   },
   {
    "duration": 7,
    "start_time": "2023-08-27T09:00:51.859Z"
   },
   {
    "duration": 8,
    "start_time": "2023-08-27T09:00:52.670Z"
   },
   {
    "duration": 6,
    "start_time": "2023-08-27T09:00:59.050Z"
   },
   {
    "duration": 9,
    "start_time": "2023-08-27T09:00:59.647Z"
   },
   {
    "duration": 188,
    "start_time": "2023-08-27T09:01:00.227Z"
   },
   {
    "duration": 5,
    "start_time": "2023-08-27T09:01:02.442Z"
   },
   {
    "duration": 7,
    "start_time": "2023-08-27T09:01:02.989Z"
   },
   {
    "duration": 102,
    "start_time": "2023-08-27T09:01:03.529Z"
   },
   {
    "duration": 5,
    "start_time": "2023-08-27T09:01:04.556Z"
   },
   {
    "duration": 6,
    "start_time": "2023-08-27T09:01:05.202Z"
   },
   {
    "duration": 160,
    "start_time": "2023-08-27T09:01:05.760Z"
   },
   {
    "duration": 7,
    "start_time": "2023-08-27T09:01:07.011Z"
   },
   {
    "duration": 8,
    "start_time": "2023-08-27T09:01:07.508Z"
   },
   {
    "duration": 94,
    "start_time": "2023-08-27T09:01:10.445Z"
   },
   {
    "duration": 9,
    "start_time": "2023-08-27T09:01:11.134Z"
   },
   {
    "duration": 8,
    "start_time": "2023-08-27T09:01:11.367Z"
   },
   {
    "duration": 7,
    "start_time": "2023-08-27T09:01:11.777Z"
   },
   {
    "duration": 99,
    "start_time": "2023-08-27T09:01:12.001Z"
   },
   {
    "duration": 31,
    "start_time": "2023-08-27T09:01:12.789Z"
   },
   {
    "duration": 22,
    "start_time": "2023-08-27T09:01:12.970Z"
   },
   {
    "duration": 24,
    "start_time": "2023-08-27T09:01:13.167Z"
   },
   {
    "duration": 169,
    "start_time": "2023-08-27T09:01:13.370Z"
   },
   {
    "duration": 176,
    "start_time": "2023-08-27T09:01:13.595Z"
   },
   {
    "duration": 251,
    "start_time": "2023-08-27T09:01:13.800Z"
   },
   {
    "duration": 176,
    "start_time": "2023-08-27T09:01:14.053Z"
   },
   {
    "duration": 862,
    "start_time": "2023-08-27T09:01:14.679Z"
   },
   {
    "duration": 5,
    "start_time": "2023-08-27T09:01:15.543Z"
   },
   {
    "duration": 46,
    "start_time": "2023-08-27T09:01:15.550Z"
   },
   {
    "duration": 244,
    "start_time": "2023-08-27T09:01:15.599Z"
   },
   {
    "duration": 6,
    "start_time": "2023-08-27T09:01:17.179Z"
   },
   {
    "duration": 783,
    "start_time": "2023-08-27T09:01:17.390Z"
   },
   {
    "duration": 5,
    "start_time": "2023-08-27T09:01:18.175Z"
   },
   {
    "duration": 9,
    "start_time": "2023-08-27T09:01:18.903Z"
   },
   {
    "duration": 233,
    "start_time": "2023-08-27T09:01:20.786Z"
   },
   {
    "duration": 5,
    "start_time": "2023-08-27T09:01:21.024Z"
   },
   {
    "duration": 1506,
    "start_time": "2023-08-27T10:15:30.147Z"
   },
   {
    "duration": 557,
    "start_time": "2023-08-27T10:15:31.655Z"
   },
   {
    "duration": 27,
    "start_time": "2023-08-27T10:15:32.215Z"
   },
   {
    "duration": 48,
    "start_time": "2023-08-27T10:15:32.244Z"
   },
   {
    "duration": 30,
    "start_time": "2023-08-27T10:15:32.296Z"
   },
   {
    "duration": 40,
    "start_time": "2023-08-27T10:15:32.328Z"
   },
   {
    "duration": 15,
    "start_time": "2023-08-27T10:15:32.370Z"
   },
   {
    "duration": 36,
    "start_time": "2023-08-27T10:15:32.386Z"
   },
   {
    "duration": 7,
    "start_time": "2023-08-27T10:15:32.424Z"
   },
   {
    "duration": 29,
    "start_time": "2023-08-27T10:15:32.433Z"
   },
   {
    "duration": 21,
    "start_time": "2023-08-27T10:15:32.464Z"
   },
   {
    "duration": 38,
    "start_time": "2023-08-27T10:15:32.487Z"
   },
   {
    "duration": 179,
    "start_time": "2023-08-27T10:15:32.526Z"
   },
   {
    "duration": 6,
    "start_time": "2023-08-27T10:15:32.708Z"
   },
   {
    "duration": 39,
    "start_time": "2023-08-27T10:15:32.716Z"
   },
   {
    "duration": 123,
    "start_time": "2023-08-27T10:15:32.757Z"
   },
   {
    "duration": 7,
    "start_time": "2023-08-27T10:15:32.882Z"
   },
   {
    "duration": 23,
    "start_time": "2023-08-27T10:15:32.891Z"
   },
   {
    "duration": 167,
    "start_time": "2023-08-27T10:15:32.916Z"
   },
   {
    "duration": 7,
    "start_time": "2023-08-27T10:15:33.085Z"
   },
   {
    "duration": 26,
    "start_time": "2023-08-27T10:15:33.094Z"
   },
   {
    "duration": 103,
    "start_time": "2023-08-27T10:15:33.123Z"
   },
   {
    "duration": 8,
    "start_time": "2023-08-27T10:15:33.227Z"
   },
   {
    "duration": 35,
    "start_time": "2023-08-27T10:15:33.237Z"
   },
   {
    "duration": 7,
    "start_time": "2023-08-27T10:15:33.273Z"
   },
   {
    "duration": 117,
    "start_time": "2023-08-27T10:15:33.282Z"
   },
   {
    "duration": 32,
    "start_time": "2023-08-27T10:15:33.401Z"
   },
   {
    "duration": 34,
    "start_time": "2023-08-27T10:15:33.435Z"
   },
   {
    "duration": 26,
    "start_time": "2023-08-27T10:15:33.471Z"
   },
   {
    "duration": 199,
    "start_time": "2023-08-27T10:15:33.499Z"
   },
   {
    "duration": 208,
    "start_time": "2023-08-27T10:15:33.700Z"
   },
   {
    "duration": 314,
    "start_time": "2023-08-27T10:15:33.910Z"
   },
   {
    "duration": 233,
    "start_time": "2023-08-27T10:15:34.226Z"
   },
   {
    "duration": 859,
    "start_time": "2023-08-27T10:15:34.461Z"
   },
   {
    "duration": 4,
    "start_time": "2023-08-27T10:15:35.322Z"
   },
   {
    "duration": 65,
    "start_time": "2023-08-27T10:15:35.328Z"
   },
   {
    "duration": 172,
    "start_time": "2023-08-27T10:15:35.395Z"
   },
   {
    "duration": 6,
    "start_time": "2023-08-27T10:15:35.568Z"
   },
   {
    "duration": 855,
    "start_time": "2023-08-27T10:15:35.576Z"
   },
   {
    "duration": 5,
    "start_time": "2023-08-27T10:15:36.432Z"
   },
   {
    "duration": 23,
    "start_time": "2023-08-27T10:15:36.441Z"
   },
   {
    "duration": 246,
    "start_time": "2023-08-27T10:15:36.465Z"
   },
   {
    "duration": 4,
    "start_time": "2023-08-27T10:15:36.713Z"
   },
   {
    "duration": 45,
    "start_time": "2023-08-28T11:58:29.376Z"
   },
   {
    "duration": 1427,
    "start_time": "2023-08-28T11:58:35.135Z"
   },
   {
    "duration": 290,
    "start_time": "2023-08-28T11:58:36.564Z"
   },
   {
    "duration": 21,
    "start_time": "2023-08-28T11:58:36.856Z"
   },
   {
    "duration": 20,
    "start_time": "2023-08-28T11:58:36.879Z"
   },
   {
    "duration": 14,
    "start_time": "2023-08-28T11:58:36.901Z"
   },
   {
    "duration": 9,
    "start_time": "2023-08-28T11:58:37.134Z"
   },
   {
    "duration": 7,
    "start_time": "2023-08-28T11:58:37.578Z"
   },
   {
    "duration": 11,
    "start_time": "2023-08-28T11:58:37.896Z"
   },
   {
    "duration": 7,
    "start_time": "2023-08-28T11:58:38.039Z"
   },
   {
    "duration": 7,
    "start_time": "2023-08-28T11:58:38.237Z"
   },
   {
    "duration": 6,
    "start_time": "2023-08-28T11:58:39.491Z"
   },
   {
    "duration": 10,
    "start_time": "2023-08-28T11:58:39.741Z"
   },
   {
    "duration": 173,
    "start_time": "2023-08-28T11:58:39.903Z"
   },
   {
    "duration": 6,
    "start_time": "2023-08-28T11:58:40.323Z"
   },
   {
    "duration": 7,
    "start_time": "2023-08-28T11:58:40.530Z"
   },
   {
    "duration": 126,
    "start_time": "2023-08-28T11:58:40.768Z"
   },
   {
    "duration": 6,
    "start_time": "2023-08-28T11:58:41.202Z"
   },
   {
    "duration": 5,
    "start_time": "2023-08-28T11:58:41.420Z"
   },
   {
    "duration": 143,
    "start_time": "2023-08-28T11:58:41.628Z"
   },
   {
    "duration": 8,
    "start_time": "2023-08-28T11:58:42.097Z"
   },
   {
    "duration": 8,
    "start_time": "2023-08-28T11:58:42.300Z"
   },
   {
    "duration": 101,
    "start_time": "2023-08-28T11:58:42.518Z"
   },
   {
    "duration": 8,
    "start_time": "2023-08-28T11:58:42.927Z"
   },
   {
    "duration": 8,
    "start_time": "2023-08-28T11:58:43.131Z"
   },
   {
    "duration": 7,
    "start_time": "2023-08-28T11:58:43.329Z"
   },
   {
    "duration": 103,
    "start_time": "2023-08-28T11:58:43.535Z"
   },
   {
    "duration": 34,
    "start_time": "2023-08-28T11:58:44.403Z"
   },
   {
    "duration": 24,
    "start_time": "2023-08-28T11:58:44.627Z"
   },
   {
    "duration": 21,
    "start_time": "2023-08-28T11:58:44.869Z"
   },
   {
    "duration": 198,
    "start_time": "2023-08-28T11:58:45.085Z"
   },
   {
    "duration": 221,
    "start_time": "2023-08-28T11:58:45.289Z"
   },
   {
    "duration": 295,
    "start_time": "2023-08-28T11:58:45.512Z"
   },
   {
    "duration": 193,
    "start_time": "2023-08-28T11:58:45.809Z"
   },
   {
    "duration": 909,
    "start_time": "2023-08-28T11:58:46.416Z"
   },
   {
    "duration": 5,
    "start_time": "2023-08-28T11:58:47.327Z"
   },
   {
    "duration": 20,
    "start_time": "2023-08-28T11:58:47.333Z"
   },
   {
    "duration": 150,
    "start_time": "2023-08-28T11:58:47.366Z"
   },
   {
    "duration": 6,
    "start_time": "2023-08-28T11:58:48.702Z"
   },
   {
    "duration": 852,
    "start_time": "2023-08-28T11:58:49.831Z"
   },
   {
    "duration": 5,
    "start_time": "2023-08-28T11:58:50.779Z"
   },
   {
    "duration": 9,
    "start_time": "2023-08-28T11:58:51.754Z"
   },
   {
    "duration": 288,
    "start_time": "2023-08-28T11:58:53.797Z"
   },
   {
    "duration": 5,
    "start_time": "2023-08-28T11:58:54.088Z"
   },
   {
    "duration": 66,
    "start_time": "2023-08-28T12:06:58.351Z"
   },
   {
    "duration": 4,
    "start_time": "2023-08-28T12:07:21.135Z"
   },
   {
    "duration": 5,
    "start_time": "2023-08-28T12:07:23.953Z"
   },
   {
    "duration": 4,
    "start_time": "2023-08-28T12:07:41.869Z"
   },
   {
    "duration": 19,
    "start_time": "2023-08-28T12:07:42.268Z"
   },
   {
    "duration": 6,
    "start_time": "2023-08-28T12:07:56.002Z"
   },
   {
    "duration": 8,
    "start_time": "2023-08-28T12:08:17.672Z"
   },
   {
    "duration": 6,
    "start_time": "2023-08-28T12:08:49.869Z"
   },
   {
    "duration": 143,
    "start_time": "2023-08-28T12:08:51.781Z"
   },
   {
    "duration": 156,
    "start_time": "2023-08-28T12:08:59.084Z"
   },
   {
    "duration": 9,
    "start_time": "2023-08-28T12:09:08.080Z"
   },
   {
    "duration": 144,
    "start_time": "2023-08-28T12:13:37.654Z"
   },
   {
    "duration": 147,
    "start_time": "2023-08-28T12:13:50.644Z"
   },
   {
    "duration": 70,
    "start_time": "2023-08-28T12:14:33.569Z"
   },
   {
    "duration": 224,
    "start_time": "2023-08-28T12:14:39.045Z"
   },
   {
    "duration": 183,
    "start_time": "2023-08-28T12:17:43.787Z"
   },
   {
    "duration": 93,
    "start_time": "2023-08-28T12:20:47.323Z"
   },
   {
    "duration": 122,
    "start_time": "2023-08-28T12:26:02.581Z"
   },
   {
    "duration": 5,
    "start_time": "2023-08-28T12:29:00.736Z"
   },
   {
    "duration": 4,
    "start_time": "2023-08-28T12:29:11.710Z"
   },
   {
    "duration": 4,
    "start_time": "2023-08-28T12:29:32.941Z"
   },
   {
    "duration": 148,
    "start_time": "2023-08-28T12:32:17.567Z"
   },
   {
    "duration": 9,
    "start_time": "2023-08-28T12:32:21.603Z"
   },
   {
    "duration": 108,
    "start_time": "2023-08-28T12:33:21.362Z"
   },
   {
    "duration": 109,
    "start_time": "2023-08-28T12:34:06.449Z"
   },
   {
    "duration": 110,
    "start_time": "2023-08-28T12:34:20.173Z"
   },
   {
    "duration": 116,
    "start_time": "2023-08-28T12:34:26.958Z"
   },
   {
    "duration": 7,
    "start_time": "2023-08-28T12:34:38.382Z"
   },
   {
    "duration": 7,
    "start_time": "2023-08-28T12:34:38.739Z"
   },
   {
    "duration": 8,
    "start_time": "2023-08-28T12:34:38.945Z"
   },
   {
    "duration": 114,
    "start_time": "2023-08-28T12:34:39.173Z"
   },
   {
    "duration": 32,
    "start_time": "2023-08-28T12:34:40.230Z"
   },
   {
    "duration": 22,
    "start_time": "2023-08-28T12:34:40.444Z"
   },
   {
    "duration": 23,
    "start_time": "2023-08-28T12:34:40.650Z"
   },
   {
    "duration": 221,
    "start_time": "2023-08-28T12:34:40.862Z"
   },
   {
    "duration": 205,
    "start_time": "2023-08-28T12:34:41.085Z"
   },
   {
    "duration": 223,
    "start_time": "2023-08-28T12:34:41.293Z"
   },
   {
    "duration": 182,
    "start_time": "2023-08-28T12:34:41.518Z"
   },
   {
    "duration": 877,
    "start_time": "2023-08-28T12:34:42.236Z"
   },
   {
    "duration": 5,
    "start_time": "2023-08-28T12:34:43.114Z"
   },
   {
    "duration": 108,
    "start_time": "2023-08-28T12:34:43.120Z"
   },
   {
    "duration": 147,
    "start_time": "2023-08-28T12:34:43.231Z"
   },
   {
    "duration": 5,
    "start_time": "2023-08-28T12:34:44.326Z"
   },
   {
    "duration": 942,
    "start_time": "2023-08-28T12:34:44.546Z"
   },
   {
    "duration": 5,
    "start_time": "2023-08-28T12:34:45.490Z"
   },
   {
    "duration": 125,
    "start_time": "2023-08-28T12:35:14.173Z"
   },
   {
    "duration": 8,
    "start_time": "2023-08-28T12:35:29.793Z"
   },
   {
    "duration": 141,
    "start_time": "2023-08-28T12:35:46.573Z"
   },
   {
    "duration": 169,
    "start_time": "2023-08-28T12:36:01.476Z"
   },
   {
    "duration": 18,
    "start_time": "2023-08-28T12:39:19.995Z"
   },
   {
    "duration": 6,
    "start_time": "2023-08-28T12:39:40.697Z"
   },
   {
    "duration": 11,
    "start_time": "2023-08-28T12:40:08.016Z"
   },
   {
    "duration": 10,
    "start_time": "2023-08-28T12:40:50.912Z"
   },
   {
    "duration": 5,
    "start_time": "2023-08-28T12:40:57.344Z"
   },
   {
    "duration": 7,
    "start_time": "2023-08-28T12:41:09.716Z"
   },
   {
    "duration": 11,
    "start_time": "2023-08-28T12:41:13.372Z"
   },
   {
    "duration": 8,
    "start_time": "2023-08-28T12:41:26.496Z"
   },
   {
    "duration": 13,
    "start_time": "2023-08-28T12:41:48.210Z"
   },
   {
    "duration": 16,
    "start_time": "2023-08-28T12:42:00.861Z"
   },
   {
    "duration": 13,
    "start_time": "2023-08-28T12:42:11.405Z"
   },
   {
    "duration": 11,
    "start_time": "2023-08-28T12:43:14.760Z"
   },
   {
    "duration": 10,
    "start_time": "2023-08-28T12:43:26.004Z"
   },
   {
    "duration": 11,
    "start_time": "2023-08-28T12:44:11.581Z"
   },
   {
    "duration": 11,
    "start_time": "2023-08-28T12:44:16.232Z"
   },
   {
    "duration": 8,
    "start_time": "2023-08-28T12:44:26.449Z"
   },
   {
    "duration": 9,
    "start_time": "2023-08-28T12:44:36.001Z"
   },
   {
    "duration": 10,
    "start_time": "2023-08-28T12:44:43.749Z"
   },
   {
    "duration": 8,
    "start_time": "2023-08-28T12:44:53.092Z"
   },
   {
    "duration": 7,
    "start_time": "2023-08-28T12:44:58.213Z"
   },
   {
    "duration": 9,
    "start_time": "2023-08-28T12:45:18.170Z"
   },
   {
    "duration": 7,
    "start_time": "2023-08-28T12:45:32.936Z"
   },
   {
    "duration": 9,
    "start_time": "2023-08-28T12:45:42.854Z"
   },
   {
    "duration": 175,
    "start_time": "2023-08-28T12:48:22.904Z"
   },
   {
    "duration": 8,
    "start_time": "2023-08-28T12:48:56.394Z"
   },
   {
    "duration": 9,
    "start_time": "2023-08-28T12:48:59.332Z"
   },
   {
    "duration": 16,
    "start_time": "2023-08-28T12:54:45.157Z"
   },
   {
    "duration": 15,
    "start_time": "2023-08-28T12:54:49.395Z"
   },
   {
    "duration": 5,
    "start_time": "2023-08-28T12:55:19.578Z"
   },
   {
    "duration": 9,
    "start_time": "2023-08-28T12:55:19.868Z"
   },
   {
    "duration": 107,
    "start_time": "2023-08-28T12:55:20.510Z"
   },
   {
    "duration": 6,
    "start_time": "2023-08-28T12:55:23.977Z"
   },
   {
    "duration": 4,
    "start_time": "2023-08-28T12:55:24.448Z"
   },
   {
    "duration": 156,
    "start_time": "2023-08-28T12:55:25.108Z"
   },
   {
    "duration": 6,
    "start_time": "2023-08-28T12:59:56.216Z"
   },
   {
    "duration": 10,
    "start_time": "2023-08-28T13:00:37.923Z"
   },
   {
    "duration": 437,
    "start_time": "2023-08-28T13:00:48.744Z"
   },
   {
    "duration": 303,
    "start_time": "2023-08-28T13:07:44.834Z"
   },
   {
    "duration": 5,
    "start_time": "2023-08-28T13:08:36.954Z"
   },
   {
    "duration": 122,
    "start_time": "2023-08-28T13:08:53.478Z"
   },
   {
    "duration": 6,
    "start_time": "2023-08-28T13:09:11.582Z"
   },
   {
    "duration": 120,
    "start_time": "2023-08-28T13:09:15.280Z"
   },
   {
    "duration": 166,
    "start_time": "2023-08-28T13:38:16.253Z"
   },
   {
    "duration": 157,
    "start_time": "2023-08-28T13:38:44.332Z"
   },
   {
    "duration": 153,
    "start_time": "2023-08-28T13:39:08.175Z"
   },
   {
    "duration": 10,
    "start_time": "2023-08-28T13:40:39.334Z"
   },
   {
    "duration": 7,
    "start_time": "2023-08-28T13:45:32.177Z"
   },
   {
    "duration": 11,
    "start_time": "2023-08-28T13:45:43.511Z"
   },
   {
    "duration": 14,
    "start_time": "2023-08-28T13:45:56.169Z"
   },
   {
    "duration": 11,
    "start_time": "2023-08-28T13:46:05.997Z"
   },
   {
    "duration": 36,
    "start_time": "2023-08-28T13:47:44.111Z"
   },
   {
    "duration": 26,
    "start_time": "2023-08-28T13:47:45.252Z"
   },
   {
    "duration": 22,
    "start_time": "2023-08-28T13:47:46.054Z"
   },
   {
    "duration": 194,
    "start_time": "2023-08-28T13:47:46.852Z"
   },
   {
    "duration": 305,
    "start_time": "2023-08-28T13:47:47.778Z"
   },
   {
    "duration": 185,
    "start_time": "2023-08-28T13:47:49.028Z"
   },
   {
    "duration": 203,
    "start_time": "2023-08-28T13:47:50.965Z"
   },
   {
    "duration": 180,
    "start_time": "2023-08-28T13:50:51.654Z"
   },
   {
    "duration": 192,
    "start_time": "2023-08-28T13:50:52.036Z"
   },
   {
    "duration": 191,
    "start_time": "2023-08-28T13:50:52.606Z"
   },
   {
    "duration": 183,
    "start_time": "2023-08-28T13:50:53.253Z"
   },
   {
    "duration": 14,
    "start_time": "2023-08-28T13:56:57.562Z"
   },
   {
    "duration": 9,
    "start_time": "2023-08-28T13:57:11.412Z"
   },
   {
    "duration": 10,
    "start_time": "2023-08-28T13:57:28.429Z"
   },
   {
    "duration": 8,
    "start_time": "2023-08-28T13:57:57.177Z"
   },
   {
    "duration": 10,
    "start_time": "2023-08-28T13:58:06.945Z"
   },
   {
    "duration": 99,
    "start_time": "2023-08-28T14:00:12.567Z"
   },
   {
    "duration": 4,
    "start_time": "2023-08-28T14:00:13.267Z"
   },
   {
    "duration": 12,
    "start_time": "2023-08-28T14:00:13.680Z"
   },
   {
    "duration": 896,
    "start_time": "2023-08-28T14:00:18.485Z"
   },
   {
    "duration": 5,
    "start_time": "2023-08-28T14:00:39.534Z"
   },
   {
    "duration": 14,
    "start_time": "2023-08-28T14:00:39.724Z"
   },
   {
    "duration": 143,
    "start_time": "2023-08-28T14:00:41.309Z"
   },
   {
    "duration": 9,
    "start_time": "2023-08-28T14:02:22.170Z"
   },
   {
    "duration": 20,
    "start_time": "2023-08-28T14:02:23.260Z"
   },
   {
    "duration": 918,
    "start_time": "2023-08-28T14:02:39.435Z"
   },
   {
    "duration": 15,
    "start_time": "2023-08-28T14:02:40.355Z"
   },
   {
    "duration": 15,
    "start_time": "2023-08-28T14:02:40.460Z"
   },
   {
    "duration": 104,
    "start_time": "2023-08-28T14:05:14.147Z"
   },
   {
    "duration": 1240,
    "start_time": "2023-08-28T14:05:20.583Z"
   },
   {
    "duration": 1133,
    "start_time": "2023-08-28T14:05:38.116Z"
   },
   {
    "duration": 1305,
    "start_time": "2023-08-28T14:05:58.548Z"
   },
   {
    "duration": 1537,
    "start_time": "2023-08-28T14:06:17.696Z"
   },
   {
    "duration": 154,
    "start_time": "2023-08-28T14:06:33.810Z"
   },
   {
    "duration": 153,
    "start_time": "2023-08-28T14:06:50.553Z"
   },
   {
    "duration": 144,
    "start_time": "2023-08-28T14:07:21.317Z"
   },
   {
    "duration": 144,
    "start_time": "2023-08-28T14:07:24.987Z"
   },
   {
    "duration": 22,
    "start_time": "2023-08-28T14:07:27.160Z"
   },
   {
    "duration": 14,
    "start_time": "2023-08-28T14:08:10.443Z"
   },
   {
    "duration": 22,
    "start_time": "2023-08-28T14:08:32.366Z"
   },
   {
    "duration": 11,
    "start_time": "2023-08-28T14:19:08.199Z"
   },
   {
    "duration": 9,
    "start_time": "2023-08-28T14:19:29.948Z"
   },
   {
    "duration": 12,
    "start_time": "2023-08-28T14:20:02.497Z"
   },
   {
    "duration": 8,
    "start_time": "2023-08-28T14:21:15.592Z"
   },
   {
    "duration": 12,
    "start_time": "2023-08-28T14:22:13.507Z"
   },
   {
    "duration": 86,
    "start_time": "2023-08-28T14:22:20.930Z"
   },
   {
    "duration": 11,
    "start_time": "2023-08-28T14:22:28.302Z"
   },
   {
    "duration": 13,
    "start_time": "2023-08-28T14:23:00.501Z"
   },
   {
    "duration": 12,
    "start_time": "2023-08-28T14:23:37.221Z"
   },
   {
    "duration": 20,
    "start_time": "2023-08-28T14:25:14.348Z"
   },
   {
    "duration": 20,
    "start_time": "2023-08-28T14:25:20.405Z"
   },
   {
    "duration": 14,
    "start_time": "2023-08-28T14:25:27.015Z"
   },
   {
    "duration": 16,
    "start_time": "2023-08-28T14:25:29.247Z"
   },
   {
    "duration": 5,
    "start_time": "2023-08-28T14:43:57.975Z"
   },
   {
    "duration": 11,
    "start_time": "2023-08-28T14:44:03.951Z"
   },
   {
    "duration": 7,
    "start_time": "2023-08-28T14:45:09.414Z"
   },
   {
    "duration": 6,
    "start_time": "2023-08-28T14:46:59.603Z"
   },
   {
    "duration": 105,
    "start_time": "2023-08-28T14:51:59.826Z"
   },
   {
    "duration": 66,
    "start_time": "2023-08-28T14:52:25.017Z"
   },
   {
    "duration": 91,
    "start_time": "2023-08-28T14:52:30.926Z"
   },
   {
    "duration": 65,
    "start_time": "2023-08-28T14:52:45.877Z"
   },
   {
    "duration": 503,
    "start_time": "2023-08-28T14:57:14.492Z"
   },
   {
    "duration": 357,
    "start_time": "2023-08-28T14:57:50.312Z"
   },
   {
    "duration": 638,
    "start_time": "2023-08-28T14:58:12.138Z"
   },
   {
    "duration": 990,
    "start_time": "2023-08-28T14:59:38.638Z"
   },
   {
    "duration": 220,
    "start_time": "2023-08-28T15:00:50.441Z"
   },
   {
    "duration": 1324,
    "start_time": "2023-08-28T15:06:15.832Z"
   },
   {
    "duration": 71,
    "start_time": "2023-08-28T15:06:17.158Z"
   },
   {
    "duration": 21,
    "start_time": "2023-08-28T15:06:17.231Z"
   },
   {
    "duration": 21,
    "start_time": "2023-08-28T15:06:17.254Z"
   },
   {
    "duration": 20,
    "start_time": "2023-08-28T15:06:17.277Z"
   },
   {
    "duration": 13,
    "start_time": "2023-08-28T15:06:17.299Z"
   },
   {
    "duration": 10,
    "start_time": "2023-08-28T15:06:17.314Z"
   },
   {
    "duration": 17,
    "start_time": "2023-08-28T15:06:17.326Z"
   },
   {
    "duration": 11,
    "start_time": "2023-08-28T15:06:17.366Z"
   },
   {
    "duration": 11,
    "start_time": "2023-08-28T15:06:17.381Z"
   },
   {
    "duration": 221,
    "start_time": "2023-08-28T15:06:17.395Z"
   },
   {
    "duration": 9,
    "start_time": "2023-08-28T15:06:17.618Z"
   },
   {
    "duration": 93,
    "start_time": "2023-08-28T15:06:17.628Z"
   },
   {
    "duration": 18,
    "start_time": "2023-08-28T15:06:17.722Z"
   },
   {
    "duration": 151,
    "start_time": "2023-08-28T15:06:17.742Z"
   },
   {
    "duration": 5,
    "start_time": "2023-08-28T15:06:17.895Z"
   },
   {
    "duration": 137,
    "start_time": "2023-08-28T15:06:17.902Z"
   },
   {
    "duration": 192,
    "start_time": "2023-08-28T15:06:18.041Z"
   },
   {
    "duration": 6,
    "start_time": "2023-08-28T15:06:18.235Z"
   },
   {
    "duration": 19,
    "start_time": "2023-08-28T15:06:18.244Z"
   },
   {
    "duration": 159,
    "start_time": "2023-08-28T15:06:18.266Z"
   },
   {
    "duration": 9,
    "start_time": "2023-08-28T15:06:18.427Z"
   },
   {
    "duration": 8,
    "start_time": "2023-08-28T15:06:18.439Z"
   },
   {
    "duration": 264,
    "start_time": "2023-08-28T15:06:18.449Z"
   },
   {
    "duration": 10,
    "start_time": "2023-08-28T15:06:18.715Z"
   },
   {
    "duration": 37,
    "start_time": "2023-08-28T15:06:18.727Z"
   },
   {
    "duration": 34,
    "start_time": "2023-08-28T15:06:18.766Z"
   },
   {
    "duration": 247,
    "start_time": "2023-08-28T15:06:18.803Z"
   },
   {
    "duration": 28,
    "start_time": "2023-08-28T15:06:19.051Z"
   },
   {
    "duration": 35,
    "start_time": "2023-08-28T15:06:19.083Z"
   },
   {
    "duration": 11,
    "start_time": "2023-08-28T15:06:19.121Z"
   },
   {
    "duration": 61,
    "start_time": "2023-08-28T15:06:19.134Z"
   },
   {
    "duration": 25,
    "start_time": "2023-08-28T15:06:19.197Z"
   },
   {
    "duration": 43,
    "start_time": "2023-08-28T15:06:19.224Z"
   },
   {
    "duration": 264,
    "start_time": "2023-08-28T15:06:19.272Z"
   },
   {
    "duration": 345,
    "start_time": "2023-08-28T15:06:19.538Z"
   },
   {
    "duration": 220,
    "start_time": "2023-08-28T15:06:19.885Z"
   },
   {
    "duration": 214,
    "start_time": "2023-08-28T15:06:20.108Z"
   },
   {
    "duration": 8,
    "start_time": "2023-08-28T15:06:20.324Z"
   },
   {
    "duration": 21,
    "start_time": "2023-08-28T15:06:20.333Z"
   },
   {
    "duration": 982,
    "start_time": "2023-08-28T15:06:20.355Z"
   },
   {
    "duration": 4,
    "start_time": "2023-08-28T15:06:21.338Z"
   },
   {
    "duration": 38,
    "start_time": "2023-08-28T15:06:21.344Z"
   },
   {
    "duration": 166,
    "start_time": "2023-08-28T15:06:21.386Z"
   },
   {
    "duration": 32,
    "start_time": "2023-08-28T15:06:21.553Z"
   },
   {
    "duration": 17,
    "start_time": "2023-08-28T15:06:21.588Z"
   },
   {
    "duration": 22,
    "start_time": "2023-08-28T15:06:21.606Z"
   },
   {
    "duration": 6,
    "start_time": "2023-08-28T15:06:21.630Z"
   },
   {
    "duration": 877,
    "start_time": "2023-08-28T15:06:21.637Z"
   },
   {
    "duration": 214,
    "start_time": "2023-08-28T15:06:22.516Z"
   },
   {
    "duration": 6,
    "start_time": "2023-08-28T15:06:22.731Z"
   },
   {
    "duration": 20,
    "start_time": "2023-08-28T15:06:22.738Z"
   },
   {
    "duration": 270,
    "start_time": "2023-08-28T15:06:22.767Z"
   },
   {
    "duration": 5,
    "start_time": "2023-08-28T15:06:23.039Z"
   },
   {
    "duration": 0,
    "start_time": "2023-08-28T15:12:38.801Z"
   },
   {
    "duration": 15,
    "start_time": "2023-08-28T15:12:44.959Z"
   },
   {
    "duration": 978,
    "start_time": "2023-08-28T15:12:56.461Z"
   },
   {
    "duration": 1339,
    "start_time": "2023-08-28T15:15:21.294Z"
   },
   {
    "duration": 291,
    "start_time": "2023-08-28T15:15:22.635Z"
   },
   {
    "duration": 20,
    "start_time": "2023-08-28T15:15:22.928Z"
   },
   {
    "duration": 44,
    "start_time": "2023-08-28T15:15:22.950Z"
   },
   {
    "duration": 17,
    "start_time": "2023-08-28T15:15:22.996Z"
   },
   {
    "duration": 14,
    "start_time": "2023-08-28T15:15:23.015Z"
   },
   {
    "duration": 8,
    "start_time": "2023-08-28T15:15:23.030Z"
   },
   {
    "duration": 16,
    "start_time": "2023-08-28T15:15:23.074Z"
   },
   {
    "duration": 11,
    "start_time": "2023-08-28T15:15:23.092Z"
   },
   {
    "duration": 8,
    "start_time": "2023-08-28T15:15:23.105Z"
   },
   {
    "duration": 208,
    "start_time": "2023-08-28T15:15:23.115Z"
   },
   {
    "duration": 8,
    "start_time": "2023-08-28T15:15:23.325Z"
   },
   {
    "duration": 8,
    "start_time": "2023-08-28T15:15:23.335Z"
   },
   {
    "duration": 25,
    "start_time": "2023-08-28T15:15:23.345Z"
   },
   {
    "duration": 123,
    "start_time": "2023-08-28T15:15:23.372Z"
   },
   {
    "duration": 5,
    "start_time": "2023-08-28T15:15:23.496Z"
   },
   {
    "duration": 22,
    "start_time": "2023-08-28T15:15:23.502Z"
   },
   {
    "duration": 183,
    "start_time": "2023-08-28T15:15:23.525Z"
   },
   {
    "duration": 6,
    "start_time": "2023-08-28T15:15:23.710Z"
   },
   {
    "duration": 8,
    "start_time": "2023-08-28T15:15:23.718Z"
   },
   {
    "duration": 170,
    "start_time": "2023-08-28T15:15:23.728Z"
   },
   {
    "duration": 11,
    "start_time": "2023-08-28T15:15:23.900Z"
   },
   {
    "duration": 19,
    "start_time": "2023-08-28T15:15:23.913Z"
   },
   {
    "duration": 233,
    "start_time": "2023-08-28T15:15:23.934Z"
   },
   {
    "duration": 11,
    "start_time": "2023-08-28T15:15:24.169Z"
   },
   {
    "duration": 14,
    "start_time": "2023-08-28T15:15:24.181Z"
   },
   {
    "duration": 19,
    "start_time": "2023-08-28T15:15:24.201Z"
   },
   {
    "duration": 187,
    "start_time": "2023-08-28T15:15:24.225Z"
   },
   {
    "duration": 10,
    "start_time": "2023-08-28T15:15:24.413Z"
   },
   {
    "duration": 13,
    "start_time": "2023-08-28T15:15:24.425Z"
   },
   {
    "duration": 28,
    "start_time": "2023-08-28T15:15:24.440Z"
   },
   {
    "duration": 42,
    "start_time": "2023-08-28T15:15:24.470Z"
   },
   {
    "duration": 22,
    "start_time": "2023-08-28T15:15:24.514Z"
   },
   {
    "duration": 48,
    "start_time": "2023-08-28T15:15:24.538Z"
   },
   {
    "duration": 200,
    "start_time": "2023-08-28T15:15:24.588Z"
   },
   {
    "duration": 312,
    "start_time": "2023-08-28T15:15:24.789Z"
   },
   {
    "duration": 222,
    "start_time": "2023-08-28T15:15:25.103Z"
   },
   {
    "duration": 204,
    "start_time": "2023-08-28T15:15:25.327Z"
   },
   {
    "duration": 9,
    "start_time": "2023-08-28T15:15:25.533Z"
   },
   {
    "duration": 25,
    "start_time": "2023-08-28T15:15:25.543Z"
   },
   {
    "duration": 901,
    "start_time": "2023-08-28T15:15:25.570Z"
   },
   {
    "duration": 5,
    "start_time": "2023-08-28T15:15:26.473Z"
   },
   {
    "duration": 23,
    "start_time": "2023-08-28T15:15:26.480Z"
   },
   {
    "duration": 151,
    "start_time": "2023-08-28T15:15:26.505Z"
   },
   {
    "duration": 18,
    "start_time": "2023-08-28T15:15:26.686Z"
   },
   {
    "duration": 36,
    "start_time": "2023-08-28T15:15:26.706Z"
   },
   {
    "duration": 12,
    "start_time": "2023-08-28T15:15:26.743Z"
   },
   {
    "duration": 25,
    "start_time": "2023-08-28T15:15:26.757Z"
   },
   {
    "duration": 902,
    "start_time": "2023-08-28T15:15:26.784Z"
   },
   {
    "duration": 47,
    "start_time": "2023-08-28T15:16:28.210Z"
   },
   {
    "duration": 8,
    "start_time": "2023-08-28T15:16:33.849Z"
   },
   {
    "duration": 10,
    "start_time": "2023-08-28T15:16:41.349Z"
   },
   {
    "duration": 1570,
    "start_time": "2023-08-28T15:16:46.983Z"
   },
   {
    "duration": 295,
    "start_time": "2023-08-28T15:16:48.556Z"
   },
   {
    "duration": 25,
    "start_time": "2023-08-28T15:16:48.853Z"
   },
   {
    "duration": 27,
    "start_time": "2023-08-28T15:16:48.880Z"
   },
   {
    "duration": 16,
    "start_time": "2023-08-28T15:16:48.925Z"
   },
   {
    "duration": 13,
    "start_time": "2023-08-28T15:16:49.279Z"
   },
   {
    "duration": 10,
    "start_time": "2023-08-28T15:16:50.288Z"
   },
   {
    "duration": 19,
    "start_time": "2023-08-28T15:16:50.474Z"
   },
   {
    "duration": 11,
    "start_time": "2023-08-28T15:16:50.687Z"
   },
   {
    "duration": 8,
    "start_time": "2023-08-28T15:16:50.864Z"
   },
   {
    "duration": 180,
    "start_time": "2023-08-28T15:16:51.976Z"
   },
   {
    "duration": 11,
    "start_time": "2023-08-28T15:16:52.343Z"
   },
   {
    "duration": 9,
    "start_time": "2023-08-28T15:16:53.085Z"
   },
   {
    "duration": 10,
    "start_time": "2023-08-28T15:16:53.279Z"
   },
   {
    "duration": 123,
    "start_time": "2023-08-28T15:16:53.473Z"
   },
   {
    "duration": 7,
    "start_time": "2023-08-28T15:16:54.263Z"
   },
   {
    "duration": 6,
    "start_time": "2023-08-28T15:16:54.446Z"
   },
   {
    "duration": 176,
    "start_time": "2023-08-28T15:16:54.626Z"
   },
   {
    "duration": 7,
    "start_time": "2023-08-28T15:16:54.820Z"
   },
   {
    "duration": 9,
    "start_time": "2023-08-28T15:16:54.984Z"
   },
   {
    "duration": 144,
    "start_time": "2023-08-28T15:16:55.327Z"
   },
   {
    "duration": 9,
    "start_time": "2023-08-28T15:16:55.855Z"
   },
   {
    "duration": 8,
    "start_time": "2023-08-28T15:16:56.034Z"
   },
   {
    "duration": 175,
    "start_time": "2023-08-28T15:16:56.207Z"
   },
   {
    "duration": 8,
    "start_time": "2023-08-28T15:16:56.737Z"
   },
   {
    "duration": 8,
    "start_time": "2023-08-28T15:16:56.924Z"
   },
   {
    "duration": 8,
    "start_time": "2023-08-28T15:16:57.112Z"
   },
   {
    "duration": 160,
    "start_time": "2023-08-28T15:16:57.303Z"
   },
   {
    "duration": 9,
    "start_time": "2023-08-28T15:16:57.512Z"
   },
   {
    "duration": 13,
    "start_time": "2023-08-28T15:16:57.938Z"
   },
   {
    "duration": 9,
    "start_time": "2023-08-28T15:16:58.151Z"
   },
   {
    "duration": 39,
    "start_time": "2023-08-28T15:16:58.574Z"
   },
   {
    "duration": 31,
    "start_time": "2023-08-28T15:16:58.781Z"
   },
   {
    "duration": 32,
    "start_time": "2023-08-28T15:16:58.974Z"
   },
   {
    "duration": 217,
    "start_time": "2023-08-28T15:16:59.376Z"
   },
   {
    "duration": 312,
    "start_time": "2023-08-28T15:16:59.595Z"
   },
   {
    "duration": 218,
    "start_time": "2023-08-28T15:16:59.909Z"
   },
   {
    "duration": 198,
    "start_time": "2023-08-28T15:17:00.190Z"
   },
   {
    "duration": 11,
    "start_time": "2023-08-28T15:17:00.391Z"
   },
   {
    "duration": 9,
    "start_time": "2023-08-28T15:17:00.603Z"
   },
   {
    "duration": 1043,
    "start_time": "2023-08-28T15:17:01.232Z"
   },
   {
    "duration": 7,
    "start_time": "2023-08-28T15:17:02.278Z"
   },
   {
    "duration": 74,
    "start_time": "2023-08-28T15:17:02.287Z"
   },
   {
    "duration": 148,
    "start_time": "2023-08-28T15:17:03.504Z"
   },
   {
    "duration": 17,
    "start_time": "2023-08-28T15:17:03.684Z"
   },
   {
    "duration": 23,
    "start_time": "2023-08-28T15:17:03.857Z"
   },
   {
    "duration": 17,
    "start_time": "2023-08-28T15:17:04.034Z"
   },
   {
    "duration": 7,
    "start_time": "2023-08-28T15:17:05.373Z"
   },
   {
    "duration": 996,
    "start_time": "2023-08-28T15:17:05.557Z"
   },
   {
    "duration": 1410,
    "start_time": "2023-08-28T15:21:46.650Z"
   },
   {
    "duration": 290,
    "start_time": "2023-08-28T15:21:48.062Z"
   },
   {
    "duration": 25,
    "start_time": "2023-08-28T15:21:48.356Z"
   },
   {
    "duration": 21,
    "start_time": "2023-08-28T15:21:48.385Z"
   },
   {
    "duration": 18,
    "start_time": "2023-08-28T15:21:48.407Z"
   },
   {
    "duration": 40,
    "start_time": "2023-08-28T15:21:48.427Z"
   },
   {
    "duration": 12,
    "start_time": "2023-08-28T15:21:48.470Z"
   },
   {
    "duration": 24,
    "start_time": "2023-08-28T15:21:48.484Z"
   },
   {
    "duration": 8,
    "start_time": "2023-08-28T15:21:48.510Z"
   },
   {
    "duration": 22,
    "start_time": "2023-08-28T15:21:48.521Z"
   },
   {
    "duration": 225,
    "start_time": "2023-08-28T15:21:48.545Z"
   },
   {
    "duration": 62,
    "start_time": "2023-08-28T15:21:48.772Z"
   },
   {
    "duration": 49,
    "start_time": "2023-08-28T15:21:48.837Z"
   },
   {
    "duration": 24,
    "start_time": "2023-08-28T15:21:48.888Z"
   },
   {
    "duration": 117,
    "start_time": "2023-08-28T15:21:48.913Z"
   },
   {
    "duration": 4,
    "start_time": "2023-08-28T15:21:49.032Z"
   },
   {
    "duration": 12,
    "start_time": "2023-08-28T15:21:49.038Z"
   },
   {
    "duration": 164,
    "start_time": "2023-08-28T15:21:49.051Z"
   },
   {
    "duration": 6,
    "start_time": "2023-08-28T15:21:49.217Z"
   },
   {
    "duration": 19,
    "start_time": "2023-08-28T15:21:49.225Z"
   },
   {
    "duration": 162,
    "start_time": "2023-08-28T15:21:49.246Z"
   },
   {
    "duration": 7,
    "start_time": "2023-08-28T15:21:49.410Z"
   },
   {
    "duration": 16,
    "start_time": "2023-08-28T15:21:49.419Z"
   },
   {
    "duration": 207,
    "start_time": "2023-08-28T15:21:49.437Z"
   },
   {
    "duration": 8,
    "start_time": "2023-08-28T15:21:49.646Z"
   },
   {
    "duration": 17,
    "start_time": "2023-08-28T15:21:49.655Z"
   },
   {
    "duration": 16,
    "start_time": "2023-08-28T15:21:49.675Z"
   },
   {
    "duration": 172,
    "start_time": "2023-08-28T15:21:49.696Z"
   },
   {
    "duration": 14,
    "start_time": "2023-08-28T15:21:49.870Z"
   },
   {
    "duration": 13,
    "start_time": "2023-08-28T15:21:49.886Z"
   },
   {
    "duration": 8,
    "start_time": "2023-08-28T15:21:49.902Z"
   },
   {
    "duration": 56,
    "start_time": "2023-08-28T15:21:49.912Z"
   },
   {
    "duration": 28,
    "start_time": "2023-08-28T15:21:49.970Z"
   },
   {
    "duration": 26,
    "start_time": "2023-08-28T15:21:50.000Z"
   },
   {
    "duration": 214,
    "start_time": "2023-08-28T15:21:50.028Z"
   },
   {
    "duration": 289,
    "start_time": "2023-08-28T15:21:50.244Z"
   },
   {
    "duration": 205,
    "start_time": "2023-08-28T15:21:50.535Z"
   },
   {
    "duration": 232,
    "start_time": "2023-08-28T15:21:50.742Z"
   },
   {
    "duration": 15,
    "start_time": "2023-08-28T15:21:50.976Z"
   },
   {
    "duration": 81,
    "start_time": "2023-08-28T15:21:50.993Z"
   },
   {
    "duration": 1077,
    "start_time": "2023-08-28T15:21:51.076Z"
   },
   {
    "duration": 4,
    "start_time": "2023-08-28T15:21:52.155Z"
   },
   {
    "duration": 23,
    "start_time": "2023-08-28T15:21:52.160Z"
   },
   {
    "duration": 163,
    "start_time": "2023-08-28T15:21:52.188Z"
   },
   {
    "duration": 31,
    "start_time": "2023-08-28T15:21:52.354Z"
   },
   {
    "duration": 21,
    "start_time": "2023-08-28T15:21:52.387Z"
   },
   {
    "duration": 23,
    "start_time": "2023-08-28T15:21:52.410Z"
   },
   {
    "duration": 8,
    "start_time": "2023-08-28T15:21:52.435Z"
   },
   {
    "duration": 24,
    "start_time": "2023-08-28T15:21:52.445Z"
   },
   {
    "duration": 18,
    "start_time": "2023-08-28T15:21:52.471Z"
   },
   {
    "duration": 276,
    "start_time": "2023-08-28T15:21:52.492Z"
   },
   {
    "duration": 6,
    "start_time": "2023-08-28T15:21:52.771Z"
   },
   {
    "duration": 6,
    "start_time": "2023-08-28T15:42:15.878Z"
   },
   {
    "duration": 9,
    "start_time": "2023-08-28T15:43:15.980Z"
   },
   {
    "duration": 7,
    "start_time": "2023-08-28T15:43:21.254Z"
   },
   {
    "duration": 7,
    "start_time": "2023-08-28T15:43:27.610Z"
   },
   {
    "duration": 8,
    "start_time": "2023-08-28T15:43:28.140Z"
   },
   {
    "duration": 6,
    "start_time": "2023-08-28T15:44:10.280Z"
   },
   {
    "duration": 8,
    "start_time": "2023-08-28T15:44:16.916Z"
   },
   {
    "duration": 117,
    "start_time": "2023-08-28T15:47:26.002Z"
   },
   {
    "duration": 6782,
    "start_time": "2023-08-28T15:47:33.313Z"
   },
   {
    "duration": 168,
    "start_time": "2023-08-28T15:50:43.355Z"
   },
   {
    "duration": 235,
    "start_time": "2023-08-28T15:50:56.937Z"
   },
   {
    "duration": 12,
    "start_time": "2023-08-28T15:57:30.952Z"
   },
   {
    "duration": 10,
    "start_time": "2023-08-28T15:59:42.980Z"
   },
   {
    "duration": 11,
    "start_time": "2023-08-28T15:59:52.616Z"
   },
   {
    "duration": 16,
    "start_time": "2023-08-28T16:00:24.347Z"
   },
   {
    "duration": 1123,
    "start_time": "2023-08-28T16:03:13.420Z"
   },
   {
    "duration": 339,
    "start_time": "2023-08-28T16:03:29.184Z"
   },
   {
    "duration": 125,
    "start_time": "2023-08-28T16:03:45.412Z"
   },
   {
    "duration": 119,
    "start_time": "2023-08-28T16:04:07.540Z"
   },
   {
    "duration": 110,
    "start_time": "2023-08-28T16:05:43.264Z"
   },
   {
    "duration": 169,
    "start_time": "2023-08-28T16:06:05.787Z"
   },
   {
    "duration": 13,
    "start_time": "2023-08-28T16:06:10.593Z"
   },
   {
    "duration": 9,
    "start_time": "2023-08-28T16:06:16.542Z"
   },
   {
    "duration": 133,
    "start_time": "2023-08-28T16:06:30.301Z"
   },
   {
    "duration": 109,
    "start_time": "2023-08-28T16:07:33.018Z"
   },
   {
    "duration": 118,
    "start_time": "2023-08-28T16:08:27.580Z"
   },
   {
    "duration": 183,
    "start_time": "2023-08-28T16:09:43.367Z"
   },
   {
    "duration": 167,
    "start_time": "2023-08-28T16:10:18.580Z"
   },
   {
    "duration": 222,
    "start_time": "2023-08-28T16:10:34.335Z"
   },
   {
    "duration": 537,
    "start_time": "2023-08-28T16:11:16.595Z"
   },
   {
    "duration": 437,
    "start_time": "2023-08-28T16:11:28.593Z"
   },
   {
    "duration": 314,
    "start_time": "2023-08-28T16:12:50.363Z"
   },
   {
    "duration": 236,
    "start_time": "2023-08-28T16:13:14.223Z"
   },
   {
    "duration": 14,
    "start_time": "2023-08-28T16:25:13.838Z"
   },
   {
    "duration": 15,
    "start_time": "2023-08-28T16:25:15.652Z"
   },
   {
    "duration": 1085,
    "start_time": "2023-08-28T17:08:47.006Z"
   },
   {
    "duration": 70,
    "start_time": "2023-08-28T17:08:48.093Z"
   },
   {
    "duration": 17,
    "start_time": "2023-08-28T17:08:48.164Z"
   },
   {
    "duration": 13,
    "start_time": "2023-08-28T17:08:48.183Z"
   },
   {
    "duration": 12,
    "start_time": "2023-08-28T17:08:48.197Z"
   },
   {
    "duration": 8,
    "start_time": "2023-08-28T17:08:48.210Z"
   },
   {
    "duration": 9,
    "start_time": "2023-08-28T17:08:48.219Z"
   },
   {
    "duration": 25,
    "start_time": "2023-08-28T17:08:48.229Z"
   },
   {
    "duration": 6,
    "start_time": "2023-08-28T17:08:48.256Z"
   },
   {
    "duration": 10,
    "start_time": "2023-08-28T17:08:48.264Z"
   },
   {
    "duration": 147,
    "start_time": "2023-08-28T17:08:48.275Z"
   },
   {
    "duration": 7,
    "start_time": "2023-08-28T17:08:48.424Z"
   },
   {
    "duration": 18,
    "start_time": "2023-08-28T17:08:48.432Z"
   },
   {
    "duration": 10,
    "start_time": "2023-08-28T17:08:48.451Z"
   },
   {
    "duration": 104,
    "start_time": "2023-08-28T17:08:48.463Z"
   },
   {
    "duration": 4,
    "start_time": "2023-08-28T17:08:48.568Z"
   },
   {
    "duration": 6,
    "start_time": "2023-08-28T17:08:48.573Z"
   },
   {
    "duration": 139,
    "start_time": "2023-08-28T17:08:48.580Z"
   },
   {
    "duration": 6,
    "start_time": "2023-08-28T17:08:48.720Z"
   },
   {
    "duration": 11,
    "start_time": "2023-08-28T17:08:48.727Z"
   },
   {
    "duration": 121,
    "start_time": "2023-08-28T17:08:48.739Z"
   },
   {
    "duration": 10,
    "start_time": "2023-08-28T17:08:48.862Z"
   },
   {
    "duration": 8,
    "start_time": "2023-08-28T17:08:48.874Z"
   },
   {
    "duration": 170,
    "start_time": "2023-08-28T17:08:48.884Z"
   },
   {
    "duration": 6,
    "start_time": "2023-08-28T17:08:49.055Z"
   },
   {
    "duration": 8,
    "start_time": "2023-08-28T17:08:49.064Z"
   },
   {
    "duration": 7,
    "start_time": "2023-08-28T17:08:49.074Z"
   },
   {
    "duration": 155,
    "start_time": "2023-08-28T17:08:49.085Z"
   },
   {
    "duration": 9,
    "start_time": "2023-08-28T17:08:49.242Z"
   },
   {
    "duration": 8,
    "start_time": "2023-08-28T17:08:49.253Z"
   },
   {
    "duration": 12,
    "start_time": "2023-08-28T17:08:49.263Z"
   },
   {
    "duration": 31,
    "start_time": "2023-08-28T17:08:49.276Z"
   },
   {
    "duration": 41,
    "start_time": "2023-08-28T17:08:49.309Z"
   },
   {
    "duration": 18,
    "start_time": "2023-08-28T17:08:49.352Z"
   },
   {
    "duration": 193,
    "start_time": "2023-08-28T17:08:49.372Z"
   },
   {
    "duration": 223,
    "start_time": "2023-08-28T17:08:49.567Z"
   },
   {
    "duration": 190,
    "start_time": "2023-08-28T17:08:49.792Z"
   },
   {
    "duration": 173,
    "start_time": "2023-08-28T17:08:49.984Z"
   },
   {
    "duration": 7,
    "start_time": "2023-08-28T17:08:50.159Z"
   },
   {
    "duration": 7,
    "start_time": "2023-08-28T17:08:50.167Z"
   },
   {
    "duration": 780,
    "start_time": "2023-08-28T17:08:50.175Z"
   },
   {
    "duration": 3,
    "start_time": "2023-08-28T17:08:50.957Z"
   },
   {
    "duration": 28,
    "start_time": "2023-08-28T17:08:50.962Z"
   },
   {
    "duration": 129,
    "start_time": "2023-08-28T17:08:50.991Z"
   },
   {
    "duration": 12,
    "start_time": "2023-08-28T17:08:51.122Z"
   },
   {
    "duration": 17,
    "start_time": "2023-08-28T17:08:51.136Z"
   },
   {
    "duration": 16,
    "start_time": "2023-08-28T17:08:51.154Z"
   },
   {
    "duration": 4,
    "start_time": "2023-08-28T17:08:51.171Z"
   },
   {
    "duration": 7,
    "start_time": "2023-08-28T17:08:51.176Z"
   },
   {
    "duration": 151,
    "start_time": "2023-08-28T17:08:51.184Z"
   },
   {
    "duration": 5,
    "start_time": "2023-08-28T17:08:51.337Z"
   },
   {
    "duration": 146,
    "start_time": "2023-08-28T17:08:51.349Z"
   },
   {
    "duration": 217,
    "start_time": "2023-08-28T17:08:51.496Z"
   },
   {
    "duration": 5,
    "start_time": "2023-08-28T17:08:51.714Z"
   },
   {
    "duration": 24,
    "start_time": "2023-08-28T17:08:51.720Z"
   },
   {
    "duration": 17,
    "start_time": "2023-08-28T17:08:51.745Z"
   },
   {
    "duration": 10,
    "start_time": "2023-08-28T17:08:51.763Z"
   },
   {
    "duration": 213,
    "start_time": "2023-08-28T17:08:51.775Z"
   },
   {
    "duration": 4,
    "start_time": "2023-08-28T17:08:51.990Z"
   },
   {
    "duration": 1307,
    "start_time": "2023-08-28T19:10:16.160Z"
   },
   {
    "duration": 65,
    "start_time": "2023-08-28T19:10:17.469Z"
   },
   {
    "duration": 23,
    "start_time": "2023-08-28T19:10:17.536Z"
   },
   {
    "duration": 17,
    "start_time": "2023-08-28T19:10:17.561Z"
   },
   {
    "duration": 24,
    "start_time": "2023-08-28T19:10:17.579Z"
   },
   {
    "duration": 22,
    "start_time": "2023-08-28T19:10:17.605Z"
   },
   {
    "duration": 14,
    "start_time": "2023-08-28T19:10:17.628Z"
   },
   {
    "duration": 20,
    "start_time": "2023-08-28T19:10:17.644Z"
   },
   {
    "duration": 8,
    "start_time": "2023-08-28T19:10:17.666Z"
   },
   {
    "duration": 10,
    "start_time": "2023-08-28T19:10:17.677Z"
   },
   {
    "duration": 186,
    "start_time": "2023-08-28T19:10:17.689Z"
   },
   {
    "duration": 11,
    "start_time": "2023-08-28T19:10:17.877Z"
   },
   {
    "duration": 7,
    "start_time": "2023-08-28T19:10:17.890Z"
   },
   {
    "duration": 16,
    "start_time": "2023-08-28T19:10:17.899Z"
   },
   {
    "duration": 152,
    "start_time": "2023-08-28T19:10:17.917Z"
   },
   {
    "duration": 5,
    "start_time": "2023-08-28T19:10:18.070Z"
   },
   {
    "duration": 28,
    "start_time": "2023-08-28T19:10:18.077Z"
   },
   {
    "duration": 167,
    "start_time": "2023-08-28T19:10:18.107Z"
   },
   {
    "duration": 6,
    "start_time": "2023-08-28T19:10:18.276Z"
   },
   {
    "duration": 12,
    "start_time": "2023-08-28T19:10:18.284Z"
   },
   {
    "duration": 146,
    "start_time": "2023-08-28T19:10:18.298Z"
   },
   {
    "duration": 8,
    "start_time": "2023-08-28T19:10:18.446Z"
   },
   {
    "duration": 10,
    "start_time": "2023-08-28T19:10:18.467Z"
   },
   {
    "duration": 198,
    "start_time": "2023-08-28T19:10:18.478Z"
   },
   {
    "duration": 8,
    "start_time": "2023-08-28T19:10:18.678Z"
   },
   {
    "duration": 16,
    "start_time": "2023-08-28T19:10:18.688Z"
   },
   {
    "duration": 8,
    "start_time": "2023-08-28T19:10:18.706Z"
   },
   {
    "duration": 186,
    "start_time": "2023-08-28T19:10:18.718Z"
   },
   {
    "duration": 11,
    "start_time": "2023-08-28T19:10:18.905Z"
   },
   {
    "duration": 31,
    "start_time": "2023-08-28T19:10:18.918Z"
   },
   {
    "duration": 10,
    "start_time": "2023-08-28T19:10:18.951Z"
   },
   {
    "duration": 51,
    "start_time": "2023-08-28T19:10:18.962Z"
   },
   {
    "duration": 25,
    "start_time": "2023-08-28T19:10:19.015Z"
   },
   {
    "duration": 67,
    "start_time": "2023-08-28T19:10:19.042Z"
   },
   {
    "duration": 266,
    "start_time": "2023-08-28T19:10:19.111Z"
   },
   {
    "duration": 289,
    "start_time": "2023-08-28T19:10:19.380Z"
   },
   {
    "duration": 212,
    "start_time": "2023-08-28T19:10:19.671Z"
   },
   {
    "duration": 207,
    "start_time": "2023-08-28T19:10:19.885Z"
   },
   {
    "duration": 13,
    "start_time": "2023-08-28T19:10:20.095Z"
   },
   {
    "duration": 32,
    "start_time": "2023-08-28T19:10:20.110Z"
   },
   {
    "duration": 849,
    "start_time": "2023-08-28T19:10:20.143Z"
   },
   {
    "duration": 3,
    "start_time": "2023-08-28T19:10:20.994Z"
   },
   {
    "duration": 32,
    "start_time": "2023-08-28T19:10:20.999Z"
   },
   {
    "duration": 136,
    "start_time": "2023-08-28T19:10:21.033Z"
   },
   {
    "duration": 16,
    "start_time": "2023-08-28T19:10:21.170Z"
   },
   {
    "duration": 14,
    "start_time": "2023-08-28T19:10:21.187Z"
   },
   {
    "duration": 12,
    "start_time": "2023-08-28T19:10:21.202Z"
   },
   {
    "duration": 5,
    "start_time": "2023-08-28T19:10:21.215Z"
   },
   {
    "duration": 27,
    "start_time": "2023-08-28T19:10:21.222Z"
   },
   {
    "duration": 191,
    "start_time": "2023-08-28T19:10:21.251Z"
   },
   {
    "duration": 6,
    "start_time": "2023-08-28T19:10:21.443Z"
   },
   {
    "duration": 177,
    "start_time": "2023-08-28T19:10:21.451Z"
   },
   {
    "duration": 252,
    "start_time": "2023-08-28T19:10:21.630Z"
   },
   {
    "duration": 5,
    "start_time": "2023-08-28T19:10:21.884Z"
   },
   {
    "duration": 14,
    "start_time": "2023-08-28T19:10:21.891Z"
   },
   {
    "duration": 18,
    "start_time": "2023-08-28T19:10:21.907Z"
   },
   {
    "duration": 14,
    "start_time": "2023-08-28T19:10:21.927Z"
   },
   {
    "duration": 289,
    "start_time": "2023-08-28T19:10:21.943Z"
   },
   {
    "duration": 6,
    "start_time": "2023-08-28T19:10:22.234Z"
   },
   {
    "duration": 172,
    "start_time": "2023-08-28T19:14:18.891Z"
   },
   {
    "duration": 7,
    "start_time": "2023-08-28T19:16:49.004Z"
   },
   {
    "duration": 9,
    "start_time": "2023-08-28T19:16:49.586Z"
   },
   {
    "duration": 35,
    "start_time": "2023-08-28T19:16:49.981Z"
   },
   {
    "duration": 22,
    "start_time": "2023-08-28T19:16:50.361Z"
   },
   {
    "duration": 21,
    "start_time": "2023-08-28T19:16:50.554Z"
   },
   {
    "duration": 6,
    "start_time": "2023-08-28T19:18:04.208Z"
   },
   {
    "duration": 5,
    "start_time": "2023-08-28T19:18:24.063Z"
   },
   {
    "duration": 5,
    "start_time": "2023-08-28T19:18:40.979Z"
   },
   {
    "duration": 5,
    "start_time": "2023-08-28T19:19:25.455Z"
   },
   {
    "duration": 5,
    "start_time": "2023-08-28T19:19:54.506Z"
   },
   {
    "duration": 5,
    "start_time": "2023-08-28T19:20:16.072Z"
   },
   {
    "duration": 11,
    "start_time": "2023-08-28T19:20:29.429Z"
   },
   {
    "duration": 16,
    "start_time": "2023-08-28T19:20:50.418Z"
   },
   {
    "duration": 25,
    "start_time": "2023-08-28T19:21:02.191Z"
   },
   {
    "duration": 42,
    "start_time": "2023-08-28T19:21:58.627Z"
   },
   {
    "duration": 10,
    "start_time": "2023-08-28T19:23:58.590Z"
   },
   {
    "duration": 13,
    "start_time": "2023-08-28T19:24:06.006Z"
   },
   {
    "duration": 13,
    "start_time": "2023-08-28T19:24:31.626Z"
   },
   {
    "duration": 43,
    "start_time": "2023-08-28T19:26:12.144Z"
   },
   {
    "duration": 11,
    "start_time": "2023-08-28T19:26:12.817Z"
   },
   {
    "duration": 329,
    "start_time": "2023-08-28T19:35:12.710Z"
   },
   {
    "duration": 255,
    "start_time": "2023-08-28T19:35:18.589Z"
   },
   {
    "duration": 14,
    "start_time": "2023-08-28T19:35:59.743Z"
   },
   {
    "duration": 136,
    "start_time": "2023-08-28T19:37:29.624Z"
   },
   {
    "duration": 16,
    "start_time": "2023-08-28T19:37:30.551Z"
   },
   {
    "duration": 14,
    "start_time": "2023-08-28T19:37:31.353Z"
   },
   {
    "duration": 15,
    "start_time": "2023-08-28T19:37:32.863Z"
   },
   {
    "duration": 880,
    "start_time": "2023-08-28T19:38:44.539Z"
   },
   {
    "duration": 4,
    "start_time": "2023-08-28T19:38:45.420Z"
   },
   {
    "duration": 14,
    "start_time": "2023-08-28T19:38:45.788Z"
   },
   {
    "duration": 14,
    "start_time": "2023-08-28T19:38:56.158Z"
   },
   {
    "duration": 149,
    "start_time": "2023-08-28T19:38:58.805Z"
   },
   {
    "duration": 17,
    "start_time": "2023-08-28T19:38:59.738Z"
   },
   {
    "duration": 13,
    "start_time": "2023-08-28T19:39:01.499Z"
   },
   {
    "duration": 14,
    "start_time": "2023-08-28T19:39:03.047Z"
   },
   {
    "duration": 14,
    "start_time": "2023-08-28T19:42:22.390Z"
   },
   {
    "duration": 14,
    "start_time": "2023-08-28T19:43:49.033Z"
   },
   {
    "duration": 15,
    "start_time": "2023-08-28T19:44:01.190Z"
   },
   {
    "duration": 19,
    "start_time": "2023-08-28T19:45:32.578Z"
   },
   {
    "duration": 13,
    "start_time": "2023-08-28T19:45:35.329Z"
   },
   {
    "duration": 14,
    "start_time": "2023-08-28T19:47:47.564Z"
   },
   {
    "duration": 14,
    "start_time": "2023-08-28T19:47:53.044Z"
   },
   {
    "duration": 14,
    "start_time": "2023-08-28T19:47:55.867Z"
   },
   {
    "duration": 14,
    "start_time": "2023-08-28T19:47:58.957Z"
   },
   {
    "duration": 15,
    "start_time": "2023-08-28T19:48:52.758Z"
   },
   {
    "duration": 823,
    "start_time": "2023-08-28T19:48:57.526Z"
   },
   {
    "duration": 4,
    "start_time": "2023-08-28T19:48:58.351Z"
   },
   {
    "duration": 15,
    "start_time": "2023-08-28T19:48:58.784Z"
   },
   {
    "duration": 139,
    "start_time": "2023-08-28T19:50:13.209Z"
   },
   {
    "duration": 14,
    "start_time": "2023-08-28T19:50:13.709Z"
   },
   {
    "duration": 15,
    "start_time": "2023-08-28T19:50:23.357Z"
   },
   {
    "duration": 16,
    "start_time": "2023-08-28T19:50:23.881Z"
   },
   {
    "duration": 14,
    "start_time": "2023-08-28T19:52:07.743Z"
   },
   {
    "duration": 12,
    "start_time": "2023-08-28T19:52:08.342Z"
   },
   {
    "duration": 118,
    "start_time": "2023-08-28T19:53:56.051Z"
   },
   {
    "duration": 12,
    "start_time": "2023-08-28T19:54:11.813Z"
   },
   {
    "duration": 59,
    "start_time": "2023-08-28T19:54:24.345Z"
   },
   {
    "duration": 11,
    "start_time": "2023-08-28T19:54:32.518Z"
   },
   {
    "duration": 12,
    "start_time": "2023-08-28T19:55:09.281Z"
   },
   {
    "duration": 12,
    "start_time": "2023-08-28T19:55:21.294Z"
   },
   {
    "duration": 12,
    "start_time": "2023-08-28T19:55:23.852Z"
   },
   {
    "duration": 6,
    "start_time": "2023-08-28T19:56:16.135Z"
   },
   {
    "duration": 10,
    "start_time": "2023-08-28T19:56:23.715Z"
   },
   {
    "duration": 11,
    "start_time": "2023-08-28T19:56:24.403Z"
   },
   {
    "duration": 228,
    "start_time": "2023-08-28T20:00:44.992Z"
   },
   {
    "duration": 201,
    "start_time": "2023-08-28T20:00:50.116Z"
   },
   {
    "duration": 6,
    "start_time": "2023-08-28T20:01:02.459Z"
   },
   {
    "duration": 5,
    "start_time": "2023-08-28T20:05:29.141Z"
   },
   {
    "duration": 65,
    "start_time": "2023-08-28T20:14:33.751Z"
   },
   {
    "duration": 12,
    "start_time": "2023-08-28T20:14:33.955Z"
   },
   {
    "duration": 10,
    "start_time": "2023-08-28T20:14:43.302Z"
   },
   {
    "duration": 13,
    "start_time": "2023-08-28T20:14:44.468Z"
   },
   {
    "duration": 14,
    "start_time": "2023-08-28T20:14:45.052Z"
   },
   {
    "duration": 249,
    "start_time": "2023-08-28T20:17:34.132Z"
   },
   {
    "duration": 1243,
    "start_time": "2023-08-28T20:17:45.703Z"
   },
   {
    "duration": 66,
    "start_time": "2023-08-28T20:17:46.949Z"
   },
   {
    "duration": 22,
    "start_time": "2023-08-28T20:17:47.017Z"
   },
   {
    "duration": 26,
    "start_time": "2023-08-28T20:17:47.041Z"
   },
   {
    "duration": 15,
    "start_time": "2023-08-28T20:17:47.068Z"
   },
   {
    "duration": 30,
    "start_time": "2023-08-28T20:17:47.085Z"
   },
   {
    "duration": 28,
    "start_time": "2023-08-28T20:17:47.117Z"
   },
   {
    "duration": 16,
    "start_time": "2023-08-28T20:17:47.147Z"
   },
   {
    "duration": 20,
    "start_time": "2023-08-28T20:17:47.165Z"
   },
   {
    "duration": 14,
    "start_time": "2023-08-28T20:17:47.188Z"
   },
   {
    "duration": 190,
    "start_time": "2023-08-28T20:17:47.204Z"
   },
   {
    "duration": 10,
    "start_time": "2023-08-28T20:17:47.396Z"
   },
   {
    "duration": 37,
    "start_time": "2023-08-28T20:17:47.407Z"
   },
   {
    "duration": 22,
    "start_time": "2023-08-28T20:17:47.447Z"
   },
   {
    "duration": 131,
    "start_time": "2023-08-28T20:17:47.472Z"
   },
   {
    "duration": 5,
    "start_time": "2023-08-28T20:17:47.604Z"
   },
   {
    "duration": 66,
    "start_time": "2023-08-28T20:17:47.610Z"
   },
   {
    "duration": 167,
    "start_time": "2023-08-28T20:17:47.678Z"
   },
   {
    "duration": 5,
    "start_time": "2023-08-28T20:17:47.847Z"
   },
   {
    "duration": 15,
    "start_time": "2023-08-28T20:17:47.854Z"
   },
   {
    "duration": 131,
    "start_time": "2023-08-28T20:17:47.871Z"
   },
   {
    "duration": 8,
    "start_time": "2023-08-28T20:17:48.004Z"
   },
   {
    "duration": 20,
    "start_time": "2023-08-28T20:17:48.013Z"
   },
   {
    "duration": 174,
    "start_time": "2023-08-28T20:17:48.035Z"
   },
   {
    "duration": 7,
    "start_time": "2023-08-28T20:17:48.211Z"
   },
   {
    "duration": 61,
    "start_time": "2023-08-28T20:17:48.220Z"
   },
   {
    "duration": 35,
    "start_time": "2023-08-28T20:17:48.283Z"
   },
   {
    "duration": 166,
    "start_time": "2023-08-28T20:17:48.322Z"
   },
   {
    "duration": 10,
    "start_time": "2023-08-28T20:17:48.489Z"
   },
   {
    "duration": 77,
    "start_time": "2023-08-28T20:17:48.501Z"
   },
   {
    "duration": 8,
    "start_time": "2023-08-28T20:17:48.580Z"
   },
   {
    "duration": 22,
    "start_time": "2023-08-28T20:17:48.590Z"
   },
   {
    "duration": 53,
    "start_time": "2023-08-28T20:17:48.614Z"
   },
   {
    "duration": 8,
    "start_time": "2023-08-28T20:17:48.669Z"
   },
   {
    "duration": 33,
    "start_time": "2023-08-28T20:17:48.679Z"
   },
   {
    "duration": 20,
    "start_time": "2023-08-28T20:17:48.714Z"
   },
   {
    "duration": 200,
    "start_time": "2023-08-28T20:17:48.736Z"
   },
   {
    "duration": 279,
    "start_time": "2023-08-28T20:17:48.938Z"
   },
   {
    "duration": 191,
    "start_time": "2023-08-28T20:17:49.219Z"
   },
   {
    "duration": 191,
    "start_time": "2023-08-28T20:17:49.413Z"
   },
   {
    "duration": 8,
    "start_time": "2023-08-28T20:17:49.606Z"
   },
   {
    "duration": 7,
    "start_time": "2023-08-28T20:17:49.616Z"
   },
   {
    "duration": 848,
    "start_time": "2023-08-28T20:17:49.624Z"
   },
   {
    "duration": 138,
    "start_time": "2023-08-28T20:17:50.474Z"
   },
   {
    "duration": 15,
    "start_time": "2023-08-28T20:17:50.614Z"
   },
   {
    "duration": 16,
    "start_time": "2023-08-28T20:17:50.631Z"
   },
   {
    "duration": 117,
    "start_time": "2023-08-28T20:17:50.649Z"
   },
   {
    "duration": 0,
    "start_time": "2023-08-28T20:17:50.768Z"
   },
   {
    "duration": 0,
    "start_time": "2023-08-28T20:17:50.770Z"
   },
   {
    "duration": 0,
    "start_time": "2023-08-28T20:17:50.771Z"
   },
   {
    "duration": 0,
    "start_time": "2023-08-28T20:17:50.773Z"
   },
   {
    "duration": 0,
    "start_time": "2023-08-28T20:17:50.774Z"
   },
   {
    "duration": 0,
    "start_time": "2023-08-28T20:17:50.776Z"
   },
   {
    "duration": 0,
    "start_time": "2023-08-28T20:17:50.777Z"
   },
   {
    "duration": 0,
    "start_time": "2023-08-28T20:17:50.778Z"
   },
   {
    "duration": 0,
    "start_time": "2023-08-28T20:17:50.780Z"
   },
   {
    "duration": 0,
    "start_time": "2023-08-28T20:17:50.781Z"
   },
   {
    "duration": 0,
    "start_time": "2023-08-28T20:17:50.783Z"
   },
   {
    "duration": 0,
    "start_time": "2023-08-28T20:17:50.784Z"
   },
   {
    "duration": 0,
    "start_time": "2023-08-28T20:17:50.785Z"
   },
   {
    "duration": 10,
    "start_time": "2023-08-28T20:19:15.459Z"
   },
   {
    "duration": 11,
    "start_time": "2023-08-28T20:19:16.281Z"
   },
   {
    "duration": 1380,
    "start_time": "2023-08-29T04:38:02.822Z"
   },
   {
    "duration": 199,
    "start_time": "2023-08-29T04:38:04.204Z"
   },
   {
    "duration": 20,
    "start_time": "2023-08-29T04:38:04.404Z"
   },
   {
    "duration": 14,
    "start_time": "2023-08-29T04:38:04.426Z"
   },
   {
    "duration": 14,
    "start_time": "2023-08-29T04:38:04.441Z"
   },
   {
    "duration": 13,
    "start_time": "2023-08-29T04:38:04.456Z"
   },
   {
    "duration": 21,
    "start_time": "2023-08-29T04:38:04.470Z"
   },
   {
    "duration": 15,
    "start_time": "2023-08-29T04:38:04.492Z"
   },
   {
    "duration": 17,
    "start_time": "2023-08-29T04:38:04.508Z"
   },
   {
    "duration": 9,
    "start_time": "2023-08-29T04:38:04.526Z"
   },
   {
    "duration": 165,
    "start_time": "2023-08-29T04:38:04.537Z"
   },
   {
    "duration": 8,
    "start_time": "2023-08-29T04:38:04.704Z"
   },
   {
    "duration": 14,
    "start_time": "2023-08-29T04:38:04.714Z"
   },
   {
    "duration": 12,
    "start_time": "2023-08-29T04:38:04.731Z"
   },
   {
    "duration": 111,
    "start_time": "2023-08-29T04:38:04.744Z"
   },
   {
    "duration": 4,
    "start_time": "2023-08-29T04:38:04.857Z"
   },
   {
    "duration": 34,
    "start_time": "2023-08-29T04:38:04.863Z"
   },
   {
    "duration": 143,
    "start_time": "2023-08-29T04:38:04.899Z"
   },
   {
    "duration": 5,
    "start_time": "2023-08-29T04:38:05.043Z"
   },
   {
    "duration": 9,
    "start_time": "2023-08-29T04:38:05.050Z"
   },
   {
    "duration": 126,
    "start_time": "2023-08-29T04:38:05.061Z"
   },
   {
    "duration": 8,
    "start_time": "2023-08-29T04:38:05.188Z"
   },
   {
    "duration": 51,
    "start_time": "2023-08-29T04:38:05.197Z"
   },
   {
    "duration": 162,
    "start_time": "2023-08-29T04:38:05.249Z"
   },
   {
    "duration": 11,
    "start_time": "2023-08-29T04:38:05.413Z"
   },
   {
    "duration": 6,
    "start_time": "2023-08-29T04:38:05.426Z"
   },
   {
    "duration": 5,
    "start_time": "2023-08-29T04:38:05.434Z"
   },
   {
    "duration": 149,
    "start_time": "2023-08-29T04:38:05.441Z"
   },
   {
    "duration": 8,
    "start_time": "2023-08-29T04:38:05.592Z"
   },
   {
    "duration": 28,
    "start_time": "2023-08-29T04:38:05.602Z"
   },
   {
    "duration": 69,
    "start_time": "2023-08-29T04:38:05.631Z"
   },
   {
    "duration": 149,
    "start_time": "2023-08-29T04:38:05.702Z"
   },
   {
    "duration": 77,
    "start_time": "2023-08-29T04:38:05.853Z"
   },
   {
    "duration": 20,
    "start_time": "2023-08-29T04:38:05.932Z"
   },
   {
    "duration": 52,
    "start_time": "2023-08-29T04:38:05.954Z"
   },
   {
    "duration": 20,
    "start_time": "2023-08-29T04:38:06.008Z"
   },
   {
    "duration": 176,
    "start_time": "2023-08-29T04:38:06.030Z"
   },
   {
    "duration": 252,
    "start_time": "2023-08-29T04:38:06.208Z"
   },
   {
    "duration": 184,
    "start_time": "2023-08-29T04:38:06.462Z"
   },
   {
    "duration": 175,
    "start_time": "2023-08-29T04:38:06.648Z"
   },
   {
    "duration": 9,
    "start_time": "2023-08-29T04:38:06.827Z"
   },
   {
    "duration": 29,
    "start_time": "2023-08-29T04:38:06.838Z"
   },
   {
    "duration": 762,
    "start_time": "2023-08-29T04:38:06.869Z"
   },
   {
    "duration": 132,
    "start_time": "2023-08-29T04:38:07.633Z"
   },
   {
    "duration": 12,
    "start_time": "2023-08-29T04:38:07.767Z"
   },
   {
    "duration": 26,
    "start_time": "2023-08-29T04:38:07.780Z"
   },
   {
    "duration": 28,
    "start_time": "2023-08-29T04:38:07.808Z"
   },
   {
    "duration": 35,
    "start_time": "2023-08-29T04:38:07.838Z"
   },
   {
    "duration": 28,
    "start_time": "2023-08-29T04:38:07.875Z"
   },
   {
    "duration": 18,
    "start_time": "2023-08-29T04:38:07.905Z"
   },
   {
    "duration": 213,
    "start_time": "2023-08-29T04:38:07.924Z"
   },
   {
    "duration": 6,
    "start_time": "2023-08-29T04:38:08.139Z"
   },
   {
    "duration": 218,
    "start_time": "2023-08-29T04:38:08.147Z"
   },
   {
    "duration": 234,
    "start_time": "2023-08-29T04:38:08.366Z"
   },
   {
    "duration": 5,
    "start_time": "2023-08-29T04:38:08.602Z"
   },
   {
    "duration": 28,
    "start_time": "2023-08-29T04:38:08.608Z"
   },
   {
    "duration": 41,
    "start_time": "2023-08-29T04:38:08.638Z"
   },
   {
    "duration": 11,
    "start_time": "2023-08-29T04:38:08.681Z"
   },
   {
    "duration": 226,
    "start_time": "2023-08-29T04:38:08.693Z"
   },
   {
    "duration": 4,
    "start_time": "2023-08-29T04:38:08.923Z"
   },
   {
    "duration": 54,
    "start_time": "2023-08-29T08:48:12.702Z"
   },
   {
    "duration": 1531,
    "start_time": "2023-08-29T08:48:26.232Z"
   },
   {
    "duration": 200,
    "start_time": "2023-08-29T08:48:27.765Z"
   },
   {
    "duration": 21,
    "start_time": "2023-08-29T08:48:27.967Z"
   },
   {
    "duration": 22,
    "start_time": "2023-08-29T08:48:27.991Z"
   },
   {
    "duration": 17,
    "start_time": "2023-08-29T08:48:28.015Z"
   },
   {
    "duration": 13,
    "start_time": "2023-08-29T08:48:28.048Z"
   },
   {
    "duration": 17,
    "start_time": "2023-08-29T08:48:28.063Z"
   },
   {
    "duration": 15,
    "start_time": "2023-08-29T08:48:28.082Z"
   },
   {
    "duration": 13,
    "start_time": "2023-08-29T08:48:28.099Z"
   },
   {
    "duration": 32,
    "start_time": "2023-08-29T08:48:28.115Z"
   },
   {
    "duration": 197,
    "start_time": "2023-08-29T08:48:28.149Z"
   },
   {
    "duration": 8,
    "start_time": "2023-08-29T08:48:28.348Z"
   },
   {
    "duration": 13,
    "start_time": "2023-08-29T08:48:28.358Z"
   },
   {
    "duration": 9,
    "start_time": "2023-08-29T08:48:28.373Z"
   },
   {
    "duration": 128,
    "start_time": "2023-08-29T08:48:28.384Z"
   },
   {
    "duration": 4,
    "start_time": "2023-08-29T08:48:28.515Z"
   },
   {
    "duration": 6,
    "start_time": "2023-08-29T08:48:28.520Z"
   },
   {
    "duration": 172,
    "start_time": "2023-08-29T08:48:28.527Z"
   },
   {
    "duration": 6,
    "start_time": "2023-08-29T08:48:28.701Z"
   },
   {
    "duration": 22,
    "start_time": "2023-08-29T08:48:28.709Z"
   },
   {
    "duration": 141,
    "start_time": "2023-08-29T08:48:28.733Z"
   },
   {
    "duration": 8,
    "start_time": "2023-08-29T08:48:28.876Z"
   },
   {
    "duration": 18,
    "start_time": "2023-08-29T08:48:28.886Z"
   },
   {
    "duration": 224,
    "start_time": "2023-08-29T08:48:28.905Z"
   },
   {
    "duration": 19,
    "start_time": "2023-08-29T08:48:29.130Z"
   },
   {
    "duration": 15,
    "start_time": "2023-08-29T08:48:29.151Z"
   },
   {
    "duration": 23,
    "start_time": "2023-08-29T08:48:29.167Z"
   },
   {
    "duration": 169,
    "start_time": "2023-08-29T08:48:29.194Z"
   },
   {
    "duration": 9,
    "start_time": "2023-08-29T08:48:29.365Z"
   },
   {
    "duration": 22,
    "start_time": "2023-08-29T08:48:29.376Z"
   },
   {
    "duration": 8,
    "start_time": "2023-08-29T08:48:29.399Z"
   },
   {
    "duration": 40,
    "start_time": "2023-08-29T08:48:29.409Z"
   },
   {
    "duration": 47,
    "start_time": "2023-08-29T08:48:29.450Z"
   },
   {
    "duration": 9,
    "start_time": "2023-08-29T08:48:29.499Z"
   },
   {
    "duration": 50,
    "start_time": "2023-08-29T08:48:29.510Z"
   },
   {
    "duration": 23,
    "start_time": "2023-08-29T08:48:29.562Z"
   },
   {
    "duration": 225,
    "start_time": "2023-08-29T08:48:29.587Z"
   },
   {
    "duration": 290,
    "start_time": "2023-08-29T08:48:29.814Z"
   },
   {
    "duration": 211,
    "start_time": "2023-08-29T08:48:30.106Z"
   },
   {
    "duration": 219,
    "start_time": "2023-08-29T08:48:30.319Z"
   },
   {
    "duration": 15,
    "start_time": "2023-08-29T08:48:30.539Z"
   },
   {
    "duration": 51,
    "start_time": "2023-08-29T08:48:30.555Z"
   },
   {
    "duration": 962,
    "start_time": "2023-08-29T08:48:30.608Z"
   },
   {
    "duration": 156,
    "start_time": "2023-08-29T08:48:31.571Z"
   },
   {
    "duration": 20,
    "start_time": "2023-08-29T08:48:31.729Z"
   },
   {
    "duration": 33,
    "start_time": "2023-08-29T08:48:31.750Z"
   },
   {
    "duration": 68,
    "start_time": "2023-08-29T08:48:31.785Z"
   },
   {
    "duration": 42,
    "start_time": "2023-08-29T08:48:31.855Z"
   },
   {
    "duration": 41,
    "start_time": "2023-08-29T08:48:31.899Z"
   },
   {
    "duration": 37,
    "start_time": "2023-08-29T08:48:31.941Z"
   },
   {
    "duration": 276,
    "start_time": "2023-08-29T08:48:31.979Z"
   },
   {
    "duration": 7,
    "start_time": "2023-08-29T08:48:32.256Z"
   },
   {
    "duration": 239,
    "start_time": "2023-08-29T08:48:32.265Z"
   },
   {
    "duration": 272,
    "start_time": "2023-08-29T08:48:32.506Z"
   },
   {
    "duration": 5,
    "start_time": "2023-08-29T08:48:32.780Z"
   },
   {
    "duration": 33,
    "start_time": "2023-08-29T08:48:32.787Z"
   },
   {
    "duration": 18,
    "start_time": "2023-08-29T08:48:32.822Z"
   },
   {
    "duration": 32,
    "start_time": "2023-08-29T08:48:32.842Z"
   },
   {
    "duration": 254,
    "start_time": "2023-08-29T08:48:32.876Z"
   },
   {
    "duration": 6,
    "start_time": "2023-08-29T08:48:33.132Z"
   },
   {
    "duration": 135,
    "start_time": "2023-08-29T08:48:54.860Z"
   },
   {
    "duration": 9,
    "start_time": "2023-08-29T08:49:00.591Z"
   },
   {
    "duration": 1321,
    "start_time": "2023-08-29T09:03:22.304Z"
   },
   {
    "duration": 277,
    "start_time": "2023-08-29T09:03:23.627Z"
   },
   {
    "duration": 20,
    "start_time": "2023-08-29T09:03:23.906Z"
   },
   {
    "duration": 17,
    "start_time": "2023-08-29T09:03:23.927Z"
   },
   {
    "duration": 34,
    "start_time": "2023-08-29T09:03:23.946Z"
   },
   {
    "duration": 25,
    "start_time": "2023-08-29T09:03:23.981Z"
   },
   {
    "duration": 20,
    "start_time": "2023-08-29T09:03:24.007Z"
   },
   {
    "duration": 10,
    "start_time": "2023-08-29T09:03:24.029Z"
   },
   {
    "duration": 7,
    "start_time": "2023-08-29T09:03:24.040Z"
   },
   {
    "duration": 19,
    "start_time": "2023-08-29T09:03:24.049Z"
   },
   {
    "duration": 214,
    "start_time": "2023-08-29T09:03:24.070Z"
   },
   {
    "duration": 13,
    "start_time": "2023-08-29T09:03:24.287Z"
   },
   {
    "duration": 5,
    "start_time": "2023-08-29T09:03:24.302Z"
   },
   {
    "duration": 8,
    "start_time": "2023-08-29T09:03:24.310Z"
   },
   {
    "duration": 172,
    "start_time": "2023-08-29T09:03:24.320Z"
   },
   {
    "duration": 4,
    "start_time": "2023-08-29T09:03:24.497Z"
   },
   {
    "duration": 7,
    "start_time": "2023-08-29T09:03:24.503Z"
   },
   {
    "duration": 166,
    "start_time": "2023-08-29T09:03:24.511Z"
   },
   {
    "duration": 5,
    "start_time": "2023-08-29T09:03:24.679Z"
   },
   {
    "duration": 11,
    "start_time": "2023-08-29T09:03:24.686Z"
   },
   {
    "duration": 139,
    "start_time": "2023-08-29T09:03:24.698Z"
   },
   {
    "duration": 14,
    "start_time": "2023-08-29T09:03:24.839Z"
   },
   {
    "duration": 30,
    "start_time": "2023-08-29T09:03:24.854Z"
   },
   {
    "duration": 195,
    "start_time": "2023-08-29T09:03:24.885Z"
   },
   {
    "duration": 10,
    "start_time": "2023-08-29T09:03:25.082Z"
   },
   {
    "duration": 12,
    "start_time": "2023-08-29T09:03:25.093Z"
   },
   {
    "duration": 13,
    "start_time": "2023-08-29T09:03:25.107Z"
   },
   {
    "duration": 179,
    "start_time": "2023-08-29T09:03:25.121Z"
   },
   {
    "duration": 8,
    "start_time": "2023-08-29T09:03:25.302Z"
   },
   {
    "duration": 6,
    "start_time": "2023-08-29T09:03:25.312Z"
   },
   {
    "duration": 13,
    "start_time": "2023-08-29T09:03:25.320Z"
   },
   {
    "duration": 32,
    "start_time": "2023-08-29T09:03:25.351Z"
   },
   {
    "duration": 55,
    "start_time": "2023-08-29T09:03:25.391Z"
   },
   {
    "duration": 18,
    "start_time": "2023-08-29T09:03:25.448Z"
   },
   {
    "duration": 37,
    "start_time": "2023-08-29T09:03:25.467Z"
   },
   {
    "duration": 23,
    "start_time": "2023-08-29T09:03:25.506Z"
   },
   {
    "duration": 196,
    "start_time": "2023-08-29T09:03:25.530Z"
   },
   {
    "duration": 325,
    "start_time": "2023-08-29T09:03:25.728Z"
   },
   {
    "duration": 244,
    "start_time": "2023-08-29T09:03:26.059Z"
   },
   {
    "duration": 229,
    "start_time": "2023-08-29T09:03:26.305Z"
   },
   {
    "duration": 26,
    "start_time": "2023-08-29T09:03:26.539Z"
   },
   {
    "duration": 10,
    "start_time": "2023-08-29T09:03:26.568Z"
   },
   {
    "duration": 983,
    "start_time": "2023-08-29T09:03:26.580Z"
   },
   {
    "duration": 158,
    "start_time": "2023-08-29T09:03:27.567Z"
   },
   {
    "duration": 15,
    "start_time": "2023-08-29T09:03:27.727Z"
   },
   {
    "duration": 14,
    "start_time": "2023-08-29T09:03:27.752Z"
   },
   {
    "duration": 26,
    "start_time": "2023-08-29T09:03:27.767Z"
   },
   {
    "duration": 9,
    "start_time": "2023-08-29T09:03:27.799Z"
   },
   {
    "duration": 5,
    "start_time": "2023-08-29T09:03:27.810Z"
   },
   {
    "duration": 13,
    "start_time": "2023-08-29T09:03:27.816Z"
   },
   {
    "duration": 233,
    "start_time": "2023-08-29T09:03:27.831Z"
   },
   {
    "duration": 10,
    "start_time": "2023-08-29T09:03:28.066Z"
   },
   {
    "duration": 232,
    "start_time": "2023-08-29T09:03:28.078Z"
   },
   {
    "duration": 298,
    "start_time": "2023-08-29T09:03:28.312Z"
   },
   {
    "duration": 6,
    "start_time": "2023-08-29T09:03:28.611Z"
   },
   {
    "duration": 16,
    "start_time": "2023-08-29T09:03:28.618Z"
   },
   {
    "duration": 24,
    "start_time": "2023-08-29T09:03:28.636Z"
   },
   {
    "duration": 31,
    "start_time": "2023-08-29T09:03:28.664Z"
   },
   {
    "duration": 237,
    "start_time": "2023-08-29T09:03:28.700Z"
   },
   {
    "duration": 5,
    "start_time": "2023-08-29T09:03:28.939Z"
   },
   {
    "duration": 85,
    "start_time": "2023-08-29T11:55:17.312Z"
   },
   {
    "duration": 84,
    "start_time": "2023-08-29T11:55:32.572Z"
   },
   {
    "duration": 68,
    "start_time": "2023-08-29T11:55:46.901Z"
   },
   {
    "duration": 1542,
    "start_time": "2023-08-29T12:15:53.744Z"
   },
   {
    "duration": 213,
    "start_time": "2023-08-29T12:15:55.290Z"
   },
   {
    "duration": 29,
    "start_time": "2023-08-29T12:15:55.506Z"
   },
   {
    "duration": 34,
    "start_time": "2023-08-29T12:15:55.538Z"
   },
   {
    "duration": 20,
    "start_time": "2023-08-29T12:15:55.574Z"
   },
   {
    "duration": 29,
    "start_time": "2023-08-29T12:15:55.596Z"
   },
   {
    "duration": 21,
    "start_time": "2023-08-29T12:15:55.627Z"
   },
   {
    "duration": 42,
    "start_time": "2023-08-29T12:15:55.650Z"
   },
   {
    "duration": 39,
    "start_time": "2023-08-29T12:15:55.694Z"
   },
   {
    "duration": 24,
    "start_time": "2023-08-29T12:15:55.737Z"
   },
   {
    "duration": 206,
    "start_time": "2023-08-29T12:15:55.762Z"
   },
   {
    "duration": 10,
    "start_time": "2023-08-29T12:15:55.970Z"
   },
   {
    "duration": 25,
    "start_time": "2023-08-29T12:15:55.981Z"
   },
   {
    "duration": 53,
    "start_time": "2023-08-29T12:15:56.007Z"
   },
   {
    "duration": 156,
    "start_time": "2023-08-29T12:15:56.062Z"
   },
   {
    "duration": 5,
    "start_time": "2023-08-29T12:15:56.219Z"
   },
   {
    "duration": 8,
    "start_time": "2023-08-29T12:15:56.225Z"
   },
   {
    "duration": 171,
    "start_time": "2023-08-29T12:15:56.235Z"
   },
   {
    "duration": 7,
    "start_time": "2023-08-29T12:15:56.408Z"
   },
   {
    "duration": 16,
    "start_time": "2023-08-29T12:15:56.417Z"
   },
   {
    "duration": 152,
    "start_time": "2023-08-29T12:15:56.435Z"
   },
   {
    "duration": 9,
    "start_time": "2023-08-29T12:15:56.589Z"
   },
   {
    "duration": 12,
    "start_time": "2023-08-29T12:15:56.600Z"
   },
   {
    "duration": 226,
    "start_time": "2023-08-29T12:15:56.614Z"
   },
   {
    "duration": 8,
    "start_time": "2023-08-29T12:15:56.847Z"
   },
   {
    "duration": 8,
    "start_time": "2023-08-29T12:15:56.857Z"
   },
   {
    "duration": 20,
    "start_time": "2023-08-29T12:15:56.867Z"
   },
   {
    "duration": 168,
    "start_time": "2023-08-29T12:15:56.891Z"
   },
   {
    "duration": 8,
    "start_time": "2023-08-29T12:15:57.061Z"
   },
   {
    "duration": 16,
    "start_time": "2023-08-29T12:15:57.071Z"
   },
   {
    "duration": 10,
    "start_time": "2023-08-29T12:15:57.089Z"
   },
   {
    "duration": 24,
    "start_time": "2023-08-29T12:15:57.101Z"
   },
   {
    "duration": 61,
    "start_time": "2023-08-29T12:15:57.127Z"
   },
   {
    "duration": 9,
    "start_time": "2023-08-29T12:15:57.189Z"
   },
   {
    "duration": 27,
    "start_time": "2023-08-29T12:15:57.200Z"
   },
   {
    "duration": 24,
    "start_time": "2023-08-29T12:15:57.247Z"
   },
   {
    "duration": 216,
    "start_time": "2023-08-29T12:15:57.273Z"
   },
   {
    "duration": 288,
    "start_time": "2023-08-29T12:15:57.490Z"
   },
   {
    "duration": 205,
    "start_time": "2023-08-29T12:15:57.780Z"
   },
   {
    "duration": 207,
    "start_time": "2023-08-29T12:15:57.986Z"
   },
   {
    "duration": 9,
    "start_time": "2023-08-29T12:15:58.195Z"
   },
   {
    "duration": 9,
    "start_time": "2023-08-29T12:15:58.206Z"
   },
   {
    "duration": 1029,
    "start_time": "2023-08-29T12:15:58.217Z"
   },
   {
    "duration": 152,
    "start_time": "2023-08-29T12:15:59.248Z"
   },
   {
    "duration": 14,
    "start_time": "2023-08-29T12:15:59.401Z"
   },
   {
    "duration": 17,
    "start_time": "2023-08-29T12:15:59.416Z"
   },
   {
    "duration": 12,
    "start_time": "2023-08-29T12:15:59.435Z"
   },
   {
    "duration": 10,
    "start_time": "2023-08-29T12:15:59.449Z"
   },
   {
    "duration": 5,
    "start_time": "2023-08-29T12:15:59.461Z"
   },
   {
    "duration": 11,
    "start_time": "2023-08-29T12:15:59.467Z"
   },
   {
    "duration": 243,
    "start_time": "2023-08-29T12:15:59.479Z"
   },
   {
    "duration": 7,
    "start_time": "2023-08-29T12:15:59.724Z"
   },
   {
    "duration": 243,
    "start_time": "2023-08-29T12:15:59.732Z"
   },
   {
    "duration": 283,
    "start_time": "2023-08-29T12:15:59.976Z"
   },
   {
    "duration": 5,
    "start_time": "2023-08-29T12:16:00.261Z"
   },
   {
    "duration": 63,
    "start_time": "2023-08-29T12:16:00.268Z"
   },
   {
    "duration": 140,
    "start_time": "2023-08-29T12:16:00.333Z"
   },
   {
    "duration": 68,
    "start_time": "2023-08-29T12:16:00.475Z"
   },
   {
    "duration": 302,
    "start_time": "2023-08-29T12:16:00.545Z"
   },
   {
    "duration": 5,
    "start_time": "2023-08-29T12:16:00.849Z"
   },
   {
    "duration": 56,
    "start_time": "2023-09-02T14:01:44.271Z"
   }
  ],
  "kernelspec": {
   "display_name": "Python 3 (ipykernel)",
   "language": "python",
   "name": "python3"
  },
  "language_info": {
   "codemirror_mode": {
    "name": "ipython",
    "version": 3
   },
   "file_extension": ".py",
   "mimetype": "text/x-python",
   "name": "python",
   "nbconvert_exporter": "python",
   "pygments_lexer": "ipython3",
   "version": "3.11.4"
  },
  "toc": {
   "base_numbering": 1,
   "nav_menu": {},
   "number_sections": true,
   "sideBar": true,
   "skip_h1_title": true,
   "title_cell": "Table of Contents",
   "title_sidebar": "Contents",
   "toc_cell": false,
   "toc_position": {},
   "toc_section_display": true,
   "toc_window_display": false
  }
 },
 "nbformat": 4,
 "nbformat_minor": 5
}
