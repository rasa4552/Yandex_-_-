{
 "cells": [
  {
   "cell_type": "markdown",
   "metadata": {},
   "source": [
    "# Выбор локации для скважины"
   ]
  },
  {
   "cell_type": "markdown",
   "metadata": {},
   "source": [
    "Допустим, вы работаете в добывающей компании «ГлавРосГосНефть». Нужно решить, где бурить новую скважину.\n",
    "\n",
    "Вам предоставлены пробы нефти в трёх регионах: в каждом 10 000 месторождений, где измерили качество нефти и объём её запасов. Постройте модель машинного обучения, которая поможет определить регион, где добыча принесёт наибольшую прибыль. Проанализируйте возможную прибыль и риски техникой *Bootstrap.*\n",
    "\n",
    "Шаги для выбора локации:\n",
    "\n",
    "- В избранном регионе ищут месторождения, для каждого определяют значения признаков;\n",
    "- Строят модель и оценивают объём запасов;\n",
    "- Выбирают месторождения с самым высокими оценками значений. Количество месторождений зависит от бюджета компании и стоимости разработки одной скважины;\n",
    "- Прибыль равна суммарной прибыли отобранных месторождений."
   ]
  },
  {
   "cell_type": "markdown",
   "metadata": {},
   "source": [
    "Описание проекта:  \n",
    "Допустим, мы работаем в добывающей компании «ГлавРосГосНефть». Нужно решить, где бурить новую скважину.  \n",
    "\n",
    "Нам предоставлены пробы нефти в трёх регионах: в каждом 10 000 месторождений, где измерили качество нефти и объём её запасов. Построим модель машинного обучения, которая поможет определить регион, где добыча принесёт наибольшую прибыль. Проанализируем возможную прибыль и риски техникой Bootstrap.  \n",
    " \n",
    "Шаги для выбора локации:  \n",
    "\n",
    "В избранном регионе ищем месторождения, для каждого опредеим значения признаков.  \n",
    "Строим модель и оцениваем объём запасов.  \n",
    "Выбираем месторождения с самым высокими оценками значений. Количество месторождений зависит от бюджета компании и стоимости разработки одной скважины.  \n",
    "Прибыль равна суммарной прибыли отобранных месторождений.  \n",
    "\n",
    "\n",
    "\n",
    "Цели проекта:  \n",
    "Провести исследование с целью построения математической модели и определить регион, где добыча нефти принесёт наибольшую прибыль.  \n",
    "\n",
    "Результаты исследования позволят увеличить прибыль добывающей компании «ГлавРосГосНефть»."
   ]
  },
  {
   "cell_type": "markdown",
   "metadata": {},
   "source": [
    "## Загрузка и подготовка данных"
   ]
  },
  {
   "cell_type": "markdown",
   "metadata": {},
   "source": [
    "### Загрузка инструментария"
   ]
  },
  {
   "cell_type": "code",
   "execution_count": 1,
   "metadata": {},
   "outputs": [],
   "source": [
    "import pandas as pd\n",
    "import matplotlib.pyplot as plt\n",
    "import seaborn as sns\n",
    " \n",
    "import numpy as np\n",
    "import random\n",
    "\n",
    " \n",
    "!pip install phik -q\n",
    "import phik\n",
    "# Модели \n",
    "from phik.report import plot_correlation_matrix\n",
    "from sklearn.model_selection import train_test_split\n",
    "\n",
    " \n",
    "from sklearn.linear_model import LinearRegression\n",
    "\n",
    " \n",
    "\n",
    "#Метрики\n",
    "from sklearn.metrics import mean_squared_error\n",
    " \n",
    "from sklearn.metrics import   make_scorer\n",
    " "
   ]
  },
  {
   "cell_type": "markdown",
   "metadata": {},
   "source": [
    "### Загрузка и проверка наборов данных\n"
   ]
  },
  {
   "cell_type": "code",
   "execution_count": 2,
   "metadata": {},
   "outputs": [],
   "source": [
    "geo_data_0= pd.read_csv('/datasets/geo_data_0.csv')\n",
    "geo_data_1= pd.read_csv('/datasets/geo_data_1.csv')\n",
    "geo_data_2= pd.read_csv('/datasets/geo_data_2.csv')"
   ]
  },
  {
   "cell_type": "code",
   "execution_count": 3,
   "metadata": {},
   "outputs": [
    {
     "data": {
      "text/html": [
       "<div>\n",
       "<style scoped>\n",
       "    .dataframe tbody tr th:only-of-type {\n",
       "        vertical-align: middle;\n",
       "    }\n",
       "\n",
       "    .dataframe tbody tr th {\n",
       "        vertical-align: top;\n",
       "    }\n",
       "\n",
       "    .dataframe thead th {\n",
       "        text-align: right;\n",
       "    }\n",
       "</style>\n",
       "<table border=\"1\" class=\"dataframe\">\n",
       "  <thead>\n",
       "    <tr style=\"text-align: right;\">\n",
       "      <th></th>\n",
       "      <th>id</th>\n",
       "      <th>f0</th>\n",
       "      <th>f1</th>\n",
       "      <th>f2</th>\n",
       "      <th>product</th>\n",
       "    </tr>\n",
       "  </thead>\n",
       "  <tbody>\n",
       "    <tr>\n",
       "      <th>0</th>\n",
       "      <td>txEyH</td>\n",
       "      <td>0.705745</td>\n",
       "      <td>-0.497823</td>\n",
       "      <td>1.221170</td>\n",
       "      <td>105.280062</td>\n",
       "    </tr>\n",
       "    <tr>\n",
       "      <th>1</th>\n",
       "      <td>2acmU</td>\n",
       "      <td>1.334711</td>\n",
       "      <td>-0.340164</td>\n",
       "      <td>4.365080</td>\n",
       "      <td>73.037750</td>\n",
       "    </tr>\n",
       "    <tr>\n",
       "      <th>2</th>\n",
       "      <td>409Wp</td>\n",
       "      <td>1.022732</td>\n",
       "      <td>0.151990</td>\n",
       "      <td>1.419926</td>\n",
       "      <td>85.265647</td>\n",
       "    </tr>\n",
       "    <tr>\n",
       "      <th>3</th>\n",
       "      <td>iJLyR</td>\n",
       "      <td>-0.032172</td>\n",
       "      <td>0.139033</td>\n",
       "      <td>2.978566</td>\n",
       "      <td>168.620776</td>\n",
       "    </tr>\n",
       "    <tr>\n",
       "      <th>4</th>\n",
       "      <td>Xdl7t</td>\n",
       "      <td>1.988431</td>\n",
       "      <td>0.155413</td>\n",
       "      <td>4.751769</td>\n",
       "      <td>154.036647</td>\n",
       "    </tr>\n",
       "    <tr>\n",
       "      <th>5</th>\n",
       "      <td>wX4Hy</td>\n",
       "      <td>0.969570</td>\n",
       "      <td>0.489775</td>\n",
       "      <td>-0.735383</td>\n",
       "      <td>64.741541</td>\n",
       "    </tr>\n",
       "    <tr>\n",
       "      <th>6</th>\n",
       "      <td>tL6pL</td>\n",
       "      <td>0.645075</td>\n",
       "      <td>0.530656</td>\n",
       "      <td>1.780266</td>\n",
       "      <td>49.055285</td>\n",
       "    </tr>\n",
       "    <tr>\n",
       "      <th>7</th>\n",
       "      <td>BYPU6</td>\n",
       "      <td>-0.400648</td>\n",
       "      <td>0.808337</td>\n",
       "      <td>-5.624670</td>\n",
       "      <td>72.943292</td>\n",
       "    </tr>\n",
       "    <tr>\n",
       "      <th>8</th>\n",
       "      <td>j9Oui</td>\n",
       "      <td>0.643105</td>\n",
       "      <td>-0.551583</td>\n",
       "      <td>2.372141</td>\n",
       "      <td>113.356160</td>\n",
       "    </tr>\n",
       "    <tr>\n",
       "      <th>9</th>\n",
       "      <td>OLuZU</td>\n",
       "      <td>2.173381</td>\n",
       "      <td>0.563698</td>\n",
       "      <td>9.441852</td>\n",
       "      <td>127.910945</td>\n",
       "    </tr>\n",
       "  </tbody>\n",
       "</table>\n",
       "</div>"
      ],
      "text/plain": [
       "      id        f0        f1        f2     product\n",
       "0  txEyH  0.705745 -0.497823  1.221170  105.280062\n",
       "1  2acmU  1.334711 -0.340164  4.365080   73.037750\n",
       "2  409Wp  1.022732  0.151990  1.419926   85.265647\n",
       "3  iJLyR -0.032172  0.139033  2.978566  168.620776\n",
       "4  Xdl7t  1.988431  0.155413  4.751769  154.036647\n",
       "5  wX4Hy  0.969570  0.489775 -0.735383   64.741541\n",
       "6  tL6pL  0.645075  0.530656  1.780266   49.055285\n",
       "7  BYPU6 -0.400648  0.808337 -5.624670   72.943292\n",
       "8  j9Oui  0.643105 -0.551583  2.372141  113.356160\n",
       "9  OLuZU  2.173381  0.563698  9.441852  127.910945"
      ]
     },
     "metadata": {},
     "output_type": "display_data"
    },
    {
     "name": "stdout",
     "output_type": "stream",
     "text": [
      "<class 'pandas.core.frame.DataFrame'>\n",
      "RangeIndex: 100000 entries, 0 to 99999\n",
      "Data columns (total 5 columns):\n",
      " #   Column   Non-Null Count   Dtype  \n",
      "---  ------   --------------   -----  \n",
      " 0   id       100000 non-null  object \n",
      " 1   f0       100000 non-null  float64\n",
      " 2   f1       100000 non-null  float64\n",
      " 3   f2       100000 non-null  float64\n",
      " 4   product  100000 non-null  float64\n",
      "dtypes: float64(4), object(1)\n",
      "memory usage: 3.8+ MB\n"
     ]
    }
   ],
   "source": [
    "display(geo_data_0.head(10))\n",
    "geo_data_0.info()"
   ]
  },
  {
   "cell_type": "code",
   "execution_count": 4,
   "metadata": {},
   "outputs": [
    {
     "data": {
      "text/plain": [
       "0"
      ]
     },
     "metadata": {},
     "output_type": "display_data"
    }
   ],
   "source": [
    "#display(len(geo_data_0['id'].unique()) )\n",
    "display(geo_data_0.duplicated().sum())\n",
    "#display(geo_data_0['id'].duplicated().sum())"
   ]
  },
  {
   "cell_type": "code",
   "execution_count": 5,
   "metadata": {},
   "outputs": [],
   "source": [
    "geo_data_0 = geo_data_0.drop('id', axis=1)"
   ]
  },
  {
   "cell_type": "code",
   "execution_count": 6,
   "metadata": {},
   "outputs": [
    {
     "data": {
      "text/html": [
       "<div>\n",
       "<style scoped>\n",
       "    .dataframe tbody tr th:only-of-type {\n",
       "        vertical-align: middle;\n",
       "    }\n",
       "\n",
       "    .dataframe tbody tr th {\n",
       "        vertical-align: top;\n",
       "    }\n",
       "\n",
       "    .dataframe thead th {\n",
       "        text-align: right;\n",
       "    }\n",
       "</style>\n",
       "<table border=\"1\" class=\"dataframe\">\n",
       "  <thead>\n",
       "    <tr style=\"text-align: right;\">\n",
       "      <th></th>\n",
       "      <th>id</th>\n",
       "      <th>f0</th>\n",
       "      <th>f1</th>\n",
       "      <th>f2</th>\n",
       "      <th>product</th>\n",
       "    </tr>\n",
       "  </thead>\n",
       "  <tbody>\n",
       "    <tr>\n",
       "      <th>0</th>\n",
       "      <td>kBEdx</td>\n",
       "      <td>-15.001348</td>\n",
       "      <td>-8.276000</td>\n",
       "      <td>-0.005876</td>\n",
       "      <td>3.179103</td>\n",
       "    </tr>\n",
       "    <tr>\n",
       "      <th>1</th>\n",
       "      <td>62mP7</td>\n",
       "      <td>14.272088</td>\n",
       "      <td>-3.475083</td>\n",
       "      <td>0.999183</td>\n",
       "      <td>26.953261</td>\n",
       "    </tr>\n",
       "    <tr>\n",
       "      <th>2</th>\n",
       "      <td>vyE1P</td>\n",
       "      <td>6.263187</td>\n",
       "      <td>-5.948386</td>\n",
       "      <td>5.001160</td>\n",
       "      <td>134.766305</td>\n",
       "    </tr>\n",
       "    <tr>\n",
       "      <th>3</th>\n",
       "      <td>KcrkZ</td>\n",
       "      <td>-13.081196</td>\n",
       "      <td>-11.506057</td>\n",
       "      <td>4.999415</td>\n",
       "      <td>137.945408</td>\n",
       "    </tr>\n",
       "    <tr>\n",
       "      <th>4</th>\n",
       "      <td>AHL4O</td>\n",
       "      <td>12.702195</td>\n",
       "      <td>-8.147433</td>\n",
       "      <td>5.004363</td>\n",
       "      <td>134.766305</td>\n",
       "    </tr>\n",
       "    <tr>\n",
       "      <th>5</th>\n",
       "      <td>HHckp</td>\n",
       "      <td>-3.327590</td>\n",
       "      <td>-2.205276</td>\n",
       "      <td>3.003647</td>\n",
       "      <td>84.038886</td>\n",
       "    </tr>\n",
       "    <tr>\n",
       "      <th>6</th>\n",
       "      <td>h5Ujo</td>\n",
       "      <td>-11.142655</td>\n",
       "      <td>-10.133399</td>\n",
       "      <td>4.002382</td>\n",
       "      <td>110.992147</td>\n",
       "    </tr>\n",
       "    <tr>\n",
       "      <th>7</th>\n",
       "      <td>muH9x</td>\n",
       "      <td>4.234715</td>\n",
       "      <td>-0.001354</td>\n",
       "      <td>2.004588</td>\n",
       "      <td>53.906522</td>\n",
       "    </tr>\n",
       "    <tr>\n",
       "      <th>8</th>\n",
       "      <td>YiRkx</td>\n",
       "      <td>13.355129</td>\n",
       "      <td>-0.332068</td>\n",
       "      <td>4.998647</td>\n",
       "      <td>134.766305</td>\n",
       "    </tr>\n",
       "    <tr>\n",
       "      <th>9</th>\n",
       "      <td>jG6Gi</td>\n",
       "      <td>1.069227</td>\n",
       "      <td>-11.025667</td>\n",
       "      <td>4.997844</td>\n",
       "      <td>137.945408</td>\n",
       "    </tr>\n",
       "  </tbody>\n",
       "</table>\n",
       "</div>"
      ],
      "text/plain": [
       "      id         f0         f1        f2     product\n",
       "0  kBEdx -15.001348  -8.276000 -0.005876    3.179103\n",
       "1  62mP7  14.272088  -3.475083  0.999183   26.953261\n",
       "2  vyE1P   6.263187  -5.948386  5.001160  134.766305\n",
       "3  KcrkZ -13.081196 -11.506057  4.999415  137.945408\n",
       "4  AHL4O  12.702195  -8.147433  5.004363  134.766305\n",
       "5  HHckp  -3.327590  -2.205276  3.003647   84.038886\n",
       "6  h5Ujo -11.142655 -10.133399  4.002382  110.992147\n",
       "7  muH9x   4.234715  -0.001354  2.004588   53.906522\n",
       "8  YiRkx  13.355129  -0.332068  4.998647  134.766305\n",
       "9  jG6Gi   1.069227 -11.025667  4.997844  137.945408"
      ]
     },
     "metadata": {},
     "output_type": "display_data"
    },
    {
     "name": "stdout",
     "output_type": "stream",
     "text": [
      "<class 'pandas.core.frame.DataFrame'>\n",
      "RangeIndex: 100000 entries, 0 to 99999\n",
      "Data columns (total 5 columns):\n",
      " #   Column   Non-Null Count   Dtype  \n",
      "---  ------   --------------   -----  \n",
      " 0   id       100000 non-null  object \n",
      " 1   f0       100000 non-null  float64\n",
      " 2   f1       100000 non-null  float64\n",
      " 3   f2       100000 non-null  float64\n",
      " 4   product  100000 non-null  float64\n",
      "dtypes: float64(4), object(1)\n",
      "memory usage: 3.8+ MB\n"
     ]
    }
   ],
   "source": [
    "display(geo_data_1.head(10))\n",
    "geo_data_1.info()"
   ]
  },
  {
   "cell_type": "code",
   "execution_count": 7,
   "metadata": {},
   "outputs": [
    {
     "data": {
      "text/plain": [
       "0"
      ]
     },
     "metadata": {},
     "output_type": "display_data"
    }
   ],
   "source": [
    "display(geo_data_1.duplicated().sum())\n"
   ]
  },
  {
   "cell_type": "code",
   "execution_count": 8,
   "metadata": {},
   "outputs": [],
   "source": [
    "geo_data_1 = geo_data_1.drop('id', axis=1)"
   ]
  },
  {
   "cell_type": "code",
   "execution_count": 9,
   "metadata": {},
   "outputs": [
    {
     "data": {
      "text/html": [
       "<div>\n",
       "<style scoped>\n",
       "    .dataframe tbody tr th:only-of-type {\n",
       "        vertical-align: middle;\n",
       "    }\n",
       "\n",
       "    .dataframe tbody tr th {\n",
       "        vertical-align: top;\n",
       "    }\n",
       "\n",
       "    .dataframe thead th {\n",
       "        text-align: right;\n",
       "    }\n",
       "</style>\n",
       "<table border=\"1\" class=\"dataframe\">\n",
       "  <thead>\n",
       "    <tr style=\"text-align: right;\">\n",
       "      <th></th>\n",
       "      <th>id</th>\n",
       "      <th>f0</th>\n",
       "      <th>f1</th>\n",
       "      <th>f2</th>\n",
       "      <th>product</th>\n",
       "    </tr>\n",
       "  </thead>\n",
       "  <tbody>\n",
       "    <tr>\n",
       "      <th>0</th>\n",
       "      <td>fwXo0</td>\n",
       "      <td>-1.146987</td>\n",
       "      <td>0.963328</td>\n",
       "      <td>-0.828965</td>\n",
       "      <td>27.758673</td>\n",
       "    </tr>\n",
       "    <tr>\n",
       "      <th>1</th>\n",
       "      <td>WJtFt</td>\n",
       "      <td>0.262778</td>\n",
       "      <td>0.269839</td>\n",
       "      <td>-2.530187</td>\n",
       "      <td>56.069697</td>\n",
       "    </tr>\n",
       "    <tr>\n",
       "      <th>2</th>\n",
       "      <td>ovLUW</td>\n",
       "      <td>0.194587</td>\n",
       "      <td>0.289035</td>\n",
       "      <td>-5.586433</td>\n",
       "      <td>62.871910</td>\n",
       "    </tr>\n",
       "    <tr>\n",
       "      <th>3</th>\n",
       "      <td>q6cA6</td>\n",
       "      <td>2.236060</td>\n",
       "      <td>-0.553760</td>\n",
       "      <td>0.930038</td>\n",
       "      <td>114.572842</td>\n",
       "    </tr>\n",
       "    <tr>\n",
       "      <th>4</th>\n",
       "      <td>WPMUX</td>\n",
       "      <td>-0.515993</td>\n",
       "      <td>1.716266</td>\n",
       "      <td>5.899011</td>\n",
       "      <td>149.600746</td>\n",
       "    </tr>\n",
       "    <tr>\n",
       "      <th>5</th>\n",
       "      <td>LzZXx</td>\n",
       "      <td>-0.758092</td>\n",
       "      <td>0.710691</td>\n",
       "      <td>2.585887</td>\n",
       "      <td>90.222465</td>\n",
       "    </tr>\n",
       "    <tr>\n",
       "      <th>6</th>\n",
       "      <td>WBHRv</td>\n",
       "      <td>-0.574891</td>\n",
       "      <td>0.317727</td>\n",
       "      <td>1.773745</td>\n",
       "      <td>45.641478</td>\n",
       "    </tr>\n",
       "    <tr>\n",
       "      <th>7</th>\n",
       "      <td>XO8fn</td>\n",
       "      <td>-1.906649</td>\n",
       "      <td>-2.458350</td>\n",
       "      <td>-0.177097</td>\n",
       "      <td>72.480640</td>\n",
       "    </tr>\n",
       "    <tr>\n",
       "      <th>8</th>\n",
       "      <td>ybmQ5</td>\n",
       "      <td>1.776292</td>\n",
       "      <td>-0.279356</td>\n",
       "      <td>3.004156</td>\n",
       "      <td>106.616832</td>\n",
       "    </tr>\n",
       "    <tr>\n",
       "      <th>9</th>\n",
       "      <td>OilcN</td>\n",
       "      <td>-1.214452</td>\n",
       "      <td>-0.439314</td>\n",
       "      <td>5.922514</td>\n",
       "      <td>52.954532</td>\n",
       "    </tr>\n",
       "  </tbody>\n",
       "</table>\n",
       "</div>"
      ],
      "text/plain": [
       "      id        f0        f1        f2     product\n",
       "0  fwXo0 -1.146987  0.963328 -0.828965   27.758673\n",
       "1  WJtFt  0.262778  0.269839 -2.530187   56.069697\n",
       "2  ovLUW  0.194587  0.289035 -5.586433   62.871910\n",
       "3  q6cA6  2.236060 -0.553760  0.930038  114.572842\n",
       "4  WPMUX -0.515993  1.716266  5.899011  149.600746\n",
       "5  LzZXx -0.758092  0.710691  2.585887   90.222465\n",
       "6  WBHRv -0.574891  0.317727  1.773745   45.641478\n",
       "7  XO8fn -1.906649 -2.458350 -0.177097   72.480640\n",
       "8  ybmQ5  1.776292 -0.279356  3.004156  106.616832\n",
       "9  OilcN -1.214452 -0.439314  5.922514   52.954532"
      ]
     },
     "metadata": {},
     "output_type": "display_data"
    },
    {
     "name": "stdout",
     "output_type": "stream",
     "text": [
      "<class 'pandas.core.frame.DataFrame'>\n",
      "RangeIndex: 100000 entries, 0 to 99999\n",
      "Data columns (total 5 columns):\n",
      " #   Column   Non-Null Count   Dtype  \n",
      "---  ------   --------------   -----  \n",
      " 0   id       100000 non-null  object \n",
      " 1   f0       100000 non-null  float64\n",
      " 2   f1       100000 non-null  float64\n",
      " 3   f2       100000 non-null  float64\n",
      " 4   product  100000 non-null  float64\n",
      "dtypes: float64(4), object(1)\n",
      "memory usage: 3.8+ MB\n"
     ]
    }
   ],
   "source": [
    "display(geo_data_2.head(10))\n",
    "geo_data_2.info()"
   ]
  },
  {
   "cell_type": "code",
   "execution_count": 10,
   "metadata": {},
   "outputs": [
    {
     "data": {
      "text/plain": [
       "0"
      ]
     },
     "metadata": {},
     "output_type": "display_data"
    }
   ],
   "source": [
    "display(geo_data_2.duplicated().sum())\n",
    " "
   ]
  },
  {
   "cell_type": "code",
   "execution_count": 11,
   "metadata": {},
   "outputs": [],
   "source": [
    "geo_data_2 = geo_data_2.drop('id', axis=1)"
   ]
  },
  {
   "cell_type": "markdown",
   "metadata": {},
   "source": [
    "Датасеты равны по размеру.  \n",
    "Пропусков нет  \n",
    "Категориальных признаков нет  \n",
    "Масштабирование проводить не нужно"
   ]
  },
  {
   "cell_type": "markdown",
   "metadata": {},
   "source": [
    "### Распределение значений"
   ]
  },
  {
   "cell_type": "code",
   "execution_count": 12,
   "metadata": {},
   "outputs": [
    {
     "data": {
      "text/plain": [
       "<matplotlib.legend.Legend at 0x7ffa7abfb550>"
      ]
     },
     "execution_count": 12,
     "metadata": {},
     "output_type": "execute_result"
    },
    {
     "data": {
      "image/png": "[encoded data removed]",
      "text/plain": [
       "<Figure size 1080x720 with 1 Axes>"
      ]
     },
     "metadata": {
      "needs_background": "light"
     },
     "output_type": "display_data"
    }
   ],
   "source": [
    "colors=['red','blue','yellow']\n",
    "labels=['1 регион','2 регион','3 регион']\n",
    "plt.figure(figsize=(15,10))\n",
    "plt.hist(x=[geo_data_0['product'],geo_data_1['product'],geo_data_2['product']],\n",
    "         color = colors, bins=40 , density=True,\n",
    "         label=labels);\n",
    "plt.title('Распределение')\n",
    "plt.xlabel('Добыча с точки')\n",
    "plt.ylabel('Доля точек')\n",
    "plt.legend(['1 регион','2 регион','3 регион'])\n",
    "plt.legend(loc=1)\n",
    "plt.legend(prop={'size': 15}, title = '')\n"
   ]
  },
  {
   "cell_type": "markdown",
   "metadata": {},
   "source": []
  },
  {
   "cell_type": "code",
   "execution_count": 13,
   "metadata": {},
   "outputs": [],
   "source": [
    "def analysis_HIST(adata_in,adata_in1,adata_in2, chapter,   Х,   bins):\n",
    "    #print(adata_in[chapter].describe())\n",
    "    #adata_ini = adata_in.groupby(chapter).mean()\n",
    "    #display(adata_in[chapter].head(5))\n",
    "    plt.title('Показатели 1 региона')\n",
    "    plt.xlabel(Х)\n",
    "    plt.ylabel(\"Доля показателей\")\n",
    "    \n",
    "    plt.hist(x=adata_in[chapter], bins=bins, density=True)\n",
    "    plt.figure(figsize=(10,5))\n",
    "    \n",
    "    plt.title('Показатели 2 региона')\n",
    "    plt.xlabel(Х)\n",
    "    plt.ylabel(\"Доля показателей\")\n",
    "    \n",
    "    plt.hist(x=adata_in1[chapter], bins=bins, density=True)\n",
    "    plt.figure(figsize=(10,5))\n",
    "    \n",
    "    plt.title('Показатели 3 региона')\n",
    "    plt.xlabel(Х)\n",
    "    plt.ylabel(\"Доля показателей\")\n",
    "    \n",
    "    plt.hist(x=adata_in2[chapter], bins=bins, density=True)\n",
    "    plt.figure(figsize=(10,5))\n",
    "    #plt.show() "
   ]
  },
  {
   "cell_type": "raw",
   "metadata": {},
   "source": [
    "\n",
    "analysis_HIST(geo_data_0,\n",
    "              geo_data_1,\n",
    "              geo_data_2,\n",
    "             'product',\n",
    "             'Показатели добычи',\n",
    "             #'Доля значений',\n",
    "             40)\n"
   ]
  },
  {
   "cell_type": "code",
   "execution_count": 14,
   "metadata": {},
   "outputs": [
    {
     "data": {
      "text/plain": [
       "<matplotlib.legend.Legend at 0x7ffa7a9a5cd0>"
      ]
     },
     "execution_count": 14,
     "metadata": {},
     "output_type": "execute_result"
    },
    {
     "data": {
      "image/png": "[encoded data removed]",
      "text/plain": [
       "<Figure size 1080x720 with 1 Axes>"
      ]
     },
     "metadata": {
      "needs_background": "light"
     },
     "output_type": "display_data"
    }
   ],
   "source": [
    "colors=['red','blue','yellow']\n",
    "labels=['1 регион','2 регион','3 регион']\n",
    "plt.figure(figsize=(15,10))\n",
    "plt.hist(x=[geo_data_0['f0'],geo_data_1['f0'],geo_data_2['f0']],\n",
    "         color = colors, bins=30 , density=True,\n",
    "         label=labels);\n",
    "plt.title('Распределение')\n",
    "plt.xlabel('Показатель F0')\n",
    "plt.ylabel('Доля точек')\n",
    "plt.legend(['1 регион','2 регион','3 регион'])\n",
    "plt.legend(loc=1)\n",
    "plt.legend(prop={'size': 15}, title = '')\n"
   ]
  },
  {
   "cell_type": "markdown",
   "metadata": {},
   "source": [
    "<b>Вывод:</b>   \n"
   ]
  },
  {
   "cell_type": "code",
   "execution_count": 15,
   "metadata": {},
   "outputs": [
    {
     "data": {
      "image/png": "[encoded data removed]",
      "text/plain": [
       "<Figure size 432x288 with 1 Axes>"
      ]
     },
     "metadata": {
      "needs_background": "light"
     },
     "output_type": "display_data"
    },
    {
     "data": {
      "image/png": "[encoded data removed]",
      "text/plain": [
       "<Figure size 720x360 with 1 Axes>"
      ]
     },
     "metadata": {
      "needs_background": "light"
     },
     "output_type": "display_data"
    },
    {
     "data": {
      "image/png": "[encoded data removed]",
      "text/plain": [
       "<Figure size 720x360 with 1 Axes>"
      ]
     },
     "metadata": {
      "needs_background": "light"
     },
     "output_type": "display_data"
    },
    {
     "data": {
      "text/plain": [
       "<Figure size 720x360 with 0 Axes>"
      ]
     },
     "metadata": {},
     "output_type": "display_data"
    }
   ],
   "source": [
    "analysis_HIST(geo_data_0,\n",
    "              geo_data_1,\n",
    "              geo_data_2,\n",
    "             'f0',\n",
    "             'Координата f0',\n",
    "              \n",
    "             40)"
   ]
  },
  {
   "cell_type": "markdown",
   "metadata": {},
   "source": [
    "<b>Вывод:</b>  "
   ]
  },
  {
   "cell_type": "code",
   "execution_count": 16,
   "metadata": {},
   "outputs": [
    {
     "data": {
      "text/plain": [
       "<matplotlib.legend.Legend at 0x7ffa7a5e4c40>"
      ]
     },
     "execution_count": 16,
     "metadata": {},
     "output_type": "execute_result"
    },
    {
     "data": {
      "image/png": "[encoded data removed]",
      "text/plain": [
       "<Figure size 1080x720 with 1 Axes>"
      ]
     },
     "metadata": {
      "needs_background": "light"
     },
     "output_type": "display_data"
    }
   ],
   "source": [
    "colors=['red','blue','yellow']\n",
    "labels=['1 регион','2 регион','3 регион']\n",
    "plt.figure(figsize=(15,10))\n",
    "plt.hist(x=[geo_data_0['f1'],geo_data_1['f1'],geo_data_2['f1']],\n",
    "         color = colors, bins=30 , density=True,\n",
    "         label=labels);\n",
    "plt.title('Распределение')\n",
    "plt.xlabel('Показатель f1')\n",
    "plt.ylabel('Доля точек')\n",
    "plt.legend(['1 регион','2 регион','3 регион'])\n",
    "plt.legend(loc=1)\n",
    "plt.legend(prop={'size': 15}, title = '')\n"
   ]
  },
  {
   "cell_type": "code",
   "execution_count": 17,
   "metadata": {},
   "outputs": [
    {
     "data": {
      "image/png": "[encoded data removed]",
      "text/plain": [
       "<Figure size 432x288 with 1 Axes>"
      ]
     },
     "metadata": {
      "needs_background": "light"
     },
     "output_type": "display_data"
    },
    {
     "data": {
      "image/png": "[encoded data removed]",
      "text/plain": [
       "<Figure size 720x360 with 1 Axes>"
      ]
     },
     "metadata": {
      "needs_background": "light"
     },
     "output_type": "display_data"
    },
    {
     "data": {
      "image/png": "[encoded data removed]",
      "text/plain": [
       "<Figure size 720x360 with 1 Axes>"
      ]
     },
     "metadata": {
      "needs_background": "light"
     },
     "output_type": "display_data"
    },
    {
     "data": {
      "text/plain": [
       "<Figure size 720x360 with 0 Axes>"
      ]
     },
     "metadata": {},
     "output_type": "display_data"
    }
   ],
   "source": [
    "analysis_HIST(geo_data_0,\n",
    "              geo_data_1,\n",
    "              geo_data_2,\n",
    "             'f1',\n",
    "             'Координата f1',  \n",
    "             40)"
   ]
  },
  {
   "cell_type": "markdown",
   "metadata": {},
   "source": [
    "<b>Вывод:</b>  "
   ]
  },
  {
   "cell_type": "code",
   "execution_count": 18,
   "metadata": {},
   "outputs": [
    {
     "data": {
      "text/plain": [
       "<matplotlib.legend.Legend at 0x7ffa7a235280>"
      ]
     },
     "execution_count": 18,
     "metadata": {},
     "output_type": "execute_result"
    },
    {
     "data": {
      "image/png": "[encoded data removed]",
      "text/plain": [
       "<Figure size 1080x720 with 1 Axes>"
      ]
     },
     "metadata": {
      "needs_background": "light"
     },
     "output_type": "display_data"
    }
   ],
   "source": [
    "colors=['red','blue','yellow']\n",
    "labels=['1 регион','2 регион','3 регион']\n",
    "plt.figure(figsize=(15,10))\n",
    "plt.hist(x=[geo_data_0['f2'],geo_data_1['f2'],geo_data_2['f2']],\n",
    "         color = colors, bins=30 , density=True,\n",
    "         label=labels);\n",
    "plt.title('Распределение')\n",
    "plt.xlabel('Показатель f2')\n",
    "plt.ylabel('Доля точек')\n",
    "plt.legend(['1 регион','2 регион','3 регион'])\n",
    "plt.legend(loc=1)\n",
    "plt.legend(prop={'size': 15}, title = '')\n"
   ]
  },
  {
   "cell_type": "markdown",
   "metadata": {},
   "source": [
    "<b>Вывод:</b>  \n",
    "\n",
    "Распределения для разных набров данных сильно отличаются, особенно выделяются аномалии для целевого признака и признака f2 у 1 датасета."
   ]
  },
  {
   "cell_type": "markdown",
   "metadata": {},
   "source": [
    "### Корреляционный анализ"
   ]
  },
  {
   "cell_type": "code",
   "execution_count": 19,
   "metadata": {},
   "outputs": [
    {
     "name": "stdout",
     "output_type": "stream",
     "text": [
      "interval columns not set, guessing: ['f0', 'f1', 'f2', 'product']\n"
     ]
    },
    {
     "data": {
      "image/png": "[encoded data removed]",
      "text/plain": [
       "<Figure size 720x720 with 2 Axes>"
      ]
     },
     "metadata": {
      "needs_background": "light"
     },
     "output_type": "display_data"
    },
    {
     "data": {
      "text/html": [
       "<div>\n",
       "<style scoped>\n",
       "    .dataframe tbody tr th:only-of-type {\n",
       "        vertical-align: middle;\n",
       "    }\n",
       "\n",
       "    .dataframe tbody tr th {\n",
       "        vertical-align: top;\n",
       "    }\n",
       "\n",
       "    .dataframe thead th {\n",
       "        text-align: right;\n",
       "    }\n",
       "</style>\n",
       "<table border=\"1\" class=\"dataframe\">\n",
       "  <thead>\n",
       "    <tr style=\"text-align: right;\">\n",
       "      <th></th>\n",
       "      <th>f0</th>\n",
       "      <th>f1</th>\n",
       "      <th>f2</th>\n",
       "      <th>product</th>\n",
       "    </tr>\n",
       "  </thead>\n",
       "  <tbody>\n",
       "    <tr>\n",
       "      <th>product</th>\n",
       "      <td>0.128417</td>\n",
       "      <td>-0.181143</td>\n",
       "      <td>0.486394</td>\n",
       "      <td>1.000000</td>\n",
       "    </tr>\n",
       "    <tr>\n",
       "      <th>f2</th>\n",
       "      <td>-0.002685</td>\n",
       "      <td>0.001413</td>\n",
       "      <td>1.000000</td>\n",
       "      <td>0.486394</td>\n",
       "    </tr>\n",
       "    <tr>\n",
       "      <th>f0</th>\n",
       "      <td>1.000000</td>\n",
       "      <td>-0.471395</td>\n",
       "      <td>-0.002685</td>\n",
       "      <td>0.128417</td>\n",
       "    </tr>\n",
       "    <tr>\n",
       "      <th>f1</th>\n",
       "      <td>-0.471395</td>\n",
       "      <td>1.000000</td>\n",
       "      <td>0.001413</td>\n",
       "      <td>-0.181143</td>\n",
       "    </tr>\n",
       "  </tbody>\n",
       "</table>\n",
       "</div>"
      ],
      "text/plain": [
       "               f0        f1        f2   product\n",
       "product  0.128417 -0.181143  0.486394  1.000000\n",
       "f2      -0.002685  0.001413  1.000000  0.486394\n",
       "f0       1.000000 -0.471395 -0.002685  0.128417\n",
       "f1      -0.471395  1.000000  0.001413 -0.181143"
      ]
     },
     "metadata": {},
     "output_type": "display_data"
    },
    {
     "name": "stdout",
     "output_type": "stream",
     "text": [
      "interval columns not set, guessing: ['f0', 'f1', 'f2', 'product']\n"
     ]
    },
    {
     "data": {
      "image/png": "[encoded data removed]",
      "text/plain": [
       "<Figure size 720x720 with 2 Axes>"
      ]
     },
     "metadata": {
      "needs_background": "light"
     },
     "output_type": "display_data"
    },
    {
     "data": {
      "text/html": [
       "<div>\n",
       "<style scoped>\n",
       "    .dataframe tbody tr th:only-of-type {\n",
       "        vertical-align: middle;\n",
       "    }\n",
       "\n",
       "    .dataframe tbody tr th {\n",
       "        vertical-align: top;\n",
       "    }\n",
       "\n",
       "    .dataframe thead th {\n",
       "        text-align: right;\n",
       "    }\n",
       "</style>\n",
       "<table border=\"1\" class=\"dataframe\">\n",
       "  <thead>\n",
       "    <tr style=\"text-align: right;\">\n",
       "      <th></th>\n",
       "      <th>f0</th>\n",
       "      <th>f1</th>\n",
       "      <th>f2</th>\n",
       "      <th>product</th>\n",
       "    </tr>\n",
       "  </thead>\n",
       "  <tbody>\n",
       "    <tr>\n",
       "      <th>product</th>\n",
       "      <td>-0.122869</td>\n",
       "      <td>-0.033908</td>\n",
       "      <td>0.975605</td>\n",
       "      <td>1.000000</td>\n",
       "    </tr>\n",
       "    <tr>\n",
       "      <th>f2</th>\n",
       "      <td>-0.002000</td>\n",
       "      <td>-0.003678</td>\n",
       "      <td>1.000000</td>\n",
       "      <td>0.975605</td>\n",
       "    </tr>\n",
       "    <tr>\n",
       "      <th>f1</th>\n",
       "      <td>0.182248</td>\n",
       "      <td>1.000000</td>\n",
       "      <td>-0.003678</td>\n",
       "      <td>-0.033908</td>\n",
       "    </tr>\n",
       "    <tr>\n",
       "      <th>f0</th>\n",
       "      <td>1.000000</td>\n",
       "      <td>0.182248</td>\n",
       "      <td>-0.002000</td>\n",
       "      <td>-0.122869</td>\n",
       "    </tr>\n",
       "  </tbody>\n",
       "</table>\n",
       "</div>"
      ],
      "text/plain": [
       "               f0        f1        f2   product\n",
       "product -0.122869 -0.033908  0.975605  1.000000\n",
       "f2      -0.002000 -0.003678  1.000000  0.975605\n",
       "f1       0.182248  1.000000 -0.003678 -0.033908\n",
       "f0       1.000000  0.182248 -0.002000 -0.122869"
      ]
     },
     "metadata": {},
     "output_type": "display_data"
    },
    {
     "name": "stdout",
     "output_type": "stream",
     "text": [
      "interval columns not set, guessing: ['f0', 'f1', 'f2', 'product']\n"
     ]
    },
    {
     "data": {
      "image/png": "[encoded data removed]",
      "text/plain": [
       "<Figure size 720x720 with 2 Axes>"
      ]
     },
     "metadata": {
      "needs_background": "light"
     },
     "output_type": "display_data"
    },
    {
     "data": {
      "text/html": [
       "<div>\n",
       "<style scoped>\n",
       "    .dataframe tbody tr th:only-of-type {\n",
       "        vertical-align: middle;\n",
       "    }\n",
       "\n",
       "    .dataframe tbody tr th {\n",
       "        vertical-align: top;\n",
       "    }\n",
       "\n",
       "    .dataframe thead th {\n",
       "        text-align: right;\n",
       "    }\n",
       "</style>\n",
       "<table border=\"1\" class=\"dataframe\">\n",
       "  <thead>\n",
       "    <tr style=\"text-align: right;\">\n",
       "      <th></th>\n",
       "      <th>f0</th>\n",
       "      <th>f1</th>\n",
       "      <th>f2</th>\n",
       "      <th>product</th>\n",
       "    </tr>\n",
       "  </thead>\n",
       "  <tbody>\n",
       "    <tr>\n",
       "      <th>product</th>\n",
       "      <td>-0.002464</td>\n",
       "      <td>-0.001463</td>\n",
       "      <td>0.448463</td>\n",
       "      <td>1.000000</td>\n",
       "    </tr>\n",
       "    <tr>\n",
       "      <th>f2</th>\n",
       "      <td>0.000053</td>\n",
       "      <td>0.000378</td>\n",
       "      <td>1.000000</td>\n",
       "      <td>0.448463</td>\n",
       "    </tr>\n",
       "    <tr>\n",
       "      <th>f1</th>\n",
       "      <td>0.002493</td>\n",
       "      <td>1.000000</td>\n",
       "      <td>0.000378</td>\n",
       "      <td>-0.001463</td>\n",
       "    </tr>\n",
       "    <tr>\n",
       "      <th>f0</th>\n",
       "      <td>1.000000</td>\n",
       "      <td>0.002493</td>\n",
       "      <td>0.000053</td>\n",
       "      <td>-0.002464</td>\n",
       "    </tr>\n",
       "  </tbody>\n",
       "</table>\n",
       "</div>"
      ],
      "text/plain": [
       "               f0        f1        f2   product\n",
       "product -0.002464 -0.001463  0.448463  1.000000\n",
       "f2       0.000053  0.000378  1.000000  0.448463\n",
       "f1       0.002493  1.000000  0.000378 -0.001463\n",
       "f0       1.000000  0.002493  0.000053 -0.002464"
      ]
     },
     "metadata": {},
     "output_type": "display_data"
    }
   ],
   "source": [
    "data_corr0=geo_data_0.copy()\n",
    "data_corr1=geo_data_1.copy()\n",
    "data_corr2=geo_data_2.copy()\n",
    "\n",
    "\n",
    "corr_matrix = data_corr0.phik_matrix()\n",
    "corr_matrix = data_corr0.corr(method='spearman')\n",
    "plt.figure(figsize = (10, 10))\n",
    "sns.heatmap(corr_matrix, vmin=-1, vmax=1,\n",
    "            cmap='coolwarm', annot=True,\n",
    "            )\n",
    "plt.title('Матрица корреляции')\n",
    "plt.show()\n",
    "display(corr_matrix.sort_values(by='product', ascending=False))\n",
    "\n",
    "\n",
    "corr_matrix = data_corr1.phik_matrix()\n",
    "corr_matrix = data_corr1.corr(method='spearman')\n",
    "plt.figure(figsize = (10, 10))\n",
    "sns.heatmap(corr_matrix, vmin=-1, vmax=1,\n",
    "            cmap='coolwarm', annot=True,\n",
    "            )\n",
    "plt.title('Матрица корреляции')\n",
    "plt.show()\n",
    "display(corr_matrix.sort_values(by='product', ascending=False))\n",
    "\n",
    "corr_matrix = data_corr2.phik_matrix()\n",
    "corr_matrix = data_corr2.corr(method='spearman')\n",
    "plt.figure(figsize = (10, 10))\n",
    "sns.heatmap(corr_matrix, vmin=-1, vmax=1,\n",
    "            cmap='coolwarm', annot=True,\n",
    "            )\n",
    "plt.title('Матрица корреляции')\n",
    "plt.show()\n",
    "display(corr_matrix.sort_values(by='product', ascending=False))"
   ]
  },
  {
   "cell_type": "markdown",
   "metadata": {},
   "source": [
    "### Промежуточный вывод\n",
    "Инструменты загружены\n",
    "\n",
    "\n",
    "Датасеты равны по размеру.  \n",
    "Пропусков нет  \n",
    "Категориальных признаков нет  \n",
    "Масштабирование проводить не нужно\n",
    "\n",
    "Распределения для разных набров данных сильно отличаются, особенно выделяются аномалии для целевого признака и признака f2 у 1 датасета.\n",
    "\n",
    "В ходе изучения коллинеарности обнаружена зависимость показателей F2 b product\n",
    "\n",
    "В дальнейшем целесообразно использование линейной регерессии"
   ]
  },
  {
   "cell_type": "markdown",
   "metadata": {},
   "source": [
    "## Обучение и проверка модели"
   ]
  },
  {
   "cell_type": "markdown",
   "metadata": {},
   "source": [
    "### Выделение целевого признака"
   ]
  },
  {
   "cell_type": "code",
   "execution_count": 20,
   "metadata": {},
   "outputs": [],
   "source": [
    "target0=geo_data_0[\"product\"] \n",
    "target1=geo_data_1[\"product\"] \n",
    "target2=geo_data_2[\"product\"] "
   ]
  },
  {
   "cell_type": "code",
   "execution_count": 21,
   "metadata": {},
   "outputs": [],
   "source": [
    "other_sign0=geo_data_0.drop([\"product\"], axis=1)\n",
    "other_sign1=geo_data_1.drop([\"product\"], axis=1)\n",
    "other_sign2=geo_data_2.drop([\"product\"], axis=1)"
   ]
  },
  {
   "cell_type": "code",
   "execution_count": 22,
   "metadata": {},
   "outputs": [],
   "source": [
    "RANDOMSTATE = np.random.RandomState(12345)\n"
   ]
  },
  {
   "cell_type": "markdown",
   "metadata": {},
   "source": [
    "### Разбивка на подвыборки"
   ]
  },
  {
   "cell_type": "code",
   "execution_count": 23,
   "metadata": {},
   "outputs": [],
   "source": [
    "other_sign_train0, other_sign_valid0, target_train0, target_valid0 =train_test_split(other_sign0, target0,\n",
    "                                                                                     test_size=0.25, random_state=RANDOMSTATE)\n"
   ]
  },
  {
   "cell_type": "code",
   "execution_count": 24,
   "metadata": {},
   "outputs": [],
   "source": [
    "other_sign_train1, other_sign_valid1, target_train1, target_valid1 = train_test_split(other_sign1, target1,\n",
    "                                                                                      test_size=0.25, random_state=RANDOMSTATE)\n"
   ]
  },
  {
   "cell_type": "code",
   "execution_count": 25,
   "metadata": {},
   "outputs": [],
   "source": [
    "other_sign_train2, other_sign_valid2, target_train2, target_valid2 =train_test_split(other_sign2, target2,\n",
    "                                                                                     test_size=0.25, random_state=RANDOMSTATE)\n"
   ]
  },
  {
   "cell_type": "markdown",
   "metadata": {},
   "source": []
  },
  {
   "cell_type": "markdown",
   "metadata": {},
   "source": [
    "### Линейная модель"
   ]
  },
  {
   "cell_type": "code",
   "execution_count": 26,
   "metadata": {},
   "outputs": [
    {
     "data": {
      "text/plain": [
       "LinearRegression()"
      ]
     },
     "execution_count": 26,
     "metadata": {},
     "output_type": "execute_result"
    }
   ],
   "source": [
    "model0 = LinearRegression()\n",
    "model0.fit( other_sign_train0, target_train0)\n"
   ]
  },
  {
   "cell_type": "code",
   "execution_count": 27,
   "metadata": {},
   "outputs": [
    {
     "data": {
      "text/plain": [
       "LinearRegression()"
      ]
     },
     "execution_count": 27,
     "metadata": {},
     "output_type": "execute_result"
    }
   ],
   "source": [
    "model1 = LinearRegression()\n",
    "model1.fit( other_sign_train1, target_train1)\n"
   ]
  },
  {
   "cell_type": "code",
   "execution_count": 28,
   "metadata": {},
   "outputs": [
    {
     "data": {
      "text/plain": [
       "LinearRegression()"
      ]
     },
     "execution_count": 28,
     "metadata": {},
     "output_type": "execute_result"
    }
   ],
   "source": [
    "model2 = LinearRegression()\n",
    "model2.fit( other_sign_train2, target_train2)\n"
   ]
  },
  {
   "cell_type": "markdown",
   "metadata": {},
   "source": [
    "### Определяем среднее значения и показатели"
   ]
  },
  {
   "cell_type": "code",
   "execution_count": 30,
   "metadata": {},
   "outputs": [
    {
     "data": {
      "text/plain": [
       "array([ 95.89495185,  77.57258261,  77.89263965, ...,  61.50983303,\n",
       "       118.18039721, 118.16939229])"
      ]
     },
     "metadata": {},
     "output_type": "display_data"
    },
    {
     "data": {
      "text/plain": [
       "'Средний запас предсказанного сырья: тыс. баррелей.'"
      ]
     },
     "metadata": {},
     "output_type": "display_data"
    },
    {
     "data": {
      "text/plain": [
       "92.59256778438035"
      ]
     },
     "metadata": {},
     "output_type": "display_data"
    }
   ],
   "source": [
    "predictions0 = model0.predict(other_sign_valid0)\n",
    "display(predictions0)\n",
    "display(\"Средний запас предсказанного сырья: тыс. баррелей.\", predictions0.mean() )"
   ]
  },
  {
   "cell_type": "code",
   "execution_count": 31,
   "metadata": {},
   "outputs": [
    {
     "data": {
      "text/plain": [
       "array([54.23815201, 83.21787849,  2.97146723, ..., 83.90176874,\n",
       "       -1.25947259, 26.16957032])"
      ]
     },
     "metadata": {},
     "output_type": "display_data"
    },
    {
     "data": {
      "text/plain": [
       "'Средний запас предсказанного сырья: тыс. баррелей.'"
      ]
     },
     "metadata": {},
     "output_type": "display_data"
    },
    {
     "data": {
      "text/plain": [
       "68.76995145799754"
      ]
     },
     "metadata": {},
     "output_type": "display_data"
    }
   ],
   "source": [
    "predictions1 = model1.predict(other_sign_valid1)\n",
    "display(predictions1)\n",
    "display(\"Средний запас предсказанного сырья: тыс. баррелей.\", predictions1.mean() )"
   ]
  },
  {
   "cell_type": "code",
   "execution_count": 32,
   "metadata": {},
   "outputs": [
    {
     "data": {
      "text/plain": [
       "array([112.56187784,  69.46407333,  69.86622946, ..., 108.35059685,\n",
       "       106.59141919, 124.86622084])"
      ]
     },
     "metadata": {},
     "output_type": "display_data"
    },
    {
     "data": {
      "text/plain": [
       "'Средний запас предсказанного сырья: тыс. баррелей.'"
      ]
     },
     "metadata": {},
     "output_type": "display_data"
    },
    {
     "data": {
      "text/plain": [
       "95.087528122523"
      ]
     },
     "metadata": {},
     "output_type": "display_data"
    }
   ],
   "source": [
    "predictions2 = model2.predict(other_sign_valid2)\n",
    "display(predictions2)\n",
    "display(\"Средний запас предсказанного сырья: тыс. баррелей.\", predictions2.mean() )"
   ]
  },
  {
   "cell_type": "code",
   "execution_count": null,
   "metadata": {},
   "outputs": [],
   "source": []
  },
  {
   "cell_type": "markdown",
   "metadata": {},
   "source": [
    "### Сравнение показателей по регионам"
   ]
  },
  {
   "cell_type": "code",
   "execution_count": 33,
   "metadata": {},
   "outputs": [
    {
     "name": "stdout",
     "output_type": "stream",
     "text": [
      "Средний запас предсказанного сырья: тыс. баррелей. 1 регион 92.59256778438035\n",
      "Средний запас предсказанного сырья: тыс. баррелей. 2 регион 68.76995145799754\n",
      "Средний запас предсказанного сырья: тыс. баррелей. 3 регион 95.087528122523\n"
     ]
    }
   ],
   "source": [
    "print(\"Средний запас предсказанного сырья: тыс. баррелей. 1 регион\", predictions0.mean() )\n",
    "print(\"Средний запас предсказанного сырья: тыс. баррелей. 2 регион\", predictions1.mean() )\n",
    "print(\"Средний запас предсказанного сырья: тыс. баррелей. 3 регион\", predictions2.mean() )"
   ]
  },
  {
   "cell_type": "code",
   "execution_count": 34,
   "metadata": {},
   "outputs": [
    {
     "name": "stdout",
     "output_type": "stream",
     "text": [
      "Значение RMSE для 1 регона 37.5794217150813\n",
      "Значение RMSE для 2 регона 0.889736773768065\n",
      "Значение RMSE для 3 регона 39.958042459521614\n"
     ]
    }
   ],
   "source": [
    "print('Значение RMSE для 1 регона',(mean_squared_error(predictions0, target_valid0))**0.5)\n",
    "print('Значение RMSE для 2 регона',(mean_squared_error(predictions1, target_valid1))**0.5)\n",
    "print('Значение RMSE для 3 регона',(mean_squared_error(predictions2, target_valid2))**0.5)"
   ]
  },
  {
   "cell_type": "markdown",
   "metadata": {},
   "source": [
    "### Промежуточный вывод"
   ]
  },
  {
   "cell_type": "markdown",
   "metadata": {},
   "source": [
    "1. Выборку разделили на тестовую и валидационную в заданном соотношении 1 к 3\n",
    "2. Создали и обучили модель\n",
    "3. Выполнены предсказания\n",
    "4. Выполнены предсказания по объёму сырья\n",
    "5. Рассчитаны значения среднего запаса предсказанного сырья и RMSE моделей (у второго показателя RMSE модели = 0.89, это связано с корреляцией между f2 и продуктом 0,98) (У остальных регионов показатель RMSE слишком большой)\n",
    "6. Худшие показатели предсказанного сырья у 2 региона"
   ]
  },
  {
   "cell_type": "markdown",
   "metadata": {},
   "source": [
    "## Подготовка к расчёту прибыли"
   ]
  },
  {
   "cell_type": "markdown",
   "metadata": {},
   "source": [
    "###  Выделить показатели"
   ]
  },
  {
   "cell_type": "code",
   "execution_count": 35,
   "metadata": {},
   "outputs": [],
   "source": [
    "# Введем значения которые будут использоваться в дальнейшем расчете\n",
    "TOT = 500\n",
    "BEST = 200\n",
    "COST = 450\n",
    "# Доступный бюджет для региона 10 млрд ( у нас показатели добычи в тысячах, тее 10^7)\n",
    "SUMM= 10000000\n",
    "\n",
    "BOOT=1000\n"
   ]
  },
  {
   "cell_type": "markdown",
   "metadata": {},
   "source": [
    "### Расчет требуемых значений прибыли"
   ]
  },
  {
   "cell_type": "code",
   "execution_count": 36,
   "metadata": {},
   "outputs": [
    {
     "data": {
      "text/plain": [
       "'Кол-во добычи, нужное для экономической выгоды в отдельном регионе'"
      ]
     },
     "metadata": {},
     "output_type": "display_data"
    },
    {
     "data": {
      "text/plain": [
       "22222.222222222223"
      ]
     },
     "metadata": {},
     "output_type": "display_data"
    }
   ],
   "source": [
    "display('Кол-во добычи, нужное для экономической выгоды в отдельном регионе', SUMM/COST )"
   ]
  },
  {
   "cell_type": "code",
   "execution_count": 37,
   "metadata": {},
   "outputs": [
    {
     "data": {
      "text/plain": [
       "'Кол-во добычи, нужное для экономической выгоды в отдельной скважине из 200 лучших'"
      ]
     },
     "metadata": {},
     "output_type": "display_data"
    },
    {
     "data": {
      "text/plain": [
       "111.11111111111111"
      ]
     },
     "metadata": {},
     "output_type": "display_data"
    }
   ],
   "source": [
    "treb=SUMM/(COST*BEST)\n",
    "display('Кол-во добычи, нужное для экономической выгоды в отдельной скважине из 200 лучших', treb )"
   ]
  },
  {
   "cell_type": "markdown",
   "metadata": {},
   "source": [
    "### Сравнение требуемых значений с требуемыми"
   ]
  },
  {
   "cell_type": "code",
   "execution_count": 38,
   "metadata": {},
   "outputs": [
    {
     "name": "stdout",
     "output_type": "stream",
     "text": [
      "Сравнение предсказаний добычи с требованием   1 регион 92.59256778438035 < 111.11111111111111\n",
      "Сравнение предсказаний добычи с требованием   2 регион 68.76995145799754 < 111.11111111111111\n",
      "Сравнение предсказаний добычи с требованием  3 регион 95.087528122523 < 111.11111111111111\n"
     ]
    }
   ],
   "source": [
    "print(\"Сравнение предсказаний добычи с требованием   1 регион\", predictions0.mean(), '<',treb )\n",
    "print(\"Сравнение предсказаний добычи с требованием   2 регион\", predictions1.mean(), '<',treb )\n",
    "print(\"Сравнение предсказаний добычи с требованием  3 регион\", predictions2.mean(), '<',treb )"
   ]
  },
  {
   "cell_type": "markdown",
   "metadata": {},
   "source": [
    "### Промежуточный вывод"
   ]
  },
  {
   "cell_type": "markdown",
   "metadata": {},
   "source": [
    "1. Среднее значение запаса сырья по всем скважинам для каждого из регионов меньше, чем объём сырья для безубыточной разработки новой скважины ( 111 тыс. баррелей).\n",
    "2. Разработку всех скважин вести нерентабельно."
   ]
  },
  {
   "cell_type": "markdown",
   "metadata": {},
   "source": [
    "## Расчёт прибыли и рисков "
   ]
  },
  {
   "cell_type": "markdown",
   "metadata": {},
   "source": [
    "### Выбор лучших скважин"
   ]
  },
  {
   "cell_type": "code",
   "execution_count": 39,
   "metadata": {},
   "outputs": [
    {
     "name": "stdout",
     "output_type": "stream",
     "text": [
      "<class 'pandas.core.frame.DataFrame'>\n",
      "Int64Index: 200 entries, 9317 to 20340\n",
      "Data columns (total 1 columns):\n",
      " #   Column   Non-Null Count  Dtype  \n",
      "---  ------   --------------  -----  \n",
      " 0   product  200 non-null    float64\n",
      "dtypes: float64(1)\n",
      "memory usage: 3.1 KB\n"
     ]
    }
   ],
   "source": [
    "predictions0 = pd.DataFrame(predictions0, columns= ['product'])\n",
    "predictions0_best=  predictions0.sort_values(by='product',ascending=False).head(200) \n",
    "predictions0_best.info()\n"
   ]
  },
  {
   "cell_type": "code",
   "execution_count": 40,
   "metadata": {},
   "outputs": [
    {
     "name": "stdout",
     "output_type": "stream",
     "text": [
      "<class 'pandas.core.frame.DataFrame'>\n",
      "RangeIndex: 25000 entries, 0 to 24999\n",
      "Data columns (total 1 columns):\n",
      " #   Column   Non-Null Count  Dtype  \n",
      "---  ------   --------------  -----  \n",
      " 0   product  25000 non-null  float64\n",
      "dtypes: float64(1)\n",
      "memory usage: 195.4 KB\n"
     ]
    }
   ],
   "source": [
    "predictions0.info()"
   ]
  },
  {
   "cell_type": "code",
   "execution_count": 41,
   "metadata": {},
   "outputs": [
    {
     "name": "stdout",
     "output_type": "stream",
     "text": [
      "<class 'pandas.core.frame.DataFrame'>\n",
      "Int64Index: 200 entries, 10423 to 300\n",
      "Data columns (total 1 columns):\n",
      " #   Column   Non-Null Count  Dtype  \n",
      "---  ------   --------------  -----  \n",
      " 0   product  200 non-null    float64\n",
      "dtypes: float64(1)\n",
      "memory usage: 3.1 KB\n"
     ]
    }
   ],
   "source": [
    "predictions1 = pd.DataFrame(predictions1, columns= ['product'])\n",
    "predictions1_best=  predictions1.sort_values(by='product',ascending=False).head(200) \n",
    "predictions1_best.info()\n"
   ]
  },
  {
   "cell_type": "code",
   "execution_count": 42,
   "metadata": {},
   "outputs": [
    {
     "name": "stdout",
     "output_type": "stream",
     "text": [
      "<class 'pandas.core.frame.DataFrame'>\n",
      "Int64Index: 200 entries, 12030 to 19499\n",
      "Data columns (total 1 columns):\n",
      " #   Column   Non-Null Count  Dtype  \n",
      "---  ------   --------------  -----  \n",
      " 0   product  200 non-null    float64\n",
      "dtypes: float64(1)\n",
      "memory usage: 3.1 KB\n"
     ]
    }
   ],
   "source": [
    "predictions2 = pd.DataFrame(predictions2, columns= ['product'])\n",
    "predictions2_best=  predictions2.sort_values(by='product',ascending=False).head(200) \n",
    "predictions2_best.info()\n"
   ]
  },
  {
   "cell_type": "markdown",
   "metadata": {},
   "source": [
    "### Расчет средней прибыли"
   ]
  },
  {
   "cell_type": "code",
   "execution_count": 43,
   "metadata": {},
   "outputs": [
    {
     "name": "stdout",
     "output_type": "stream",
     "text": [
      "Прибыль отвыборки из 1 региона product    3.996049e+06\n",
      "dtype: float64\n",
      "Прибыль отвыборки из 2 региона product    2.487389e+06\n",
      "dtype: float64\n",
      "Прибыль отвыборки из 3 региона product    3.422406e+06\n",
      "dtype: float64\n"
     ]
    }
   ],
   "source": [
    "profit0 = predictions0_best.sum()*COST-SUMM\n",
    "print('Прибыль отвыборки из 1 региона', profit0)\n",
    "profit1 = predictions1_best.sum()*COST-SUMM\n",
    "print('Прибыль отвыборки из 2 региона', profit1)\n",
    "profit2 = predictions2_best.sum()*COST-SUMM\n",
    "print('Прибыль отвыборки из 3 региона', profit2)"
   ]
  },
  {
   "cell_type": "markdown",
   "metadata": {},
   "source": [
    "Все три региона потенциально прибыльные"
   ]
  },
  {
   "cell_type": "markdown",
   "metadata": {},
   "source": [
    "###  Риски\n"
   ]
  },
  {
   "cell_type": "code",
   "execution_count": 44,
   "metadata": {},
   "outputs": [],
   "source": [
    "def calc_profit(target, predictions):\n",
    "    predictions_sorted = predictions.sort_values(ascending=False)\n",
    "    target_selected = target[predictions_sorted.index][:BEST]\n",
    "\n",
    "    return target_selected.sum() * COST - SUMM\n"
   ]
  },
  {
   "cell_type": "raw",
   "metadata": {},
   "source": [
    "\n",
    "def RISK0000(target0,predictions0):\n",
    "     #Выбрали случайных 500 скважин\n",
    "    predictions0['target']= target0 \n",
    "    TOT0= predictions0 \n",
    "    profit00=[]\n",
    "    for i in range(bootstr_count):\n",
    "        print(TOT0)\n",
    "        TOT00  = TOT0.sample(total, replace=True, random_state=RANDOMSTATE)\n",
    "        TOT00.reset_index(drop = True)\n",
    " \n",
    "        target_00=TOT00['target']\n",
    "        predictions_00=TOT00['product']\n",
    "        predictions_00=pd.Series(predictions_00)\n",
    "    # Отсеяли 200 лучших из них\n",
    "        #TOT000 = TOT00.sort_values(by='product',ascending=False).head(200)\n",
    "        #target_000 = TOT000['target']\n",
    "    # Посчитали прибыль в них\n",
    "        #profit00= target_000*cost_of_1-treb \n",
    "        #profit00=  pd.Series(profit00)\n",
    "    # Для просчета рисков отсеяли те в которых будет безубыточная добыча\n",
    "        #target_001=TOT000.query(\"`target` <=  111.1 \")  \n",
    "        #target_001.info()\n",
    "        profit00.append(calc_profit(target_00, predictions_00))\n",
    "    profit00 = pd.Series(profit00)\n",
    "    #Рассчитали показатели и вывели их\n",
    "    interval0 = (profit00.quantile(0.025)/1000 , '-',  (profit00.quantile(0.975)/1000  )  )\n",
    "    print('95% Интервал от 200 скважин',interval0 )\n",
    "    risks0 = round((profit00 < 0).mean()*100, 1)\n",
    "    print('Риск убытков от 200 скважин', risks0)\n",
    "    profit0=profit00.mean()/1000\n",
    "    print('Средняя прибыльот 200 скважин', profit0 )\n",
    "    return interval0,profit0,risks0"
   ]
  },
  {
   "cell_type": "code",
   "execution_count": 54,
   "metadata": {},
   "outputs": [],
   "source": [
    "\n",
    "def RISK_ULTRA(target,predictions):\n",
    "    predictions=predictions.reset_index(drop = True)\n",
    "    target=target.reset_index(drop = True)\n",
    "     #Выбрали случайных 500 скважин\n",
    "    all_data = predictions.copy()\n",
    "    all_data['target']=   target \n",
    "    all_data \n",
    "    profit00=[]\n",
    "    for i in range(BOOT):\n",
    " \n",
    "        sample_points  = all_data.sample(TOT, replace=True, random_state=RANDOMSTATE)\n",
    "        sample_points.reset_index(drop = True)\n",
    " \n",
    " \n",
    "        profit00.append(calc_profit(sample_points['target'], sample_points['product']))\n",
    "    profit00 = pd.Series(profit00)\n",
    "    #Рассчитали показатели и вывели их\n",
    "    interval0 = (profit00.quantile(0.025)/1000 , '-',  (profit00.quantile(0.975)/1000  )  )\n",
    "    print('95% Интервал от 200 скважин',interval0 )\n",
    "    risks0 = round((profit00 < 0).mean()*100, 1)\n",
    "    print('Риск убытков от 200 скважин', risks0)\n",
    "    profit0=profit00.mean()/1000\n",
    "    print('Средняя прибыльот 200 скважин', profit0 )\n",
    "    return interval0,profit0,risks0\n",
    "\n"
   ]
  },
  {
   "cell_type": "code",
   "execution_count": 46,
   "metadata": {},
   "outputs": [],
   "source": [
    "def RISK(target0,predictions0):\n",
    "    predictions0['target']= target0 \n",
    "    TOT0= predictions0 \n",
    "    #Выбрали случайных 500 скважин\n",
    "    \n",
    "    TOT00  = TOT0.sample(TOT, replace=True, random_state=RANDOMSTATE)\n",
    "    TOT00.reset_index(drop = True)\n",
    "    TOT00.head()\n",
    "    TOT00.info()\n",
    "    target_00=TOT00['target']\n",
    "    predictions_00=TOT00['product']\n",
    "    predictions_00=pd.Series(predictions_00)\n",
    "    # Отсеяли 200 лучших из них\n",
    "    TOT000 = TOT00.sort_values(by='product',ascending=False).head(200)\n",
    "    target_000 = TOT000['target']\n",
    "    # Посчитали прибыль в них\n",
    "    profit00= target_000*COST-treb \n",
    "    profit00=  pd.Series(profit00)\n",
    "    # Для просчета рисков отсеяли те в которых будет выгодна добыча\n",
    "    target_001=TOT000.query(\"`target` <=  111.1 \")  \n",
    "    target_001.info()\n",
    "    # Для Рассчитали показатели\n",
    "    interval0 = (profit00.quantile(0.025)/1000 , '-',  (profit00.quantile(0.975)/1000  )  )\n",
    "    print('95% Интервал от 200 скважин',interval0 )\n",
    "    risks0 = round(len(target_001)*100/len(target_000)   , 1)\n",
    "    print('Риск убытков от 200 скважин', risks0)\n",
    "    profit0=profit00.mean()\n",
    "    print('Средняя прибыльот 200 скважин', profit0 )\n",
    "    return interval0,profit0,risks0"
   ]
  },
  {
   "cell_type": "code",
   "execution_count": 47,
   "metadata": {},
   "outputs": [
    {
     "name": "stdout",
     "output_type": "stream",
     "text": [
      "<class 'pandas.core.frame.DataFrame'>\n",
      "Int64Index: 500 entries, 23696 to 13476\n",
      "Data columns (total 2 columns):\n",
      " #   Column   Non-Null Count  Dtype  \n",
      "---  ------   --------------  -----  \n",
      " 0   product  500 non-null    float64\n",
      " 1   target   116 non-null    float64\n",
      "dtypes: float64(2)\n",
      "memory usage: 11.7 KB\n",
      "<class 'pandas.core.frame.DataFrame'>\n",
      "Int64Index: 35 entries, 7316 to 20668\n",
      "Data columns (total 2 columns):\n",
      " #   Column   Non-Null Count  Dtype  \n",
      "---  ------   --------------  -----  \n",
      " 0   product  35 non-null     float64\n",
      " 1   target   35 non-null     float64\n",
      "dtypes: float64(2)\n",
      "memory usage: 840.0 bytes\n",
      "95% Интервал от 200 скважин (-0.11111111111111112, '-', 61.96432237229642)\n",
      "Риск убытков от 200 скважин 17.5\n",
      "Средняя прибыльот 200 скважин 27172.98091703644\n",
      "<class 'pandas.core.frame.DataFrame'>\n",
      "Int64Index: 500 entries, 19360 to 5511\n",
      "Data columns (total 2 columns):\n",
      " #   Column   Non-Null Count  Dtype  \n",
      "---  ------   --------------  -----  \n",
      " 0   product  500 non-null    float64\n",
      " 1   target   118 non-null    float64\n",
      "dtypes: float64(2)\n",
      "memory usage: 11.7 KB\n",
      "<class 'pandas.core.frame.DataFrame'>\n",
      "Int64Index: 31 entries, 18437 to 6748\n",
      "Data columns (total 2 columns):\n",
      " #   Column   Non-Null Count  Dtype  \n",
      "---  ------   --------------  -----  \n",
      " 0   product  31 non-null     float64\n",
      " 1   target   31 non-null     float64\n",
      "dtypes: float64(2)\n",
      "memory usage: 744.0 bytes\n",
      "95% Интервал от 200 скважин (4.457126178908644, '-', 81.16824701029557)\n",
      "Риск убытков от 200 скважин 15.5\n",
      "Средняя прибыльот 200 скважин 44032.110066933594\n",
      "<class 'pandas.core.frame.DataFrame'>\n",
      "Int64Index: 500 entries, 9105 to 22748\n",
      "Data columns (total 2 columns):\n",
      " #   Column   Non-Null Count  Dtype  \n",
      "---  ------   --------------  -----  \n",
      " 0   product  500 non-null    float64\n",
      " 1   target   141 non-null    float64\n",
      "dtypes: float64(2)\n",
      "memory usage: 11.7 KB\n",
      "<class 'pandas.core.frame.DataFrame'>\n",
      "Int64Index: 31 entries, 12906 to 20768\n",
      "Data columns (total 2 columns):\n",
      " #   Column   Non-Null Count  Dtype  \n",
      "---  ------   --------------  -----  \n",
      " 0   product  31 non-null     float64\n",
      " 1   target   31 non-null     float64\n",
      "dtypes: float64(2)\n",
      "memory usage: 744.0 bytes\n",
      "95% Интервал от 200 скважин (2.1511140445869588, '-', 76.32660965373306)\n",
      "Риск убытков от 200 скважин 15.5\n",
      "Средняя прибыльот 200 скважин 40463.55549961782\n"
     ]
    }
   ],
   "source": [
    "interval1,profit1,risks1= RISK(target_valid1,predictions1) \n",
    "interval2,profit2,risks2= RISK(target_valid2,predictions2) \n",
    "interval0,profit0,risks0= RISK(target_valid0,predictions0) "
   ]
  },
  {
   "cell_type": "code",
   "execution_count": 48,
   "metadata": {},
   "outputs": [
    {
     "name": "stdout",
     "output_type": "stream",
     "text": [
      "Средняя прибыль от 200 скважин 1 уч 40463.55549961782\n",
      "Средняя прибыль от 200 скважин 2 уч 27172.98091703644\n",
      "Средняя прибыль от 200 скважин 3 уч 44032.110066933594\n"
     ]
    }
   ],
   "source": [
    "print('Средняя прибыль от 200 скважин 1 уч', profit0 )\n",
    "\n",
    "print('Средняя прибыль от 200 скважин 2 уч', profit1 )\n",
    "\n",
    "print('Средняя прибыль от 200 скважин 3 уч', profit2 )"
   ]
  },
  {
   "cell_type": "code",
   "execution_count": 49,
   "metadata": {},
   "outputs": [
    {
     "name": "stdout",
     "output_type": "stream",
     "text": [
      "95% Интервал от 200 скважин 1 уч (2.1511140445869588, '-', 76.32660965373306)\n",
      "95% Интервал от 200 скважин 2 уч (-0.11111111111111112, '-', 61.96432237229642)\n",
      "95% Интервал от 200 скважин 3 уч (4.457126178908644, '-', 81.16824701029557)\n"
     ]
    }
   ],
   "source": [
    "print('95% Интервал от 200 скважин 1 уч', interval0 )\n",
    "\n",
    "print('95% Интервал от 200 скважин 2 уч', interval1 )\n",
    "\n",
    "print('95% Интервал от 200 скважин 3 уч', interval2 )"
   ]
  },
  {
   "cell_type": "code",
   "execution_count": 50,
   "metadata": {},
   "outputs": [
    {
     "name": "stdout",
     "output_type": "stream",
     "text": [
      "Риск убытков от 200 скважин 1 уч 15.5\n",
      "Риск убытков от 200 скважин 2 уч 17.5\n",
      "Риск убытков от 200 скважин 3 уч 15.5\n"
     ]
    }
   ],
   "source": [
    " \n",
    "print('Риск убытков от 200 скважин 1 уч', risks0)\n",
    "\n",
    "print('Риск убытков от 200 скважин 2 уч', risks1)\n",
    "\n",
    "print('Риск убытков от 200 скважин 3 уч', risks2)"
   ]
  },
  {
   "cell_type": "raw",
   "metadata": {},
   "source": [
    "interval0,profit0,risks0= RISK0000(target_valid0,predictions0) \n",
    "interval1,profit1,risks1= RISK0000(target_valid1,predictions1) \n",
    "interval2,profit2,risks2= RISK0000(target_valid2,predictions2)  \n",
    "print('Риск убытков от 200 скважин 1 уч', risks0)\n",
    "\n",
    "print('Риск убытков от 200 скважин 2 уч', risks1)\n",
    "\n",
    "print('Риск убытков от 200 скважин 3 уч', risks2)"
   ]
  },
  {
   "cell_type": "code",
   "execution_count": 55,
   "metadata": {},
   "outputs": [
    {
     "name": "stdout",
     "output_type": "stream",
     "text": [
      "95% Интервал от 200 скважин (-120.22431621769907, '-', 982.5548633446723)\n",
      "Риск убытков от 200 скважин 6.1\n",
      "Средняя прибыльот 200 скважин 424.9413109368266\n",
      "95% Интервал от 200 скважин (117.12163594472969, '-', 960.002459927212)\n",
      "Риск убытков от 200 скважин 0.5\n",
      "Средняя прибыльот 200 скважин 515.6728514359611\n",
      "95% Интервал от 200 скважин (-161.9638606931361, '-', 929.5097313283813)\n",
      "Риск убытков от 200 скважин 9.6\n",
      "Средняя прибыльот 200 скважин 365.14113588453637\n"
     ]
    }
   ],
   "source": [
    "interval0,profit0,risks0= RISK_ULTRA(target_valid0,predictions0) \n",
    "interval1,profit1,risks1= RISK_ULTRA(target_valid1,predictions1) \n",
    "interval2,profit2,risks2= RISK_ULTRA(target_valid2,predictions2) "
   ]
  },
  {
   "cell_type": "code",
   "execution_count": 56,
   "metadata": {},
   "outputs": [
    {
     "name": "stdout",
     "output_type": "stream",
     "text": [
      "Риск убытков от 200 скважин 1 уч 6.1\n",
      "Риск убытков от 200 скважин 2 уч 0.5\n",
      "Риск убытков от 200 скважин 3 уч 9.6\n"
     ]
    }
   ],
   "source": [
    "print('Риск убытков от 200 скважин 1 уч', risks0)\n",
    "\n",
    "print('Риск убытков от 200 скважин 2 уч', risks1)\n",
    "\n",
    "print('Риск убытков от 200 скважин 3 уч', risks2)"
   ]
  },
  {
   "cell_type": "code",
   "execution_count": 57,
   "metadata": {},
   "outputs": [
    {
     "name": "stdout",
     "output_type": "stream",
     "text": [
      "Средняя прибыль от 200 скважин 1 уч 424.9413109368266\n",
      "Средняя прибыль от 200 скважин 2 уч 515.6728514359611\n",
      "Средняя прибыль от 200 скважин 3 уч 365.14113588453637\n",
      "95% Интервал от 200 скважин 1 уч (-120.22431621769907, '-', 982.5548633446723)\n",
      "95% Интервал от 200 скважин 2 уч (117.12163594472969, '-', 960.002459927212)\n",
      "95% Интервал от 200 скважин 3 уч (-161.9638606931361, '-', 929.5097313283813)\n"
     ]
    }
   ],
   "source": [
    "print('Средняя прибыль от 200 скважин 1 уч', profit0 )\n",
    "\n",
    "print('Средняя прибыль от 200 скважин 2 уч', profit1 )\n",
    "\n",
    "print('Средняя прибыль от 200 скважин 3 уч', profit2 )\n",
    "\n",
    "print('95% Интервал от 200 скважин 1 уч', interval0 )\n",
    "\n",
    "print('95% Интервал от 200 скважин 2 уч', interval1 )\n",
    "\n",
    "print('95% Интервал от 200 скважин 3 уч', interval2 )"
   ]
  },
  {
   "cell_type": "markdown",
   "metadata": {},
   "source": [
    "### Вывод"
   ]
  },
  {
   "cell_type": "markdown",
   "metadata": {},
   "source": [
    "1. Только лишь в регионе 2 вероятность убытков меньше 2.5%.\n",
    "   Средняя прибыль в регионе 2 составляет более 450 млн рублей.\n",
    "2. Для региона 2 95%-й доверительный интервал не содержит отрицательных значений.\n",
    "3. Несмотря на сравнительно меньшие запасы сырья, по сравнению с другими регионами, средняя доходность со скважин во регионе 2 прогнозируется выше других при наиме"
   ]
  },
  {
   "cell_type": "markdown",
   "metadata": {},
   "source": [
    "## Чек-лист готовности проекта"
   ]
  },
  {
   "cell_type": "markdown",
   "metadata": {},
   "source": [
    "Поставьте 'x' в выполненных пунктах. Далее нажмите Shift+Enter."
   ]
  },
  {
   "cell_type": "markdown",
   "metadata": {},
   "source": [
    "- [x]  Jupyter Notebook открыт\n",
    "- [+]  Весь код выполняется без ошибок\n",
    "- [+]  Ячейки с кодом расположены в порядке исполнения\n",
    "- [+]  Выполнен шаг 1: данные подготовлены\n",
    "- [+]  Выполнен шаг 2: модели обучены и проверены\n",
    "    - [+]  Данные корректно разбиты на обучающую и валидационную выборки\n",
    "    - [+]  Модели обучены, предсказания сделаны\n",
    "    - [+]  Предсказания и правильные ответы на валидационной выборке сохранены\n",
    "    - [+]  На экране напечатаны результаты\n",
    "    - [+]  Сделаны выводы\n",
    "- [+]  Выполнен шаг 3: проведена подготовка к расчёту прибыли\n",
    "    - [+]  Для всех ключевых значений созданы константы Python\n",
    "    - [+]  Посчитано минимальное среднее количество продукта в месторождениях региона, достаточное для разработки\n",
    "    - [+]  По предыдущему пункту сделаны выводы\n",
    "    - [+]  Написана функция расчёта прибыли\n",
    "- [+]  Выполнен шаг 4: посчитаны риски и прибыль\n",
    "    - [+]  Проведена процедура *Bootstrap*\n",
    "    - [+]  Все параметры бутстрепа соответствуют условию\n",
    "    - [+]  Найдены все нужные величины\n",
    "    - [+]  Предложен регион для разработки месторождения\n",
    "    - [+]  Выбор региона обоснован"
   ]
  },
  {
   "cell_type": "markdown",
   "metadata": {},
   "source": [
    "## Вывод по проекту"
   ]
  },
  {
   "cell_type": "markdown",
   "metadata": {},
   "source": [
    "В ходе проекта было выполнено:\n",
    "1. Подготовка и предобработка данных\n",
    "2. Проведен исследовательский анализ как отдельных признаков так и сравнительный между разными регионами, также была изучена корреляция между данными\n",
    "3. Данные разделены на выборки\n",
    "4. Создана и обучена модель на трех датасетах, была проведена оценка объемов и качества месторождений. Сделаны выводы о:\n",
    "    4.1. Среднее значение запаса сырья по полному количеству скважин для каждого из регионов меньше, чем точка безубыточности: 111 тыс. баррелей (объём сырья для безубыточной разработки новой скважины).\n",
    "    4.2. Средний запас ресурсов по регионам недостаточен даже для окупаемости вложений на разработку.\n",
    "    4.3. Принимается решение о том, что разработку сразу всех скважин вести нерентабельно.\n",
    "5. Проведена оценка по 200-м лучшим скважинам в каждом из регионов, сделан вывод о потенкиальной прибыльности всех регионов\n",
    "6. Выполнены предсказания при помощи линейной регрессии, а так же применена технологиа Bootstrap для оценки 200 месторождений\n",
    "7. Создана и обучена функция для оценки рисков и показателей в каждом отдельном регионе, наиболее выгодным и безопасным для разработки признан второй регион не смотря на меньшие запасы сырья среди других регионов (Риск <2,5% прибыльностть более 455 млн.р)\n",
    "\n"
   ]
  }
 ],
 "metadata": {
  "ExecuteTimeLog": [
   {
    "duration": 11191,
    "start_time": "2023-11-12T18:06:05.966Z"
   },
   {
    "duration": 769,
    "start_time": "2023-11-12T18:06:17.160Z"
   },
   {
    "duration": 27,
    "start_time": "2023-11-12T18:06:17.931Z"
   },
   {
    "duration": 22,
    "start_time": "2023-11-12T18:06:17.960Z"
   },
   {
    "duration": 22,
    "start_time": "2023-11-12T18:06:17.983Z"
   },
   {
    "duration": 140,
    "start_time": "2023-11-12T18:15:51.102Z"
   },
   {
    "duration": 15,
    "start_time": "2023-11-12T18:16:04.522Z"
   },
   {
    "duration": 56,
    "start_time": "2023-11-12T18:16:44.347Z"
   },
   {
    "duration": 27,
    "start_time": "2023-11-12T18:16:56.033Z"
   },
   {
    "duration": 68,
    "start_time": "2023-11-12T18:17:10.054Z"
   },
   {
    "duration": 64,
    "start_time": "2023-11-12T18:17:48.691Z"
   },
   {
    "duration": 22,
    "start_time": "2023-11-12T18:17:50.646Z"
   },
   {
    "duration": 64,
    "start_time": "2023-11-12T18:17:53.594Z"
   },
   {
    "duration": 49,
    "start_time": "2023-11-12T18:19:00.615Z"
   },
   {
    "duration": 5237,
    "start_time": "2023-11-13T08:09:00.563Z"
   },
   {
    "duration": 390,
    "start_time": "2023-11-13T08:09:05.803Z"
   },
   {
    "duration": 29,
    "start_time": "2023-11-13T08:09:06.195Z"
   },
   {
    "duration": 56,
    "start_time": "2023-11-13T08:09:06.226Z"
   },
   {
    "duration": 8,
    "start_time": "2023-11-13T08:09:06.284Z"
   },
   {
    "duration": 31,
    "start_time": "2023-11-13T08:09:06.293Z"
   },
   {
    "duration": 43,
    "start_time": "2023-11-13T08:09:06.343Z"
   },
   {
    "duration": 6,
    "start_time": "2023-11-13T08:09:06.388Z"
   },
   {
    "duration": 47,
    "start_time": "2023-11-13T08:09:06.395Z"
   },
   {
    "duration": 42,
    "start_time": "2023-11-13T08:09:06.443Z"
   },
   {
    "duration": 6,
    "start_time": "2023-11-13T08:09:06.487Z"
   },
   {
    "duration": 448,
    "start_time": "2023-11-13T08:09:06.494Z"
   },
   {
    "duration": 486,
    "start_time": "2023-11-13T08:10:19.667Z"
   },
   {
    "duration": 5,
    "start_time": "2023-11-13T08:12:12.939Z"
   },
   {
    "duration": 592,
    "start_time": "2023-11-13T08:12:13.202Z"
   },
   {
    "duration": 4,
    "start_time": "2023-11-13T08:13:20.242Z"
   },
   {
    "duration": 120,
    "start_time": "2023-11-13T08:13:20.458Z"
   },
   {
    "duration": 536,
    "start_time": "2023-11-13T08:13:30.631Z"
   },
   {
    "duration": 5,
    "start_time": "2023-11-13T08:14:46.270Z"
   },
   {
    "duration": 566,
    "start_time": "2023-11-13T08:14:46.455Z"
   },
   {
    "duration": 74,
    "start_time": "2023-11-13T08:16:52.427Z"
   },
   {
    "duration": 71,
    "start_time": "2023-11-13T08:17:36.027Z"
   },
   {
    "duration": 74,
    "start_time": "2023-11-13T08:17:40.245Z"
   },
   {
    "duration": 84,
    "start_time": "2023-11-13T08:17:49.098Z"
   },
   {
    "duration": 881,
    "start_time": "2023-11-13T08:19:41.996Z"
   },
   {
    "duration": 2132,
    "start_time": "2023-11-13T08:20:50.982Z"
   },
   {
    "duration": 2021,
    "start_time": "2023-11-13T08:21:13.058Z"
   },
   {
    "duration": 7,
    "start_time": "2023-11-13T08:26:27.653Z"
   },
   {
    "duration": 11,
    "start_time": "2023-11-13T08:26:28.736Z"
   },
   {
    "duration": 10,
    "start_time": "2023-11-13T08:26:29.975Z"
   },
   {
    "duration": 10,
    "start_time": "2023-11-13T08:26:30.835Z"
   },
   {
    "duration": 5,
    "start_time": "2023-11-13T08:26:37.873Z"
   },
   {
    "duration": 593,
    "start_time": "2023-11-13T08:26:38.225Z"
   },
   {
    "duration": 725,
    "start_time": "2023-11-13T08:26:39.229Z"
   },
   {
    "duration": 610,
    "start_time": "2023-11-13T08:26:39.956Z"
   },
   {
    "duration": 552,
    "start_time": "2023-11-13T08:32:30.857Z"
   },
   {
    "duration": 406,
    "start_time": "2023-11-13T08:33:13.436Z"
   },
   {
    "duration": 383,
    "start_time": "2023-11-13T08:33:24.607Z"
   },
   {
    "duration": 326,
    "start_time": "2023-11-13T08:33:36.642Z"
   },
   {
    "duration": 347,
    "start_time": "2023-11-13T08:33:59.527Z"
   },
   {
    "duration": 351,
    "start_time": "2023-11-13T08:34:08.436Z"
   },
   {
    "duration": 536,
    "start_time": "2023-11-13T08:34:22.247Z"
   },
   {
    "duration": 375,
    "start_time": "2023-11-13T08:36:00.923Z"
   },
   {
    "duration": 9,
    "start_time": "2023-11-13T08:36:08.475Z"
   },
   {
    "duration": 507,
    "start_time": "2023-11-13T08:41:39.922Z"
   },
   {
    "duration": 363,
    "start_time": "2023-11-13T08:42:06.011Z"
   },
   {
    "duration": 6704,
    "start_time": "2023-11-13T08:48:47.177Z"
   },
   {
    "duration": 413,
    "start_time": "2023-11-13T08:48:53.884Z"
   },
   {
    "duration": 27,
    "start_time": "2023-11-13T08:48:54.299Z"
   },
   {
    "duration": 50,
    "start_time": "2023-11-13T08:48:54.329Z"
   },
   {
    "duration": 8,
    "start_time": "2023-11-13T08:48:54.380Z"
   },
   {
    "duration": 31,
    "start_time": "2023-11-13T08:48:54.390Z"
   },
   {
    "duration": 40,
    "start_time": "2023-11-13T08:48:54.442Z"
   },
   {
    "duration": 6,
    "start_time": "2023-11-13T08:48:54.484Z"
   },
   {
    "duration": 52,
    "start_time": "2023-11-13T08:48:54.491Z"
   },
   {
    "duration": 42,
    "start_time": "2023-11-13T08:48:54.545Z"
   },
   {
    "duration": 6,
    "start_time": "2023-11-13T08:48:54.588Z"
   },
   {
    "duration": 434,
    "start_time": "2023-11-13T08:48:54.596Z"
   },
   {
    "duration": 71,
    "start_time": "2023-11-13T08:48:55.032Z"
   },
   {
    "duration": 0,
    "start_time": "2023-11-13T08:48:55.104Z"
   },
   {
    "duration": 0,
    "start_time": "2023-11-13T08:48:55.106Z"
   },
   {
    "duration": 0,
    "start_time": "2023-11-13T08:48:55.107Z"
   },
   {
    "duration": 0,
    "start_time": "2023-11-13T08:48:55.109Z"
   },
   {
    "duration": 0,
    "start_time": "2023-11-13T08:48:55.111Z"
   },
   {
    "duration": 0,
    "start_time": "2023-11-13T08:48:55.113Z"
   },
   {
    "duration": 0,
    "start_time": "2023-11-13T08:48:55.114Z"
   },
   {
    "duration": 3,
    "start_time": "2023-11-13T09:02:44.868Z"
   },
   {
    "duration": 7,
    "start_time": "2023-11-13T09:02:45.282Z"
   },
   {
    "duration": 114,
    "start_time": "2023-11-13T09:02:46.595Z"
   },
   {
    "duration": 83,
    "start_time": "2023-11-13T09:02:47.007Z"
   },
   {
    "duration": 83,
    "start_time": "2023-11-13T09:03:12.343Z"
   },
   {
    "duration": 124,
    "start_time": "2023-11-13T09:03:12.703Z"
   },
   {
    "duration": 10,
    "start_time": "2023-11-13T09:03:13.442Z"
   },
   {
    "duration": 8,
    "start_time": "2023-11-13T09:03:23.864Z"
   },
   {
    "duration": 3,
    "start_time": "2023-11-13T09:03:31.962Z"
   },
   {
    "duration": 9,
    "start_time": "2023-11-13T09:04:23.209Z"
   },
   {
    "duration": 3,
    "start_time": "2023-11-13T09:04:25.247Z"
   },
   {
    "duration": 12,
    "start_time": "2023-11-13T09:04:25.902Z"
   },
   {
    "duration": 14,
    "start_time": "2023-11-13T09:04:26.147Z"
   },
   {
    "duration": 13,
    "start_time": "2023-11-13T09:04:26.848Z"
   },
   {
    "duration": 14,
    "start_time": "2023-11-13T09:04:40.657Z"
   },
   {
    "duration": 13,
    "start_time": "2023-11-13T09:04:41.227Z"
   },
   {
    "duration": 11,
    "start_time": "2023-11-13T09:04:41.542Z"
   },
   {
    "duration": 225,
    "start_time": "2023-11-13T09:10:27.882Z"
   },
   {
    "duration": 11,
    "start_time": "2023-11-13T09:14:54.273Z"
   },
   {
    "duration": 9,
    "start_time": "2023-11-13T09:14:54.922Z"
   },
   {
    "duration": 8,
    "start_time": "2023-11-13T09:14:55.702Z"
   },
   {
    "duration": 14,
    "start_time": "2023-11-13T09:15:36.357Z"
   },
   {
    "duration": 12,
    "start_time": "2023-11-13T09:15:37.482Z"
   },
   {
    "duration": 12,
    "start_time": "2023-11-13T09:15:38.362Z"
   },
   {
    "duration": 10,
    "start_time": "2023-11-13T09:18:57.992Z"
   },
   {
    "duration": 14,
    "start_time": "2023-11-13T09:19:27.587Z"
   },
   {
    "duration": 15,
    "start_time": "2023-11-13T09:19:38.942Z"
   },
   {
    "duration": 8,
    "start_time": "2023-11-13T09:21:16.422Z"
   },
   {
    "duration": 9,
    "start_time": "2023-11-13T09:22:27.843Z"
   },
   {
    "duration": 98,
    "start_time": "2023-11-13T09:22:40.945Z"
   },
   {
    "duration": 15,
    "start_time": "2023-11-13T09:22:44.867Z"
   },
   {
    "duration": 9,
    "start_time": "2023-11-13T09:23:35.342Z"
   },
   {
    "duration": 72,
    "start_time": "2023-11-13T09:24:50.673Z"
   },
   {
    "duration": 8,
    "start_time": "2023-11-13T09:24:50.843Z"
   },
   {
    "duration": 14,
    "start_time": "2023-11-13T09:24:51.247Z"
   },
   {
    "duration": 7187,
    "start_time": "2023-11-13T09:25:02.622Z"
   },
   {
    "duration": 389,
    "start_time": "2023-11-13T09:25:09.811Z"
   },
   {
    "duration": 30,
    "start_time": "2023-11-13T09:25:10.202Z"
   },
   {
    "duration": 83,
    "start_time": "2023-11-13T09:25:10.243Z"
   },
   {
    "duration": 7,
    "start_time": "2023-11-13T09:25:10.327Z"
   },
   {
    "duration": 39,
    "start_time": "2023-11-13T09:25:10.336Z"
   },
   {
    "duration": 87,
    "start_time": "2023-11-13T09:25:10.376Z"
   },
   {
    "duration": 21,
    "start_time": "2023-11-13T09:25:10.465Z"
   },
   {
    "duration": 49,
    "start_time": "2023-11-13T09:25:10.488Z"
   },
   {
    "duration": 51,
    "start_time": "2023-11-13T09:25:10.539Z"
   },
   {
    "duration": 7,
    "start_time": "2023-11-13T09:25:10.591Z"
   },
   {
    "duration": 444,
    "start_time": "2023-11-13T09:25:10.599Z"
   },
   {
    "duration": 118,
    "start_time": "2023-11-13T09:25:11.045Z"
   },
   {
    "duration": 0,
    "start_time": "2023-11-13T09:25:11.165Z"
   },
   {
    "duration": 0,
    "start_time": "2023-11-13T09:25:11.166Z"
   },
   {
    "duration": 0,
    "start_time": "2023-11-13T09:25:11.168Z"
   },
   {
    "duration": 0,
    "start_time": "2023-11-13T09:25:11.170Z"
   },
   {
    "duration": 0,
    "start_time": "2023-11-13T09:25:11.171Z"
   },
   {
    "duration": 1,
    "start_time": "2023-11-13T09:25:11.172Z"
   },
   {
    "duration": 0,
    "start_time": "2023-11-13T09:25:11.174Z"
   },
   {
    "duration": 0,
    "start_time": "2023-11-13T09:25:11.176Z"
   },
   {
    "duration": 0,
    "start_time": "2023-11-13T09:25:11.177Z"
   },
   {
    "duration": 0,
    "start_time": "2023-11-13T09:25:11.179Z"
   },
   {
    "duration": 0,
    "start_time": "2023-11-13T09:25:11.180Z"
   },
   {
    "duration": 0,
    "start_time": "2023-11-13T09:25:11.181Z"
   },
   {
    "duration": 0,
    "start_time": "2023-11-13T09:25:11.182Z"
   },
   {
    "duration": 1,
    "start_time": "2023-11-13T09:25:11.183Z"
   },
   {
    "duration": 0,
    "start_time": "2023-11-13T09:25:11.185Z"
   },
   {
    "duration": 0,
    "start_time": "2023-11-13T09:25:11.186Z"
   },
   {
    "duration": 0,
    "start_time": "2023-11-13T09:25:11.187Z"
   },
   {
    "duration": 125,
    "start_time": "2023-11-13T09:25:29.758Z"
   },
   {
    "duration": 419,
    "start_time": "2023-11-13T09:25:32.147Z"
   },
   {
    "duration": 8,
    "start_time": "2023-11-13T09:25:32.943Z"
   },
   {
    "duration": 345,
    "start_time": "2023-11-13T09:25:35.657Z"
   },
   {
    "duration": 9,
    "start_time": "2023-11-13T09:25:36.004Z"
   },
   {
    "duration": 0,
    "start_time": "2023-11-13T09:25:36.015Z"
   },
   {
    "duration": 2212,
    "start_time": "2023-11-13T09:25:36.878Z"
   },
   {
    "duration": 3,
    "start_time": "2023-11-13T09:25:39.307Z"
   },
   {
    "duration": 10,
    "start_time": "2023-11-13T09:25:39.608Z"
   },
   {
    "duration": 3,
    "start_time": "2023-11-13T09:25:40.057Z"
   },
   {
    "duration": 11,
    "start_time": "2023-11-13T09:25:41.288Z"
   },
   {
    "duration": 13,
    "start_time": "2023-11-13T09:25:42.217Z"
   },
   {
    "duration": 12,
    "start_time": "2023-11-13T09:25:43.368Z"
   },
   {
    "duration": 48,
    "start_time": "2023-11-13T09:25:44.102Z"
   },
   {
    "duration": 102,
    "start_time": "2023-11-13T09:27:00.042Z"
   },
   {
    "duration": 66,
    "start_time": "2023-11-13T09:27:51.978Z"
   },
   {
    "duration": 15,
    "start_time": "2023-11-13T09:28:17.543Z"
   },
   {
    "duration": 18,
    "start_time": "2023-11-13T09:28:40.178Z"
   },
   {
    "duration": 17,
    "start_time": "2023-11-13T09:28:48.283Z"
   },
   {
    "duration": 52,
    "start_time": "2023-11-13T15:27:14.126Z"
   },
   {
    "duration": 11890,
    "start_time": "2023-11-13T15:27:19.748Z"
   },
   {
    "duration": 811,
    "start_time": "2023-11-13T15:27:31.641Z"
   },
   {
    "duration": 29,
    "start_time": "2023-11-13T15:27:32.454Z"
   },
   {
    "duration": 58,
    "start_time": "2023-11-13T15:27:32.485Z"
   },
   {
    "duration": 7,
    "start_time": "2023-11-13T15:27:32.544Z"
   },
   {
    "duration": 28,
    "start_time": "2023-11-13T15:27:32.552Z"
   },
   {
    "duration": 67,
    "start_time": "2023-11-13T15:27:32.582Z"
   },
   {
    "duration": 7,
    "start_time": "2023-11-13T15:27:32.651Z"
   },
   {
    "duration": 32,
    "start_time": "2023-11-13T15:27:32.660Z"
   },
   {
    "duration": 65,
    "start_time": "2023-11-13T15:27:32.694Z"
   },
   {
    "duration": 7,
    "start_time": "2023-11-13T15:27:32.760Z"
   },
   {
    "duration": 556,
    "start_time": "2023-11-13T15:27:32.768Z"
   },
   {
    "duration": 138,
    "start_time": "2023-11-13T15:27:33.326Z"
   },
   {
    "duration": 0,
    "start_time": "2023-11-13T15:27:33.465Z"
   },
   {
    "duration": 0,
    "start_time": "2023-11-13T15:27:33.466Z"
   },
   {
    "duration": 0,
    "start_time": "2023-11-13T15:27:33.468Z"
   },
   {
    "duration": 0,
    "start_time": "2023-11-13T15:27:33.469Z"
   },
   {
    "duration": 1,
    "start_time": "2023-11-13T15:27:33.470Z"
   },
   {
    "duration": 0,
    "start_time": "2023-11-13T15:27:33.472Z"
   },
   {
    "duration": 0,
    "start_time": "2023-11-13T15:27:33.473Z"
   },
   {
    "duration": 0,
    "start_time": "2023-11-13T15:27:33.474Z"
   },
   {
    "duration": 0,
    "start_time": "2023-11-13T15:27:33.475Z"
   },
   {
    "duration": 0,
    "start_time": "2023-11-13T15:27:33.476Z"
   },
   {
    "duration": 1,
    "start_time": "2023-11-13T15:27:33.477Z"
   },
   {
    "duration": 0,
    "start_time": "2023-11-13T15:27:33.479Z"
   },
   {
    "duration": 0,
    "start_time": "2023-11-13T15:27:33.480Z"
   },
   {
    "duration": 0,
    "start_time": "2023-11-13T15:27:33.513Z"
   },
   {
    "duration": 0,
    "start_time": "2023-11-13T15:27:33.514Z"
   },
   {
    "duration": 8,
    "start_time": "2023-11-13T15:32:10.419Z"
   },
   {
    "duration": 646,
    "start_time": "2023-11-13T15:32:10.951Z"
   },
   {
    "duration": 398,
    "start_time": "2023-11-13T15:32:12.388Z"
   },
   {
    "duration": 655,
    "start_time": "2023-11-13T15:32:13.160Z"
   },
   {
    "duration": 386,
    "start_time": "2023-11-13T15:32:13.817Z"
   },
   {
    "duration": 731,
    "start_time": "2023-11-13T15:32:14.205Z"
   },
   {
    "duration": 389,
    "start_time": "2023-11-13T15:32:16.146Z"
   },
   {
    "duration": 2284,
    "start_time": "2023-11-13T15:32:18.019Z"
   },
   {
    "duration": 4,
    "start_time": "2023-11-13T15:32:20.311Z"
   },
   {
    "duration": 10,
    "start_time": "2023-11-13T15:32:21.456Z"
   },
   {
    "duration": 4,
    "start_time": "2023-11-13T15:32:21.724Z"
   },
   {
    "duration": 13,
    "start_time": "2023-11-13T15:32:22.754Z"
   },
   {
    "duration": 13,
    "start_time": "2023-11-13T15:32:23.672Z"
   },
   {
    "duration": 13,
    "start_time": "2023-11-13T15:32:24.663Z"
   },
   {
    "duration": 212,
    "start_time": "2023-11-13T15:32:38.106Z"
   },
   {
    "duration": 28,
    "start_time": "2023-11-13T15:32:42.882Z"
   },
   {
    "duration": 59,
    "start_time": "2023-11-13T15:32:46.955Z"
   },
   {
    "duration": 14,
    "start_time": "2023-11-13T15:34:50.303Z"
   },
   {
    "duration": 9332,
    "start_time": "2023-11-13T15:35:18.009Z"
   },
   {
    "duration": 459,
    "start_time": "2023-11-13T15:35:27.344Z"
   },
   {
    "duration": 33,
    "start_time": "2023-11-13T15:35:27.804Z"
   },
   {
    "duration": 50,
    "start_time": "2023-11-13T15:35:27.840Z"
   },
   {
    "duration": 25,
    "start_time": "2023-11-13T15:35:27.891Z"
   },
   {
    "duration": 32,
    "start_time": "2023-11-13T15:35:27.917Z"
   },
   {
    "duration": 61,
    "start_time": "2023-11-13T15:35:27.951Z"
   },
   {
    "duration": 7,
    "start_time": "2023-11-13T15:35:28.013Z"
   },
   {
    "duration": 31,
    "start_time": "2023-11-13T15:35:28.021Z"
   },
   {
    "duration": 58,
    "start_time": "2023-11-13T15:35:28.054Z"
   },
   {
    "duration": 7,
    "start_time": "2023-11-13T15:35:28.113Z"
   },
   {
    "duration": 460,
    "start_time": "2023-11-13T15:35:28.121Z"
   },
   {
    "duration": 7,
    "start_time": "2023-11-13T15:35:28.583Z"
   },
   {
    "duration": 705,
    "start_time": "2023-11-13T15:35:28.591Z"
   },
   {
    "duration": 396,
    "start_time": "2023-11-13T15:35:29.297Z"
   },
   {
    "duration": 577,
    "start_time": "2023-11-13T15:35:29.695Z"
   },
   {
    "duration": 370,
    "start_time": "2023-11-13T15:35:30.274Z"
   },
   {
    "duration": 704,
    "start_time": "2023-11-13T15:35:30.645Z"
   },
   {
    "duration": 433,
    "start_time": "2023-11-13T15:35:31.351Z"
   },
   {
    "duration": 2500,
    "start_time": "2023-11-13T15:35:31.786Z"
   },
   {
    "duration": 4,
    "start_time": "2023-11-13T15:35:34.288Z"
   },
   {
    "duration": 25,
    "start_time": "2023-11-13T15:35:34.293Z"
   },
   {
    "duration": 5,
    "start_time": "2023-11-13T15:35:34.320Z"
   },
   {
    "duration": 12,
    "start_time": "2023-11-13T15:35:34.327Z"
   },
   {
    "duration": 17,
    "start_time": "2023-11-13T15:35:34.340Z"
   },
   {
    "duration": 18,
    "start_time": "2023-11-13T15:35:34.360Z"
   },
   {
    "duration": 144,
    "start_time": "2023-11-13T15:35:34.380Z"
   },
   {
    "duration": 111,
    "start_time": "2023-11-13T15:35:34.612Z"
   },
   {
    "duration": 107,
    "start_time": "2023-11-13T15:35:34.811Z"
   },
   {
    "duration": 92,
    "start_time": "2023-11-13T15:35:34.920Z"
   },
   {
    "duration": 7248,
    "start_time": "2023-11-13T15:38:06.892Z"
   },
   {
    "duration": 425,
    "start_time": "2023-11-13T15:38:14.143Z"
   },
   {
    "duration": 28,
    "start_time": "2023-11-13T15:38:14.569Z"
   },
   {
    "duration": 55,
    "start_time": "2023-11-13T15:38:14.599Z"
   },
   {
    "duration": 6,
    "start_time": "2023-11-13T15:38:14.656Z"
   },
   {
    "duration": 22,
    "start_time": "2023-11-13T15:38:14.664Z"
   },
   {
    "duration": 72,
    "start_time": "2023-11-13T15:38:14.687Z"
   },
   {
    "duration": 8,
    "start_time": "2023-11-13T15:38:14.761Z"
   },
   {
    "duration": 38,
    "start_time": "2023-11-13T15:38:14.770Z"
   },
   {
    "duration": 49,
    "start_time": "2023-11-13T15:38:14.811Z"
   },
   {
    "duration": 8,
    "start_time": "2023-11-13T15:38:14.861Z"
   },
   {
    "duration": 470,
    "start_time": "2023-11-13T15:38:14.871Z"
   },
   {
    "duration": 5,
    "start_time": "2023-11-13T15:38:15.343Z"
   },
   {
    "duration": 713,
    "start_time": "2023-11-13T15:38:15.349Z"
   },
   {
    "duration": 421,
    "start_time": "2023-11-13T15:38:16.064Z"
   },
   {
    "duration": 588,
    "start_time": "2023-11-13T15:38:16.487Z"
   },
   {
    "duration": 382,
    "start_time": "2023-11-13T15:38:17.076Z"
   },
   {
    "duration": 687,
    "start_time": "2023-11-13T15:38:17.460Z"
   },
   {
    "duration": 400,
    "start_time": "2023-11-13T15:38:18.148Z"
   },
   {
    "duration": 2230,
    "start_time": "2023-11-13T15:38:18.550Z"
   },
   {
    "duration": 3,
    "start_time": "2023-11-13T15:38:20.782Z"
   },
   {
    "duration": 27,
    "start_time": "2023-11-13T15:38:20.787Z"
   },
   {
    "duration": 4,
    "start_time": "2023-11-13T15:38:20.815Z"
   },
   {
    "duration": 32,
    "start_time": "2023-11-13T15:38:20.821Z"
   },
   {
    "duration": 13,
    "start_time": "2023-11-13T15:38:20.855Z"
   },
   {
    "duration": 14,
    "start_time": "2023-11-13T15:38:20.870Z"
   },
   {
    "duration": 28,
    "start_time": "2023-11-13T15:38:20.886Z"
   },
   {
    "duration": 102,
    "start_time": "2023-11-13T15:38:20.918Z"
   },
   {
    "duration": 12,
    "start_time": "2023-11-13T15:38:21.112Z"
   },
   {
    "duration": 3,
    "start_time": "2023-11-13T15:38:21.126Z"
   },
   {
    "duration": 79,
    "start_time": "2023-11-13T15:38:21.131Z"
   },
   {
    "duration": 11,
    "start_time": "2023-11-13T15:38:21.310Z"
   },
   {
    "duration": 96,
    "start_time": "2023-11-13T15:38:21.323Z"
   },
   {
    "duration": 101,
    "start_time": "2023-11-13T15:38:21.421Z"
   },
   {
    "duration": 7,
    "start_time": "2023-11-13T15:38:21.524Z"
   },
   {
    "duration": 13,
    "start_time": "2023-11-13T15:52:27.667Z"
   },
   {
    "duration": 8,
    "start_time": "2023-11-13T15:52:27.829Z"
   },
   {
    "duration": 3,
    "start_time": "2023-11-13T15:59:09.638Z"
   },
   {
    "duration": 5,
    "start_time": "2023-11-13T15:59:09.812Z"
   },
   {
    "duration": 5,
    "start_time": "2023-11-13T15:59:09.959Z"
   },
   {
    "duration": 3,
    "start_time": "2023-11-13T16:05:06.482Z"
   },
   {
    "duration": 6,
    "start_time": "2023-11-13T16:05:08.319Z"
   },
   {
    "duration": 6,
    "start_time": "2023-11-13T16:05:08.715Z"
   },
   {
    "duration": 11,
    "start_time": "2023-11-13T16:05:50.484Z"
   },
   {
    "duration": 11,
    "start_time": "2023-11-13T16:06:35.400Z"
   },
   {
    "duration": 20,
    "start_time": "2023-11-13T16:08:15.399Z"
   },
   {
    "duration": 16,
    "start_time": "2023-11-13T16:08:23.556Z"
   },
   {
    "duration": 6,
    "start_time": "2023-11-13T16:08:29.351Z"
   },
   {
    "duration": 4,
    "start_time": "2023-11-13T16:08:37.368Z"
   },
   {
    "duration": 137,
    "start_time": "2023-11-13T16:21:39.037Z"
   },
   {
    "duration": 10,
    "start_time": "2023-11-13T16:21:59.276Z"
   },
   {
    "duration": 9,
    "start_time": "2023-11-13T16:24:10.203Z"
   },
   {
    "duration": 18,
    "start_time": "2023-11-13T16:25:13.891Z"
   },
   {
    "duration": 3,
    "start_time": "2023-11-13T16:25:20.889Z"
   },
   {
    "duration": 11,
    "start_time": "2023-11-13T16:25:30.287Z"
   },
   {
    "duration": 13,
    "start_time": "2023-11-13T16:26:00.491Z"
   },
   {
    "duration": 7356,
    "start_time": "2023-11-13T16:26:07.308Z"
   },
   {
    "duration": 492,
    "start_time": "2023-11-13T16:26:14.666Z"
   },
   {
    "duration": 29,
    "start_time": "2023-11-13T16:26:15.159Z"
   },
   {
    "duration": 67,
    "start_time": "2023-11-13T16:26:15.190Z"
   },
   {
    "duration": 7,
    "start_time": "2023-11-13T16:26:15.259Z"
   },
   {
    "duration": 23,
    "start_time": "2023-11-13T16:26:15.267Z"
   },
   {
    "duration": 57,
    "start_time": "2023-11-13T16:26:15.310Z"
   },
   {
    "duration": 7,
    "start_time": "2023-11-13T16:26:15.368Z"
   },
   {
    "duration": 40,
    "start_time": "2023-11-13T16:26:15.376Z"
   },
   {
    "duration": 61,
    "start_time": "2023-11-13T16:26:15.420Z"
   },
   {
    "duration": 7,
    "start_time": "2023-11-13T16:26:15.483Z"
   },
   {
    "duration": 524,
    "start_time": "2023-11-13T16:26:15.492Z"
   },
   {
    "duration": 12,
    "start_time": "2023-11-13T16:26:16.018Z"
   },
   {
    "duration": 782,
    "start_time": "2023-11-13T16:26:16.032Z"
   },
   {
    "duration": 441,
    "start_time": "2023-11-13T16:26:16.820Z"
   },
   {
    "duration": 660,
    "start_time": "2023-11-13T16:26:17.262Z"
   },
   {
    "duration": 423,
    "start_time": "2023-11-13T16:26:17.924Z"
   },
   {
    "duration": 788,
    "start_time": "2023-11-13T16:26:18.348Z"
   },
   {
    "duration": 428,
    "start_time": "2023-11-13T16:26:19.138Z"
   },
   {
    "duration": 2435,
    "start_time": "2023-11-13T16:26:19.568Z"
   },
   {
    "duration": 5,
    "start_time": "2023-11-13T16:26:22.011Z"
   },
   {
    "duration": 20,
    "start_time": "2023-11-13T16:26:22.018Z"
   },
   {
    "duration": 17,
    "start_time": "2023-11-13T16:26:22.040Z"
   },
   {
    "duration": 20,
    "start_time": "2023-11-13T16:26:22.060Z"
   },
   {
    "duration": 14,
    "start_time": "2023-11-13T16:26:22.082Z"
   },
   {
    "duration": 39,
    "start_time": "2023-11-13T16:26:22.097Z"
   },
   {
    "duration": 73,
    "start_time": "2023-11-13T16:26:22.138Z"
   },
   {
    "duration": 99,
    "start_time": "2023-11-13T16:26:22.216Z"
   },
   {
    "duration": 20,
    "start_time": "2023-11-13T16:26:22.325Z"
   },
   {
    "duration": 3,
    "start_time": "2023-11-13T16:26:22.347Z"
   },
   {
    "duration": 160,
    "start_time": "2023-11-13T16:26:22.351Z"
   },
   {
    "duration": 102,
    "start_time": "2023-11-13T16:26:22.514Z"
   },
   {
    "duration": 102,
    "start_time": "2023-11-13T16:26:22.618Z"
   },
   {
    "duration": 88,
    "start_time": "2023-11-13T16:26:22.722Z"
   },
   {
    "duration": 10,
    "start_time": "2023-11-13T16:26:22.813Z"
   },
   {
    "duration": 4,
    "start_time": "2023-11-13T16:26:22.825Z"
   },
   {
    "duration": 8,
    "start_time": "2023-11-13T16:26:22.831Z"
   },
   {
    "duration": 8,
    "start_time": "2023-11-13T16:26:22.841Z"
   },
   {
    "duration": 6,
    "start_time": "2023-11-13T16:26:22.850Z"
   },
   {
    "duration": 14,
    "start_time": "2023-11-13T16:26:22.857Z"
   },
   {
    "duration": 9,
    "start_time": "2023-11-13T16:26:22.910Z"
   },
   {
    "duration": 14,
    "start_time": "2023-11-13T16:26:38.021Z"
   },
   {
    "duration": 13,
    "start_time": "2023-11-13T16:26:43.554Z"
   },
   {
    "duration": 13,
    "start_time": "2023-11-13T16:27:20.567Z"
   },
   {
    "duration": 13,
    "start_time": "2023-11-13T16:27:20.732Z"
   },
   {
    "duration": 5,
    "start_time": "2023-11-13T16:32:40.137Z"
   },
   {
    "duration": 11,
    "start_time": "2023-11-13T16:36:57.025Z"
   },
   {
    "duration": 96,
    "start_time": "2023-11-13T17:11:59.275Z"
   },
   {
    "duration": 74,
    "start_time": "2023-11-13T17:12:07.203Z"
   },
   {
    "duration": 6,
    "start_time": "2023-11-13T17:12:25.793Z"
   },
   {
    "duration": 141,
    "start_time": "2023-11-13T17:12:35.974Z"
   },
   {
    "duration": 18,
    "start_time": "2023-11-13T17:16:50.568Z"
   },
   {
    "duration": 15,
    "start_time": "2023-11-13T17:17:07.288Z"
   },
   {
    "duration": 19,
    "start_time": "2023-11-13T17:18:46.072Z"
   },
   {
    "duration": 3,
    "start_time": "2023-11-13T17:19:44.517Z"
   },
   {
    "duration": 4,
    "start_time": "2023-11-13T17:20:06.247Z"
   },
   {
    "duration": 15,
    "start_time": "2023-11-13T17:20:07.513Z"
   },
   {
    "duration": 16,
    "start_time": "2023-11-13T17:20:20.733Z"
   },
   {
    "duration": 16,
    "start_time": "2023-11-13T17:20:33.277Z"
   },
   {
    "duration": 11,
    "start_time": "2023-11-13T17:20:46.727Z"
   },
   {
    "duration": 12,
    "start_time": "2023-11-13T17:21:05.406Z"
   },
   {
    "duration": 21,
    "start_time": "2023-11-13T17:21:09.115Z"
   },
   {
    "duration": 12,
    "start_time": "2023-11-13T17:34:26.085Z"
   },
   {
    "duration": 316,
    "start_time": "2023-11-13T17:35:16.608Z"
   },
   {
    "duration": 16,
    "start_time": "2023-11-13T17:35:21.734Z"
   },
   {
    "duration": 20,
    "start_time": "2023-11-13T17:37:16.624Z"
   },
   {
    "duration": 10,
    "start_time": "2023-11-13T17:38:55.474Z"
   },
   {
    "duration": 10,
    "start_time": "2023-11-13T17:39:10.394Z"
   },
   {
    "duration": 11,
    "start_time": "2023-11-13T17:39:28.293Z"
   },
   {
    "duration": 10,
    "start_time": "2023-11-13T17:40:05.584Z"
   },
   {
    "duration": 21,
    "start_time": "2023-11-13T17:41:01.215Z"
   },
   {
    "duration": 11,
    "start_time": "2023-11-13T17:41:05.454Z"
   },
   {
    "duration": 12,
    "start_time": "2023-11-13T17:41:11.392Z"
   },
   {
    "duration": 8,
    "start_time": "2023-11-13T17:41:27.860Z"
   },
   {
    "duration": 19,
    "start_time": "2023-11-13T17:41:28.621Z"
   },
   {
    "duration": 18,
    "start_time": "2023-11-13T17:42:19.905Z"
   },
   {
    "duration": 3,
    "start_time": "2023-11-13T17:42:52.068Z"
   },
   {
    "duration": 3,
    "start_time": "2023-11-13T17:43:01.224Z"
   },
   {
    "duration": 16,
    "start_time": "2023-11-13T17:43:02.094Z"
   },
   {
    "duration": 10,
    "start_time": "2023-11-13T17:43:15.956Z"
   },
   {
    "duration": 4,
    "start_time": "2023-11-13T17:43:25.132Z"
   },
   {
    "duration": 8,
    "start_time": "2023-11-13T17:43:31.030Z"
   },
   {
    "duration": 7,
    "start_time": "2023-11-13T17:44:07.048Z"
   },
   {
    "duration": 6,
    "start_time": "2023-11-13T17:44:33.466Z"
   },
   {
    "duration": 16,
    "start_time": "2023-11-13T17:45:44.423Z"
   },
   {
    "duration": 24,
    "start_time": "2023-11-13T17:45:56.482Z"
   },
   {
    "duration": 21,
    "start_time": "2023-11-13T17:46:07.213Z"
   },
   {
    "duration": 7,
    "start_time": "2023-11-13T17:46:14.659Z"
   },
   {
    "duration": 10,
    "start_time": "2023-11-13T17:51:24.598Z"
   },
   {
    "duration": 5,
    "start_time": "2023-11-13T17:51:31.927Z"
   },
   {
    "duration": 4,
    "start_time": "2023-11-13T17:51:32.484Z"
   },
   {
    "duration": 7,
    "start_time": "2023-11-13T17:51:33.493Z"
   },
   {
    "duration": 7,
    "start_time": "2023-11-13T17:52:06.643Z"
   },
   {
    "duration": 18,
    "start_time": "2023-11-13T17:52:16.434Z"
   },
   {
    "duration": 13,
    "start_time": "2023-11-13T17:52:29.480Z"
   },
   {
    "duration": 7,
    "start_time": "2023-11-13T17:53:06.894Z"
   },
   {
    "duration": 23,
    "start_time": "2023-11-13T18:02:36.295Z"
   },
   {
    "duration": 7,
    "start_time": "2023-11-13T18:02:36.496Z"
   },
   {
    "duration": 18,
    "start_time": "2023-11-13T18:02:37.399Z"
   },
   {
    "duration": 7,
    "start_time": "2023-11-13T18:02:38.088Z"
   },
   {
    "duration": 5,
    "start_time": "2023-11-13T18:04:30.701Z"
   },
   {
    "duration": 7,
    "start_time": "2023-11-13T18:04:32.353Z"
   },
   {
    "duration": 18,
    "start_time": "2023-11-13T18:04:33.312Z"
   },
   {
    "duration": 11,
    "start_time": "2023-11-13T18:04:42.945Z"
   },
   {
    "duration": 10,
    "start_time": "2023-11-13T18:04:43.139Z"
   },
   {
    "duration": 3,
    "start_time": "2023-11-13T18:04:43.334Z"
   },
   {
    "duration": 16,
    "start_time": "2023-11-13T18:04:43.498Z"
   },
   {
    "duration": 5,
    "start_time": "2023-11-13T18:04:43.685Z"
   },
   {
    "duration": 7,
    "start_time": "2023-11-13T18:04:43.898Z"
   },
   {
    "duration": 22,
    "start_time": "2023-11-13T18:04:44.500Z"
   },
   {
    "duration": 11,
    "start_time": "2023-11-13T18:05:50.762Z"
   },
   {
    "duration": 133317,
    "start_time": "2023-11-13T18:05:56.700Z"
   },
   {
    "duration": 443,
    "start_time": "2023-11-13T18:08:10.020Z"
   },
   {
    "duration": 28,
    "start_time": "2023-11-13T18:08:10.468Z"
   },
   {
    "duration": 50,
    "start_time": "2023-11-13T18:08:10.497Z"
   },
   {
    "duration": 8,
    "start_time": "2023-11-13T18:08:10.549Z"
   },
   {
    "duration": 25,
    "start_time": "2023-11-13T18:08:10.558Z"
   },
   {
    "duration": 56,
    "start_time": "2023-11-13T18:08:10.585Z"
   },
   {
    "duration": 7,
    "start_time": "2023-11-13T18:08:10.643Z"
   },
   {
    "duration": 60,
    "start_time": "2023-11-13T18:08:10.652Z"
   },
   {
    "duration": 50,
    "start_time": "2023-11-13T18:08:10.714Z"
   },
   {
    "duration": 6,
    "start_time": "2023-11-13T18:08:10.766Z"
   },
   {
    "duration": 549,
    "start_time": "2023-11-13T18:08:10.774Z"
   },
   {
    "duration": 6,
    "start_time": "2023-11-13T18:08:11.324Z"
   },
   {
    "duration": 849,
    "start_time": "2023-11-13T18:08:11.331Z"
   },
   {
    "duration": 429,
    "start_time": "2023-11-13T18:08:12.182Z"
   },
   {
    "duration": 720,
    "start_time": "2023-11-13T18:08:12.613Z"
   },
   {
    "duration": 414,
    "start_time": "2023-11-13T18:08:13.334Z"
   },
   {
    "duration": 732,
    "start_time": "2023-11-13T18:08:13.750Z"
   },
   {
    "duration": 504,
    "start_time": "2023-11-13T18:08:14.483Z"
   },
   {
    "duration": 5808,
    "start_time": "2023-11-13T18:08:28.178Z"
   },
   {
    "duration": 438,
    "start_time": "2023-11-13T18:08:33.989Z"
   },
   {
    "duration": 24,
    "start_time": "2023-11-13T18:08:34.428Z"
   },
   {
    "duration": 66,
    "start_time": "2023-11-13T18:08:34.453Z"
   },
   {
    "duration": 7,
    "start_time": "2023-11-13T18:08:34.520Z"
   },
   {
    "duration": 31,
    "start_time": "2023-11-13T18:08:34.528Z"
   },
   {
    "duration": 54,
    "start_time": "2023-11-13T18:08:34.561Z"
   },
   {
    "duration": 6,
    "start_time": "2023-11-13T18:08:34.617Z"
   },
   {
    "duration": 27,
    "start_time": "2023-11-13T18:08:34.624Z"
   },
   {
    "duration": 59,
    "start_time": "2023-11-13T18:08:34.654Z"
   },
   {
    "duration": 6,
    "start_time": "2023-11-13T18:08:34.715Z"
   },
   {
    "duration": 448,
    "start_time": "2023-11-13T18:08:34.723Z"
   },
   {
    "duration": 6,
    "start_time": "2023-11-13T18:08:35.173Z"
   },
   {
    "duration": 741,
    "start_time": "2023-11-13T18:08:35.180Z"
   },
   {
    "duration": 409,
    "start_time": "2023-11-13T18:08:35.923Z"
   },
   {
    "duration": 595,
    "start_time": "2023-11-13T18:08:36.334Z"
   },
   {
    "duration": 386,
    "start_time": "2023-11-13T18:08:36.931Z"
   },
   {
    "duration": 696,
    "start_time": "2023-11-13T18:08:37.320Z"
   },
   {
    "duration": 387,
    "start_time": "2023-11-13T18:08:38.017Z"
   },
   {
    "duration": 2254,
    "start_time": "2023-11-13T18:08:38.405Z"
   },
   {
    "duration": 4,
    "start_time": "2023-11-13T18:08:40.660Z"
   },
   {
    "duration": 22,
    "start_time": "2023-11-13T18:08:40.665Z"
   },
   {
    "duration": 5,
    "start_time": "2023-11-13T18:08:40.688Z"
   },
   {
    "duration": 17,
    "start_time": "2023-11-13T18:08:40.694Z"
   },
   {
    "duration": 11,
    "start_time": "2023-11-13T18:08:40.713Z"
   },
   {
    "duration": 22,
    "start_time": "2023-11-13T18:08:40.726Z"
   },
   {
    "duration": 15,
    "start_time": "2023-11-13T18:08:40.749Z"
   },
   {
    "duration": 12,
    "start_time": "2023-11-13T18:08:40.910Z"
   },
   {
    "duration": 12,
    "start_time": "2023-11-13T18:08:40.923Z"
   },
   {
    "duration": 2,
    "start_time": "2023-11-13T18:08:40.937Z"
   },
   {
    "duration": 76,
    "start_time": "2023-11-13T18:08:40.941Z"
   },
   {
    "duration": 100,
    "start_time": "2023-11-13T18:08:41.020Z"
   },
   {
    "duration": 192,
    "start_time": "2023-11-13T18:08:41.123Z"
   },
   {
    "duration": 5,
    "start_time": "2023-11-13T18:08:41.317Z"
   },
   {
    "duration": 93,
    "start_time": "2023-11-13T18:08:41.324Z"
   },
   {
    "duration": 3,
    "start_time": "2023-11-13T18:08:41.419Z"
   },
   {
    "duration": 7,
    "start_time": "2023-11-13T18:08:41.423Z"
   },
   {
    "duration": 5,
    "start_time": "2023-11-13T18:08:41.432Z"
   },
   {
    "duration": 4,
    "start_time": "2023-11-13T18:08:41.439Z"
   },
   {
    "duration": 13,
    "start_time": "2023-11-13T18:08:41.445Z"
   },
   {
    "duration": 57,
    "start_time": "2023-11-13T18:08:41.460Z"
   },
   {
    "duration": 13,
    "start_time": "2023-11-13T18:08:42.249Z"
   },
   {
    "duration": 10,
    "start_time": "2023-11-13T18:08:43.197Z"
   },
   {
    "duration": 8,
    "start_time": "2023-11-13T18:08:43.995Z"
   },
   {
    "duration": 11,
    "start_time": "2023-11-13T18:08:44.488Z"
   },
   {
    "duration": 3,
    "start_time": "2023-11-13T18:08:44.910Z"
   },
   {
    "duration": 13,
    "start_time": "2023-11-13T18:08:45.249Z"
   },
   {
    "duration": 5,
    "start_time": "2023-11-13T18:08:45.629Z"
   },
   {
    "duration": 7,
    "start_time": "2023-11-13T18:08:46.160Z"
   },
   {
    "duration": 18,
    "start_time": "2023-11-13T18:08:47.148Z"
   },
   {
    "duration": 6,
    "start_time": "2023-11-13T18:08:47.756Z"
   },
   {
    "duration": 16,
    "start_time": "2023-11-13T18:08:48.325Z"
   },
   {
    "duration": 8,
    "start_time": "2023-11-13T18:08:48.857Z"
   },
   {
    "duration": 6,
    "start_time": "2023-11-13T18:10:06.243Z"
   },
   {
    "duration": 8,
    "start_time": "2023-11-13T18:10:13.928Z"
   },
   {
    "duration": 11,
    "start_time": "2023-11-13T18:10:14.116Z"
   },
   {
    "duration": 2,
    "start_time": "2023-11-13T18:10:14.307Z"
   },
   {
    "duration": 15,
    "start_time": "2023-11-13T18:10:14.496Z"
   },
   {
    "duration": 7,
    "start_time": "2023-11-13T18:10:14.724Z"
   },
   {
    "duration": 7,
    "start_time": "2023-11-13T18:10:14.951Z"
   },
   {
    "duration": 16,
    "start_time": "2023-11-13T18:10:15.180Z"
   },
   {
    "duration": 7104,
    "start_time": "2023-11-13T18:11:13.488Z"
   },
   {
    "duration": 435,
    "start_time": "2023-11-13T18:11:20.594Z"
   },
   {
    "duration": 27,
    "start_time": "2023-11-13T18:11:21.031Z"
   },
   {
    "duration": 63,
    "start_time": "2023-11-13T18:11:21.060Z"
   },
   {
    "duration": 6,
    "start_time": "2023-11-13T18:11:21.125Z"
   },
   {
    "duration": 26,
    "start_time": "2023-11-13T18:11:21.132Z"
   },
   {
    "duration": 59,
    "start_time": "2023-11-13T18:11:21.160Z"
   },
   {
    "duration": 7,
    "start_time": "2023-11-13T18:11:21.220Z"
   },
   {
    "duration": 23,
    "start_time": "2023-11-13T18:11:21.228Z"
   },
   {
    "duration": 63,
    "start_time": "2023-11-13T18:11:21.253Z"
   },
   {
    "duration": 9,
    "start_time": "2023-11-13T18:11:21.317Z"
   },
   {
    "duration": 454,
    "start_time": "2023-11-13T18:11:21.327Z"
   },
   {
    "duration": 5,
    "start_time": "2023-11-13T18:11:21.783Z"
   },
   {
    "duration": 709,
    "start_time": "2023-11-13T18:11:21.790Z"
   },
   {
    "duration": 371,
    "start_time": "2023-11-13T18:11:22.500Z"
   },
   {
    "duration": 582,
    "start_time": "2023-11-13T18:11:22.873Z"
   },
   {
    "duration": 369,
    "start_time": "2023-11-13T18:11:23.456Z"
   },
   {
    "duration": 677,
    "start_time": "2023-11-13T18:11:23.827Z"
   },
   {
    "duration": 363,
    "start_time": "2023-11-13T18:11:24.506Z"
   },
   {
    "duration": 2195,
    "start_time": "2023-11-13T18:11:24.870Z"
   },
   {
    "duration": 3,
    "start_time": "2023-11-13T18:11:27.067Z"
   },
   {
    "duration": 14,
    "start_time": "2023-11-13T18:11:27.071Z"
   },
   {
    "duration": 11,
    "start_time": "2023-11-13T18:11:27.087Z"
   },
   {
    "duration": 19,
    "start_time": "2023-11-13T18:11:27.100Z"
   },
   {
    "duration": 14,
    "start_time": "2023-11-13T18:11:27.121Z"
   },
   {
    "duration": 14,
    "start_time": "2023-11-13T18:11:27.136Z"
   },
   {
    "duration": 61,
    "start_time": "2023-11-13T18:11:27.151Z"
   },
   {
    "duration": 102,
    "start_time": "2023-11-13T18:11:27.219Z"
   },
   {
    "duration": 20,
    "start_time": "2023-11-13T18:11:27.322Z"
   },
   {
    "duration": 3,
    "start_time": "2023-11-13T18:11:27.343Z"
   },
   {
    "duration": 164,
    "start_time": "2023-11-13T18:11:27.347Z"
   },
   {
    "duration": 11,
    "start_time": "2023-11-13T18:11:27.513Z"
   },
   {
    "duration": 191,
    "start_time": "2023-11-13T18:11:27.526Z"
   },
   {
    "duration": 95,
    "start_time": "2023-11-13T18:11:27.719Z"
   },
   {
    "duration": 7,
    "start_time": "2023-11-13T18:11:27.815Z"
   },
   {
    "duration": 3,
    "start_time": "2023-11-13T18:11:27.824Z"
   },
   {
    "duration": 7,
    "start_time": "2023-11-13T18:11:27.828Z"
   },
   {
    "duration": 15,
    "start_time": "2023-11-13T18:11:27.836Z"
   },
   {
    "duration": 7,
    "start_time": "2023-11-13T18:11:27.852Z"
   },
   {
    "duration": 13,
    "start_time": "2023-11-13T18:11:27.860Z"
   },
   {
    "duration": 12,
    "start_time": "2023-11-13T18:11:27.912Z"
   },
   {
    "duration": 12,
    "start_time": "2023-11-13T18:11:27.926Z"
   },
   {
    "duration": 10,
    "start_time": "2023-11-13T18:11:27.939Z"
   },
   {
    "duration": 17,
    "start_time": "2023-11-13T18:11:27.950Z"
   },
   {
    "duration": 10,
    "start_time": "2023-11-13T18:11:27.968Z"
   },
   {
    "duration": 31,
    "start_time": "2023-11-13T18:11:27.980Z"
   },
   {
    "duration": 13,
    "start_time": "2023-11-13T18:11:28.013Z"
   },
   {
    "duration": 7,
    "start_time": "2023-11-13T18:11:28.027Z"
   },
   {
    "duration": 6,
    "start_time": "2023-11-13T18:11:28.036Z"
   },
   {
    "duration": 16,
    "start_time": "2023-11-13T18:11:28.044Z"
   },
   {
    "duration": 6,
    "start_time": "2023-11-13T18:11:28.062Z"
   },
   {
    "duration": 54,
    "start_time": "2023-11-13T18:11:28.069Z"
   },
   {
    "duration": 7,
    "start_time": "2023-11-13T18:11:28.124Z"
   },
   {
    "duration": 6,
    "start_time": "2023-11-13T18:16:48.789Z"
   },
   {
    "duration": 7066,
    "start_time": "2023-11-13T18:21:16.908Z"
   },
   {
    "duration": 427,
    "start_time": "2023-11-13T18:21:23.976Z"
   },
   {
    "duration": 31,
    "start_time": "2023-11-13T18:21:24.405Z"
   },
   {
    "duration": 52,
    "start_time": "2023-11-13T18:21:24.438Z"
   },
   {
    "duration": 7,
    "start_time": "2023-11-13T18:21:24.512Z"
   },
   {
    "duration": 37,
    "start_time": "2023-11-13T18:21:24.520Z"
   },
   {
    "duration": 54,
    "start_time": "2023-11-13T18:21:24.558Z"
   },
   {
    "duration": 7,
    "start_time": "2023-11-13T18:21:24.614Z"
   },
   {
    "duration": 26,
    "start_time": "2023-11-13T18:21:24.622Z"
   },
   {
    "duration": 66,
    "start_time": "2023-11-13T18:21:24.650Z"
   },
   {
    "duration": 8,
    "start_time": "2023-11-13T18:21:24.717Z"
   },
   {
    "duration": 459,
    "start_time": "2023-11-13T18:21:24.726Z"
   },
   {
    "duration": 5,
    "start_time": "2023-11-13T18:21:25.187Z"
   },
   {
    "duration": 752,
    "start_time": "2023-11-13T18:21:25.194Z"
   },
   {
    "duration": 435,
    "start_time": "2023-11-13T18:21:25.948Z"
   },
   {
    "duration": 628,
    "start_time": "2023-11-13T18:21:26.385Z"
   },
   {
    "duration": 399,
    "start_time": "2023-11-13T18:21:27.015Z"
   },
   {
    "duration": 735,
    "start_time": "2023-11-13T18:21:27.416Z"
   },
   {
    "duration": 436,
    "start_time": "2023-11-13T18:21:28.152Z"
   },
   {
    "duration": 2352,
    "start_time": "2023-11-13T18:21:28.590Z"
   },
   {
    "duration": 4,
    "start_time": "2023-11-13T18:21:30.943Z"
   },
   {
    "duration": 44,
    "start_time": "2023-11-13T18:21:30.948Z"
   },
   {
    "duration": 32,
    "start_time": "2023-11-13T18:21:30.994Z"
   },
   {
    "duration": 38,
    "start_time": "2023-11-13T18:21:31.028Z"
   },
   {
    "duration": 55,
    "start_time": "2023-11-13T18:21:31.068Z"
   },
   {
    "duration": 57,
    "start_time": "2023-11-13T18:21:31.124Z"
   },
   {
    "duration": 64,
    "start_time": "2023-11-13T18:21:31.183Z"
   },
   {
    "duration": 180,
    "start_time": "2023-11-13T18:21:31.252Z"
   },
   {
    "duration": 29,
    "start_time": "2023-11-13T18:21:31.433Z"
   },
   {
    "duration": 18,
    "start_time": "2023-11-13T18:21:31.464Z"
   },
   {
    "duration": 51,
    "start_time": "2023-11-13T18:21:31.484Z"
   },
   {
    "duration": 181,
    "start_time": "2023-11-13T18:21:31.537Z"
   },
   {
    "duration": 100,
    "start_time": "2023-11-13T18:21:31.720Z"
   },
   {
    "duration": 92,
    "start_time": "2023-11-13T18:21:31.822Z"
   },
   {
    "duration": 93,
    "start_time": "2023-11-13T18:21:31.919Z"
   },
   {
    "duration": 4,
    "start_time": "2023-11-13T18:21:32.013Z"
   },
   {
    "duration": 17,
    "start_time": "2023-11-13T18:21:32.019Z"
   },
   {
    "duration": 9,
    "start_time": "2023-11-13T18:21:32.038Z"
   },
   {
    "duration": 28,
    "start_time": "2023-11-13T18:21:32.049Z"
   },
   {
    "duration": 33,
    "start_time": "2023-11-13T18:21:32.079Z"
   },
   {
    "duration": 12,
    "start_time": "2023-11-13T18:21:32.113Z"
   },
   {
    "duration": 14,
    "start_time": "2023-11-13T18:21:32.127Z"
   },
   {
    "duration": 9,
    "start_time": "2023-11-13T18:21:32.143Z"
   },
   {
    "duration": 17,
    "start_time": "2023-11-13T18:21:32.154Z"
   },
   {
    "duration": 10,
    "start_time": "2023-11-13T18:21:32.173Z"
   },
   {
    "duration": 28,
    "start_time": "2023-11-13T18:21:32.184Z"
   },
   {
    "duration": 13,
    "start_time": "2023-11-13T18:21:32.213Z"
   },
   {
    "duration": 6,
    "start_time": "2023-11-13T18:21:32.228Z"
   },
   {
    "duration": 6,
    "start_time": "2023-11-13T18:21:32.237Z"
   },
   {
    "duration": 17,
    "start_time": "2023-11-13T18:21:32.244Z"
   },
   {
    "duration": 6,
    "start_time": "2023-11-13T18:21:32.262Z"
   },
   {
    "duration": 52,
    "start_time": "2023-11-13T18:21:32.270Z"
   },
   {
    "duration": 6,
    "start_time": "2023-11-13T18:21:32.324Z"
   },
   {
    "duration": 11,
    "start_time": "2023-11-13T18:34:20.926Z"
   },
   {
    "duration": 3,
    "start_time": "2023-11-13T18:34:21.378Z"
   },
   {
    "duration": 14,
    "start_time": "2023-11-13T18:34:21.842Z"
   },
   {
    "duration": 7,
    "start_time": "2023-11-13T18:34:22.933Z"
   },
   {
    "duration": 17,
    "start_time": "2023-11-13T18:34:27.185Z"
   },
   {
    "duration": 78,
    "start_time": "2023-11-13T18:34:59.175Z"
   },
   {
    "duration": 6,
    "start_time": "2023-11-13T18:35:04.575Z"
   },
   {
    "duration": 6,
    "start_time": "2023-11-13T18:35:38.434Z"
   },
   {
    "duration": 21,
    "start_time": "2023-11-13T18:36:08.209Z"
   },
   {
    "duration": 8,
    "start_time": "2023-11-13T18:38:01.925Z"
   },
   {
    "duration": 7,
    "start_time": "2023-11-13T18:38:25.241Z"
   },
   {
    "duration": 127,
    "start_time": "2023-11-13T18:39:18.243Z"
   },
   {
    "duration": 384,
    "start_time": "2023-11-13T18:39:45.899Z"
   },
   {
    "duration": 23,
    "start_time": "2023-11-13T18:40:13.200Z"
   },
   {
    "duration": 21,
    "start_time": "2023-11-13T18:40:21.355Z"
   },
   {
    "duration": 637,
    "start_time": "2023-11-13T18:41:05.132Z"
   },
   {
    "duration": 13,
    "start_time": "2023-11-13T18:41:17.546Z"
   },
   {
    "duration": 652,
    "start_time": "2023-11-13T18:41:22.951Z"
   },
   {
    "duration": 5,
    "start_time": "2023-11-13T18:42:41.909Z"
   },
   {
    "duration": 27,
    "start_time": "2023-11-13T18:43:27.022Z"
   },
   {
    "duration": 6,
    "start_time": "2023-11-13T18:43:27.436Z"
   },
   {
    "duration": 4,
    "start_time": "2023-11-13T18:43:27.661Z"
   },
   {
    "duration": 3,
    "start_time": "2023-11-13T18:43:28.190Z"
   },
   {
    "duration": 11,
    "start_time": "2023-11-13T18:44:00.697Z"
   },
   {
    "duration": 10,
    "start_time": "2023-11-13T18:45:14.486Z"
   },
   {
    "duration": 3,
    "start_time": "2023-11-13T18:45:14.994Z"
   },
   {
    "duration": 5,
    "start_time": "2023-11-13T18:59:30.644Z"
   },
   {
    "duration": 6,
    "start_time": "2023-11-13T18:59:31.087Z"
   },
   {
    "duration": 26,
    "start_time": "2023-11-13T18:59:48.595Z"
   },
   {
    "duration": 7,
    "start_time": "2023-11-13T18:59:49.333Z"
   },
   {
    "duration": 7,
    "start_time": "2023-11-13T19:01:15.226Z"
   },
   {
    "duration": 17,
    "start_time": "2023-11-13T19:01:15.419Z"
   },
   {
    "duration": 7,
    "start_time": "2023-11-13T19:01:15.585Z"
   },
   {
    "duration": 24,
    "start_time": "2023-11-13T19:01:36.458Z"
   },
   {
    "duration": 7,
    "start_time": "2023-11-13T19:01:36.647Z"
   },
   {
    "duration": 23,
    "start_time": "2023-11-13T19:02:16.211Z"
   },
   {
    "duration": 4,
    "start_time": "2023-11-13T19:05:36.323Z"
   },
   {
    "duration": 4,
    "start_time": "2023-11-13T19:05:36.524Z"
   },
   {
    "duration": 4,
    "start_time": "2023-11-13T19:05:51.200Z"
   },
   {
    "duration": 4,
    "start_time": "2023-11-13T19:05:51.399Z"
   },
   {
    "duration": 7122,
    "start_time": "2023-11-13T19:15:28.650Z"
   },
   {
    "duration": 434,
    "start_time": "2023-11-13T19:15:35.774Z"
   },
   {
    "duration": 30,
    "start_time": "2023-11-13T19:15:36.211Z"
   },
   {
    "duration": 47,
    "start_time": "2023-11-13T19:15:36.243Z"
   },
   {
    "duration": 8,
    "start_time": "2023-11-13T19:15:36.313Z"
   },
   {
    "duration": 29,
    "start_time": "2023-11-13T19:15:36.323Z"
   },
   {
    "duration": 68,
    "start_time": "2023-11-13T19:15:36.353Z"
   },
   {
    "duration": 6,
    "start_time": "2023-11-13T19:15:36.423Z"
   },
   {
    "duration": 26,
    "start_time": "2023-11-13T19:15:36.430Z"
   },
   {
    "duration": 59,
    "start_time": "2023-11-13T19:15:36.457Z"
   },
   {
    "duration": 6,
    "start_time": "2023-11-13T19:15:36.518Z"
   },
   {
    "duration": 443,
    "start_time": "2023-11-13T19:15:36.526Z"
   },
   {
    "duration": 6,
    "start_time": "2023-11-13T19:15:36.970Z"
   },
   {
    "duration": 694,
    "start_time": "2023-11-13T19:15:36.978Z"
   },
   {
    "duration": 384,
    "start_time": "2023-11-13T19:15:37.673Z"
   },
   {
    "duration": 582,
    "start_time": "2023-11-13T19:15:38.059Z"
   },
   {
    "duration": 369,
    "start_time": "2023-11-13T19:15:38.642Z"
   },
   {
    "duration": 652,
    "start_time": "2023-11-13T19:15:39.013Z"
   },
   {
    "duration": 385,
    "start_time": "2023-11-13T19:15:39.667Z"
   },
   {
    "duration": 2257,
    "start_time": "2023-11-13T19:15:40.054Z"
   },
   {
    "duration": 3,
    "start_time": "2023-11-13T19:15:42.312Z"
   },
   {
    "duration": 14,
    "start_time": "2023-11-13T19:15:42.317Z"
   },
   {
    "duration": 6,
    "start_time": "2023-11-13T19:15:42.332Z"
   },
   {
    "duration": 17,
    "start_time": "2023-11-13T19:15:42.340Z"
   },
   {
    "duration": 13,
    "start_time": "2023-11-13T19:15:42.359Z"
   },
   {
    "duration": 15,
    "start_time": "2023-11-13T19:15:42.374Z"
   },
   {
    "duration": 19,
    "start_time": "2023-11-13T19:15:42.410Z"
   },
   {
    "duration": 178,
    "start_time": "2023-11-13T19:15:42.434Z"
   },
   {
    "duration": 13,
    "start_time": "2023-11-13T19:15:42.614Z"
   },
   {
    "duration": 3,
    "start_time": "2023-11-13T19:15:42.628Z"
   },
   {
    "duration": 86,
    "start_time": "2023-11-13T19:15:42.633Z"
   },
   {
    "duration": 101,
    "start_time": "2023-11-13T19:15:42.721Z"
   },
   {
    "duration": 198,
    "start_time": "2023-11-13T19:15:42.914Z"
   },
   {
    "duration": 5,
    "start_time": "2023-11-13T19:15:43.114Z"
   },
   {
    "duration": 25,
    "start_time": "2023-11-13T19:15:43.121Z"
   },
   {
    "duration": 18,
    "start_time": "2023-11-13T19:15:43.148Z"
   },
   {
    "duration": 9,
    "start_time": "2023-11-13T19:15:43.168Z"
   },
   {
    "duration": 32,
    "start_time": "2023-11-13T19:15:43.179Z"
   },
   {
    "duration": 5,
    "start_time": "2023-11-13T19:15:43.213Z"
   },
   {
    "duration": 15,
    "start_time": "2023-11-13T19:15:43.220Z"
   },
   {
    "duration": 13,
    "start_time": "2023-11-13T19:15:43.241Z"
   },
   {
    "duration": 13,
    "start_time": "2023-11-13T19:15:43.255Z"
   },
   {
    "duration": 45,
    "start_time": "2023-11-13T19:15:43.269Z"
   },
   {
    "duration": 12,
    "start_time": "2023-11-13T19:15:43.315Z"
   },
   {
    "duration": 6,
    "start_time": "2023-11-13T19:15:43.328Z"
   },
   {
    "duration": 15,
    "start_time": "2023-11-13T19:15:43.336Z"
   },
   {
    "duration": 136,
    "start_time": "2023-11-13T19:15:43.353Z"
   },
   {
    "duration": 0,
    "start_time": "2023-11-13T19:15:43.491Z"
   },
   {
    "duration": 0,
    "start_time": "2023-11-13T19:15:43.492Z"
   },
   {
    "duration": 0,
    "start_time": "2023-11-13T19:15:43.493Z"
   },
   {
    "duration": 0,
    "start_time": "2023-11-13T19:15:43.494Z"
   },
   {
    "duration": 0,
    "start_time": "2023-11-13T19:15:43.496Z"
   },
   {
    "duration": 0,
    "start_time": "2023-11-13T19:15:43.497Z"
   },
   {
    "duration": 0,
    "start_time": "2023-11-13T19:15:43.511Z"
   },
   {
    "duration": 0,
    "start_time": "2023-11-13T19:15:43.513Z"
   },
   {
    "duration": 0,
    "start_time": "2023-11-13T19:15:43.514Z"
   },
   {
    "duration": 20,
    "start_time": "2023-11-13T19:15:45.890Z"
   },
   {
    "duration": 26,
    "start_time": "2023-11-13T19:17:10.912Z"
   },
   {
    "duration": 95,
    "start_time": "2023-11-13T19:17:13.768Z"
   },
   {
    "duration": 2,
    "start_time": "2023-11-13T19:17:14.193Z"
   },
   {
    "duration": 6,
    "start_time": "2023-11-13T19:17:21.307Z"
   },
   {
    "duration": 3,
    "start_time": "2023-11-13T19:17:22.545Z"
   },
   {
    "duration": 20,
    "start_time": "2023-11-13T19:17:22.771Z"
   },
   {
    "duration": 20,
    "start_time": "2023-11-13T19:18:05.670Z"
   },
   {
    "duration": 21,
    "start_time": "2023-11-13T19:18:06.190Z"
   },
   {
    "duration": 4,
    "start_time": "2023-11-13T19:19:02.291Z"
   },
   {
    "duration": 4,
    "start_time": "2023-11-13T19:19:02.489Z"
   },
   {
    "duration": 4,
    "start_time": "2023-11-13T19:19:02.636Z"
   },
   {
    "duration": 18,
    "start_time": "2023-11-13T19:28:25.444Z"
   },
   {
    "duration": 14,
    "start_time": "2023-11-13T19:28:39.044Z"
   },
   {
    "duration": 9,
    "start_time": "2023-11-13T19:29:17.927Z"
   },
   {
    "duration": 16,
    "start_time": "2023-11-13T19:29:18.127Z"
   },
   {
    "duration": 7029,
    "start_time": "2023-11-13T19:29:25.437Z"
   },
   {
    "duration": 413,
    "start_time": "2023-11-13T19:29:32.469Z"
   },
   {
    "duration": 35,
    "start_time": "2023-11-13T19:29:32.884Z"
   },
   {
    "duration": 47,
    "start_time": "2023-11-13T19:29:32.921Z"
   },
   {
    "duration": 7,
    "start_time": "2023-11-13T19:29:32.970Z"
   },
   {
    "duration": 45,
    "start_time": "2023-11-13T19:29:32.979Z"
   },
   {
    "duration": 44,
    "start_time": "2023-11-13T19:29:33.026Z"
   },
   {
    "duration": 7,
    "start_time": "2023-11-13T19:29:33.071Z"
   },
   {
    "duration": 48,
    "start_time": "2023-11-13T19:29:33.079Z"
   },
   {
    "duration": 44,
    "start_time": "2023-11-13T19:29:33.129Z"
   },
   {
    "duration": 6,
    "start_time": "2023-11-13T19:29:33.175Z"
   },
   {
    "duration": 469,
    "start_time": "2023-11-13T19:29:33.183Z"
   },
   {
    "duration": 6,
    "start_time": "2023-11-13T19:29:33.653Z"
   },
   {
    "duration": 686,
    "start_time": "2023-11-13T19:29:33.660Z"
   },
   {
    "duration": 389,
    "start_time": "2023-11-13T19:29:34.347Z"
   },
   {
    "duration": 593,
    "start_time": "2023-11-13T19:29:34.737Z"
   },
   {
    "duration": 360,
    "start_time": "2023-11-13T19:29:35.331Z"
   },
   {
    "duration": 700,
    "start_time": "2023-11-13T19:29:35.693Z"
   },
   {
    "duration": 375,
    "start_time": "2023-11-13T19:29:36.395Z"
   },
   {
    "duration": 2379,
    "start_time": "2023-11-13T19:29:36.771Z"
   },
   {
    "duration": 3,
    "start_time": "2023-11-13T19:29:39.151Z"
   },
   {
    "duration": 11,
    "start_time": "2023-11-13T19:29:39.156Z"
   },
   {
    "duration": 4,
    "start_time": "2023-11-13T19:29:39.168Z"
   },
   {
    "duration": 42,
    "start_time": "2023-11-13T19:29:39.173Z"
   },
   {
    "duration": 14,
    "start_time": "2023-11-13T19:29:39.216Z"
   },
   {
    "duration": 14,
    "start_time": "2023-11-13T19:29:39.233Z"
   },
   {
    "duration": 64,
    "start_time": "2023-11-13T19:29:39.249Z"
   },
   {
    "duration": 100,
    "start_time": "2023-11-13T19:29:39.319Z"
   },
   {
    "duration": 10,
    "start_time": "2023-11-13T19:29:39.421Z"
   },
   {
    "duration": 7,
    "start_time": "2023-11-13T19:29:39.433Z"
   },
   {
    "duration": 14,
    "start_time": "2023-11-13T19:29:39.511Z"
   },
   {
    "duration": 186,
    "start_time": "2023-11-13T19:29:39.528Z"
   },
   {
    "duration": 102,
    "start_time": "2023-11-13T19:29:39.716Z"
   },
   {
    "duration": 93,
    "start_time": "2023-11-13T19:29:39.820Z"
   },
   {
    "duration": 9,
    "start_time": "2023-11-13T19:29:39.915Z"
   },
   {
    "duration": 9,
    "start_time": "2023-11-13T19:29:39.926Z"
   },
   {
    "duration": 15,
    "start_time": "2023-11-13T19:29:39.936Z"
   },
   {
    "duration": 6,
    "start_time": "2023-11-13T19:29:39.952Z"
   },
   {
    "duration": 5,
    "start_time": "2023-11-13T19:29:40.012Z"
   },
   {
    "duration": 20,
    "start_time": "2023-11-13T19:29:40.019Z"
   },
   {
    "duration": 13,
    "start_time": "2023-11-13T19:29:40.041Z"
   },
   {
    "duration": 18,
    "start_time": "2023-11-13T19:29:40.057Z"
   },
   {
    "duration": 37,
    "start_time": "2023-11-13T19:29:40.077Z"
   },
   {
    "duration": 17,
    "start_time": "2023-11-13T19:29:40.115Z"
   },
   {
    "duration": 6,
    "start_time": "2023-11-13T19:29:40.133Z"
   },
   {
    "duration": 24,
    "start_time": "2023-11-13T19:29:40.140Z"
   },
   {
    "duration": 22,
    "start_time": "2023-11-13T19:29:40.166Z"
   },
   {
    "duration": 21,
    "start_time": "2023-11-13T19:29:40.210Z"
   },
   {
    "duration": 4,
    "start_time": "2023-11-13T19:29:40.233Z"
   },
   {
    "duration": 12,
    "start_time": "2023-11-13T19:29:40.238Z"
   },
   {
    "duration": 6,
    "start_time": "2023-11-13T19:29:40.252Z"
   },
   {
    "duration": 5,
    "start_time": "2023-11-13T19:30:40.578Z"
   },
   {
    "duration": 21,
    "start_time": "2023-11-13T19:30:41.752Z"
   },
   {
    "duration": 21,
    "start_time": "2023-11-13T19:30:42.169Z"
   },
   {
    "duration": 24,
    "start_time": "2023-11-13T19:30:42.398Z"
   },
   {
    "duration": 4,
    "start_time": "2023-11-13T19:30:42.548Z"
   },
   {
    "duration": 6,
    "start_time": "2023-11-13T19:30:42.821Z"
   },
   {
    "duration": 4,
    "start_time": "2023-11-13T19:30:43.080Z"
   },
   {
    "duration": 3863,
    "start_time": "2023-11-13T19:33:35.006Z"
   },
   {
    "duration": 427,
    "start_time": "2023-11-13T19:33:38.871Z"
   },
   {
    "duration": 33,
    "start_time": "2023-11-13T19:33:39.303Z"
   },
   {
    "duration": 47,
    "start_time": "2023-11-13T19:33:39.338Z"
   },
   {
    "duration": 28,
    "start_time": "2023-11-13T19:33:39.387Z"
   },
   {
    "duration": 23,
    "start_time": "2023-11-13T19:33:39.416Z"
   },
   {
    "duration": 40,
    "start_time": "2023-11-13T19:33:39.440Z"
   },
   {
    "duration": 6,
    "start_time": "2023-11-13T19:33:39.481Z"
   },
   {
    "duration": 22,
    "start_time": "2023-11-13T19:33:39.510Z"
   },
   {
    "duration": 42,
    "start_time": "2023-11-13T19:33:39.533Z"
   },
   {
    "duration": 7,
    "start_time": "2023-11-13T19:33:39.577Z"
   },
   {
    "duration": 465,
    "start_time": "2023-11-13T19:33:39.586Z"
   },
   {
    "duration": 5,
    "start_time": "2023-11-13T19:33:40.053Z"
   },
   {
    "duration": 599,
    "start_time": "2023-11-13T19:33:40.060Z"
   },
   {
    "duration": 473,
    "start_time": "2023-11-13T19:33:40.661Z"
   },
   {
    "duration": 597,
    "start_time": "2023-11-13T19:33:41.136Z"
   },
   {
    "duration": 379,
    "start_time": "2023-11-13T19:33:41.734Z"
   },
   {
    "duration": 562,
    "start_time": "2023-11-13T19:33:42.115Z"
   },
   {
    "duration": 482,
    "start_time": "2023-11-13T19:33:42.678Z"
   },
   {
    "duration": 2250,
    "start_time": "2023-11-13T19:33:43.162Z"
   },
   {
    "duration": 2,
    "start_time": "2023-11-13T19:33:45.414Z"
   },
   {
    "duration": 22,
    "start_time": "2023-11-13T19:33:45.418Z"
   },
   {
    "duration": 9,
    "start_time": "2023-11-13T19:33:45.442Z"
   },
   {
    "duration": 15,
    "start_time": "2023-11-13T19:33:45.453Z"
   },
   {
    "duration": 13,
    "start_time": "2023-11-13T19:33:45.470Z"
   },
   {
    "duration": 12,
    "start_time": "2023-11-13T19:33:45.484Z"
   },
   {
    "duration": 17,
    "start_time": "2023-11-13T19:33:45.512Z"
   },
   {
    "duration": 85,
    "start_time": "2023-11-13T19:33:45.531Z"
   },
   {
    "duration": 97,
    "start_time": "2023-11-13T19:33:45.618Z"
   },
   {
    "duration": 3,
    "start_time": "2023-11-13T19:33:45.717Z"
   },
   {
    "duration": 89,
    "start_time": "2023-11-13T19:33:45.722Z"
   },
   {
    "duration": 103,
    "start_time": "2023-11-13T19:33:45.814Z"
   },
   {
    "duration": 100,
    "start_time": "2023-11-13T19:33:45.919Z"
   },
   {
    "duration": 94,
    "start_time": "2023-11-13T19:33:46.021Z"
   },
   {
    "duration": 100,
    "start_time": "2023-11-13T19:33:46.118Z"
   },
   {
    "duration": 4,
    "start_time": "2023-11-13T19:33:46.220Z"
   },
   {
    "duration": 13,
    "start_time": "2023-11-13T19:33:46.225Z"
   },
   {
    "duration": 6,
    "start_time": "2023-11-13T19:33:46.239Z"
   },
   {
    "duration": 6,
    "start_time": "2023-11-13T19:33:46.246Z"
   },
   {
    "duration": 65,
    "start_time": "2023-11-13T19:33:46.253Z"
   },
   {
    "duration": 13,
    "start_time": "2023-11-13T19:33:46.320Z"
   },
   {
    "duration": 14,
    "start_time": "2023-11-13T19:33:46.334Z"
   },
   {
    "duration": 62,
    "start_time": "2023-11-13T19:33:46.349Z"
   },
   {
    "duration": 10,
    "start_time": "2023-11-13T19:33:46.413Z"
   },
   {
    "duration": 27,
    "start_time": "2023-11-13T19:33:46.424Z"
   },
   {
    "duration": 74,
    "start_time": "2023-11-13T19:33:46.453Z"
   },
   {
    "duration": 20,
    "start_time": "2023-11-13T19:33:46.528Z"
   },
   {
    "duration": 4,
    "start_time": "2023-11-13T19:33:46.549Z"
   },
   {
    "duration": 4,
    "start_time": "2023-11-13T19:33:46.612Z"
   },
   {
    "duration": 4,
    "start_time": "2023-11-13T19:33:46.617Z"
   },
   {
    "duration": 122,
    "start_time": "2023-11-13T19:48:29.676Z"
   },
   {
    "duration": 9,
    "start_time": "2023-11-13T19:48:47.060Z"
   },
   {
    "duration": 63,
    "start_time": "2023-11-13T19:48:48.519Z"
   },
   {
    "duration": 81,
    "start_time": "2023-11-13T19:49:48.564Z"
   },
   {
    "duration": 4,
    "start_time": "2023-11-13T19:49:57.543Z"
   },
   {
    "duration": 6,
    "start_time": "2023-11-13T19:50:08.928Z"
   },
   {
    "duration": 4,
    "start_time": "2023-11-13T20:00:57.465Z"
   },
   {
    "duration": 10,
    "start_time": "2023-11-13T20:00:57.470Z"
   },
   {
    "duration": 4354,
    "start_time": "2023-11-13T20:01:29.646Z"
   },
   {
    "duration": 490,
    "start_time": "2023-11-13T20:01:34.003Z"
   },
   {
    "duration": 43,
    "start_time": "2023-11-13T20:01:34.498Z"
   },
   {
    "duration": 47,
    "start_time": "2023-11-13T20:01:34.543Z"
   },
   {
    "duration": 22,
    "start_time": "2023-11-13T20:01:34.592Z"
   },
   {
    "duration": 32,
    "start_time": "2023-11-13T20:01:34.617Z"
   },
   {
    "duration": 63,
    "start_time": "2023-11-13T20:01:34.651Z"
   },
   {
    "duration": 12,
    "start_time": "2023-11-13T20:01:34.716Z"
   },
   {
    "duration": 34,
    "start_time": "2023-11-13T20:01:34.731Z"
   },
   {
    "duration": 76,
    "start_time": "2023-11-13T20:01:34.767Z"
   },
   {
    "duration": 8,
    "start_time": "2023-11-13T20:01:34.844Z"
   },
   {
    "duration": 82,
    "start_time": "2023-11-13T20:01:34.854Z"
   },
   {
    "duration": 0,
    "start_time": "2023-11-13T20:01:34.939Z"
   },
   {
    "duration": 0,
    "start_time": "2023-11-13T20:01:34.940Z"
   },
   {
    "duration": 0,
    "start_time": "2023-11-13T20:01:34.941Z"
   },
   {
    "duration": 0,
    "start_time": "2023-11-13T20:01:34.942Z"
   },
   {
    "duration": 0,
    "start_time": "2023-11-13T20:01:34.943Z"
   },
   {
    "duration": 0,
    "start_time": "2023-11-13T20:01:34.944Z"
   },
   {
    "duration": 0,
    "start_time": "2023-11-13T20:01:34.945Z"
   },
   {
    "duration": 0,
    "start_time": "2023-11-13T20:01:34.947Z"
   },
   {
    "duration": 0,
    "start_time": "2023-11-13T20:01:34.948Z"
   },
   {
    "duration": 0,
    "start_time": "2023-11-13T20:01:34.951Z"
   },
   {
    "duration": 0,
    "start_time": "2023-11-13T20:01:34.952Z"
   },
   {
    "duration": 0,
    "start_time": "2023-11-13T20:01:34.952Z"
   },
   {
    "duration": 0,
    "start_time": "2023-11-13T20:01:34.954Z"
   },
   {
    "duration": 0,
    "start_time": "2023-11-13T20:01:34.955Z"
   },
   {
    "duration": 0,
    "start_time": "2023-11-13T20:01:34.956Z"
   },
   {
    "duration": 0,
    "start_time": "2023-11-13T20:01:34.957Z"
   },
   {
    "duration": 0,
    "start_time": "2023-11-13T20:01:34.959Z"
   },
   {
    "duration": 0,
    "start_time": "2023-11-13T20:01:34.960Z"
   },
   {
    "duration": 0,
    "start_time": "2023-11-13T20:01:34.961Z"
   },
   {
    "duration": 0,
    "start_time": "2023-11-13T20:01:34.962Z"
   },
   {
    "duration": 0,
    "start_time": "2023-11-13T20:01:34.963Z"
   },
   {
    "duration": 0,
    "start_time": "2023-11-13T20:01:34.964Z"
   },
   {
    "duration": 0,
    "start_time": "2023-11-13T20:01:34.966Z"
   },
   {
    "duration": 0,
    "start_time": "2023-11-13T20:01:34.967Z"
   },
   {
    "duration": 0,
    "start_time": "2023-11-13T20:01:34.969Z"
   },
   {
    "duration": 0,
    "start_time": "2023-11-13T20:01:34.970Z"
   },
   {
    "duration": 0,
    "start_time": "2023-11-13T20:01:34.971Z"
   },
   {
    "duration": 0,
    "start_time": "2023-11-13T20:01:34.972Z"
   },
   {
    "duration": 0,
    "start_time": "2023-11-13T20:01:34.973Z"
   },
   {
    "duration": 0,
    "start_time": "2023-11-13T20:01:34.975Z"
   },
   {
    "duration": 0,
    "start_time": "2023-11-13T20:01:35.016Z"
   },
   {
    "duration": 0,
    "start_time": "2023-11-13T20:01:35.018Z"
   },
   {
    "duration": 0,
    "start_time": "2023-11-13T20:01:35.020Z"
   },
   {
    "duration": 0,
    "start_time": "2023-11-13T20:01:35.021Z"
   },
   {
    "duration": 0,
    "start_time": "2023-11-13T20:01:35.023Z"
   },
   {
    "duration": 0,
    "start_time": "2023-11-13T20:01:35.028Z"
   },
   {
    "duration": 0,
    "start_time": "2023-11-13T20:01:35.030Z"
   },
   {
    "duration": 0,
    "start_time": "2023-11-13T20:01:35.032Z"
   },
   {
    "duration": 0,
    "start_time": "2023-11-13T20:01:35.034Z"
   },
   {
    "duration": 0,
    "start_time": "2023-11-13T20:01:35.036Z"
   },
   {
    "duration": 508,
    "start_time": "2023-11-13T20:02:14.917Z"
   },
   {
    "duration": 6,
    "start_time": "2023-11-13T20:02:15.427Z"
   },
   {
    "duration": 415,
    "start_time": "2023-11-13T20:02:15.434Z"
   },
   {
    "duration": 716,
    "start_time": "2023-11-13T20:02:15.851Z"
   },
   {
    "duration": 399,
    "start_time": "2023-11-13T20:02:16.568Z"
   },
   {
    "duration": 614,
    "start_time": "2023-11-13T20:02:16.968Z"
   },
   {
    "duration": 407,
    "start_time": "2023-11-13T20:02:17.584Z"
   },
   {
    "duration": 2427,
    "start_time": "2023-11-13T20:02:17.992Z"
   },
   {
    "duration": 4,
    "start_time": "2023-11-13T20:02:20.421Z"
   },
   {
    "duration": 17,
    "start_time": "2023-11-13T20:02:20.427Z"
   },
   {
    "duration": 8,
    "start_time": "2023-11-13T20:02:20.445Z"
   },
   {
    "duration": 15,
    "start_time": "2023-11-13T20:02:20.454Z"
   },
   {
    "duration": 19,
    "start_time": "2023-11-13T20:02:20.471Z"
   },
   {
    "duration": 27,
    "start_time": "2023-11-13T20:02:20.492Z"
   },
   {
    "duration": 19,
    "start_time": "2023-11-13T20:02:20.520Z"
   },
   {
    "duration": 102,
    "start_time": "2023-11-13T20:02:20.612Z"
   },
   {
    "duration": 15,
    "start_time": "2023-11-13T20:02:20.719Z"
   },
   {
    "duration": 3,
    "start_time": "2023-11-13T20:02:20.735Z"
   },
   {
    "duration": 73,
    "start_time": "2023-11-13T20:02:20.739Z"
   },
   {
    "duration": 100,
    "start_time": "2023-11-13T20:02:20.815Z"
   },
   {
    "duration": 98,
    "start_time": "2023-11-13T20:02:20.918Z"
   },
   {
    "duration": 10,
    "start_time": "2023-11-13T20:02:21.020Z"
   },
   {
    "duration": 10,
    "start_time": "2023-11-13T20:02:21.118Z"
   },
   {
    "duration": 3,
    "start_time": "2023-11-13T20:02:21.130Z"
   },
   {
    "duration": 8,
    "start_time": "2023-11-13T20:02:21.135Z"
   },
   {
    "duration": 4,
    "start_time": "2023-11-13T20:02:21.145Z"
   },
   {
    "duration": 5,
    "start_time": "2023-11-13T20:02:21.151Z"
   },
   {
    "duration": 15,
    "start_time": "2023-11-13T20:02:27.199Z"
   },
   {
    "duration": 14,
    "start_time": "2023-11-13T20:02:27.231Z"
   },
   {
    "duration": 18,
    "start_time": "2023-11-13T20:02:28.656Z"
   },
   {
    "duration": 13,
    "start_time": "2023-11-13T20:02:30.250Z"
   },
   {
    "duration": 10,
    "start_time": "2023-11-13T20:02:32.271Z"
   },
   {
    "duration": 4,
    "start_time": "2023-11-13T20:02:32.955Z"
   },
   {
    "duration": 6,
    "start_time": "2023-11-13T20:02:33.297Z"
   },
   {
    "duration": 1569,
    "start_time": "2023-11-13T20:02:37.437Z"
   },
   {
    "duration": 1622,
    "start_time": "2023-11-13T20:02:39.008Z"
   },
   {
    "duration": 1660,
    "start_time": "2023-11-13T20:02:40.632Z"
   },
   {
    "duration": 4,
    "start_time": "2023-11-13T20:02:42.295Z"
   },
   {
    "duration": 5,
    "start_time": "2023-11-13T20:02:42.312Z"
   },
   {
    "duration": 24,
    "start_time": "2023-11-13T20:02:42.319Z"
   },
   {
    "duration": 134,
    "start_time": "2023-11-13T20:04:43.691Z"
   },
   {
    "duration": 4269,
    "start_time": "2023-11-13T20:08:23.510Z"
   },
   {
    "duration": 481,
    "start_time": "2023-11-13T20:08:27.782Z"
   },
   {
    "duration": 30,
    "start_time": "2023-11-13T20:08:28.264Z"
   },
   {
    "duration": 69,
    "start_time": "2023-11-13T20:08:28.296Z"
   },
   {
    "duration": 8,
    "start_time": "2023-11-13T20:08:28.366Z"
   },
   {
    "duration": 40,
    "start_time": "2023-11-13T20:08:28.376Z"
   },
   {
    "duration": 52,
    "start_time": "2023-11-13T20:08:28.419Z"
   },
   {
    "duration": 6,
    "start_time": "2023-11-13T20:08:28.473Z"
   },
   {
    "duration": 60,
    "start_time": "2023-11-13T20:08:28.481Z"
   },
   {
    "duration": 51,
    "start_time": "2023-11-13T20:08:28.544Z"
   },
   {
    "duration": 22,
    "start_time": "2023-11-13T20:08:28.597Z"
   },
   {
    "duration": 496,
    "start_time": "2023-11-13T20:08:28.621Z"
   },
   {
    "duration": 7,
    "start_time": "2023-11-13T20:08:29.118Z"
   },
   {
    "duration": 445,
    "start_time": "2023-11-13T20:08:29.127Z"
   },
   {
    "duration": 783,
    "start_time": "2023-11-13T20:08:29.574Z"
   },
   {
    "duration": 418,
    "start_time": "2023-11-13T20:08:30.359Z"
   },
   {
    "duration": 625,
    "start_time": "2023-11-13T20:08:30.779Z"
   },
   {
    "duration": 461,
    "start_time": "2023-11-13T20:08:31.405Z"
   },
   {
    "duration": 2536,
    "start_time": "2023-11-13T20:08:31.868Z"
   },
   {
    "duration": 4,
    "start_time": "2023-11-13T20:08:34.410Z"
   },
   {
    "duration": 14,
    "start_time": "2023-11-13T20:08:34.416Z"
   },
   {
    "duration": 9,
    "start_time": "2023-11-13T20:08:34.432Z"
   },
   {
    "duration": 13,
    "start_time": "2023-11-13T20:08:34.443Z"
   },
   {
    "duration": 14,
    "start_time": "2023-11-13T20:08:34.458Z"
   },
   {
    "duration": 46,
    "start_time": "2023-11-13T20:08:34.473Z"
   },
   {
    "duration": 22,
    "start_time": "2023-11-13T20:08:34.521Z"
   },
   {
    "duration": 85,
    "start_time": "2023-11-13T20:08:34.545Z"
   },
   {
    "duration": 96,
    "start_time": "2023-11-13T20:08:34.638Z"
   },
   {
    "duration": 2,
    "start_time": "2023-11-13T20:08:34.736Z"
   },
   {
    "duration": 81,
    "start_time": "2023-11-13T20:08:34.740Z"
   },
   {
    "duration": 99,
    "start_time": "2023-11-13T20:08:34.825Z"
   },
   {
    "duration": 99,
    "start_time": "2023-11-13T20:08:34.928Z"
   },
   {
    "duration": 85,
    "start_time": "2023-11-13T20:08:35.030Z"
   },
   {
    "duration": 94,
    "start_time": "2023-11-13T20:08:35.119Z"
   },
   {
    "duration": 6,
    "start_time": "2023-11-13T20:08:35.216Z"
   },
   {
    "duration": 9,
    "start_time": "2023-11-13T20:08:35.226Z"
   },
   {
    "duration": 6,
    "start_time": "2023-11-13T20:08:35.237Z"
   },
   {
    "duration": 6,
    "start_time": "2023-11-13T20:08:35.245Z"
   },
   {
    "duration": 14,
    "start_time": "2023-11-13T20:08:35.253Z"
   },
   {
    "duration": 22,
    "start_time": "2023-11-13T20:08:35.316Z"
   },
   {
    "duration": 13,
    "start_time": "2023-11-13T20:08:35.340Z"
   },
   {
    "duration": 10,
    "start_time": "2023-11-13T20:08:35.355Z"
   },
   {
    "duration": 9,
    "start_time": "2023-11-13T20:08:35.368Z"
   },
   {
    "duration": 36,
    "start_time": "2023-11-13T20:08:35.379Z"
   },
   {
    "duration": 136,
    "start_time": "2023-11-13T20:08:35.418Z"
   },
   {
    "duration": 0,
    "start_time": "2023-11-13T20:08:35.556Z"
   },
   {
    "duration": 0,
    "start_time": "2023-11-13T20:08:35.557Z"
   },
   {
    "duration": 0,
    "start_time": "2023-11-13T20:08:35.558Z"
   },
   {
    "duration": 0,
    "start_time": "2023-11-13T20:08:35.559Z"
   },
   {
    "duration": 0,
    "start_time": "2023-11-13T20:08:35.560Z"
   },
   {
    "duration": 0,
    "start_time": "2023-11-13T20:08:35.562Z"
   },
   {
    "duration": 0,
    "start_time": "2023-11-13T20:08:35.563Z"
   },
   {
    "duration": 0,
    "start_time": "2023-11-13T20:08:35.564Z"
   },
   {
    "duration": 0,
    "start_time": "2023-11-13T20:08:35.565Z"
   },
   {
    "duration": 6,
    "start_time": "2023-11-13T20:09:11.238Z"
   },
   {
    "duration": 24,
    "start_time": "2023-11-13T20:09:12.338Z"
   },
   {
    "duration": 23,
    "start_time": "2023-11-13T20:09:12.571Z"
   },
   {
    "duration": 27,
    "start_time": "2023-11-13T20:09:13.314Z"
   },
   {
    "duration": 4,
    "start_time": "2023-11-13T20:09:14.352Z"
   },
   {
    "duration": 4,
    "start_time": "2023-11-13T20:09:15.879Z"
   },
   {
    "duration": 9,
    "start_time": "2023-11-13T20:09:16.516Z"
   },
   {
    "duration": 1569,
    "start_time": "2023-11-13T20:09:17.289Z"
   },
   {
    "duration": 1523,
    "start_time": "2023-11-13T20:09:18.860Z"
   },
   {
    "duration": 1643,
    "start_time": "2023-11-13T20:09:20.385Z"
   },
   {
    "duration": 4,
    "start_time": "2023-11-13T20:09:22.031Z"
   },
   {
    "duration": 5639,
    "start_time": "2023-11-13T21:10:51.128Z"
   },
   {
    "duration": 420,
    "start_time": "2023-11-13T21:10:56.769Z"
   },
   {
    "duration": 30,
    "start_time": "2023-11-13T21:10:57.191Z"
   },
   {
    "duration": 47,
    "start_time": "2023-11-13T21:10:57.236Z"
   },
   {
    "duration": 6,
    "start_time": "2023-11-13T21:10:57.284Z"
   },
   {
    "duration": 28,
    "start_time": "2023-11-13T21:10:57.292Z"
   },
   {
    "duration": 47,
    "start_time": "2023-11-13T21:10:57.337Z"
   },
   {
    "duration": 8,
    "start_time": "2023-11-13T21:10:57.387Z"
   },
   {
    "duration": 39,
    "start_time": "2023-11-13T21:10:57.396Z"
   },
   {
    "duration": 47,
    "start_time": "2023-11-13T21:10:57.438Z"
   },
   {
    "duration": 7,
    "start_time": "2023-11-13T21:10:57.487Z"
   },
   {
    "duration": 443,
    "start_time": "2023-11-13T21:10:57.495Z"
   },
   {
    "duration": 5,
    "start_time": "2023-11-13T21:10:57.939Z"
   },
   {
    "duration": 364,
    "start_time": "2023-11-13T21:10:57.945Z"
   },
   {
    "duration": 625,
    "start_time": "2023-11-13T21:10:58.310Z"
   },
   {
    "duration": 360,
    "start_time": "2023-11-13T21:10:58.938Z"
   },
   {
    "duration": 544,
    "start_time": "2023-11-13T21:10:59.300Z"
   },
   {
    "duration": 405,
    "start_time": "2023-11-13T21:10:59.845Z"
   },
   {
    "duration": 2441,
    "start_time": "2023-11-13T21:11:00.252Z"
   },
   {
    "duration": 3,
    "start_time": "2023-11-13T21:11:02.694Z"
   },
   {
    "duration": 246,
    "start_time": "2023-11-13T21:11:02.698Z"
   },
   {
    "duration": 213,
    "start_time": "2023-11-13T21:11:02.945Z"
   },
   {
    "duration": 239,
    "start_time": "2023-11-13T21:11:03.160Z"
   },
   {
    "duration": 49,
    "start_time": "2023-11-13T21:11:03.400Z"
   },
   {
    "duration": 31,
    "start_time": "2023-11-13T21:11:03.450Z"
   },
   {
    "duration": 65,
    "start_time": "2023-11-13T21:11:03.483Z"
   },
   {
    "duration": 117,
    "start_time": "2023-11-13T21:11:03.642Z"
   },
   {
    "duration": 126,
    "start_time": "2023-11-13T21:11:03.763Z"
   },
   {
    "duration": 15,
    "start_time": "2023-11-13T21:11:03.891Z"
   },
   {
    "duration": 39,
    "start_time": "2023-11-13T21:11:03.908Z"
   },
   {
    "duration": 203,
    "start_time": "2023-11-13T21:11:03.950Z"
   },
   {
    "duration": 102,
    "start_time": "2023-11-13T21:11:04.242Z"
   },
   {
    "duration": 5,
    "start_time": "2023-11-13T21:11:04.435Z"
   },
   {
    "duration": 15,
    "start_time": "2023-11-13T21:11:04.442Z"
   },
   {
    "duration": 20,
    "start_time": "2023-11-13T21:11:04.459Z"
   },
   {
    "duration": 64,
    "start_time": "2023-11-13T21:11:04.481Z"
   },
   {
    "duration": 24,
    "start_time": "2023-11-13T21:11:04.547Z"
   },
   {
    "duration": 29,
    "start_time": "2023-11-13T21:11:04.573Z"
   },
   {
    "duration": 37,
    "start_time": "2023-11-13T21:11:04.604Z"
   },
   {
    "duration": 13,
    "start_time": "2023-11-13T21:11:04.642Z"
   },
   {
    "duration": 43,
    "start_time": "2023-11-13T21:11:04.657Z"
   },
   {
    "duration": 23,
    "start_time": "2023-11-13T21:11:04.702Z"
   },
   {
    "duration": 12,
    "start_time": "2023-11-13T21:11:04.726Z"
   },
   {
    "duration": 29,
    "start_time": "2023-11-13T21:11:04.741Z"
   },
   {
    "duration": 41,
    "start_time": "2023-11-13T21:11:04.771Z"
   },
   {
    "duration": 28,
    "start_time": "2023-11-13T21:11:04.813Z"
   },
   {
    "duration": 22,
    "start_time": "2023-11-13T21:11:04.843Z"
   },
   {
    "duration": 7,
    "start_time": "2023-11-13T21:11:04.866Z"
   },
   {
    "duration": 25,
    "start_time": "2023-11-13T21:11:04.875Z"
   },
   {
    "duration": 23,
    "start_time": "2023-11-13T21:11:04.902Z"
   },
   {
    "duration": 1415,
    "start_time": "2023-11-13T21:11:04.927Z"
   },
   {
    "duration": 1373,
    "start_time": "2023-11-13T21:11:06.344Z"
   },
   {
    "duration": 1339,
    "start_time": "2023-11-13T21:11:07.719Z"
   },
   {
    "duration": 4,
    "start_time": "2023-11-13T21:11:09.060Z"
   },
   {
    "duration": 8,
    "start_time": "2023-11-13T21:11:17.706Z"
   },
   {
    "duration": 130742,
    "start_time": "2023-11-14T05:20:46.860Z"
   },
   {
    "duration": 761,
    "start_time": "2023-11-14T05:22:57.604Z"
   },
   {
    "duration": 28,
    "start_time": "2023-11-14T05:22:58.366Z"
   },
   {
    "duration": 47,
    "start_time": "2023-11-14T05:22:58.396Z"
   },
   {
    "duration": 23,
    "start_time": "2023-11-14T05:22:58.445Z"
   },
   {
    "duration": 27,
    "start_time": "2023-11-14T05:22:58.470Z"
   },
   {
    "duration": 44,
    "start_time": "2023-11-14T05:22:58.499Z"
   },
   {
    "duration": 23,
    "start_time": "2023-11-14T05:22:58.544Z"
   },
   {
    "duration": 23,
    "start_time": "2023-11-14T05:22:58.569Z"
   },
   {
    "duration": 58,
    "start_time": "2023-11-14T05:22:58.595Z"
   },
   {
    "duration": 7,
    "start_time": "2023-11-14T05:22:58.666Z"
   },
   {
    "duration": 466,
    "start_time": "2023-11-14T05:22:58.675Z"
   },
   {
    "duration": 5,
    "start_time": "2023-11-14T05:22:59.143Z"
   },
   {
    "duration": 401,
    "start_time": "2023-11-14T05:22:59.149Z"
   },
   {
    "duration": 671,
    "start_time": "2023-11-14T05:22:59.551Z"
   },
   {
    "duration": 370,
    "start_time": "2023-11-14T05:23:00.224Z"
   },
   {
    "duration": 600,
    "start_time": "2023-11-14T05:23:00.596Z"
   },
   {
    "duration": 397,
    "start_time": "2023-11-14T05:23:01.198Z"
   },
   {
    "duration": 2333,
    "start_time": "2023-11-14T05:23:01.597Z"
   },
   {
    "duration": 4,
    "start_time": "2023-11-14T05:23:03.932Z"
   },
   {
    "duration": 15,
    "start_time": "2023-11-14T05:23:03.937Z"
   },
   {
    "duration": 12,
    "start_time": "2023-11-14T05:23:03.954Z"
   },
   {
    "duration": 10,
    "start_time": "2023-11-14T05:23:03.968Z"
   },
   {
    "duration": 13,
    "start_time": "2023-11-14T05:23:03.979Z"
   },
   {
    "duration": 12,
    "start_time": "2023-11-14T05:23:03.994Z"
   },
   {
    "duration": 58,
    "start_time": "2023-11-14T05:23:04.008Z"
   },
   {
    "duration": 98,
    "start_time": "2023-11-14T05:23:04.070Z"
   },
   {
    "duration": 10,
    "start_time": "2023-11-14T05:23:04.171Z"
   },
   {
    "duration": 3,
    "start_time": "2023-11-14T05:23:04.183Z"
   },
   {
    "duration": 84,
    "start_time": "2023-11-14T05:23:04.187Z"
   },
   {
    "duration": 98,
    "start_time": "2023-11-14T05:23:04.273Z"
   },
   {
    "duration": 94,
    "start_time": "2023-11-14T05:23:04.379Z"
   },
   {
    "duration": 6,
    "start_time": "2023-11-14T05:23:04.475Z"
   },
   {
    "duration": 9,
    "start_time": "2023-11-14T05:23:04.567Z"
   },
   {
    "duration": 88,
    "start_time": "2023-11-14T05:23:04.578Z"
   },
   {
    "duration": 12,
    "start_time": "2023-11-14T05:23:04.668Z"
   },
   {
    "duration": 5,
    "start_time": "2023-11-14T05:23:04.682Z"
   },
   {
    "duration": 7,
    "start_time": "2023-11-14T05:23:04.688Z"
   },
   {
    "duration": 14,
    "start_time": "2023-11-14T05:23:04.697Z"
   },
   {
    "duration": 12,
    "start_time": "2023-11-14T05:23:04.713Z"
   },
   {
    "duration": 44,
    "start_time": "2023-11-14T05:23:04.727Z"
   },
   {
    "duration": 9,
    "start_time": "2023-11-14T05:23:04.773Z"
   },
   {
    "duration": 7,
    "start_time": "2023-11-14T05:23:04.784Z"
   },
   {
    "duration": 7,
    "start_time": "2023-11-14T05:23:04.793Z"
   },
   {
    "duration": 26,
    "start_time": "2023-11-14T05:23:04.802Z"
   },
   {
    "duration": 55,
    "start_time": "2023-11-14T05:23:04.829Z"
   },
   {
    "duration": 22,
    "start_time": "2023-11-14T05:23:04.885Z"
   },
   {
    "duration": 10,
    "start_time": "2023-11-14T05:23:04.909Z"
   },
   {
    "duration": 18,
    "start_time": "2023-11-14T05:23:04.920Z"
   },
   {
    "duration": 8,
    "start_time": "2023-11-14T05:23:04.940Z"
   },
   {
    "duration": 1487,
    "start_time": "2023-11-14T05:23:04.950Z"
   },
   {
    "duration": 1402,
    "start_time": "2023-11-14T05:23:06.439Z"
   },
   {
    "duration": 1376,
    "start_time": "2023-11-14T05:23:07.843Z"
   },
   {
    "duration": 5,
    "start_time": "2023-11-14T05:23:09.220Z"
   },
   {
    "duration": 3,
    "start_time": "2023-11-14T05:23:13.800Z"
   },
   {
    "duration": 59,
    "start_time": "2023-11-14T11:13:45.001Z"
   },
   {
    "duration": 5700,
    "start_time": "2023-11-14T11:13:50.334Z"
   },
   {
    "duration": 1862,
    "start_time": "2023-11-14T11:13:56.038Z"
   },
   {
    "duration": 29,
    "start_time": "2023-11-14T11:13:57.902Z"
   },
   {
    "duration": 61,
    "start_time": "2023-11-14T11:13:57.940Z"
   },
   {
    "duration": 9,
    "start_time": "2023-11-14T11:13:58.003Z"
   },
   {
    "duration": 51,
    "start_time": "2023-11-14T11:13:58.013Z"
   },
   {
    "duration": 42,
    "start_time": "2023-11-14T11:13:58.065Z"
   },
   {
    "duration": 6,
    "start_time": "2023-11-14T11:13:58.109Z"
   },
   {
    "duration": 49,
    "start_time": "2023-11-14T11:13:58.131Z"
   },
   {
    "duration": 43,
    "start_time": "2023-11-14T11:13:58.183Z"
   },
   {
    "duration": 17,
    "start_time": "2023-11-14T11:13:58.227Z"
   },
   {
    "duration": 464,
    "start_time": "2023-11-14T11:13:58.250Z"
   },
   {
    "duration": 6,
    "start_time": "2023-11-14T11:13:58.716Z"
   },
   {
    "duration": 530,
    "start_time": "2023-11-14T11:13:58.730Z"
   },
   {
    "duration": 652,
    "start_time": "2023-11-14T11:13:59.262Z"
   },
   {
    "duration": 411,
    "start_time": "2023-11-14T11:13:59.916Z"
   },
   {
    "duration": 642,
    "start_time": "2023-11-14T11:14:00.335Z"
   },
   {
    "duration": 447,
    "start_time": "2023-11-14T11:14:00.979Z"
   },
   {
    "duration": 2517,
    "start_time": "2023-11-14T11:14:01.430Z"
   },
   {
    "duration": 3,
    "start_time": "2023-11-14T11:14:03.949Z"
   },
   {
    "duration": 31,
    "start_time": "2023-11-14T11:14:03.960Z"
   },
   {
    "duration": 32,
    "start_time": "2023-11-14T11:14:03.993Z"
   },
   {
    "duration": 40,
    "start_time": "2023-11-14T11:14:04.027Z"
   },
   {
    "duration": 30,
    "start_time": "2023-11-14T11:14:04.069Z"
   },
   {
    "duration": 27,
    "start_time": "2023-11-14T11:14:04.101Z"
   },
   {
    "duration": 43,
    "start_time": "2023-11-14T11:14:04.129Z"
   },
   {
    "duration": 77,
    "start_time": "2023-11-14T11:14:04.174Z"
   },
   {
    "duration": 26,
    "start_time": "2023-11-14T11:14:04.331Z"
   },
   {
    "duration": 24,
    "start_time": "2023-11-14T11:14:04.359Z"
   },
   {
    "duration": 66,
    "start_time": "2023-11-14T11:14:04.384Z"
   },
   {
    "duration": 95,
    "start_time": "2023-11-14T11:14:04.455Z"
   },
   {
    "duration": 79,
    "start_time": "2023-11-14T11:14:04.559Z"
   },
   {
    "duration": 34,
    "start_time": "2023-11-14T11:14:04.640Z"
   },
   {
    "duration": 27,
    "start_time": "2023-11-14T11:14:04.731Z"
   },
   {
    "duration": 28,
    "start_time": "2023-11-14T11:14:04.761Z"
   },
   {
    "duration": 70,
    "start_time": "2023-11-14T11:14:04.791Z"
   },
   {
    "duration": 19,
    "start_time": "2023-11-14T11:14:04.865Z"
   },
   {
    "duration": 26,
    "start_time": "2023-11-14T11:14:04.885Z"
   },
   {
    "duration": 56,
    "start_time": "2023-11-14T11:14:04.912Z"
   },
   {
    "duration": 25,
    "start_time": "2023-11-14T11:14:04.970Z"
   },
   {
    "duration": 43,
    "start_time": "2023-11-14T11:14:04.997Z"
   },
   {
    "duration": 31,
    "start_time": "2023-11-14T11:14:05.050Z"
   },
   {
    "duration": 29,
    "start_time": "2023-11-14T11:14:05.085Z"
   },
   {
    "duration": 65,
    "start_time": "2023-11-14T11:14:05.115Z"
   },
   {
    "duration": 35,
    "start_time": "2023-11-14T11:14:05.182Z"
   },
   {
    "duration": 62,
    "start_time": "2023-11-14T11:14:05.219Z"
   },
   {
    "duration": 3,
    "start_time": "2023-11-14T11:14:05.283Z"
   },
   {
    "duration": 70,
    "start_time": "2023-11-14T11:14:05.287Z"
   },
   {
    "duration": 35,
    "start_time": "2023-11-14T11:14:05.359Z"
   },
   {
    "duration": 4,
    "start_time": "2023-11-14T11:14:05.397Z"
   },
   {
    "duration": 22,
    "start_time": "2023-11-14T11:14:05.403Z"
   },
   {
    "duration": 54,
    "start_time": "2023-11-14T11:14:05.428Z"
   },
   {
    "duration": 1707,
    "start_time": "2023-11-14T11:14:05.484Z"
   },
   {
    "duration": 1571,
    "start_time": "2023-11-14T11:14:07.192Z"
   },
   {
    "duration": 1518,
    "start_time": "2023-11-14T11:14:08.765Z"
   },
   {
    "duration": 5,
    "start_time": "2023-11-14T11:14:10.285Z"
   },
   {
    "duration": 3,
    "start_time": "2023-11-14T11:20:43.383Z"
   },
   {
    "duration": 4325,
    "start_time": "2023-11-14T11:22:36.195Z"
   },
   {
    "duration": 478,
    "start_time": "2023-11-14T11:22:40.522Z"
   },
   {
    "duration": 37,
    "start_time": "2023-11-14T11:22:41.001Z"
   },
   {
    "duration": 60,
    "start_time": "2023-11-14T11:22:41.040Z"
   },
   {
    "duration": 7,
    "start_time": "2023-11-14T11:22:41.103Z"
   },
   {
    "duration": 60,
    "start_time": "2023-11-14T11:22:41.112Z"
   },
   {
    "duration": 68,
    "start_time": "2023-11-14T11:22:41.176Z"
   },
   {
    "duration": 20,
    "start_time": "2023-11-14T11:22:41.246Z"
   },
   {
    "duration": 29,
    "start_time": "2023-11-14T11:22:41.275Z"
   },
   {
    "duration": 65,
    "start_time": "2023-11-14T11:22:41.307Z"
   },
   {
    "duration": 9,
    "start_time": "2023-11-14T11:22:41.374Z"
   },
   {
    "duration": 483,
    "start_time": "2023-11-14T11:22:41.384Z"
   },
   {
    "duration": 6,
    "start_time": "2023-11-14T11:22:41.870Z"
   },
   {
    "duration": 429,
    "start_time": "2023-11-14T11:22:41.877Z"
   },
   {
    "duration": 718,
    "start_time": "2023-11-14T11:22:42.308Z"
   },
   {
    "duration": 404,
    "start_time": "2023-11-14T11:22:43.027Z"
   },
   {
    "duration": 667,
    "start_time": "2023-11-14T11:22:43.440Z"
   },
   {
    "duration": 401,
    "start_time": "2023-11-14T11:22:44.109Z"
   },
   {
    "duration": 2600,
    "start_time": "2023-11-14T11:22:44.512Z"
   },
   {
    "duration": 3,
    "start_time": "2023-11-14T11:22:47.114Z"
   },
   {
    "duration": 29,
    "start_time": "2023-11-14T11:22:47.119Z"
   },
   {
    "duration": 11,
    "start_time": "2023-11-14T11:22:47.154Z"
   },
   {
    "duration": 12,
    "start_time": "2023-11-14T11:22:47.167Z"
   },
   {
    "duration": 13,
    "start_time": "2023-11-14T11:22:47.181Z"
   },
   {
    "duration": 13,
    "start_time": "2023-11-14T11:22:47.196Z"
   },
   {
    "duration": 43,
    "start_time": "2023-11-14T11:22:47.211Z"
   },
   {
    "duration": 90,
    "start_time": "2023-11-14T11:22:47.257Z"
   },
   {
    "duration": 83,
    "start_time": "2023-11-14T11:22:47.365Z"
   },
   {
    "duration": 5,
    "start_time": "2023-11-14T11:22:47.451Z"
   },
   {
    "duration": 87,
    "start_time": "2023-11-14T11:22:47.466Z"
   },
   {
    "duration": 91,
    "start_time": "2023-11-14T11:22:47.559Z"
   },
   {
    "duration": 202,
    "start_time": "2023-11-14T11:22:47.653Z"
   },
   {
    "duration": 75,
    "start_time": "2023-11-14T11:22:47.867Z"
   },
   {
    "duration": 10,
    "start_time": "2023-11-14T11:22:47.944Z"
   },
   {
    "duration": 8,
    "start_time": "2023-11-14T11:22:47.956Z"
   },
   {
    "duration": 13,
    "start_time": "2023-11-14T11:22:47.966Z"
   },
   {
    "duration": 7,
    "start_time": "2023-11-14T11:22:47.981Z"
   },
   {
    "duration": 7,
    "start_time": "2023-11-14T11:22:47.989Z"
   },
   {
    "duration": 14,
    "start_time": "2023-11-14T11:22:47.997Z"
   },
   {
    "duration": 15,
    "start_time": "2023-11-14T11:22:48.030Z"
   },
   {
    "duration": 15,
    "start_time": "2023-11-14T11:22:48.047Z"
   },
   {
    "duration": 18,
    "start_time": "2023-11-14T11:22:48.066Z"
   },
   {
    "duration": 13,
    "start_time": "2023-11-14T11:22:48.086Z"
   },
   {
    "duration": 17,
    "start_time": "2023-11-14T11:22:48.101Z"
   },
   {
    "duration": 14,
    "start_time": "2023-11-14T11:22:48.136Z"
   },
   {
    "duration": 30,
    "start_time": "2023-11-14T11:22:48.156Z"
   },
   {
    "duration": 4,
    "start_time": "2023-11-14T11:22:48.188Z"
   },
   {
    "duration": 44,
    "start_time": "2023-11-14T11:22:48.194Z"
   },
   {
    "duration": 42,
    "start_time": "2023-11-14T11:22:48.243Z"
   },
   {
    "duration": 5,
    "start_time": "2023-11-14T11:22:48.287Z"
   },
   {
    "duration": 9,
    "start_time": "2023-11-14T11:22:48.294Z"
   },
   {
    "duration": 8,
    "start_time": "2023-11-14T11:22:48.305Z"
   },
   {
    "duration": 1644,
    "start_time": "2023-11-14T11:22:48.315Z"
   },
   {
    "duration": 1550,
    "start_time": "2023-11-14T11:22:49.963Z"
   },
   {
    "duration": 164,
    "start_time": "2023-11-14T11:22:51.515Z"
   },
   {
    "duration": 0,
    "start_time": "2023-11-14T11:22:51.681Z"
   },
   {
    "duration": 1845,
    "start_time": "2023-11-14T11:35:43.022Z"
   },
   {
    "duration": 10,
    "start_time": "2023-11-14T11:35:46.101Z"
   },
   {
    "duration": 6944,
    "start_time": "2023-11-14T12:33:17.254Z"
   },
   {
    "duration": 471,
    "start_time": "2023-11-14T12:33:24.201Z"
   },
   {
    "duration": 30,
    "start_time": "2023-11-14T12:33:24.674Z"
   },
   {
    "duration": 78,
    "start_time": "2023-11-14T12:33:24.705Z"
   },
   {
    "duration": 6,
    "start_time": "2023-11-14T12:33:24.786Z"
   },
   {
    "duration": 42,
    "start_time": "2023-11-14T12:33:24.793Z"
   },
   {
    "duration": 57,
    "start_time": "2023-11-14T12:33:24.837Z"
   },
   {
    "duration": 6,
    "start_time": "2023-11-14T12:33:24.896Z"
   },
   {
    "duration": 54,
    "start_time": "2023-11-14T12:33:24.903Z"
   },
   {
    "duration": 55,
    "start_time": "2023-11-14T12:33:24.963Z"
   },
   {
    "duration": 15,
    "start_time": "2023-11-14T12:33:25.019Z"
   },
   {
    "duration": 553,
    "start_time": "2023-11-14T12:33:25.040Z"
   },
   {
    "duration": 5,
    "start_time": "2023-11-14T12:33:25.595Z"
   },
   {
    "duration": 463,
    "start_time": "2023-11-14T12:33:25.604Z"
   },
   {
    "duration": 769,
    "start_time": "2023-11-14T12:33:26.074Z"
   },
   {
    "duration": 429,
    "start_time": "2023-11-14T12:33:26.844Z"
   },
   {
    "duration": 685,
    "start_time": "2023-11-14T12:33:27.276Z"
   },
   {
    "duration": 428,
    "start_time": "2023-11-14T12:33:27.967Z"
   },
   {
    "duration": 2679,
    "start_time": "2023-11-14T12:33:28.397Z"
   },
   {
    "duration": 3,
    "start_time": "2023-11-14T12:33:31.078Z"
   },
   {
    "duration": 46,
    "start_time": "2023-11-14T12:33:31.083Z"
   },
   {
    "duration": 44,
    "start_time": "2023-11-14T12:33:31.137Z"
   },
   {
    "duration": 37,
    "start_time": "2023-11-14T12:33:31.183Z"
   },
   {
    "duration": 46,
    "start_time": "2023-11-14T12:33:31.221Z"
   },
   {
    "duration": 23,
    "start_time": "2023-11-14T12:33:31.270Z"
   },
   {
    "duration": 68,
    "start_time": "2023-11-14T12:33:31.295Z"
   },
   {
    "duration": 100,
    "start_time": "2023-11-14T12:33:31.366Z"
   },
   {
    "duration": 24,
    "start_time": "2023-11-14T12:33:31.542Z"
   },
   {
    "duration": 10,
    "start_time": "2023-11-14T12:33:31.569Z"
   },
   {
    "duration": 151,
    "start_time": "2023-11-14T12:33:31.581Z"
   },
   {
    "duration": 34,
    "start_time": "2023-11-14T12:33:31.739Z"
   },
   {
    "duration": 35,
    "start_time": "2023-11-14T12:33:31.830Z"
   },
   {
    "duration": 17,
    "start_time": "2023-11-14T12:33:31.936Z"
   },
   {
    "duration": 83,
    "start_time": "2023-11-14T12:33:31.959Z"
   },
   {
    "duration": 18,
    "start_time": "2023-11-14T12:33:32.044Z"
   },
   {
    "duration": 31,
    "start_time": "2023-11-14T12:33:32.064Z"
   },
   {
    "duration": 10,
    "start_time": "2023-11-14T12:33:32.097Z"
   },
   {
    "duration": 9,
    "start_time": "2023-11-14T12:33:32.108Z"
   },
   {
    "duration": 43,
    "start_time": "2023-11-14T12:33:32.118Z"
   },
   {
    "duration": 14,
    "start_time": "2023-11-14T12:33:32.166Z"
   },
   {
    "duration": 13,
    "start_time": "2023-11-14T12:33:32.184Z"
   },
   {
    "duration": 13,
    "start_time": "2023-11-14T12:33:32.199Z"
   },
   {
    "duration": 15,
    "start_time": "2023-11-14T12:33:32.214Z"
   },
   {
    "duration": 29,
    "start_time": "2023-11-14T12:33:32.234Z"
   },
   {
    "duration": 27,
    "start_time": "2023-11-14T12:33:32.268Z"
   },
   {
    "duration": 71,
    "start_time": "2023-11-14T12:33:32.297Z"
   },
   {
    "duration": 3,
    "start_time": "2023-11-14T12:33:32.369Z"
   },
   {
    "duration": 32,
    "start_time": "2023-11-14T12:33:32.374Z"
   },
   {
    "duration": 49,
    "start_time": "2023-11-14T12:33:32.408Z"
   },
   {
    "duration": 9,
    "start_time": "2023-11-14T12:33:32.459Z"
   },
   {
    "duration": 18,
    "start_time": "2023-11-14T12:33:32.472Z"
   },
   {
    "duration": 37,
    "start_time": "2023-11-14T12:33:32.491Z"
   },
   {
    "duration": 1696,
    "start_time": "2023-11-14T12:33:32.529Z"
   },
   {
    "duration": 1587,
    "start_time": "2023-11-14T12:33:34.234Z"
   },
   {
    "duration": 1663,
    "start_time": "2023-11-14T12:33:35.823Z"
   },
   {
    "duration": 4,
    "start_time": "2023-11-14T12:33:37.488Z"
   },
   {
    "duration": 3,
    "start_time": "2023-11-14T14:17:24.320Z"
   },
   {
    "duration": 6126,
    "start_time": "2023-11-15T10:46:41.661Z"
   },
   {
    "duration": 1759,
    "start_time": "2023-11-15T10:46:47.790Z"
   },
   {
    "duration": 30,
    "start_time": "2023-11-15T10:46:49.551Z"
   },
   {
    "duration": 60,
    "start_time": "2023-11-15T10:46:49.583Z"
   },
   {
    "duration": 9,
    "start_time": "2023-11-15T10:46:49.645Z"
   },
   {
    "duration": 27,
    "start_time": "2023-11-15T10:46:49.656Z"
   },
   {
    "duration": 53,
    "start_time": "2023-11-15T10:46:49.685Z"
   },
   {
    "duration": 9,
    "start_time": "2023-11-15T10:46:49.739Z"
   },
   {
    "duration": 23,
    "start_time": "2023-11-15T10:46:49.750Z"
   },
   {
    "duration": 69,
    "start_time": "2023-11-15T10:46:49.776Z"
   },
   {
    "duration": 7,
    "start_time": "2023-11-15T10:46:49.847Z"
   },
   {
    "duration": 424,
    "start_time": "2023-11-15T10:46:49.855Z"
   },
   {
    "duration": 5,
    "start_time": "2023-11-15T10:46:50.281Z"
   },
   {
    "duration": 389,
    "start_time": "2023-11-15T10:46:50.287Z"
   },
   {
    "duration": 680,
    "start_time": "2023-11-15T10:46:50.678Z"
   },
   {
    "duration": 364,
    "start_time": "2023-11-15T10:46:51.360Z"
   },
   {
    "duration": 546,
    "start_time": "2023-11-15T10:46:51.726Z"
   },
   {
    "duration": 382,
    "start_time": "2023-11-15T10:46:52.274Z"
   },
   {
    "duration": 2328,
    "start_time": "2023-11-15T10:46:52.658Z"
   },
   {
    "duration": 3,
    "start_time": "2023-11-15T10:46:54.988Z"
   },
   {
    "duration": 13,
    "start_time": "2023-11-15T10:46:54.993Z"
   },
   {
    "duration": 15,
    "start_time": "2023-11-15T10:46:55.008Z"
   },
   {
    "duration": 20,
    "start_time": "2023-11-15T10:46:55.032Z"
   },
   {
    "duration": 13,
    "start_time": "2023-11-15T10:46:55.054Z"
   },
   {
    "duration": 25,
    "start_time": "2023-11-15T10:46:55.069Z"
   },
   {
    "duration": 41,
    "start_time": "2023-11-15T10:46:55.096Z"
   },
   {
    "duration": 93,
    "start_time": "2023-11-15T10:46:55.139Z"
   },
   {
    "duration": 20,
    "start_time": "2023-11-15T10:46:55.237Z"
   },
   {
    "duration": 3,
    "start_time": "2023-11-15T10:46:55.331Z"
   },
   {
    "duration": 92,
    "start_time": "2023-11-15T10:46:55.341Z"
   },
   {
    "duration": 13,
    "start_time": "2023-11-15T10:46:55.436Z"
   },
   {
    "duration": 107,
    "start_time": "2023-11-15T10:46:55.451Z"
   },
   {
    "duration": 13,
    "start_time": "2023-11-15T10:46:55.632Z"
   },
   {
    "duration": 99,
    "start_time": "2023-11-15T10:46:55.648Z"
   },
   {
    "duration": 3,
    "start_time": "2023-11-15T10:46:55.749Z"
   },
   {
    "duration": 12,
    "start_time": "2023-11-15T10:46:55.753Z"
   },
   {
    "duration": 17,
    "start_time": "2023-11-15T10:46:55.766Z"
   },
   {
    "duration": 14,
    "start_time": "2023-11-15T10:46:55.785Z"
   },
   {
    "duration": 20,
    "start_time": "2023-11-15T10:46:55.801Z"
   },
   {
    "duration": 16,
    "start_time": "2023-11-15T10:46:55.823Z"
   },
   {
    "duration": 13,
    "start_time": "2023-11-15T10:46:55.843Z"
   },
   {
    "duration": 14,
    "start_time": "2023-11-15T10:46:55.858Z"
   },
   {
    "duration": 9,
    "start_time": "2023-11-15T10:46:55.874Z"
   },
   {
    "duration": 13,
    "start_time": "2023-11-15T10:46:55.885Z"
   },
   {
    "duration": 4453,
    "start_time": "2023-11-15T10:46:55.899Z"
   },
   {
    "duration": 7,
    "start_time": "2023-11-15T10:47:00.353Z"
   },
   {
    "duration": 53,
    "start_time": "2023-11-15T10:47:00.361Z"
   },
   {
    "duration": 5,
    "start_time": "2023-11-15T10:47:00.416Z"
   },
   {
    "duration": 69,
    "start_time": "2023-11-15T10:47:00.423Z"
   },
   {
    "duration": 30,
    "start_time": "2023-11-15T10:47:00.494Z"
   },
   {
    "duration": 17,
    "start_time": "2023-11-15T10:47:00.526Z"
   },
   {
    "duration": 17,
    "start_time": "2023-11-15T10:47:00.545Z"
   },
   {
    "duration": 34,
    "start_time": "2023-11-15T10:47:00.564Z"
   },
   {
    "duration": 4868,
    "start_time": "2023-11-15T10:47:00.600Z"
   },
   {
    "duration": 4239,
    "start_time": "2023-11-15T10:47:05.470Z"
   },
   {
    "duration": 4336,
    "start_time": "2023-11-15T10:47:09.710Z"
   },
   {
    "duration": 6,
    "start_time": "2023-11-15T10:47:14.050Z"
   },
   {
    "duration": 5269,
    "start_time": "2023-11-15T15:09:43.875Z"
   },
   {
    "duration": 1763,
    "start_time": "2023-11-15T15:09:49.150Z"
   },
   {
    "duration": 34,
    "start_time": "2023-11-15T15:09:50.915Z"
   },
   {
    "duration": 46,
    "start_time": "2023-11-15T15:09:50.951Z"
   },
   {
    "duration": 9,
    "start_time": "2023-11-15T15:09:50.998Z"
   },
   {
    "duration": 55,
    "start_time": "2023-11-15T15:09:51.009Z"
   },
   {
    "duration": 46,
    "start_time": "2023-11-15T15:09:51.066Z"
   },
   {
    "duration": 23,
    "start_time": "2023-11-15T15:09:51.114Z"
   },
   {
    "duration": 52,
    "start_time": "2023-11-15T15:09:51.139Z"
   },
   {
    "duration": 61,
    "start_time": "2023-11-15T15:09:51.195Z"
   },
   {
    "duration": 6,
    "start_time": "2023-11-15T15:09:51.257Z"
   },
   {
    "duration": 461,
    "start_time": "2023-11-15T15:09:51.265Z"
   },
   {
    "duration": 8,
    "start_time": "2023-11-15T15:09:51.728Z"
   },
   {
    "duration": 505,
    "start_time": "2023-11-15T15:09:51.737Z"
   },
   {
    "duration": 613,
    "start_time": "2023-11-15T15:09:52.243Z"
   },
   {
    "duration": 577,
    "start_time": "2023-11-15T15:09:52.857Z"
   },
   {
    "duration": 614,
    "start_time": "2023-11-15T15:09:53.436Z"
   },
   {
    "duration": 368,
    "start_time": "2023-11-15T15:09:54.053Z"
   },
   {
    "duration": 2475,
    "start_time": "2023-11-15T15:09:54.423Z"
   },
   {
    "duration": 4,
    "start_time": "2023-11-15T15:09:56.899Z"
   },
   {
    "duration": 10,
    "start_time": "2023-11-15T15:09:56.905Z"
   },
   {
    "duration": 11,
    "start_time": "2023-11-15T15:09:56.934Z"
   },
   {
    "duration": 16,
    "start_time": "2023-11-15T15:09:56.947Z"
   },
   {
    "duration": 15,
    "start_time": "2023-11-15T15:09:56.965Z"
   },
   {
    "duration": 16,
    "start_time": "2023-11-15T15:09:56.982Z"
   },
   {
    "duration": 43,
    "start_time": "2023-11-15T15:09:57.000Z"
   },
   {
    "duration": 94,
    "start_time": "2023-11-15T15:09:57.049Z"
   },
   {
    "duration": 82,
    "start_time": "2023-11-15T15:09:57.152Z"
   },
   {
    "duration": 5,
    "start_time": "2023-11-15T15:09:57.237Z"
   },
   {
    "duration": 19,
    "start_time": "2023-11-15T15:09:57.244Z"
   },
   {
    "duration": 89,
    "start_time": "2023-11-15T15:09:57.265Z"
   },
   {
    "duration": 90,
    "start_time": "2023-11-15T15:09:57.356Z"
   },
   {
    "duration": 5,
    "start_time": "2023-11-15T15:09:57.448Z"
   },
   {
    "duration": 81,
    "start_time": "2023-11-15T15:09:57.455Z"
   },
   {
    "duration": 4,
    "start_time": "2023-11-15T15:09:57.542Z"
   },
   {
    "duration": 13,
    "start_time": "2023-11-15T15:09:57.552Z"
   },
   {
    "duration": 69,
    "start_time": "2023-11-15T15:09:57.567Z"
   },
   {
    "duration": 12,
    "start_time": "2023-11-15T15:09:57.638Z"
   },
   {
    "duration": 12,
    "start_time": "2023-11-15T15:09:57.653Z"
   },
   {
    "duration": 10,
    "start_time": "2023-11-15T15:09:57.667Z"
   },
   {
    "duration": 59,
    "start_time": "2023-11-15T15:09:57.679Z"
   },
   {
    "duration": 14,
    "start_time": "2023-11-15T15:09:57.747Z"
   },
   {
    "duration": 13,
    "start_time": "2023-11-15T15:09:57.764Z"
   },
   {
    "duration": 8,
    "start_time": "2023-11-15T15:09:57.779Z"
   },
   {
    "duration": 4959,
    "start_time": "2023-11-15T15:09:57.789Z"
   },
   {
    "duration": 11,
    "start_time": "2023-11-15T15:10:02.751Z"
   },
   {
    "duration": 94,
    "start_time": "2023-11-15T15:10:02.765Z"
   },
   {
    "duration": 4,
    "start_time": "2023-11-15T15:10:02.861Z"
   },
   {
    "duration": 58,
    "start_time": "2023-11-15T15:10:02.867Z"
   },
   {
    "duration": 62,
    "start_time": "2023-11-15T15:10:02.927Z"
   },
   {
    "duration": 10,
    "start_time": "2023-11-15T15:10:02.991Z"
   },
   {
    "duration": 42,
    "start_time": "2023-11-15T15:10:03.004Z"
   },
   {
    "duration": 46,
    "start_time": "2023-11-15T15:10:03.050Z"
   },
   {
    "duration": 4617,
    "start_time": "2023-11-15T15:10:03.098Z"
   },
   {
    "duration": 4261,
    "start_time": "2023-11-15T15:10:07.717Z"
   },
   {
    "duration": 4,
    "start_time": "2023-11-15T15:10:16.186Z"
   },
   {
    "duration": 20,
    "start_time": "2023-11-15T15:10:16.195Z"
   },
   {
    "duration": 28,
    "start_time": "2023-11-15T15:10:16.216Z"
   },
   {
    "duration": 27,
    "start_time": "2023-11-15T15:10:16.245Z"
   },
   {
    "duration": 4575,
    "start_time": "2023-11-15T15:10:16.274Z"
   },
   {
    "duration": 4547,
    "start_time": "2023-11-15T15:10:20.851Z"
   },
   {
    "duration": 4757,
    "start_time": "2023-11-15T15:10:25.403Z"
   },
   {
    "duration": 3747,
    "start_time": "2023-11-15T15:43:20.965Z"
   },
   {
    "duration": 395,
    "start_time": "2023-11-15T15:43:24.714Z"
   },
   {
    "duration": 35,
    "start_time": "2023-11-15T15:43:25.110Z"
   },
   {
    "duration": 49,
    "start_time": "2023-11-15T15:43:25.147Z"
   },
   {
    "duration": 7,
    "start_time": "2023-11-15T15:43:25.197Z"
   },
   {
    "duration": 44,
    "start_time": "2023-11-15T15:43:25.205Z"
   },
   {
    "duration": 42,
    "start_time": "2023-11-15T15:43:25.250Z"
   },
   {
    "duration": 7,
    "start_time": "2023-11-15T15:43:25.294Z"
   },
   {
    "duration": 41,
    "start_time": "2023-11-15T15:43:25.302Z"
   },
   {
    "duration": 47,
    "start_time": "2023-11-15T15:43:25.345Z"
   },
   {
    "duration": 8,
    "start_time": "2023-11-15T15:43:25.393Z"
   },
   {
    "duration": 443,
    "start_time": "2023-11-15T15:43:25.402Z"
   },
   {
    "duration": 6,
    "start_time": "2023-11-15T15:43:25.846Z"
   },
   {
    "duration": 352,
    "start_time": "2023-11-15T15:43:25.853Z"
   },
   {
    "duration": 605,
    "start_time": "2023-11-15T15:43:26.207Z"
   },
   {
    "duration": 340,
    "start_time": "2023-11-15T15:43:26.813Z"
   },
   {
    "duration": 523,
    "start_time": "2023-11-15T15:43:27.154Z"
   },
   {
    "duration": 377,
    "start_time": "2023-11-15T15:43:27.678Z"
   },
   {
    "duration": 2249,
    "start_time": "2023-11-15T15:43:28.057Z"
   },
   {
    "duration": 3,
    "start_time": "2023-11-15T15:43:30.308Z"
   },
   {
    "duration": 39,
    "start_time": "2023-11-15T15:43:30.313Z"
   },
   {
    "duration": 26,
    "start_time": "2023-11-15T15:43:30.354Z"
   },
   {
    "duration": 44,
    "start_time": "2023-11-15T15:43:30.382Z"
   },
   {
    "duration": 48,
    "start_time": "2023-11-15T15:43:30.427Z"
   },
   {
    "duration": 22,
    "start_time": "2023-11-15T15:43:30.477Z"
   },
   {
    "duration": 56,
    "start_time": "2023-11-15T15:43:30.500Z"
   },
   {
    "duration": 181,
    "start_time": "2023-11-15T15:43:30.559Z"
   },
   {
    "duration": 28,
    "start_time": "2023-11-15T15:43:30.744Z"
   },
   {
    "duration": 28,
    "start_time": "2023-11-15T15:43:30.773Z"
   },
   {
    "duration": 45,
    "start_time": "2023-11-15T15:43:30.803Z"
   },
   {
    "duration": 190,
    "start_time": "2023-11-15T15:43:30.850Z"
   },
   {
    "duration": 199,
    "start_time": "2023-11-15T15:43:31.042Z"
   },
   {
    "duration": 189,
    "start_time": "2023-11-15T15:43:31.243Z"
   },
   {
    "duration": 49,
    "start_time": "2023-11-15T15:43:31.434Z"
   },
   {
    "duration": 35,
    "start_time": "2023-11-15T15:43:31.485Z"
   },
   {
    "duration": 45,
    "start_time": "2023-11-15T15:43:31.522Z"
   },
   {
    "duration": 26,
    "start_time": "2023-11-15T15:43:31.569Z"
   },
   {
    "duration": 24,
    "start_time": "2023-11-15T15:43:31.597Z"
   },
   {
    "duration": 28,
    "start_time": "2023-11-15T15:43:31.623Z"
   },
   {
    "duration": 40,
    "start_time": "2023-11-15T15:43:31.653Z"
   },
   {
    "duration": 26,
    "start_time": "2023-11-15T15:43:31.695Z"
   },
   {
    "duration": 37,
    "start_time": "2023-11-15T15:43:31.722Z"
   },
   {
    "duration": 44,
    "start_time": "2023-11-15T15:43:31.760Z"
   },
   {
    "duration": 36,
    "start_time": "2023-11-15T15:43:31.806Z"
   },
   {
    "duration": 4193,
    "start_time": "2023-11-15T15:43:31.844Z"
   },
   {
    "duration": 5,
    "start_time": "2023-11-15T15:43:36.039Z"
   },
   {
    "duration": 37,
    "start_time": "2023-11-15T15:43:36.046Z"
   },
   {
    "duration": 26,
    "start_time": "2023-11-15T15:43:36.085Z"
   },
   {
    "duration": 3,
    "start_time": "2023-11-15T15:43:36.113Z"
   },
   {
    "duration": 23,
    "start_time": "2023-11-15T15:43:36.118Z"
   },
   {
    "duration": 23,
    "start_time": "2023-11-15T15:43:36.143Z"
   },
   {
    "duration": 5,
    "start_time": "2023-11-15T15:43:36.167Z"
   },
   {
    "duration": 5,
    "start_time": "2023-11-15T15:43:36.174Z"
   },
   {
    "duration": 8,
    "start_time": "2023-11-15T15:43:36.180Z"
   },
   {
    "duration": 4604,
    "start_time": "2023-11-15T15:43:36.190Z"
   },
   {
    "duration": 4312,
    "start_time": "2023-11-15T15:43:40.796Z"
   },
   {
    "duration": 4150,
    "start_time": "2023-11-15T15:43:45.109Z"
   },
   {
    "duration": 3,
    "start_time": "2023-11-15T15:43:49.261Z"
   },
   {
    "duration": 11988,
    "start_time": "2023-11-15T15:43:49.266Z"
   },
   {
    "duration": 4,
    "start_time": "2023-11-15T15:44:01.255Z"
   },
   {
    "duration": 3912,
    "start_time": "2023-11-15T15:44:28.909Z"
   },
   {
    "duration": 426,
    "start_time": "2023-11-15T15:44:32.824Z"
   },
   {
    "duration": 26,
    "start_time": "2023-11-15T15:44:33.251Z"
   },
   {
    "duration": 56,
    "start_time": "2023-11-15T15:44:33.279Z"
   },
   {
    "duration": 14,
    "start_time": "2023-11-15T15:44:33.336Z"
   },
   {
    "duration": 60,
    "start_time": "2023-11-15T15:44:33.351Z"
   },
   {
    "duration": 51,
    "start_time": "2023-11-15T15:44:33.412Z"
   },
   {
    "duration": 6,
    "start_time": "2023-11-15T15:44:33.465Z"
   },
   {
    "duration": 35,
    "start_time": "2023-11-15T15:44:33.473Z"
   },
   {
    "duration": 55,
    "start_time": "2023-11-15T15:44:33.511Z"
   },
   {
    "duration": 8,
    "start_time": "2023-11-15T15:44:33.567Z"
   },
   {
    "duration": 423,
    "start_time": "2023-11-15T15:44:33.576Z"
   },
   {
    "duration": 5,
    "start_time": "2023-11-15T15:44:34.001Z"
   },
   {
    "duration": 368,
    "start_time": "2023-11-15T15:44:34.007Z"
   },
   {
    "duration": 624,
    "start_time": "2023-11-15T15:44:34.377Z"
   },
   {
    "duration": 346,
    "start_time": "2023-11-15T15:44:35.002Z"
   },
   {
    "duration": 536,
    "start_time": "2023-11-15T15:44:35.349Z"
   },
   {
    "duration": 394,
    "start_time": "2023-11-15T15:44:35.886Z"
   },
   {
    "duration": 2358,
    "start_time": "2023-11-15T15:44:36.282Z"
   },
   {
    "duration": 3,
    "start_time": "2023-11-15T15:44:38.641Z"
   },
   {
    "duration": 36,
    "start_time": "2023-11-15T15:44:38.645Z"
   },
   {
    "duration": 24,
    "start_time": "2023-11-15T15:44:38.682Z"
   },
   {
    "duration": 29,
    "start_time": "2023-11-15T15:44:38.707Z"
   },
   {
    "duration": 15,
    "start_time": "2023-11-15T15:44:38.738Z"
   },
   {
    "duration": 40,
    "start_time": "2023-11-15T15:44:38.755Z"
   },
   {
    "duration": 36,
    "start_time": "2023-11-15T15:44:38.797Z"
   },
   {
    "duration": 192,
    "start_time": "2023-11-15T15:44:38.840Z"
   },
   {
    "duration": 11,
    "start_time": "2023-11-15T15:44:39.035Z"
   },
   {
    "duration": 17,
    "start_time": "2023-11-15T15:44:39.048Z"
   },
   {
    "duration": 64,
    "start_time": "2023-11-15T15:44:39.067Z"
   },
   {
    "duration": 101,
    "start_time": "2023-11-15T15:44:39.134Z"
   },
   {
    "duration": 193,
    "start_time": "2023-11-15T15:44:39.239Z"
   },
   {
    "duration": 93,
    "start_time": "2023-11-15T15:44:39.438Z"
   },
   {
    "duration": 8,
    "start_time": "2023-11-15T15:44:39.533Z"
   },
   {
    "duration": 7,
    "start_time": "2023-11-15T15:44:39.543Z"
   },
   {
    "duration": 12,
    "start_time": "2023-11-15T15:44:39.552Z"
   },
   {
    "duration": 6,
    "start_time": "2023-11-15T15:44:39.565Z"
   },
   {
    "duration": 6,
    "start_time": "2023-11-15T15:44:39.573Z"
   },
   {
    "duration": 14,
    "start_time": "2023-11-15T15:44:39.581Z"
   },
   {
    "duration": 9,
    "start_time": "2023-11-15T15:44:39.632Z"
   },
   {
    "duration": 13,
    "start_time": "2023-11-15T15:44:39.642Z"
   },
   {
    "duration": 12,
    "start_time": "2023-11-15T15:44:39.656Z"
   },
   {
    "duration": 9,
    "start_time": "2023-11-15T15:44:39.670Z"
   },
   {
    "duration": 7,
    "start_time": "2023-11-15T15:44:39.681Z"
   },
   {
    "duration": 4655,
    "start_time": "2023-11-15T15:44:39.689Z"
   },
   {
    "duration": 7,
    "start_time": "2023-11-15T15:44:44.345Z"
   },
   {
    "duration": 10,
    "start_time": "2023-11-15T15:44:44.353Z"
   },
   {
    "duration": 35,
    "start_time": "2023-11-15T15:44:44.365Z"
   },
   {
    "duration": 3,
    "start_time": "2023-11-15T15:44:44.402Z"
   },
   {
    "duration": 44,
    "start_time": "2023-11-15T15:44:44.407Z"
   },
   {
    "duration": 24,
    "start_time": "2023-11-15T15:44:44.453Z"
   },
   {
    "duration": 5,
    "start_time": "2023-11-15T15:44:44.479Z"
   },
   {
    "duration": 10,
    "start_time": "2023-11-15T15:44:44.486Z"
   },
   {
    "duration": 9,
    "start_time": "2023-11-15T15:44:44.498Z"
   },
   {
    "duration": 4151,
    "start_time": "2023-11-15T15:44:44.508Z"
   },
   {
    "duration": 4042,
    "start_time": "2023-11-15T15:44:48.661Z"
   },
   {
    "duration": 4147,
    "start_time": "2023-11-15T15:44:52.704Z"
   },
   {
    "duration": 3,
    "start_time": "2023-11-15T15:44:56.853Z"
   },
   {
    "duration": 12836,
    "start_time": "2023-11-15T15:44:56.857Z"
   },
   {
    "duration": 4,
    "start_time": "2023-11-15T15:45:09.695Z"
   },
   {
    "duration": 3950,
    "start_time": "2023-11-15T15:59:02.098Z"
   },
   {
    "duration": 6,
    "start_time": "2023-11-15T15:59:06.049Z"
   },
   {
    "duration": 8,
    "start_time": "2023-11-15T15:59:06.057Z"
   },
   {
    "duration": 3818,
    "start_time": "2023-11-15T16:02:25.988Z"
   },
   {
    "duration": 412,
    "start_time": "2023-11-15T16:02:29.808Z"
   },
   {
    "duration": 28,
    "start_time": "2023-11-15T16:02:30.222Z"
   },
   {
    "duration": 83,
    "start_time": "2023-11-15T16:02:30.252Z"
   },
   {
    "duration": 49,
    "start_time": "2023-11-15T16:02:30.337Z"
   },
   {
    "duration": 99,
    "start_time": "2023-11-15T16:02:30.388Z"
   },
   {
    "duration": 109,
    "start_time": "2023-11-15T16:02:30.489Z"
   },
   {
    "duration": 8,
    "start_time": "2023-11-15T16:02:30.599Z"
   },
   {
    "duration": 47,
    "start_time": "2023-11-15T16:02:30.608Z"
   },
   {
    "duration": 76,
    "start_time": "2023-11-15T16:02:30.657Z"
   },
   {
    "duration": 8,
    "start_time": "2023-11-15T16:02:30.735Z"
   },
   {
    "duration": 437,
    "start_time": "2023-11-15T16:02:30.745Z"
   },
   {
    "duration": 6,
    "start_time": "2023-11-15T16:02:31.184Z"
   },
   {
    "duration": 436,
    "start_time": "2023-11-15T16:02:31.192Z"
   },
   {
    "duration": 660,
    "start_time": "2023-11-15T16:02:31.631Z"
   },
   {
    "duration": 346,
    "start_time": "2023-11-15T16:02:32.293Z"
   },
   {
    "duration": 537,
    "start_time": "2023-11-15T16:02:32.641Z"
   },
   {
    "duration": 386,
    "start_time": "2023-11-15T16:02:33.180Z"
   },
   {
    "duration": 2425,
    "start_time": "2023-11-15T16:02:33.568Z"
   },
   {
    "duration": 3,
    "start_time": "2023-11-15T16:02:35.996Z"
   },
   {
    "duration": 26,
    "start_time": "2023-11-15T16:02:36.001Z"
   },
   {
    "duration": 12,
    "start_time": "2023-11-15T16:02:36.030Z"
   },
   {
    "duration": 27,
    "start_time": "2023-11-15T16:02:36.044Z"
   },
   {
    "duration": 18,
    "start_time": "2023-11-15T16:02:36.073Z"
   },
   {
    "duration": 35,
    "start_time": "2023-11-15T16:02:36.093Z"
   },
   {
    "duration": 51,
    "start_time": "2023-11-15T16:02:36.130Z"
   },
   {
    "duration": 147,
    "start_time": "2023-11-15T16:02:36.185Z"
   },
   {
    "duration": 22,
    "start_time": "2023-11-15T16:02:36.336Z"
   },
   {
    "duration": 14,
    "start_time": "2023-11-15T16:02:36.360Z"
   },
   {
    "duration": 56,
    "start_time": "2023-11-15T16:02:36.376Z"
   },
   {
    "duration": 101,
    "start_time": "2023-11-15T16:02:36.435Z"
   },
   {
    "duration": 102,
    "start_time": "2023-11-15T16:02:36.538Z"
   },
   {
    "duration": 93,
    "start_time": "2023-11-15T16:02:36.642Z"
   },
   {
    "duration": 97,
    "start_time": "2023-11-15T16:02:36.737Z"
   },
   {
    "duration": 11,
    "start_time": "2023-11-15T16:02:36.836Z"
   },
   {
    "duration": 45,
    "start_time": "2023-11-15T16:02:36.849Z"
   },
   {
    "duration": 17,
    "start_time": "2023-11-15T16:02:36.896Z"
   },
   {
    "duration": 42,
    "start_time": "2023-11-15T16:02:36.914Z"
   },
   {
    "duration": 40,
    "start_time": "2023-11-15T16:02:36.958Z"
   },
   {
    "duration": 13,
    "start_time": "2023-11-15T16:02:36.999Z"
   },
   {
    "duration": 35,
    "start_time": "2023-11-15T16:02:37.013Z"
   },
   {
    "duration": 11,
    "start_time": "2023-11-15T16:02:37.049Z"
   },
   {
    "duration": 18,
    "start_time": "2023-11-15T16:02:37.062Z"
   },
   {
    "duration": 16,
    "start_time": "2023-11-15T16:02:37.082Z"
   },
   {
    "duration": 128,
    "start_time": "2023-11-15T16:02:37.100Z"
   },
   {
    "duration": 0,
    "start_time": "2023-11-15T16:02:37.230Z"
   },
   {
    "duration": 0,
    "start_time": "2023-11-15T16:02:37.231Z"
   },
   {
    "duration": 0,
    "start_time": "2023-11-15T16:02:37.232Z"
   },
   {
    "duration": 0,
    "start_time": "2023-11-15T16:02:37.233Z"
   },
   {
    "duration": 0,
    "start_time": "2023-11-15T16:02:37.234Z"
   },
   {
    "duration": 0,
    "start_time": "2023-11-15T16:02:37.235Z"
   },
   {
    "duration": 0,
    "start_time": "2023-11-15T16:02:37.236Z"
   },
   {
    "duration": 0,
    "start_time": "2023-11-15T16:02:37.238Z"
   },
   {
    "duration": 0,
    "start_time": "2023-11-15T16:02:37.239Z"
   },
   {
    "duration": 3790,
    "start_time": "2023-11-15T16:21:13.582Z"
   },
   {
    "duration": 421,
    "start_time": "2023-11-15T16:21:17.374Z"
   },
   {
    "duration": 43,
    "start_time": "2023-11-15T16:21:17.797Z"
   },
   {
    "duration": 51,
    "start_time": "2023-11-15T16:21:17.842Z"
   },
   {
    "duration": 8,
    "start_time": "2023-11-15T16:21:17.895Z"
   },
   {
    "duration": 44,
    "start_time": "2023-11-15T16:21:17.905Z"
   },
   {
    "duration": 44,
    "start_time": "2023-11-15T16:21:17.951Z"
   },
   {
    "duration": 34,
    "start_time": "2023-11-15T16:21:17.996Z"
   },
   {
    "duration": 27,
    "start_time": "2023-11-15T16:21:18.033Z"
   },
   {
    "duration": 68,
    "start_time": "2023-11-15T16:21:18.063Z"
   },
   {
    "duration": 8,
    "start_time": "2023-11-15T16:21:18.133Z"
   },
   {
    "duration": 423,
    "start_time": "2023-11-15T16:21:18.143Z"
   },
   {
    "duration": 5,
    "start_time": "2023-11-15T16:21:18.568Z"
   },
   {
    "duration": 373,
    "start_time": "2023-11-15T16:21:18.576Z"
   },
   {
    "duration": 652,
    "start_time": "2023-11-15T16:21:18.952Z"
   },
   {
    "duration": 357,
    "start_time": "2023-11-15T16:21:19.606Z"
   },
   {
    "duration": 553,
    "start_time": "2023-11-15T16:21:19.965Z"
   },
   {
    "duration": 398,
    "start_time": "2023-11-15T16:21:20.520Z"
   },
   {
    "duration": 2344,
    "start_time": "2023-11-15T16:21:20.921Z"
   },
   {
    "duration": 3,
    "start_time": "2023-11-15T16:21:23.267Z"
   },
   {
    "duration": 16,
    "start_time": "2023-11-15T16:21:23.271Z"
   },
   {
    "duration": 11,
    "start_time": "2023-11-15T16:21:23.289Z"
   },
   {
    "duration": 28,
    "start_time": "2023-11-15T16:21:23.302Z"
   },
   {
    "duration": 13,
    "start_time": "2023-11-15T16:21:23.332Z"
   },
   {
    "duration": 13,
    "start_time": "2023-11-15T16:21:23.347Z"
   },
   {
    "duration": 68,
    "start_time": "2023-11-15T16:21:23.362Z"
   },
   {
    "duration": 99,
    "start_time": "2023-11-15T16:21:23.434Z"
   },
   {
    "duration": 11,
    "start_time": "2023-11-15T16:21:23.539Z"
   },
   {
    "duration": 14,
    "start_time": "2023-11-15T16:21:23.552Z"
   },
   {
    "duration": 75,
    "start_time": "2023-11-15T16:21:23.568Z"
   },
   {
    "duration": 97,
    "start_time": "2023-11-15T16:21:23.646Z"
   },
   {
    "duration": 190,
    "start_time": "2023-11-15T16:21:23.745Z"
   },
   {
    "duration": 92,
    "start_time": "2023-11-15T16:21:23.938Z"
   },
   {
    "duration": 8,
    "start_time": "2023-11-15T16:21:24.033Z"
   },
   {
    "duration": 13,
    "start_time": "2023-11-15T16:21:24.043Z"
   },
   {
    "duration": 30,
    "start_time": "2023-11-15T16:21:24.058Z"
   },
   {
    "duration": 13,
    "start_time": "2023-11-15T16:21:24.090Z"
   },
   {
    "duration": 9,
    "start_time": "2023-11-15T16:21:24.104Z"
   },
   {
    "duration": 15,
    "start_time": "2023-11-15T16:21:24.115Z"
   },
   {
    "duration": 10,
    "start_time": "2023-11-15T16:21:24.132Z"
   },
   {
    "duration": 22,
    "start_time": "2023-11-15T16:21:24.145Z"
   },
   {
    "duration": 44,
    "start_time": "2023-11-15T16:21:24.169Z"
   },
   {
    "duration": 10,
    "start_time": "2023-11-15T16:21:24.215Z"
   },
   {
    "duration": 14,
    "start_time": "2023-11-15T16:21:24.227Z"
   },
   {
    "duration": 26,
    "start_time": "2023-11-15T16:21:24.243Z"
   },
   {
    "duration": 10,
    "start_time": "2023-11-15T16:21:24.270Z"
   },
   {
    "duration": 117,
    "start_time": "2023-11-15T16:21:24.281Z"
   },
   {
    "duration": 0,
    "start_time": "2023-11-15T16:21:24.399Z"
   },
   {
    "duration": 0,
    "start_time": "2023-11-15T16:21:24.401Z"
   },
   {
    "duration": 0,
    "start_time": "2023-11-15T16:21:24.402Z"
   },
   {
    "duration": 0,
    "start_time": "2023-11-15T16:21:24.403Z"
   },
   {
    "duration": 0,
    "start_time": "2023-11-15T16:21:24.405Z"
   },
   {
    "duration": 0,
    "start_time": "2023-11-15T16:21:24.406Z"
   },
   {
    "duration": 8,
    "start_time": "2023-11-15T16:22:15.484Z"
   },
   {
    "duration": 24,
    "start_time": "2023-11-15T16:22:16.847Z"
   },
   {
    "duration": 6,
    "start_time": "2023-11-15T16:22:17.029Z"
   },
   {
    "duration": 10,
    "start_time": "2023-11-15T16:22:32.206Z"
   },
   {
    "duration": 61,
    "start_time": "2023-11-15T16:22:33.397Z"
   },
   {
    "duration": 5,
    "start_time": "2023-11-15T16:22:33.461Z"
   },
   {
    "duration": 4,
    "start_time": "2023-11-15T16:22:33.468Z"
   },
   {
    "duration": 5,
    "start_time": "2023-11-15T16:22:33.494Z"
   },
   {
    "duration": 12630,
    "start_time": "2023-11-15T16:22:33.574Z"
   },
   {
    "duration": 5,
    "start_time": "2023-11-15T16:22:46.206Z"
   },
   {
    "duration": 6,
    "start_time": "2023-11-15T16:22:46.231Z"
   },
   {
    "duration": 5533,
    "start_time": "2023-11-15T23:13:13.330Z"
   },
   {
    "duration": 736,
    "start_time": "2023-11-15T23:13:18.865Z"
   },
   {
    "duration": 24,
    "start_time": "2023-11-15T23:13:19.602Z"
   },
   {
    "duration": 39,
    "start_time": "2023-11-15T23:13:19.628Z"
   },
   {
    "duration": 7,
    "start_time": "2023-11-15T23:13:19.669Z"
   },
   {
    "duration": 21,
    "start_time": "2023-11-15T23:13:19.677Z"
   },
   {
    "duration": 63,
    "start_time": "2023-11-15T23:13:19.699Z"
   },
   {
    "duration": 5,
    "start_time": "2023-11-15T23:13:19.764Z"
   },
   {
    "duration": 21,
    "start_time": "2023-11-15T23:13:19.770Z"
   },
   {
    "duration": 59,
    "start_time": "2023-11-15T23:13:19.794Z"
   },
   {
    "duration": 6,
    "start_time": "2023-11-15T23:13:19.854Z"
   },
   {
    "duration": 419,
    "start_time": "2023-11-15T23:13:19.861Z"
   },
   {
    "duration": 5,
    "start_time": "2023-11-15T23:13:20.281Z"
   },
   {
    "duration": 358,
    "start_time": "2023-11-15T23:13:20.288Z"
   },
   {
    "duration": 575,
    "start_time": "2023-11-15T23:13:20.651Z"
   },
   {
    "duration": 317,
    "start_time": "2023-11-15T23:13:21.228Z"
   },
   {
    "duration": 478,
    "start_time": "2023-11-15T23:13:21.546Z"
   },
   {
    "duration": 346,
    "start_time": "2023-11-15T23:13:22.026Z"
   },
   {
    "duration": 2125,
    "start_time": "2023-11-15T23:13:22.374Z"
   },
   {
    "duration": 2,
    "start_time": "2023-11-15T23:13:24.501Z"
   },
   {
    "duration": 13,
    "start_time": "2023-11-15T23:13:24.505Z"
   },
   {
    "duration": 7,
    "start_time": "2023-11-15T23:13:24.520Z"
   },
   {
    "duration": 9,
    "start_time": "2023-11-15T23:13:24.528Z"
   },
   {
    "duration": 20,
    "start_time": "2023-11-15T23:13:24.539Z"
   },
   {
    "duration": 12,
    "start_time": "2023-11-15T23:13:24.560Z"
   },
   {
    "duration": 15,
    "start_time": "2023-11-15T23:13:24.573Z"
   },
   {
    "duration": 102,
    "start_time": "2023-11-15T23:13:24.651Z"
   },
   {
    "duration": 9,
    "start_time": "2023-11-15T23:13:24.757Z"
   },
   {
    "duration": 3,
    "start_time": "2023-11-15T23:13:24.767Z"
   },
   {
    "duration": 11,
    "start_time": "2023-11-15T23:13:24.771Z"
   },
   {
    "duration": 99,
    "start_time": "2023-11-15T23:13:24.855Z"
   },
   {
    "duration": 99,
    "start_time": "2023-11-15T23:13:24.956Z"
   },
   {
    "duration": 93,
    "start_time": "2023-11-15T23:13:25.060Z"
   },
   {
    "duration": 7,
    "start_time": "2023-11-15T23:13:25.155Z"
   },
   {
    "duration": 3,
    "start_time": "2023-11-15T23:13:25.164Z"
   },
   {
    "duration": 7,
    "start_time": "2023-11-15T23:13:25.168Z"
   },
   {
    "duration": 6,
    "start_time": "2023-11-15T23:13:25.177Z"
   },
   {
    "duration": 5,
    "start_time": "2023-11-15T23:13:25.185Z"
   },
   {
    "duration": 14,
    "start_time": "2023-11-15T23:13:25.192Z"
   },
   {
    "duration": 52,
    "start_time": "2023-11-15T23:13:25.207Z"
   },
   {
    "duration": 12,
    "start_time": "2023-11-15T23:13:25.261Z"
   },
   {
    "duration": 11,
    "start_time": "2023-11-15T23:13:25.274Z"
   },
   {
    "duration": 9,
    "start_time": "2023-11-15T23:13:25.286Z"
   },
   {
    "duration": 5,
    "start_time": "2023-11-15T23:13:25.296Z"
   },
   {
    "duration": 13,
    "start_time": "2023-11-15T23:13:25.302Z"
   },
   {
    "duration": 5,
    "start_time": "2023-11-15T23:13:25.317Z"
   },
   {
    "duration": 78,
    "start_time": "2023-11-15T23:13:25.323Z"
   },
   {
    "duration": 4,
    "start_time": "2023-11-15T23:13:25.402Z"
   },
   {
    "duration": 7,
    "start_time": "2023-11-15T23:13:25.407Z"
   },
   {
    "duration": 8,
    "start_time": "2023-11-15T23:13:25.415Z"
   },
   {
    "duration": 11427,
    "start_time": "2023-11-15T23:13:25.453Z"
   },
   {
    "duration": 3,
    "start_time": "2023-11-15T23:13:36.882Z"
   },
   {
    "duration": 5,
    "start_time": "2023-11-15T23:13:36.887Z"
   },
   {
    "duration": 5,
    "start_time": "2023-11-15T23:15:28.751Z"
   },
   {
    "duration": 3818,
    "start_time": "2023-11-15T23:15:36.852Z"
   },
   {
    "duration": 4,
    "start_time": "2023-11-15T23:15:43.793Z"
   },
   {
    "duration": 4,
    "start_time": "2023-11-15T23:15:46.345Z"
   }
  ],
  "kernelspec": {
   "display_name": "Python 3 (ipykernel)",
   "language": "python",
   "name": "python3"
  },
  "language_info": {
   "codemirror_mode": {
    "name": "ipython",
    "version": 3
   },
   "file_extension": ".py",
   "mimetype": "text/x-python",
   "name": "python",
   "nbconvert_exporter": "python",
   "pygments_lexer": "ipython3",
   "version": "3.11.4"
  },
  "toc": {
   "base_numbering": 1,
   "nav_menu": {},
   "number_sections": true,
   "sideBar": true,
   "skip_h1_title": true,
   "title_cell": "Table of Contents",
   "title_sidebar": "Contents",
   "toc_cell": false,
   "toc_position": {
    "height": "calc(100% - 180px)",
    "left": "10px",
    "top": "150px",
    "width": "340.992px"
   },
   "toc_section_display": true,
   "toc_window_display": true
  }
 },
 "nbformat": 4,
 "nbformat_minor": 2
}
