{
 "cells": [
  {
   "cell_type": "markdown",
   "id": "5d2a96dc",
   "metadata": {
    "deletable": false,
    "editable": false,
    "id": "c81daeeb"
   },
   "source": [
    "# Исследование надежности заемщиков\n"
   ]
  },
  {
   "cell_type": "markdown",
   "id": "e13d3ad3",
   "metadata": {
    "deletable": false,
    "editable": false,
    "id": "827c20bf"
   },
   "source": [
    "Во второй части проекта вы выполните шаги 3 и 4. Их вручную проверит ревьюер.\n",
    "Чтобы вам не пришлось писать код заново для шагов 1 и 2, мы добавили авторские решения в ячейки с кодом. \n",
    "\n"
   ]
  },
  {
   "cell_type": "markdown",
   "id": "1d451262",
   "metadata": {
    "deletable": false,
    "editable": false,
    "id": "744d7639"
   },
   "source": [
    "## Откройте таблицу и изучите общую информацию о данных"
   ]
  },
  {
   "cell_type": "markdown",
   "id": "a7f8e036",
   "metadata": {
    "deletable": false,
    "editable": false,
    "id": "e7a14c31"
   },
   "source": [
    "**Задание 1. Импортируйте библиотеку pandas. Считайте данные из csv-файла в датафрейм и сохраните в переменную `data`. Путь к файлу:**\n",
    "\n",
    "`/datasets/data.csv`"
   ]
  },
  {
   "cell_type": "code",
   "execution_count": 1,
   "id": "8f47f4b4",
   "metadata": {
    "deletable": false,
    "id": "7bcf75c9"
   },
   "outputs": [],
   "source": [
    "import pandas as pd\n",
    "\n",
    "try:\n",
    "    data = pd.read_csv('/datasets/data.csv')\n",
    "except:\n",
    "    data = pd.read_csv('https://code.s3.yandex.net/datasets/data.csv')"
   ]
  },
  {
   "cell_type": "markdown",
   "id": "8ec322ae",
   "metadata": {
    "deletable": false,
    "editable": false,
    "id": "b8038fe3"
   },
   "source": [
    "**Задание 2. Выведите первые 20 строчек датафрейма `data` на экран.**"
   ]
  },
  {
   "cell_type": "code",
   "execution_count": 2,
   "id": "e129fb2f",
   "metadata": {
    "deletable": false,
    "id": "2a7cab99",
    "outputId": "1a8f3ef2-d323-4ec2-ddf7-89670b5944c4"
   },
   "outputs": [
    {
     "data": {
      "text/html": [
       "<div>\n",
       "<style scoped>\n",
       "    .dataframe tbody tr th:only-of-type {\n",
       "        vertical-align: middle;\n",
       "    }\n",
       "\n",
       "    .dataframe tbody tr th {\n",
       "        vertical-align: top;\n",
       "    }\n",
       "\n",
       "    .dataframe thead th {\n",
       "        text-align: right;\n",
       "    }\n",
       "</style>\n",
       "<table border=\"1\" class=\"dataframe\">\n",
       "  <thead>\n",
       "    <tr style=\"text-align: right;\">\n",
       "      <th></th>\n",
       "      <th>children</th>\n",
       "      <th>days_employed</th>\n",
       "      <th>dob_years</th>\n",
       "      <th>education</th>\n",
       "      <th>education_id</th>\n",
       "      <th>family_status</th>\n",
       "      <th>family_status_id</th>\n",
       "      <th>gender</th>\n",
       "      <th>income_type</th>\n",
       "      <th>debt</th>\n",
       "      <th>total_income</th>\n",
       "      <th>purpose</th>\n",
       "    </tr>\n",
       "  </thead>\n",
       "  <tbody>\n",
       "    <tr>\n",
       "      <th>0</th>\n",
       "      <td>1</td>\n",
       "      <td>-8437.673028</td>\n",
       "      <td>42</td>\n",
       "      <td>высшее</td>\n",
       "      <td>0</td>\n",
       "      <td>женат / замужем</td>\n",
       "      <td>0</td>\n",
       "      <td>F</td>\n",
       "      <td>сотрудник</td>\n",
       "      <td>0</td>\n",
       "      <td>253875.639453</td>\n",
       "      <td>покупка жилья</td>\n",
       "    </tr>\n",
       "    <tr>\n",
       "      <th>1</th>\n",
       "      <td>1</td>\n",
       "      <td>-4024.803754</td>\n",
       "      <td>36</td>\n",
       "      <td>среднее</td>\n",
       "      <td>1</td>\n",
       "      <td>женат / замужем</td>\n",
       "      <td>0</td>\n",
       "      <td>F</td>\n",
       "      <td>сотрудник</td>\n",
       "      <td>0</td>\n",
       "      <td>112080.014102</td>\n",
       "      <td>приобретение автомобиля</td>\n",
       "    </tr>\n",
       "    <tr>\n",
       "      <th>2</th>\n",
       "      <td>0</td>\n",
       "      <td>-5623.422610</td>\n",
       "      <td>33</td>\n",
       "      <td>Среднее</td>\n",
       "      <td>1</td>\n",
       "      <td>женат / замужем</td>\n",
       "      <td>0</td>\n",
       "      <td>M</td>\n",
       "      <td>сотрудник</td>\n",
       "      <td>0</td>\n",
       "      <td>145885.952297</td>\n",
       "      <td>покупка жилья</td>\n",
       "    </tr>\n",
       "    <tr>\n",
       "      <th>3</th>\n",
       "      <td>3</td>\n",
       "      <td>-4124.747207</td>\n",
       "      <td>32</td>\n",
       "      <td>среднее</td>\n",
       "      <td>1</td>\n",
       "      <td>женат / замужем</td>\n",
       "      <td>0</td>\n",
       "      <td>M</td>\n",
       "      <td>сотрудник</td>\n",
       "      <td>0</td>\n",
       "      <td>267628.550329</td>\n",
       "      <td>дополнительное образование</td>\n",
       "    </tr>\n",
       "    <tr>\n",
       "      <th>4</th>\n",
       "      <td>0</td>\n",
       "      <td>340266.072047</td>\n",
       "      <td>53</td>\n",
       "      <td>среднее</td>\n",
       "      <td>1</td>\n",
       "      <td>гражданский брак</td>\n",
       "      <td>1</td>\n",
       "      <td>F</td>\n",
       "      <td>пенсионер</td>\n",
       "      <td>0</td>\n",
       "      <td>158616.077870</td>\n",
       "      <td>сыграть свадьбу</td>\n",
       "    </tr>\n",
       "    <tr>\n",
       "      <th>5</th>\n",
       "      <td>0</td>\n",
       "      <td>-926.185831</td>\n",
       "      <td>27</td>\n",
       "      <td>высшее</td>\n",
       "      <td>0</td>\n",
       "      <td>гражданский брак</td>\n",
       "      <td>1</td>\n",
       "      <td>M</td>\n",
       "      <td>компаньон</td>\n",
       "      <td>0</td>\n",
       "      <td>255763.565419</td>\n",
       "      <td>покупка жилья</td>\n",
       "    </tr>\n",
       "    <tr>\n",
       "      <th>6</th>\n",
       "      <td>0</td>\n",
       "      <td>-2879.202052</td>\n",
       "      <td>43</td>\n",
       "      <td>высшее</td>\n",
       "      <td>0</td>\n",
       "      <td>женат / замужем</td>\n",
       "      <td>0</td>\n",
       "      <td>F</td>\n",
       "      <td>компаньон</td>\n",
       "      <td>0</td>\n",
       "      <td>240525.971920</td>\n",
       "      <td>операции с жильем</td>\n",
       "    </tr>\n",
       "    <tr>\n",
       "      <th>7</th>\n",
       "      <td>0</td>\n",
       "      <td>-152.779569</td>\n",
       "      <td>50</td>\n",
       "      <td>СРЕДНЕЕ</td>\n",
       "      <td>1</td>\n",
       "      <td>женат / замужем</td>\n",
       "      <td>0</td>\n",
       "      <td>M</td>\n",
       "      <td>сотрудник</td>\n",
       "      <td>0</td>\n",
       "      <td>135823.934197</td>\n",
       "      <td>образование</td>\n",
       "    </tr>\n",
       "    <tr>\n",
       "      <th>8</th>\n",
       "      <td>2</td>\n",
       "      <td>-6929.865299</td>\n",
       "      <td>35</td>\n",
       "      <td>ВЫСШЕЕ</td>\n",
       "      <td>0</td>\n",
       "      <td>гражданский брак</td>\n",
       "      <td>1</td>\n",
       "      <td>F</td>\n",
       "      <td>сотрудник</td>\n",
       "      <td>0</td>\n",
       "      <td>95856.832424</td>\n",
       "      <td>на проведение свадьбы</td>\n",
       "    </tr>\n",
       "    <tr>\n",
       "      <th>9</th>\n",
       "      <td>0</td>\n",
       "      <td>-2188.756445</td>\n",
       "      <td>41</td>\n",
       "      <td>среднее</td>\n",
       "      <td>1</td>\n",
       "      <td>женат / замужем</td>\n",
       "      <td>0</td>\n",
       "      <td>M</td>\n",
       "      <td>сотрудник</td>\n",
       "      <td>0</td>\n",
       "      <td>144425.938277</td>\n",
       "      <td>покупка жилья для семьи</td>\n",
       "    </tr>\n",
       "    <tr>\n",
       "      <th>10</th>\n",
       "      <td>2</td>\n",
       "      <td>-4171.483647</td>\n",
       "      <td>36</td>\n",
       "      <td>высшее</td>\n",
       "      <td>0</td>\n",
       "      <td>женат / замужем</td>\n",
       "      <td>0</td>\n",
       "      <td>M</td>\n",
       "      <td>компаньон</td>\n",
       "      <td>0</td>\n",
       "      <td>113943.491460</td>\n",
       "      <td>покупка недвижимости</td>\n",
       "    </tr>\n",
       "    <tr>\n",
       "      <th>11</th>\n",
       "      <td>0</td>\n",
       "      <td>-792.701887</td>\n",
       "      <td>40</td>\n",
       "      <td>среднее</td>\n",
       "      <td>1</td>\n",
       "      <td>женат / замужем</td>\n",
       "      <td>0</td>\n",
       "      <td>F</td>\n",
       "      <td>сотрудник</td>\n",
       "      <td>0</td>\n",
       "      <td>77069.234271</td>\n",
       "      <td>покупка коммерческой недвижимости</td>\n",
       "    </tr>\n",
       "    <tr>\n",
       "      <th>12</th>\n",
       "      <td>0</td>\n",
       "      <td>NaN</td>\n",
       "      <td>65</td>\n",
       "      <td>среднее</td>\n",
       "      <td>1</td>\n",
       "      <td>гражданский брак</td>\n",
       "      <td>1</td>\n",
       "      <td>M</td>\n",
       "      <td>пенсионер</td>\n",
       "      <td>0</td>\n",
       "      <td>NaN</td>\n",
       "      <td>сыграть свадьбу</td>\n",
       "    </tr>\n",
       "    <tr>\n",
       "      <th>13</th>\n",
       "      <td>0</td>\n",
       "      <td>-1846.641941</td>\n",
       "      <td>54</td>\n",
       "      <td>неоконченное высшее</td>\n",
       "      <td>2</td>\n",
       "      <td>женат / замужем</td>\n",
       "      <td>0</td>\n",
       "      <td>F</td>\n",
       "      <td>сотрудник</td>\n",
       "      <td>0</td>\n",
       "      <td>130458.228857</td>\n",
       "      <td>приобретение автомобиля</td>\n",
       "    </tr>\n",
       "    <tr>\n",
       "      <th>14</th>\n",
       "      <td>0</td>\n",
       "      <td>-1844.956182</td>\n",
       "      <td>56</td>\n",
       "      <td>высшее</td>\n",
       "      <td>0</td>\n",
       "      <td>гражданский брак</td>\n",
       "      <td>1</td>\n",
       "      <td>F</td>\n",
       "      <td>компаньон</td>\n",
       "      <td>1</td>\n",
       "      <td>165127.911772</td>\n",
       "      <td>покупка жилой недвижимости</td>\n",
       "    </tr>\n",
       "    <tr>\n",
       "      <th>15</th>\n",
       "      <td>1</td>\n",
       "      <td>-972.364419</td>\n",
       "      <td>26</td>\n",
       "      <td>среднее</td>\n",
       "      <td>1</td>\n",
       "      <td>женат / замужем</td>\n",
       "      <td>0</td>\n",
       "      <td>F</td>\n",
       "      <td>сотрудник</td>\n",
       "      <td>0</td>\n",
       "      <td>116820.904450</td>\n",
       "      <td>строительство собственной недвижимости</td>\n",
       "    </tr>\n",
       "    <tr>\n",
       "      <th>16</th>\n",
       "      <td>0</td>\n",
       "      <td>-1719.934226</td>\n",
       "      <td>35</td>\n",
       "      <td>среднее</td>\n",
       "      <td>1</td>\n",
       "      <td>женат / замужем</td>\n",
       "      <td>0</td>\n",
       "      <td>F</td>\n",
       "      <td>сотрудник</td>\n",
       "      <td>0</td>\n",
       "      <td>289202.704229</td>\n",
       "      <td>недвижимость</td>\n",
       "    </tr>\n",
       "    <tr>\n",
       "      <th>17</th>\n",
       "      <td>0</td>\n",
       "      <td>-2369.999720</td>\n",
       "      <td>33</td>\n",
       "      <td>высшее</td>\n",
       "      <td>0</td>\n",
       "      <td>гражданский брак</td>\n",
       "      <td>1</td>\n",
       "      <td>M</td>\n",
       "      <td>сотрудник</td>\n",
       "      <td>0</td>\n",
       "      <td>90410.586745</td>\n",
       "      <td>строительство недвижимости</td>\n",
       "    </tr>\n",
       "    <tr>\n",
       "      <th>18</th>\n",
       "      <td>0</td>\n",
       "      <td>400281.136913</td>\n",
       "      <td>53</td>\n",
       "      <td>среднее</td>\n",
       "      <td>1</td>\n",
       "      <td>вдовец / вдова</td>\n",
       "      <td>2</td>\n",
       "      <td>F</td>\n",
       "      <td>пенсионер</td>\n",
       "      <td>0</td>\n",
       "      <td>56823.777243</td>\n",
       "      <td>на покупку подержанного автомобиля</td>\n",
       "    </tr>\n",
       "    <tr>\n",
       "      <th>19</th>\n",
       "      <td>0</td>\n",
       "      <td>-10038.818549</td>\n",
       "      <td>48</td>\n",
       "      <td>СРЕДНЕЕ</td>\n",
       "      <td>1</td>\n",
       "      <td>в разводе</td>\n",
       "      <td>3</td>\n",
       "      <td>F</td>\n",
       "      <td>сотрудник</td>\n",
       "      <td>0</td>\n",
       "      <td>242831.107982</td>\n",
       "      <td>на покупку своего автомобиля</td>\n",
       "    </tr>\n",
       "  </tbody>\n",
       "</table>\n",
       "</div>"
      ],
      "text/plain": [
       "    children  days_employed  dob_years            education  education_id  \\\n",
       "0          1   -8437.673028         42               высшее             0   \n",
       "1          1   -4024.803754         36              среднее             1   \n",
       "2          0   -5623.422610         33              Среднее             1   \n",
       "3          3   -4124.747207         32              среднее             1   \n",
       "4          0  340266.072047         53              среднее             1   \n",
       "5          0    -926.185831         27               высшее             0   \n",
       "6          0   -2879.202052         43               высшее             0   \n",
       "7          0    -152.779569         50              СРЕДНЕЕ             1   \n",
       "8          2   -6929.865299         35               ВЫСШЕЕ             0   \n",
       "9          0   -2188.756445         41              среднее             1   \n",
       "10         2   -4171.483647         36               высшее             0   \n",
       "11         0    -792.701887         40              среднее             1   \n",
       "12         0            NaN         65              среднее             1   \n",
       "13         0   -1846.641941         54  неоконченное высшее             2   \n",
       "14         0   -1844.956182         56               высшее             0   \n",
       "15         1    -972.364419         26              среднее             1   \n",
       "16         0   -1719.934226         35              среднее             1   \n",
       "17         0   -2369.999720         33               высшее             0   \n",
       "18         0  400281.136913         53              среднее             1   \n",
       "19         0  -10038.818549         48              СРЕДНЕЕ             1   \n",
       "\n",
       "       family_status  family_status_id gender income_type  debt  \\\n",
       "0    женат / замужем                 0      F   сотрудник     0   \n",
       "1    женат / замужем                 0      F   сотрудник     0   \n",
       "2    женат / замужем                 0      M   сотрудник     0   \n",
       "3    женат / замужем                 0      M   сотрудник     0   \n",
       "4   гражданский брак                 1      F   пенсионер     0   \n",
       "5   гражданский брак                 1      M   компаньон     0   \n",
       "6    женат / замужем                 0      F   компаньон     0   \n",
       "7    женат / замужем                 0      M   сотрудник     0   \n",
       "8   гражданский брак                 1      F   сотрудник     0   \n",
       "9    женат / замужем                 0      M   сотрудник     0   \n",
       "10   женат / замужем                 0      M   компаньон     0   \n",
       "11   женат / замужем                 0      F   сотрудник     0   \n",
       "12  гражданский брак                 1      M   пенсионер     0   \n",
       "13   женат / замужем                 0      F   сотрудник     0   \n",
       "14  гражданский брак                 1      F   компаньон     1   \n",
       "15   женат / замужем                 0      F   сотрудник     0   \n",
       "16   женат / замужем                 0      F   сотрудник     0   \n",
       "17  гражданский брак                 1      M   сотрудник     0   \n",
       "18    вдовец / вдова                 2      F   пенсионер     0   \n",
       "19         в разводе                 3      F   сотрудник     0   \n",
       "\n",
       "     total_income                                 purpose  \n",
       "0   253875.639453                           покупка жилья  \n",
       "1   112080.014102                 приобретение автомобиля  \n",
       "2   145885.952297                           покупка жилья  \n",
       "3   267628.550329              дополнительное образование  \n",
       "4   158616.077870                         сыграть свадьбу  \n",
       "5   255763.565419                           покупка жилья  \n",
       "6   240525.971920                       операции с жильем  \n",
       "7   135823.934197                             образование  \n",
       "8    95856.832424                   на проведение свадьбы  \n",
       "9   144425.938277                 покупка жилья для семьи  \n",
       "10  113943.491460                    покупка недвижимости  \n",
       "11   77069.234271       покупка коммерческой недвижимости  \n",
       "12            NaN                         сыграть свадьбу  \n",
       "13  130458.228857                 приобретение автомобиля  \n",
       "14  165127.911772              покупка жилой недвижимости  \n",
       "15  116820.904450  строительство собственной недвижимости  \n",
       "16  289202.704229                            недвижимость  \n",
       "17   90410.586745              строительство недвижимости  \n",
       "18   56823.777243      на покупку подержанного автомобиля  \n",
       "19  242831.107982            на покупку своего автомобиля  "
      ]
     },
     "execution_count": 2,
     "metadata": {},
     "output_type": "execute_result"
    }
   ],
   "source": [
    "data.head(20)"
   ]
  },
  {
   "cell_type": "markdown",
   "id": "2ffb9f03",
   "metadata": {
    "deletable": false,
    "editable": false,
    "id": "1c12e233"
   },
   "source": [
    "**Задание 3. Выведите основную информацию о датафрейме с помощью метода `info()`.**"
   ]
  },
  {
   "cell_type": "code",
   "execution_count": 3,
   "id": "b2481079",
   "metadata": {
    "deletable": false,
    "id": "2b757bca",
    "outputId": "15376089-8dad-46c9-b520-c05248d43158"
   },
   "outputs": [
    {
     "name": "stdout",
     "output_type": "stream",
     "text": [
      "<class 'pandas.core.frame.DataFrame'>\n",
      "RangeIndex: 21525 entries, 0 to 21524\n",
      "Data columns (total 12 columns):\n",
      " #   Column            Non-Null Count  Dtype  \n",
      "---  ------            --------------  -----  \n",
      " 0   children          21525 non-null  int64  \n",
      " 1   days_employed     19351 non-null  float64\n",
      " 2   dob_years         21525 non-null  int64  \n",
      " 3   education         21525 non-null  object \n",
      " 4   education_id      21525 non-null  int64  \n",
      " 5   family_status     21525 non-null  object \n",
      " 6   family_status_id  21525 non-null  int64  \n",
      " 7   gender            21525 non-null  object \n",
      " 8   income_type       21525 non-null  object \n",
      " 9   debt              21525 non-null  int64  \n",
      " 10  total_income      19351 non-null  float64\n",
      " 11  purpose           21525 non-null  object \n",
      "dtypes: float64(2), int64(5), object(5)\n",
      "memory usage: 2.0+ MB\n"
     ]
    }
   ],
   "source": [
    "data.info()"
   ]
  },
  {
   "cell_type": "markdown",
   "id": "daf45212",
   "metadata": {
    "deletable": false,
    "editable": false,
    "id": "333ec665"
   },
   "source": [
    "## Предобработка данных"
   ]
  },
  {
   "cell_type": "markdown",
   "id": "e139c002",
   "metadata": {
    "deletable": false,
    "editable": false,
    "id": "02d92d53"
   },
   "source": [
    "### Удаление пропусков"
   ]
  },
  {
   "cell_type": "markdown",
   "id": "8220c166",
   "metadata": {
    "deletable": false,
    "editable": false,
    "id": "cd84967c"
   },
   "source": [
    "**Задание 4. Выведите количество пропущенных значений для каждого столбца. Используйте комбинацию двух методов.**"
   ]
  },
  {
   "cell_type": "code",
   "execution_count": 4,
   "id": "31ce5708",
   "metadata": {
    "deletable": false,
    "id": "7f9b2309",
    "outputId": "81f4d817-781c-465c-ed15-91ce4446810d"
   },
   "outputs": [
    {
     "data": {
      "text/plain": [
       "children               0\n",
       "days_employed       2174\n",
       "dob_years              0\n",
       "education              0\n",
       "education_id           0\n",
       "family_status          0\n",
       "family_status_id       0\n",
       "gender                 0\n",
       "income_type            0\n",
       "debt                   0\n",
       "total_income        2174\n",
       "purpose                0\n",
       "dtype: int64"
      ]
     },
     "execution_count": 4,
     "metadata": {},
     "output_type": "execute_result"
    }
   ],
   "source": [
    "data.isna().sum()"
   ]
  },
  {
   "cell_type": "markdown",
   "id": "436b9d12",
   "metadata": {
    "deletable": false,
    "editable": false,
    "id": "db86e27b"
   },
   "source": [
    "**Задание 5. В двух столбцах есть пропущенные значения. Один из них — `days_employed`. Пропуски в этом столбце вы обработаете на следующем этапе. Другой столбец с пропущенными значениями — `total_income` — хранит данные о доходах. На сумму дохода сильнее всего влияет тип занятости, поэтому заполнить пропуски в этом столбце нужно медианным значением по каждому типу из столбца `income_type`. Например, у человека с типом занятости `сотрудник` пропуск в столбце `total_income` должен быть заполнен медианным доходом среди всех записей с тем же типом.**"
   ]
  },
  {
   "cell_type": "code",
   "execution_count": 5,
   "id": "8f0d7974",
   "metadata": {
    "deletable": false,
    "id": "42006a93"
   },
   "outputs": [],
   "source": [
    "for t in data['income_type'].unique():\n",
    "    data.loc[(data['income_type'] == t) & (data['total_income'].isna()), 'total_income'] = \\\n",
    "    data.loc[(data['income_type'] == t), 'total_income'].median()"
   ]
  },
  {
   "cell_type": "markdown",
   "id": "b9beffcc",
   "metadata": {
    "deletable": false,
    "editable": false,
    "id": "89da5ece"
   },
   "source": [
    "### Обработка аномальных значений"
   ]
  },
  {
   "cell_type": "markdown",
   "id": "d54a0cea",
   "metadata": {
    "deletable": false,
    "editable": false,
    "id": "57964554"
   },
   "source": [
    "**Задание 6. В данных могут встречаться артефакты (аномалии) — значения, которые не отражают действительность и появились по какой-то ошибке. таким артефактом будет отрицательное количество дней трудового стажа в столбце `days_employed`. Для реальных данных это нормально. Обработайте значения в этом столбце: замените все отрицательные значения положительными с помощью метода `abs()`.**"
   ]
  },
  {
   "cell_type": "code",
   "execution_count": 6,
   "id": "db11846f",
   "metadata": {
    "deletable": false,
    "id": "f6f055bf"
   },
   "outputs": [],
   "source": [
    "data['days_employed'] = data['days_employed'].abs()"
   ]
  },
  {
   "cell_type": "markdown",
   "id": "460e1e7c",
   "metadata": {
    "deletable": false,
    "editable": false,
    "id": "6107dd2f"
   },
   "source": [
    "**Задание 7. Для каждого типа занятости выведите медианное значение трудового стажа `days_employed` в днях.**"
   ]
  },
  {
   "cell_type": "code",
   "execution_count": 7,
   "id": "ab8a508c",
   "metadata": {
    "deletable": false,
    "id": "85a5faf6",
    "outputId": "801ef80e-522b-4668-f34e-565af7432bcf"
   },
   "outputs": [
    {
     "data": {
      "text/plain": [
       "income_type\n",
       "безработный        366413.652744\n",
       "в декрете            3296.759962\n",
       "госслужащий          2689.368353\n",
       "компаньон            1547.382223\n",
       "пенсионер          365213.306266\n",
       "предприниматель       520.848083\n",
       "сотрудник            1574.202821\n",
       "студент               578.751554\n",
       "Name: days_employed, dtype: float64"
      ]
     },
     "execution_count": 7,
     "metadata": {},
     "output_type": "execute_result"
    }
   ],
   "source": [
    "data.groupby('income_type')['days_employed'].agg('median')"
   ]
  },
  {
   "cell_type": "markdown",
   "id": "71d4bbb7",
   "metadata": {
    "deletable": false,
    "editable": false,
    "id": "38d1a030"
   },
   "source": [
    "У двух типов (безработные и пенсионеры) получатся аномально большие значения. Исправить такие значения сложно, поэтому оставьте их как есть. Тем более этот столбец не понадобится вам для исследования."
   ]
  },
  {
   "cell_type": "markdown",
   "id": "078fb9ac",
   "metadata": {
    "deletable": false,
    "editable": false,
    "id": "d8a9f147"
   },
   "source": [
    "**Задание 8. Выведите перечень уникальных значений столбца `children`.**"
   ]
  },
  {
   "cell_type": "code",
   "execution_count": 8,
   "id": "38141277",
   "metadata": {
    "deletable": false,
    "id": "ef5056eb",
    "outputId": "6975b15c-7f95-4697-d16d-a0c79b657b03"
   },
   "outputs": [
    {
     "data": {
      "text/plain": [
       "array([ 1,  0,  3,  2, -1,  4, 20,  5])"
      ]
     },
     "execution_count": 8,
     "metadata": {},
     "output_type": "execute_result"
    }
   ],
   "source": [
    "data['children'].unique()"
   ]
  },
  {
   "cell_type": "markdown",
   "id": "2c565363",
   "metadata": {
    "deletable": false,
    "editable": false,
    "id": "40b9ebf2"
   },
   "source": [
    "**Задание 9. В столбце `children` есть два аномальных значения. Удалите строки, в которых встречаются такие аномальные значения из датафрейма `data`.**"
   ]
  },
  {
   "cell_type": "code",
   "execution_count": 9,
   "id": "6df07143",
   "metadata": {
    "deletable": false,
    "id": "3ff9801d"
   },
   "outputs": [],
   "source": [
    "data = data[(data['children'] != -1) & (data['children'] != 20)]"
   ]
  },
  {
   "cell_type": "markdown",
   "id": "29c18342",
   "metadata": {
    "deletable": false,
    "editable": false,
    "id": "bbc4d0ce"
   },
   "source": [
    "**Задание 10. Ещё раз выведите перечень уникальных значений столбца `children`, чтобы убедиться, что артефакты удалены.**"
   ]
  },
  {
   "cell_type": "code",
   "execution_count": 10,
   "id": "93900c5e",
   "metadata": {
    "deletable": false,
    "id": "ad4fa8b7",
    "outputId": "b2097101-d49d-44d9-901b-32a65c9463d1"
   },
   "outputs": [
    {
     "data": {
      "text/plain": [
       "array([1, 0, 3, 2, 4, 5])"
      ]
     },
     "execution_count": 10,
     "metadata": {},
     "output_type": "execute_result"
    }
   ],
   "source": [
    "data['children'].unique()"
   ]
  },
  {
   "cell_type": "markdown",
   "id": "b51fc148",
   "metadata": {
    "deletable": false,
    "editable": false,
    "id": "75440b63"
   },
   "source": [
    "### Удаление пропусков (продолжение)"
   ]
  },
  {
   "cell_type": "markdown",
   "id": "ed6c90ea",
   "metadata": {
    "deletable": false,
    "editable": false,
    "id": "f4ea573f"
   },
   "source": [
    "**Задание 11. Заполните пропуски в столбце `days_employed` медианными значениями по каждого типа занятости `income_type`.**"
   ]
  },
  {
   "cell_type": "code",
   "execution_count": 11,
   "id": "294cec2a",
   "metadata": {
    "deletable": false,
    "id": "af6b1a7e"
   },
   "outputs": [],
   "source": [
    "for t in data['income_type'].unique():\n",
    "    data.loc[(data['income_type'] == t) & (data['days_employed'].isna()), 'days_employed'] = \\\n",
    "    data.loc[(data['income_type'] == t), 'days_employed'].median()"
   ]
  },
  {
   "cell_type": "markdown",
   "id": "91574903",
   "metadata": {
    "deletable": false,
    "editable": false,
    "id": "2753f40d"
   },
   "source": [
    "**Задание 12. Убедитесь, что все пропуски заполнены. Проверьте себя и ещё раз выведите количество пропущенных значений для каждого столбца с помощью двух методов.**"
   ]
  },
  {
   "cell_type": "code",
   "execution_count": 12,
   "id": "331e141f",
   "metadata": {
    "deletable": false,
    "id": "55f78bc2",
    "outputId": "8da1e4e1-358e-4e87-98c9-f261bce0a7b2"
   },
   "outputs": [
    {
     "data": {
      "text/plain": [
       "children            0\n",
       "days_employed       0\n",
       "dob_years           0\n",
       "education           0\n",
       "education_id        0\n",
       "family_status       0\n",
       "family_status_id    0\n",
       "gender              0\n",
       "income_type         0\n",
       "debt                0\n",
       "total_income        0\n",
       "purpose             0\n",
       "dtype: int64"
      ]
     },
     "execution_count": 12,
     "metadata": {},
     "output_type": "execute_result"
    }
   ],
   "source": [
    "data.isna().sum()"
   ]
  },
  {
   "cell_type": "markdown",
   "id": "4141fead",
   "metadata": {
    "deletable": false,
    "editable": false,
    "id": "ddc81e43"
   },
   "source": [
    "### Изменение типов данных"
   ]
  },
  {
   "cell_type": "markdown",
   "id": "7d108567",
   "metadata": {
    "deletable": false,
    "editable": false,
    "id": "42d19d24"
   },
   "source": [
    "**Задание 13. Замените вещественный тип данных в столбце `total_income` на целочисленный с помощью метода `astype()`.**"
   ]
  },
  {
   "cell_type": "code",
   "execution_count": 13,
   "id": "4a4aa646",
   "metadata": {
    "deletable": false,
    "id": "920b65ad"
   },
   "outputs": [],
   "source": [
    "data['total_income'] = data['total_income'].astype(int)"
   ]
  },
  {
   "cell_type": "markdown",
   "id": "86a538ef",
   "metadata": {
    "deletable": false,
    "editable": false,
    "id": "80c420ba"
   },
   "source": [
    "### Обработка дубликатов"
   ]
  },
  {
   "cell_type": "markdown",
   "id": "c706fbfc",
   "metadata": {
    "deletable": false,
    "editable": false
   },
   "source": [
    "**Задание 14. Обработайте неявные дубликаты в столбце `education`. В этом столбце есть одни и те же значения, но записанные по-разному: с использованием заглавных и строчных букв. Приведите их к нижнему регистру. Проверьте остальные столбцы.**"
   ]
  },
  {
   "cell_type": "code",
   "execution_count": 14,
   "id": "03f30ec2",
   "metadata": {
    "deletable": false
   },
   "outputs": [],
   "source": [
    "data['education'] = data['education'].str.lower()"
   ]
  },
  {
   "cell_type": "markdown",
   "id": "55d9cb2b",
   "metadata": {
    "deletable": false,
    "editable": false,
    "id": "dc587695"
   },
   "source": [
    "**Задание 15. Выведите на экран количество строк-дубликатов в данных. Если такие строки присутствуют, удалите их.**"
   ]
  },
  {
   "cell_type": "code",
   "execution_count": 15,
   "id": "dd7e3fe2",
   "metadata": {
    "deletable": false,
    "id": "3ee445e4",
    "outputId": "9684deba-1934-42d1-99e1-cda61740f822"
   },
   "outputs": [
    {
     "data": {
      "text/plain": [
       "71"
      ]
     },
     "execution_count": 15,
     "metadata": {},
     "output_type": "execute_result"
    }
   ],
   "source": [
    "data.duplicated().sum()"
   ]
  },
  {
   "cell_type": "code",
   "execution_count": 16,
   "id": "1e2f295f",
   "metadata": {
    "deletable": false,
    "id": "8575fe05"
   },
   "outputs": [],
   "source": [
    "data = data.drop_duplicates()"
   ]
  },
  {
   "cell_type": "markdown",
   "id": "8de9a642",
   "metadata": {
    "deletable": false,
    "editable": false,
    "id": "9904cf55"
   },
   "source": [
    "### Категоризация данных"
   ]
  },
  {
   "cell_type": "markdown",
   "id": "bbb3375b",
   "metadata": {
    "deletable": false,
    "editable": false,
    "id": "72fcc8a2"
   },
   "source": [
    "**Задание 16. На основании диапазонов, указанных ниже, создайте в датафрейме `data` столбец `total_income_category` с категориями:**\n",
    "\n",
    "- 0–30000 — `'E'`;\n",
    "- 30001–50000 — `'D'`;\n",
    "- 50001–200000 — `'C'`;\n",
    "- 200001–1000000 — `'B'`;\n",
    "- 1000001 и выше — `'A'`.\n",
    "\n",
    "\n",
    "**Например, кредитополучателю с доходом 25000 нужно назначить категорию `'E'`, а клиенту, получающему 235000, — `'B'`. Используйте собственную функцию с именем `categorize_income()` и метод `apply()`.**"
   ]
  },
  {
   "cell_type": "code",
   "execution_count": 17,
   "id": "9d53bed6",
   "metadata": {
    "deletable": false,
    "id": "e1771346"
   },
   "outputs": [],
   "source": [
    "def categorize_income(income):\n",
    "    try:\n",
    "        if 0 <= income <= 30000:\n",
    "            return 'E'\n",
    "        elif 30001 <= income <= 50000:\n",
    "            return 'D'\n",
    "        elif 50001 <= income <= 200000:\n",
    "            return 'C'\n",
    "        elif 200001 <= income <= 1000000:\n",
    "            return 'B'\n",
    "        elif income >= 1000001:\n",
    "            return 'A'\n",
    "    except:\n",
    "        pass"
   ]
  },
  {
   "cell_type": "code",
   "execution_count": 18,
   "id": "896ad546",
   "metadata": {
    "deletable": false,
    "id": "d5f3586d"
   },
   "outputs": [],
   "source": [
    "data['total_income_category'] = data['total_income'].apply(categorize_income)"
   ]
  },
  {
   "cell_type": "markdown",
   "id": "33f30388",
   "metadata": {
    "deletable": false,
    "editable": false,
    "id": "dde49b5c"
   },
   "source": [
    "**Задание 17. Выведите на экран перечень уникальных целей взятия кредита из столбца `purpose`.**"
   ]
  },
  {
   "cell_type": "code",
   "execution_count": 19,
   "id": "46dade10",
   "metadata": {
    "deletable": false,
    "id": "f67ce9b3",
    "outputId": "673c12d9-7d7e-4ae0-9812-c622c89dd244"
   },
   "outputs": [
    {
     "data": {
      "text/plain": [
       "array(['покупка жилья', 'приобретение автомобиля',\n",
       "       'дополнительное образование', 'сыграть свадьбу',\n",
       "       'операции с жильем', 'образование', 'на проведение свадьбы',\n",
       "       'покупка жилья для семьи', 'покупка недвижимости',\n",
       "       'покупка коммерческой недвижимости', 'покупка жилой недвижимости',\n",
       "       'строительство собственной недвижимости', 'недвижимость',\n",
       "       'строительство недвижимости', 'на покупку подержанного автомобиля',\n",
       "       'на покупку своего автомобиля',\n",
       "       'операции с коммерческой недвижимостью',\n",
       "       'строительство жилой недвижимости', 'жилье',\n",
       "       'операции со своей недвижимостью', 'автомобили',\n",
       "       'заняться образованием', 'сделка с подержанным автомобилем',\n",
       "       'получение образования', 'автомобиль', 'свадьба',\n",
       "       'получение дополнительного образования', 'покупка своего жилья',\n",
       "       'операции с недвижимостью', 'получение высшего образования',\n",
       "       'свой автомобиль', 'сделка с автомобилем',\n",
       "       'профильное образование', 'высшее образование',\n",
       "       'покупка жилья для сдачи', 'на покупку автомобиля', 'ремонт жилью',\n",
       "       'заняться высшим образованием'], dtype=object)"
      ]
     },
     "execution_count": 19,
     "metadata": {},
     "output_type": "execute_result"
    }
   ],
   "source": [
    "data['purpose'].unique()"
   ]
  },
  {
   "cell_type": "markdown",
   "id": "513743e4",
   "metadata": {
    "deletable": false,
    "editable": false,
    "id": "85d0aef0"
   },
   "source": [
    "**Задание 18. Создайте функцию, которая на основании данных из столбца `purpose` сформирует новый столбец `purpose_category`, в который войдут следующие категории:**\n",
    "\n",
    "- `'операции с автомобилем'`,\n",
    "- `'операции с недвижимостью'`,\n",
    "- `'проведение свадьбы'`,\n",
    "- `'получение образования'`.\n",
    "\n",
    "**Например, если в столбце `purpose` находится подстрока `'на покупку автомобиля'`, то в столбце `purpose_category` должна появиться строка `'операции с автомобилем'`.**\n",
    "\n",
    "**Используйте собственную функцию с именем `categorize_purpose()` и метод `apply()`. Изучите данные в столбце `purpose` и определите, какие подстроки помогут вам правильно определить категорию.**"
   ]
  },
  {
   "cell_type": "code",
   "execution_count": 20,
   "id": "f7b50b7e",
   "metadata": {
    "deletable": false,
    "id": "e149fab4"
   },
   "outputs": [],
   "source": [
    "def categorize_purpose(row):\n",
    "    try:\n",
    "        if 'автом' in row:\n",
    "            return 'операции с автомобилем'\n",
    "        elif 'жил' in row or 'недвиж' in row:\n",
    "            return 'операции с недвижимостью'\n",
    "        elif 'свад' in row:\n",
    "            return 'проведение свадьбы'\n",
    "        elif 'образов' in row:\n",
    "            return 'получение образования'\n",
    "    except:\n",
    "        return 'нет категории'"
   ]
  },
  {
   "cell_type": "code",
   "execution_count": 21,
   "id": "a094adcc",
   "metadata": {
    "deletable": false,
    "id": "bf36e69b"
   },
   "outputs": [],
   "source": [
    "data['purpose_category'] = data['purpose'].apply(categorize_purpose)"
   ]
  },
  {
   "cell_type": "markdown",
   "id": "b86ce009",
   "metadata": {
    "deletable": false,
    "editable": false,
    "id": "09b242bf"
   },
   "source": [
    "### Шаг 3. Исследуйте данные и ответьте на вопросы"
   ]
  },
  {
   "cell_type": "markdown",
   "id": "4301d7a8",
   "metadata": {
    "deletable": false,
    "editable": false,
    "id": "c5d66278"
   },
   "source": [
    "#### 3.1 Есть ли зависимость между количеством детей и возвратом кредита в срок?"
   ]
  },
  {
   "cell_type": "code",
   "execution_count": 22,
   "id": "32e4ce27",
   "metadata": {
    "deletable": false,
    "id": "2cacfc4a"
   },
   "outputs": [
    {
     "data": {
      "text/html": [
       "<div>\n",
       "<style scoped>\n",
       "    .dataframe tbody tr th:only-of-type {\n",
       "        vertical-align: middle;\n",
       "    }\n",
       "\n",
       "    .dataframe tbody tr th {\n",
       "        vertical-align: top;\n",
       "    }\n",
       "\n",
       "    .dataframe thead th {\n",
       "        text-align: right;\n",
       "    }\n",
       "</style>\n",
       "<table border=\"1\" class=\"dataframe\">\n",
       "  <thead>\n",
       "    <tr style=\"text-align: right;\">\n",
       "      <th></th>\n",
       "      <th>debt_tot</th>\n",
       "      <th>debt_trg</th>\n",
       "      <th>collision</th>\n",
       "    </tr>\n",
       "    <tr>\n",
       "      <th>children</th>\n",
       "      <th></th>\n",
       "      <th></th>\n",
       "      <th></th>\n",
       "    </tr>\n",
       "  </thead>\n",
       "  <tbody>\n",
       "    <tr>\n",
       "      <th>0</th>\n",
       "      <td>14091</td>\n",
       "      <td>1063</td>\n",
       "      <td>0.075</td>\n",
       "    </tr>\n",
       "    <tr>\n",
       "      <th>1</th>\n",
       "      <td>4808</td>\n",
       "      <td>444</td>\n",
       "      <td>0.092</td>\n",
       "    </tr>\n",
       "    <tr>\n",
       "      <th>2</th>\n",
       "      <td>2052</td>\n",
       "      <td>194</td>\n",
       "      <td>0.095</td>\n",
       "    </tr>\n",
       "    <tr>\n",
       "      <th>3</th>\n",
       "      <td>330</td>\n",
       "      <td>27</td>\n",
       "      <td>0.082</td>\n",
       "    </tr>\n",
       "    <tr>\n",
       "      <th>4</th>\n",
       "      <td>41</td>\n",
       "      <td>4</td>\n",
       "      <td>0.098</td>\n",
       "    </tr>\n",
       "    <tr>\n",
       "      <th>5</th>\n",
       "      <td>9</td>\n",
       "      <td>0</td>\n",
       "      <td>0.000</td>\n",
       "    </tr>\n",
       "  </tbody>\n",
       "</table>\n",
       "</div>"
      ],
      "text/plain": [
       "          debt_tot  debt_trg  collision\n",
       "children                               \n",
       "0            14091      1063      0.075\n",
       "1             4808       444      0.092\n",
       "2             2052       194      0.095\n",
       "3              330        27      0.082\n",
       "4               41         4      0.098\n",
       "5                9         0      0.000"
      ]
     },
     "metadata": {},
     "output_type": "display_data"
    }
   ],
   "source": [
    "data_p = data.pivot_table(index=['children'],\n",
    "                                values='debt',\n",
    "                                aggfunc={'count','sum'})\n",
    "data_p = data_p.rename(columns={'count':'debt_tot','sum':'debt_trg'})\n",
    "data_p['collision']= round(data_p['debt_trg']/data_p['debt_tot'], 3 )\n",
    "display(data_p)"
   ]
  },
  {
   "cell_type": "markdown",
   "id": "3b3a4656",
   "metadata": {
    "deletable": false,
    "id": "3a6b99ec"
   },
   "source": [
    "**Вывод:** Как видно из выведенных данных, зависимость между количеством детей и возвратом в установленные сроки действительно существует. Чем больше детей у клиента, тем меньше вероятность возврата в срок.(Это видно по столбцу 'collision')\n",
    "*Количество данных по семьям с тремя и более детьми недостаточно для корректных выводов"
   ]
  },
  {
   "cell_type": "markdown",
   "id": "5a61d147",
   "metadata": {
    "deletable": false,
    "editable": false,
    "id": "97be82ca"
   },
   "source": [
    "#### 3.2 Есть ли зависимость между семейным положением и возвратом кредита в срок?"
   ]
  },
  {
   "cell_type": "code",
   "execution_count": 23,
   "id": "62e60811",
   "metadata": {
    "deletable": false,
    "id": "dc3f7ee8"
   },
   "outputs": [
    {
     "name": "stdout",
     "output_type": "stream",
     "text": [
      "                       debt_tot  debt_trg  collision\n",
      "family_status                                       \n",
      "Не женат / не замужем      2796       273      0.098\n",
      "в разводе                  1189        84      0.071\n",
      "вдовец / вдова              951        63      0.066\n",
      "гражданский брак           4134       385      0.093\n",
      "женат / замужем           12261       927      0.076\n"
     ]
    }
   ],
   "source": [
    "data_family = data.pivot_table(index=['family_status'],\n",
    "                                values='debt',\n",
    "                                aggfunc={'count','sum'})\n",
    "data_family = data_family.rename(columns={'count':'debt_tot','sum':'debt_trg' })\n",
    "data_family['collision'] = round(data_family['debt_trg']/data_family['debt_tot'], 3 )\n",
    "print(data_family)"
   ]
  },
  {
   "cell_type": "markdown",
   "id": "782d99a2",
   "metadata": {
    "deletable": false,
    "id": "1cef7837"
   },
   "source": [
    "**Вывод:** Четко отслеживаемая зависимость отсутсвует, однако некоторые типы семейного положения( 'Не женат / не замужем' и 'гражданский брак ') более склонны к просрочке кредитов. Самыми надежными являются люди в прошлом бывшие в браке."
   ]
  },
  {
   "cell_type": "markdown",
   "id": "4779b529",
   "metadata": {
    "deletable": false,
    "editable": false,
    "id": "1e8b2fca"
   },
   "source": [
    "#### 3.3 Есть ли зависимость между уровнем дохода и возвратом кредита в срок?"
   ]
  },
  {
   "cell_type": "code",
   "execution_count": 24,
   "id": "41774b7f",
   "metadata": {
    "deletable": false,
    "id": "cd7e3720"
   },
   "outputs": [
    {
     "name": "stdout",
     "output_type": "stream",
     "text": [
      "                       debt_tot  debt_trg  collision\n",
      "total_income_category                               \n",
      "D                           349        21      0.060\n",
      "B                          5014       354      0.071\n",
      "A                            25         2      0.080\n",
      "C                         15921      1353      0.085\n",
      "E                            22         2      0.091\n"
     ]
    }
   ],
   "source": [
    "data_t_income = data.pivot_table(index=['total_income_category'],\n",
    "                                values='debt',\n",
    "                                aggfunc={'count','sum'})\n",
    "data_t_income = data_t_income.rename(columns={'count':'debt_tot','sum':'debt_trg' })\n",
    "data_t_income['collision'] = round(data_t_income['debt_trg']/data_t_income['debt_tot'], 3 )\n",
    "print(data_t_income.sort_values( by= 'collision', ascending=True)) \n",
    "# Ваш код будет здесь. Вы можете создавать новые ячейки."
   ]
  },
  {
   "cell_type": "markdown",
   "id": "0432de6d",
   "metadata": {
    "deletable": false,
    "id": "e8593def"
   },
   "source": [
    "**Вывод:**  Количество клиентов в категориях 'A'/'E'/'D' - недостаточно для выведения закономерности, поэтому судить можно о категориях 'В' и 'С', среди которых более надежна 'В'."
   ]
  },
  {
   "cell_type": "markdown",
   "id": "653a61fd",
   "metadata": {
    "deletable": false,
    "editable": false,
    "id": "99ecbd1f"
   },
   "source": [
    "#### 3.4 Как разные цели кредита влияют на его возврат в срок?"
   ]
  },
  {
   "cell_type": "code",
   "execution_count": 25,
   "id": "90865ec1",
   "metadata": {
    "deletable": false,
    "id": "2b687290"
   },
   "outputs": [
    {
     "name": "stdout",
     "output_type": "stream",
     "text": [
      "                          debt_tot  debt_trg  collision\n",
      "purpose_category                                       \n",
      "операции с недвижимостью     10751       780      0.073\n",
      "проведение свадьбы            2313       183      0.079\n",
      "операции с автомобилем        4279       400      0.093\n",
      "получение образования         3988       369      0.093\n"
     ]
    }
   ],
   "source": [
    "data_purpose = data.pivot_table(index=['purpose_category'],\n",
    "                                values='debt',\n",
    "                                aggfunc={'count','sum'})\n",
    "data_purpose = data_purpose.rename(columns={'count':'debt_tot','sum':'debt_trg' })\n",
    "data_purpose['collision'] = round(data_purpose['debt_trg']/data_purpose['debt_tot'], 3 )\n",
    "print(data_purpose.sort_values( by= 'collision', ascending=True)) "
   ]
  },
  {
   "cell_type": "markdown",
   "id": "6c993e6e",
   "metadata": {
    "deletable": false,
    "id": "b4bb2ce6"
   },
   "source": [
    "**Вывод:** Вероятность возврата в срок наиболее вероятна для случаев, когда он взят на оплату недвижимости и свадьбу, возможно это связано с очень продолжительным сроком выплаты в первом случае и с особенностями подарков во втором.\n",
    "В случае же оплаты автомобиля и образования вероятность просрочки выше."
   ]
  },
  {
   "cell_type": "markdown",
   "id": "4d821100",
   "metadata": {
    "deletable": false,
    "editable": false,
    "id": "09c3ac4c"
   },
   "source": [
    "#### 3.5 Приведите возможные причины появления пропусков в исходных данных."
   ]
  },
  {
   "cell_type": "markdown",
   "id": "1a450de6",
   "metadata": {
    "deletable": false,
    "id": "9da2ceda"
   },
   "source": [
    "*Ответ:* \n",
    "Пропуски были в двух столбцах данных, основной причиной, скорее всего, является человеческий фактор(клиенты могли не предоставить данные, либо, возможно, часть информации не требовали в некоторых случаях ) при заполнении. \n",
    "Также это связано со структурой таблицы, ведь количество пропусков одинаковое для этих столбцов. Либо данные исказились при объединении таблиц"
   ]
  },
  {
   "cell_type": "markdown",
   "id": "62c62b08",
   "metadata": {
    "deletable": false,
    "editable": false,
    "id": "7b0487d6"
   },
   "source": [
    "#### 3.6 Объясните, почему заполнить пропуски медианным значением — лучшее решение для количественных переменных."
   ]
  },
  {
   "cell_type": "markdown",
   "id": "f3e0ab60",
   "metadata": {
    "deletable": false,
    "id": "7ecf2b8e"
   },
   "source": [
    "*Ответ:* \n",
    "В данном случае это оптимально, так как данные, используемые для анализа в каждой из категорий имеют выделяющиеся значения из за специфики предмета анализа, что позволяет утверждать что заполнение пропусков медианным значением предоставит достаточный уровень точности для того чтобы делать выводы о каждом конкретном типе операций.\n",
    "\n",
    "Среднее арифметическое отражает ситуацию некорректно, так как не учитывает разброс данных (который присутсвует из за того что рассматриваются разные категории трат, из за чего их нужно нивелировать медианой)."
   ]
  },
  {
   "cell_type": "markdown",
   "id": "20c5f15d",
   "metadata": {
    "deletable": false,
    "editable": false,
    "id": "6db5255a"
   },
   "source": [
    "### Шаг 4: общий вывод."
   ]
  },
  {
   "cell_type": "markdown",
   "id": "7ffdd305",
   "metadata": {
    "deletable": false,
    "id": "bad65432"
   },
   "source": [
    "Напишите ваш общий вывод.\n",
    "\n",
    "<b>Данные были обработаны</b> , в частности были устранены пропуски и дупликаты, а также довалены отдельные категории для удобства восприятия и анализа. Помимо этого были проведены исследования для отслеживания зависимостей между определенными характеристиками клиентов и их способностью выполнть кредитные обязательства. \n",
    "В целом, по выдвинутым гипотезам общая зависимость не прослеживается. \n",
    "Также стоит учитывать что некоторые выведенные категории включают в себя недостаточно большое количество клиентов, что не позволяет использовать их в общем анализе, поэтому из общей картины исключены результаты многодетных семей (4 и 5 детей) и принадлежащие к категориям дохода  A, D и E.\n",
    "\n",
    "\n",
    "<b>Результаты анализа:</b>\n",
    "\n",
    "Нет четкой взаимосвязи, но тем не менее, можно судить о том, что люди, которые с наибольшей вероятностью допустят просрочку по кредиту, вероятно, будут иметь несколько детей, возможно будут состоять в гражданском браке, а более вероятно, что не будут состоять в браке вовсе, и иметь средний доход. Также, возможно, что целью кредита будет получение образования или покупка автомобиля, а также прочие относительно невысокие по стоимости товары и услуги. \n",
    "\n",
    "Не обязательно, что все эти факторы должны совпасть, но комбинация нескольких из них может говорить о том, что в будущем возможны просрочки по кредиту. Напротив, высока вероятность возврата кредита в срок, если человек более не состоит в браке, имеет высокий доход и, вероятно, у него нет детей на попечении.\n",
    "\n",
    "<b>Рекомендации банку-заказчику:</b>\n",
    "\n",
    "На основе проведенных исследований можно вынести рекомендации заказчику по выбору клиентов. В частности можно выделить наиболее предпочтительную и невыгодную категории клиентов, ориентируясь на информацию о которых можно корректироавть решения о выдаче кредитов клиентам в сторону максимальной эффективности и безопасности финансовых операций:\n",
    "\n",
    "<b>Первые</b>- Не имеющие детей , вдовствующие с доходом от 200000 до 1 000 000, берущие кредит для оплаты недвижимости или свадьбы.\n",
    "\n",
    "<b>Вторые</b>- Имеют 2 ребенка, не женатые, либо находящеся в гражданском браке, со средним доходом, берущие кредиты на покупку транспорта или оплату образования."
   ]
  },
  {
   "cell_type": "code",
   "execution_count": 26,
   "id": "0c049d88",
   "metadata": {},
   "outputs": [
    {
     "data": {
      "text/plain": [
       "<AxesSubplot:xlabel='children', ylabel='debt'>"
      ]
     },
     "execution_count": 26,
     "metadata": {},
     "output_type": "execute_result"
    },
    {
     "data": {
      "image/png": "[encoded data removed]",
      "text/plain": [
       "<Figure size 432x288 with 1 Axes>"
      ]
     },
     "metadata": {
      "needs_background": "light"
     },
     "output_type": "display_data"
    }
   ],
   "source": [
    "#КОД РЕВЬЮЕРА\n",
    "import seaborn as sns\n",
    "sns.barplot(data=data, x='children', y='debt')"
   ]
  }
 ],
 "metadata": {
  "ExecuteTimeLog": [
   {
    "duration": 832,
    "start_time": "2023-07-27T13:44:37.080Z"
   },
   {
    "duration": 25,
    "start_time": "2023-07-27T13:44:38.860Z"
   },
   {
    "duration": 16,
    "start_time": "2023-07-27T13:44:39.188Z"
   },
   {
    "duration": 10,
    "start_time": "2023-07-27T13:44:39.897Z"
   },
   {
    "duration": 34,
    "start_time": "2023-07-27T13:44:40.281Z"
   },
   {
    "duration": 4,
    "start_time": "2023-07-27T13:44:40.821Z"
   },
   {
    "duration": 8,
    "start_time": "2023-07-27T13:44:41.244Z"
   },
   {
    "duration": 5,
    "start_time": "2023-07-27T13:44:41.860Z"
   },
   {
    "duration": 8,
    "start_time": "2023-07-27T13:44:42.264Z"
   },
   {
    "duration": 5,
    "start_time": "2023-07-27T13:44:42.681Z"
   },
   {
    "duration": 33,
    "start_time": "2023-07-27T13:44:43.320Z"
   },
   {
    "duration": 12,
    "start_time": "2023-07-27T13:44:43.722Z"
   },
   {
    "duration": 4,
    "start_time": "2023-07-27T13:44:44.348Z"
   },
   {
    "duration": 12,
    "start_time": "2023-07-27T13:44:44.948Z"
   },
   {
    "duration": 22,
    "start_time": "2023-07-27T13:44:45.321Z"
   },
   {
    "duration": 18,
    "start_time": "2023-07-27T13:44:45.548Z"
   },
   {
    "duration": 4,
    "start_time": "2023-07-27T13:44:46.148Z"
   },
   {
    "duration": 10,
    "start_time": "2023-07-27T13:44:46.317Z"
   },
   {
    "duration": 5,
    "start_time": "2023-07-27T13:44:46.756Z"
   },
   {
    "duration": 4,
    "start_time": "2023-07-27T13:44:47.140Z"
   },
   {
    "duration": 9,
    "start_time": "2023-07-27T13:44:47.348Z"
   },
   {
    "duration": 3,
    "start_time": "2023-07-27T13:44:48.314Z"
   },
   {
    "duration": 2,
    "start_time": "2023-07-27T13:44:49.352Z"
   },
   {
    "duration": 9,
    "start_time": "2023-07-27T14:13:18.782Z"
   },
   {
    "duration": 25,
    "start_time": "2023-07-27T14:34:03.357Z"
   },
   {
    "duration": 18,
    "start_time": "2023-07-27T14:34:09.874Z"
   },
   {
    "duration": 13,
    "start_time": "2023-07-27T14:36:06.038Z"
   },
   {
    "duration": 12,
    "start_time": "2023-07-27T14:36:22.741Z"
   },
   {
    "duration": 15,
    "start_time": "2023-07-27T14:36:45.977Z"
   },
   {
    "duration": 79,
    "start_time": "2023-07-27T14:39:53.119Z"
   },
   {
    "duration": 19,
    "start_time": "2023-07-27T14:40:07.893Z"
   },
   {
    "duration": 17,
    "start_time": "2023-07-27T14:40:19.351Z"
   },
   {
    "duration": 16,
    "start_time": "2023-07-27T14:40:31.055Z"
   },
   {
    "duration": 16,
    "start_time": "2023-07-27T14:40:37.993Z"
   },
   {
    "duration": 149,
    "start_time": "2023-07-27T14:45:54.663Z"
   },
   {
    "duration": 393,
    "start_time": "2023-07-27T14:46:06.572Z"
   },
   {
    "duration": 16,
    "start_time": "2023-07-27T14:46:38.292Z"
   },
   {
    "duration": 0,
    "start_time": "2023-07-27T14:48:44.111Z"
   },
   {
    "duration": 7194,
    "start_time": "2023-07-27T14:49:10.784Z"
   },
   {
    "duration": 18,
    "start_time": "2023-07-27T14:51:40.701Z"
   },
   {
    "duration": 19,
    "start_time": "2023-07-27T14:51:57.949Z"
   },
   {
    "duration": 2484,
    "start_time": "2023-07-27T14:52:02.069Z"
   },
   {
    "duration": 3301,
    "start_time": "2023-07-27T14:52:04.649Z"
   },
   {
    "duration": 3050,
    "start_time": "2023-07-27T14:52:15.894Z"
   },
   {
    "duration": 18,
    "start_time": "2023-07-27T14:52:34.069Z"
   },
   {
    "duration": 17,
    "start_time": "2023-07-27T14:53:04.669Z"
   },
   {
    "duration": 18,
    "start_time": "2023-07-27T16:11:39.817Z"
   },
   {
    "duration": 17,
    "start_time": "2023-07-27T16:12:12.306Z"
   },
   {
    "duration": 25,
    "start_time": "2023-07-27T16:12:14.599Z"
   },
   {
    "duration": 13,
    "start_time": "2023-07-27T16:12:24.352Z"
   },
   {
    "duration": 14,
    "start_time": "2023-07-27T16:12:29.496Z"
   },
   {
    "duration": 21,
    "start_time": "2023-07-27T16:12:45.085Z"
   },
   {
    "duration": 27,
    "start_time": "2023-07-27T16:13:55.503Z"
   },
   {
    "duration": 19,
    "start_time": "2023-07-27T16:14:09.099Z"
   },
   {
    "duration": 18,
    "start_time": "2023-07-27T16:15:04.964Z"
   },
   {
    "duration": 17,
    "start_time": "2023-07-27T16:18:31.451Z"
   },
   {
    "duration": 18,
    "start_time": "2023-07-27T16:19:31.902Z"
   },
   {
    "duration": 20,
    "start_time": "2023-07-27T16:21:42.671Z"
   },
   {
    "duration": 760,
    "start_time": "2023-07-27T17:53:32.122Z"
   },
   {
    "duration": 22,
    "start_time": "2023-07-27T17:53:32.884Z"
   },
   {
    "duration": 82,
    "start_time": "2023-07-27T17:53:32.907Z"
   },
   {
    "duration": 15,
    "start_time": "2023-07-27T17:53:32.991Z"
   },
   {
    "duration": 53,
    "start_time": "2023-07-27T17:53:33.008Z"
   },
   {
    "duration": 5,
    "start_time": "2023-07-27T17:53:33.064Z"
   },
   {
    "duration": 15,
    "start_time": "2023-07-27T17:53:33.070Z"
   },
   {
    "duration": 10,
    "start_time": "2023-07-27T17:53:33.087Z"
   },
   {
    "duration": 14,
    "start_time": "2023-07-27T17:53:33.099Z"
   },
   {
    "duration": 7,
    "start_time": "2023-07-27T17:53:33.115Z"
   },
   {
    "duration": 80,
    "start_time": "2023-07-27T17:53:33.124Z"
   },
   {
    "duration": 10,
    "start_time": "2023-07-27T17:53:33.205Z"
   },
   {
    "duration": 24,
    "start_time": "2023-07-27T17:53:33.217Z"
   },
   {
    "duration": 33,
    "start_time": "2023-07-27T17:53:33.243Z"
   },
   {
    "duration": 48,
    "start_time": "2023-07-27T17:53:33.277Z"
   },
   {
    "duration": 21,
    "start_time": "2023-07-27T17:53:33.327Z"
   },
   {
    "duration": 21,
    "start_time": "2023-07-27T17:53:33.350Z"
   },
   {
    "duration": 33,
    "start_time": "2023-07-27T17:53:33.372Z"
   },
   {
    "duration": 16,
    "start_time": "2023-07-27T17:53:33.407Z"
   },
   {
    "duration": 4,
    "start_time": "2023-07-27T17:53:33.425Z"
   },
   {
    "duration": 19,
    "start_time": "2023-07-27T17:53:33.430Z"
   },
   {
    "duration": 40,
    "start_time": "2023-07-27T17:53:33.451Z"
   },
   {
    "duration": 19,
    "start_time": "2023-07-27T17:53:33.493Z"
   },
   {
    "duration": 19,
    "start_time": "2023-07-27T17:53:33.514Z"
   },
   {
    "duration": 43,
    "start_time": "2023-07-27T17:53:33.534Z"
   },
   {
    "duration": 47,
    "start_time": "2023-07-29T08:40:52.171Z"
   },
   {
    "duration": 537,
    "start_time": "2023-07-29T08:41:05.535Z"
   },
   {
    "duration": 20,
    "start_time": "2023-07-29T08:41:06.074Z"
   },
   {
    "duration": 13,
    "start_time": "2023-07-29T08:41:06.294Z"
   },
   {
    "duration": 11,
    "start_time": "2023-07-29T08:41:07.406Z"
   },
   {
    "duration": 30,
    "start_time": "2023-07-29T08:41:07.875Z"
   },
   {
    "duration": 4,
    "start_time": "2023-07-29T08:41:08.725Z"
   },
   {
    "duration": 8,
    "start_time": "2023-07-29T08:41:09.188Z"
   },
   {
    "duration": 4,
    "start_time": "2023-07-29T08:41:09.882Z"
   },
   {
    "duration": 7,
    "start_time": "2023-07-29T08:41:10.299Z"
   },
   {
    "duration": 4,
    "start_time": "2023-07-29T08:41:10.761Z"
   },
   {
    "duration": 31,
    "start_time": "2023-07-29T08:41:11.540Z"
   },
   {
    "duration": 10,
    "start_time": "2023-07-29T08:41:12.082Z"
   },
   {
    "duration": 4,
    "start_time": "2023-07-29T08:41:13.330Z"
   },
   {
    "duration": 11,
    "start_time": "2023-07-29T08:41:14.485Z"
   },
   {
    "duration": 20,
    "start_time": "2023-07-29T08:41:14.937Z"
   },
   {
    "duration": 19,
    "start_time": "2023-07-29T08:41:15.165Z"
   },
   {
    "duration": 4,
    "start_time": "2023-07-29T08:41:16.121Z"
   },
   {
    "duration": 9,
    "start_time": "2023-07-29T08:41:16.568Z"
   },
   {
    "duration": 7,
    "start_time": "2023-07-29T08:41:17.212Z"
   },
   {
    "duration": 3,
    "start_time": "2023-07-29T08:41:18.182Z"
   },
   {
    "duration": 9,
    "start_time": "2023-07-29T08:41:18.743Z"
   },
   {
    "duration": 26,
    "start_time": "2023-07-29T08:41:21.114Z"
   },
   {
    "duration": 522,
    "start_time": "2023-07-29T11:29:52.821Z"
   },
   {
    "duration": 25,
    "start_time": "2023-07-29T11:29:53.345Z"
   },
   {
    "duration": 17,
    "start_time": "2023-07-29T11:29:53.372Z"
   },
   {
    "duration": 35,
    "start_time": "2023-07-29T11:29:53.392Z"
   },
   {
    "duration": 50,
    "start_time": "2023-07-29T11:29:53.428Z"
   },
   {
    "duration": 4,
    "start_time": "2023-07-29T11:29:53.480Z"
   },
   {
    "duration": 18,
    "start_time": "2023-07-29T11:29:53.486Z"
   },
   {
    "duration": 7,
    "start_time": "2023-07-29T11:29:53.506Z"
   },
   {
    "duration": 16,
    "start_time": "2023-07-29T11:29:53.515Z"
   },
   {
    "duration": 8,
    "start_time": "2023-07-29T11:29:53.535Z"
   },
   {
    "duration": 44,
    "start_time": "2023-07-29T11:29:53.560Z"
   },
   {
    "duration": 9,
    "start_time": "2023-07-29T11:29:53.606Z"
   },
   {
    "duration": 6,
    "start_time": "2023-07-29T11:29:53.617Z"
   },
   {
    "duration": 12,
    "start_time": "2023-07-29T11:29:53.625Z"
   },
   {
    "duration": 21,
    "start_time": "2023-07-29T11:29:53.660Z"
   },
   {
    "duration": 17,
    "start_time": "2023-07-29T11:29:53.683Z"
   },
   {
    "duration": 4,
    "start_time": "2023-07-29T11:29:53.702Z"
   },
   {
    "duration": 13,
    "start_time": "2023-07-29T11:29:53.709Z"
   },
   {
    "duration": 6,
    "start_time": "2023-07-29T11:29:53.724Z"
   },
   {
    "duration": 4,
    "start_time": "2023-07-29T11:29:53.760Z"
   },
   {
    "duration": 13,
    "start_time": "2023-07-29T11:29:53.766Z"
   },
   {
    "duration": 28,
    "start_time": "2023-07-29T11:29:53.780Z"
   },
   {
    "duration": 19,
    "start_time": "2023-07-29T11:29:53.810Z"
   },
   {
    "duration": 42,
    "start_time": "2023-07-29T11:29:53.831Z"
   },
   {
    "duration": 20,
    "start_time": "2023-07-29T11:29:53.874Z"
   },
   {
    "duration": 283,
    "start_time": "2023-07-30T15:18:36.055Z"
   },
   {
    "duration": 658,
    "start_time": "2023-07-30T15:35:50.149Z"
   },
   {
    "duration": 23,
    "start_time": "2023-07-30T15:35:50.809Z"
   },
   {
    "duration": 33,
    "start_time": "2023-07-30T15:35:50.834Z"
   },
   {
    "duration": 42,
    "start_time": "2023-07-30T15:35:50.870Z"
   },
   {
    "duration": 44,
    "start_time": "2023-07-30T15:35:50.913Z"
   },
   {
    "duration": 9,
    "start_time": "2023-07-30T15:35:50.966Z"
   },
   {
    "duration": 36,
    "start_time": "2023-07-30T15:35:50.977Z"
   },
   {
    "duration": 7,
    "start_time": "2023-07-30T15:35:51.015Z"
   },
   {
    "duration": 10,
    "start_time": "2023-07-30T15:35:51.024Z"
   },
   {
    "duration": 6,
    "start_time": "2023-07-30T15:35:51.037Z"
   },
   {
    "duration": 82,
    "start_time": "2023-07-30T15:35:51.044Z"
   },
   {
    "duration": 12,
    "start_time": "2023-07-30T15:35:51.129Z"
   },
   {
    "duration": 7,
    "start_time": "2023-07-30T15:35:51.143Z"
   },
   {
    "duration": 58,
    "start_time": "2023-07-30T15:35:51.154Z"
   },
   {
    "duration": 27,
    "start_time": "2023-07-30T15:35:51.214Z"
   },
   {
    "duration": 29,
    "start_time": "2023-07-30T15:35:51.243Z"
   },
   {
    "duration": 15,
    "start_time": "2023-07-30T15:35:51.275Z"
   },
   {
    "duration": 35,
    "start_time": "2023-07-30T15:35:51.292Z"
   },
   {
    "duration": 8,
    "start_time": "2023-07-30T15:35:51.329Z"
   },
   {
    "duration": 51,
    "start_time": "2023-07-30T15:35:51.339Z"
   },
   {
    "duration": 33,
    "start_time": "2023-07-30T15:35:51.392Z"
   },
   {
    "duration": 32,
    "start_time": "2023-07-30T15:35:51.427Z"
   },
   {
    "duration": 48,
    "start_time": "2023-07-30T15:35:51.461Z"
   },
   {
    "duration": 28,
    "start_time": "2023-07-30T15:35:51.511Z"
   },
   {
    "duration": 28,
    "start_time": "2023-07-30T15:35:51.541Z"
   },
   {
    "duration": 1818,
    "start_time": "2023-07-30T15:54:34.591Z"
   },
   {
    "duration": 1205,
    "start_time": "2023-07-30T18:56:37.212Z"
   },
   {
    "duration": 48,
    "start_time": "2023-07-30T18:56:38.426Z"
   },
   {
    "duration": 70,
    "start_time": "2023-07-30T18:56:38.480Z"
   },
   {
    "duration": 59,
    "start_time": "2023-07-30T18:56:38.569Z"
   },
   {
    "duration": 147,
    "start_time": "2023-07-30T18:56:38.630Z"
   },
   {
    "duration": 19,
    "start_time": "2023-07-30T18:56:38.788Z"
   },
   {
    "duration": 26,
    "start_time": "2023-07-30T18:56:38.819Z"
   },
   {
    "duration": 84,
    "start_time": "2023-07-30T18:56:38.847Z"
   },
   {
    "duration": 112,
    "start_time": "2023-07-30T18:56:38.933Z"
   },
   {
    "duration": 13,
    "start_time": "2023-07-30T18:56:39.049Z"
   },
   {
    "duration": 132,
    "start_time": "2023-07-30T18:56:39.072Z"
   },
   {
    "duration": 25,
    "start_time": "2023-07-30T18:56:39.212Z"
   },
   {
    "duration": 79,
    "start_time": "2023-07-30T18:56:39.242Z"
   },
   {
    "duration": 31,
    "start_time": "2023-07-30T18:56:39.324Z"
   },
   {
    "duration": 107,
    "start_time": "2023-07-30T18:56:39.358Z"
   },
   {
    "duration": 46,
    "start_time": "2023-07-30T18:56:39.467Z"
   },
   {
    "duration": 108,
    "start_time": "2023-07-30T18:56:39.517Z"
   },
   {
    "duration": 35,
    "start_time": "2023-07-30T18:56:39.627Z"
   },
   {
    "duration": 73,
    "start_time": "2023-07-30T18:56:39.665Z"
   },
   {
    "duration": 5,
    "start_time": "2023-07-30T18:56:39.742Z"
   },
   {
    "duration": 82,
    "start_time": "2023-07-30T18:56:39.750Z"
   },
   {
    "duration": 40,
    "start_time": "2023-07-30T18:56:39.835Z"
   },
   {
    "duration": 90,
    "start_time": "2023-07-30T18:56:39.879Z"
   },
   {
    "duration": 102,
    "start_time": "2023-07-30T18:56:39.973Z"
   },
   {
    "duration": 99,
    "start_time": "2023-07-30T18:56:40.077Z"
   },
   {
    "duration": 2139,
    "start_time": "2023-07-30T18:56:40.188Z"
   },
   {
    "duration": 675,
    "start_time": "2023-08-31T12:17:03.833Z"
   },
   {
    "duration": 24,
    "start_time": "2023-08-31T12:17:04.510Z"
   },
   {
    "duration": 23,
    "start_time": "2023-08-31T12:17:04.864Z"
   },
   {
    "duration": 16,
    "start_time": "2023-08-31T12:17:07.479Z"
   },
   {
    "duration": 36,
    "start_time": "2023-08-31T12:17:08.163Z"
   },
   {
    "duration": 4,
    "start_time": "2023-08-31T12:17:09.512Z"
   }
  ],
  "colab": {
   "name": "dpp_template_part2.ipynb",
   "provenance": []
  },
  "kernelspec": {
   "display_name": "Python 3 (ipykernel)",
   "language": "python",
   "name": "python3"
  },
  "language_info": {
   "codemirror_mode": {
    "name": "ipython",
    "version": 3
   },
   "file_extension": ".py",
   "mimetype": "text/x-python",
   "name": "python",
   "nbconvert_exporter": "python",
   "pygments_lexer": "ipython3",
   "version": "3.11.4"
  },
  "toc": {
   "base_numbering": 1,
   "nav_menu": {},
   "number_sections": true,
   "sideBar": true,
   "skip_h1_title": true,
   "title_cell": "Table of Contents",
   "title_sidebar": "Contents",
   "toc_cell": false,
   "toc_position": {},
   "toc_section_display": true,
   "toc_window_display": false
  }
 },
 "nbformat": 4,
 "nbformat_minor": 5
}
