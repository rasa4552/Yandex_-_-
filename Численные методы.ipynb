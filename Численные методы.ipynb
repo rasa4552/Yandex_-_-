{
 "cells": [
  {
   "cell_type": "markdown",
   "metadata": {},
   "source": [
    "# Определение стоимости автомобилей"
   ]
  },
  {
   "cell_type": "markdown",
   "metadata": {},
   "source": [
    "Сервис по продаже автомобилей с пробегом «Не бит, не крашен» разрабатывает приложение для привлечения новых клиентов. В нём можно быстро узнать рыночную стоимость своего автомобиля. В вашем распоряжении исторические данные: технические характеристики, комплектации и цены автомобилей. Вам нужно построить модель для определения стоимости. \n",
    "\n",
    "Заказчику важны:\n",
    "\n",
    "- качество предсказания;\n",
    "- скорость предсказания;\n",
    "- время обучения."
   ]
  },
  {
   "cell_type": "markdown",
   "metadata": {},
   "source": [
    "## Подготовка данных"
   ]
  },
  {
   "cell_type": "markdown",
   "metadata": {},
   "source": [
    "Признаки  \n",
    "DateCrawled — дата скачивания анкеты из базы  \n",
    "VehicleType — тип автомобильного кузова  \n",
    "RegistrationYear — год регистрации автомобиля  \n",
    "Gearbox — тип коробки передач  \n",
    "Power — мощность (л. с.)  \n",
    "Model — модель автомобиля  \n",
    "Kilometer — пробег (км)  \n",
    "RegistrationMonth — месяц регистрации автомобиля  \n",
    "FuelType — тип топлива  \n",
    "Brand — марка автомобиля  \n",
    "Repaired — была машина в ремонте или нет  \n",
    "DateCreated — дата создания анкеты  \n",
    "NumberOfPictures — количество фотографий автомобиля  \n",
    "PostalCode — почтовый индекс владельца анкеты (пользователя)  \n",
    "LastSeen — дата последней активности пользователя  \n",
    "Price — цена (евро)  "
   ]
  },
  {
   "cell_type": "markdown",
   "metadata": {},
   "source": [
    "### Импорт инструментов и данных"
   ]
  },
  {
   "cell_type": "code",
   "execution_count": 1,
   "metadata": {},
   "outputs": [],
   "source": [
    "import pandas as pd\n",
    "import numpy as np\n",
    "import matplotlib.pyplot as plt\n",
    "\n",
    "from sklearn.preprocessing import OneHotEncoder, OrdinalEncoder, StandardScaler\n",
    "from sklearn.preprocessing import RobustScaler, StandardScaler\n",
    "\n",
    "from sklearn.linear_model import LinearRegression\n",
    "from sklearn.tree import DecisionTreeRegressor\n",
    "from sklearn.pipeline import Pipeline\n",
    "from lightgbm import LGBMRegressor\n",
    "from sklearn.compose import ColumnTransformer\n",
    "from sklearn.impute import SimpleImputer \n",
    "\n",
    "from sklearn.model_selection import train_test_split\n",
    "from sklearn.model_selection import cross_val_score\n",
    "from sklearn.model_selection import GridSearchCV\n",
    "from sklearn.metrics import mean_squared_error\n",
    "\n",
    "\n",
    "from catboost import Pool, CatBoostRegressor, cv\n",
    "\n",
    "\n"
   ]
  },
  {
   "cell_type": "code",
   "execution_count": 2,
   "metadata": {},
   "outputs": [],
   "source": [
    "df = pd.read_csv('/datasets/autos.csv')"
   ]
  },
  {
   "cell_type": "code",
   "execution_count": 3,
   "metadata": {},
   "outputs": [
    {
     "data": {
      "text/html": [
       "<div>\n",
       "<style scoped>\n",
       "    .dataframe tbody tr th:only-of-type {\n",
       "        vertical-align: middle;\n",
       "    }\n",
       "\n",
       "    .dataframe tbody tr th {\n",
       "        vertical-align: top;\n",
       "    }\n",
       "\n",
       "    .dataframe thead th {\n",
       "        text-align: right;\n",
       "    }\n",
       "</style>\n",
       "<table border=\"1\" class=\"dataframe\">\n",
       "  <thead>\n",
       "    <tr style=\"text-align: right;\">\n",
       "      <th></th>\n",
       "      <th>DateCrawled</th>\n",
       "      <th>Price</th>\n",
       "      <th>VehicleType</th>\n",
       "      <th>RegistrationYear</th>\n",
       "      <th>Gearbox</th>\n",
       "      <th>Power</th>\n",
       "      <th>Model</th>\n",
       "      <th>Kilometer</th>\n",
       "      <th>RegistrationMonth</th>\n",
       "      <th>FuelType</th>\n",
       "      <th>Brand</th>\n",
       "      <th>Repaired</th>\n",
       "      <th>DateCreated</th>\n",
       "      <th>NumberOfPictures</th>\n",
       "      <th>PostalCode</th>\n",
       "      <th>LastSeen</th>\n",
       "    </tr>\n",
       "  </thead>\n",
       "  <tbody>\n",
       "    <tr>\n",
       "      <th>0</th>\n",
       "      <td>2016-03-24 11:52:17</td>\n",
       "      <td>480</td>\n",
       "      <td>NaN</td>\n",
       "      <td>1993</td>\n",
       "      <td>manual</td>\n",
       "      <td>0</td>\n",
       "      <td>golf</td>\n",
       "      <td>150000</td>\n",
       "      <td>0</td>\n",
       "      <td>petrol</td>\n",
       "      <td>volkswagen</td>\n",
       "      <td>NaN</td>\n",
       "      <td>2016-03-24 00:00:00</td>\n",
       "      <td>0</td>\n",
       "      <td>70435</td>\n",
       "      <td>2016-04-07 03:16:57</td>\n",
       "    </tr>\n",
       "    <tr>\n",
       "      <th>1</th>\n",
       "      <td>2016-03-24 10:58:45</td>\n",
       "      <td>18300</td>\n",
       "      <td>coupe</td>\n",
       "      <td>2011</td>\n",
       "      <td>manual</td>\n",
       "      <td>190</td>\n",
       "      <td>NaN</td>\n",
       "      <td>125000</td>\n",
       "      <td>5</td>\n",
       "      <td>gasoline</td>\n",
       "      <td>audi</td>\n",
       "      <td>yes</td>\n",
       "      <td>2016-03-24 00:00:00</td>\n",
       "      <td>0</td>\n",
       "      <td>66954</td>\n",
       "      <td>2016-04-07 01:46:50</td>\n",
       "    </tr>\n",
       "    <tr>\n",
       "      <th>2</th>\n",
       "      <td>2016-03-14 12:52:21</td>\n",
       "      <td>9800</td>\n",
       "      <td>suv</td>\n",
       "      <td>2004</td>\n",
       "      <td>auto</td>\n",
       "      <td>163</td>\n",
       "      <td>grand</td>\n",
       "      <td>125000</td>\n",
       "      <td>8</td>\n",
       "      <td>gasoline</td>\n",
       "      <td>jeep</td>\n",
       "      <td>NaN</td>\n",
       "      <td>2016-03-14 00:00:00</td>\n",
       "      <td>0</td>\n",
       "      <td>90480</td>\n",
       "      <td>2016-04-05 12:47:46</td>\n",
       "    </tr>\n",
       "    <tr>\n",
       "      <th>3</th>\n",
       "      <td>2016-03-17 16:54:04</td>\n",
       "      <td>1500</td>\n",
       "      <td>small</td>\n",
       "      <td>2001</td>\n",
       "      <td>manual</td>\n",
       "      <td>75</td>\n",
       "      <td>golf</td>\n",
       "      <td>150000</td>\n",
       "      <td>6</td>\n",
       "      <td>petrol</td>\n",
       "      <td>volkswagen</td>\n",
       "      <td>no</td>\n",
       "      <td>2016-03-17 00:00:00</td>\n",
       "      <td>0</td>\n",
       "      <td>91074</td>\n",
       "      <td>2016-03-17 17:40:17</td>\n",
       "    </tr>\n",
       "    <tr>\n",
       "      <th>4</th>\n",
       "      <td>2016-03-31 17:25:20</td>\n",
       "      <td>3600</td>\n",
       "      <td>small</td>\n",
       "      <td>2008</td>\n",
       "      <td>manual</td>\n",
       "      <td>69</td>\n",
       "      <td>fabia</td>\n",
       "      <td>90000</td>\n",
       "      <td>7</td>\n",
       "      <td>gasoline</td>\n",
       "      <td>skoda</td>\n",
       "      <td>no</td>\n",
       "      <td>2016-03-31 00:00:00</td>\n",
       "      <td>0</td>\n",
       "      <td>60437</td>\n",
       "      <td>2016-04-06 10:17:21</td>\n",
       "    </tr>\n",
       "    <tr>\n",
       "      <th>5</th>\n",
       "      <td>2016-04-04 17:36:23</td>\n",
       "      <td>650</td>\n",
       "      <td>sedan</td>\n",
       "      <td>1995</td>\n",
       "      <td>manual</td>\n",
       "      <td>102</td>\n",
       "      <td>3er</td>\n",
       "      <td>150000</td>\n",
       "      <td>10</td>\n",
       "      <td>petrol</td>\n",
       "      <td>bmw</td>\n",
       "      <td>yes</td>\n",
       "      <td>2016-04-04 00:00:00</td>\n",
       "      <td>0</td>\n",
       "      <td>33775</td>\n",
       "      <td>2016-04-06 19:17:07</td>\n",
       "    </tr>\n",
       "    <tr>\n",
       "      <th>6</th>\n",
       "      <td>2016-04-01 20:48:51</td>\n",
       "      <td>2200</td>\n",
       "      <td>convertible</td>\n",
       "      <td>2004</td>\n",
       "      <td>manual</td>\n",
       "      <td>109</td>\n",
       "      <td>2_reihe</td>\n",
       "      <td>150000</td>\n",
       "      <td>8</td>\n",
       "      <td>petrol</td>\n",
       "      <td>peugeot</td>\n",
       "      <td>no</td>\n",
       "      <td>2016-04-01 00:00:00</td>\n",
       "      <td>0</td>\n",
       "      <td>67112</td>\n",
       "      <td>2016-04-05 18:18:39</td>\n",
       "    </tr>\n",
       "    <tr>\n",
       "      <th>7</th>\n",
       "      <td>2016-03-21 18:54:38</td>\n",
       "      <td>0</td>\n",
       "      <td>sedan</td>\n",
       "      <td>1980</td>\n",
       "      <td>manual</td>\n",
       "      <td>50</td>\n",
       "      <td>other</td>\n",
       "      <td>40000</td>\n",
       "      <td>7</td>\n",
       "      <td>petrol</td>\n",
       "      <td>volkswagen</td>\n",
       "      <td>no</td>\n",
       "      <td>2016-03-21 00:00:00</td>\n",
       "      <td>0</td>\n",
       "      <td>19348</td>\n",
       "      <td>2016-03-25 16:47:58</td>\n",
       "    </tr>\n",
       "    <tr>\n",
       "      <th>8</th>\n",
       "      <td>2016-04-04 23:42:13</td>\n",
       "      <td>14500</td>\n",
       "      <td>bus</td>\n",
       "      <td>2014</td>\n",
       "      <td>manual</td>\n",
       "      <td>125</td>\n",
       "      <td>c_max</td>\n",
       "      <td>30000</td>\n",
       "      <td>8</td>\n",
       "      <td>petrol</td>\n",
       "      <td>ford</td>\n",
       "      <td>NaN</td>\n",
       "      <td>2016-04-04 00:00:00</td>\n",
       "      <td>0</td>\n",
       "      <td>94505</td>\n",
       "      <td>2016-04-04 23:42:13</td>\n",
       "    </tr>\n",
       "    <tr>\n",
       "      <th>9</th>\n",
       "      <td>2016-03-17 10:53:50</td>\n",
       "      <td>999</td>\n",
       "      <td>small</td>\n",
       "      <td>1998</td>\n",
       "      <td>manual</td>\n",
       "      <td>101</td>\n",
       "      <td>golf</td>\n",
       "      <td>150000</td>\n",
       "      <td>0</td>\n",
       "      <td>NaN</td>\n",
       "      <td>volkswagen</td>\n",
       "      <td>NaN</td>\n",
       "      <td>2016-03-17 00:00:00</td>\n",
       "      <td>0</td>\n",
       "      <td>27472</td>\n",
       "      <td>2016-03-31 17:17:06</td>\n",
       "    </tr>\n",
       "    <tr>\n",
       "      <th>10</th>\n",
       "      <td>2016-03-26 19:54:18</td>\n",
       "      <td>2000</td>\n",
       "      <td>sedan</td>\n",
       "      <td>2004</td>\n",
       "      <td>manual</td>\n",
       "      <td>105</td>\n",
       "      <td>3_reihe</td>\n",
       "      <td>150000</td>\n",
       "      <td>12</td>\n",
       "      <td>petrol</td>\n",
       "      <td>mazda</td>\n",
       "      <td>no</td>\n",
       "      <td>2016-03-26 00:00:00</td>\n",
       "      <td>0</td>\n",
       "      <td>96224</td>\n",
       "      <td>2016-04-06 10:45:34</td>\n",
       "    </tr>\n",
       "    <tr>\n",
       "      <th>11</th>\n",
       "      <td>2016-04-07 10:06:22</td>\n",
       "      <td>2799</td>\n",
       "      <td>wagon</td>\n",
       "      <td>2005</td>\n",
       "      <td>manual</td>\n",
       "      <td>140</td>\n",
       "      <td>passat</td>\n",
       "      <td>150000</td>\n",
       "      <td>12</td>\n",
       "      <td>gasoline</td>\n",
       "      <td>volkswagen</td>\n",
       "      <td>yes</td>\n",
       "      <td>2016-04-07 00:00:00</td>\n",
       "      <td>0</td>\n",
       "      <td>57290</td>\n",
       "      <td>2016-04-07 10:25:17</td>\n",
       "    </tr>\n",
       "    <tr>\n",
       "      <th>12</th>\n",
       "      <td>2016-03-15 22:49:09</td>\n",
       "      <td>999</td>\n",
       "      <td>wagon</td>\n",
       "      <td>1995</td>\n",
       "      <td>manual</td>\n",
       "      <td>115</td>\n",
       "      <td>passat</td>\n",
       "      <td>150000</td>\n",
       "      <td>11</td>\n",
       "      <td>petrol</td>\n",
       "      <td>volkswagen</td>\n",
       "      <td>NaN</td>\n",
       "      <td>2016-03-15 00:00:00</td>\n",
       "      <td>0</td>\n",
       "      <td>37269</td>\n",
       "      <td>2016-04-01 13:16:16</td>\n",
       "    </tr>\n",
       "    <tr>\n",
       "      <th>13</th>\n",
       "      <td>2016-03-21 21:37:40</td>\n",
       "      <td>2500</td>\n",
       "      <td>wagon</td>\n",
       "      <td>2004</td>\n",
       "      <td>manual</td>\n",
       "      <td>131</td>\n",
       "      <td>passat</td>\n",
       "      <td>150000</td>\n",
       "      <td>2</td>\n",
       "      <td>NaN</td>\n",
       "      <td>volkswagen</td>\n",
       "      <td>no</td>\n",
       "      <td>2016-03-21 00:00:00</td>\n",
       "      <td>0</td>\n",
       "      <td>90762</td>\n",
       "      <td>2016-03-23 02:50:54</td>\n",
       "    </tr>\n",
       "    <tr>\n",
       "      <th>14</th>\n",
       "      <td>2016-03-21 12:57:01</td>\n",
       "      <td>17999</td>\n",
       "      <td>suv</td>\n",
       "      <td>2011</td>\n",
       "      <td>manual</td>\n",
       "      <td>190</td>\n",
       "      <td>navara</td>\n",
       "      <td>70000</td>\n",
       "      <td>3</td>\n",
       "      <td>gasoline</td>\n",
       "      <td>nissan</td>\n",
       "      <td>no</td>\n",
       "      <td>2016-03-21 00:00:00</td>\n",
       "      <td>0</td>\n",
       "      <td>4177</td>\n",
       "      <td>2016-04-06 07:45:42</td>\n",
       "    </tr>\n",
       "  </tbody>\n",
       "</table>\n",
       "</div>"
      ],
      "text/plain": [
       "            DateCrawled  Price  VehicleType  RegistrationYear Gearbox  Power  \\\n",
       "0   2016-03-24 11:52:17    480          NaN              1993  manual      0   \n",
       "1   2016-03-24 10:58:45  18300        coupe              2011  manual    190   \n",
       "2   2016-03-14 12:52:21   9800          suv              2004    auto    163   \n",
       "3   2016-03-17 16:54:04   1500        small              2001  manual     75   \n",
       "4   2016-03-31 17:25:20   3600        small              2008  manual     69   \n",
       "5   2016-04-04 17:36:23    650        sedan              1995  manual    102   \n",
       "6   2016-04-01 20:48:51   2200  convertible              2004  manual    109   \n",
       "7   2016-03-21 18:54:38      0        sedan              1980  manual     50   \n",
       "8   2016-04-04 23:42:13  14500          bus              2014  manual    125   \n",
       "9   2016-03-17 10:53:50    999        small              1998  manual    101   \n",
       "10  2016-03-26 19:54:18   2000        sedan              2004  manual    105   \n",
       "11  2016-04-07 10:06:22   2799        wagon              2005  manual    140   \n",
       "12  2016-03-15 22:49:09    999        wagon              1995  manual    115   \n",
       "13  2016-03-21 21:37:40   2500        wagon              2004  manual    131   \n",
       "14  2016-03-21 12:57:01  17999          suv              2011  manual    190   \n",
       "\n",
       "      Model  Kilometer  RegistrationMonth  FuelType       Brand Repaired  \\\n",
       "0      golf     150000                  0    petrol  volkswagen      NaN   \n",
       "1       NaN     125000                  5  gasoline        audi      yes   \n",
       "2     grand     125000                  8  gasoline        jeep      NaN   \n",
       "3      golf     150000                  6    petrol  volkswagen       no   \n",
       "4     fabia      90000                  7  gasoline       skoda       no   \n",
       "5       3er     150000                 10    petrol         bmw      yes   \n",
       "6   2_reihe     150000                  8    petrol     peugeot       no   \n",
       "7     other      40000                  7    petrol  volkswagen       no   \n",
       "8     c_max      30000                  8    petrol        ford      NaN   \n",
       "9      golf     150000                  0       NaN  volkswagen      NaN   \n",
       "10  3_reihe     150000                 12    petrol       mazda       no   \n",
       "11   passat     150000                 12  gasoline  volkswagen      yes   \n",
       "12   passat     150000                 11    petrol  volkswagen      NaN   \n",
       "13   passat     150000                  2       NaN  volkswagen       no   \n",
       "14   navara      70000                  3  gasoline      nissan       no   \n",
       "\n",
       "            DateCreated  NumberOfPictures  PostalCode             LastSeen  \n",
       "0   2016-03-24 00:00:00                 0       70435  2016-04-07 03:16:57  \n",
       "1   2016-03-24 00:00:00                 0       66954  2016-04-07 01:46:50  \n",
       "2   2016-03-14 00:00:00                 0       90480  2016-04-05 12:47:46  \n",
       "3   2016-03-17 00:00:00                 0       91074  2016-03-17 17:40:17  \n",
       "4   2016-03-31 00:00:00                 0       60437  2016-04-06 10:17:21  \n",
       "5   2016-04-04 00:00:00                 0       33775  2016-04-06 19:17:07  \n",
       "6   2016-04-01 00:00:00                 0       67112  2016-04-05 18:18:39  \n",
       "7   2016-03-21 00:00:00                 0       19348  2016-03-25 16:47:58  \n",
       "8   2016-04-04 00:00:00                 0       94505  2016-04-04 23:42:13  \n",
       "9   2016-03-17 00:00:00                 0       27472  2016-03-31 17:17:06  \n",
       "10  2016-03-26 00:00:00                 0       96224  2016-04-06 10:45:34  \n",
       "11  2016-04-07 00:00:00                 0       57290  2016-04-07 10:25:17  \n",
       "12  2016-03-15 00:00:00                 0       37269  2016-04-01 13:16:16  \n",
       "13  2016-03-21 00:00:00                 0       90762  2016-03-23 02:50:54  \n",
       "14  2016-03-21 00:00:00                 0        4177  2016-04-06 07:45:42  "
      ]
     },
     "execution_count": 3,
     "metadata": {},
     "output_type": "execute_result"
    }
   ],
   "source": [
    "df.head(15)\n"
   ]
  },
  {
   "cell_type": "markdown",
   "metadata": {},
   "source": [
    "### Общая Предобработка данных"
   ]
  },
  {
   "cell_type": "code",
   "execution_count": 4,
   "metadata": {},
   "outputs": [
    {
     "name": "stdout",
     "output_type": "stream",
     "text": [
      "<class 'pandas.core.frame.DataFrame'>\n",
      "RangeIndex: 354369 entries, 0 to 354368\n",
      "Data columns (total 16 columns):\n",
      " #   Column             Non-Null Count   Dtype \n",
      "---  ------             --------------   ----- \n",
      " 0   DateCrawled        354369 non-null  object\n",
      " 1   Price              354369 non-null  int64 \n",
      " 2   VehicleType        316879 non-null  object\n",
      " 3   RegistrationYear   354369 non-null  int64 \n",
      " 4   Gearbox            334536 non-null  object\n",
      " 5   Power              354369 non-null  int64 \n",
      " 6   Model              334664 non-null  object\n",
      " 7   Kilometer          354369 non-null  int64 \n",
      " 8   RegistrationMonth  354369 non-null  int64 \n",
      " 9   FuelType           321474 non-null  object\n",
      " 10  Brand              354369 non-null  object\n",
      " 11  Repaired           283215 non-null  object\n",
      " 12  DateCreated        354369 non-null  object\n",
      " 13  NumberOfPictures   354369 non-null  int64 \n",
      " 14  PostalCode         354369 non-null  int64 \n",
      " 15  LastSeen           354369 non-null  object\n",
      "dtypes: int64(7), object(9)\n",
      "memory usage: 43.3+ MB\n",
      "None\n",
      "4\n"
     ]
    }
   ],
   "source": [
    "print(df.info())\n",
    "print(sum(df.duplicated()))"
   ]
  },
  {
   "cell_type": "code",
   "execution_count": 5,
   "metadata": {},
   "outputs": [
    {
     "data": {
      "text/html": [
       "<div>\n",
       "<style scoped>\n",
       "    .dataframe tbody tr th:only-of-type {\n",
       "        vertical-align: middle;\n",
       "    }\n",
       "\n",
       "    .dataframe tbody tr th {\n",
       "        vertical-align: top;\n",
       "    }\n",
       "\n",
       "    .dataframe thead th {\n",
       "        text-align: right;\n",
       "    }\n",
       "</style>\n",
       "<table border=\"1\" class=\"dataframe\">\n",
       "  <thead>\n",
       "    <tr style=\"text-align: right;\">\n",
       "      <th></th>\n",
       "      <th>Price</th>\n",
       "      <th>RegistrationYear</th>\n",
       "      <th>Power</th>\n",
       "      <th>Kilometer</th>\n",
       "      <th>RegistrationMonth</th>\n",
       "      <th>NumberOfPictures</th>\n",
       "      <th>PostalCode</th>\n",
       "    </tr>\n",
       "  </thead>\n",
       "  <tbody>\n",
       "    <tr>\n",
       "      <th>count</th>\n",
       "      <td>354369.000000</td>\n",
       "      <td>354369.000000</td>\n",
       "      <td>354369.000000</td>\n",
       "      <td>354369.000000</td>\n",
       "      <td>354369.000000</td>\n",
       "      <td>354369.0</td>\n",
       "      <td>354369.000000</td>\n",
       "    </tr>\n",
       "    <tr>\n",
       "      <th>mean</th>\n",
       "      <td>4416.656776</td>\n",
       "      <td>2004.234448</td>\n",
       "      <td>110.094337</td>\n",
       "      <td>128211.172535</td>\n",
       "      <td>5.714645</td>\n",
       "      <td>0.0</td>\n",
       "      <td>50508.689087</td>\n",
       "    </tr>\n",
       "    <tr>\n",
       "      <th>std</th>\n",
       "      <td>4514.158514</td>\n",
       "      <td>90.227958</td>\n",
       "      <td>189.850405</td>\n",
       "      <td>37905.341530</td>\n",
       "      <td>3.726421</td>\n",
       "      <td>0.0</td>\n",
       "      <td>25783.096248</td>\n",
       "    </tr>\n",
       "    <tr>\n",
       "      <th>min</th>\n",
       "      <td>0.000000</td>\n",
       "      <td>1000.000000</td>\n",
       "      <td>0.000000</td>\n",
       "      <td>5000.000000</td>\n",
       "      <td>0.000000</td>\n",
       "      <td>0.0</td>\n",
       "      <td>1067.000000</td>\n",
       "    </tr>\n",
       "    <tr>\n",
       "      <th>25%</th>\n",
       "      <td>1050.000000</td>\n",
       "      <td>1999.000000</td>\n",
       "      <td>69.000000</td>\n",
       "      <td>125000.000000</td>\n",
       "      <td>3.000000</td>\n",
       "      <td>0.0</td>\n",
       "      <td>30165.000000</td>\n",
       "    </tr>\n",
       "    <tr>\n",
       "      <th>50%</th>\n",
       "      <td>2700.000000</td>\n",
       "      <td>2003.000000</td>\n",
       "      <td>105.000000</td>\n",
       "      <td>150000.000000</td>\n",
       "      <td>6.000000</td>\n",
       "      <td>0.0</td>\n",
       "      <td>49413.000000</td>\n",
       "    </tr>\n",
       "    <tr>\n",
       "      <th>75%</th>\n",
       "      <td>6400.000000</td>\n",
       "      <td>2008.000000</td>\n",
       "      <td>143.000000</td>\n",
       "      <td>150000.000000</td>\n",
       "      <td>9.000000</td>\n",
       "      <td>0.0</td>\n",
       "      <td>71083.000000</td>\n",
       "    </tr>\n",
       "    <tr>\n",
       "      <th>max</th>\n",
       "      <td>20000.000000</td>\n",
       "      <td>9999.000000</td>\n",
       "      <td>20000.000000</td>\n",
       "      <td>150000.000000</td>\n",
       "      <td>12.000000</td>\n",
       "      <td>0.0</td>\n",
       "      <td>99998.000000</td>\n",
       "    </tr>\n",
       "  </tbody>\n",
       "</table>\n",
       "</div>"
      ],
      "text/plain": [
       "               Price  RegistrationYear          Power      Kilometer  \\\n",
       "count  354369.000000     354369.000000  354369.000000  354369.000000   \n",
       "mean     4416.656776       2004.234448     110.094337  128211.172535   \n",
       "std      4514.158514         90.227958     189.850405   37905.341530   \n",
       "min         0.000000       1000.000000       0.000000    5000.000000   \n",
       "25%      1050.000000       1999.000000      69.000000  125000.000000   \n",
       "50%      2700.000000       2003.000000     105.000000  150000.000000   \n",
       "75%      6400.000000       2008.000000     143.000000  150000.000000   \n",
       "max     20000.000000       9999.000000   20000.000000  150000.000000   \n",
       "\n",
       "       RegistrationMonth  NumberOfPictures     PostalCode  \n",
       "count      354369.000000          354369.0  354369.000000  \n",
       "mean            5.714645               0.0   50508.689087  \n",
       "std             3.726421               0.0   25783.096248  \n",
       "min             0.000000               0.0    1067.000000  \n",
       "25%             3.000000               0.0   30165.000000  \n",
       "50%             6.000000               0.0   49413.000000  \n",
       "75%             9.000000               0.0   71083.000000  \n",
       "max            12.000000               0.0   99998.000000  "
      ]
     },
     "metadata": {},
     "output_type": "display_data"
    }
   ],
   "source": [
    "display(df.describe())"
   ]
  },
  {
   "cell_type": "markdown",
   "metadata": {},
   "source": [
    " <b>Вывод</b>    \n",
    "1. В столбце Цена присутсвуют значения с нулевой стоимостью\n",
    "2. В столбце RegistrationYear есть слишком большие значения года регистрации.\n",
    "3. В столбце Power есть слишком большие  значения мощности двигателя.\n",
    "4. В столбце Kilometer более 50% с пробегом 150000 скорее всего это связано с некими правилами заполнения формы\n",
    "Для модели значимы в связи с прямым влиянием на стоимость:\n",
    "1. Brand\n",
    "2. RegistrationYear\n",
    "3. Gearbox\n",
    "4. Model\n",
    "5. Power\n",
    "6. Kilometer\n",
    "7. FuelType\n",
    "8. VehicleType \n",
    "9. NotRepaired"
   ]
  },
  {
   "cell_type": "code",
   "execution_count": 6,
   "metadata": {},
   "outputs": [
    {
     "name": "stdout",
     "output_type": "stream",
     "text": [
      "<class 'pandas.core.frame.DataFrame'>\n",
      "RangeIndex: 354369 entries, 0 to 354368\n",
      "Data columns (total 10 columns):\n",
      " #   Column            Non-Null Count   Dtype \n",
      "---  ------            --------------   ----- \n",
      " 0   VehicleType       316879 non-null  object\n",
      " 1   RegistrationYear  354369 non-null  int64 \n",
      " 2   Gearbox           334536 non-null  object\n",
      " 3   Power             354369 non-null  int64 \n",
      " 4   Model             334664 non-null  object\n",
      " 5   Kilometer         354369 non-null  int64 \n",
      " 6   FuelType          321474 non-null  object\n",
      " 7   Brand             354369 non-null  object\n",
      " 8   Repaired          283215 non-null  object\n",
      " 9   Price             354369 non-null  int64 \n",
      "dtypes: int64(4), object(6)\n",
      "memory usage: 27.0+ MB\n"
     ]
    }
   ],
   "source": [
    "F_df =  df[['VehicleType','RegistrationYear',\n",
    "                         'Gearbox','Power',\n",
    "                         'Model','Kilometer',\n",
    "                         'FuelType', 'Brand',\n",
    "                         'Repaired','Price']]\n",
    "F_df.info()"
   ]
  },
  {
   "cell_type": "code",
   "execution_count": 7,
   "metadata": {},
   "outputs": [
    {
     "data": {
      "text/html": [
       "<div>\n",
       "<style scoped>\n",
       "    .dataframe tbody tr th:only-of-type {\n",
       "        vertical-align: middle;\n",
       "    }\n",
       "\n",
       "    .dataframe tbody tr th {\n",
       "        vertical-align: top;\n",
       "    }\n",
       "\n",
       "    .dataframe thead th {\n",
       "        text-align: right;\n",
       "    }\n",
       "</style>\n",
       "<table border=\"1\" class=\"dataframe\">\n",
       "  <thead>\n",
       "    <tr style=\"text-align: right;\">\n",
       "      <th></th>\n",
       "      <th>RegistrationYear</th>\n",
       "      <th>Power</th>\n",
       "      <th>Kilometer</th>\n",
       "      <th>Price</th>\n",
       "    </tr>\n",
       "  </thead>\n",
       "  <tbody>\n",
       "    <tr>\n",
       "      <th>count</th>\n",
       "      <td>354369.000000</td>\n",
       "      <td>354369.000000</td>\n",
       "      <td>354369.000000</td>\n",
       "      <td>354369.000000</td>\n",
       "    </tr>\n",
       "    <tr>\n",
       "      <th>mean</th>\n",
       "      <td>2004.234448</td>\n",
       "      <td>110.094337</td>\n",
       "      <td>128211.172535</td>\n",
       "      <td>4416.656776</td>\n",
       "    </tr>\n",
       "    <tr>\n",
       "      <th>std</th>\n",
       "      <td>90.227958</td>\n",
       "      <td>189.850405</td>\n",
       "      <td>37905.341530</td>\n",
       "      <td>4514.158514</td>\n",
       "    </tr>\n",
       "    <tr>\n",
       "      <th>min</th>\n",
       "      <td>1000.000000</td>\n",
       "      <td>0.000000</td>\n",
       "      <td>5000.000000</td>\n",
       "      <td>0.000000</td>\n",
       "    </tr>\n",
       "    <tr>\n",
       "      <th>25%</th>\n",
       "      <td>1999.000000</td>\n",
       "      <td>69.000000</td>\n",
       "      <td>125000.000000</td>\n",
       "      <td>1050.000000</td>\n",
       "    </tr>\n",
       "    <tr>\n",
       "      <th>50%</th>\n",
       "      <td>2003.000000</td>\n",
       "      <td>105.000000</td>\n",
       "      <td>150000.000000</td>\n",
       "      <td>2700.000000</td>\n",
       "    </tr>\n",
       "    <tr>\n",
       "      <th>75%</th>\n",
       "      <td>2008.000000</td>\n",
       "      <td>143.000000</td>\n",
       "      <td>150000.000000</td>\n",
       "      <td>6400.000000</td>\n",
       "    </tr>\n",
       "    <tr>\n",
       "      <th>max</th>\n",
       "      <td>9999.000000</td>\n",
       "      <td>20000.000000</td>\n",
       "      <td>150000.000000</td>\n",
       "      <td>20000.000000</td>\n",
       "    </tr>\n",
       "  </tbody>\n",
       "</table>\n",
       "</div>"
      ],
      "text/plain": [
       "       RegistrationYear          Power      Kilometer          Price\n",
       "count     354369.000000  354369.000000  354369.000000  354369.000000\n",
       "mean        2004.234448     110.094337  128211.172535    4416.656776\n",
       "std           90.227958     189.850405   37905.341530    4514.158514\n",
       "min         1000.000000       0.000000    5000.000000       0.000000\n",
       "25%         1999.000000      69.000000  125000.000000    1050.000000\n",
       "50%         2003.000000     105.000000  150000.000000    2700.000000\n",
       "75%         2008.000000     143.000000  150000.000000    6400.000000\n",
       "max         9999.000000   20000.000000  150000.000000   20000.000000"
      ]
     },
     "metadata": {},
     "output_type": "display_data"
    }
   ],
   "source": [
    "display(F_df.describe())"
   ]
  },
  {
   "cell_type": "code",
   "execution_count": 8,
   "metadata": {},
   "outputs": [
    {
     "data": {
      "text/plain": [
       "45040"
      ]
     },
     "execution_count": 8,
     "metadata": {},
     "output_type": "execute_result"
    }
   ],
   "source": [
    "F_df.duplicated().sum()"
   ]
  },
  {
   "cell_type": "code",
   "execution_count": 9,
   "metadata": {},
   "outputs": [
    {
     "data": {
      "text/plain": [
       "0"
      ]
     },
     "execution_count": 9,
     "metadata": {},
     "output_type": "execute_result"
    }
   ],
   "source": [
    "F_df = F_df.drop_duplicates()\n",
    "F_df.duplicated().sum()"
   ]
  },
  {
   "cell_type": "markdown",
   "metadata": {},
   "source": [
    "<b>Вывод</b>   \n",
    "дубликаты устранили, далее требуется избавиться от пропусков значений в столбцах  \n",
    "(VehicleType/RegistrationYear/Gearbox/Power/FuelType/Repaired/Model )"
   ]
  },
  {
   "cell_type": "markdown",
   "metadata": {},
   "source": [
    "### Исследовательский анализ"
   ]
  },
  {
   "cell_type": "markdown",
   "metadata": {},
   "source": [
    "#### Функции"
   ]
  },
  {
   "cell_type": "code",
   "execution_count": 10,
   "metadata": {},
   "outputs": [],
   "source": [
    "def analysis_BAR(adata_in, chapter, heading, Х, Y, bins):\n",
    "    print(adata_in[chapter].describe())\n",
    "    adata_ini = adata_in[chapter].value_counts(ascending=True)\n",
    "    display(adata_ini)\n",
    "    adata_ini.plot.bar(figsize=(10, 5), ec='black')\n",
    "    plt.title(heading)\n",
    "    plt.xlabel(Х)\n",
    "    plt.ylabel(Y)\n",
    "    plt.legend(loc=2)\n",
    "    plt.figure(figsize=(10,5))"
   ]
  },
  {
   "cell_type": "code",
   "execution_count": 11,
   "metadata": {},
   "outputs": [],
   "source": [
    "def analysis_HIST(adata_in, chapter, heading, Х, Y, bins):\n",
    "    print(adata_in[chapter].describe())\n",
    "    #adata_ini = adata_in.groupby(chapter).mean()\n",
    "    #display(adata_in[chapter].head(5))\n",
    "    plt.title(heading)\n",
    "    plt.xlabel(Х)\n",
    "    plt.ylabel(Y)\n",
    "    \n",
    "    plt.hist(x=adata_in[chapter], bins=bins )\n",
    "    plt.figure(figsize=(10,5))\n",
    "    #plt.show() "
   ]
  },
  {
   "cell_type": "markdown",
   "metadata": {},
   "source": [
    "Для упрощения работы"
   ]
  },
  {
   "cell_type": "markdown",
   "metadata": {},
   "source": [
    "#### Power"
   ]
  },
  {
   "cell_type": "code",
   "execution_count": 12,
   "metadata": {},
   "outputs": [
    {
     "name": "stdout",
     "output_type": "stream",
     "text": [
      "count    309329.000000\n",
      "mean        110.976908\n",
      "std         200.969473\n",
      "min           0.000000\n",
      "25%          69.000000\n",
      "50%         105.000000\n",
      "75%         143.000000\n",
      "max       20000.000000\n",
      "Name: Power, dtype: float64\n"
     ]
    },
    {
     "data": {
      "image/png": "[encoded data removed]",
      "text/plain": [
       "<Figure size 432x288 with 1 Axes>"
      ]
     },
     "metadata": {
      "needs_background": "light"
     },
     "output_type": "display_data"
    },
    {
     "data": {
      "text/plain": [
       "<Figure size 720x360 with 0 Axes>"
      ]
     },
     "metadata": {},
     "output_type": "display_data"
    }
   ],
   "source": [
    "analysis_HIST(F_df,\n",
    "             'Power',\n",
    "             'Распределение',\n",
    "             'Мощность',\n",
    "             'кол-во шт',\n",
    "             40)"
   ]
  },
  {
   "cell_type": "code",
   "execution_count": 13,
   "metadata": {},
   "outputs": [],
   "source": [
    "F_df = F_df.query('1 < Power')"
   ]
  },
  {
   "cell_type": "code",
   "execution_count": 14,
   "metadata": {},
   "outputs": [],
   "source": [
    "F_df.loc[F_df['Power'] >= 400, 'Power'] = (F_df['Power']/100)\n",
    "F_df.loc[F_df['Power'] < 50, 'Power'] = (F_df['Power']*10) "
   ]
  },
  {
   "cell_type": "code",
   "execution_count": 15,
   "metadata": {},
   "outputs": [],
   "source": [
    "#F_df = F_df.query(' Power < 500')"
   ]
  },
  {
   "cell_type": "code",
   "execution_count": 16,
   "metadata": {},
   "outputs": [
    {
     "name": "stdout",
     "output_type": "stream",
     "text": [
      "count    273319.000000\n",
      "mean        127.206986\n",
      "std          64.965457\n",
      "min          20.000000\n",
      "25%          82.000000\n",
      "50%         115.000000\n",
      "75%         150.000000\n",
      "max         490.000000\n",
      "Name: Power, dtype: float64\n"
     ]
    },
    {
     "data": {
      "image/png": "[encoded data removed]",
      "text/plain": [
       "<Figure size 432x288 with 1 Axes>"
      ]
     },
     "metadata": {
      "needs_background": "light"
     },
     "output_type": "display_data"
    },
    {
     "data": {
      "text/plain": [
       "<Figure size 720x360 with 0 Axes>"
      ]
     },
     "metadata": {},
     "output_type": "display_data"
    }
   ],
   "source": [
    "analysis_HIST(F_df,\n",
    "             'Power',\n",
    "             'Распределение',\n",
    "             'Мощность',\n",
    "             'кол-во шт',\n",
    "             40)"
   ]
  },
  {
   "cell_type": "markdown",
   "metadata": {},
   "source": [
    "#### VehicleType"
   ]
  },
  {
   "cell_type": "code",
   "execution_count": 17,
   "metadata": {},
   "outputs": [
    {
     "name": "stdout",
     "output_type": "stream",
     "text": [
      "count     251783\n",
      "unique         8\n",
      "top        sedan\n",
      "freq       72518\n",
      "Name: VehicleType, dtype: object\n"
     ]
    },
    {
     "data": {
      "text/plain": [
       "other           2528\n",
       "suv             9958\n",
       "coupe          13660\n",
       "convertible    17075\n",
       "bus            23728\n",
       "wagon          52232\n",
       "small          60084\n",
       "sedan          72518\n",
       "Name: VehicleType, dtype: int64"
      ]
     },
     "metadata": {},
     "output_type": "display_data"
    },
    {
     "data": {
      "image/png": "[encoded data removed]",
      "text/plain": [
       "<Figure size 720x360 with 1 Axes>"
      ]
     },
     "metadata": {
      "needs_background": "light"
     },
     "output_type": "display_data"
    },
    {
     "data": {
      "text/plain": [
       "<Figure size 720x360 with 0 Axes>"
      ]
     },
     "metadata": {},
     "output_type": "display_data"
    }
   ],
   "source": [
    " \n",
    "analysis_BAR(F_df,\n",
    "             'VehicleType',\n",
    "             'Распределение',\n",
    "             'Тип автомобиля',\n",
    "             'кол-во',\n",
    "             40)"
   ]
  },
  {
   "cell_type": "code",
   "execution_count": 18,
   "metadata": {},
   "outputs": [
    {
     "data": {
      "text/plain": [
       "21536"
      ]
     },
     "metadata": {},
     "output_type": "display_data"
    }
   ],
   "source": [
    "display(F_df['VehicleType'].isna().sum())"
   ]
  },
  {
   "cell_type": "code",
   "execution_count": 19,
   "metadata": {},
   "outputs": [],
   "source": [
    "F_df_pvt = F_df.pivot_table(index=['VehicleType'],columns=['Brand'],values=['Price'],aggfunc=['count'])\n",
    "F_df_pvt = F_df_pvt['count']['Price']"
   ]
  },
  {
   "cell_type": "code",
   "execution_count": 20,
   "metadata": {},
   "outputs": [],
   "source": [
    "def fillna1(row, row_number, F_df_pvt):\n",
    "    brand = row[7]\n",
    "    value = row[row_number]\n",
    "    if row[row_number] == 0:\n",
    "        value = F_df_pvt[brand].idxmax()\n",
    "    return value"
   ]
  },
  {
   "cell_type": "code",
   "execution_count": 21,
   "metadata": {},
   "outputs": [
    {
     "data": {
      "text/plain": [
       "0"
      ]
     },
     "metadata": {},
     "output_type": "display_data"
    }
   ],
   "source": [
    "F_df.fillna({'VehicleType':0},inplace=True) \n",
    "F_df['VehicleType'] = F_df.apply(\n",
    "                                fillna1, \n",
    "                                args=[0, F_df_pvt],\n",
    "                                axis=1)\n",
    "display(F_df['VehicleType'].isna().sum())"
   ]
  },
  {
   "cell_type": "code",
   "execution_count": 22,
   "metadata": {},
   "outputs": [
    {
     "name": "stdout",
     "output_type": "stream",
     "text": [
      "count     273319\n",
      "unique         8\n",
      "top        sedan\n",
      "freq       82615\n",
      "Name: VehicleType, dtype: object\n"
     ]
    },
    {
     "data": {
      "text/plain": [
       "other           2528\n",
       "suv            10109\n",
       "coupe          13660\n",
       "convertible    17097\n",
       "bus            23793\n",
       "wagon          54216\n",
       "small          69301\n",
       "sedan          82615\n",
       "Name: VehicleType, dtype: int64"
      ]
     },
     "metadata": {},
     "output_type": "display_data"
    },
    {
     "data": {
      "image/png": "[encoded data removed]",
      "text/plain": [
       "<Figure size 720x360 with 1 Axes>"
      ]
     },
     "metadata": {
      "needs_background": "light"
     },
     "output_type": "display_data"
    },
    {
     "data": {
      "text/plain": [
       "<Figure size 720x360 with 0 Axes>"
      ]
     },
     "metadata": {},
     "output_type": "display_data"
    }
   ],
   "source": [
    "analysis_BAR(F_df,\n",
    "             'VehicleType',\n",
    "             'Распределение',\n",
    "             'Тип автомобиля',\n",
    "             'кол-во',\n",
    "             40)"
   ]
  },
  {
   "cell_type": "markdown",
   "metadata": {},
   "source": [
    " <b>Вывод</b>   "
   ]
  },
  {
   "cell_type": "markdown",
   "metadata": {},
   "source": [
    "#### FuelType"
   ]
  },
  {
   "cell_type": "code",
   "execution_count": 23,
   "metadata": {},
   "outputs": [
    {
     "name": "stdout",
     "output_type": "stream",
     "text": [
      "count     252893\n",
      "unique         7\n",
      "top       petrol\n",
      "freq      169245\n",
      "Name: FuelType, dtype: object\n"
     ]
    },
    {
     "data": {
      "text/plain": [
       "electric        77\n",
       "other           92\n",
       "hybrid         197\n",
       "cng            466\n",
       "lpg           4502\n",
       "gasoline     78314\n",
       "petrol      169245\n",
       "Name: FuelType, dtype: int64"
      ]
     },
     "metadata": {},
     "output_type": "display_data"
    },
    {
     "data": {
      "image/png": "[encoded data removed]",
      "text/plain": [
       "<Figure size 720x360 with 1 Axes>"
      ]
     },
     "metadata": {
      "needs_background": "light"
     },
     "output_type": "display_data"
    },
    {
     "data": {
      "text/plain": [
       "<Figure size 720x360 with 0 Axes>"
      ]
     },
     "metadata": {},
     "output_type": "display_data"
    }
   ],
   "source": [
    "analysis_BAR(F_df,\n",
    "             'FuelType',\n",
    "             'Распределение',\n",
    "             'Тип топлива',\n",
    "             'кол-во',\n",
    "             40)"
   ]
  },
  {
   "cell_type": "code",
   "execution_count": 24,
   "metadata": {},
   "outputs": [
    {
     "data": {
      "text/plain": [
       "20426"
      ]
     },
     "metadata": {},
     "output_type": "display_data"
    }
   ],
   "source": [
    "display(F_df['FuelType'].isna().sum())"
   ]
  },
  {
   "cell_type": "code",
   "execution_count": 25,
   "metadata": {},
   "outputs": [],
   "source": [
    "F_df_pvt2 = F_df.pivot_table(index=['FuelType'],columns=['Brand'],values=['Price'],aggfunc=['count'])\n",
    "F_df_pvt2 = F_df_pvt2['count']['Price']"
   ]
  },
  {
   "cell_type": "code",
   "execution_count": 26,
   "metadata": {},
   "outputs": [],
   "source": [
    "def fillna2(row, row_number, F_df_pvt):\n",
    "    brand = row[7]\n",
    "    value = row[row_number]\n",
    "    if row[row_number] == 0:\n",
    "        value = F_df_pvt[brand].idxmax()\n",
    "    return value"
   ]
  },
  {
   "cell_type": "code",
   "execution_count": 27,
   "metadata": {},
   "outputs": [
    {
     "data": {
      "text/plain": [
       "0"
      ]
     },
     "metadata": {},
     "output_type": "display_data"
    }
   ],
   "source": [
    "F_df.fillna({'FuelType':0},inplace=True) \n",
    "F_df['FuelType'] = F_df.apply(\n",
    "                                fillna2, \n",
    "                                args=[0, F_df_pvt2],\n",
    "                                axis=1)\n",
    "display(F_df['FuelType'].isna().sum())"
   ]
  },
  {
   "cell_type": "code",
   "execution_count": 28,
   "metadata": {},
   "outputs": [
    {
     "name": "stdout",
     "output_type": "stream",
     "text": [
      "count     273319\n",
      "unique         8\n",
      "top        sedan\n",
      "freq       82615\n",
      "Name: FuelType, dtype: object\n"
     ]
    },
    {
     "data": {
      "text/plain": [
       "other           2528\n",
       "suv            10109\n",
       "coupe          13660\n",
       "convertible    17097\n",
       "bus            23793\n",
       "wagon          54216\n",
       "small          69301\n",
       "sedan          82615\n",
       "Name: FuelType, dtype: int64"
      ]
     },
     "metadata": {},
     "output_type": "display_data"
    },
    {
     "data": {
      "image/png": "[encoded data removed]",
      "text/plain": [
       "<Figure size 720x360 with 1 Axes>"
      ]
     },
     "metadata": {
      "needs_background": "light"
     },
     "output_type": "display_data"
    },
    {
     "data": {
      "text/plain": [
       "<Figure size 720x360 with 0 Axes>"
      ]
     },
     "metadata": {},
     "output_type": "display_data"
    }
   ],
   "source": [
    "analysis_BAR(F_df,\n",
    "             'FuelType',\n",
    "             'Распределение',\n",
    "             'Тип топлива',\n",
    "             'кол-во',\n",
    "             40)"
   ]
  },
  {
   "cell_type": "markdown",
   "metadata": {},
   "source": [
    " <b>Вывод</b>   "
   ]
  },
  {
   "cell_type": "markdown",
   "metadata": {},
   "source": [
    "#### RegistrationYear"
   ]
  },
  {
   "cell_type": "code",
   "execution_count": 29,
   "metadata": {},
   "outputs": [
    {
     "data": {
      "text/plain": [
       "RegistrationYear\n",
       "1000    8\n",
       "1200    1\n",
       "1234    1\n",
       "1400    1\n",
       "1500    1\n",
       "       ..\n",
       "6500    1\n",
       "8000    1\n",
       "8200    1\n",
       "9000    1\n",
       "9999    1\n",
       "Name: RegistrationYear, Length: 114, dtype: int64"
      ]
     },
     "execution_count": 29,
     "metadata": {},
     "output_type": "execute_result"
    }
   ],
   "source": [
    "F_df.groupby(by='RegistrationYear')['RegistrationYear'].count()\n",
    " "
   ]
  },
  {
   "cell_type": "code",
   "execution_count": 30,
   "metadata": {},
   "outputs": [
    {
     "name": "stdout",
     "output_type": "stream",
     "text": [
      "count    273319.000000\n",
      "mean       2003.576692\n",
      "std          36.816511\n",
      "min        1000.000000\n",
      "25%        1999.000000\n",
      "50%        2003.000000\n",
      "75%        2008.000000\n",
      "max        9999.000000\n",
      "Name: RegistrationYear, dtype: float64\n"
     ]
    },
    {
     "data": {
      "image/png": "[encoded data removed]",
      "text/plain": [
       "<Figure size 432x288 with 1 Axes>"
      ]
     },
     "metadata": {
      "needs_background": "light"
     },
     "output_type": "display_data"
    },
    {
     "data": {
      "text/plain": [
       "<Figure size 720x360 with 0 Axes>"
      ]
     },
     "metadata": {},
     "output_type": "display_data"
    }
   ],
   "source": [
    " \n",
    "\n",
    "analysis_HIST(F_df,\n",
    "             'RegistrationYear',\n",
    "             'Распределение',\n",
    "             'Год выпуска',\n",
    "             'кол-во шт',\n",
    "             40)"
   ]
  },
  {
   "cell_type": "code",
   "execution_count": 31,
   "metadata": {},
   "outputs": [
    {
     "data": {
      "image/png": "[encoded data removed]",
      "text/plain": [
       "<Figure size 720x1440 with 1 Axes>"
      ]
     },
     "metadata": {
      "needs_background": "light"
     },
     "output_type": "display_data"
    }
   ],
   "source": [
    "F_df.boxplot(column='RegistrationYear', figsize=(10, 20))\n",
    "plt.title('Размах')\n",
    "plt.ylim(1600, 10000)\n",
    "plt.ylabel('Год выпуска')\n",
    "plt.show()"
   ]
  },
  {
   "cell_type": "code",
   "execution_count": 32,
   "metadata": {},
   "outputs": [],
   "source": [
    "F_df.loc[F_df['RegistrationYear'] >= 2016, 'RegistrationYear'] = (F_df['RegistrationYear']/100)+1920\n",
    "F_df.loc[F_df['RegistrationYear'] <= 1900, 'RegistrationYear'] = (F_df['RegistrationYear']/100)+1920"
   ]
  },
  {
   "cell_type": "code",
   "execution_count": 33,
   "metadata": {},
   "outputs": [],
   "source": [
    "F_df = F_df.query('1960 < RegistrationYear < 2016')"
   ]
  },
  {
   "cell_type": "code",
   "execution_count": 34,
   "metadata": {},
   "outputs": [
    {
     "data": {
      "text/plain": [
       "count    256602.000000\n",
       "mean       2002.507522\n",
       "std           6.327228\n",
       "min        1961.000000\n",
       "25%        1999.000000\n",
       "50%        2003.000000\n",
       "75%        2007.000000\n",
       "max        2015.000000\n",
       "Name: RegistrationYear, dtype: float64"
      ]
     },
     "execution_count": 34,
     "metadata": {},
     "output_type": "execute_result"
    }
   ],
   "source": [
    "F_df['RegistrationYear'].describe()"
   ]
  },
  {
   "cell_type": "code",
   "execution_count": 35,
   "metadata": {},
   "outputs": [
    {
     "name": "stdout",
     "output_type": "stream",
     "text": [
      "count    256602.000000\n",
      "mean       2002.507522\n",
      "std           6.327228\n",
      "min        1961.000000\n",
      "25%        1999.000000\n",
      "50%        2003.000000\n",
      "75%        2007.000000\n",
      "max        2015.000000\n",
      "Name: RegistrationYear, dtype: float64\n"
     ]
    },
    {
     "data": {
      "image/png": "[encoded data removed]",
      "text/plain": [
       "<Figure size 432x288 with 1 Axes>"
      ]
     },
     "metadata": {
      "needs_background": "light"
     },
     "output_type": "display_data"
    },
    {
     "data": {
      "text/plain": [
       "<Figure size 720x360 with 0 Axes>"
      ]
     },
     "metadata": {},
     "output_type": "display_data"
    }
   ],
   "source": [
    "analysis_HIST(F_df,\n",
    "             'RegistrationYear',\n",
    "             'Распределение',\n",
    "             'Год выпуска',\n",
    "             'кол-во шт',\n",
    "             40)"
   ]
  },
  {
   "cell_type": "markdown",
   "metadata": {},
   "source": [
    "#### Gearbox"
   ]
  },
  {
   "cell_type": "code",
   "execution_count": 36,
   "metadata": {},
   "outputs": [
    {
     "data": {
      "text/plain": [
       "0.0"
      ]
     },
     "execution_count": 36,
     "metadata": {},
     "output_type": "execute_result"
    }
   ],
   "source": [
    "F_df.fillna({'Gearbox':'manual'},  inplace=True)\n",
    "F_df['Gearbox'].isna().mean()"
   ]
  },
  {
   "cell_type": "code",
   "execution_count": 37,
   "metadata": {},
   "outputs": [],
   "source": [
    "F_df['bool_gearbox'] = 0\n",
    "F_df.loc[F_df['Gearbox'] == 'manual', 'bool_gearbox'] = 1"
   ]
  },
  {
   "cell_type": "markdown",
   "metadata": {},
   "source": [
    " <b>Вывод</b>   "
   ]
  },
  {
   "cell_type": "markdown",
   "metadata": {},
   "source": [
    "#### Repaired"
   ]
  },
  {
   "cell_type": "code",
   "execution_count": 38,
   "metadata": {},
   "outputs": [
    {
     "data": {
      "text/plain": [
       "0.0"
      ]
     },
     "execution_count": 38,
     "metadata": {},
     "output_type": "execute_result"
    }
   ],
   "source": [
    "F_df.fillna({'Repaired':'yes'},  inplace=True)\n",
    "F_df['Repaired'].isna().mean()\n"
   ]
  },
  {
   "cell_type": "code",
   "execution_count": 39,
   "metadata": {},
   "outputs": [],
   "source": [
    "F_df['bool_Repaired'] = 0\n",
    "F_df.loc[F_df['Repaired'] == 'not', 'bool_Repaired'] = 1"
   ]
  },
  {
   "cell_type": "markdown",
   "metadata": {},
   "source": [
    " <b>Вывод</b>   "
   ]
  },
  {
   "cell_type": "markdown",
   "metadata": {},
   "source": [
    "#### Model"
   ]
  },
  {
   "cell_type": "code",
   "execution_count": 40,
   "metadata": {},
   "outputs": [
    {
     "data": {
      "text/plain": [
       "0.0"
      ]
     },
     "execution_count": 40,
     "metadata": {},
     "output_type": "execute_result"
    }
   ],
   "source": [
    "F_df.fillna({'Model':'unknown'},  inplace=True)\n",
    "F_df['Model'].isna().mean()\n"
   ]
  },
  {
   "cell_type": "markdown",
   "metadata": {},
   "source": [
    " <b>Вывод</b>   "
   ]
  },
  {
   "cell_type": "markdown",
   "metadata": {},
   "source": [
    "#### Price"
   ]
  },
  {
   "cell_type": "code",
   "execution_count": 41,
   "metadata": {},
   "outputs": [
    {
     "name": "stdout",
     "output_type": "stream",
     "text": [
      "count    256602.000000\n",
      "mean       4894.424626\n",
      "std        4678.259810\n",
      "min           0.000000\n",
      "25%        1300.000000\n",
      "50%        3200.000000\n",
      "75%        7000.000000\n",
      "max       20000.000000\n",
      "Name: Price, dtype: float64\n"
     ]
    },
    {
     "data": {
      "image/png": "[encoded data removed]",
      "text/plain": [
       "<Figure size 432x288 with 1 Axes>"
      ]
     },
     "metadata": {
      "needs_background": "light"
     },
     "output_type": "display_data"
    },
    {
     "data": {
      "text/plain": [
       "<Figure size 720x360 with 0 Axes>"
      ]
     },
     "metadata": {},
     "output_type": "display_data"
    }
   ],
   "source": [
    "analysis_HIST(F_df,\n",
    "             'Price',\n",
    "             'Распределение',\n",
    "             'Цена',\n",
    "             'кол-во шт',\n",
    "             100)"
   ]
  },
  {
   "cell_type": "code",
   "execution_count": 42,
   "metadata": {},
   "outputs": [],
   "source": [
    "F_df = F_df.query('500 <Price < 11500')\n"
   ]
  },
  {
   "cell_type": "markdown",
   "metadata": {},
   "source": [
    "Такие ограничения в связи с тем что значения меньше 500 долларов не реальны для современности и не отражают реальную стоимость товара. Скорее всего подразумевается дальнейший торг  \n",
    "А больше 11500 тысяч уже не такое большое количество авто, что в дальнейшем повредит обучаемой модели  "
   ]
  },
  {
   "cell_type": "code",
   "execution_count": 43,
   "metadata": {},
   "outputs": [
    {
     "name": "stdout",
     "output_type": "stream",
     "text": [
      "count    203787.000000\n",
      "mean       3923.771948\n",
      "std        2859.702634\n",
      "min         501.000000\n",
      "25%        1500.000000\n",
      "50%        3000.000000\n",
      "75%        5850.000000\n",
      "max       11499.000000\n",
      "Name: Price, dtype: float64\n"
     ]
    },
    {
     "data": {
      "image/png": "[encoded data removed]",
      "text/plain": [
       "<Figure size 432x288 with 1 Axes>"
      ]
     },
     "metadata": {
      "needs_background": "light"
     },
     "output_type": "display_data"
    },
    {
     "data": {
      "text/plain": [
       "<Figure size 720x360 with 0 Axes>"
      ]
     },
     "metadata": {},
     "output_type": "display_data"
    }
   ],
   "source": [
    "analysis_HIST(F_df,\n",
    "             'Price',\n",
    "             'Распределение',\n",
    "             'Цена',\n",
    "             'кол-во шт',\n",
    "             100)"
   ]
  },
  {
   "cell_type": "markdown",
   "metadata": {},
   "source": [
    "### Финальная проверка и подготовка данных"
   ]
  },
  {
   "cell_type": "code",
   "execution_count": 44,
   "metadata": {},
   "outputs": [
    {
     "name": "stdout",
     "output_type": "stream",
     "text": [
      "<class 'pandas.core.frame.DataFrame'>\n",
      "Int64Index: 203787 entries, 2 to 354368\n",
      "Data columns (total 12 columns):\n",
      " #   Column            Non-Null Count   Dtype  \n",
      "---  ------            --------------   -----  \n",
      " 0   VehicleType       203787 non-null  object \n",
      " 1   RegistrationYear  203787 non-null  float64\n",
      " 2   Gearbox           203787 non-null  object \n",
      " 3   Power             203787 non-null  float64\n",
      " 4   Model             203787 non-null  object \n",
      " 5   Kilometer         203787 non-null  int64  \n",
      " 6   FuelType          203787 non-null  object \n",
      " 7   Brand             203787 non-null  object \n",
      " 8   Repaired          203787 non-null  object \n",
      " 9   Price             203787 non-null  int64  \n",
      " 10  bool_gearbox      203787 non-null  int64  \n",
      " 11  bool_Repaired     203787 non-null  int64  \n",
      "dtypes: float64(2), int64(4), object(6)\n",
      "memory usage: 20.2+ MB\n"
     ]
    }
   ],
   "source": [
    "F_df.info()"
   ]
  },
  {
   "cell_type": "code",
   "execution_count": 45,
   "metadata": {},
   "outputs": [
    {
     "data": {
      "text/html": [
       "<div>\n",
       "<style scoped>\n",
       "    .dataframe tbody tr th:only-of-type {\n",
       "        vertical-align: middle;\n",
       "    }\n",
       "\n",
       "    .dataframe tbody tr th {\n",
       "        vertical-align: top;\n",
       "    }\n",
       "\n",
       "    .dataframe thead th {\n",
       "        text-align: right;\n",
       "    }\n",
       "</style>\n",
       "<table border=\"1\" class=\"dataframe\">\n",
       "  <thead>\n",
       "    <tr style=\"text-align: right;\">\n",
       "      <th></th>\n",
       "      <th>RegistrationYear</th>\n",
       "      <th>Power</th>\n",
       "      <th>Kilometer</th>\n",
       "      <th>Price</th>\n",
       "      <th>bool_gearbox</th>\n",
       "      <th>bool_Repaired</th>\n",
       "    </tr>\n",
       "  </thead>\n",
       "  <tbody>\n",
       "    <tr>\n",
       "      <th>count</th>\n",
       "      <td>203787.000000</td>\n",
       "      <td>203787.000000</td>\n",
       "      <td>203787.000000</td>\n",
       "      <td>203787.000000</td>\n",
       "      <td>203787.000000</td>\n",
       "      <td>203787.0</td>\n",
       "    </tr>\n",
       "    <tr>\n",
       "      <th>mean</th>\n",
       "      <td>2002.216658</td>\n",
       "      <td>122.404903</td>\n",
       "      <td>130376.152551</td>\n",
       "      <td>3923.771948</td>\n",
       "      <td>0.812839</td>\n",
       "      <td>0.0</td>\n",
       "    </tr>\n",
       "    <tr>\n",
       "      <th>std</th>\n",
       "      <td>5.815931</td>\n",
       "      <td>58.381809</td>\n",
       "      <td>34535.050563</td>\n",
       "      <td>2859.702634</td>\n",
       "      <td>0.390042</td>\n",
       "      <td>0.0</td>\n",
       "    </tr>\n",
       "    <tr>\n",
       "      <th>min</th>\n",
       "      <td>1961.000000</td>\n",
       "      <td>20.000000</td>\n",
       "      <td>5000.000000</td>\n",
       "      <td>501.000000</td>\n",
       "      <td>0.000000</td>\n",
       "      <td>0.0</td>\n",
       "    </tr>\n",
       "    <tr>\n",
       "      <th>25%</th>\n",
       "      <td>1999.000000</td>\n",
       "      <td>82.000000</td>\n",
       "      <td>125000.000000</td>\n",
       "      <td>1500.000000</td>\n",
       "      <td>1.000000</td>\n",
       "      <td>0.0</td>\n",
       "    </tr>\n",
       "    <tr>\n",
       "      <th>50%</th>\n",
       "      <td>2003.000000</td>\n",
       "      <td>110.000000</td>\n",
       "      <td>150000.000000</td>\n",
       "      <td>3000.000000</td>\n",
       "      <td>1.000000</td>\n",
       "      <td>0.0</td>\n",
       "    </tr>\n",
       "    <tr>\n",
       "      <th>75%</th>\n",
       "      <td>2006.000000</td>\n",
       "      <td>147.000000</td>\n",
       "      <td>150000.000000</td>\n",
       "      <td>5850.000000</td>\n",
       "      <td>1.000000</td>\n",
       "      <td>0.0</td>\n",
       "    </tr>\n",
       "    <tr>\n",
       "      <th>max</th>\n",
       "      <td>2015.000000</td>\n",
       "      <td>490.000000</td>\n",
       "      <td>150000.000000</td>\n",
       "      <td>11499.000000</td>\n",
       "      <td>1.000000</td>\n",
       "      <td>0.0</td>\n",
       "    </tr>\n",
       "  </tbody>\n",
       "</table>\n",
       "</div>"
      ],
      "text/plain": [
       "       RegistrationYear          Power      Kilometer          Price  \\\n",
       "count     203787.000000  203787.000000  203787.000000  203787.000000   \n",
       "mean        2002.216658     122.404903  130376.152551    3923.771948   \n",
       "std            5.815931      58.381809   34535.050563    2859.702634   \n",
       "min         1961.000000      20.000000    5000.000000     501.000000   \n",
       "25%         1999.000000      82.000000  125000.000000    1500.000000   \n",
       "50%         2003.000000     110.000000  150000.000000    3000.000000   \n",
       "75%         2006.000000     147.000000  150000.000000    5850.000000   \n",
       "max         2015.000000     490.000000  150000.000000   11499.000000   \n",
       "\n",
       "        bool_gearbox  bool_Repaired  \n",
       "count  203787.000000       203787.0  \n",
       "mean        0.812839            0.0  \n",
       "std         0.390042            0.0  \n",
       "min         0.000000            0.0  \n",
       "25%         1.000000            0.0  \n",
       "50%         1.000000            0.0  \n",
       "75%         1.000000            0.0  \n",
       "max         1.000000            0.0  "
      ]
     },
     "execution_count": 45,
     "metadata": {},
     "output_type": "execute_result"
    }
   ],
   "source": [
    "F_df.describe()"
   ]
  },
  {
   "cell_type": "code",
   "execution_count": 46,
   "metadata": {},
   "outputs": [
    {
     "data": {
      "text/plain": [
       "2           auto\n",
       "3         manual\n",
       "4         manual\n",
       "5         manual\n",
       "6         manual\n",
       "           ...  \n",
       "354360    manual\n",
       "354362    manual\n",
       "354366      auto\n",
       "354367    manual\n",
       "354368    manual\n",
       "Name: Gearbox, Length: 203787, dtype: object"
      ]
     },
     "execution_count": 46,
     "metadata": {},
     "output_type": "execute_result"
    }
   ],
   "source": [
    "F_df.pop('Repaired')\n",
    "F_df.pop('Gearbox')\n",
    " "
   ]
  },
  {
   "cell_type": "code",
   "execution_count": null,
   "metadata": {},
   "outputs": [],
   "source": []
  },
  {
   "cell_type": "markdown",
   "metadata": {},
   "source": [
    "### Вывод"
   ]
  },
  {
   "cell_type": "markdown",
   "metadata": {},
   "source": [
    "Данные проанализировали и отследили распределение\n",
    "\n",
    "Обработаны пропуски,аномалии и некорректные значения (выбросы и т.д)\n",
    "\n",
    "Выбраны необходимые данные для обучения модели\n",
    "\n",
    "Заменены категориальные признаки данных на численые\n",
    "\n",
    "Подготовлены наборы данных"
   ]
  },
  {
   "cell_type": "markdown",
   "metadata": {},
   "source": [
    "## Обучение моделей"
   ]
  },
  {
   "cell_type": "code",
   "execution_count": 47,
   "metadata": {},
   "outputs": [],
   "source": [
    "ohe_columns = ['VehicleType', 'Model', 'FuelType','Brand']\n",
    "ord_columns = ['Gearbox', 'Repaired' ]\n",
    "num_columns = ['RegistrationYear', 'Power','Kilometer']\n",
    "RANDOM_STATE=1515"
   ]
  },
  {
   "cell_type": "code",
   "execution_count": 48,
   "metadata": {},
   "outputs": [],
   "source": [
    "X  = F_df.drop('Price', axis=1)\n",
    "Y  = F_df['Price']\n",
    " \n"
   ]
  },
  {
   "cell_type": "raw",
   "metadata": {},
   "source": [
    "encoder = OrdinalEncoder()\n",
    "OHE = X[ohe_columns]\n",
    "\n",
    "\n",
    "ORD = X.copy()\n",
    "for column in ohe_columns:\n",
    "    ORD[column] = OHE[column]\n",
    "\n",
    "OHE = pd.DataFrame(encoder.fit_transform(OHE),\n",
    "                                columns=OHE.columns, \n",
    "                                index=OHE.index)\n",
    "OHE = pd.get_dummies(X, drop_first=True)\n"
   ]
  },
  {
   "cell_type": "code",
   "execution_count": 49,
   "metadata": {},
   "outputs": [],
   "source": [
    "X_train, X_test, Y_train, Y_test = train_test_split(\n",
    "    X, Y, test_size=0.25, random_state=RANDOM_STATE)\n",
    "\n",
    "#ORD_train = ORD.loc[X_train.index, :]\n",
    "#ORD_test = ORD.loc[X_test.index, :]\n",
    "\n",
    "#OHE_train = OHE.loc[X_train.index, :]\n",
    "#OHE_test = OHE.loc[X_test.index, :]"
   ]
  },
  {
   "cell_type": "code",
   "execution_count": 50,
   "metadata": {},
   "outputs": [],
   "source": [
    "encoder2  = OneHotEncoder(drop='first')\n"
   ]
  },
  {
   "cell_type": "code",
   "execution_count": 51,
   "metadata": {
    "scrolled": true
   },
   "outputs": [],
   "source": [
    "encoder = OrdinalEncoder()\n",
    "#encoder2  = OneHotEncoder(drop='first')\n",
    "\n",
    "OE_train = X_train[ohe_columns]\n",
    "\n",
    "\n",
    "ORD_train = X_train.copy()\n",
    "for column in ohe_columns:\n",
    "    ORD_train[column] = OE_train[column]\n",
    "\n",
    "OE_train = pd.DataFrame(encoder.fit_transform(OE_train),\n",
    "                                columns=OE_train.columns, \n",
    "                                index=OE_train.index)\n",
    "#OHE_train = pd.get_dummies(X_train, drop_first=True)\n",
    "OHE_train = encoder2.fit_transform(X_train[ohe_columns])"
   ]
  },
  {
   "cell_type": "code",
   "execution_count": 52,
   "metadata": {},
   "outputs": [],
   "source": [
    "OE_test = X_test[ohe_columns]\n",
    "\n",
    "ORD_test = X_test.copy()\n",
    "for column in ohe_columns:\n",
    "    ORD_test[column] = OE_test[column]\n",
    "\n",
    "OE_test = pd.DataFrame(encoder.transform(OE_test),\n",
    "                                columns=OE_test.columns, \n",
    "                                index=OE_test.index)\n",
    "\n",
    "#OHE_test = pd.get_dummies(X_test, drop_first=True)\n",
    "OHE_test = encoder2.transform(X_test[ohe_columns])"
   ]
  },
  {
   "cell_type": "code",
   "execution_count": 53,
   "metadata": {},
   "outputs": [],
   "source": [
    "#OHE_train.head()"
   ]
  },
  {
   "cell_type": "code",
   "execution_count": 54,
   "metadata": {},
   "outputs": [],
   "source": [
    "#OHE_test.head()"
   ]
  },
  {
   "cell_type": "markdown",
   "metadata": {},
   "source": [
    " <b>Вывод</b>   "
   ]
  },
  {
   "cell_type": "markdown",
   "metadata": {},
   "source": [
    "### LinearRegression"
   ]
  },
  {
   "cell_type": "code",
   "execution_count": 55,
   "metadata": {},
   "outputs": [
    {
     "name": "stdout",
     "output_type": "stream",
     "text": [
      "Best score: 2518.6639197626287\n",
      "CPU times: user 32.7 s, sys: 34.3 s, total: 1min 6s\n",
      "Wall time: 1min 6s\n"
     ]
    }
   ],
   "source": [
    "%%time\n",
    "model_lr1 = LinearRegression()\n",
    " \n",
    "RMSE_lr1= (cross_val_score(model_lr1, OHE_train, Y_train , cv=5, scoring='neg_mean_squared_error').mean() * -1)** 0.5\n",
    "print(f'Best score: {RMSE_lr1}')"
   ]
  },
  {
   "cell_type": "code",
   "execution_count": 56,
   "metadata": {},
   "outputs": [
    {
     "name": "stdout",
     "output_type": "stream",
     "text": [
      "Best score: nan\n",
      "CPU times: user 35.5 ms, sys: 0 ns, total: 35.5 ms\n",
      "Wall time: 34.7 ms\n"
     ]
    },
    {
     "name": "stderr",
     "output_type": "stream",
     "text": [
      "/opt/conda/lib/python3.9/site-packages/sklearn/model_selection/_validation.py:610: FitFailedWarning: Estimator fit failed. The score on this train-test partition for these parameters will be set to nan. Details: \n",
      "Traceback (most recent call last):\n",
      "  File \"/opt/conda/lib/python3.9/site-packages/sklearn/model_selection/_validation.py\", line 593, in _fit_and_score\n",
      "    estimator.fit(X_train, y_train, **fit_params)\n",
      "  File \"/opt/conda/lib/python3.9/site-packages/sklearn/pipeline.py\", line 341, in fit\n",
      "    Xt = self._fit(X, y, **fit_params_steps)\n",
      "  File \"/opt/conda/lib/python3.9/site-packages/sklearn/pipeline.py\", line 303, in _fit\n",
      "    X, fitted_transformer = fit_transform_one_cached(\n",
      "  File \"/opt/conda/lib/python3.9/site-packages/joblib/memory.py\", line 349, in __call__\n",
      "    return self.func(*args, **kwargs)\n",
      "  File \"/opt/conda/lib/python3.9/site-packages/sklearn/pipeline.py\", line 754, in _fit_transform_one\n",
      "    res = transformer.fit_transform(X, y, **fit_params)\n",
      "  File \"/opt/conda/lib/python3.9/site-packages/sklearn/base.py\", line 702, in fit_transform\n",
      "    return self.fit(X, y, **fit_params).transform(X)\n",
      "  File \"/opt/conda/lib/python3.9/site-packages/sklearn/preprocessing/_data.py\", line 730, in fit\n",
      "    return self.partial_fit(X, y, sample_weight)\n",
      "  File \"/opt/conda/lib/python3.9/site-packages/sklearn/preprocessing/_data.py\", line 793, in partial_fit\n",
      "    raise ValueError(\n",
      "ValueError: Cannot center sparse matrices: pass `with_mean=False` instead. See docstring for motivation and alternatives.\n",
      "\n",
      "  warnings.warn(\"Estimator fit failed. The score on this train-test\"\n",
      "/opt/conda/lib/python3.9/site-packages/sklearn/model_selection/_validation.py:610: FitFailedWarning: Estimator fit failed. The score on this train-test partition for these parameters will be set to nan. Details: \n",
      "Traceback (most recent call last):\n",
      "  File \"/opt/conda/lib/python3.9/site-packages/sklearn/model_selection/_validation.py\", line 593, in _fit_and_score\n",
      "    estimator.fit(X_train, y_train, **fit_params)\n",
      "  File \"/opt/conda/lib/python3.9/site-packages/sklearn/pipeline.py\", line 341, in fit\n",
      "    Xt = self._fit(X, y, **fit_params_steps)\n",
      "  File \"/opt/conda/lib/python3.9/site-packages/sklearn/pipeline.py\", line 303, in _fit\n",
      "    X, fitted_transformer = fit_transform_one_cached(\n",
      "  File \"/opt/conda/lib/python3.9/site-packages/joblib/memory.py\", line 349, in __call__\n",
      "    return self.func(*args, **kwargs)\n",
      "  File \"/opt/conda/lib/python3.9/site-packages/sklearn/pipeline.py\", line 754, in _fit_transform_one\n",
      "    res = transformer.fit_transform(X, y, **fit_params)\n",
      "  File \"/opt/conda/lib/python3.9/site-packages/sklearn/base.py\", line 702, in fit_transform\n",
      "    return self.fit(X, y, **fit_params).transform(X)\n",
      "  File \"/opt/conda/lib/python3.9/site-packages/sklearn/preprocessing/_data.py\", line 730, in fit\n",
      "    return self.partial_fit(X, y, sample_weight)\n",
      "  File \"/opt/conda/lib/python3.9/site-packages/sklearn/preprocessing/_data.py\", line 793, in partial_fit\n",
      "    raise ValueError(\n",
      "ValueError: Cannot center sparse matrices: pass `with_mean=False` instead. See docstring for motivation and alternatives.\n",
      "\n",
      "  warnings.warn(\"Estimator fit failed. The score on this train-test\"\n",
      "/opt/conda/lib/python3.9/site-packages/sklearn/model_selection/_validation.py:610: FitFailedWarning: Estimator fit failed. The score on this train-test partition for these parameters will be set to nan. Details: \n",
      "Traceback (most recent call last):\n",
      "  File \"/opt/conda/lib/python3.9/site-packages/sklearn/model_selection/_validation.py\", line 593, in _fit_and_score\n",
      "    estimator.fit(X_train, y_train, **fit_params)\n",
      "  File \"/opt/conda/lib/python3.9/site-packages/sklearn/pipeline.py\", line 341, in fit\n",
      "    Xt = self._fit(X, y, **fit_params_steps)\n",
      "  File \"/opt/conda/lib/python3.9/site-packages/sklearn/pipeline.py\", line 303, in _fit\n",
      "    X, fitted_transformer = fit_transform_one_cached(\n",
      "  File \"/opt/conda/lib/python3.9/site-packages/joblib/memory.py\", line 349, in __call__\n",
      "    return self.func(*args, **kwargs)\n",
      "  File \"/opt/conda/lib/python3.9/site-packages/sklearn/pipeline.py\", line 754, in _fit_transform_one\n",
      "    res = transformer.fit_transform(X, y, **fit_params)\n",
      "  File \"/opt/conda/lib/python3.9/site-packages/sklearn/base.py\", line 702, in fit_transform\n",
      "    return self.fit(X, y, **fit_params).transform(X)\n",
      "  File \"/opt/conda/lib/python3.9/site-packages/sklearn/preprocessing/_data.py\", line 730, in fit\n",
      "    return self.partial_fit(X, y, sample_weight)\n",
      "  File \"/opt/conda/lib/python3.9/site-packages/sklearn/preprocessing/_data.py\", line 793, in partial_fit\n",
      "    raise ValueError(\n",
      "ValueError: Cannot center sparse matrices: pass `with_mean=False` instead. See docstring for motivation and alternatives.\n",
      "\n",
      "  warnings.warn(\"Estimator fit failed. The score on this train-test\"\n",
      "/opt/conda/lib/python3.9/site-packages/sklearn/model_selection/_validation.py:610: FitFailedWarning: Estimator fit failed. The score on this train-test partition for these parameters will be set to nan. Details: \n",
      "Traceback (most recent call last):\n",
      "  File \"/opt/conda/lib/python3.9/site-packages/sklearn/model_selection/_validation.py\", line 593, in _fit_and_score\n",
      "    estimator.fit(X_train, y_train, **fit_params)\n",
      "  File \"/opt/conda/lib/python3.9/site-packages/sklearn/pipeline.py\", line 341, in fit\n",
      "    Xt = self._fit(X, y, **fit_params_steps)\n",
      "  File \"/opt/conda/lib/python3.9/site-packages/sklearn/pipeline.py\", line 303, in _fit\n",
      "    X, fitted_transformer = fit_transform_one_cached(\n",
      "  File \"/opt/conda/lib/python3.9/site-packages/joblib/memory.py\", line 349, in __call__\n",
      "    return self.func(*args, **kwargs)\n",
      "  File \"/opt/conda/lib/python3.9/site-packages/sklearn/pipeline.py\", line 754, in _fit_transform_one\n",
      "    res = transformer.fit_transform(X, y, **fit_params)\n",
      "  File \"/opt/conda/lib/python3.9/site-packages/sklearn/base.py\", line 702, in fit_transform\n",
      "    return self.fit(X, y, **fit_params).transform(X)\n",
      "  File \"/opt/conda/lib/python3.9/site-packages/sklearn/preprocessing/_data.py\", line 730, in fit\n",
      "    return self.partial_fit(X, y, sample_weight)\n",
      "  File \"/opt/conda/lib/python3.9/site-packages/sklearn/preprocessing/_data.py\", line 793, in partial_fit\n",
      "    raise ValueError(\n",
      "ValueError: Cannot center sparse matrices: pass `with_mean=False` instead. See docstring for motivation and alternatives.\n",
      "\n",
      "  warnings.warn(\"Estimator fit failed. The score on this train-test\"\n",
      "/opt/conda/lib/python3.9/site-packages/sklearn/model_selection/_validation.py:610: FitFailedWarning: Estimator fit failed. The score on this train-test partition for these parameters will be set to nan. Details: \n",
      "Traceback (most recent call last):\n",
      "  File \"/opt/conda/lib/python3.9/site-packages/sklearn/model_selection/_validation.py\", line 593, in _fit_and_score\n",
      "    estimator.fit(X_train, y_train, **fit_params)\n",
      "  File \"/opt/conda/lib/python3.9/site-packages/sklearn/pipeline.py\", line 341, in fit\n",
      "    Xt = self._fit(X, y, **fit_params_steps)\n",
      "  File \"/opt/conda/lib/python3.9/site-packages/sklearn/pipeline.py\", line 303, in _fit\n",
      "    X, fitted_transformer = fit_transform_one_cached(\n",
      "  File \"/opt/conda/lib/python3.9/site-packages/joblib/memory.py\", line 349, in __call__\n",
      "    return self.func(*args, **kwargs)\n",
      "  File \"/opt/conda/lib/python3.9/site-packages/sklearn/pipeline.py\", line 754, in _fit_transform_one\n",
      "    res = transformer.fit_transform(X, y, **fit_params)\n",
      "  File \"/opt/conda/lib/python3.9/site-packages/sklearn/base.py\", line 702, in fit_transform\n",
      "    return self.fit(X, y, **fit_params).transform(X)\n",
      "  File \"/opt/conda/lib/python3.9/site-packages/sklearn/preprocessing/_data.py\", line 730, in fit\n",
      "    return self.partial_fit(X, y, sample_weight)\n",
      "  File \"/opt/conda/lib/python3.9/site-packages/sklearn/preprocessing/_data.py\", line 793, in partial_fit\n",
      "    raise ValueError(\n",
      "ValueError: Cannot center sparse matrices: pass `with_mean=False` instead. See docstring for motivation and alternatives.\n",
      "\n",
      "  warnings.warn(\"Estimator fit failed. The score on this train-test\"\n"
     ]
    }
   ],
   "source": [
    "%%time\n",
    "\n",
    "model_lr = LinearRegression()\n",
    "scaller = StandardScaler()\n",
    "pipeline = Pipeline([(\"standard_scaller\", scaller),(\"linear_regression\", model_lr)])\n",
    "RMSE_LR_1 = (cross_val_score(pipeline, OHE_train, Y_train , cv=5, scoring='neg_mean_squared_error').mean() * -1)** 0.5\n",
    "print(f'Best score: {RMSE_LR_1}')"
   ]
  },
  {
   "cell_type": "code",
   "execution_count": 57,
   "metadata": {},
   "outputs": [
    {
     "name": "stdout",
     "output_type": "stream",
     "text": [
      "RMSE LinearRegression = nan\n",
      "CPU times: user 60.5 ms, sys: 39 µs, total: 60.5 ms\n",
      "Wall time: 58.7 ms\n"
     ]
    },
    {
     "name": "stderr",
     "output_type": "stream",
     "text": [
      "/opt/conda/lib/python3.9/site-packages/sklearn/model_selection/_validation.py:610: FitFailedWarning: Estimator fit failed. The score on this train-test partition for these parameters will be set to nan. Details: \n",
      "Traceback (most recent call last):\n",
      "  File \"/opt/conda/lib/python3.9/site-packages/sklearn/model_selection/_validation.py\", line 593, in _fit_and_score\n",
      "    estimator.fit(X_train, y_train, **fit_params)\n",
      "  File \"/opt/conda/lib/python3.9/site-packages/sklearn/pipeline.py\", line 341, in fit\n",
      "    Xt = self._fit(X, y, **fit_params_steps)\n",
      "  File \"/opt/conda/lib/python3.9/site-packages/sklearn/pipeline.py\", line 303, in _fit\n",
      "    X, fitted_transformer = fit_transform_one_cached(\n",
      "  File \"/opt/conda/lib/python3.9/site-packages/joblib/memory.py\", line 349, in __call__\n",
      "    return self.func(*args, **kwargs)\n",
      "  File \"/opt/conda/lib/python3.9/site-packages/sklearn/pipeline.py\", line 754, in _fit_transform_one\n",
      "    res = transformer.fit_transform(X, y, **fit_params)\n",
      "  File \"/opt/conda/lib/python3.9/site-packages/sklearn/base.py\", line 702, in fit_transform\n",
      "    return self.fit(X, y, **fit_params).transform(X)\n",
      "  File \"/opt/conda/lib/python3.9/site-packages/sklearn/preprocessing/_data.py\", line 1358, in fit\n",
      "    raise ValueError(\n",
      "ValueError: Cannot center sparse matrices: use `with_centering=False` instead. See docstring for motivation and alternatives.\n",
      "\n",
      "  warnings.warn(\"Estimator fit failed. The score on this train-test\"\n",
      "/opt/conda/lib/python3.9/site-packages/sklearn/model_selection/_validation.py:610: FitFailedWarning: Estimator fit failed. The score on this train-test partition for these parameters will be set to nan. Details: \n",
      "Traceback (most recent call last):\n",
      "  File \"/opt/conda/lib/python3.9/site-packages/sklearn/model_selection/_validation.py\", line 593, in _fit_and_score\n",
      "    estimator.fit(X_train, y_train, **fit_params)\n",
      "  File \"/opt/conda/lib/python3.9/site-packages/sklearn/pipeline.py\", line 341, in fit\n",
      "    Xt = self._fit(X, y, **fit_params_steps)\n",
      "  File \"/opt/conda/lib/python3.9/site-packages/sklearn/pipeline.py\", line 303, in _fit\n",
      "    X, fitted_transformer = fit_transform_one_cached(\n",
      "  File \"/opt/conda/lib/python3.9/site-packages/joblib/memory.py\", line 349, in __call__\n",
      "    return self.func(*args, **kwargs)\n",
      "  File \"/opt/conda/lib/python3.9/site-packages/sklearn/pipeline.py\", line 754, in _fit_transform_one\n",
      "    res = transformer.fit_transform(X, y, **fit_params)\n",
      "  File \"/opt/conda/lib/python3.9/site-packages/sklearn/base.py\", line 702, in fit_transform\n",
      "    return self.fit(X, y, **fit_params).transform(X)\n",
      "  File \"/opt/conda/lib/python3.9/site-packages/sklearn/preprocessing/_data.py\", line 1358, in fit\n",
      "    raise ValueError(\n",
      "ValueError: Cannot center sparse matrices: use `with_centering=False` instead. See docstring for motivation and alternatives.\n",
      "\n",
      "  warnings.warn(\"Estimator fit failed. The score on this train-test\"\n",
      "/opt/conda/lib/python3.9/site-packages/sklearn/model_selection/_validation.py:610: FitFailedWarning: Estimator fit failed. The score on this train-test partition for these parameters will be set to nan. Details: \n",
      "Traceback (most recent call last):\n",
      "  File \"/opt/conda/lib/python3.9/site-packages/sklearn/model_selection/_validation.py\", line 593, in _fit_and_score\n",
      "    estimator.fit(X_train, y_train, **fit_params)\n",
      "  File \"/opt/conda/lib/python3.9/site-packages/sklearn/pipeline.py\", line 341, in fit\n",
      "    Xt = self._fit(X, y, **fit_params_steps)\n",
      "  File \"/opt/conda/lib/python3.9/site-packages/sklearn/pipeline.py\", line 303, in _fit\n",
      "    X, fitted_transformer = fit_transform_one_cached(\n",
      "  File \"/opt/conda/lib/python3.9/site-packages/joblib/memory.py\", line 349, in __call__\n",
      "    return self.func(*args, **kwargs)\n",
      "  File \"/opt/conda/lib/python3.9/site-packages/sklearn/pipeline.py\", line 754, in _fit_transform_one\n",
      "    res = transformer.fit_transform(X, y, **fit_params)\n",
      "  File \"/opt/conda/lib/python3.9/site-packages/sklearn/base.py\", line 702, in fit_transform\n",
      "    return self.fit(X, y, **fit_params).transform(X)\n",
      "  File \"/opt/conda/lib/python3.9/site-packages/sklearn/preprocessing/_data.py\", line 1358, in fit\n",
      "    raise ValueError(\n",
      "ValueError: Cannot center sparse matrices: use `with_centering=False` instead. See docstring for motivation and alternatives.\n",
      "\n",
      "  warnings.warn(\"Estimator fit failed. The score on this train-test\"\n",
      "/opt/conda/lib/python3.9/site-packages/sklearn/model_selection/_validation.py:610: FitFailedWarning: Estimator fit failed. The score on this train-test partition for these parameters will be set to nan. Details: \n",
      "Traceback (most recent call last):\n",
      "  File \"/opt/conda/lib/python3.9/site-packages/sklearn/model_selection/_validation.py\", line 593, in _fit_and_score\n",
      "    estimator.fit(X_train, y_train, **fit_params)\n",
      "  File \"/opt/conda/lib/python3.9/site-packages/sklearn/pipeline.py\", line 341, in fit\n",
      "    Xt = self._fit(X, y, **fit_params_steps)\n",
      "  File \"/opt/conda/lib/python3.9/site-packages/sklearn/pipeline.py\", line 303, in _fit\n",
      "    X, fitted_transformer = fit_transform_one_cached(\n",
      "  File \"/opt/conda/lib/python3.9/site-packages/joblib/memory.py\", line 349, in __call__\n",
      "    return self.func(*args, **kwargs)\n",
      "  File \"/opt/conda/lib/python3.9/site-packages/sklearn/pipeline.py\", line 754, in _fit_transform_one\n",
      "    res = transformer.fit_transform(X, y, **fit_params)\n",
      "  File \"/opt/conda/lib/python3.9/site-packages/sklearn/base.py\", line 702, in fit_transform\n",
      "    return self.fit(X, y, **fit_params).transform(X)\n",
      "  File \"/opt/conda/lib/python3.9/site-packages/sklearn/preprocessing/_data.py\", line 1358, in fit\n",
      "    raise ValueError(\n",
      "ValueError: Cannot center sparse matrices: use `with_centering=False` instead. See docstring for motivation and alternatives.\n",
      "\n",
      "  warnings.warn(\"Estimator fit failed. The score on this train-test\"\n",
      "/opt/conda/lib/python3.9/site-packages/sklearn/model_selection/_validation.py:610: FitFailedWarning: Estimator fit failed. The score on this train-test partition for these parameters will be set to nan. Details: \n",
      "Traceback (most recent call last):\n",
      "  File \"/opt/conda/lib/python3.9/site-packages/sklearn/model_selection/_validation.py\", line 593, in _fit_and_score\n",
      "    estimator.fit(X_train, y_train, **fit_params)\n",
      "  File \"/opt/conda/lib/python3.9/site-packages/sklearn/pipeline.py\", line 341, in fit\n",
      "    Xt = self._fit(X, y, **fit_params_steps)\n",
      "  File \"/opt/conda/lib/python3.9/site-packages/sklearn/pipeline.py\", line 303, in _fit\n",
      "    X, fitted_transformer = fit_transform_one_cached(\n",
      "  File \"/opt/conda/lib/python3.9/site-packages/joblib/memory.py\", line 349, in __call__\n",
      "    return self.func(*args, **kwargs)\n",
      "  File \"/opt/conda/lib/python3.9/site-packages/sklearn/pipeline.py\", line 754, in _fit_transform_one\n",
      "    res = transformer.fit_transform(X, y, **fit_params)\n",
      "  File \"/opt/conda/lib/python3.9/site-packages/sklearn/base.py\", line 702, in fit_transform\n",
      "    return self.fit(X, y, **fit_params).transform(X)\n",
      "  File \"/opt/conda/lib/python3.9/site-packages/sklearn/preprocessing/_data.py\", line 1358, in fit\n",
      "    raise ValueError(\n",
      "ValueError: Cannot center sparse matrices: use `with_centering=False` instead. See docstring for motivation and alternatives.\n",
      "\n",
      "  warnings.warn(\"Estimator fit failed. The score on this train-test\"\n"
     ]
    }
   ],
   "source": [
    "%%time\n",
    "\n",
    "# Попробуем с масштабируемыми признаками\n",
    "model_lr2 = LinearRegression()\n",
    "scale = RobustScaler()\n",
    "pipeline = Pipeline([(\"robust_scaller\", scale),(\"linear_regression\", model_lr2)])\n",
    "\n",
    "\n",
    "RMSE_LR_2 = (cross_val_score(pipeline,\n",
    "                                OHE_train, \n",
    "                                Y_train, \n",
    "                                cv=5, \n",
    "                                scoring='neg_mean_squared_error').mean() * -1) ** 0.5\n",
    "print('RMSE LinearRegression =', RMSE_LR_2)"
   ]
  },
  {
   "cell_type": "markdown",
   "metadata": {},
   "source": [
    " <b>Вывод</b>\n",
    " \n",
    " применение масштабирования через пайплайн ухудшает модель в случае линейной регрессии"
   ]
  },
  {
   "cell_type": "markdown",
   "metadata": {},
   "source": [
    "### CatBoostRegressor"
   ]
  },
  {
   "cell_type": "code",
   "execution_count": 58,
   "metadata": {},
   "outputs": [
    {
     "name": "stdout",
     "output_type": "stream",
     "text": [
      "{'learning_rate': 0.1, 'random_state': 1515, 'verbose': False}\n",
      "{'learning_rate': 0.5, 'random_state': 1515, 'verbose': False}\n",
      "{'learning_rate': 0.8, 'random_state': 1515, 'verbose': False}\n",
      "2456.2784439996494\n",
      "CPU times: user 3min 33s, sys: 2.17 s, total: 3min 36s\n",
      "Wall time: 3min 53s\n"
     ]
    }
   ],
   "source": [
    "%%time\n",
    "\n",
    "model_CAT = CatBoostRegressor() \n",
    "hyperparams = [{'learning_rate':[0.1, 0.5, 0.8],'random_state':[RANDOM_STATE], 'verbose':[False]}]\n",
    "\n",
    "clf = GridSearchCV(model_CAT, hyperparams, scoring='neg_mean_squared_error')\n",
    "\n",
    "clf.fit(OE_train, Y_train)\n",
    "\n",
    "means = clf.cv_results_['mean_test_score']\n",
    "stds = clf.cv_results_['std_test_score']\n",
    "for mean, std, params in zip(means, stds, clf.cv_results_['params']):\n",
    "    print( params)\n",
    "\n",
    "RMSE_CAT1 = (clf.best_score_* -1)** 0.5\n",
    "print(RMSE_CAT1)"
   ]
  },
  {
   "cell_type": "code",
   "execution_count": 59,
   "metadata": {},
   "outputs": [
    {
     "name": "stdout",
     "output_type": "stream",
     "text": [
      "Mean RMSE 1280.4727026027178\n",
      "CPU times: user 17.7 s, sys: 189 ms, total: 17.9 s\n",
      "Wall time: 21.1 s\n"
     ]
    }
   ],
   "source": [
    "%%time\n",
    "model_CAT1 = CatBoostRegressor(learning_rate=0.5,\n",
    "                              iterations = 100,\n",
    "                              random_state=1515, \n",
    "                              verbose=False, \n",
    "                              cat_features=ohe_columns) \n",
    " \n",
    "RMSE_CAT2  = (cross_val_score(model_CAT1,\n",
    "                                X_train, \n",
    "                                Y_train, \n",
    "                                cv=5, \n",
    "                                scoring='neg_mean_squared_error').mean() * -1) ** 0.5\n",
    "print('Mean RMSE', RMSE_CAT2)"
   ]
  },
  {
   "cell_type": "markdown",
   "metadata": {},
   "source": [
    "### LGBM"
   ]
  },
  {
   "cell_type": "markdown",
   "metadata": {},
   "source": [
    " "
   ]
  },
  {
   "cell_type": "code",
   "execution_count": 60,
   "metadata": {},
   "outputs": [
    {
     "name": "stdout",
     "output_type": "stream",
     "text": [
      "Mean RMSE 2456.6254673985663\n",
      "CPU times: user 56.9 s, sys: 0 ns, total: 56.9 s\n",
      "Wall time: 57.5 s\n"
     ]
    }
   ],
   "source": [
    "%%time\n",
    "model_LGBM = LGBMRegressor() \n",
    "hyperparams = [{'num_leaves':[11, 50, 100], \n",
    "                'learning_rate':[0.3],\n",
    "                'random_state':[1515]}]\n",
    "\n",
    "\n",
    "clf = GridSearchCV(model_LGBM, hyperparams, scoring='neg_mean_squared_error')\n",
    "clf.fit(OE_train, Y_train)\n",
    "RMSE_LGBM = (clf.best_score_* -1)** 0.5\n",
    "print('Mean RMSE', RMSE_LGBM)"
   ]
  },
  {
   "cell_type": "markdown",
   "metadata": {},
   "source": [
    "### Лучшие модели и предсказания на них"
   ]
  },
  {
   "cell_type": "markdown",
   "metadata": {},
   "source": [
    "#### linear"
   ]
  },
  {
   "cell_type": "code",
   "execution_count": 61,
   "metadata": {},
   "outputs": [
    {
     "name": "stdout",
     "output_type": "stream",
     "text": [
      "CPU times: user 8.46 s, sys: 8.67 s, total: 17.1 s\n",
      "Wall time: 17.2 s\n"
     ]
    },
    {
     "data": {
      "text/plain": [
       "LinearRegression()"
      ]
     },
     "execution_count": 61,
     "metadata": {},
     "output_type": "execute_result"
    }
   ],
   "source": [
    "%%time\n",
    " \n",
    "model_lr1.fit(OHE_train, Y_train)\n"
   ]
  },
  {
   "cell_type": "markdown",
   "metadata": {},
   "source": [
    "#### CatBoostRegressor1"
   ]
  },
  {
   "cell_type": "code",
   "execution_count": 63,
   "metadata": {},
   "outputs": [
    {
     "name": "stdout",
     "output_type": "stream",
     "text": [
      "CPU times: user 16.6 s, sys: 139 ms, total: 16.8 s\n",
      "Wall time: 17.8 s\n"
     ]
    },
    {
     "data": {
      "text/plain": [
       "<catboost.core.CatBoostRegressor at 0x7fba1ad6d040>"
      ]
     },
     "execution_count": 63,
     "metadata": {},
     "output_type": "execute_result"
    }
   ],
   "source": [
    "%%time\n",
    "model_CAT = CatBoostRegressor(learning_rate=0.5, \n",
    "                          random_state=1515, \n",
    "                          verbose=False) \n",
    "model_CAT.fit(OE_train, Y_train)\n"
   ]
  },
  {
   "cell_type": "markdown",
   "metadata": {},
   "source": [
    "#### CatBoostRegressor2"
   ]
  },
  {
   "cell_type": "code",
   "execution_count": 65,
   "metadata": {},
   "outputs": [
    {
     "name": "stdout",
     "output_type": "stream",
     "text": [
      "CPU times: user 4.39 s, sys: 56.1 ms, total: 4.45 s\n",
      "Wall time: 5.05 s\n"
     ]
    },
    {
     "data": {
      "text/plain": [
       "<catboost.core.CatBoostRegressor at 0x7fba1ad6d3a0>"
      ]
     },
     "execution_count": 65,
     "metadata": {},
     "output_type": "execute_result"
    }
   ],
   "source": [
    "%%time\n",
    "\n",
    "model_CAT1.fit(X_train, Y_train)"
   ]
  },
  {
   "cell_type": "markdown",
   "metadata": {},
   "source": [
    "\n"
   ]
  },
  {
   "cell_type": "markdown",
   "metadata": {},
   "source": [
    "#### LGBMRegressor"
   ]
  },
  {
   "cell_type": "code",
   "execution_count": 67,
   "metadata": {},
   "outputs": [
    {
     "name": "stdout",
     "output_type": "stream",
     "text": [
      "CPU times: user 7.2 s, sys: 0 ns, total: 7.2 s\n",
      "Wall time: 7.15 s\n"
     ]
    },
    {
     "data": {
      "text/plain": [
       "LGBMRegressor(learning_rate=0.3, num_leaves=100, random_state=1515)"
      ]
     },
     "execution_count": 67,
     "metadata": {},
     "output_type": "execute_result"
    }
   ],
   "source": [
    "%%time\n",
    "\n",
    "model = LGBMRegressor(learning_rate=0.3, \n",
    "                      num_leaves=100, \n",
    "                      random_state=1515)\n",
    "model.fit(OHE_train, Y_train)\n"
   ]
  },
  {
   "cell_type": "markdown",
   "metadata": {},
   "source": [
    "## Анализ моделей"
   ]
  },
  {
   "cell_type": "code",
   "execution_count": 73,
   "metadata": {},
   "outputs": [
    {
     "name": "stdout",
     "output_type": "stream",
     "text": [
      "CPU times: user 3.34 ms, sys: 0 ns, total: 3.34 ms\n",
      "Wall time: 2.11 ms\n"
     ]
    }
   ],
   "source": [
    "%%time\n",
    "predict_linear = model_lr1.predict(OHE_train)\n",
    " "
   ]
  },
  {
   "cell_type": "code",
   "execution_count": 64,
   "metadata": {},
   "outputs": [
    {
     "name": "stdout",
     "output_type": "stream",
     "text": [
      "[1707.33715863 1707.33715863 1707.33715863 ... 3964.90886574 1707.33715863\n",
      " 1707.33715863]\n",
      "CPU times: user 216 ms, sys: 725 µs, total: 216 ms\n",
      "Wall time: 214 ms\n"
     ]
    }
   ],
   "source": [
    "%%time\n",
    "CAT_predict_1 = model_CAT.predict(OHE_train)\n",
    "print(CAT_predict_1)\n",
    "\n"
   ]
  },
  {
   "cell_type": "code",
   "execution_count": 76,
   "metadata": {},
   "outputs": [
    {
     "name": "stdout",
     "output_type": "stream",
     "text": [
      "[1707.33715863 1707.33715863 1707.33715863 ... 3964.90886574 1707.33715863\n",
      " 1707.33715863]\n",
      "CPU times: user 141 ms, sys: 3.35 ms, total: 145 ms\n",
      "Wall time: 142 ms\n"
     ]
    }
   ],
   "source": [
    "%%time\n",
    "CAT_predict_2 = model_CAT1.predict(X_train)\n",
    "print(CAT_predict_1)"
   ]
  },
  {
   "cell_type": "code",
   "execution_count": 68,
   "metadata": {},
   "outputs": [
    {
     "name": "stdout",
     "output_type": "stream",
     "text": [
      "CPU times: user 2.42 s, sys: 0 ns, total: 2.42 s\n",
      "Wall time: 2.42 s\n"
     ]
    }
   ],
   "source": [
    "%%time\n",
    "LGBM_predict = model.predict(OHE_train)\n"
   ]
  },
  {
   "cell_type": "code",
   "execution_count": 78,
   "metadata": {},
   "outputs": [
    {
     "data": {
      "text/html": [
       "<div>\n",
       "<style scoped>\n",
       "    .dataframe tbody tr th:only-of-type {\n",
       "        vertical-align: middle;\n",
       "    }\n",
       "\n",
       "    .dataframe tbody tr th {\n",
       "        vertical-align: top;\n",
       "    }\n",
       "\n",
       "    .dataframe thead th {\n",
       "        text-align: right;\n",
       "    }\n",
       "</style>\n",
       "<table border=\"1\" class=\"dataframe\">\n",
       "  <thead>\n",
       "    <tr style=\"text-align: right;\">\n",
       "      <th></th>\n",
       "      <th>RMSE, евро</th>\n",
       "      <th>Время обучения, сек</th>\n",
       "      <th>Время обучения модели, сек</th>\n",
       "      <th>Время предсказания модели, сек</th>\n",
       "      <th>Рейтинг RMSE</th>\n",
       "      <th>Рейтинг времени обучения</th>\n",
       "      <th>Рейтинг времени предсказания</th>\n",
       "      <th>Итоговый рейтинг</th>\n",
       "    </tr>\n",
       "  </thead>\n",
       "  <tbody>\n",
       "    <tr>\n",
       "      <th>LinearRegression</th>\n",
       "      <td>2518.663920</td>\n",
       "      <td>67.0</td>\n",
       "      <td>16.60</td>\n",
       "      <td>0.0034</td>\n",
       "      <td>0.508394</td>\n",
       "      <td>0.262048</td>\n",
       "      <td>1.000000</td>\n",
       "      <td>1.770442</td>\n",
       "    </tr>\n",
       "    <tr>\n",
       "      <th>CatBoostRegressor с кодированием</th>\n",
       "      <td>2456.278444</td>\n",
       "      <td>210.0</td>\n",
       "      <td>16.30</td>\n",
       "      <td>0.2160</td>\n",
       "      <td>0.521306</td>\n",
       "      <td>0.266871</td>\n",
       "      <td>0.015741</td>\n",
       "      <td>0.803918</td>\n",
       "    </tr>\n",
       "    <tr>\n",
       "      <th>CatBoostRegressor на оригинальных данных</th>\n",
       "      <td>1280.472703</td>\n",
       "      <td>20.9</td>\n",
       "      <td>4.35</td>\n",
       "      <td>0.1450</td>\n",
       "      <td>1.000000</td>\n",
       "      <td>1.000000</td>\n",
       "      <td>0.023448</td>\n",
       "      <td>2.023448</td>\n",
       "    </tr>\n",
       "    <tr>\n",
       "      <th>LGBMRegressor</th>\n",
       "      <td>2456.625467</td>\n",
       "      <td>98.0</td>\n",
       "      <td>5.76</td>\n",
       "      <td>2.4200</td>\n",
       "      <td>0.521232</td>\n",
       "      <td>0.755208</td>\n",
       "      <td>0.001405</td>\n",
       "      <td>1.277846</td>\n",
       "    </tr>\n",
       "  </tbody>\n",
       "</table>\n",
       "</div>"
      ],
      "text/plain": [
       "                                           RMSE, евро  Время обучения, сек  \\\n",
       "LinearRegression                          2518.663920                 67.0   \n",
       "CatBoostRegressor с кодированием          2456.278444                210.0   \n",
       "CatBoostRegressor на оригинальных данных  1280.472703                 20.9   \n",
       "LGBMRegressor                             2456.625467                 98.0   \n",
       "\n",
       "                                          Время обучения модели, сек  \\\n",
       "LinearRegression                                               16.60   \n",
       "CatBoostRegressor с кодированием                               16.30   \n",
       "CatBoostRegressor на оригинальных данных                        4.35   \n",
       "LGBMRegressor                                                   5.76   \n",
       "\n",
       "                                          Время предсказания модели, сек  \\\n",
       "LinearRegression                                                  0.0034   \n",
       "CatBoostRegressor с кодированием                                  0.2160   \n",
       "CatBoostRegressor на оригинальных данных                          0.1450   \n",
       "LGBMRegressor                                                     2.4200   \n",
       "\n",
       "                                          Рейтинг RMSE  \\\n",
       "LinearRegression                              0.508394   \n",
       "CatBoostRegressor с кодированием              0.521306   \n",
       "CatBoostRegressor на оригинальных данных      1.000000   \n",
       "LGBMRegressor                                 0.521232   \n",
       "\n",
       "                                          Рейтинг времени обучения  \\\n",
       "LinearRegression                                          0.262048   \n",
       "CatBoostRegressor с кодированием                          0.266871   \n",
       "CatBoostRegressor на оригинальных данных                  1.000000   \n",
       "LGBMRegressor                                             0.755208   \n",
       "\n",
       "                                          Рейтинг времени предсказания  \\\n",
       "LinearRegression                                              1.000000   \n",
       "CatBoostRegressor с кодированием                              0.015741   \n",
       "CatBoostRegressor на оригинальных данных                      0.023448   \n",
       "LGBMRegressor                                                 0.001405   \n",
       "\n",
       "                                          Итоговый рейтинг  \n",
       "LinearRegression                                  1.770442  \n",
       "CatBoostRegressor с кодированием                  0.803918  \n",
       "CatBoostRegressor на оригинальных данных          2.023448  \n",
       "LGBMRegressor                                     1.277846  "
      ]
     },
     "metadata": {},
     "output_type": "display_data"
    }
   ],
   "source": [
    "#Форму для таблицы честно взял из стороннего источника, потому что искал как удобнее и нагляднее все оформить\n",
    "\n",
    "IND = ['LinearRegression',\n",
    "         'CatBoostRegressor с кодированием',\n",
    "         'CatBoostRegressor на оригинальных данных',\n",
    "         'LGBMRegressor']\n",
    "INFO = {'RMSE, евро':[RMSE_lr1,\n",
    "                            RMSE_CAT1,\n",
    "                            RMSE_CAT2,\n",
    "                            RMSE_LGBM],\n",
    "        'Время обучения, сек':[67,\n",
    "                                     210,\n",
    "                                     20.9,\n",
    "                                     98],\n",
    "        #'RMSE модели на тестовой выборке, евро':[final_RMSE_LR,\n",
    "        #                                        final_RMSE_CAT1,\n",
    "        #                                        final_RMSE_CAT2,\n",
    "        #                                        final_RMSE_LGBM],\n",
    "        'Время обучения модели, сек':[16.6,\n",
    "                                      16.3,\n",
    "                                      4.35,\n",
    "                                      5.76],\n",
    "        'Время предсказания модели, сек':[0.0034,\n",
    "                                          0.216,\n",
    "                                         0.145,\n",
    "                                         2.42]\n",
    "       }\n",
    "\n",
    "data = pd.DataFrame(data=INFO, index=IND)\n",
    "data['Рейтинг RMSE'] = (data['RMSE, евро'].min() /\n",
    "                  data['RMSE, евро'])\n",
    "data['Рейтинг времени обучения'] = (data['Время обучения модели, сек'].min() / \n",
    "                              data['Время обучения модели, сек'])\n",
    "data['Рейтинг времени предсказания'] = (data['Время предсказания модели, сек'].min() / data['Время предсказания модели, сек'])\n",
    "data['Итоговый рейтинг'] = (data['Рейтинг RMSE'] +\n",
    "                                   data['Рейтинг времени обучения'] +\n",
    "                                   data['Рейтинг времени предсказания'])\n",
    "display(data)"
   ]
  },
  {
   "cell_type": "markdown",
   "metadata": {},
   "source": [
    "<b>Выводы</b>   \n",
    " Модель <b>CatBoostRegressor с кодированием</b>- обладает наибольшей продолжительностью вычислений, но требует много времени на работу  \n",
    " Модель<b>CatBoostRegressor на оригинальных данных</b> - Наиболее быстродейственная модель  \n",
    " Модель<b>LGBMRegressor</b> - Обеспечивает вторую по скорости работу, при меньшей чем у первого указанного варианта точности, однако за счет большего быстродействия выигрывает иная модель.\n",
    "  Модели<b>LinearRegression</b> не применима, так как не попадает в указанные в задании рамки RMSE<2500 \n",
    " \n",
    " Модель  <b>CatBoostRegressor на оригинальных данных</b> - наиболеее эффективная по итоговому рейтингу модель, обеспечивающая максимальную точность и быстродействие"
   ]
  },
  {
   "cell_type": "code",
   "execution_count": 70,
   "metadata": {},
   "outputs": [
    {
     "name": "stdout",
     "output_type": "stream",
     "text": [
      "CPU times: user 4.39 s, sys: 0 ns, total: 4.39 s\n",
      "Wall time: 5.05 s\n"
     ]
    },
    {
     "data": {
      "text/plain": [
       "<catboost.core.CatBoostRegressor at 0x7fba1ad6d3a0>"
      ]
     },
     "execution_count": 70,
     "metadata": {},
     "output_type": "execute_result"
    }
   ],
   "source": [
    "%%time\n",
    "\n",
    "model_CAT1.fit(X_train, Y_train)"
   ]
  },
  {
   "cell_type": "code",
   "execution_count": 71,
   "metadata": {},
   "outputs": [
    {
     "name": "stdout",
     "output_type": "stream",
     "text": [
      "CPU times: user 50 ms, sys: 0 ns, total: 50 ms\n",
      "Wall time: 48 ms\n"
     ]
    }
   ],
   "source": [
    "%%time\n",
    "CAT_predict_2 = model_CAT1.predict(X_test)\n",
    "\n"
   ]
  },
  {
   "cell_type": "code",
   "execution_count": 72,
   "metadata": {},
   "outputs": [
    {
     "name": "stdout",
     "output_type": "stream",
     "text": [
      "Показатель RMSE лучшей модели 1269.6037236336692\n"
     ]
    }
   ],
   "source": [
    "final_RMSE_CAT2=mean_squared_error(Y_test, CAT_predict_2) ** 0.5\n",
    "print('Показатель RMSE лучшей модели', final_RMSE_CAT2)"
   ]
  },
  {
   "cell_type": "markdown",
   "metadata": {},
   "source": [
    "## Общий вывод  \n",
    "\n",
    "В проекте выполнены все заданные цели, ниже описан ход работы.  \n",
    " 1. Импортированы инструменты, библиотеки и данные для работы.\n",
    " 2. Проведена предварительная предобработка с выделением нужных признаков и удалением дубликатов в данных\n",
    " 3. Проведен исследовательский анализ выделенных признаков, включая целевой.\n",
    " 4. Устранены выбросы и аномалии в значениях, изменены типы данных в отдельных столбцах\n",
    " 5. Проведена финальная проверка данных\n",
    " 6. Произведена подготовка и кодировка данных для формирвоания выборок.\n",
    " 7. Обучено несколько моделей с перебором гиперпараметров в различиных вариациях.\n",
    " 8. Произведены расчеты продолжительности и эффективности запрошенных операций на моделях.\n",
    " 9. Данные собраны в единую сводную таблицу.\n",
    " 10. Сделан вывод о наиболее эффективных моделях.\n",
    " \n",
    " <b>CatBoostRegressor на оригинальных данных</b> - наиболеее эффективная по итоговому рейтингу модель, обеспечивающая максимальную точность и быстродействие"
   ]
  },
  {
   "cell_type": "markdown",
   "metadata": {},
   "source": [
    "## Чек-лист проверки"
   ]
  },
  {
   "cell_type": "markdown",
   "metadata": {},
   "source": [
    "Поставьте 'x' в выполненных пунктах. Далее нажмите Shift+Enter."
   ]
  },
  {
   "cell_type": "markdown",
   "metadata": {},
   "source": [
    "- [x]  Jupyter Notebook открыт\n",
    "- [x]  Весь код выполняется без ошибок\n",
    "- [x]  Ячейки с кодом расположены в порядке исполнения\n",
    "- [x]  Выполнена загрузка и подготовка данных\n",
    "- [x]  Выполнено обучение моделей\n",
    "- [x]  Есть анализ скорости работы и качества моделей"
   ]
  }
 ],
 "metadata": {
  "ExecuteTimeLog": [
   {
    "duration": 1277,
    "start_time": "2023-12-18T19:48:58.851Z"
   },
   {
    "duration": 1050,
    "start_time": "2023-12-18T19:49:00.130Z"
   },
   {
    "duration": 9,
    "start_time": "2023-12-18T19:49:01.181Z"
   },
   {
    "duration": 427,
    "start_time": "2023-12-18T19:49:01.191Z"
   },
   {
    "duration": 21,
    "start_time": "2023-12-18T19:49:21.808Z"
   },
   {
    "duration": 13,
    "start_time": "2023-12-18T19:49:42.265Z"
   },
   {
    "duration": 77,
    "start_time": "2023-12-18T19:49:42.431Z"
   },
   {
    "duration": 635,
    "start_time": "2023-12-18T19:49:53.225Z"
   },
   {
    "duration": 137,
    "start_time": "2023-12-18T19:50:59.313Z"
   },
   {
    "duration": 141,
    "start_time": "2023-12-18T19:51:13.903Z"
   },
   {
    "duration": 530,
    "start_time": "2023-12-18T19:51:57.355Z"
   },
   {
    "duration": 457,
    "start_time": "2023-12-18T19:52:17.481Z"
   },
   {
    "duration": 142,
    "start_time": "2023-12-18T19:52:38.917Z"
   },
   {
    "duration": 80,
    "start_time": "2023-12-18T19:53:15.914Z"
   },
   {
    "duration": 81,
    "start_time": "2023-12-18T19:53:31.199Z"
   },
   {
    "duration": 13,
    "start_time": "2023-12-18T20:07:09.784Z"
   },
   {
    "duration": 12,
    "start_time": "2023-12-18T20:07:14.948Z"
   },
   {
    "duration": 113,
    "start_time": "2023-12-18T20:07:32.335Z"
   },
   {
    "duration": 202,
    "start_time": "2023-12-18T20:07:33.398Z"
   },
   {
    "duration": 96,
    "start_time": "2023-12-18T20:07:34.467Z"
   },
   {
    "duration": 360,
    "start_time": "2023-12-18T20:08:03.913Z"
   },
   {
    "duration": 55,
    "start_time": "2023-12-19T09:06:57.678Z"
   },
   {
    "duration": 1252,
    "start_time": "2023-12-19T09:07:05.029Z"
   },
   {
    "duration": 2938,
    "start_time": "2023-12-19T09:07:06.283Z"
   },
   {
    "duration": 24,
    "start_time": "2023-12-19T09:07:09.222Z"
   },
   {
    "duration": 666,
    "start_time": "2023-12-19T09:07:09.248Z"
   },
   {
    "duration": 88,
    "start_time": "2023-12-19T09:07:09.916Z"
   },
   {
    "duration": 121,
    "start_time": "2023-12-19T09:07:10.014Z"
   },
   {
    "duration": 102,
    "start_time": "2023-12-19T09:07:10.136Z"
   },
   {
    "duration": 192,
    "start_time": "2023-12-19T09:07:10.239Z"
   },
   {
    "duration": 401,
    "start_time": "2023-12-19T09:07:10.432Z"
   },
   {
    "duration": 9,
    "start_time": "2023-12-19T09:07:10.834Z"
   },
   {
    "duration": 597,
    "start_time": "2023-12-19T09:09:38.860Z"
   },
   {
    "duration": 1381,
    "start_time": "2023-12-19T09:10:10.278Z"
   },
   {
    "duration": 866,
    "start_time": "2023-12-19T09:10:11.661Z"
   },
   {
    "duration": 19,
    "start_time": "2023-12-19T09:10:12.529Z"
   },
   {
    "duration": 634,
    "start_time": "2023-12-19T09:10:12.550Z"
   },
   {
    "duration": 95,
    "start_time": "2023-12-19T09:10:13.186Z"
   },
   {
    "duration": 132,
    "start_time": "2023-12-19T09:10:13.283Z"
   },
   {
    "duration": 85,
    "start_time": "2023-12-19T09:10:13.417Z"
   },
   {
    "duration": 197,
    "start_time": "2023-12-19T09:10:13.504Z"
   },
   {
    "duration": 390,
    "start_time": "2023-12-19T09:10:13.703Z"
   },
   {
    "duration": 9,
    "start_time": "2023-12-19T09:10:14.094Z"
   },
   {
    "duration": 188,
    "start_time": "2023-12-19T09:10:14.115Z"
   },
   {
    "duration": 421,
    "start_time": "2023-12-19T09:13:21.999Z"
   },
   {
    "duration": 13,
    "start_time": "2023-12-19T09:33:00.553Z"
   },
   {
    "duration": 211,
    "start_time": "2023-12-19T09:33:00.568Z"
   },
   {
    "duration": 562,
    "start_time": "2023-12-19T09:33:00.781Z"
   },
   {
    "duration": 1551,
    "start_time": "2023-12-19T15:22:13.252Z"
   },
   {
    "duration": 1096,
    "start_time": "2023-12-19T15:22:14.806Z"
   },
   {
    "duration": 19,
    "start_time": "2023-12-19T15:22:15.903Z"
   },
   {
    "duration": 632,
    "start_time": "2023-12-19T15:22:15.924Z"
   },
   {
    "duration": 96,
    "start_time": "2023-12-19T15:22:16.558Z"
   },
   {
    "duration": 125,
    "start_time": "2023-12-19T15:22:16.656Z"
   },
   {
    "duration": 99,
    "start_time": "2023-12-19T15:22:16.783Z"
   },
   {
    "duration": 188,
    "start_time": "2023-12-19T15:22:16.883Z"
   },
   {
    "duration": 387,
    "start_time": "2023-12-19T15:22:17.072Z"
   },
   {
    "duration": 9,
    "start_time": "2023-12-19T15:22:17.460Z"
   },
   {
    "duration": 203,
    "start_time": "2023-12-19T15:22:17.471Z"
   },
   {
    "duration": 446,
    "start_time": "2023-12-19T15:22:17.675Z"
   },
   {
    "duration": 408,
    "start_time": "2023-12-19T15:25:47.031Z"
   },
   {
    "duration": 500,
    "start_time": "2023-12-19T15:25:53.223Z"
   },
   {
    "duration": 441,
    "start_time": "2023-12-19T15:25:59.388Z"
   },
   {
    "duration": 1389,
    "start_time": "2023-12-19T15:27:33.091Z"
   },
   {
    "duration": 851,
    "start_time": "2023-12-19T15:27:34.481Z"
   },
   {
    "duration": 18,
    "start_time": "2023-12-19T15:27:35.334Z"
   },
   {
    "duration": 664,
    "start_time": "2023-12-19T15:27:35.354Z"
   },
   {
    "duration": 116,
    "start_time": "2023-12-19T15:27:36.021Z"
   },
   {
    "duration": 136,
    "start_time": "2023-12-19T15:27:36.139Z"
   },
   {
    "duration": 64,
    "start_time": "2023-12-19T15:27:36.277Z"
   },
   {
    "duration": 202,
    "start_time": "2023-12-19T15:27:36.342Z"
   },
   {
    "duration": 396,
    "start_time": "2023-12-19T15:27:36.545Z"
   },
   {
    "duration": 8,
    "start_time": "2023-12-19T15:27:36.943Z"
   },
   {
    "duration": 214,
    "start_time": "2023-12-19T15:27:36.953Z"
   },
   {
    "duration": 447,
    "start_time": "2023-12-19T15:27:37.168Z"
   },
   {
    "duration": 19,
    "start_time": "2023-12-19T15:27:37.616Z"
   },
   {
    "duration": 18,
    "start_time": "2023-12-19T15:27:37.637Z"
   },
   {
    "duration": 38,
    "start_time": "2023-12-19T15:30:21.136Z"
   },
   {
    "duration": 252,
    "start_time": "2023-12-19T15:30:21.756Z"
   },
   {
    "duration": 1369,
    "start_time": "2023-12-19T15:32:44.514Z"
   },
   {
    "duration": 825,
    "start_time": "2023-12-19T15:32:45.885Z"
   },
   {
    "duration": 19,
    "start_time": "2023-12-19T15:32:46.711Z"
   },
   {
    "duration": 650,
    "start_time": "2023-12-19T15:32:46.731Z"
   },
   {
    "duration": 97,
    "start_time": "2023-12-19T15:32:47.383Z"
   },
   {
    "duration": 119,
    "start_time": "2023-12-19T15:32:47.482Z"
   },
   {
    "duration": 57,
    "start_time": "2023-12-19T15:32:47.603Z"
   },
   {
    "duration": 196,
    "start_time": "2023-12-19T15:32:47.661Z"
   },
   {
    "duration": 391,
    "start_time": "2023-12-19T15:32:47.858Z"
   },
   {
    "duration": 4,
    "start_time": "2023-12-19T15:32:48.250Z"
   },
   {
    "duration": 54,
    "start_time": "2023-12-19T15:32:48.255Z"
   },
   {
    "duration": 74,
    "start_time": "2023-12-19T15:32:48.310Z"
   },
   {
    "duration": 279,
    "start_time": "2023-12-19T15:32:48.385Z"
   },
   {
    "duration": 9,
    "start_time": "2023-12-19T15:32:48.667Z"
   },
   {
    "duration": 243,
    "start_time": "2023-12-19T15:32:48.677Z"
   },
   {
    "duration": 436,
    "start_time": "2023-12-19T15:32:48.921Z"
   },
   {
    "duration": 17,
    "start_time": "2023-12-19T15:32:49.358Z"
   },
   {
    "duration": 41,
    "start_time": "2023-12-19T15:32:49.377Z"
   },
   {
    "duration": 4,
    "start_time": "2023-12-19T15:33:45.760Z"
   },
   {
    "duration": 432,
    "start_time": "2023-12-19T15:33:48.283Z"
   },
   {
    "duration": 1457,
    "start_time": "2023-12-19T15:35:29.476Z"
   },
   {
    "duration": 863,
    "start_time": "2023-12-19T15:35:30.934Z"
   },
   {
    "duration": 23,
    "start_time": "2023-12-19T15:35:31.799Z"
   },
   {
    "duration": 651,
    "start_time": "2023-12-19T15:35:31.824Z"
   },
   {
    "duration": 97,
    "start_time": "2023-12-19T15:35:32.477Z"
   },
   {
    "duration": 123,
    "start_time": "2023-12-19T15:35:32.576Z"
   },
   {
    "duration": 60,
    "start_time": "2023-12-19T15:35:32.701Z"
   },
   {
    "duration": 201,
    "start_time": "2023-12-19T15:35:32.762Z"
   },
   {
    "duration": 390,
    "start_time": "2023-12-19T15:35:32.964Z"
   },
   {
    "duration": 4,
    "start_time": "2023-12-19T15:35:33.355Z"
   },
   {
    "duration": 5,
    "start_time": "2023-12-19T15:35:33.361Z"
   },
   {
    "duration": 53,
    "start_time": "2023-12-19T15:35:33.367Z"
   },
   {
    "duration": 255,
    "start_time": "2023-12-19T15:35:33.421Z"
   },
   {
    "duration": 10,
    "start_time": "2023-12-19T15:35:33.678Z"
   },
   {
    "duration": 379,
    "start_time": "2023-12-19T15:35:33.689Z"
   },
   {
    "duration": 498,
    "start_time": "2023-12-19T15:35:34.070Z"
   },
   {
    "duration": 21,
    "start_time": "2023-12-19T15:35:34.570Z"
   },
   {
    "duration": 31,
    "start_time": "2023-12-19T15:35:34.592Z"
   },
   {
    "duration": 201,
    "start_time": "2023-12-19T15:35:34.624Z"
   },
   {
    "duration": 8,
    "start_time": "2023-12-19T15:36:10.445Z"
   },
   {
    "duration": 18,
    "start_time": "2023-12-19T15:36:11.072Z"
   },
   {
    "duration": 172,
    "start_time": "2023-12-19T15:36:11.502Z"
   },
   {
    "duration": 8,
    "start_time": "2023-12-19T15:36:17.306Z"
   },
   {
    "duration": 18,
    "start_time": "2023-12-19T15:36:17.502Z"
   },
   {
    "duration": 196,
    "start_time": "2023-12-19T15:36:17.779Z"
   },
   {
    "duration": 1312,
    "start_time": "2023-12-19T15:36:51.464Z"
   },
   {
    "duration": 832,
    "start_time": "2023-12-19T15:36:52.777Z"
   },
   {
    "duration": 19,
    "start_time": "2023-12-19T15:36:53.610Z"
   },
   {
    "duration": 607,
    "start_time": "2023-12-19T15:36:53.630Z"
   },
   {
    "duration": 97,
    "start_time": "2023-12-19T15:36:54.239Z"
   },
   {
    "duration": 118,
    "start_time": "2023-12-19T15:36:54.337Z"
   },
   {
    "duration": 62,
    "start_time": "2023-12-19T15:36:54.456Z"
   },
   {
    "duration": 208,
    "start_time": "2023-12-19T15:36:54.520Z"
   },
   {
    "duration": 401,
    "start_time": "2023-12-19T15:36:54.729Z"
   },
   {
    "duration": 4,
    "start_time": "2023-12-19T15:36:55.131Z"
   },
   {
    "duration": 37,
    "start_time": "2023-12-19T15:36:55.137Z"
   },
   {
    "duration": 54,
    "start_time": "2023-12-19T15:36:55.175Z"
   },
   {
    "duration": 254,
    "start_time": "2023-12-19T15:36:55.230Z"
   },
   {
    "duration": 9,
    "start_time": "2023-12-19T15:36:55.486Z"
   },
   {
    "duration": 367,
    "start_time": "2023-12-19T15:36:55.496Z"
   },
   {
    "duration": 516,
    "start_time": "2023-12-19T15:36:55.864Z"
   },
   {
    "duration": 20,
    "start_time": "2023-12-19T15:36:56.382Z"
   },
   {
    "duration": 18,
    "start_time": "2023-12-19T15:36:56.414Z"
   },
   {
    "duration": 186,
    "start_time": "2023-12-19T15:36:56.433Z"
   },
   {
    "duration": 1378,
    "start_time": "2023-12-19T15:41:04.997Z"
   },
   {
    "duration": 824,
    "start_time": "2023-12-19T15:41:06.376Z"
   },
   {
    "duration": 19,
    "start_time": "2023-12-19T15:41:07.201Z"
   },
   {
    "duration": 625,
    "start_time": "2023-12-19T15:41:07.222Z"
   },
   {
    "duration": 94,
    "start_time": "2023-12-19T15:41:07.849Z"
   },
   {
    "duration": 125,
    "start_time": "2023-12-19T15:41:07.945Z"
   },
   {
    "duration": 70,
    "start_time": "2023-12-19T15:41:08.072Z"
   },
   {
    "duration": 200,
    "start_time": "2023-12-19T15:41:08.143Z"
   },
   {
    "duration": 382,
    "start_time": "2023-12-19T15:41:08.345Z"
   },
   {
    "duration": 3,
    "start_time": "2023-12-19T15:41:08.729Z"
   },
   {
    "duration": 9,
    "start_time": "2023-12-19T15:41:08.734Z"
   },
   {
    "duration": 47,
    "start_time": "2023-12-19T15:41:08.745Z"
   },
   {
    "duration": 276,
    "start_time": "2023-12-19T15:41:08.794Z"
   },
   {
    "duration": 10,
    "start_time": "2023-12-19T15:41:09.072Z"
   },
   {
    "duration": 369,
    "start_time": "2023-12-19T15:41:09.084Z"
   },
   {
    "duration": 495,
    "start_time": "2023-12-19T15:41:09.454Z"
   },
   {
    "duration": 20,
    "start_time": "2023-12-19T15:41:09.951Z"
   },
   {
    "duration": 17,
    "start_time": "2023-12-19T15:41:09.972Z"
   },
   {
    "duration": 198,
    "start_time": "2023-12-19T15:41:09.990Z"
   },
   {
    "duration": 1352,
    "start_time": "2023-12-19T15:41:36.959Z"
   },
   {
    "duration": 820,
    "start_time": "2023-12-19T15:41:38.313Z"
   },
   {
    "duration": 20,
    "start_time": "2023-12-19T15:41:39.135Z"
   },
   {
    "duration": 630,
    "start_time": "2023-12-19T15:41:39.156Z"
   },
   {
    "duration": 99,
    "start_time": "2023-12-19T15:41:39.788Z"
   },
   {
    "duration": 127,
    "start_time": "2023-12-19T15:41:39.888Z"
   },
   {
    "duration": 55,
    "start_time": "2023-12-19T15:41:40.017Z"
   },
   {
    "duration": 200,
    "start_time": "2023-12-19T15:41:40.074Z"
   },
   {
    "duration": 395,
    "start_time": "2023-12-19T15:41:40.275Z"
   },
   {
    "duration": 3,
    "start_time": "2023-12-19T15:41:40.672Z"
   },
   {
    "duration": 14,
    "start_time": "2023-12-19T15:41:40.676Z"
   },
   {
    "duration": 46,
    "start_time": "2023-12-19T15:41:40.692Z"
   },
   {
    "duration": 265,
    "start_time": "2023-12-19T15:41:40.739Z"
   },
   {
    "duration": 15,
    "start_time": "2023-12-19T15:41:41.006Z"
   },
   {
    "duration": 379,
    "start_time": "2023-12-19T15:41:41.022Z"
   },
   {
    "duration": 510,
    "start_time": "2023-12-19T15:41:41.408Z"
   },
   {
    "duration": 19,
    "start_time": "2023-12-19T15:41:41.920Z"
   },
   {
    "duration": 16,
    "start_time": "2023-12-19T15:41:41.941Z"
   },
   {
    "duration": 185,
    "start_time": "2023-12-19T15:41:41.959Z"
   },
   {
    "duration": 1480,
    "start_time": "2023-12-19T15:44:13.910Z"
   },
   {
    "duration": 915,
    "start_time": "2023-12-19T15:44:15.392Z"
   },
   {
    "duration": 27,
    "start_time": "2023-12-19T15:44:16.309Z"
   },
   {
    "duration": 643,
    "start_time": "2023-12-19T15:44:16.337Z"
   },
   {
    "duration": 94,
    "start_time": "2023-12-19T15:44:16.982Z"
   },
   {
    "duration": 132,
    "start_time": "2023-12-19T15:44:17.077Z"
   },
   {
    "duration": 61,
    "start_time": "2023-12-19T15:44:17.214Z"
   },
   {
    "duration": 220,
    "start_time": "2023-12-19T15:44:17.277Z"
   },
   {
    "duration": 429,
    "start_time": "2023-12-19T15:44:17.499Z"
   },
   {
    "duration": 3,
    "start_time": "2023-12-19T15:44:17.930Z"
   },
   {
    "duration": 12,
    "start_time": "2023-12-19T15:44:17.935Z"
   },
   {
    "duration": 39,
    "start_time": "2023-12-19T15:44:17.949Z"
   },
   {
    "duration": 298,
    "start_time": "2023-12-19T15:44:17.990Z"
   },
   {
    "duration": 10,
    "start_time": "2023-12-19T15:44:18.290Z"
   },
   {
    "duration": 380,
    "start_time": "2023-12-19T15:44:18.302Z"
   },
   {
    "duration": 544,
    "start_time": "2023-12-19T15:44:18.684Z"
   },
   {
    "duration": 23,
    "start_time": "2023-12-19T15:44:19.230Z"
   },
   {
    "duration": 28,
    "start_time": "2023-12-19T15:44:19.255Z"
   },
   {
    "duration": 19,
    "start_time": "2023-12-19T15:44:19.284Z"
   },
   {
    "duration": 195,
    "start_time": "2023-12-19T15:44:19.316Z"
   },
   {
    "duration": 206,
    "start_time": "2023-12-19T15:46:31.991Z"
   },
   {
    "duration": 277,
    "start_time": "2023-12-19T15:46:41.226Z"
   },
   {
    "duration": 25,
    "start_time": "2023-12-19T15:47:10.326Z"
   },
   {
    "duration": 274,
    "start_time": "2023-12-19T15:49:23.110Z"
   },
   {
    "duration": 1482,
    "start_time": "2023-12-19T15:49:35.890Z"
   },
   {
    "duration": 876,
    "start_time": "2023-12-19T15:49:37.374Z"
   },
   {
    "duration": 20,
    "start_time": "2023-12-19T15:49:38.252Z"
   },
   {
    "duration": 654,
    "start_time": "2023-12-19T15:49:38.273Z"
   },
   {
    "duration": 106,
    "start_time": "2023-12-19T15:49:38.929Z"
   },
   {
    "duration": 132,
    "start_time": "2023-12-19T15:49:39.037Z"
   },
   {
    "duration": 70,
    "start_time": "2023-12-19T15:49:39.171Z"
   },
   {
    "duration": 196,
    "start_time": "2023-12-19T15:49:39.243Z"
   },
   {
    "duration": 389,
    "start_time": "2023-12-19T15:49:39.441Z"
   },
   {
    "duration": 5,
    "start_time": "2023-12-19T15:49:39.831Z"
   },
   {
    "duration": 10,
    "start_time": "2023-12-19T15:49:39.838Z"
   },
   {
    "duration": 57,
    "start_time": "2023-12-19T15:49:39.849Z"
   },
   {
    "duration": 276,
    "start_time": "2023-12-19T15:49:39.908Z"
   },
   {
    "duration": 10,
    "start_time": "2023-12-19T15:49:40.188Z"
   },
   {
    "duration": 196,
    "start_time": "2023-12-19T15:49:40.199Z"
   },
   {
    "duration": 452,
    "start_time": "2023-12-19T15:49:40.396Z"
   },
   {
    "duration": 20,
    "start_time": "2023-12-19T15:49:40.850Z"
   },
   {
    "duration": 20,
    "start_time": "2023-12-19T15:49:40.871Z"
   },
   {
    "duration": 34,
    "start_time": "2023-12-19T15:49:40.893Z"
   },
   {
    "duration": 262,
    "start_time": "2023-12-19T15:49:40.929Z"
   },
   {
    "duration": 281,
    "start_time": "2023-12-19T15:49:41.192Z"
   },
   {
    "duration": 21,
    "start_time": "2023-12-19T15:49:41.474Z"
   },
   {
    "duration": 275,
    "start_time": "2023-12-19T15:49:41.497Z"
   },
   {
    "duration": 84,
    "start_time": "2023-12-19T15:54:27.167Z"
   },
   {
    "duration": 75,
    "start_time": "2023-12-19T15:54:41.720Z"
   },
   {
    "duration": 26,
    "start_time": "2023-12-19T15:55:15.914Z"
   },
   {
    "duration": 24,
    "start_time": "2023-12-19T15:55:49.787Z"
   },
   {
    "duration": 25,
    "start_time": "2023-12-19T15:55:50.497Z"
   },
   {
    "duration": 24,
    "start_time": "2023-12-19T15:55:50.903Z"
   },
   {
    "duration": 237,
    "start_time": "2023-12-19T15:55:51.950Z"
   },
   {
    "duration": 220,
    "start_time": "2023-12-19T16:27:35.917Z"
   },
   {
    "duration": 1417,
    "start_time": "2023-12-19T16:29:08.586Z"
   },
   {
    "duration": 849,
    "start_time": "2023-12-19T16:29:10.005Z"
   },
   {
    "duration": 18,
    "start_time": "2023-12-19T16:29:10.858Z"
   },
   {
    "duration": 614,
    "start_time": "2023-12-19T16:29:10.878Z"
   },
   {
    "duration": 91,
    "start_time": "2023-12-19T16:29:11.494Z"
   },
   {
    "duration": 137,
    "start_time": "2023-12-19T16:29:11.587Z"
   },
   {
    "duration": 54,
    "start_time": "2023-12-19T16:29:11.726Z"
   },
   {
    "duration": 198,
    "start_time": "2023-12-19T16:29:11.781Z"
   },
   {
    "duration": 352,
    "start_time": "2023-12-19T16:29:11.982Z"
   },
   {
    "duration": 4,
    "start_time": "2023-12-19T16:29:12.335Z"
   },
   {
    "duration": 20,
    "start_time": "2023-12-19T16:29:12.341Z"
   },
   {
    "duration": 79,
    "start_time": "2023-12-19T16:29:12.363Z"
   },
   {
    "duration": 256,
    "start_time": "2023-12-19T16:29:12.444Z"
   },
   {
    "duration": 3,
    "start_time": "2023-12-19T16:29:12.701Z"
   },
   {
    "duration": 124,
    "start_time": "2023-12-19T16:29:12.705Z"
   },
   {
    "duration": 0,
    "start_time": "2023-12-19T16:29:12.831Z"
   },
   {
    "duration": 0,
    "start_time": "2023-12-19T16:29:12.832Z"
   },
   {
    "duration": 0,
    "start_time": "2023-12-19T16:29:12.834Z"
   },
   {
    "duration": 0,
    "start_time": "2023-12-19T16:29:12.835Z"
   },
   {
    "duration": 0,
    "start_time": "2023-12-19T16:29:12.836Z"
   },
   {
    "duration": 0,
    "start_time": "2023-12-19T16:29:12.838Z"
   },
   {
    "duration": 0,
    "start_time": "2023-12-19T16:29:12.839Z"
   },
   {
    "duration": 0,
    "start_time": "2023-12-19T16:29:12.840Z"
   },
   {
    "duration": 0,
    "start_time": "2023-12-19T16:29:12.841Z"
   },
   {
    "duration": 0,
    "start_time": "2023-12-19T16:29:12.842Z"
   },
   {
    "duration": 0,
    "start_time": "2023-12-19T16:29:12.844Z"
   },
   {
    "duration": 0,
    "start_time": "2023-12-19T16:29:12.845Z"
   },
   {
    "duration": 0,
    "start_time": "2023-12-19T16:29:12.846Z"
   },
   {
    "duration": 0,
    "start_time": "2023-12-19T16:29:12.848Z"
   },
   {
    "duration": 0,
    "start_time": "2023-12-19T16:29:12.849Z"
   },
   {
    "duration": 1340,
    "start_time": "2023-12-19T16:32:02.356Z"
   },
   {
    "duration": 3,
    "start_time": "2023-12-19T16:32:09.159Z"
   },
   {
    "duration": 1349,
    "start_time": "2023-12-19T16:32:09.543Z"
   },
   {
    "duration": 1309,
    "start_time": "2023-12-19T16:34:39.974Z"
   },
   {
    "duration": 816,
    "start_time": "2023-12-19T16:34:41.285Z"
   },
   {
    "duration": 23,
    "start_time": "2023-12-19T16:34:42.102Z"
   },
   {
    "duration": 607,
    "start_time": "2023-12-19T16:34:42.126Z"
   },
   {
    "duration": 96,
    "start_time": "2023-12-19T16:34:42.735Z"
   },
   {
    "duration": 116,
    "start_time": "2023-12-19T16:34:42.833Z"
   },
   {
    "duration": 65,
    "start_time": "2023-12-19T16:34:42.950Z"
   },
   {
    "duration": 193,
    "start_time": "2023-12-19T16:34:43.016Z"
   },
   {
    "duration": 356,
    "start_time": "2023-12-19T16:34:43.211Z"
   },
   {
    "duration": 4,
    "start_time": "2023-12-19T16:34:43.569Z"
   },
   {
    "duration": 7,
    "start_time": "2023-12-19T16:34:43.574Z"
   },
   {
    "duration": 62,
    "start_time": "2023-12-19T16:34:43.582Z"
   },
   {
    "duration": 244,
    "start_time": "2023-12-19T16:34:43.646Z"
   },
   {
    "duration": 69,
    "start_time": "2023-12-19T16:34:43.893Z"
   },
   {
    "duration": 3,
    "start_time": "2023-12-19T16:34:43.964Z"
   },
   {
    "duration": 137,
    "start_time": "2023-12-19T16:34:43.969Z"
   },
   {
    "duration": 0,
    "start_time": "2023-12-19T16:34:44.108Z"
   },
   {
    "duration": 0,
    "start_time": "2023-12-19T16:34:44.109Z"
   },
   {
    "duration": 0,
    "start_time": "2023-12-19T16:34:44.115Z"
   },
   {
    "duration": 0,
    "start_time": "2023-12-19T16:34:44.116Z"
   },
   {
    "duration": 1,
    "start_time": "2023-12-19T16:34:44.117Z"
   },
   {
    "duration": 0,
    "start_time": "2023-12-19T16:34:44.119Z"
   },
   {
    "duration": 0,
    "start_time": "2023-12-19T16:34:44.120Z"
   },
   {
    "duration": 0,
    "start_time": "2023-12-19T16:34:44.122Z"
   },
   {
    "duration": 0,
    "start_time": "2023-12-19T16:34:44.123Z"
   },
   {
    "duration": 1,
    "start_time": "2023-12-19T16:34:44.124Z"
   },
   {
    "duration": 0,
    "start_time": "2023-12-19T16:34:44.126Z"
   },
   {
    "duration": 0,
    "start_time": "2023-12-19T16:34:44.127Z"
   },
   {
    "duration": 0,
    "start_time": "2023-12-19T16:34:44.129Z"
   },
   {
    "duration": 0,
    "start_time": "2023-12-19T16:34:44.130Z"
   },
   {
    "duration": 0,
    "start_time": "2023-12-19T16:34:44.132Z"
   },
   {
    "duration": 4360,
    "start_time": "2023-12-19T16:35:40.171Z"
   },
   {
    "duration": 238,
    "start_time": "2023-12-19T16:35:44.533Z"
   },
   {
    "duration": 1347,
    "start_time": "2023-12-19T16:35:58.269Z"
   },
   {
    "duration": 849,
    "start_time": "2023-12-19T16:35:59.618Z"
   },
   {
    "duration": 19,
    "start_time": "2023-12-19T16:36:00.470Z"
   },
   {
    "duration": 679,
    "start_time": "2023-12-19T16:36:00.491Z"
   },
   {
    "duration": 103,
    "start_time": "2023-12-19T16:36:01.171Z"
   },
   {
    "duration": 129,
    "start_time": "2023-12-19T16:36:01.276Z"
   },
   {
    "duration": 62,
    "start_time": "2023-12-19T16:36:01.407Z"
   },
   {
    "duration": 222,
    "start_time": "2023-12-19T16:36:01.470Z"
   },
   {
    "duration": 473,
    "start_time": "2023-12-19T16:36:01.694Z"
   },
   {
    "duration": 4,
    "start_time": "2023-12-19T16:36:02.168Z"
   },
   {
    "duration": 27,
    "start_time": "2023-12-19T16:36:02.173Z"
   },
   {
    "duration": 93,
    "start_time": "2023-12-19T16:36:02.201Z"
   },
   {
    "duration": 248,
    "start_time": "2023-12-19T16:36:02.298Z"
   },
   {
    "duration": 71,
    "start_time": "2023-12-19T16:36:02.548Z"
   },
   {
    "duration": 4,
    "start_time": "2023-12-19T16:36:02.621Z"
   },
   {
    "duration": 4406,
    "start_time": "2023-12-19T16:36:02.627Z"
   },
   {
    "duration": 248,
    "start_time": "2023-12-19T16:36:07.034Z"
   },
   {
    "duration": 245,
    "start_time": "2023-12-19T16:36:07.284Z"
   },
   {
    "duration": 11,
    "start_time": "2023-12-19T16:36:07.531Z"
   },
   {
    "duration": 251,
    "start_time": "2023-12-19T16:36:07.544Z"
   },
   {
    "duration": 474,
    "start_time": "2023-12-19T16:36:07.796Z"
   },
   {
    "duration": 24,
    "start_time": "2023-12-19T16:36:08.271Z"
   },
   {
    "duration": 42,
    "start_time": "2023-12-19T16:36:08.297Z"
   },
   {
    "duration": 18,
    "start_time": "2023-12-19T16:36:08.340Z"
   },
   {
    "duration": 214,
    "start_time": "2023-12-19T16:36:08.359Z"
   },
   {
    "duration": 40,
    "start_time": "2023-12-19T16:36:08.575Z"
   },
   {
    "duration": 38,
    "start_time": "2023-12-19T16:36:08.617Z"
   },
   {
    "duration": 32,
    "start_time": "2023-12-19T16:36:08.657Z"
   },
   {
    "duration": 296,
    "start_time": "2023-12-19T16:36:08.690Z"
   },
   {
    "duration": 31,
    "start_time": "2023-12-19T16:36:08.988Z"
   },
   {
    "duration": 259,
    "start_time": "2023-12-19T16:36:09.020Z"
   },
   {
    "duration": 13,
    "start_time": "2023-12-19T16:36:52.656Z"
   },
   {
    "duration": 1353,
    "start_time": "2023-12-19T16:37:06.523Z"
   },
   {
    "duration": 826,
    "start_time": "2023-12-19T16:37:07.878Z"
   },
   {
    "duration": 19,
    "start_time": "2023-12-19T16:37:08.706Z"
   },
   {
    "duration": 638,
    "start_time": "2023-12-19T16:37:08.727Z"
   },
   {
    "duration": 92,
    "start_time": "2023-12-19T16:37:09.367Z"
   },
   {
    "duration": 119,
    "start_time": "2023-12-19T16:37:09.461Z"
   },
   {
    "duration": 66,
    "start_time": "2023-12-19T16:37:09.582Z"
   },
   {
    "duration": 192,
    "start_time": "2023-12-19T16:37:09.649Z"
   },
   {
    "duration": 367,
    "start_time": "2023-12-19T16:37:09.842Z"
   },
   {
    "duration": 4,
    "start_time": "2023-12-19T16:37:10.215Z"
   },
   {
    "duration": 20,
    "start_time": "2023-12-19T16:37:10.220Z"
   },
   {
    "duration": 47,
    "start_time": "2023-12-19T16:37:10.242Z"
   },
   {
    "duration": 16,
    "start_time": "2023-12-19T16:37:10.291Z"
   },
   {
    "duration": 254,
    "start_time": "2023-12-19T16:37:10.310Z"
   },
   {
    "duration": 70,
    "start_time": "2023-12-19T16:37:10.566Z"
   },
   {
    "duration": 3,
    "start_time": "2023-12-19T16:37:10.637Z"
   },
   {
    "duration": 4329,
    "start_time": "2023-12-19T16:37:10.642Z"
   },
   {
    "duration": 229,
    "start_time": "2023-12-19T16:37:14.973Z"
   },
   {
    "duration": 249,
    "start_time": "2023-12-19T16:37:15.203Z"
   },
   {
    "duration": 9,
    "start_time": "2023-12-19T16:37:15.453Z"
   },
   {
    "duration": 250,
    "start_time": "2023-12-19T16:37:15.464Z"
   },
   {
    "duration": 434,
    "start_time": "2023-12-19T16:37:15.717Z"
   },
   {
    "duration": 24,
    "start_time": "2023-12-19T16:37:16.152Z"
   },
   {
    "duration": 42,
    "start_time": "2023-12-19T16:37:16.178Z"
   },
   {
    "duration": 18,
    "start_time": "2023-12-19T16:37:16.222Z"
   },
   {
    "duration": 200,
    "start_time": "2023-12-19T16:37:16.242Z"
   },
   {
    "duration": 34,
    "start_time": "2023-12-19T16:37:16.443Z"
   },
   {
    "duration": 46,
    "start_time": "2023-12-19T16:37:16.478Z"
   },
   {
    "duration": 29,
    "start_time": "2023-12-19T16:37:16.526Z"
   },
   {
    "duration": 270,
    "start_time": "2023-12-19T16:37:16.556Z"
   },
   {
    "duration": 23,
    "start_time": "2023-12-19T16:37:16.827Z"
   },
   {
    "duration": 272,
    "start_time": "2023-12-19T16:37:16.851Z"
   },
   {
    "duration": 1425,
    "start_time": "2023-12-19T16:40:05.673Z"
   },
   {
    "duration": 833,
    "start_time": "2023-12-19T16:40:07.100Z"
   },
   {
    "duration": 19,
    "start_time": "2023-12-19T16:40:07.935Z"
   },
   {
    "duration": 1278,
    "start_time": "2023-12-19T16:40:07.955Z"
   },
   {
    "duration": 195,
    "start_time": "2023-12-19T16:40:09.236Z"
   },
   {
    "duration": 213,
    "start_time": "2023-12-19T16:40:09.432Z"
   },
   {
    "duration": 112,
    "start_time": "2023-12-19T16:40:09.647Z"
   },
   {
    "duration": 381,
    "start_time": "2023-12-19T16:40:09.760Z"
   },
   {
    "duration": 661,
    "start_time": "2023-12-19T16:40:10.143Z"
   },
   {
    "duration": 9,
    "start_time": "2023-12-19T16:40:10.806Z"
   },
   {
    "duration": 7,
    "start_time": "2023-12-19T16:40:10.816Z"
   },
   {
    "duration": 55,
    "start_time": "2023-12-19T16:40:10.825Z"
   },
   {
    "duration": 17,
    "start_time": "2023-12-19T16:40:10.882Z"
   },
   {
    "duration": 254,
    "start_time": "2023-12-19T16:40:10.903Z"
   },
   {
    "duration": 78,
    "start_time": "2023-12-19T16:40:11.158Z"
   },
   {
    "duration": 3,
    "start_time": "2023-12-19T16:40:11.238Z"
   },
   {
    "duration": 2373,
    "start_time": "2023-12-19T16:40:11.243Z"
   },
   {
    "duration": 242,
    "start_time": "2023-12-19T16:40:13.618Z"
   },
   {
    "duration": 244,
    "start_time": "2023-12-19T16:40:13.862Z"
   },
   {
    "duration": 14,
    "start_time": "2023-12-19T16:40:14.107Z"
   },
   {
    "duration": 258,
    "start_time": "2023-12-19T16:40:14.122Z"
   },
   {
    "duration": 435,
    "start_time": "2023-12-19T16:40:14.382Z"
   },
   {
    "duration": 24,
    "start_time": "2023-12-19T16:40:14.819Z"
   },
   {
    "duration": 29,
    "start_time": "2023-12-19T16:40:14.844Z"
   },
   {
    "duration": 40,
    "start_time": "2023-12-19T16:40:14.875Z"
   },
   {
    "duration": 198,
    "start_time": "2023-12-19T16:40:14.916Z"
   },
   {
    "duration": 30,
    "start_time": "2023-12-19T16:40:15.116Z"
   },
   {
    "duration": 41,
    "start_time": "2023-12-19T16:40:15.147Z"
   },
   {
    "duration": 39,
    "start_time": "2023-12-19T16:40:15.190Z"
   },
   {
    "duration": 266,
    "start_time": "2023-12-19T16:40:15.230Z"
   },
   {
    "duration": 29,
    "start_time": "2023-12-19T16:40:15.497Z"
   },
   {
    "duration": 260,
    "start_time": "2023-12-19T16:40:15.528Z"
   },
   {
    "duration": 1385,
    "start_time": "2023-12-19T16:46:15.036Z"
   },
   {
    "duration": 825,
    "start_time": "2023-12-19T16:46:16.422Z"
   },
   {
    "duration": 20,
    "start_time": "2023-12-19T16:46:17.248Z"
   },
   {
    "duration": 645,
    "start_time": "2023-12-19T16:46:17.270Z"
   },
   {
    "duration": 100,
    "start_time": "2023-12-19T16:46:17.917Z"
   },
   {
    "duration": 151,
    "start_time": "2023-12-19T16:46:18.019Z"
   },
   {
    "duration": 69,
    "start_time": "2023-12-19T16:46:18.172Z"
   },
   {
    "duration": 194,
    "start_time": "2023-12-19T16:46:18.243Z"
   },
   {
    "duration": 390,
    "start_time": "2023-12-19T16:46:18.438Z"
   },
   {
    "duration": 4,
    "start_time": "2023-12-19T16:46:18.830Z"
   },
   {
    "duration": 5,
    "start_time": "2023-12-19T16:46:18.836Z"
   },
   {
    "duration": 272,
    "start_time": "2023-12-19T16:46:18.842Z"
   },
   {
    "duration": 17,
    "start_time": "2023-12-19T16:46:19.116Z"
   },
   {
    "duration": 72,
    "start_time": "2023-12-19T16:46:19.135Z"
   },
   {
    "duration": 3,
    "start_time": "2023-12-19T16:46:19.214Z"
   },
   {
    "duration": 4403,
    "start_time": "2023-12-19T16:46:19.219Z"
   },
   {
    "duration": 230,
    "start_time": "2023-12-19T16:46:23.623Z"
   },
   {
    "duration": 230,
    "start_time": "2023-12-19T16:46:23.855Z"
   },
   {
    "duration": 17,
    "start_time": "2023-12-19T16:46:24.086Z"
   },
   {
    "duration": 66,
    "start_time": "2023-12-19T16:46:24.115Z"
   },
   {
    "duration": 3,
    "start_time": "2023-12-19T16:46:24.183Z"
   },
   {
    "duration": 2384,
    "start_time": "2023-12-19T16:46:24.188Z"
   },
   {
    "duration": 288,
    "start_time": "2023-12-19T16:46:26.574Z"
   },
   {
    "duration": 8,
    "start_time": "2023-12-19T16:46:26.864Z"
   },
   {
    "duration": 178,
    "start_time": "2023-12-19T16:46:26.874Z"
   },
   {
    "duration": 444,
    "start_time": "2023-12-19T16:46:27.054Z"
   },
   {
    "duration": 25,
    "start_time": "2023-12-19T16:46:27.499Z"
   },
   {
    "duration": 23,
    "start_time": "2023-12-19T16:46:27.526Z"
   },
   {
    "duration": 20,
    "start_time": "2023-12-19T16:46:27.551Z"
   },
   {
    "duration": 201,
    "start_time": "2023-12-19T16:46:27.572Z"
   },
   {
    "duration": 40,
    "start_time": "2023-12-19T16:46:27.775Z"
   },
   {
    "duration": 31,
    "start_time": "2023-12-19T16:46:27.816Z"
   },
   {
    "duration": 29,
    "start_time": "2023-12-19T16:46:27.848Z"
   },
   {
    "duration": 305,
    "start_time": "2023-12-19T16:46:27.878Z"
   },
   {
    "duration": 37,
    "start_time": "2023-12-19T16:46:28.184Z"
   },
   {
    "duration": 252,
    "start_time": "2023-12-19T16:46:28.223Z"
   },
   {
    "duration": 179,
    "start_time": "2023-12-19T16:51:48.530Z"
   },
   {
    "duration": 1384,
    "start_time": "2023-12-19T16:54:46.691Z"
   },
   {
    "duration": 848,
    "start_time": "2023-12-19T16:54:48.077Z"
   },
   {
    "duration": 19,
    "start_time": "2023-12-19T16:54:48.926Z"
   },
   {
    "duration": 638,
    "start_time": "2023-12-19T16:54:48.947Z"
   },
   {
    "duration": 102,
    "start_time": "2023-12-19T16:54:49.588Z"
   },
   {
    "duration": 123,
    "start_time": "2023-12-19T16:54:49.692Z"
   },
   {
    "duration": 55,
    "start_time": "2023-12-19T16:54:49.817Z"
   },
   {
    "duration": 205,
    "start_time": "2023-12-19T16:54:49.873Z"
   },
   {
    "duration": 396,
    "start_time": "2023-12-19T16:54:50.079Z"
   },
   {
    "duration": 4,
    "start_time": "2023-12-19T16:54:50.476Z"
   },
   {
    "duration": 17,
    "start_time": "2023-12-19T16:54:50.482Z"
   },
   {
    "duration": 196,
    "start_time": "2023-12-19T16:54:50.500Z"
   },
   {
    "duration": 31,
    "start_time": "2023-12-19T16:54:50.697Z"
   },
   {
    "duration": 187,
    "start_time": "2023-12-19T16:54:50.731Z"
   },
   {
    "duration": 254,
    "start_time": "2023-12-19T16:54:50.919Z"
   },
   {
    "duration": 16,
    "start_time": "2023-12-19T16:54:51.175Z"
   },
   {
    "duration": 125,
    "start_time": "2023-12-19T16:54:51.192Z"
   },
   {
    "duration": 3,
    "start_time": "2023-12-19T16:54:51.318Z"
   },
   {
    "duration": 4429,
    "start_time": "2023-12-19T16:54:51.322Z"
   },
   {
    "duration": 244,
    "start_time": "2023-12-19T16:54:55.753Z"
   },
   {
    "duration": 232,
    "start_time": "2023-12-19T16:54:55.999Z"
   },
   {
    "duration": 17,
    "start_time": "2023-12-19T16:54:56.232Z"
   },
   {
    "duration": 109,
    "start_time": "2023-12-19T16:54:56.250Z"
   },
   {
    "duration": 3,
    "start_time": "2023-12-19T16:54:56.360Z"
   },
   {
    "duration": 2419,
    "start_time": "2023-12-19T16:54:56.365Z"
   },
   {
    "duration": 362,
    "start_time": "2023-12-19T16:54:58.786Z"
   },
   {
    "duration": 9,
    "start_time": "2023-12-19T16:54:59.149Z"
   },
   {
    "duration": 337,
    "start_time": "2023-12-19T16:54:59.215Z"
   },
   {
    "duration": 908,
    "start_time": "2023-12-19T16:54:59.553Z"
   },
   {
    "duration": 12,
    "start_time": "2023-12-19T16:55:00.514Z"
   },
   {
    "duration": 111,
    "start_time": "2023-12-19T16:55:00.527Z"
   },
   {
    "duration": 76,
    "start_time": "2023-12-19T16:55:00.640Z"
   },
   {
    "duration": 402,
    "start_time": "2023-12-19T16:55:00.717Z"
   },
   {
    "duration": 30,
    "start_time": "2023-12-19T16:55:01.121Z"
   },
   {
    "duration": 96,
    "start_time": "2023-12-19T16:55:01.153Z"
   },
   {
    "duration": 123,
    "start_time": "2023-12-19T16:55:01.251Z"
   },
   {
    "duration": 370,
    "start_time": "2023-12-19T16:55:01.376Z"
   },
   {
    "duration": 19,
    "start_time": "2023-12-19T16:55:01.748Z"
   },
   {
    "duration": 265,
    "start_time": "2023-12-19T16:55:01.769Z"
   },
   {
    "duration": 20,
    "start_time": "2023-12-19T16:55:32.220Z"
   },
   {
    "duration": 170,
    "start_time": "2023-12-19T16:55:32.690Z"
   },
   {
    "duration": 12,
    "start_time": "2023-12-19T16:55:57.852Z"
   },
   {
    "duration": 182,
    "start_time": "2023-12-19T16:55:58.261Z"
   },
   {
    "duration": 1369,
    "start_time": "2023-12-19T16:56:12.410Z"
   },
   {
    "duration": 842,
    "start_time": "2023-12-19T16:56:13.781Z"
   },
   {
    "duration": 19,
    "start_time": "2023-12-19T16:56:14.624Z"
   },
   {
    "duration": 626,
    "start_time": "2023-12-19T16:56:14.644Z"
   },
   {
    "duration": 94,
    "start_time": "2023-12-19T16:56:15.272Z"
   },
   {
    "duration": 123,
    "start_time": "2023-12-19T16:56:15.368Z"
   },
   {
    "duration": 64,
    "start_time": "2023-12-19T16:56:15.492Z"
   },
   {
    "duration": 204,
    "start_time": "2023-12-19T16:56:15.557Z"
   },
   {
    "duration": 387,
    "start_time": "2023-12-19T16:56:15.763Z"
   },
   {
    "duration": 4,
    "start_time": "2023-12-19T16:56:16.152Z"
   },
   {
    "duration": 4,
    "start_time": "2023-12-19T16:56:16.157Z"
   },
   {
    "duration": 208,
    "start_time": "2023-12-19T16:56:16.163Z"
   },
   {
    "duration": 24,
    "start_time": "2023-12-19T16:56:16.372Z"
   },
   {
    "duration": 194,
    "start_time": "2023-12-19T16:56:16.399Z"
   },
   {
    "duration": 261,
    "start_time": "2023-12-19T16:56:16.595Z"
   },
   {
    "duration": 16,
    "start_time": "2023-12-19T16:56:16.858Z"
   },
   {
    "duration": 80,
    "start_time": "2023-12-19T16:56:16.876Z"
   },
   {
    "duration": 3,
    "start_time": "2023-12-19T16:56:16.957Z"
   },
   {
    "duration": 5281,
    "start_time": "2023-12-19T16:56:16.961Z"
   },
   {
    "duration": 254,
    "start_time": "2023-12-19T16:56:22.244Z"
   },
   {
    "duration": 259,
    "start_time": "2023-12-19T16:56:22.499Z"
   },
   {
    "duration": 17,
    "start_time": "2023-12-19T16:56:22.759Z"
   },
   {
    "duration": 94,
    "start_time": "2023-12-19T16:56:22.777Z"
   },
   {
    "duration": 3,
    "start_time": "2023-12-19T16:56:22.873Z"
   },
   {
    "duration": 2474,
    "start_time": "2023-12-19T16:56:22.878Z"
   },
   {
    "duration": 228,
    "start_time": "2023-12-19T16:56:25.354Z"
   },
   {
    "duration": 8,
    "start_time": "2023-12-19T16:56:25.584Z"
   },
   {
    "duration": 228,
    "start_time": "2023-12-19T16:56:25.594Z"
   },
   {
    "duration": 449,
    "start_time": "2023-12-19T16:56:25.823Z"
   },
   {
    "duration": 13,
    "start_time": "2023-12-19T16:56:26.274Z"
   },
   {
    "duration": 38,
    "start_time": "2023-12-19T16:56:26.288Z"
   },
   {
    "duration": 20,
    "start_time": "2023-12-19T16:56:26.328Z"
   },
   {
    "duration": 196,
    "start_time": "2023-12-19T16:56:26.350Z"
   },
   {
    "duration": 31,
    "start_time": "2023-12-19T16:56:26.548Z"
   },
   {
    "duration": 51,
    "start_time": "2023-12-19T16:56:26.580Z"
   },
   {
    "duration": 37,
    "start_time": "2023-12-19T16:56:26.632Z"
   },
   {
    "duration": 273,
    "start_time": "2023-12-19T16:56:26.671Z"
   },
   {
    "duration": 20,
    "start_time": "2023-12-19T16:56:26.946Z"
   },
   {
    "duration": 257,
    "start_time": "2023-12-19T16:56:26.968Z"
   },
   {
    "duration": 18,
    "start_time": "2023-12-19T16:57:01.658Z"
   },
   {
    "duration": 20,
    "start_time": "2023-12-19T16:57:02.812Z"
   },
   {
    "duration": 168,
    "start_time": "2023-12-19T16:57:03.506Z"
   },
   {
    "duration": 17,
    "start_time": "2023-12-19T16:57:10.835Z"
   },
   {
    "duration": 6,
    "start_time": "2023-12-19T16:57:11.400Z"
   },
   {
    "duration": 157,
    "start_time": "2023-12-19T16:57:11.984Z"
   },
   {
    "duration": 6,
    "start_time": "2023-12-19T16:58:55.625Z"
   },
   {
    "duration": 183,
    "start_time": "2023-12-19T16:58:56.187Z"
   },
   {
    "duration": 1314,
    "start_time": "2023-12-19T16:59:02.555Z"
   },
   {
    "duration": 822,
    "start_time": "2023-12-19T16:59:03.871Z"
   },
   {
    "duration": 23,
    "start_time": "2023-12-19T16:59:04.694Z"
   },
   {
    "duration": 652,
    "start_time": "2023-12-19T16:59:04.719Z"
   },
   {
    "duration": 99,
    "start_time": "2023-12-19T16:59:05.373Z"
   },
   {
    "duration": 121,
    "start_time": "2023-12-19T16:59:05.474Z"
   },
   {
    "duration": 62,
    "start_time": "2023-12-19T16:59:05.597Z"
   },
   {
    "duration": 200,
    "start_time": "2023-12-19T16:59:05.660Z"
   },
   {
    "duration": 381,
    "start_time": "2023-12-19T16:59:05.861Z"
   },
   {
    "duration": 3,
    "start_time": "2023-12-19T16:59:06.244Z"
   },
   {
    "duration": 53,
    "start_time": "2023-12-19T16:59:06.249Z"
   },
   {
    "duration": 213,
    "start_time": "2023-12-19T16:59:06.303Z"
   },
   {
    "duration": 21,
    "start_time": "2023-12-19T16:59:06.517Z"
   },
   {
    "duration": 18,
    "start_time": "2023-12-19T16:59:06.539Z"
   },
   {
    "duration": 203,
    "start_time": "2023-12-19T16:59:06.558Z"
   },
   {
    "duration": 229,
    "start_time": "2023-12-19T16:59:06.763Z"
   },
   {
    "duration": 15,
    "start_time": "2023-12-19T16:59:06.993Z"
   },
   {
    "duration": 61,
    "start_time": "2023-12-19T16:59:07.015Z"
   },
   {
    "duration": 3,
    "start_time": "2023-12-19T16:59:07.078Z"
   },
   {
    "duration": 4928,
    "start_time": "2023-12-19T16:59:07.082Z"
   },
   {
    "duration": 242,
    "start_time": "2023-12-19T16:59:12.011Z"
   },
   {
    "duration": 238,
    "start_time": "2023-12-19T16:59:12.255Z"
   },
   {
    "duration": 21,
    "start_time": "2023-12-19T16:59:12.494Z"
   },
   {
    "duration": 65,
    "start_time": "2023-12-19T16:59:12.517Z"
   },
   {
    "duration": 3,
    "start_time": "2023-12-19T16:59:12.584Z"
   },
   {
    "duration": 2296,
    "start_time": "2023-12-19T16:59:12.588Z"
   },
   {
    "duration": 268,
    "start_time": "2023-12-19T16:59:14.885Z"
   },
   {
    "duration": 9,
    "start_time": "2023-12-19T16:59:15.156Z"
   },
   {
    "duration": 373,
    "start_time": "2023-12-19T16:59:15.166Z"
   },
   {
    "duration": 877,
    "start_time": "2023-12-19T16:59:15.540Z"
   },
   {
    "duration": 11,
    "start_time": "2023-12-19T16:59:16.419Z"
   },
   {
    "duration": 24,
    "start_time": "2023-12-19T16:59:16.431Z"
   },
   {
    "duration": 72,
    "start_time": "2023-12-19T16:59:16.456Z"
   },
   {
    "duration": 254,
    "start_time": "2023-12-19T16:59:16.529Z"
   },
   {
    "duration": 45,
    "start_time": "2023-12-19T16:59:16.785Z"
   },
   {
    "duration": 28,
    "start_time": "2023-12-19T16:59:16.832Z"
   },
   {
    "duration": 27,
    "start_time": "2023-12-19T16:59:16.861Z"
   },
   {
    "duration": 296,
    "start_time": "2023-12-19T16:59:16.890Z"
   },
   {
    "duration": 28,
    "start_time": "2023-12-19T16:59:17.187Z"
   },
   {
    "duration": 255,
    "start_time": "2023-12-19T16:59:17.217Z"
   },
   {
    "duration": 17,
    "start_time": "2023-12-19T16:59:42.372Z"
   },
   {
    "duration": 188,
    "start_time": "2023-12-19T16:59:42.943Z"
   },
   {
    "duration": 9,
    "start_time": "2023-12-19T16:59:50.444Z"
   },
   {
    "duration": 177,
    "start_time": "2023-12-19T16:59:50.997Z"
   },
   {
    "duration": 1395,
    "start_time": "2023-12-19T17:01:24.122Z"
   },
   {
    "duration": 867,
    "start_time": "2023-12-19T17:01:25.519Z"
   },
   {
    "duration": 18,
    "start_time": "2023-12-19T17:01:26.387Z"
   },
   {
    "duration": 637,
    "start_time": "2023-12-19T17:01:26.406Z"
   },
   {
    "duration": 100,
    "start_time": "2023-12-19T17:01:27.046Z"
   },
   {
    "duration": 120,
    "start_time": "2023-12-19T17:01:27.148Z"
   },
   {
    "duration": 64,
    "start_time": "2023-12-19T17:01:27.270Z"
   },
   {
    "duration": 200,
    "start_time": "2023-12-19T17:01:27.336Z"
   },
   {
    "duration": 391,
    "start_time": "2023-12-19T17:01:27.537Z"
   },
   {
    "duration": 4,
    "start_time": "2023-12-19T17:01:27.930Z"
   },
   {
    "duration": 14,
    "start_time": "2023-12-19T17:01:27.936Z"
   },
   {
    "duration": 220,
    "start_time": "2023-12-19T17:01:27.951Z"
   },
   {
    "duration": 21,
    "start_time": "2023-12-19T17:01:28.173Z"
   },
   {
    "duration": 31,
    "start_time": "2023-12-19T17:01:28.197Z"
   },
   {
    "duration": 20,
    "start_time": "2023-12-19T17:01:28.230Z"
   },
   {
    "duration": 198,
    "start_time": "2023-12-19T17:01:28.251Z"
   },
   {
    "duration": 239,
    "start_time": "2023-12-19T17:01:28.451Z"
   },
   {
    "duration": 16,
    "start_time": "2023-12-19T17:01:28.691Z"
   },
   {
    "duration": 55,
    "start_time": "2023-12-19T17:01:28.715Z"
   },
   {
    "duration": 3,
    "start_time": "2023-12-19T17:01:28.771Z"
   },
   {
    "duration": 3550,
    "start_time": "2023-12-19T17:01:28.775Z"
   },
   {
    "duration": 235,
    "start_time": "2023-12-19T17:01:32.326Z"
   },
   {
    "duration": 236,
    "start_time": "2023-12-19T17:01:32.563Z"
   },
   {
    "duration": 23,
    "start_time": "2023-12-19T17:01:32.801Z"
   },
   {
    "duration": 56,
    "start_time": "2023-12-19T17:01:32.826Z"
   },
   {
    "duration": 3,
    "start_time": "2023-12-19T17:01:32.884Z"
   },
   {
    "duration": 2128,
    "start_time": "2023-12-19T17:01:32.889Z"
   },
   {
    "duration": 236,
    "start_time": "2023-12-19T17:01:35.019Z"
   },
   {
    "duration": 9,
    "start_time": "2023-12-19T17:01:35.256Z"
   },
   {
    "duration": 184,
    "start_time": "2023-12-19T17:01:35.266Z"
   },
   {
    "duration": 443,
    "start_time": "2023-12-19T17:01:35.452Z"
   },
   {
    "duration": 26,
    "start_time": "2023-12-19T17:01:35.897Z"
   },
   {
    "duration": 20,
    "start_time": "2023-12-19T17:01:35.925Z"
   },
   {
    "duration": 17,
    "start_time": "2023-12-19T17:01:35.946Z"
   },
   {
    "duration": 206,
    "start_time": "2023-12-19T17:01:35.964Z"
   },
   {
    "duration": 29,
    "start_time": "2023-12-19T17:01:36.171Z"
   },
   {
    "duration": 41,
    "start_time": "2023-12-19T17:01:36.201Z"
   },
   {
    "duration": 33,
    "start_time": "2023-12-19T17:01:36.244Z"
   },
   {
    "duration": 288,
    "start_time": "2023-12-19T17:01:36.278Z"
   },
   {
    "duration": 18,
    "start_time": "2023-12-19T17:01:36.567Z"
   },
   {
    "duration": 272,
    "start_time": "2023-12-19T17:01:36.589Z"
   },
   {
    "duration": 1413,
    "start_time": "2023-12-19T17:02:52.098Z"
   },
   {
    "duration": 840,
    "start_time": "2023-12-19T17:02:53.513Z"
   },
   {
    "duration": 75,
    "start_time": "2023-12-19T17:02:54.354Z"
   },
   {
    "duration": 1231,
    "start_time": "2023-12-19T17:02:54.430Z"
   },
   {
    "duration": 140,
    "start_time": "2023-12-19T17:02:55.664Z"
   },
   {
    "duration": 123,
    "start_time": "2023-12-19T17:02:55.805Z"
   },
   {
    "duration": 65,
    "start_time": "2023-12-19T17:02:55.930Z"
   },
   {
    "duration": 190,
    "start_time": "2023-12-19T17:02:55.996Z"
   },
   {
    "duration": 359,
    "start_time": "2023-12-19T17:02:56.187Z"
   },
   {
    "duration": 4,
    "start_time": "2023-12-19T17:02:56.548Z"
   },
   {
    "duration": 31,
    "start_time": "2023-12-19T17:02:56.553Z"
   },
   {
    "duration": 202,
    "start_time": "2023-12-19T17:02:56.585Z"
   },
   {
    "duration": 32,
    "start_time": "2023-12-19T17:02:56.789Z"
   },
   {
    "duration": 25,
    "start_time": "2023-12-19T17:02:56.824Z"
   },
   {
    "duration": 15,
    "start_time": "2023-12-19T17:02:56.850Z"
   },
   {
    "duration": 385,
    "start_time": "2023-12-19T17:02:56.866Z"
   },
   {
    "duration": 494,
    "start_time": "2023-12-19T17:02:57.252Z"
   },
   {
    "duration": 14,
    "start_time": "2023-12-19T17:02:57.747Z"
   },
   {
    "duration": 115,
    "start_time": "2023-12-19T17:02:57.814Z"
   },
   {
    "duration": 3,
    "start_time": "2023-12-19T17:02:57.930Z"
   },
   {
    "duration": 3790,
    "start_time": "2023-12-19T17:02:57.934Z"
   },
   {
    "duration": 229,
    "start_time": "2023-12-19T17:03:01.725Z"
   },
   {
    "duration": 245,
    "start_time": "2023-12-19T17:03:01.955Z"
   },
   {
    "duration": 47,
    "start_time": "2023-12-19T17:03:02.201Z"
   },
   {
    "duration": 109,
    "start_time": "2023-12-19T17:03:02.250Z"
   },
   {
    "duration": 3,
    "start_time": "2023-12-19T17:03:02.361Z"
   },
   {
    "duration": 2178,
    "start_time": "2023-12-19T17:03:02.365Z"
   },
   {
    "duration": 248,
    "start_time": "2023-12-19T17:03:04.545Z"
   },
   {
    "duration": 20,
    "start_time": "2023-12-19T17:03:04.796Z"
   },
   {
    "duration": 188,
    "start_time": "2023-12-19T17:03:04.819Z"
   },
   {
    "duration": 409,
    "start_time": "2023-12-19T17:03:05.009Z"
   },
   {
    "duration": 13,
    "start_time": "2023-12-19T17:03:05.419Z"
   },
   {
    "duration": 27,
    "start_time": "2023-12-19T17:03:05.434Z"
   },
   {
    "duration": 18,
    "start_time": "2023-12-19T17:03:05.462Z"
   },
   {
    "duration": 208,
    "start_time": "2023-12-19T17:03:05.481Z"
   },
   {
    "duration": 40,
    "start_time": "2023-12-19T17:03:05.691Z"
   },
   {
    "duration": 32,
    "start_time": "2023-12-19T17:03:05.733Z"
   },
   {
    "duration": 50,
    "start_time": "2023-12-19T17:03:05.767Z"
   },
   {
    "duration": 269,
    "start_time": "2023-12-19T17:03:05.819Z"
   },
   {
    "duration": 27,
    "start_time": "2023-12-19T17:03:06.089Z"
   },
   {
    "duration": 257,
    "start_time": "2023-12-19T17:03:06.120Z"
   },
   {
    "duration": 46,
    "start_time": "2023-12-19T17:06:55.309Z"
   },
   {
    "duration": 1393,
    "start_time": "2023-12-19T17:07:50.209Z"
   },
   {
    "duration": 1511,
    "start_time": "2023-12-19T17:07:51.603Z"
   },
   {
    "duration": 18,
    "start_time": "2023-12-19T17:07:53.116Z"
   },
   {
    "duration": 1206,
    "start_time": "2023-12-19T17:07:53.136Z"
   },
   {
    "duration": 211,
    "start_time": "2023-12-19T17:07:54.344Z"
   },
   {
    "duration": 277,
    "start_time": "2023-12-19T17:07:54.556Z"
   },
   {
    "duration": 113,
    "start_time": "2023-12-19T17:07:54.834Z"
   },
   {
    "duration": 397,
    "start_time": "2023-12-19T17:07:54.949Z"
   },
   {
    "duration": 692,
    "start_time": "2023-12-19T17:07:55.347Z"
   },
   {
    "duration": 4,
    "start_time": "2023-12-19T17:07:56.040Z"
   },
   {
    "duration": 17,
    "start_time": "2023-12-19T17:07:56.045Z"
   },
   {
    "duration": 222,
    "start_time": "2023-12-19T17:07:56.064Z"
   },
   {
    "duration": 28,
    "start_time": "2023-12-19T17:07:56.288Z"
   },
   {
    "duration": 18,
    "start_time": "2023-12-19T17:07:56.319Z"
   },
   {
    "duration": 2,
    "start_time": "2023-12-19T17:07:56.339Z"
   },
   {
    "duration": 193,
    "start_time": "2023-12-19T17:07:56.342Z"
   },
   {
    "duration": 233,
    "start_time": "2023-12-19T17:07:56.536Z"
   },
   {
    "duration": 14,
    "start_time": "2023-12-19T17:07:56.770Z"
   },
   {
    "duration": 74,
    "start_time": "2023-12-19T17:07:56.785Z"
   },
   {
    "duration": 3,
    "start_time": "2023-12-19T17:07:56.860Z"
   },
   {
    "duration": 3505,
    "start_time": "2023-12-19T17:07:56.864Z"
   },
   {
    "duration": 245,
    "start_time": "2023-12-19T17:08:00.370Z"
   },
   {
    "duration": 238,
    "start_time": "2023-12-19T17:08:00.616Z"
   },
   {
    "duration": 16,
    "start_time": "2023-12-19T17:08:00.855Z"
   },
   {
    "duration": 86,
    "start_time": "2023-12-19T17:08:00.872Z"
   },
   {
    "duration": 3,
    "start_time": "2023-12-19T17:08:00.959Z"
   },
   {
    "duration": 2163,
    "start_time": "2023-12-19T17:08:00.964Z"
   },
   {
    "duration": 229,
    "start_time": "2023-12-19T17:08:03.129Z"
   },
   {
    "duration": 9,
    "start_time": "2023-12-19T17:08:03.359Z"
   },
   {
    "duration": 185,
    "start_time": "2023-12-19T17:08:03.369Z"
   },
   {
    "duration": 386,
    "start_time": "2023-12-19T17:08:03.556Z"
   },
   {
    "duration": 11,
    "start_time": "2023-12-19T17:08:03.943Z"
   },
   {
    "duration": 24,
    "start_time": "2023-12-19T17:08:03.956Z"
   },
   {
    "duration": 38,
    "start_time": "2023-12-19T17:08:03.982Z"
   },
   {
    "duration": 193,
    "start_time": "2023-12-19T17:08:04.022Z"
   },
   {
    "duration": 29,
    "start_time": "2023-12-19T17:08:04.217Z"
   },
   {
    "duration": 22,
    "start_time": "2023-12-19T17:08:04.247Z"
   },
   {
    "duration": 54,
    "start_time": "2023-12-19T17:08:04.271Z"
   },
   {
    "duration": 19,
    "start_time": "2023-12-19T17:08:04.327Z"
   },
   {
    "duration": 72,
    "start_time": "2023-12-19T17:08:04.347Z"
   },
   {
    "duration": 335,
    "start_time": "2023-12-19T17:08:04.423Z"
   },
   {
    "duration": 21,
    "start_time": "2023-12-19T17:08:04.760Z"
   },
   {
    "duration": 268,
    "start_time": "2023-12-19T17:08:04.782Z"
   },
   {
    "duration": 75,
    "start_time": "2023-12-19T17:08:05.053Z"
   },
   {
    "duration": 72,
    "start_time": "2023-12-19T17:08:05.130Z"
   },
   {
    "duration": 13,
    "start_time": "2023-12-19T17:09:58.068Z"
   },
   {
    "duration": 44,
    "start_time": "2023-12-19T17:10:18.850Z"
   },
   {
    "duration": 106,
    "start_time": "2023-12-19T17:55:30.364Z"
   },
   {
    "duration": 1428,
    "start_time": "2023-12-19T17:55:37.839Z"
   },
   {
    "duration": 1288,
    "start_time": "2023-12-19T17:55:39.269Z"
   },
   {
    "duration": 72,
    "start_time": "2023-12-19T17:55:40.558Z"
   },
   {
    "duration": 1284,
    "start_time": "2023-12-19T17:55:40.631Z"
   },
   {
    "duration": 140,
    "start_time": "2023-12-19T17:55:41.917Z"
   },
   {
    "duration": 269,
    "start_time": "2023-12-19T17:55:42.059Z"
   },
   {
    "duration": 89,
    "start_time": "2023-12-19T17:55:42.329Z"
   },
   {
    "duration": 239,
    "start_time": "2023-12-19T17:55:42.419Z"
   },
   {
    "duration": 407,
    "start_time": "2023-12-19T17:55:42.660Z"
   },
   {
    "duration": 4,
    "start_time": "2023-12-19T17:55:43.069Z"
   },
   {
    "duration": 11,
    "start_time": "2023-12-19T17:55:43.075Z"
   },
   {
    "duration": 237,
    "start_time": "2023-12-19T17:55:43.088Z"
   },
   {
    "duration": 21,
    "start_time": "2023-12-19T17:55:43.327Z"
   },
   {
    "duration": 34,
    "start_time": "2023-12-19T17:55:43.351Z"
   },
   {
    "duration": 3,
    "start_time": "2023-12-19T17:55:43.387Z"
   },
   {
    "duration": 198,
    "start_time": "2023-12-19T17:55:43.391Z"
   },
   {
    "duration": 267,
    "start_time": "2023-12-19T17:55:43.590Z"
   },
   {
    "duration": 15,
    "start_time": "2023-12-19T17:55:43.858Z"
   },
   {
    "duration": 66,
    "start_time": "2023-12-19T17:55:43.874Z"
   },
   {
    "duration": 3,
    "start_time": "2023-12-19T17:55:43.942Z"
   },
   {
    "duration": 3680,
    "start_time": "2023-12-19T17:55:43.946Z"
   },
   {
    "duration": 234,
    "start_time": "2023-12-19T17:55:47.627Z"
   },
   {
    "duration": 253,
    "start_time": "2023-12-19T17:55:47.862Z"
   },
   {
    "duration": 20,
    "start_time": "2023-12-19T17:55:48.118Z"
   },
   {
    "duration": 106,
    "start_time": "2023-12-19T17:55:48.140Z"
   },
   {
    "duration": 4,
    "start_time": "2023-12-19T17:55:48.248Z"
   },
   {
    "duration": 2217,
    "start_time": "2023-12-19T17:55:48.254Z"
   },
   {
    "duration": 229,
    "start_time": "2023-12-19T17:55:50.472Z"
   },
   {
    "duration": 12,
    "start_time": "2023-12-19T17:55:50.703Z"
   },
   {
    "duration": 187,
    "start_time": "2023-12-19T17:55:50.717Z"
   },
   {
    "duration": 391,
    "start_time": "2023-12-19T17:55:50.906Z"
   },
   {
    "duration": 19,
    "start_time": "2023-12-19T17:55:51.299Z"
   },
   {
    "duration": 22,
    "start_time": "2023-12-19T17:55:51.320Z"
   },
   {
    "duration": 17,
    "start_time": "2023-12-19T17:55:51.343Z"
   },
   {
    "duration": 198,
    "start_time": "2023-12-19T17:55:51.361Z"
   },
   {
    "duration": 29,
    "start_time": "2023-12-19T17:55:51.560Z"
   },
   {
    "duration": 43,
    "start_time": "2023-12-19T17:55:51.591Z"
   },
   {
    "duration": 64,
    "start_time": "2023-12-19T17:55:51.636Z"
   },
   {
    "duration": 253,
    "start_time": "2023-12-19T17:55:51.701Z"
   },
   {
    "duration": 18,
    "start_time": "2023-12-19T17:55:51.955Z"
   },
   {
    "duration": 248,
    "start_time": "2023-12-19T17:55:51.977Z"
   },
   {
    "duration": 64,
    "start_time": "2023-12-19T17:55:52.226Z"
   },
   {
    "duration": 61,
    "start_time": "2023-12-19T17:55:52.291Z"
   },
   {
    "duration": 3,
    "start_time": "2023-12-19T17:55:52.354Z"
   },
   {
    "duration": 118,
    "start_time": "2023-12-19T17:55:52.358Z"
   },
   {
    "duration": 0,
    "start_time": "2023-12-19T17:55:52.478Z"
   },
   {
    "duration": 0,
    "start_time": "2023-12-19T17:55:52.479Z"
   },
   {
    "duration": 0,
    "start_time": "2023-12-19T17:55:52.480Z"
   },
   {
    "duration": 0,
    "start_time": "2023-12-19T17:55:52.482Z"
   },
   {
    "duration": 0,
    "start_time": "2023-12-19T17:55:52.482Z"
   },
   {
    "duration": 1388,
    "start_time": "2023-12-19T17:58:08.001Z"
   },
   {
    "duration": 836,
    "start_time": "2023-12-19T17:58:09.391Z"
   },
   {
    "duration": 18,
    "start_time": "2023-12-19T17:58:10.229Z"
   },
   {
    "duration": 618,
    "start_time": "2023-12-19T17:58:10.250Z"
   },
   {
    "duration": 96,
    "start_time": "2023-12-19T17:58:10.870Z"
   },
   {
    "duration": 130,
    "start_time": "2023-12-19T17:58:10.968Z"
   },
   {
    "duration": 63,
    "start_time": "2023-12-19T17:58:11.099Z"
   },
   {
    "duration": 194,
    "start_time": "2023-12-19T17:58:11.164Z"
   },
   {
    "duration": 354,
    "start_time": "2023-12-19T17:58:11.360Z"
   },
   {
    "duration": 4,
    "start_time": "2023-12-19T17:58:11.717Z"
   },
   {
    "duration": 5,
    "start_time": "2023-12-19T17:58:11.722Z"
   },
   {
    "duration": 211,
    "start_time": "2023-12-19T17:58:11.729Z"
   },
   {
    "duration": 23,
    "start_time": "2023-12-19T17:58:11.941Z"
   },
   {
    "duration": 25,
    "start_time": "2023-12-19T17:58:11.965Z"
   },
   {
    "duration": 3,
    "start_time": "2023-12-19T17:58:11.991Z"
   },
   {
    "duration": 193,
    "start_time": "2023-12-19T17:58:11.995Z"
   },
   {
    "duration": 231,
    "start_time": "2023-12-19T17:58:12.189Z"
   },
   {
    "duration": 15,
    "start_time": "2023-12-19T17:58:12.422Z"
   },
   {
    "duration": 88,
    "start_time": "2023-12-19T17:58:12.438Z"
   },
   {
    "duration": 4,
    "start_time": "2023-12-19T17:58:12.527Z"
   },
   {
    "duration": 3538,
    "start_time": "2023-12-19T17:58:12.532Z"
   },
   {
    "duration": 232,
    "start_time": "2023-12-19T17:58:16.072Z"
   },
   {
    "duration": 227,
    "start_time": "2023-12-19T17:58:16.314Z"
   },
   {
    "duration": 15,
    "start_time": "2023-12-19T17:58:16.542Z"
   },
   {
    "duration": 98,
    "start_time": "2023-12-19T17:58:16.558Z"
   },
   {
    "duration": 3,
    "start_time": "2023-12-19T17:58:16.658Z"
   },
   {
    "duration": 2121,
    "start_time": "2023-12-19T17:58:16.663Z"
   },
   {
    "duration": 233,
    "start_time": "2023-12-19T17:58:18.787Z"
   },
   {
    "duration": 8,
    "start_time": "2023-12-19T17:58:19.022Z"
   },
   {
    "duration": 184,
    "start_time": "2023-12-19T17:58:19.031Z"
   },
   {
    "duration": 404,
    "start_time": "2023-12-19T17:58:19.217Z"
   },
   {
    "duration": 12,
    "start_time": "2023-12-19T17:58:19.622Z"
   },
   {
    "duration": 29,
    "start_time": "2023-12-19T17:58:19.636Z"
   },
   {
    "duration": 17,
    "start_time": "2023-12-19T17:58:19.667Z"
   },
   {
    "duration": 205,
    "start_time": "2023-12-19T17:58:19.686Z"
   },
   {
    "duration": 33,
    "start_time": "2023-12-19T17:58:19.898Z"
   },
   {
    "duration": 28,
    "start_time": "2023-12-19T17:58:19.932Z"
   },
   {
    "duration": 31,
    "start_time": "2023-12-19T17:58:19.961Z"
   },
   {
    "duration": 274,
    "start_time": "2023-12-19T17:58:19.993Z"
   },
   {
    "duration": 18,
    "start_time": "2023-12-19T17:58:20.268Z"
   },
   {
    "duration": 250,
    "start_time": "2023-12-19T17:58:20.288Z"
   },
   {
    "duration": 59,
    "start_time": "2023-12-19T17:58:20.539Z"
   },
   {
    "duration": 44,
    "start_time": "2023-12-19T17:58:20.614Z"
   },
   {
    "duration": 2,
    "start_time": "2023-12-19T17:58:20.660Z"
   },
   {
    "duration": 25,
    "start_time": "2023-12-19T17:58:20.664Z"
   },
   {
    "duration": 124,
    "start_time": "2023-12-19T17:58:20.691Z"
   },
   {
    "duration": 0,
    "start_time": "2023-12-19T17:58:20.816Z"
   },
   {
    "duration": 0,
    "start_time": "2023-12-19T17:58:20.817Z"
   },
   {
    "duration": 0,
    "start_time": "2023-12-19T17:58:20.819Z"
   },
   {
    "duration": 0,
    "start_time": "2023-12-19T17:58:20.820Z"
   },
   {
    "duration": 0,
    "start_time": "2023-12-19T17:58:20.820Z"
   },
   {
    "duration": 1387,
    "start_time": "2023-12-19T17:58:46.077Z"
   },
   {
    "duration": 844,
    "start_time": "2023-12-19T17:58:47.466Z"
   },
   {
    "duration": 19,
    "start_time": "2023-12-19T17:58:48.311Z"
   },
   {
    "duration": 597,
    "start_time": "2023-12-19T17:58:48.331Z"
   },
   {
    "duration": 86,
    "start_time": "2023-12-19T17:58:48.930Z"
   },
   {
    "duration": 113,
    "start_time": "2023-12-19T17:58:49.018Z"
   },
   {
    "duration": 52,
    "start_time": "2023-12-19T17:58:49.133Z"
   },
   {
    "duration": 206,
    "start_time": "2023-12-19T17:58:49.187Z"
   },
   {
    "duration": 397,
    "start_time": "2023-12-19T17:58:49.395Z"
   },
   {
    "duration": 4,
    "start_time": "2023-12-19T17:58:49.794Z"
   },
   {
    "duration": 7,
    "start_time": "2023-12-19T17:58:49.799Z"
   },
   {
    "duration": 200,
    "start_time": "2023-12-19T17:58:49.815Z"
   },
   {
    "duration": 23,
    "start_time": "2023-12-19T17:58:50.017Z"
   },
   {
    "duration": 21,
    "start_time": "2023-12-19T17:58:50.043Z"
   },
   {
    "duration": 3,
    "start_time": "2023-12-19T17:58:50.065Z"
   },
   {
    "duration": 189,
    "start_time": "2023-12-19T17:58:50.069Z"
   },
   {
    "duration": 254,
    "start_time": "2023-12-19T17:58:50.260Z"
   },
   {
    "duration": 15,
    "start_time": "2023-12-19T17:58:50.516Z"
   },
   {
    "duration": 74,
    "start_time": "2023-12-19T17:58:50.532Z"
   },
   {
    "duration": 8,
    "start_time": "2023-12-19T17:58:50.607Z"
   },
   {
    "duration": 3495,
    "start_time": "2023-12-19T17:58:50.616Z"
   },
   {
    "duration": 230,
    "start_time": "2023-12-19T17:58:54.114Z"
   },
   {
    "duration": 226,
    "start_time": "2023-12-19T17:58:54.346Z"
   },
   {
    "duration": 15,
    "start_time": "2023-12-19T17:58:54.574Z"
   },
   {
    "duration": 67,
    "start_time": "2023-12-19T17:58:54.590Z"
   },
   {
    "duration": 3,
    "start_time": "2023-12-19T17:58:54.658Z"
   },
   {
    "duration": 2165,
    "start_time": "2023-12-19T17:58:54.662Z"
   },
   {
    "duration": 230,
    "start_time": "2023-12-19T17:58:56.828Z"
   },
   {
    "duration": 9,
    "start_time": "2023-12-19T17:58:57.059Z"
   },
   {
    "duration": 189,
    "start_time": "2023-12-19T17:58:57.069Z"
   },
   {
    "duration": 394,
    "start_time": "2023-12-19T17:58:57.259Z"
   },
   {
    "duration": 12,
    "start_time": "2023-12-19T17:58:57.655Z"
   },
   {
    "duration": 37,
    "start_time": "2023-12-19T17:58:57.669Z"
   },
   {
    "duration": 19,
    "start_time": "2023-12-19T17:58:57.707Z"
   },
   {
    "duration": 215,
    "start_time": "2023-12-19T17:58:57.727Z"
   },
   {
    "duration": 29,
    "start_time": "2023-12-19T17:58:57.943Z"
   },
   {
    "duration": 44,
    "start_time": "2023-12-19T17:58:57.973Z"
   },
   {
    "duration": 27,
    "start_time": "2023-12-19T17:58:58.019Z"
   },
   {
    "duration": 305,
    "start_time": "2023-12-19T17:58:58.047Z"
   },
   {
    "duration": 20,
    "start_time": "2023-12-19T17:58:58.353Z"
   },
   {
    "duration": 265,
    "start_time": "2023-12-19T17:58:58.378Z"
   },
   {
    "duration": 76,
    "start_time": "2023-12-19T17:58:58.645Z"
   },
   {
    "duration": 44,
    "start_time": "2023-12-19T17:58:58.722Z"
   },
   {
    "duration": 3,
    "start_time": "2023-12-19T17:58:58.767Z"
   },
   {
    "duration": 20,
    "start_time": "2023-12-19T17:58:58.771Z"
   },
   {
    "duration": 3,
    "start_time": "2023-12-19T17:58:58.793Z"
   },
   {
    "duration": 5,
    "start_time": "2023-12-19T17:58:58.814Z"
   },
   {
    "duration": 61,
    "start_time": "2023-12-19T17:58:58.821Z"
   },
   {
    "duration": 72,
    "start_time": "2023-12-19T17:58:58.884Z"
   },
   {
    "duration": 1298,
    "start_time": "2023-12-19T17:58:58.958Z"
   },
   {
    "duration": 0,
    "start_time": "2023-12-19T17:59:00.258Z"
   },
   {
    "duration": 1337,
    "start_time": "2023-12-19T18:00:41.145Z"
   },
   {
    "duration": 847,
    "start_time": "2023-12-19T18:00:42.484Z"
   },
   {
    "duration": 17,
    "start_time": "2023-12-19T18:00:43.333Z"
   },
   {
    "duration": 632,
    "start_time": "2023-12-19T18:00:43.352Z"
   },
   {
    "duration": 108,
    "start_time": "2023-12-19T18:00:43.986Z"
   },
   {
    "duration": 122,
    "start_time": "2023-12-19T18:00:44.095Z"
   },
   {
    "duration": 54,
    "start_time": "2023-12-19T18:00:44.219Z"
   },
   {
    "duration": 202,
    "start_time": "2023-12-19T18:00:44.278Z"
   },
   {
    "duration": 402,
    "start_time": "2023-12-19T18:00:44.481Z"
   },
   {
    "duration": 4,
    "start_time": "2023-12-19T18:00:44.885Z"
   },
   {
    "duration": 6,
    "start_time": "2023-12-19T18:00:44.890Z"
   },
   {
    "duration": 217,
    "start_time": "2023-12-19T18:00:44.898Z"
   },
   {
    "duration": 21,
    "start_time": "2023-12-19T18:00:45.116Z"
   },
   {
    "duration": 18,
    "start_time": "2023-12-19T18:00:45.140Z"
   },
   {
    "duration": 2,
    "start_time": "2023-12-19T18:00:45.160Z"
   },
   {
    "duration": 201,
    "start_time": "2023-12-19T18:00:45.163Z"
   },
   {
    "duration": 236,
    "start_time": "2023-12-19T18:00:45.366Z"
   },
   {
    "duration": 19,
    "start_time": "2023-12-19T18:00:45.604Z"
   },
   {
    "duration": 56,
    "start_time": "2023-12-19T18:00:45.624Z"
   },
   {
    "duration": 3,
    "start_time": "2023-12-19T18:00:45.681Z"
   },
   {
    "duration": 3617,
    "start_time": "2023-12-19T18:00:45.686Z"
   },
   {
    "duration": 237,
    "start_time": "2023-12-19T18:00:49.305Z"
   },
   {
    "duration": 247,
    "start_time": "2023-12-19T18:00:49.544Z"
   },
   {
    "duration": 21,
    "start_time": "2023-12-19T18:00:49.793Z"
   },
   {
    "duration": 63,
    "start_time": "2023-12-19T18:00:49.816Z"
   },
   {
    "duration": 3,
    "start_time": "2023-12-19T18:00:49.881Z"
   },
   {
    "duration": 2184,
    "start_time": "2023-12-19T18:00:49.886Z"
   },
   {
    "duration": 237,
    "start_time": "2023-12-19T18:00:52.071Z"
   },
   {
    "duration": 8,
    "start_time": "2023-12-19T18:00:52.310Z"
   },
   {
    "duration": 178,
    "start_time": "2023-12-19T18:00:52.319Z"
   },
   {
    "duration": 413,
    "start_time": "2023-12-19T18:00:52.499Z"
   },
   {
    "duration": 10,
    "start_time": "2023-12-19T18:00:52.914Z"
   },
   {
    "duration": 22,
    "start_time": "2023-12-19T18:00:52.926Z"
   },
   {
    "duration": 17,
    "start_time": "2023-12-19T18:00:52.950Z"
   },
   {
    "duration": 198,
    "start_time": "2023-12-19T18:00:52.968Z"
   },
   {
    "duration": 28,
    "start_time": "2023-12-19T18:00:53.167Z"
   },
   {
    "duration": 45,
    "start_time": "2023-12-19T18:00:53.197Z"
   },
   {
    "duration": 35,
    "start_time": "2023-12-19T18:00:53.243Z"
   },
   {
    "duration": 256,
    "start_time": "2023-12-19T18:00:53.279Z"
   },
   {
    "duration": 19,
    "start_time": "2023-12-19T18:00:53.536Z"
   },
   {
    "duration": 264,
    "start_time": "2023-12-19T18:00:53.559Z"
   },
   {
    "duration": 61,
    "start_time": "2023-12-19T18:00:53.825Z"
   },
   {
    "duration": 61,
    "start_time": "2023-12-19T18:00:53.888Z"
   },
   {
    "duration": 3,
    "start_time": "2023-12-19T18:00:53.950Z"
   },
   {
    "duration": 27,
    "start_time": "2023-12-19T18:00:53.955Z"
   },
   {
    "duration": 4,
    "start_time": "2023-12-19T18:00:53.983Z"
   },
   {
    "duration": 13,
    "start_time": "2023-12-19T18:00:53.988Z"
   },
   {
    "duration": 7,
    "start_time": "2023-12-19T18:00:54.002Z"
   },
   {
    "duration": 13,
    "start_time": "2023-12-19T18:00:54.010Z"
   },
   {
    "duration": 1412,
    "start_time": "2023-12-19T18:00:54.025Z"
   },
   {
    "duration": 0,
    "start_time": "2023-12-19T18:00:55.439Z"
   },
   {
    "duration": 2,
    "start_time": "2023-12-19T18:08:53.345Z"
   },
   {
    "duration": 12,
    "start_time": "2023-12-19T18:08:53.546Z"
   },
   {
    "duration": 3,
    "start_time": "2023-12-19T18:08:53.751Z"
   },
   {
    "duration": 3,
    "start_time": "2023-12-19T18:08:53.936Z"
   },
   {
    "duration": 3,
    "start_time": "2023-12-19T18:08:54.112Z"
   },
   {
    "duration": 2,
    "start_time": "2023-12-19T18:08:54.297Z"
   },
   {
    "duration": 130,
    "start_time": "2023-12-19T18:08:54.490Z"
   },
   {
    "duration": 1385,
    "start_time": "2023-12-19T18:10:57.824Z"
   },
   {
    "duration": 838,
    "start_time": "2023-12-19T18:10:59.210Z"
   },
   {
    "duration": 19,
    "start_time": "2023-12-19T18:11:00.049Z"
   },
   {
    "duration": 641,
    "start_time": "2023-12-19T18:11:00.070Z"
   },
   {
    "duration": 84,
    "start_time": "2023-12-19T18:11:00.714Z"
   },
   {
    "duration": 128,
    "start_time": "2023-12-19T18:11:00.800Z"
   },
   {
    "duration": 55,
    "start_time": "2023-12-19T18:11:00.930Z"
   },
   {
    "duration": 204,
    "start_time": "2023-12-19T18:11:00.986Z"
   },
   {
    "duration": 392,
    "start_time": "2023-12-19T18:11:01.191Z"
   },
   {
    "duration": 3,
    "start_time": "2023-12-19T18:11:01.585Z"
   },
   {
    "duration": 154,
    "start_time": "2023-12-19T18:11:01.590Z"
   },
   {
    "duration": 288,
    "start_time": "2023-12-19T18:11:01.745Z"
   },
   {
    "duration": 22,
    "start_time": "2023-12-19T18:11:02.034Z"
   },
   {
    "duration": 43,
    "start_time": "2023-12-19T18:11:02.059Z"
   },
   {
    "duration": 48,
    "start_time": "2023-12-19T18:11:02.104Z"
   },
   {
    "duration": 229,
    "start_time": "2023-12-19T18:11:02.153Z"
   },
   {
    "duration": 243,
    "start_time": "2023-12-19T18:11:02.383Z"
   },
   {
    "duration": 17,
    "start_time": "2023-12-19T18:11:02.627Z"
   },
   {
    "duration": 76,
    "start_time": "2023-12-19T18:11:02.645Z"
   },
   {
    "duration": 3,
    "start_time": "2023-12-19T18:11:02.722Z"
   },
   {
    "duration": 3459,
    "start_time": "2023-12-19T18:11:02.727Z"
   },
   {
    "duration": 231,
    "start_time": "2023-12-19T18:11:06.188Z"
   },
   {
    "duration": 228,
    "start_time": "2023-12-19T18:11:06.421Z"
   },
   {
    "duration": 15,
    "start_time": "2023-12-19T18:11:06.650Z"
   },
   {
    "duration": 78,
    "start_time": "2023-12-19T18:11:06.667Z"
   },
   {
    "duration": 4,
    "start_time": "2023-12-19T18:11:06.746Z"
   },
   {
    "duration": 2134,
    "start_time": "2023-12-19T18:11:06.752Z"
   },
   {
    "duration": 233,
    "start_time": "2023-12-19T18:11:08.887Z"
   },
   {
    "duration": 9,
    "start_time": "2023-12-19T18:11:09.122Z"
   },
   {
    "duration": 187,
    "start_time": "2023-12-19T18:11:09.133Z"
   },
   {
    "duration": 400,
    "start_time": "2023-12-19T18:11:09.322Z"
   },
   {
    "duration": 11,
    "start_time": "2023-12-19T18:11:09.724Z"
   },
   {
    "duration": 32,
    "start_time": "2023-12-19T18:11:09.736Z"
   },
   {
    "duration": 19,
    "start_time": "2023-12-19T18:11:09.769Z"
   },
   {
    "duration": 202,
    "start_time": "2023-12-19T18:11:09.789Z"
   },
   {
    "duration": 36,
    "start_time": "2023-12-19T18:11:09.993Z"
   },
   {
    "duration": 27,
    "start_time": "2023-12-19T18:11:10.030Z"
   },
   {
    "duration": 28,
    "start_time": "2023-12-19T18:11:10.058Z"
   },
   {
    "duration": 265,
    "start_time": "2023-12-19T18:11:10.088Z"
   },
   {
    "duration": 18,
    "start_time": "2023-12-19T18:11:10.354Z"
   },
   {
    "duration": 255,
    "start_time": "2023-12-19T18:11:10.376Z"
   },
   {
    "duration": 83,
    "start_time": "2023-12-19T18:11:10.632Z"
   },
   {
    "duration": 44,
    "start_time": "2023-12-19T18:11:10.716Z"
   },
   {
    "duration": 11,
    "start_time": "2023-12-19T18:11:10.761Z"
   },
   {
    "duration": 4,
    "start_time": "2023-12-19T18:11:10.773Z"
   },
   {
    "duration": 10,
    "start_time": "2023-12-19T18:11:10.778Z"
   },
   {
    "duration": 3,
    "start_time": "2023-12-19T18:11:10.790Z"
   },
   {
    "duration": 4,
    "start_time": "2023-12-19T18:11:10.819Z"
   },
   {
    "duration": 5,
    "start_time": "2023-12-19T18:11:10.825Z"
   },
   {
    "duration": 15,
    "start_time": "2023-12-19T18:11:10.831Z"
   },
   {
    "duration": 1372,
    "start_time": "2023-12-19T18:11:10.848Z"
   },
   {
    "duration": 0,
    "start_time": "2023-12-19T18:11:12.222Z"
   },
   {
    "duration": 1328,
    "start_time": "2023-12-19T18:15:24.259Z"
   },
   {
    "duration": 833,
    "start_time": "2023-12-19T18:15:25.589Z"
   },
   {
    "duration": 18,
    "start_time": "2023-12-19T18:15:26.423Z"
   },
   {
    "duration": 626,
    "start_time": "2023-12-19T18:15:26.442Z"
   },
   {
    "duration": 98,
    "start_time": "2023-12-19T18:15:27.069Z"
   },
   {
    "duration": 123,
    "start_time": "2023-12-19T18:15:27.168Z"
   },
   {
    "duration": 59,
    "start_time": "2023-12-19T18:15:27.292Z"
   },
   {
    "duration": 195,
    "start_time": "2023-12-19T18:15:27.353Z"
   },
   {
    "duration": 404,
    "start_time": "2023-12-19T18:15:27.550Z"
   },
   {
    "duration": 4,
    "start_time": "2023-12-19T18:15:27.955Z"
   },
   {
    "duration": 18,
    "start_time": "2023-12-19T18:15:27.960Z"
   },
   {
    "duration": 238,
    "start_time": "2023-12-19T18:15:27.979Z"
   },
   {
    "duration": 21,
    "start_time": "2023-12-19T18:15:28.219Z"
   },
   {
    "duration": 20,
    "start_time": "2023-12-19T18:15:28.241Z"
   },
   {
    "duration": 3,
    "start_time": "2023-12-19T18:15:28.262Z"
   },
   {
    "duration": 207,
    "start_time": "2023-12-19T18:15:28.266Z"
   },
   {
    "duration": 248,
    "start_time": "2023-12-19T18:15:28.475Z"
   },
   {
    "duration": 15,
    "start_time": "2023-12-19T18:15:28.725Z"
   },
   {
    "duration": 76,
    "start_time": "2023-12-19T18:15:28.741Z"
   },
   {
    "duration": 3,
    "start_time": "2023-12-19T18:15:28.818Z"
   },
   {
    "duration": 3510,
    "start_time": "2023-12-19T18:15:28.823Z"
   },
   {
    "duration": 240,
    "start_time": "2023-12-19T18:15:32.335Z"
   },
   {
    "duration": 226,
    "start_time": "2023-12-19T18:15:32.577Z"
   },
   {
    "duration": 23,
    "start_time": "2023-12-19T18:15:32.805Z"
   },
   {
    "duration": 86,
    "start_time": "2023-12-19T18:15:32.830Z"
   },
   {
    "duration": 3,
    "start_time": "2023-12-19T18:15:32.918Z"
   },
   {
    "duration": 2138,
    "start_time": "2023-12-19T18:15:32.924Z"
   },
   {
    "duration": 239,
    "start_time": "2023-12-19T18:15:35.063Z"
   },
   {
    "duration": 13,
    "start_time": "2023-12-19T18:15:35.303Z"
   },
   {
    "duration": 181,
    "start_time": "2023-12-19T18:15:35.317Z"
   },
   {
    "duration": 430,
    "start_time": "2023-12-19T18:15:35.500Z"
   },
   {
    "duration": 11,
    "start_time": "2023-12-19T18:15:35.931Z"
   },
   {
    "duration": 24,
    "start_time": "2023-12-19T18:15:35.944Z"
   },
   {
    "duration": 18,
    "start_time": "2023-12-19T18:15:35.969Z"
   },
   {
    "duration": 241,
    "start_time": "2023-12-19T18:15:35.989Z"
   },
   {
    "duration": 30,
    "start_time": "2023-12-19T18:15:36.231Z"
   },
   {
    "duration": 52,
    "start_time": "2023-12-19T18:15:36.263Z"
   },
   {
    "duration": 42,
    "start_time": "2023-12-19T18:15:36.317Z"
   },
   {
    "duration": 265,
    "start_time": "2023-12-19T18:15:36.361Z"
   },
   {
    "duration": 18,
    "start_time": "2023-12-19T18:15:36.628Z"
   },
   {
    "duration": 268,
    "start_time": "2023-12-19T18:15:36.647Z"
   },
   {
    "duration": 62,
    "start_time": "2023-12-19T18:15:36.916Z"
   },
   {
    "duration": 61,
    "start_time": "2023-12-19T18:15:36.980Z"
   },
   {
    "duration": 4,
    "start_time": "2023-12-19T18:15:37.043Z"
   },
   {
    "duration": 16,
    "start_time": "2023-12-19T18:15:37.048Z"
   },
   {
    "duration": 4,
    "start_time": "2023-12-19T18:15:37.066Z"
   },
   {
    "duration": 5,
    "start_time": "2023-12-19T18:15:37.071Z"
   },
   {
    "duration": 7,
    "start_time": "2023-12-19T18:15:37.077Z"
   },
   {
    "duration": 5,
    "start_time": "2023-12-19T18:15:37.086Z"
   },
   {
    "duration": 5224,
    "start_time": "2023-12-19T18:15:37.114Z"
   },
   {
    "duration": 0,
    "start_time": "2023-12-19T18:15:42.339Z"
   },
   {
    "duration": 10,
    "start_time": "2023-12-19T18:31:17.501Z"
   },
   {
    "duration": 1455,
    "start_time": "2023-12-19T18:31:24.950Z"
   },
   {
    "duration": 845,
    "start_time": "2023-12-19T18:31:26.406Z"
   },
   {
    "duration": 21,
    "start_time": "2023-12-19T18:31:27.253Z"
   },
   {
    "duration": 638,
    "start_time": "2023-12-19T18:31:27.277Z"
   },
   {
    "duration": 97,
    "start_time": "2023-12-19T18:31:27.918Z"
   },
   {
    "duration": 135,
    "start_time": "2023-12-19T18:31:28.017Z"
   },
   {
    "duration": 67,
    "start_time": "2023-12-19T18:31:28.154Z"
   },
   {
    "duration": 211,
    "start_time": "2023-12-19T18:31:28.223Z"
   },
   {
    "duration": 390,
    "start_time": "2023-12-19T18:31:28.436Z"
   },
   {
    "duration": 6,
    "start_time": "2023-12-19T18:31:28.828Z"
   },
   {
    "duration": 18,
    "start_time": "2023-12-19T18:31:28.836Z"
   },
   {
    "duration": 210,
    "start_time": "2023-12-19T18:31:28.855Z"
   },
   {
    "duration": 21,
    "start_time": "2023-12-19T18:31:29.067Z"
   },
   {
    "duration": 32,
    "start_time": "2023-12-19T18:31:29.091Z"
   },
   {
    "duration": 3,
    "start_time": "2023-12-19T18:31:29.124Z"
   },
   {
    "duration": 202,
    "start_time": "2023-12-19T18:31:29.128Z"
   },
   {
    "duration": 241,
    "start_time": "2023-12-19T18:31:29.332Z"
   },
   {
    "duration": 16,
    "start_time": "2023-12-19T18:31:29.574Z"
   },
   {
    "duration": 67,
    "start_time": "2023-12-19T18:31:29.591Z"
   },
   {
    "duration": 3,
    "start_time": "2023-12-19T18:31:29.659Z"
   },
   {
    "duration": 3502,
    "start_time": "2023-12-19T18:31:29.664Z"
   },
   {
    "duration": 233,
    "start_time": "2023-12-19T18:31:33.167Z"
   },
   {
    "duration": 239,
    "start_time": "2023-12-19T18:31:33.401Z"
   },
   {
    "duration": 15,
    "start_time": "2023-12-19T18:31:33.642Z"
   },
   {
    "duration": 82,
    "start_time": "2023-12-19T18:31:33.659Z"
   },
   {
    "duration": 3,
    "start_time": "2023-12-19T18:31:33.743Z"
   },
   {
    "duration": 2186,
    "start_time": "2023-12-19T18:31:33.748Z"
   },
   {
    "duration": 238,
    "start_time": "2023-12-19T18:31:35.936Z"
   },
   {
    "duration": 9,
    "start_time": "2023-12-19T18:31:36.175Z"
   },
   {
    "duration": 188,
    "start_time": "2023-12-19T18:31:36.186Z"
   },
   {
    "duration": 416,
    "start_time": "2023-12-19T18:31:36.375Z"
   },
   {
    "duration": 13,
    "start_time": "2023-12-19T18:31:36.793Z"
   },
   {
    "duration": 36,
    "start_time": "2023-12-19T18:31:36.807Z"
   },
   {
    "duration": 23,
    "start_time": "2023-12-19T18:31:36.845Z"
   },
   {
    "duration": 210,
    "start_time": "2023-12-19T18:31:36.870Z"
   },
   {
    "duration": 49,
    "start_time": "2023-12-19T18:31:37.082Z"
   },
   {
    "duration": 22,
    "start_time": "2023-12-19T18:31:37.133Z"
   },
   {
    "duration": 37,
    "start_time": "2023-12-19T18:31:37.157Z"
   },
   {
    "duration": 37,
    "start_time": "2023-12-19T18:31:37.196Z"
   },
   {
    "duration": 49,
    "start_time": "2023-12-19T18:31:37.235Z"
   },
   {
    "duration": 273,
    "start_time": "2023-12-19T18:31:37.288Z"
   },
   {
    "duration": 20,
    "start_time": "2023-12-19T18:31:37.563Z"
   },
   {
    "duration": 260,
    "start_time": "2023-12-19T18:31:37.584Z"
   },
   {
    "duration": 71,
    "start_time": "2023-12-19T18:31:37.846Z"
   },
   {
    "duration": 57,
    "start_time": "2023-12-19T18:31:37.918Z"
   },
   {
    "duration": 12,
    "start_time": "2023-12-19T18:31:37.977Z"
   },
   {
    "duration": 24,
    "start_time": "2023-12-19T18:31:37.991Z"
   },
   {
    "duration": 384,
    "start_time": "2023-12-19T18:31:38.016Z"
   },
   {
    "duration": 0,
    "start_time": "2023-12-19T18:31:38.402Z"
   },
   {
    "duration": 0,
    "start_time": "2023-12-19T18:31:38.403Z"
   },
   {
    "duration": 572,
    "start_time": "2023-12-19T18:32:07.610Z"
   },
   {
    "duration": 311,
    "start_time": "2023-12-19T18:32:08.342Z"
   },
   {
    "duration": 8,
    "start_time": "2023-12-19T18:32:11.952Z"
   },
   {
    "duration": 172,
    "start_time": "2023-12-19T18:32:23.544Z"
   },
   {
    "duration": 166,
    "start_time": "2023-12-19T18:32:35.173Z"
   },
   {
    "duration": 164,
    "start_time": "2023-12-19T18:32:58.907Z"
   },
   {
    "duration": 1366,
    "start_time": "2023-12-19T18:34:10.509Z"
   },
   {
    "duration": 822,
    "start_time": "2023-12-19T18:34:11.877Z"
   },
   {
    "duration": 22,
    "start_time": "2023-12-19T18:34:12.701Z"
   },
   {
    "duration": 625,
    "start_time": "2023-12-19T18:34:12.724Z"
   },
   {
    "duration": 92,
    "start_time": "2023-12-19T18:34:13.351Z"
   },
   {
    "duration": 125,
    "start_time": "2023-12-19T18:34:13.444Z"
   },
   {
    "duration": 60,
    "start_time": "2023-12-19T18:34:13.571Z"
   },
   {
    "duration": 205,
    "start_time": "2023-12-19T18:34:13.633Z"
   },
   {
    "duration": 391,
    "start_time": "2023-12-19T18:34:13.840Z"
   },
   {
    "duration": 4,
    "start_time": "2023-12-19T18:34:14.232Z"
   },
   {
    "duration": 8,
    "start_time": "2023-12-19T18:34:14.238Z"
   },
   {
    "duration": 199,
    "start_time": "2023-12-19T18:34:14.248Z"
   },
   {
    "duration": 21,
    "start_time": "2023-12-19T18:34:14.448Z"
   },
   {
    "duration": 19,
    "start_time": "2023-12-19T18:34:14.472Z"
   },
   {
    "duration": 22,
    "start_time": "2023-12-19T18:34:14.493Z"
   },
   {
    "duration": 185,
    "start_time": "2023-12-19T18:34:14.516Z"
   },
   {
    "duration": 236,
    "start_time": "2023-12-19T18:34:14.702Z"
   },
   {
    "duration": 14,
    "start_time": "2023-12-19T18:34:14.940Z"
   },
   {
    "duration": 67,
    "start_time": "2023-12-19T18:34:14.956Z"
   },
   {
    "duration": 3,
    "start_time": "2023-12-19T18:34:15.025Z"
   },
   {
    "duration": 3525,
    "start_time": "2023-12-19T18:34:15.029Z"
   },
   {
    "duration": 240,
    "start_time": "2023-12-19T18:34:18.556Z"
   },
   {
    "duration": 226,
    "start_time": "2023-12-19T18:34:18.797Z"
   },
   {
    "duration": 15,
    "start_time": "2023-12-19T18:34:19.025Z"
   },
   {
    "duration": 83,
    "start_time": "2023-12-19T18:34:19.042Z"
   },
   {
    "duration": 3,
    "start_time": "2023-12-19T18:34:19.126Z"
   },
   {
    "duration": 2143,
    "start_time": "2023-12-19T18:34:19.131Z"
   },
   {
    "duration": 231,
    "start_time": "2023-12-19T18:34:21.276Z"
   },
   {
    "duration": 13,
    "start_time": "2023-12-19T18:34:21.508Z"
   },
   {
    "duration": 176,
    "start_time": "2023-12-19T18:34:21.523Z"
   },
   {
    "duration": 390,
    "start_time": "2023-12-19T18:34:21.700Z"
   },
   {
    "duration": 11,
    "start_time": "2023-12-19T18:34:22.091Z"
   },
   {
    "duration": 27,
    "start_time": "2023-12-19T18:34:22.103Z"
   },
   {
    "duration": 17,
    "start_time": "2023-12-19T18:34:22.132Z"
   },
   {
    "duration": 197,
    "start_time": "2023-12-19T18:34:22.150Z"
   },
   {
    "duration": 27,
    "start_time": "2023-12-19T18:34:22.349Z"
   },
   {
    "duration": 21,
    "start_time": "2023-12-19T18:34:22.378Z"
   },
   {
    "duration": 30,
    "start_time": "2023-12-19T18:34:22.414Z"
   },
   {
    "duration": 19,
    "start_time": "2023-12-19T18:34:22.445Z"
   },
   {
    "duration": 51,
    "start_time": "2023-12-19T18:34:22.465Z"
   },
   {
    "duration": 258,
    "start_time": "2023-12-19T18:34:22.520Z"
   },
   {
    "duration": 19,
    "start_time": "2023-12-19T18:34:22.779Z"
   },
   {
    "duration": 249,
    "start_time": "2023-12-19T18:34:22.799Z"
   },
   {
    "duration": 74,
    "start_time": "2023-12-19T18:34:23.050Z"
   },
   {
    "duration": 59,
    "start_time": "2023-12-19T18:34:23.126Z"
   },
   {
    "duration": 27,
    "start_time": "2023-12-19T18:34:23.187Z"
   },
   {
    "duration": 3,
    "start_time": "2023-12-19T18:34:23.216Z"
   },
   {
    "duration": 589,
    "start_time": "2023-12-19T18:34:23.221Z"
   },
   {
    "duration": 312,
    "start_time": "2023-12-19T18:34:23.811Z"
   },
   {
    "duration": 60494,
    "start_time": "2023-12-19T18:34:24.124Z"
   },
   {
    "duration": 60537,
    "start_time": "2023-12-19T18:35:28.680Z"
   },
   {
    "duration": 182,
    "start_time": "2023-12-19T18:40:38.510Z"
   },
   {
    "duration": 91,
    "start_time": "2023-12-19T18:40:49.963Z"
   },
   {
    "duration": 64217,
    "start_time": "2023-12-19T18:41:00.001Z"
   },
   {
    "duration": 60911,
    "start_time": "2023-12-19T19:36:54.311Z"
   },
   {
    "duration": 63431,
    "start_time": "2023-12-19T19:37:55.314Z"
   },
   {
    "duration": 1364,
    "start_time": "2023-12-19T19:58:28.126Z"
   },
   {
    "duration": 853,
    "start_time": "2023-12-19T19:58:29.492Z"
   },
   {
    "duration": 18,
    "start_time": "2023-12-19T19:58:30.347Z"
   },
   {
    "duration": 645,
    "start_time": "2023-12-19T19:58:30.366Z"
   },
   {
    "duration": 93,
    "start_time": "2023-12-19T19:58:31.013Z"
   },
   {
    "duration": 126,
    "start_time": "2023-12-19T19:58:31.114Z"
   },
   {
    "duration": 75,
    "start_time": "2023-12-19T19:58:31.241Z"
   },
   {
    "duration": 197,
    "start_time": "2023-12-19T19:58:31.318Z"
   },
   {
    "duration": 381,
    "start_time": "2023-12-19T19:58:31.516Z"
   },
   {
    "duration": 4,
    "start_time": "2023-12-19T19:58:31.898Z"
   },
   {
    "duration": 96,
    "start_time": "2023-12-19T19:58:31.904Z"
   },
   {
    "duration": 208,
    "start_time": "2023-12-19T19:58:32.001Z"
   },
   {
    "duration": 24,
    "start_time": "2023-12-19T19:58:32.210Z"
   },
   {
    "duration": 17,
    "start_time": "2023-12-19T19:58:32.238Z"
   },
   {
    "duration": 2,
    "start_time": "2023-12-19T19:58:32.257Z"
   },
   {
    "duration": 208,
    "start_time": "2023-12-19T19:58:32.261Z"
   },
   {
    "duration": 233,
    "start_time": "2023-12-19T19:58:32.471Z"
   },
   {
    "duration": 19,
    "start_time": "2023-12-19T19:58:32.706Z"
   },
   {
    "duration": 59,
    "start_time": "2023-12-19T19:58:32.726Z"
   },
   {
    "duration": 3,
    "start_time": "2023-12-19T19:58:32.787Z"
   },
   {
    "duration": 3550,
    "start_time": "2023-12-19T19:58:32.791Z"
   },
   {
    "duration": 247,
    "start_time": "2023-12-19T19:58:36.343Z"
   },
   {
    "duration": 260,
    "start_time": "2023-12-19T19:58:36.592Z"
   },
   {
    "duration": 20,
    "start_time": "2023-12-19T19:58:36.854Z"
   },
   {
    "duration": 85,
    "start_time": "2023-12-19T19:58:36.876Z"
   },
   {
    "duration": 3,
    "start_time": "2023-12-19T19:58:36.962Z"
   },
   {
    "duration": 2211,
    "start_time": "2023-12-19T19:58:36.966Z"
   },
   {
    "duration": 243,
    "start_time": "2023-12-19T19:58:39.178Z"
   },
   {
    "duration": 10,
    "start_time": "2023-12-19T19:58:39.423Z"
   },
   {
    "duration": 183,
    "start_time": "2023-12-19T19:58:39.434Z"
   },
   {
    "duration": 397,
    "start_time": "2023-12-19T19:58:39.619Z"
   },
   {
    "duration": 11,
    "start_time": "2023-12-19T19:58:40.018Z"
   },
   {
    "duration": 28,
    "start_time": "2023-12-19T19:58:40.031Z"
   },
   {
    "duration": 17,
    "start_time": "2023-12-19T19:58:40.061Z"
   },
   {
    "duration": 201,
    "start_time": "2023-12-19T19:58:40.080Z"
   },
   {
    "duration": 41,
    "start_time": "2023-12-19T19:58:40.283Z"
   },
   {
    "duration": 21,
    "start_time": "2023-12-19T19:58:40.326Z"
   },
   {
    "duration": 37,
    "start_time": "2023-12-19T19:58:40.348Z"
   },
   {
    "duration": 28,
    "start_time": "2023-12-19T19:58:40.386Z"
   },
   {
    "duration": 29,
    "start_time": "2023-12-19T19:58:40.416Z"
   },
   {
    "duration": 273,
    "start_time": "2023-12-19T19:58:40.449Z"
   },
   {
    "duration": 19,
    "start_time": "2023-12-19T19:58:40.723Z"
   },
   {
    "duration": 255,
    "start_time": "2023-12-19T19:58:40.744Z"
   },
   {
    "duration": 71,
    "start_time": "2023-12-19T19:58:41.001Z"
   },
   {
    "duration": 69,
    "start_time": "2023-12-19T19:58:41.074Z"
   },
   {
    "duration": 13,
    "start_time": "2023-12-19T19:58:41.145Z"
   },
   {
    "duration": 3,
    "start_time": "2023-12-19T19:58:41.159Z"
   },
   {
    "duration": 566,
    "start_time": "2023-12-19T19:58:41.164Z"
   },
   {
    "duration": 311,
    "start_time": "2023-12-19T19:58:41.732Z"
   },
   {
    "duration": 59477,
    "start_time": "2023-12-19T19:58:42.045Z"
   },
   {
    "duration": 64422,
    "start_time": "2023-12-19T19:59:41.524Z"
   },
   {
    "duration": 268573,
    "start_time": "2023-12-19T20:00:46.018Z"
   },
   {
    "duration": 176,
    "start_time": "2023-12-19T20:05:14.592Z"
   },
   {
    "duration": 22440,
    "start_time": "2023-12-19T20:06:59.371Z"
   },
   {
    "duration": 66008,
    "start_time": "2023-12-19T20:07:21.813Z"
   },
   {
    "duration": 58868,
    "start_time": "2023-12-19T20:19:06.854Z"
   },
   {
    "duration": 105,
    "start_time": "2023-12-19T20:20:05.724Z"
   },
   {
    "duration": 13995,
    "start_time": "2023-12-19T20:20:57.924Z"
   },
   {
    "duration": 14658,
    "start_time": "2023-12-19T20:21:24.558Z"
   },
   {
    "duration": 14029,
    "start_time": "2023-12-19T20:22:11.190Z"
   },
   {
    "duration": 2322,
    "start_time": "2023-12-19T20:23:14.354Z"
   },
   {
    "duration": 20275,
    "start_time": "2023-12-19T20:24:07.162Z"
   },
   {
    "duration": 20339,
    "start_time": "2023-12-19T20:25:44.424Z"
   },
   {
    "duration": 58,
    "start_time": "2023-12-19T20:26:36.645Z"
   },
   {
    "duration": 2615,
    "start_time": "2023-12-19T20:26:45.556Z"
   },
   {
    "duration": 2540,
    "start_time": "2023-12-19T20:27:15.853Z"
   },
   {
    "duration": 21970,
    "start_time": "2023-12-19T20:27:49.838Z"
   },
   {
    "duration": 81,
    "start_time": "2023-12-19T20:28:11.810Z"
   },
   {
    "duration": 5491,
    "start_time": "2023-12-19T20:28:55.952Z"
   },
   {
    "duration": 1397,
    "start_time": "2023-12-19T20:45:05.294Z"
   },
   {
    "duration": 859,
    "start_time": "2023-12-19T20:45:06.693Z"
   },
   {
    "duration": 18,
    "start_time": "2023-12-19T20:45:07.553Z"
   },
   {
    "duration": 630,
    "start_time": "2023-12-19T20:45:07.573Z"
   },
   {
    "duration": 90,
    "start_time": "2023-12-19T20:45:08.205Z"
   },
   {
    "duration": 129,
    "start_time": "2023-12-19T20:45:08.296Z"
   },
   {
    "duration": 55,
    "start_time": "2023-12-19T20:45:08.426Z"
   },
   {
    "duration": 205,
    "start_time": "2023-12-19T20:45:08.483Z"
   },
   {
    "duration": 384,
    "start_time": "2023-12-19T20:45:08.689Z"
   },
   {
    "duration": 4,
    "start_time": "2023-12-19T20:45:09.075Z"
   },
   {
    "duration": 10,
    "start_time": "2023-12-19T20:45:09.080Z"
   },
   {
    "duration": 199,
    "start_time": "2023-12-19T20:45:09.091Z"
   },
   {
    "duration": 29,
    "start_time": "2023-12-19T20:45:09.292Z"
   },
   {
    "duration": 18,
    "start_time": "2023-12-19T20:45:09.323Z"
   },
   {
    "duration": 3,
    "start_time": "2023-12-19T20:45:09.342Z"
   },
   {
    "duration": 190,
    "start_time": "2023-12-19T20:45:09.346Z"
   },
   {
    "duration": 243,
    "start_time": "2023-12-19T20:45:09.538Z"
   },
   {
    "duration": 14,
    "start_time": "2023-12-19T20:45:09.783Z"
   },
   {
    "duration": 78,
    "start_time": "2023-12-19T20:45:09.798Z"
   },
   {
    "duration": 2,
    "start_time": "2023-12-19T20:45:09.878Z"
   },
   {
    "duration": 3440,
    "start_time": "2023-12-19T20:45:09.882Z"
   },
   {
    "duration": 234,
    "start_time": "2023-12-19T20:45:13.323Z"
   },
   {
    "duration": 225,
    "start_time": "2023-12-19T20:45:13.559Z"
   },
   {
    "duration": 15,
    "start_time": "2023-12-19T20:45:13.786Z"
   },
   {
    "duration": 74,
    "start_time": "2023-12-19T20:45:13.802Z"
   },
   {
    "duration": 3,
    "start_time": "2023-12-19T20:45:13.878Z"
   },
   {
    "duration": 2156,
    "start_time": "2023-12-19T20:45:13.882Z"
   },
   {
    "duration": 230,
    "start_time": "2023-12-19T20:45:16.042Z"
   },
   {
    "duration": 8,
    "start_time": "2023-12-19T20:45:16.273Z"
   },
   {
    "duration": 181,
    "start_time": "2023-12-19T20:45:16.283Z"
   },
   {
    "duration": 387,
    "start_time": "2023-12-19T20:45:16.466Z"
   },
   {
    "duration": 10,
    "start_time": "2023-12-19T20:45:16.855Z"
   },
   {
    "duration": 22,
    "start_time": "2023-12-19T20:45:16.866Z"
   },
   {
    "duration": 34,
    "start_time": "2023-12-19T20:45:16.889Z"
   },
   {
    "duration": 182,
    "start_time": "2023-12-19T20:45:16.924Z"
   },
   {
    "duration": 33,
    "start_time": "2023-12-19T20:45:17.107Z"
   },
   {
    "duration": 21,
    "start_time": "2023-12-19T20:45:17.142Z"
   },
   {
    "duration": 51,
    "start_time": "2023-12-19T20:45:17.164Z"
   },
   {
    "duration": 20,
    "start_time": "2023-12-19T20:45:17.216Z"
   },
   {
    "duration": 32,
    "start_time": "2023-12-19T20:45:17.238Z"
   },
   {
    "duration": 268,
    "start_time": "2023-12-19T20:45:17.271Z"
   },
   {
    "duration": 19,
    "start_time": "2023-12-19T20:45:17.541Z"
   },
   {
    "duration": 243,
    "start_time": "2023-12-19T20:45:17.561Z"
   },
   {
    "duration": 75,
    "start_time": "2023-12-19T20:45:17.805Z"
   },
   {
    "duration": 69,
    "start_time": "2023-12-19T20:45:17.882Z"
   },
   {
    "duration": 12,
    "start_time": "2023-12-19T20:45:17.953Z"
   },
   {
    "duration": 3,
    "start_time": "2023-12-19T20:45:17.967Z"
   },
   {
    "duration": 1863,
    "start_time": "2023-12-19T20:45:17.972Z"
   },
   {
    "duration": 0,
    "start_time": "2023-12-19T20:45:19.837Z"
   },
   {
    "duration": 0,
    "start_time": "2023-12-19T20:45:19.838Z"
   },
   {
    "duration": 0,
    "start_time": "2023-12-19T20:45:19.840Z"
   },
   {
    "duration": 0,
    "start_time": "2023-12-19T20:45:19.841Z"
   },
   {
    "duration": 0,
    "start_time": "2023-12-19T20:45:19.843Z"
   },
   {
    "duration": 0,
    "start_time": "2023-12-19T20:45:19.844Z"
   },
   {
    "duration": 0,
    "start_time": "2023-12-19T20:45:19.845Z"
   },
   {
    "duration": 0,
    "start_time": "2023-12-19T20:45:19.847Z"
   },
   {
    "duration": 0,
    "start_time": "2023-12-19T20:45:19.848Z"
   },
   {
    "duration": 0,
    "start_time": "2023-12-19T20:45:19.850Z"
   },
   {
    "duration": 0,
    "start_time": "2023-12-19T20:45:19.851Z"
   },
   {
    "duration": 0,
    "start_time": "2023-12-19T20:45:19.853Z"
   },
   {
    "duration": 564,
    "start_time": "2023-12-19T20:48:43.600Z"
   },
   {
    "duration": 302,
    "start_time": "2023-12-19T20:48:47.823Z"
   },
   {
    "duration": 11152,
    "start_time": "2023-12-19T20:48:48.418Z"
   },
   {
    "duration": 64643,
    "start_time": "2023-12-19T20:48:59.572Z"
   },
   {
    "duration": 6,
    "start_time": "2023-12-19T20:50:04.217Z"
   },
   {
    "duration": 0,
    "start_time": "2023-12-19T20:50:04.315Z"
   },
   {
    "duration": 0,
    "start_time": "2023-12-19T20:50:04.316Z"
   },
   {
    "duration": 0,
    "start_time": "2023-12-19T20:50:04.318Z"
   },
   {
    "duration": 0,
    "start_time": "2023-12-19T20:50:04.318Z"
   },
   {
    "duration": 0,
    "start_time": "2023-12-19T20:50:04.319Z"
   },
   {
    "duration": 0,
    "start_time": "2023-12-19T20:50:04.320Z"
   },
   {
    "duration": 0,
    "start_time": "2023-12-19T20:50:04.321Z"
   },
   {
    "duration": 0,
    "start_time": "2023-12-19T20:50:04.322Z"
   },
   {
    "duration": 1416,
    "start_time": "2023-12-19T20:55:12.282Z"
   },
   {
    "duration": 908,
    "start_time": "2023-12-19T20:55:13.700Z"
   },
   {
    "duration": 30,
    "start_time": "2023-12-19T20:55:14.610Z"
   },
   {
    "duration": 667,
    "start_time": "2023-12-19T20:55:14.642Z"
   },
   {
    "duration": 89,
    "start_time": "2023-12-19T20:55:15.314Z"
   },
   {
    "duration": 117,
    "start_time": "2023-12-19T20:55:15.415Z"
   },
   {
    "duration": 52,
    "start_time": "2023-12-19T20:55:15.534Z"
   },
   {
    "duration": 220,
    "start_time": "2023-12-19T20:55:15.588Z"
   },
   {
    "duration": 371,
    "start_time": "2023-12-19T20:55:15.809Z"
   },
   {
    "duration": 4,
    "start_time": "2023-12-19T20:55:16.182Z"
   },
   {
    "duration": 6,
    "start_time": "2023-12-19T20:55:16.187Z"
   },
   {
    "duration": 215,
    "start_time": "2023-12-19T20:55:16.195Z"
   },
   {
    "duration": 22,
    "start_time": "2023-12-19T20:55:16.414Z"
   },
   {
    "duration": 27,
    "start_time": "2023-12-19T20:55:16.440Z"
   },
   {
    "duration": 2,
    "start_time": "2023-12-19T20:55:16.468Z"
   },
   {
    "duration": 204,
    "start_time": "2023-12-19T20:55:16.472Z"
   },
   {
    "duration": 252,
    "start_time": "2023-12-19T20:55:16.678Z"
   },
   {
    "duration": 15,
    "start_time": "2023-12-19T20:55:16.932Z"
   },
   {
    "duration": 82,
    "start_time": "2023-12-19T20:55:16.948Z"
   },
   {
    "duration": 3,
    "start_time": "2023-12-19T20:55:17.032Z"
   },
   {
    "duration": 3719,
    "start_time": "2023-12-19T20:55:17.036Z"
   },
   {
    "duration": 305,
    "start_time": "2023-12-19T20:55:20.756Z"
   },
   {
    "duration": 281,
    "start_time": "2023-12-19T20:55:21.062Z"
   },
   {
    "duration": 16,
    "start_time": "2023-12-19T20:55:21.344Z"
   },
   {
    "duration": 74,
    "start_time": "2023-12-19T20:55:21.362Z"
   },
   {
    "duration": 4,
    "start_time": "2023-12-19T20:55:21.437Z"
   },
   {
    "duration": 2144,
    "start_time": "2023-12-19T20:55:21.443Z"
   },
   {
    "duration": 235,
    "start_time": "2023-12-19T20:55:23.588Z"
   },
   {
    "duration": 8,
    "start_time": "2023-12-19T20:55:23.825Z"
   },
   {
    "duration": 181,
    "start_time": "2023-12-19T20:55:23.834Z"
   },
   {
    "duration": 392,
    "start_time": "2023-12-19T20:55:24.016Z"
   },
   {
    "duration": 11,
    "start_time": "2023-12-19T20:55:24.410Z"
   },
   {
    "duration": 19,
    "start_time": "2023-12-19T20:55:24.423Z"
   },
   {
    "duration": 18,
    "start_time": "2023-12-19T20:55:24.444Z"
   },
   {
    "duration": 203,
    "start_time": "2023-12-19T20:55:24.463Z"
   },
   {
    "duration": 28,
    "start_time": "2023-12-19T20:55:24.667Z"
   },
   {
    "duration": 43,
    "start_time": "2023-12-19T20:55:24.696Z"
   },
   {
    "duration": 30,
    "start_time": "2023-12-19T20:55:24.741Z"
   },
   {
    "duration": 19,
    "start_time": "2023-12-19T20:55:24.773Z"
   },
   {
    "duration": 48,
    "start_time": "2023-12-19T20:55:24.794Z"
   },
   {
    "duration": 281,
    "start_time": "2023-12-19T20:55:24.847Z"
   },
   {
    "duration": 20,
    "start_time": "2023-12-19T20:55:25.129Z"
   },
   {
    "duration": 328,
    "start_time": "2023-12-19T20:55:25.151Z"
   },
   {
    "duration": 74,
    "start_time": "2023-12-19T20:55:25.480Z"
   },
   {
    "duration": 68,
    "start_time": "2023-12-19T20:55:25.555Z"
   },
   {
    "duration": 11,
    "start_time": "2023-12-19T20:55:25.624Z"
   },
   {
    "duration": 4,
    "start_time": "2023-12-19T20:55:25.637Z"
   },
   {
    "duration": 630,
    "start_time": "2023-12-19T20:55:25.642Z"
   },
   {
    "duration": 326,
    "start_time": "2023-12-19T20:55:26.274Z"
   },
   {
    "duration": 60971,
    "start_time": "2023-12-19T20:55:26.602Z"
   },
   {
    "duration": 1414,
    "start_time": "2023-12-19T20:57:11.075Z"
   },
   {
    "duration": 899,
    "start_time": "2023-12-19T20:57:12.491Z"
   },
   {
    "duration": 24,
    "start_time": "2023-12-19T20:57:13.394Z"
   },
   {
    "duration": 656,
    "start_time": "2023-12-19T20:57:13.421Z"
   },
   {
    "duration": 103,
    "start_time": "2023-12-19T20:57:14.079Z"
   },
   {
    "duration": 130,
    "start_time": "2023-12-19T20:57:14.184Z"
   },
   {
    "duration": 58,
    "start_time": "2023-12-19T20:57:14.316Z"
   },
   {
    "duration": 212,
    "start_time": "2023-12-19T20:57:14.375Z"
   },
   {
    "duration": 403,
    "start_time": "2023-12-19T20:57:14.589Z"
   },
   {
    "duration": 4,
    "start_time": "2023-12-19T20:57:14.994Z"
   },
   {
    "duration": 69,
    "start_time": "2023-12-19T20:57:14.999Z"
   },
   {
    "duration": 271,
    "start_time": "2023-12-19T20:57:15.070Z"
   },
   {
    "duration": 22,
    "start_time": "2023-12-19T20:57:15.344Z"
   },
   {
    "duration": 25,
    "start_time": "2023-12-19T20:57:15.367Z"
   },
   {
    "duration": 24,
    "start_time": "2023-12-19T20:57:15.393Z"
   },
   {
    "duration": 218,
    "start_time": "2023-12-19T20:57:15.418Z"
   },
   {
    "duration": 255,
    "start_time": "2023-12-19T20:57:15.637Z"
   },
   {
    "duration": 23,
    "start_time": "2023-12-19T20:57:15.894Z"
   },
   {
    "duration": 54,
    "start_time": "2023-12-19T20:57:15.919Z"
   },
   {
    "duration": 2,
    "start_time": "2023-12-19T20:57:15.975Z"
   },
   {
    "duration": 3721,
    "start_time": "2023-12-19T20:57:15.979Z"
   },
   {
    "duration": 244,
    "start_time": "2023-12-19T20:57:19.702Z"
   },
   {
    "duration": 242,
    "start_time": "2023-12-19T20:57:19.948Z"
   },
   {
    "duration": 23,
    "start_time": "2023-12-19T20:57:20.192Z"
   },
   {
    "duration": 73,
    "start_time": "2023-12-19T20:57:20.216Z"
   },
   {
    "duration": 3,
    "start_time": "2023-12-19T20:57:20.290Z"
   },
   {
    "duration": 2372,
    "start_time": "2023-12-19T20:57:20.295Z"
   },
   {
    "duration": 252,
    "start_time": "2023-12-19T20:57:22.669Z"
   },
   {
    "duration": 9,
    "start_time": "2023-12-19T20:57:22.922Z"
   },
   {
    "duration": 187,
    "start_time": "2023-12-19T20:57:22.932Z"
   },
   {
    "duration": 418,
    "start_time": "2023-12-19T20:57:23.120Z"
   },
   {
    "duration": 12,
    "start_time": "2023-12-19T20:57:23.539Z"
   },
   {
    "duration": 36,
    "start_time": "2023-12-19T20:57:23.552Z"
   },
   {
    "duration": 26,
    "start_time": "2023-12-19T20:57:23.589Z"
   },
   {
    "duration": 188,
    "start_time": "2023-12-19T20:57:23.617Z"
   },
   {
    "duration": 32,
    "start_time": "2023-12-19T20:57:23.806Z"
   },
   {
    "duration": 28,
    "start_time": "2023-12-19T20:57:23.840Z"
   },
   {
    "duration": 35,
    "start_time": "2023-12-19T20:57:23.869Z"
   },
   {
    "duration": 21,
    "start_time": "2023-12-19T20:57:23.915Z"
   },
   {
    "duration": 32,
    "start_time": "2023-12-19T20:57:23.940Z"
   },
   {
    "duration": 287,
    "start_time": "2023-12-19T20:57:23.974Z"
   },
   {
    "duration": 20,
    "start_time": "2023-12-19T20:57:24.262Z"
   },
   {
    "duration": 261,
    "start_time": "2023-12-19T20:57:24.284Z"
   },
   {
    "duration": 74,
    "start_time": "2023-12-19T20:57:24.546Z"
   },
   {
    "duration": 58,
    "start_time": "2023-12-19T20:57:24.622Z"
   },
   {
    "duration": 33,
    "start_time": "2023-12-19T20:57:24.683Z"
   },
   {
    "duration": 25,
    "start_time": "2023-12-19T20:57:24.717Z"
   },
   {
    "duration": 611,
    "start_time": "2023-12-19T20:57:24.743Z"
   },
   {
    "duration": 321,
    "start_time": "2023-12-19T20:57:25.356Z"
   },
   {
    "duration": 59142,
    "start_time": "2023-12-19T20:57:25.678Z"
   },
   {
    "duration": 63621,
    "start_time": "2023-12-19T20:58:24.821Z"
   },
   {
    "duration": 13912,
    "start_time": "2023-12-19T20:59:28.515Z"
   },
   {
    "duration": 282192,
    "start_time": "2023-12-19T20:59:42.521Z"
   },
   {
    "duration": 20578,
    "start_time": "2023-12-19T21:04:24.715Z"
   },
   {
    "duration": 22433,
    "start_time": "2023-12-19T21:04:45.294Z"
   },
   {
    "duration": 5220,
    "start_time": "2023-12-19T21:05:07.729Z"
   },
   {
    "duration": 64371,
    "start_time": "2023-12-19T21:05:12.951Z"
   },
   {
    "duration": 5504,
    "start_time": "2023-12-19T21:06:17.323Z"
   },
   {
    "duration": 166,
    "start_time": "2023-12-19T21:06:22.829Z"
   },
   {
    "duration": 1333,
    "start_time": "2023-12-19T21:15:49.766Z"
   },
   {
    "duration": 830,
    "start_time": "2023-12-19T21:15:51.101Z"
   },
   {
    "duration": 17,
    "start_time": "2023-12-19T21:15:51.933Z"
   },
   {
    "duration": 653,
    "start_time": "2023-12-19T21:15:51.952Z"
   },
   {
    "duration": 93,
    "start_time": "2023-12-19T21:15:52.607Z"
   },
   {
    "duration": 129,
    "start_time": "2023-12-19T21:15:52.702Z"
   },
   {
    "duration": 57,
    "start_time": "2023-12-19T21:15:52.833Z"
   },
   {
    "duration": 224,
    "start_time": "2023-12-19T21:15:52.891Z"
   },
   {
    "duration": 376,
    "start_time": "2023-12-19T21:15:53.117Z"
   },
   {
    "duration": 4,
    "start_time": "2023-12-19T21:15:53.495Z"
   },
   {
    "duration": 18,
    "start_time": "2023-12-19T21:15:53.501Z"
   },
   {
    "duration": 209,
    "start_time": "2023-12-19T21:15:53.521Z"
   },
   {
    "duration": 24,
    "start_time": "2023-12-19T21:15:53.731Z"
   },
   {
    "duration": 26,
    "start_time": "2023-12-19T21:15:53.758Z"
   },
   {
    "duration": 2,
    "start_time": "2023-12-19T21:15:53.786Z"
   },
   {
    "duration": 200,
    "start_time": "2023-12-19T21:15:53.789Z"
   },
   {
    "duration": 260,
    "start_time": "2023-12-19T21:15:53.991Z"
   },
   {
    "duration": 16,
    "start_time": "2023-12-19T21:15:54.252Z"
   },
   {
    "duration": 79,
    "start_time": "2023-12-19T21:15:54.269Z"
   },
   {
    "duration": 3,
    "start_time": "2023-12-19T21:15:54.350Z"
   },
   {
    "duration": 3678,
    "start_time": "2023-12-19T21:15:54.354Z"
   },
   {
    "duration": 257,
    "start_time": "2023-12-19T21:15:58.034Z"
   },
   {
    "duration": 246,
    "start_time": "2023-12-19T21:15:58.293Z"
   },
   {
    "duration": 15,
    "start_time": "2023-12-19T21:15:58.541Z"
   },
   {
    "duration": 73,
    "start_time": "2023-12-19T21:15:58.558Z"
   },
   {
    "duration": 3,
    "start_time": "2023-12-19T21:15:58.632Z"
   },
   {
    "duration": 2266,
    "start_time": "2023-12-19T21:15:58.636Z"
   },
   {
    "duration": 248,
    "start_time": "2023-12-19T21:16:00.903Z"
   },
   {
    "duration": 9,
    "start_time": "2023-12-19T21:16:01.152Z"
   },
   {
    "duration": 251,
    "start_time": "2023-12-19T21:16:01.162Z"
   },
   {
    "duration": 441,
    "start_time": "2023-12-19T21:16:01.415Z"
   },
   {
    "duration": 13,
    "start_time": "2023-12-19T21:16:01.858Z"
   },
   {
    "duration": 74,
    "start_time": "2023-12-19T21:16:01.873Z"
   },
   {
    "duration": 52,
    "start_time": "2023-12-19T21:16:01.949Z"
   },
   {
    "duration": 197,
    "start_time": "2023-12-19T21:16:02.002Z"
   },
   {
    "duration": 30,
    "start_time": "2023-12-19T21:16:02.201Z"
   },
   {
    "duration": 51,
    "start_time": "2023-12-19T21:16:02.232Z"
   },
   {
    "duration": 51,
    "start_time": "2023-12-19T21:16:02.285Z"
   },
   {
    "duration": 21,
    "start_time": "2023-12-19T21:16:02.337Z"
   },
   {
    "duration": 79,
    "start_time": "2023-12-19T21:16:02.360Z"
   },
   {
    "duration": 316,
    "start_time": "2023-12-19T21:16:02.442Z"
   },
   {
    "duration": 20,
    "start_time": "2023-12-19T21:16:02.760Z"
   },
   {
    "duration": 265,
    "start_time": "2023-12-19T21:16:02.781Z"
   },
   {
    "duration": 79,
    "start_time": "2023-12-19T21:16:03.048Z"
   },
   {
    "duration": 61,
    "start_time": "2023-12-19T21:16:03.128Z"
   },
   {
    "duration": 30,
    "start_time": "2023-12-19T21:16:03.191Z"
   },
   {
    "duration": 3,
    "start_time": "2023-12-19T21:16:03.223Z"
   },
   {
    "duration": 643,
    "start_time": "2023-12-19T21:16:03.228Z"
   },
   {
    "duration": 327,
    "start_time": "2023-12-19T21:16:03.873Z"
   },
   {
    "duration": 58518,
    "start_time": "2023-12-19T21:16:04.202Z"
   },
   {
    "duration": 64300,
    "start_time": "2023-12-19T21:17:02.722Z"
   },
   {
    "duration": 14493,
    "start_time": "2023-12-19T21:18:07.024Z"
   },
   {
    "duration": 117,
    "start_time": "2023-12-19T21:18:21.519Z"
   },
   {
    "duration": 283096,
    "start_time": "2023-12-19T21:18:21.715Z"
   },
   {
    "duration": 21089,
    "start_time": "2023-12-19T21:23:04.813Z"
   },
   {
    "duration": 72,
    "start_time": "2023-12-19T21:23:25.904Z"
   },
   {
    "duration": 25085,
    "start_time": "2023-12-19T21:23:25.978Z"
   },
   {
    "duration": 5315,
    "start_time": "2023-12-19T21:23:51.065Z"
   },
   {
    "duration": 54,
    "start_time": "2023-12-19T21:23:56.382Z"
   },
   {
    "duration": 69077,
    "start_time": "2023-12-19T21:23:56.437Z"
   },
   {
    "duration": 5707,
    "start_time": "2023-12-19T21:25:05.516Z"
   },
   {
    "duration": 402,
    "start_time": "2023-12-19T21:25:11.224Z"
   },
   {
    "duration": 170,
    "start_time": "2023-12-19T21:25:11.628Z"
   },
   {
    "duration": 1351,
    "start_time": "2023-12-19T21:32:50.668Z"
   },
   {
    "duration": 871,
    "start_time": "2023-12-19T21:32:52.020Z"
   },
   {
    "duration": 23,
    "start_time": "2023-12-19T21:32:52.892Z"
   },
   {
    "duration": 623,
    "start_time": "2023-12-19T21:32:52.916Z"
   },
   {
    "duration": 98,
    "start_time": "2023-12-19T21:32:53.541Z"
   },
   {
    "duration": 123,
    "start_time": "2023-12-19T21:32:53.640Z"
   },
   {
    "duration": 57,
    "start_time": "2023-12-19T21:32:53.764Z"
   },
   {
    "duration": 194,
    "start_time": "2023-12-19T21:32:53.822Z"
   },
   {
    "duration": 382,
    "start_time": "2023-12-19T21:32:54.017Z"
   },
   {
    "duration": 4,
    "start_time": "2023-12-19T21:32:54.401Z"
   },
   {
    "duration": 4,
    "start_time": "2023-12-19T21:32:54.414Z"
   },
   {
    "duration": 218,
    "start_time": "2023-12-19T21:32:54.419Z"
   },
   {
    "duration": 22,
    "start_time": "2023-12-19T21:32:54.638Z"
   },
   {
    "duration": 22,
    "start_time": "2023-12-19T21:32:54.663Z"
   },
   {
    "duration": 2,
    "start_time": "2023-12-19T21:32:54.687Z"
   },
   {
    "duration": 208,
    "start_time": "2023-12-19T21:32:54.690Z"
   },
   {
    "duration": 245,
    "start_time": "2023-12-19T21:32:54.900Z"
   },
   {
    "duration": 15,
    "start_time": "2023-12-19T21:32:55.147Z"
   },
   {
    "duration": 83,
    "start_time": "2023-12-19T21:32:55.164Z"
   },
   {
    "duration": 3,
    "start_time": "2023-12-19T21:32:55.248Z"
   },
   {
    "duration": 3749,
    "start_time": "2023-12-19T21:32:55.253Z"
   },
   {
    "duration": 244,
    "start_time": "2023-12-19T21:32:59.003Z"
   },
   {
    "duration": 234,
    "start_time": "2023-12-19T21:32:59.248Z"
   },
   {
    "duration": 15,
    "start_time": "2023-12-19T21:32:59.484Z"
   },
   {
    "duration": 69,
    "start_time": "2023-12-19T21:32:59.501Z"
   },
   {
    "duration": 3,
    "start_time": "2023-12-19T21:32:59.572Z"
   },
   {
    "duration": 2319,
    "start_time": "2023-12-19T21:32:59.576Z"
   },
   {
    "duration": 248,
    "start_time": "2023-12-19T21:33:01.896Z"
   },
   {
    "duration": 8,
    "start_time": "2023-12-19T21:33:02.146Z"
   },
   {
    "duration": 232,
    "start_time": "2023-12-19T21:33:02.156Z"
   },
   {
    "duration": 409,
    "start_time": "2023-12-19T21:33:02.389Z"
   },
   {
    "duration": 15,
    "start_time": "2023-12-19T21:33:02.799Z"
   },
   {
    "duration": 21,
    "start_time": "2023-12-19T21:33:02.816Z"
   },
   {
    "duration": 17,
    "start_time": "2023-12-19T21:33:02.838Z"
   },
   {
    "duration": 218,
    "start_time": "2023-12-19T21:33:02.857Z"
   },
   {
    "duration": 29,
    "start_time": "2023-12-19T21:33:03.077Z"
   },
   {
    "duration": 22,
    "start_time": "2023-12-19T21:33:03.115Z"
   },
   {
    "duration": 45,
    "start_time": "2023-12-19T21:33:03.138Z"
   },
   {
    "duration": 20,
    "start_time": "2023-12-19T21:33:03.184Z"
   },
   {
    "duration": 36,
    "start_time": "2023-12-19T21:33:03.205Z"
   },
   {
    "duration": 277,
    "start_time": "2023-12-19T21:33:03.245Z"
   },
   {
    "duration": 20,
    "start_time": "2023-12-19T21:33:03.523Z"
   },
   {
    "duration": 264,
    "start_time": "2023-12-19T21:33:03.545Z"
   },
   {
    "duration": 65,
    "start_time": "2023-12-19T21:33:03.814Z"
   },
   {
    "duration": 73,
    "start_time": "2023-12-19T21:33:03.880Z"
   },
   {
    "duration": 13,
    "start_time": "2023-12-19T21:33:03.954Z"
   },
   {
    "duration": 25,
    "start_time": "2023-12-19T21:33:03.968Z"
   },
   {
    "duration": 577,
    "start_time": "2023-12-19T21:33:03.995Z"
   },
   {
    "duration": 319,
    "start_time": "2023-12-19T21:33:04.574Z"
   },
   {
    "duration": 59026,
    "start_time": "2023-12-19T21:33:04.895Z"
   },
   {
    "duration": 64913,
    "start_time": "2023-12-19T21:34:03.923Z"
   },
   {
    "duration": 14180,
    "start_time": "2023-12-19T21:35:08.839Z"
   },
   {
    "duration": 120,
    "start_time": "2023-12-19T21:35:23.021Z"
   },
   {
    "duration": 274316,
    "start_time": "2023-12-19T21:35:23.216Z"
   },
   {
    "duration": 20398,
    "start_time": "2023-12-19T21:39:57.534Z"
   },
   {
    "duration": 56,
    "start_time": "2023-12-19T21:40:17.934Z"
   },
   {
    "duration": 22233,
    "start_time": "2023-12-19T21:40:17.992Z"
   },
   {
    "duration": 5266,
    "start_time": "2023-12-19T21:40:40.227Z"
   },
   {
    "duration": 52,
    "start_time": "2023-12-19T21:40:45.495Z"
   },
   {
    "duration": 85379,
    "start_time": "2023-12-19T21:40:45.549Z"
   },
   {
    "duration": 6591,
    "start_time": "2023-12-19T21:42:10.930Z"
   },
   {
    "duration": 394,
    "start_time": "2023-12-19T21:42:17.523Z"
   },
   {
    "duration": 146,
    "start_time": "2023-12-19T21:42:17.919Z"
   },
   {
    "duration": 18,
    "start_time": "2023-12-19T21:42:52.114Z"
   },
   {
    "duration": 23,
    "start_time": "2023-12-19T21:43:25.552Z"
   },
   {
    "duration": 4,
    "start_time": "2023-12-19T21:43:53.153Z"
   },
   {
    "duration": 777,
    "start_time": "2023-12-19T21:43:53.186Z"
   },
   {
    "duration": 15,
    "start_time": "2023-12-19T21:43:53.965Z"
   },
   {
    "duration": 546,
    "start_time": "2023-12-19T21:43:53.982Z"
   },
   {
    "duration": 87,
    "start_time": "2023-12-19T21:43:54.531Z"
   },
   {
    "duration": 114,
    "start_time": "2023-12-19T21:43:54.619Z"
   },
   {
    "duration": 52,
    "start_time": "2023-12-19T21:43:54.734Z"
   },
   {
    "duration": 196,
    "start_time": "2023-12-19T21:43:54.787Z"
   },
   {
    "duration": 335,
    "start_time": "2023-12-19T21:43:54.985Z"
   },
   {
    "duration": 3,
    "start_time": "2023-12-19T21:43:55.322Z"
   },
   {
    "duration": 10,
    "start_time": "2023-12-19T21:43:55.328Z"
   },
   {
    "duration": 202,
    "start_time": "2023-12-19T21:43:55.339Z"
   },
   {
    "duration": 19,
    "start_time": "2023-12-19T21:43:55.542Z"
   },
   {
    "duration": 24,
    "start_time": "2023-12-19T21:43:55.563Z"
   },
   {
    "duration": 2,
    "start_time": "2023-12-19T21:43:55.588Z"
   },
   {
    "duration": 275,
    "start_time": "2023-12-19T21:43:55.592Z"
   },
   {
    "duration": 238,
    "start_time": "2023-12-19T21:43:55.868Z"
   },
   {
    "duration": 14,
    "start_time": "2023-12-19T21:43:56.114Z"
   },
   {
    "duration": 71,
    "start_time": "2023-12-19T21:43:56.130Z"
   },
   {
    "duration": 3,
    "start_time": "2023-12-19T21:43:56.202Z"
   },
   {
    "duration": 3551,
    "start_time": "2023-12-19T21:43:56.207Z"
   },
   {
    "duration": 237,
    "start_time": "2023-12-19T21:43:59.760Z"
   },
   {
    "duration": 243,
    "start_time": "2023-12-19T21:43:59.999Z"
   },
   {
    "duration": 14,
    "start_time": "2023-12-19T21:44:00.244Z"
   },
   {
    "duration": 75,
    "start_time": "2023-12-19T21:44:00.260Z"
   },
   {
    "duration": 4,
    "start_time": "2023-12-19T21:44:00.336Z"
   },
   {
    "duration": 2231,
    "start_time": "2023-12-19T21:44:00.341Z"
   },
   {
    "duration": 241,
    "start_time": "2023-12-19T21:44:02.573Z"
   },
   {
    "duration": 9,
    "start_time": "2023-12-19T21:44:02.819Z"
   },
   {
    "duration": 176,
    "start_time": "2023-12-19T21:44:02.830Z"
   },
   {
    "duration": 404,
    "start_time": "2023-12-19T21:44:03.007Z"
   },
   {
    "duration": 10,
    "start_time": "2023-12-19T21:44:03.413Z"
   },
   {
    "duration": 22,
    "start_time": "2023-12-19T21:44:03.425Z"
   },
   {
    "duration": 18,
    "start_time": "2023-12-19T21:44:03.449Z"
   },
   {
    "duration": 211,
    "start_time": "2023-12-19T21:44:03.469Z"
   },
   {
    "duration": 40,
    "start_time": "2023-12-19T21:44:03.681Z"
   },
   {
    "duration": 22,
    "start_time": "2023-12-19T21:44:03.723Z"
   },
   {
    "duration": 38,
    "start_time": "2023-12-19T21:44:03.747Z"
   },
   {
    "duration": 34,
    "start_time": "2023-12-19T21:44:03.786Z"
   },
   {
    "duration": 34,
    "start_time": "2023-12-19T21:44:03.822Z"
   },
   {
    "duration": 286,
    "start_time": "2023-12-19T21:44:03.858Z"
   },
   {
    "duration": 20,
    "start_time": "2023-12-19T21:44:04.146Z"
   },
   {
    "duration": 257,
    "start_time": "2023-12-19T21:44:04.168Z"
   },
   {
    "duration": 65,
    "start_time": "2023-12-19T21:44:04.426Z"
   },
   {
    "duration": 74,
    "start_time": "2023-12-19T21:44:04.493Z"
   },
   {
    "duration": 13,
    "start_time": "2023-12-19T21:44:04.569Z"
   },
   {
    "duration": 13,
    "start_time": "2023-12-19T21:44:04.584Z"
   },
   {
    "duration": 598,
    "start_time": "2023-12-19T21:44:04.599Z"
   },
   {
    "duration": 310,
    "start_time": "2023-12-19T21:44:05.198Z"
   },
   {
    "duration": 57012,
    "start_time": "2023-12-19T21:44:05.510Z"
   },
   {
    "duration": 65,
    "start_time": "2023-12-20T17:41:42.670Z"
   },
   {
    "duration": 7,
    "start_time": "2023-12-20T17:44:55.032Z"
   },
   {
    "duration": 6,
    "start_time": "2023-12-20T17:44:55.954Z"
   },
   {
    "duration": 8,
    "start_time": "2023-12-20T17:44:57.811Z"
   },
   {
    "duration": 1690,
    "start_time": "2023-12-20T17:45:06.735Z"
   },
   {
    "duration": 2954,
    "start_time": "2023-12-20T17:45:08.430Z"
   },
   {
    "duration": 22,
    "start_time": "2023-12-20T17:45:11.385Z"
   },
   {
    "duration": 729,
    "start_time": "2023-12-20T17:45:11.409Z"
   },
   {
    "duration": 108,
    "start_time": "2023-12-20T17:45:12.140Z"
   },
   {
    "duration": 138,
    "start_time": "2023-12-20T17:45:12.250Z"
   },
   {
    "duration": 72,
    "start_time": "2023-12-20T17:45:12.390Z"
   },
   {
    "duration": 221,
    "start_time": "2023-12-20T17:45:12.464Z"
   },
   {
    "duration": 420,
    "start_time": "2023-12-20T17:45:12.687Z"
   },
   {
    "duration": 4,
    "start_time": "2023-12-20T17:45:13.109Z"
   },
   {
    "duration": 28,
    "start_time": "2023-12-20T17:45:13.115Z"
   },
   {
    "duration": 229,
    "start_time": "2023-12-20T17:45:13.145Z"
   },
   {
    "duration": 24,
    "start_time": "2023-12-20T17:45:13.375Z"
   },
   {
    "duration": 40,
    "start_time": "2023-12-20T17:45:13.402Z"
   },
   {
    "duration": 3,
    "start_time": "2023-12-20T17:45:13.443Z"
   },
   {
    "duration": 211,
    "start_time": "2023-12-20T17:45:13.447Z"
   },
   {
    "duration": 290,
    "start_time": "2023-12-20T17:45:13.660Z"
   },
   {
    "duration": 17,
    "start_time": "2023-12-20T17:45:13.952Z"
   },
   {
    "duration": 75,
    "start_time": "2023-12-20T17:45:13.971Z"
   },
   {
    "duration": 3,
    "start_time": "2023-12-20T17:45:14.048Z"
   },
   {
    "duration": 3554,
    "start_time": "2023-12-20T17:45:14.053Z"
   },
   {
    "duration": 267,
    "start_time": "2023-12-20T17:45:17.609Z"
   },
   {
    "duration": 251,
    "start_time": "2023-12-20T17:45:17.877Z"
   },
   {
    "duration": 16,
    "start_time": "2023-12-20T17:45:18.131Z"
   },
   {
    "duration": 90,
    "start_time": "2023-12-20T17:45:18.148Z"
   },
   {
    "duration": 3,
    "start_time": "2023-12-20T17:45:18.240Z"
   },
   {
    "duration": 2162,
    "start_time": "2023-12-20T17:45:18.245Z"
   },
   {
    "duration": 259,
    "start_time": "2023-12-20T17:45:20.408Z"
   },
   {
    "duration": 9,
    "start_time": "2023-12-20T17:45:20.669Z"
   },
   {
    "duration": 194,
    "start_time": "2023-12-20T17:45:20.680Z"
   },
   {
    "duration": 482,
    "start_time": "2023-12-20T17:45:20.876Z"
   },
   {
    "duration": 15,
    "start_time": "2023-12-20T17:45:21.360Z"
   },
   {
    "duration": 28,
    "start_time": "2023-12-20T17:45:21.376Z"
   },
   {
    "duration": 38,
    "start_time": "2023-12-20T17:45:21.406Z"
   },
   {
    "duration": 201,
    "start_time": "2023-12-20T17:45:21.445Z"
   },
   {
    "duration": 27,
    "start_time": "2023-12-20T17:45:21.648Z"
   },
   {
    "duration": 22,
    "start_time": "2023-12-20T17:45:21.677Z"
   },
   {
    "duration": 54,
    "start_time": "2023-12-20T17:45:21.701Z"
   },
   {
    "duration": 20,
    "start_time": "2023-12-20T17:45:21.757Z"
   },
   {
    "duration": 37,
    "start_time": "2023-12-20T17:45:21.779Z"
   },
   {
    "duration": 266,
    "start_time": "2023-12-20T17:45:21.832Z"
   },
   {
    "duration": 31,
    "start_time": "2023-12-20T17:45:22.099Z"
   },
   {
    "duration": 285,
    "start_time": "2023-12-20T17:45:22.132Z"
   },
   {
    "duration": 71,
    "start_time": "2023-12-20T17:45:22.419Z"
   },
   {
    "duration": 77,
    "start_time": "2023-12-20T17:45:22.492Z"
   },
   {
    "duration": 12,
    "start_time": "2023-12-20T17:45:22.571Z"
   },
   {
    "duration": 3,
    "start_time": "2023-12-20T17:45:22.585Z"
   },
   {
    "duration": 616,
    "start_time": "2023-12-20T17:45:22.589Z"
   },
   {
    "duration": 329,
    "start_time": "2023-12-20T17:45:23.207Z"
   },
   {
    "duration": 19,
    "start_time": "2023-12-20T17:45:23.538Z"
   },
   {
    "duration": 27,
    "start_time": "2023-12-20T17:45:23.559Z"
   },
   {
    "duration": 53548,
    "start_time": "2023-12-20T17:45:23.588Z"
   },
   {
    "duration": 58529,
    "start_time": "2023-12-20T17:46:17.138Z"
   },
   {
    "duration": 13301,
    "start_time": "2023-12-20T17:47:15.731Z"
   },
   {
    "duration": 99,
    "start_time": "2023-12-20T17:47:29.034Z"
   },
   {
    "duration": 1501,
    "start_time": "2023-12-20T17:49:48.160Z"
   },
   {
    "duration": 939,
    "start_time": "2023-12-20T17:49:49.664Z"
   },
   {
    "duration": 25,
    "start_time": "2023-12-20T17:49:50.605Z"
   },
   {
    "duration": 747,
    "start_time": "2023-12-20T17:49:50.632Z"
   },
   {
    "duration": 112,
    "start_time": "2023-12-20T17:49:51.383Z"
   },
   {
    "duration": 158,
    "start_time": "2023-12-20T17:49:51.497Z"
   },
   {
    "duration": 61,
    "start_time": "2023-12-20T17:49:51.657Z"
   },
   {
    "duration": 196,
    "start_time": "2023-12-20T17:49:51.731Z"
   },
   {
    "duration": 389,
    "start_time": "2023-12-20T17:49:51.929Z"
   },
   {
    "duration": 4,
    "start_time": "2023-12-20T17:49:52.320Z"
   },
   {
    "duration": 23,
    "start_time": "2023-12-20T17:49:52.330Z"
   },
   {
    "duration": 222,
    "start_time": "2023-12-20T17:49:52.355Z"
   },
   {
    "duration": 25,
    "start_time": "2023-12-20T17:49:52.578Z"
   },
   {
    "duration": 43,
    "start_time": "2023-12-20T17:49:52.606Z"
   },
   {
    "duration": 3,
    "start_time": "2023-12-20T17:49:52.651Z"
   },
   {
    "duration": 201,
    "start_time": "2023-12-20T17:49:52.656Z"
   },
   {
    "duration": 255,
    "start_time": "2023-12-20T17:49:52.859Z"
   },
   {
    "duration": 19,
    "start_time": "2023-12-20T17:49:53.116Z"
   },
   {
    "duration": 62,
    "start_time": "2023-12-20T17:49:53.137Z"
   },
   {
    "duration": 3,
    "start_time": "2023-12-20T17:49:53.201Z"
   },
   {
    "duration": 4691,
    "start_time": "2023-12-20T17:49:53.205Z"
   },
   {
    "duration": 261,
    "start_time": "2023-12-20T17:49:57.898Z"
   },
   {
    "duration": 262,
    "start_time": "2023-12-20T17:49:58.161Z"
   },
   {
    "duration": 20,
    "start_time": "2023-12-20T17:49:58.425Z"
   },
   {
    "duration": 86,
    "start_time": "2023-12-20T17:49:58.447Z"
   },
   {
    "duration": 3,
    "start_time": "2023-12-20T17:49:58.535Z"
   },
   {
    "duration": 2360,
    "start_time": "2023-12-20T17:49:58.540Z"
   },
   {
    "duration": 266,
    "start_time": "2023-12-20T17:50:00.902Z"
   },
   {
    "duration": 10,
    "start_time": "2023-12-20T17:50:01.171Z"
   },
   {
    "duration": 202,
    "start_time": "2023-12-20T17:50:01.182Z"
   },
   {
    "duration": 481,
    "start_time": "2023-12-20T17:50:01.386Z"
   },
   {
    "duration": 15,
    "start_time": "2023-12-20T17:50:01.869Z"
   },
   {
    "duration": 70,
    "start_time": "2023-12-20T17:50:01.886Z"
   },
   {
    "duration": 46,
    "start_time": "2023-12-20T17:50:01.958Z"
   },
   {
    "duration": 231,
    "start_time": "2023-12-20T17:50:02.006Z"
   },
   {
    "duration": 29,
    "start_time": "2023-12-20T17:50:02.238Z"
   },
   {
    "duration": 49,
    "start_time": "2023-12-20T17:50:02.269Z"
   },
   {
    "duration": 64,
    "start_time": "2023-12-20T17:50:02.320Z"
   },
   {
    "duration": 23,
    "start_time": "2023-12-20T17:50:02.386Z"
   },
   {
    "duration": 97,
    "start_time": "2023-12-20T17:50:02.411Z"
   },
   {
    "duration": 322,
    "start_time": "2023-12-20T17:50:02.513Z"
   },
   {
    "duration": 20,
    "start_time": "2023-12-20T17:50:02.837Z"
   },
   {
    "duration": 288,
    "start_time": "2023-12-20T17:50:02.859Z"
   },
   {
    "duration": 59,
    "start_time": "2023-12-20T17:50:03.149Z"
   },
   {
    "duration": 70,
    "start_time": "2023-12-20T17:50:03.210Z"
   },
   {
    "duration": 12,
    "start_time": "2023-12-20T17:50:03.282Z"
   },
   {
    "duration": 17,
    "start_time": "2023-12-20T17:50:03.296Z"
   },
   {
    "duration": 677,
    "start_time": "2023-12-20T17:50:03.314Z"
   },
   {
    "duration": 335,
    "start_time": "2023-12-20T17:50:03.993Z"
   },
   {
    "duration": 17,
    "start_time": "2023-12-20T17:50:04.331Z"
   },
   {
    "duration": 20,
    "start_time": "2023-12-20T17:50:04.349Z"
   },
   {
    "duration": 44,
    "start_time": "2023-12-20T17:50:04.371Z"
   },
   {
    "duration": 0,
    "start_time": "2023-12-20T17:50:04.417Z"
   },
   {
    "duration": 0,
    "start_time": "2023-12-20T17:50:04.418Z"
   },
   {
    "duration": 0,
    "start_time": "2023-12-20T17:50:04.419Z"
   },
   {
    "duration": 0,
    "start_time": "2023-12-20T17:50:04.420Z"
   },
   {
    "duration": 0,
    "start_time": "2023-12-20T17:50:04.421Z"
   },
   {
    "duration": 0,
    "start_time": "2023-12-20T17:50:04.423Z"
   },
   {
    "duration": 0,
    "start_time": "2023-12-20T17:50:04.423Z"
   },
   {
    "duration": 0,
    "start_time": "2023-12-20T17:50:04.425Z"
   },
   {
    "duration": 0,
    "start_time": "2023-12-20T17:50:04.426Z"
   },
   {
    "duration": 0,
    "start_time": "2023-12-20T17:50:04.427Z"
   },
   {
    "duration": 0,
    "start_time": "2023-12-20T17:50:04.428Z"
   },
   {
    "duration": 0,
    "start_time": "2023-12-20T17:50:04.429Z"
   },
   {
    "duration": 0,
    "start_time": "2023-12-20T17:50:04.430Z"
   },
   {
    "duration": 0,
    "start_time": "2023-12-20T17:50:04.431Z"
   },
   {
    "duration": 621,
    "start_time": "2023-12-20T17:52:27.448Z"
   },
   {
    "duration": 295,
    "start_time": "2023-12-20T17:52:32.318Z"
   },
   {
    "duration": 17,
    "start_time": "2023-12-20T17:52:33.075Z"
   },
   {
    "duration": 15,
    "start_time": "2023-12-20T17:52:34.471Z"
   },
   {
    "duration": 12,
    "start_time": "2023-12-20T17:57:37.348Z"
   },
   {
    "duration": 15,
    "start_time": "2023-12-20T17:57:45.862Z"
   },
   {
    "duration": 180,
    "start_time": "2023-12-20T18:04:23.834Z"
   },
   {
    "duration": 23079,
    "start_time": "2023-12-20T18:04:24.029Z"
   },
   {
    "duration": 1555,
    "start_time": "2023-12-20T18:24:56.532Z"
   },
   {
    "duration": 1022,
    "start_time": "2023-12-20T18:24:58.089Z"
   },
   {
    "duration": 28,
    "start_time": "2023-12-20T18:24:59.113Z"
   },
   {
    "duration": 749,
    "start_time": "2023-12-20T18:24:59.143Z"
   },
   {
    "duration": 119,
    "start_time": "2023-12-20T18:24:59.894Z"
   },
   {
    "duration": 131,
    "start_time": "2023-12-20T18:25:00.015Z"
   },
   {
    "duration": 69,
    "start_time": "2023-12-20T18:25:00.148Z"
   },
   {
    "duration": 234,
    "start_time": "2023-12-20T18:25:00.230Z"
   },
   {
    "duration": 469,
    "start_time": "2023-12-20T18:25:00.467Z"
   },
   {
    "duration": 5,
    "start_time": "2023-12-20T18:25:00.938Z"
   },
   {
    "duration": 32,
    "start_time": "2023-12-20T18:25:00.944Z"
   },
   {
    "duration": 279,
    "start_time": "2023-12-20T18:25:00.977Z"
   },
   {
    "duration": 27,
    "start_time": "2023-12-20T18:25:01.258Z"
   },
   {
    "duration": 29,
    "start_time": "2023-12-20T18:25:01.288Z"
   },
   {
    "duration": 15,
    "start_time": "2023-12-20T18:25:01.332Z"
   },
   {
    "duration": 259,
    "start_time": "2023-12-20T18:25:01.349Z"
   },
   {
    "duration": 284,
    "start_time": "2023-12-20T18:25:01.610Z"
   },
   {
    "duration": 17,
    "start_time": "2023-12-20T18:25:01.896Z"
   },
   {
    "duration": 106,
    "start_time": "2023-12-20T18:25:01.930Z"
   },
   {
    "duration": 4,
    "start_time": "2023-12-20T18:25:02.037Z"
   },
   {
    "duration": 3811,
    "start_time": "2023-12-20T18:25:02.043Z"
   },
   {
    "duration": 275,
    "start_time": "2023-12-20T18:25:05.856Z"
   },
   {
    "duration": 269,
    "start_time": "2023-12-20T18:25:06.133Z"
   },
   {
    "duration": 29,
    "start_time": "2023-12-20T18:25:06.403Z"
   },
   {
    "duration": 74,
    "start_time": "2023-12-20T18:25:06.434Z"
   },
   {
    "duration": 4,
    "start_time": "2023-12-20T18:25:06.509Z"
   },
   {
    "duration": 2252,
    "start_time": "2023-12-20T18:25:06.514Z"
   },
   {
    "duration": 259,
    "start_time": "2023-12-20T18:25:08.767Z"
   },
   {
    "duration": 9,
    "start_time": "2023-12-20T18:25:09.031Z"
   },
   {
    "duration": 195,
    "start_time": "2023-12-20T18:25:09.042Z"
   },
   {
    "duration": 464,
    "start_time": "2023-12-20T18:25:09.239Z"
   },
   {
    "duration": 14,
    "start_time": "2023-12-20T18:25:09.705Z"
   },
   {
    "duration": 27,
    "start_time": "2023-12-20T18:25:09.730Z"
   },
   {
    "duration": 20,
    "start_time": "2023-12-20T18:25:09.758Z"
   },
   {
    "duration": 212,
    "start_time": "2023-12-20T18:25:09.780Z"
   },
   {
    "duration": 41,
    "start_time": "2023-12-20T18:25:09.994Z"
   },
   {
    "duration": 32,
    "start_time": "2023-12-20T18:25:10.036Z"
   },
   {
    "duration": 40,
    "start_time": "2023-12-20T18:25:10.070Z"
   },
   {
    "duration": 26,
    "start_time": "2023-12-20T18:25:10.111Z"
   },
   {
    "duration": 35,
    "start_time": "2023-12-20T18:25:10.138Z"
   },
   {
    "duration": 296,
    "start_time": "2023-12-20T18:25:10.178Z"
   },
   {
    "duration": 21,
    "start_time": "2023-12-20T18:25:10.476Z"
   },
   {
    "duration": 298,
    "start_time": "2023-12-20T18:25:10.499Z"
   },
   {
    "duration": 87,
    "start_time": "2023-12-20T18:25:10.799Z"
   },
   {
    "duration": 80,
    "start_time": "2023-12-20T18:25:10.887Z"
   },
   {
    "duration": 15,
    "start_time": "2023-12-20T18:25:10.969Z"
   },
   {
    "duration": 3,
    "start_time": "2023-12-20T18:25:10.986Z"
   },
   {
    "duration": 671,
    "start_time": "2023-12-20T18:25:10.991Z"
   },
   {
    "duration": 346,
    "start_time": "2023-12-20T18:25:11.664Z"
   },
   {
    "duration": 21,
    "start_time": "2023-12-20T18:25:12.012Z"
   },
   {
    "duration": 17,
    "start_time": "2023-12-20T18:25:12.035Z"
   },
   {
    "duration": 52383,
    "start_time": "2023-12-20T18:25:12.053Z"
   },
   {
    "duration": 62740,
    "start_time": "2023-12-20T18:26:04.439Z"
   },
   {
    "duration": 1,
    "start_time": "2023-12-20T18:28:09.939Z"
   },
   {
    "duration": 0,
    "start_time": "2023-12-20T18:28:09.941Z"
   },
   {
    "duration": 0,
    "start_time": "2023-12-20T18:28:09.942Z"
   },
   {
    "duration": 0,
    "start_time": "2023-12-20T18:28:09.943Z"
   },
   {
    "duration": 0,
    "start_time": "2023-12-20T18:28:09.944Z"
   },
   {
    "duration": 0,
    "start_time": "2023-12-20T18:28:09.944Z"
   },
   {
    "duration": 0,
    "start_time": "2023-12-20T18:28:09.945Z"
   },
   {
    "duration": 0,
    "start_time": "2023-12-20T18:28:09.946Z"
   },
   {
    "duration": 0,
    "start_time": "2023-12-20T18:28:09.946Z"
   },
   {
    "duration": 0,
    "start_time": "2023-12-20T18:28:10.032Z"
   },
   {
    "duration": 0,
    "start_time": "2023-12-20T18:28:10.033Z"
   },
   {
    "duration": 0,
    "start_time": "2023-12-20T18:28:10.034Z"
   },
   {
    "duration": 0,
    "start_time": "2023-12-20T18:28:10.035Z"
   },
   {
    "duration": 0,
    "start_time": "2023-12-20T18:28:10.036Z"
   },
   {
    "duration": 0,
    "start_time": "2023-12-20T18:28:10.037Z"
   },
   {
    "duration": 1509,
    "start_time": "2023-12-20T18:28:38.229Z"
   },
   {
    "duration": 999,
    "start_time": "2023-12-20T18:28:39.740Z"
   },
   {
    "duration": 22,
    "start_time": "2023-12-20T18:28:40.741Z"
   },
   {
    "duration": 808,
    "start_time": "2023-12-20T18:28:40.765Z"
   },
   {
    "duration": 107,
    "start_time": "2023-12-20T18:28:41.575Z"
   },
   {
    "duration": 143,
    "start_time": "2023-12-20T18:28:41.685Z"
   },
   {
    "duration": 67,
    "start_time": "2023-12-20T18:28:41.831Z"
   },
   {
    "duration": 225,
    "start_time": "2023-12-20T18:28:41.899Z"
   },
   {
    "duration": 430,
    "start_time": "2023-12-20T18:28:42.126Z"
   },
   {
    "duration": 4,
    "start_time": "2023-12-20T18:28:42.559Z"
   },
   {
    "duration": 6,
    "start_time": "2023-12-20T18:28:42.565Z"
   },
   {
    "duration": 246,
    "start_time": "2023-12-20T18:28:42.573Z"
   },
   {
    "duration": 33,
    "start_time": "2023-12-20T18:28:42.822Z"
   },
   {
    "duration": 24,
    "start_time": "2023-12-20T18:28:42.857Z"
   },
   {
    "duration": 3,
    "start_time": "2023-12-20T18:28:42.883Z"
   },
   {
    "duration": 219,
    "start_time": "2023-12-20T18:28:42.888Z"
   },
   {
    "duration": 255,
    "start_time": "2023-12-20T18:28:43.110Z"
   },
   {
    "duration": 16,
    "start_time": "2023-12-20T18:28:43.367Z"
   },
   {
    "duration": 72,
    "start_time": "2023-12-20T18:28:43.385Z"
   },
   {
    "duration": 4,
    "start_time": "2023-12-20T18:28:43.459Z"
   },
   {
    "duration": 3757,
    "start_time": "2023-12-20T18:28:43.465Z"
   },
   {
    "duration": 249,
    "start_time": "2023-12-20T18:28:47.224Z"
   },
   {
    "duration": 259,
    "start_time": "2023-12-20T18:28:47.475Z"
   },
   {
    "duration": 16,
    "start_time": "2023-12-20T18:28:47.736Z"
   },
   {
    "duration": 94,
    "start_time": "2023-12-20T18:28:47.754Z"
   },
   {
    "duration": 3,
    "start_time": "2023-12-20T18:28:47.850Z"
   },
   {
    "duration": 2239,
    "start_time": "2023-12-20T18:28:47.854Z"
   },
   {
    "duration": 262,
    "start_time": "2023-12-20T18:28:50.098Z"
   },
   {
    "duration": 10,
    "start_time": "2023-12-20T18:28:50.362Z"
   },
   {
    "duration": 206,
    "start_time": "2023-12-20T18:28:50.374Z"
   },
   {
    "duration": 469,
    "start_time": "2023-12-20T18:28:50.583Z"
   },
   {
    "duration": 16,
    "start_time": "2023-12-20T18:28:51.054Z"
   },
   {
    "duration": 54,
    "start_time": "2023-12-20T18:28:51.072Z"
   },
   {
    "duration": 21,
    "start_time": "2023-12-20T18:28:51.129Z"
   },
   {
    "duration": 212,
    "start_time": "2023-12-20T18:28:51.152Z"
   },
   {
    "duration": 29,
    "start_time": "2023-12-20T18:28:51.365Z"
   },
   {
    "duration": 40,
    "start_time": "2023-12-20T18:28:51.396Z"
   },
   {
    "duration": 40,
    "start_time": "2023-12-20T18:28:51.438Z"
   },
   {
    "duration": 20,
    "start_time": "2023-12-20T18:28:51.480Z"
   },
   {
    "duration": 53,
    "start_time": "2023-12-20T18:28:51.502Z"
   },
   {
    "duration": 302,
    "start_time": "2023-12-20T18:28:51.557Z"
   },
   {
    "duration": 22,
    "start_time": "2023-12-20T18:28:51.861Z"
   },
   {
    "duration": 296,
    "start_time": "2023-12-20T18:28:51.885Z"
   },
   {
    "duration": 76,
    "start_time": "2023-12-20T18:28:52.182Z"
   },
   {
    "duration": 74,
    "start_time": "2023-12-20T18:28:52.260Z"
   },
   {
    "duration": 14,
    "start_time": "2023-12-20T18:28:52.336Z"
   },
   {
    "duration": 4,
    "start_time": "2023-12-20T18:28:52.352Z"
   },
   {
    "duration": 668,
    "start_time": "2023-12-20T18:28:52.357Z"
   },
   {
    "duration": 326,
    "start_time": "2023-12-20T18:28:53.027Z"
   },
   {
    "duration": 16,
    "start_time": "2023-12-20T18:28:53.355Z"
   },
   {
    "duration": 15,
    "start_time": "2023-12-20T18:28:53.373Z"
   },
   {
    "duration": 66543,
    "start_time": "2023-12-20T18:28:53.390Z"
   },
   {
    "duration": 77597,
    "start_time": "2023-12-20T18:29:59.936Z"
   },
   {
    "duration": 58114,
    "start_time": "2023-12-20T18:31:17.535Z"
   },
   {
    "duration": 182,
    "start_time": "2023-12-20T18:32:15.651Z"
   },
   {
    "duration": 0,
    "start_time": "2023-12-20T18:32:15.835Z"
   },
   {
    "duration": 0,
    "start_time": "2023-12-20T18:32:15.836Z"
   },
   {
    "duration": 0,
    "start_time": "2023-12-20T18:32:15.837Z"
   },
   {
    "duration": 0,
    "start_time": "2023-12-20T18:32:15.838Z"
   },
   {
    "duration": 0,
    "start_time": "2023-12-20T18:32:15.839Z"
   },
   {
    "duration": 0,
    "start_time": "2023-12-20T18:32:15.840Z"
   },
   {
    "duration": 0,
    "start_time": "2023-12-20T18:32:15.841Z"
   },
   {
    "duration": 0,
    "start_time": "2023-12-20T18:32:15.842Z"
   },
   {
    "duration": 0,
    "start_time": "2023-12-20T18:32:15.843Z"
   },
   {
    "duration": 0,
    "start_time": "2023-12-20T18:32:15.845Z"
   },
   {
    "duration": 0,
    "start_time": "2023-12-20T18:32:15.846Z"
   },
   {
    "duration": 0,
    "start_time": "2023-12-20T18:32:15.847Z"
   },
   {
    "duration": 29,
    "start_time": "2023-12-20T18:40:05.454Z"
   },
   {
    "duration": 5453,
    "start_time": "2023-12-20T18:40:11.131Z"
   },
   {
    "duration": 1512,
    "start_time": "2023-12-20T18:41:56.325Z"
   },
   {
    "duration": 998,
    "start_time": "2023-12-20T18:41:57.840Z"
   },
   {
    "duration": 21,
    "start_time": "2023-12-20T18:41:58.842Z"
   },
   {
    "duration": 708,
    "start_time": "2023-12-20T18:41:58.864Z"
   },
   {
    "duration": 119,
    "start_time": "2023-12-20T18:41:59.574Z"
   },
   {
    "duration": 138,
    "start_time": "2023-12-20T18:41:59.694Z"
   },
   {
    "duration": 65,
    "start_time": "2023-12-20T18:41:59.834Z"
   },
   {
    "duration": 224,
    "start_time": "2023-12-20T18:41:59.901Z"
   },
   {
    "duration": 406,
    "start_time": "2023-12-20T18:42:00.130Z"
   },
   {
    "duration": 4,
    "start_time": "2023-12-20T18:42:00.538Z"
   },
   {
    "duration": 58,
    "start_time": "2023-12-20T18:42:00.544Z"
   },
   {
    "duration": 265,
    "start_time": "2023-12-20T18:42:00.604Z"
   },
   {
    "duration": 24,
    "start_time": "2023-12-20T18:42:00.871Z"
   },
   {
    "duration": 42,
    "start_time": "2023-12-20T18:42:00.898Z"
   },
   {
    "duration": 50,
    "start_time": "2023-12-20T18:42:00.943Z"
   },
   {
    "duration": 271,
    "start_time": "2023-12-20T18:42:00.995Z"
   },
   {
    "duration": 272,
    "start_time": "2023-12-20T18:42:01.267Z"
   },
   {
    "duration": 27,
    "start_time": "2023-12-20T18:42:01.541Z"
   },
   {
    "duration": 129,
    "start_time": "2023-12-20T18:42:01.570Z"
   },
   {
    "duration": 8,
    "start_time": "2023-12-20T18:42:01.701Z"
   },
   {
    "duration": 3770,
    "start_time": "2023-12-20T18:42:01.711Z"
   },
   {
    "duration": 268,
    "start_time": "2023-12-20T18:42:05.482Z"
   },
   {
    "duration": 244,
    "start_time": "2023-12-20T18:42:05.752Z"
   },
   {
    "duration": 15,
    "start_time": "2023-12-20T18:42:05.998Z"
   },
   {
    "duration": 82,
    "start_time": "2023-12-20T18:42:06.014Z"
   },
   {
    "duration": 3,
    "start_time": "2023-12-20T18:42:06.098Z"
   },
   {
    "duration": 2271,
    "start_time": "2023-12-20T18:42:06.102Z"
   },
   {
    "duration": 247,
    "start_time": "2023-12-20T18:42:08.375Z"
   },
   {
    "duration": 13,
    "start_time": "2023-12-20T18:42:08.623Z"
   },
   {
    "duration": 184,
    "start_time": "2023-12-20T18:42:08.638Z"
   },
   {
    "duration": 409,
    "start_time": "2023-12-20T18:42:08.824Z"
   },
   {
    "duration": 14,
    "start_time": "2023-12-20T18:42:09.235Z"
   },
   {
    "duration": 45,
    "start_time": "2023-12-20T18:42:09.250Z"
   },
   {
    "duration": 19,
    "start_time": "2023-12-20T18:42:09.297Z"
   },
   {
    "duration": 195,
    "start_time": "2023-12-20T18:42:09.318Z"
   },
   {
    "duration": 38,
    "start_time": "2023-12-20T18:42:09.514Z"
   },
   {
    "duration": 45,
    "start_time": "2023-12-20T18:42:09.553Z"
   },
   {
    "duration": 42,
    "start_time": "2023-12-20T18:42:09.599Z"
   },
   {
    "duration": 20,
    "start_time": "2023-12-20T18:42:09.642Z"
   },
   {
    "duration": 53,
    "start_time": "2023-12-20T18:42:09.664Z"
   },
   {
    "duration": 254,
    "start_time": "2023-12-20T18:42:09.721Z"
   },
   {
    "duration": 22,
    "start_time": "2023-12-20T18:42:09.976Z"
   },
   {
    "duration": 284,
    "start_time": "2023-12-20T18:42:09.999Z"
   },
   {
    "duration": 70,
    "start_time": "2023-12-20T18:42:10.285Z"
   },
   {
    "duration": 57,
    "start_time": "2023-12-20T18:42:10.357Z"
   },
   {
    "duration": 14,
    "start_time": "2023-12-20T18:42:10.431Z"
   },
   {
    "duration": 4,
    "start_time": "2023-12-20T18:42:10.447Z"
   },
   {
    "duration": 583,
    "start_time": "2023-12-20T18:42:10.453Z"
   },
   {
    "duration": 328,
    "start_time": "2023-12-20T18:42:11.038Z"
   },
   {
    "duration": 17,
    "start_time": "2023-12-20T18:42:11.368Z"
   },
   {
    "duration": 16,
    "start_time": "2023-12-20T18:42:11.386Z"
   },
   {
    "duration": 53729,
    "start_time": "2023-12-20T18:42:11.403Z"
   },
   {
    "duration": 56428,
    "start_time": "2023-12-20T18:43:05.134Z"
   },
   {
    "duration": 57770,
    "start_time": "2023-12-20T18:44:01.564Z"
   },
   {
    "duration": 280969,
    "start_time": "2023-12-20T18:44:59.340Z"
   },
   {
    "duration": 106,
    "start_time": "2023-12-20T18:49:40.311Z"
   },
   {
    "duration": 1,
    "start_time": "2023-12-20T18:49:40.418Z"
   },
   {
    "duration": 0,
    "start_time": "2023-12-20T18:49:40.420Z"
   },
   {
    "duration": 0,
    "start_time": "2023-12-20T18:49:40.421Z"
   },
   {
    "duration": 0,
    "start_time": "2023-12-20T18:49:40.421Z"
   },
   {
    "duration": 0,
    "start_time": "2023-12-20T18:49:40.422Z"
   },
   {
    "duration": 0,
    "start_time": "2023-12-20T18:49:40.431Z"
   },
   {
    "duration": 0,
    "start_time": "2023-12-20T18:49:40.431Z"
   },
   {
    "duration": 0,
    "start_time": "2023-12-20T18:49:40.432Z"
   },
   {
    "duration": 0,
    "start_time": "2023-12-20T18:49:40.433Z"
   },
   {
    "duration": 0,
    "start_time": "2023-12-20T18:49:40.434Z"
   },
   {
    "duration": 0,
    "start_time": "2023-12-20T18:49:40.435Z"
   },
   {
    "duration": 22243,
    "start_time": "2023-12-20T19:01:32.453Z"
   },
   {
    "duration": 21597,
    "start_time": "2023-12-20T19:06:06.680Z"
   },
   {
    "duration": 279,
    "start_time": "2023-12-20T19:12:39.189Z"
   },
   {
    "duration": 279,
    "start_time": "2023-12-20T19:12:58.846Z"
   },
   {
    "duration": 266,
    "start_time": "2023-12-20T19:13:34.564Z"
   },
   {
    "duration": 103844,
    "start_time": "2023-12-20T19:19:30.399Z"
   },
   {
    "duration": 1436,
    "start_time": "2023-12-20T19:27:09.369Z"
   },
   {
    "duration": 959,
    "start_time": "2023-12-20T19:27:10.807Z"
   },
   {
    "duration": 21,
    "start_time": "2023-12-20T19:27:11.767Z"
   },
   {
    "duration": 725,
    "start_time": "2023-12-20T19:27:11.790Z"
   },
   {
    "duration": 115,
    "start_time": "2023-12-20T19:27:12.517Z"
   },
   {
    "duration": 142,
    "start_time": "2023-12-20T19:27:12.633Z"
   },
   {
    "duration": 74,
    "start_time": "2023-12-20T19:27:12.777Z"
   },
   {
    "duration": 211,
    "start_time": "2023-12-20T19:27:12.852Z"
   },
   {
    "duration": 430,
    "start_time": "2023-12-20T19:27:13.065Z"
   },
   {
    "duration": 4,
    "start_time": "2023-12-20T19:27:13.497Z"
   },
   {
    "duration": 10,
    "start_time": "2023-12-20T19:27:13.503Z"
   },
   {
    "duration": 215,
    "start_time": "2023-12-20T19:27:13.515Z"
   },
   {
    "duration": 23,
    "start_time": "2023-12-20T19:27:13.732Z"
   },
   {
    "duration": 21,
    "start_time": "2023-12-20T19:27:13.758Z"
   },
   {
    "duration": 3,
    "start_time": "2023-12-20T19:27:13.780Z"
   },
   {
    "duration": 201,
    "start_time": "2023-12-20T19:27:13.785Z"
   },
   {
    "duration": 242,
    "start_time": "2023-12-20T19:27:13.988Z"
   },
   {
    "duration": 15,
    "start_time": "2023-12-20T19:27:14.232Z"
   },
   {
    "duration": 61,
    "start_time": "2023-12-20T19:27:14.249Z"
   },
   {
    "duration": 4,
    "start_time": "2023-12-20T19:27:14.311Z"
   },
   {
    "duration": 3627,
    "start_time": "2023-12-20T19:27:14.331Z"
   },
   {
    "duration": 248,
    "start_time": "2023-12-20T19:27:17.960Z"
   },
   {
    "duration": 240,
    "start_time": "2023-12-20T19:27:18.210Z"
   },
   {
    "duration": 15,
    "start_time": "2023-12-20T19:27:18.451Z"
   },
   {
    "duration": 79,
    "start_time": "2023-12-20T19:27:18.468Z"
   },
   {
    "duration": 3,
    "start_time": "2023-12-20T19:27:18.549Z"
   },
   {
    "duration": 2190,
    "start_time": "2023-12-20T19:27:18.553Z"
   },
   {
    "duration": 252,
    "start_time": "2023-12-20T19:27:20.745Z"
   },
   {
    "duration": 9,
    "start_time": "2023-12-20T19:27:20.999Z"
   },
   {
    "duration": 237,
    "start_time": "2023-12-20T19:27:21.009Z"
   },
   {
    "duration": 443,
    "start_time": "2023-12-20T19:27:21.248Z"
   },
   {
    "duration": 16,
    "start_time": "2023-12-20T19:27:21.693Z"
   },
   {
    "duration": 47,
    "start_time": "2023-12-20T19:27:21.711Z"
   },
   {
    "duration": 20,
    "start_time": "2023-12-20T19:27:21.760Z"
   },
   {
    "duration": 212,
    "start_time": "2023-12-20T19:27:21.782Z"
   },
   {
    "duration": 38,
    "start_time": "2023-12-20T19:27:21.995Z"
   },
   {
    "duration": 31,
    "start_time": "2023-12-20T19:27:22.035Z"
   },
   {
    "duration": 37,
    "start_time": "2023-12-20T19:27:22.068Z"
   },
   {
    "duration": 24,
    "start_time": "2023-12-20T19:27:22.106Z"
   },
   {
    "duration": 45,
    "start_time": "2023-12-20T19:27:22.132Z"
   },
   {
    "duration": 276,
    "start_time": "2023-12-20T19:27:22.181Z"
   },
   {
    "duration": 21,
    "start_time": "2023-12-20T19:27:22.458Z"
   },
   {
    "duration": 287,
    "start_time": "2023-12-20T19:27:22.481Z"
   },
   {
    "duration": 73,
    "start_time": "2023-12-20T19:27:22.770Z"
   },
   {
    "duration": 63,
    "start_time": "2023-12-20T19:27:22.844Z"
   },
   {
    "duration": 39,
    "start_time": "2023-12-20T19:27:22.909Z"
   },
   {
    "duration": 3,
    "start_time": "2023-12-20T19:27:22.950Z"
   },
   {
    "duration": 606,
    "start_time": "2023-12-20T19:27:22.955Z"
   },
   {
    "duration": 335,
    "start_time": "2023-12-20T19:27:23.563Z"
   },
   {
    "duration": 16,
    "start_time": "2023-12-20T19:27:23.899Z"
   },
   {
    "duration": 24,
    "start_time": "2023-12-20T19:27:23.917Z"
   },
   {
    "duration": 52694,
    "start_time": "2023-12-20T19:27:23.943Z"
   },
   {
    "duration": 59794,
    "start_time": "2023-12-20T19:28:16.639Z"
   },
   {
    "duration": 61896,
    "start_time": "2023-12-20T19:29:16.436Z"
   },
   {
    "duration": 285405,
    "start_time": "2023-12-20T19:30:18.335Z"
   },
   {
    "duration": 21592,
    "start_time": "2023-12-20T19:35:03.742Z"
   },
   {
    "duration": 94908,
    "start_time": "2023-12-20T19:35:25.335Z"
   },
   {
    "duration": 12793,
    "start_time": "2023-12-20T19:37:00.245Z"
   },
   {
    "duration": 194,
    "start_time": "2023-12-20T19:37:13.041Z"
   },
   {
    "duration": 1912,
    "start_time": "2023-12-20T19:37:13.237Z"
   },
   {
    "duration": 59,
    "start_time": "2023-12-20T19:37:15.151Z"
   },
   {
    "duration": 5176,
    "start_time": "2023-12-20T19:37:15.211Z"
   },
   {
    "duration": 52,
    "start_time": "2023-12-20T19:37:20.389Z"
   },
   {
    "duration": 63,
    "start_time": "2023-12-20T19:37:20.443Z"
   },
   {
    "duration": 63,
    "start_time": "2023-12-20T19:37:20.509Z"
   },
   {
    "duration": 16,
    "start_time": "2023-12-20T19:37:20.574Z"
   },
   {
    "duration": 55,
    "start_time": "2023-12-20T19:44:22.964Z"
   },
   {
    "duration": 53,
    "start_time": "2023-12-20T19:44:23.021Z"
   },
   {
    "duration": 529,
    "start_time": "2023-12-20T19:44:23.076Z"
   },
   {
    "duration": 74,
    "start_time": "2023-12-20T19:44:23.607Z"
   },
   {
    "duration": 1436,
    "start_time": "2023-12-20T19:44:29.165Z"
   },
   {
    "duration": 983,
    "start_time": "2023-12-20T19:44:30.603Z"
   },
   {
    "duration": 22,
    "start_time": "2023-12-20T19:44:31.588Z"
   },
   {
    "duration": 690,
    "start_time": "2023-12-20T19:44:31.612Z"
   },
   {
    "duration": 103,
    "start_time": "2023-12-20T19:44:32.305Z"
   },
   {
    "duration": 139,
    "start_time": "2023-12-20T19:44:32.410Z"
   },
   {
    "duration": 61,
    "start_time": "2023-12-20T19:44:32.551Z"
   },
   {
    "duration": 234,
    "start_time": "2023-12-20T19:44:32.614Z"
   },
   {
    "duration": 411,
    "start_time": "2023-12-20T19:44:32.850Z"
   },
   {
    "duration": 4,
    "start_time": "2023-12-20T19:44:33.262Z"
   },
   {
    "duration": 5,
    "start_time": "2023-12-20T19:44:33.268Z"
   },
   {
    "duration": 227,
    "start_time": "2023-12-20T19:44:33.274Z"
   },
   {
    "duration": 33,
    "start_time": "2023-12-20T19:44:33.503Z"
   },
   {
    "duration": 22,
    "start_time": "2023-12-20T19:44:33.540Z"
   },
   {
    "duration": 3,
    "start_time": "2023-12-20T19:44:33.564Z"
   },
   {
    "duration": 219,
    "start_time": "2023-12-20T19:44:33.569Z"
   },
   {
    "duration": 261,
    "start_time": "2023-12-20T19:44:33.790Z"
   },
   {
    "duration": 17,
    "start_time": "2023-12-20T19:44:34.053Z"
   },
   {
    "duration": 83,
    "start_time": "2023-12-20T19:44:34.072Z"
   },
   {
    "duration": 5,
    "start_time": "2023-12-20T19:44:34.156Z"
   },
   {
    "duration": 3688,
    "start_time": "2023-12-20T19:44:34.162Z"
   },
   {
    "duration": 252,
    "start_time": "2023-12-20T19:44:37.852Z"
   },
   {
    "duration": 276,
    "start_time": "2023-12-20T19:44:38.105Z"
   },
   {
    "duration": 16,
    "start_time": "2023-12-20T19:44:38.382Z"
   },
   {
    "duration": 77,
    "start_time": "2023-12-20T19:44:38.399Z"
   },
   {
    "duration": 3,
    "start_time": "2023-12-20T19:44:38.478Z"
   },
   {
    "duration": 2253,
    "start_time": "2023-12-20T19:44:38.483Z"
   },
   {
    "duration": 268,
    "start_time": "2023-12-20T19:44:40.737Z"
   },
   {
    "duration": 9,
    "start_time": "2023-12-20T19:44:41.007Z"
   },
   {
    "duration": 244,
    "start_time": "2023-12-20T19:44:41.017Z"
   },
   {
    "duration": 472,
    "start_time": "2023-12-20T19:44:41.262Z"
   },
   {
    "duration": 15,
    "start_time": "2023-12-20T19:44:41.736Z"
   },
   {
    "duration": 28,
    "start_time": "2023-12-20T19:44:41.752Z"
   },
   {
    "duration": 19,
    "start_time": "2023-12-20T19:44:41.782Z"
   },
   {
    "duration": 236,
    "start_time": "2023-12-20T19:44:41.802Z"
   },
   {
    "duration": 31,
    "start_time": "2023-12-20T19:44:42.040Z"
   },
   {
    "duration": 23,
    "start_time": "2023-12-20T19:44:42.073Z"
   },
   {
    "duration": 58,
    "start_time": "2023-12-20T19:44:42.098Z"
   },
   {
    "duration": 22,
    "start_time": "2023-12-20T19:44:42.157Z"
   },
   {
    "duration": 57,
    "start_time": "2023-12-20T19:44:42.181Z"
   },
   {
    "duration": 314,
    "start_time": "2023-12-20T19:44:42.242Z"
   },
   {
    "duration": 21,
    "start_time": "2023-12-20T19:44:42.559Z"
   },
   {
    "duration": 283,
    "start_time": "2023-12-20T19:44:42.582Z"
   },
   {
    "duration": 74,
    "start_time": "2023-12-20T19:44:42.867Z"
   },
   {
    "duration": 57,
    "start_time": "2023-12-20T19:44:42.942Z"
   },
   {
    "duration": 13,
    "start_time": "2023-12-20T19:44:43.001Z"
   },
   {
    "duration": 3,
    "start_time": "2023-12-20T19:44:43.031Z"
   },
   {
    "duration": 615,
    "start_time": "2023-12-20T19:44:43.036Z"
   },
   {
    "duration": 351,
    "start_time": "2023-12-20T19:44:43.653Z"
   },
   {
    "duration": 15,
    "start_time": "2023-12-20T19:44:44.006Z"
   },
   {
    "duration": 21,
    "start_time": "2023-12-20T19:44:44.023Z"
   },
   {
    "duration": 52689,
    "start_time": "2023-12-20T19:44:44.046Z"
   },
   {
    "duration": 58893,
    "start_time": "2023-12-20T19:45:36.740Z"
   },
   {
    "duration": 58515,
    "start_time": "2023-12-20T19:46:35.635Z"
   },
   {
    "duration": 286414,
    "start_time": "2023-12-20T19:47:34.153Z"
   },
   {
    "duration": 21548,
    "start_time": "2023-12-20T19:52:20.569Z"
   },
   {
    "duration": 70,
    "start_time": "2023-12-20T19:52:42.120Z"
   },
   {
    "duration": 0,
    "start_time": "2023-12-20T19:52:42.191Z"
   },
   {
    "duration": 0,
    "start_time": "2023-12-20T19:52:42.193Z"
   },
   {
    "duration": 0,
    "start_time": "2023-12-20T19:52:42.194Z"
   },
   {
    "duration": 0,
    "start_time": "2023-12-20T19:52:42.196Z"
   },
   {
    "duration": 0,
    "start_time": "2023-12-20T19:52:42.197Z"
   },
   {
    "duration": 0,
    "start_time": "2023-12-20T19:52:42.199Z"
   },
   {
    "duration": 0,
    "start_time": "2023-12-20T19:52:42.200Z"
   },
   {
    "duration": 0,
    "start_time": "2023-12-20T19:52:42.202Z"
   },
   {
    "duration": 0,
    "start_time": "2023-12-20T19:52:42.203Z"
   },
   {
    "duration": 1435,
    "start_time": "2023-12-20T20:01:34.815Z"
   },
   {
    "duration": 986,
    "start_time": "2023-12-20T20:01:36.252Z"
   },
   {
    "duration": 21,
    "start_time": "2023-12-20T20:01:37.240Z"
   },
   {
    "duration": 769,
    "start_time": "2023-12-20T20:01:37.264Z"
   },
   {
    "duration": 109,
    "start_time": "2023-12-20T20:01:38.035Z"
   },
   {
    "duration": 140,
    "start_time": "2023-12-20T20:01:38.146Z"
   },
   {
    "duration": 70,
    "start_time": "2023-12-20T20:01:38.288Z"
   },
   {
    "duration": 224,
    "start_time": "2023-12-20T20:01:38.359Z"
   },
   {
    "duration": 442,
    "start_time": "2023-12-20T20:01:38.585Z"
   },
   {
    "duration": 5,
    "start_time": "2023-12-20T20:01:39.030Z"
   },
   {
    "duration": 7,
    "start_time": "2023-12-20T20:01:39.037Z"
   },
   {
    "duration": 230,
    "start_time": "2023-12-20T20:01:39.046Z"
   },
   {
    "duration": 29,
    "start_time": "2023-12-20T20:01:39.278Z"
   },
   {
    "duration": 41,
    "start_time": "2023-12-20T20:01:39.309Z"
   },
   {
    "duration": 3,
    "start_time": "2023-12-20T20:01:39.352Z"
   },
   {
    "duration": 223,
    "start_time": "2023-12-20T20:01:39.357Z"
   },
   {
    "duration": 274,
    "start_time": "2023-12-20T20:01:39.582Z"
   },
   {
    "duration": 16,
    "start_time": "2023-12-20T20:01:39.858Z"
   },
   {
    "duration": 93,
    "start_time": "2023-12-20T20:01:39.875Z"
   },
   {
    "duration": 8,
    "start_time": "2023-12-20T20:01:39.970Z"
   },
   {
    "duration": 3915,
    "start_time": "2023-12-20T20:01:39.980Z"
   },
   {
    "duration": 251,
    "start_time": "2023-12-20T20:01:43.897Z"
   },
   {
    "duration": 254,
    "start_time": "2023-12-20T20:01:44.150Z"
   },
   {
    "duration": 28,
    "start_time": "2023-12-20T20:01:44.405Z"
   },
   {
    "duration": 65,
    "start_time": "2023-12-20T20:01:44.434Z"
   },
   {
    "duration": 4,
    "start_time": "2023-12-20T20:01:44.501Z"
   },
   {
    "duration": 2267,
    "start_time": "2023-12-20T20:01:44.509Z"
   },
   {
    "duration": 245,
    "start_time": "2023-12-20T20:01:46.780Z"
   },
   {
    "duration": 9,
    "start_time": "2023-12-20T20:01:47.031Z"
   },
   {
    "duration": 189,
    "start_time": "2023-12-20T20:01:47.042Z"
   },
   {
    "duration": 448,
    "start_time": "2023-12-20T20:01:47.232Z"
   },
   {
    "duration": 14,
    "start_time": "2023-12-20T20:01:47.682Z"
   },
   {
    "duration": 40,
    "start_time": "2023-12-20T20:01:47.698Z"
   },
   {
    "duration": 21,
    "start_time": "2023-12-20T20:01:47.740Z"
   },
   {
    "duration": 223,
    "start_time": "2023-12-20T20:01:47.763Z"
   },
   {
    "duration": 27,
    "start_time": "2023-12-20T20:01:47.988Z"
   },
   {
    "duration": 44,
    "start_time": "2023-12-20T20:01:48.022Z"
   },
   {
    "duration": 29,
    "start_time": "2023-12-20T20:01:48.067Z"
   },
   {
    "duration": 20,
    "start_time": "2023-12-20T20:01:48.097Z"
   },
   {
    "duration": 36,
    "start_time": "2023-12-20T20:01:48.118Z"
   },
   {
    "duration": 294,
    "start_time": "2023-12-20T20:01:48.156Z"
   },
   {
    "duration": 21,
    "start_time": "2023-12-20T20:01:48.451Z"
   },
   {
    "duration": 281,
    "start_time": "2023-12-20T20:01:48.474Z"
   },
   {
    "duration": 61,
    "start_time": "2023-12-20T20:01:48.757Z"
   },
   {
    "duration": 59,
    "start_time": "2023-12-20T20:01:48.830Z"
   },
   {
    "duration": 13,
    "start_time": "2023-12-20T20:01:48.891Z"
   },
   {
    "duration": 3,
    "start_time": "2023-12-20T20:01:48.905Z"
   },
   {
    "duration": 611,
    "start_time": "2023-12-20T20:01:48.931Z"
   },
   {
    "duration": 356,
    "start_time": "2023-12-20T20:01:49.544Z"
   },
   {
    "duration": 16,
    "start_time": "2023-12-20T20:01:49.902Z"
   },
   {
    "duration": 51,
    "start_time": "2023-12-20T20:01:49.920Z"
   },
   {
    "duration": 54264,
    "start_time": "2023-12-20T20:01:49.973Z"
   },
   {
    "duration": 58292,
    "start_time": "2023-12-20T20:02:44.240Z"
   },
   {
    "duration": 58599,
    "start_time": "2023-12-20T20:03:42.535Z"
   },
   {
    "duration": 129,
    "start_time": "2023-12-20T20:04:41.139Z"
   },
   {
    "duration": 0,
    "start_time": "2023-12-20T20:04:41.270Z"
   },
   {
    "duration": 0,
    "start_time": "2023-12-20T20:04:41.271Z"
   },
   {
    "duration": 0,
    "start_time": "2023-12-20T20:04:41.272Z"
   },
   {
    "duration": 0,
    "start_time": "2023-12-20T20:04:41.273Z"
   },
   {
    "duration": 0,
    "start_time": "2023-12-20T20:04:41.274Z"
   },
   {
    "duration": 0,
    "start_time": "2023-12-20T20:04:41.275Z"
   },
   {
    "duration": 0,
    "start_time": "2023-12-20T20:04:41.276Z"
   },
   {
    "duration": 0,
    "start_time": "2023-12-20T20:04:41.277Z"
   },
   {
    "duration": 0,
    "start_time": "2023-12-20T20:04:41.278Z"
   },
   {
    "duration": 0,
    "start_time": "2023-12-20T20:04:41.279Z"
   },
   {
    "duration": 0,
    "start_time": "2023-12-20T20:04:41.280Z"
   },
   {
    "duration": 289495,
    "start_time": "2023-12-20T20:14:53.102Z"
   },
   {
    "duration": 22038,
    "start_time": "2023-12-20T20:19:42.600Z"
   },
   {
    "duration": 41,
    "start_time": "2023-12-20T20:20:04.640Z"
   },
   {
    "duration": 114419,
    "start_time": "2023-12-20T20:23:15.413Z"
   },
   {
    "duration": 12698,
    "start_time": "2023-12-20T20:25:09.834Z"
   },
   {
    "duration": 114,
    "start_time": "2023-12-20T20:25:22.534Z"
   },
   {
    "duration": 297,
    "start_time": "2023-12-20T20:25:22.730Z"
   },
   {
    "duration": 68,
    "start_time": "2023-12-20T20:25:23.029Z"
   },
   {
    "duration": 5197,
    "start_time": "2023-12-20T20:25:23.099Z"
   },
   {
    "duration": 53,
    "start_time": "2023-12-20T20:25:28.298Z"
   },
   {
    "duration": 560,
    "start_time": "2023-12-20T20:25:28.353Z"
   },
   {
    "duration": 70,
    "start_time": "2023-12-20T20:25:28.914Z"
   },
   {
    "duration": 13,
    "start_time": "2023-12-20T20:25:28.987Z"
   },
   {
    "duration": 1693,
    "start_time": "2023-12-20T20:28:20.350Z"
   },
   {
    "duration": 21053,
    "start_time": "2023-12-20T20:29:13.915Z"
   },
   {
    "duration": 207,
    "start_time": "2023-12-20T20:29:58.741Z"
   },
   {
    "duration": 8562,
    "start_time": "2023-12-20T20:30:10.979Z"
   },
   {
    "duration": 694,
    "start_time": "2023-12-20T20:30:19.543Z"
   },
   {
    "duration": 19,
    "start_time": "2023-12-20T20:30:20.239Z"
   },
   {
    "duration": 1449,
    "start_time": "2023-12-20T20:53:14.500Z"
   },
   {
    "duration": 962,
    "start_time": "2023-12-20T20:53:15.951Z"
   },
   {
    "duration": 27,
    "start_time": "2023-12-20T20:53:16.915Z"
   },
   {
    "duration": 713,
    "start_time": "2023-12-20T20:53:16.944Z"
   },
   {
    "duration": 135,
    "start_time": "2023-12-20T20:53:17.659Z"
   },
   {
    "duration": 142,
    "start_time": "2023-12-20T20:53:17.796Z"
   },
   {
    "duration": 60,
    "start_time": "2023-12-20T20:53:17.940Z"
   },
   {
    "duration": 220,
    "start_time": "2023-12-20T20:53:18.002Z"
   },
   {
    "duration": 410,
    "start_time": "2023-12-20T20:53:18.223Z"
   },
   {
    "duration": 4,
    "start_time": "2023-12-20T20:53:18.635Z"
   },
   {
    "duration": 8,
    "start_time": "2023-12-20T20:53:18.641Z"
   },
   {
    "duration": 224,
    "start_time": "2023-12-20T20:53:18.651Z"
   },
   {
    "duration": 24,
    "start_time": "2023-12-20T20:53:18.877Z"
   },
   {
    "duration": 42,
    "start_time": "2023-12-20T20:53:18.903Z"
   },
   {
    "duration": 2,
    "start_time": "2023-12-20T20:53:18.947Z"
   },
   {
    "duration": 224,
    "start_time": "2023-12-20T20:53:18.951Z"
   },
   {
    "duration": 255,
    "start_time": "2023-12-20T20:53:19.177Z"
   },
   {
    "duration": 15,
    "start_time": "2023-12-20T20:53:19.433Z"
   },
   {
    "duration": 60,
    "start_time": "2023-12-20T20:53:19.450Z"
   },
   {
    "duration": 3,
    "start_time": "2023-12-20T20:53:19.512Z"
   },
   {
    "duration": 3649,
    "start_time": "2023-12-20T20:53:19.516Z"
   },
   {
    "duration": 246,
    "start_time": "2023-12-20T20:53:23.167Z"
   },
   {
    "duration": 258,
    "start_time": "2023-12-20T20:53:23.414Z"
   },
   {
    "duration": 16,
    "start_time": "2023-12-20T20:53:23.674Z"
   },
   {
    "duration": 84,
    "start_time": "2023-12-20T20:53:23.691Z"
   },
   {
    "duration": 4,
    "start_time": "2023-12-20T20:53:23.777Z"
   },
   {
    "duration": 2290,
    "start_time": "2023-12-20T20:53:23.783Z"
   },
   {
    "duration": 267,
    "start_time": "2023-12-20T20:53:26.077Z"
   },
   {
    "duration": 10,
    "start_time": "2023-12-20T20:53:26.346Z"
   },
   {
    "duration": 196,
    "start_time": "2023-12-20T20:53:26.358Z"
   },
   {
    "duration": 419,
    "start_time": "2023-12-20T20:53:26.555Z"
   },
   {
    "duration": 15,
    "start_time": "2023-12-20T20:53:26.975Z"
   },
   {
    "duration": 38,
    "start_time": "2023-12-20T20:53:26.992Z"
   },
   {
    "duration": 18,
    "start_time": "2023-12-20T20:53:27.032Z"
   },
   {
    "duration": 196,
    "start_time": "2023-12-20T20:53:27.052Z"
   },
   {
    "duration": 26,
    "start_time": "2023-12-20T20:53:27.250Z"
   },
   {
    "duration": 25,
    "start_time": "2023-12-20T20:53:27.278Z"
   },
   {
    "duration": 52,
    "start_time": "2023-12-20T20:53:27.305Z"
   },
   {
    "duration": 22,
    "start_time": "2023-12-20T20:53:27.358Z"
   },
   {
    "duration": 51,
    "start_time": "2023-12-20T20:53:27.381Z"
   },
   {
    "duration": 285,
    "start_time": "2023-12-20T20:53:27.433Z"
   },
   {
    "duration": 21,
    "start_time": "2023-12-20T20:53:27.730Z"
   },
   {
    "duration": 282,
    "start_time": "2023-12-20T20:53:27.753Z"
   },
   {
    "duration": 60,
    "start_time": "2023-12-20T20:53:28.036Z"
   },
   {
    "duration": 80,
    "start_time": "2023-12-20T20:53:28.098Z"
   },
   {
    "duration": 15,
    "start_time": "2023-12-20T20:53:28.179Z"
   },
   {
    "duration": 3,
    "start_time": "2023-12-20T20:53:28.196Z"
   },
   {
    "duration": 601,
    "start_time": "2023-12-20T20:53:28.200Z"
   },
   {
    "duration": 333,
    "start_time": "2023-12-20T20:53:28.803Z"
   },
   {
    "duration": 15,
    "start_time": "2023-12-20T20:53:29.138Z"
   },
   {
    "duration": 18,
    "start_time": "2023-12-20T20:53:29.155Z"
   },
   {
    "duration": 52760,
    "start_time": "2023-12-20T20:53:29.174Z"
   },
   {
    "duration": 57293,
    "start_time": "2023-12-20T20:54:21.937Z"
   },
   {
    "duration": 58693,
    "start_time": "2023-12-20T20:55:19.238Z"
   },
   {
    "duration": 297865,
    "start_time": "2023-12-20T20:56:17.934Z"
   },
   {
    "duration": 23030,
    "start_time": "2023-12-20T21:01:15.801Z"
   },
   {
    "duration": 116509,
    "start_time": "2023-12-20T21:01:38.833Z"
   },
   {
    "duration": 13888,
    "start_time": "2023-12-20T21:03:35.343Z"
   },
   {
    "duration": 109,
    "start_time": "2023-12-20T21:03:49.233Z"
   },
   {
    "duration": 22111,
    "start_time": "2023-12-20T21:03:49.431Z"
   },
   {
    "duration": 210,
    "start_time": "2023-12-20T21:04:11.544Z"
   },
   {
    "duration": 5242,
    "start_time": "2023-12-20T21:04:11.756Z"
   },
   {
    "duration": 51,
    "start_time": "2023-12-20T21:04:17.000Z"
   },
   {
    "duration": 8079,
    "start_time": "2023-12-20T21:04:17.053Z"
   },
   {
    "duration": 698,
    "start_time": "2023-12-20T21:04:25.134Z"
   },
   {
    "duration": 21,
    "start_time": "2023-12-20T21:04:25.834Z"
   },
   {
    "duration": 1714,
    "start_time": "2023-12-21T19:27:05.703Z"
   },
   {
    "duration": 1111,
    "start_time": "2023-12-21T19:27:07.419Z"
   },
   {
    "duration": 20,
    "start_time": "2023-12-21T19:27:08.531Z"
   },
   {
    "duration": 607,
    "start_time": "2023-12-21T19:27:08.553Z"
   },
   {
    "duration": 95,
    "start_time": "2023-12-21T19:27:09.163Z"
   },
   {
    "duration": 117,
    "start_time": "2023-12-21T19:27:09.260Z"
   },
   {
    "duration": 63,
    "start_time": "2023-12-21T19:27:09.379Z"
   },
   {
    "duration": 202,
    "start_time": "2023-12-21T19:27:09.444Z"
   },
   {
    "duration": 392,
    "start_time": "2023-12-21T19:27:09.648Z"
   },
   {
    "duration": 4,
    "start_time": "2023-12-21T19:27:10.041Z"
   },
   {
    "duration": 25,
    "start_time": "2023-12-21T19:27:10.046Z"
   },
   {
    "duration": 213,
    "start_time": "2023-12-21T19:27:10.072Z"
   },
   {
    "duration": 33,
    "start_time": "2023-12-21T19:27:10.287Z"
   },
   {
    "duration": 20,
    "start_time": "2023-12-21T19:27:10.323Z"
   },
   {
    "duration": 21,
    "start_time": "2023-12-21T19:27:10.345Z"
   },
   {
    "duration": 185,
    "start_time": "2023-12-21T19:27:10.368Z"
   },
   {
    "duration": 243,
    "start_time": "2023-12-21T19:27:10.554Z"
   },
   {
    "duration": 20,
    "start_time": "2023-12-21T19:27:10.798Z"
   },
   {
    "duration": 77,
    "start_time": "2023-12-21T19:27:10.820Z"
   },
   {
    "duration": 3,
    "start_time": "2023-12-21T19:27:10.899Z"
   },
   {
    "duration": 3544,
    "start_time": "2023-12-21T19:27:10.903Z"
   },
   {
    "duration": 251,
    "start_time": "2023-12-21T19:27:14.448Z"
   },
   {
    "duration": 257,
    "start_time": "2023-12-21T19:27:14.701Z"
   },
   {
    "duration": 16,
    "start_time": "2023-12-21T19:27:14.959Z"
   },
   {
    "duration": 68,
    "start_time": "2023-12-21T19:27:14.977Z"
   },
   {
    "duration": 3,
    "start_time": "2023-12-21T19:27:15.046Z"
   },
   {
    "duration": 2238,
    "start_time": "2023-12-21T19:27:15.051Z"
   },
   {
    "duration": 237,
    "start_time": "2023-12-21T19:27:17.290Z"
   },
   {
    "duration": 9,
    "start_time": "2023-12-21T19:27:17.528Z"
   },
   {
    "duration": 181,
    "start_time": "2023-12-21T19:27:17.538Z"
   },
   {
    "duration": 422,
    "start_time": "2023-12-21T19:27:17.720Z"
   },
   {
    "duration": 14,
    "start_time": "2023-12-21T19:27:18.143Z"
   },
   {
    "duration": 22,
    "start_time": "2023-12-21T19:27:18.159Z"
   },
   {
    "duration": 44,
    "start_time": "2023-12-21T19:27:18.183Z"
   },
   {
    "duration": 192,
    "start_time": "2023-12-21T19:27:18.228Z"
   },
   {
    "duration": 26,
    "start_time": "2023-12-21T19:27:18.422Z"
   },
   {
    "duration": 25,
    "start_time": "2023-12-21T19:27:18.450Z"
   },
   {
    "duration": 47,
    "start_time": "2023-12-21T19:27:18.476Z"
   },
   {
    "duration": 20,
    "start_time": "2023-12-21T19:27:18.524Z"
   },
   {
    "duration": 46,
    "start_time": "2023-12-21T19:27:18.545Z"
   },
   {
    "duration": 256,
    "start_time": "2023-12-21T19:27:18.595Z"
   },
   {
    "duration": 21,
    "start_time": "2023-12-21T19:27:18.852Z"
   },
   {
    "duration": 293,
    "start_time": "2023-12-21T19:27:18.875Z"
   },
   {
    "duration": 67,
    "start_time": "2023-12-21T19:27:19.169Z"
   },
   {
    "duration": 104,
    "start_time": "2023-12-21T19:27:19.237Z"
   },
   {
    "duration": 11,
    "start_time": "2023-12-21T19:27:19.342Z"
   },
   {
    "duration": 3,
    "start_time": "2023-12-21T19:27:19.354Z"
   },
   {
    "duration": 13,
    "start_time": "2023-12-21T19:27:19.358Z"
   },
   {
    "duration": 43,
    "start_time": "2023-12-21T19:27:19.372Z"
   },
   {
    "duration": 398,
    "start_time": "2023-12-21T19:27:19.416Z"
   },
   {
    "duration": 138,
    "start_time": "2023-12-21T19:27:19.816Z"
   },
   {
    "duration": 14,
    "start_time": "2023-12-21T19:27:19.956Z"
   },
   {
    "duration": 16,
    "start_time": "2023-12-21T19:27:19.972Z"
   },
   {
    "duration": 66733,
    "start_time": "2023-12-21T19:27:19.989Z"
   },
   {
    "duration": 58801,
    "start_time": "2023-12-21T19:28:26.814Z"
   },
   {
    "duration": 58096,
    "start_time": "2023-12-21T19:29:25.618Z"
   },
   {
    "duration": 264321,
    "start_time": "2023-12-21T19:30:23.717Z"
   },
   {
    "duration": 21473,
    "start_time": "2023-12-21T19:34:48.040Z"
   },
   {
    "duration": 83404,
    "start_time": "2023-12-21T19:35:09.515Z"
   },
   {
    "duration": 12895,
    "start_time": "2023-12-21T19:36:32.921Z"
   },
   {
    "duration": 300,
    "start_time": "2023-12-21T19:36:45.817Z"
   },
   {
    "duration": 19455,
    "start_time": "2023-12-21T19:36:46.119Z"
   },
   {
    "duration": 826,
    "start_time": "2023-12-21T19:37:05.575Z"
   },
   {
    "duration": 5010,
    "start_time": "2023-12-21T19:37:06.402Z"
   },
   {
    "duration": 49,
    "start_time": "2023-12-21T19:37:11.413Z"
   },
   {
    "duration": 7654,
    "start_time": "2023-12-21T19:37:11.464Z"
   },
   {
    "duration": 94,
    "start_time": "2023-12-21T19:37:19.119Z"
   },
   {
    "duration": 14,
    "start_time": "2023-12-21T19:37:19.215Z"
   },
   {
    "duration": 1341,
    "start_time": "2023-12-21T19:44:34.246Z"
   },
   {
    "duration": 880,
    "start_time": "2023-12-21T19:44:35.589Z"
   },
   {
    "duration": 19,
    "start_time": "2023-12-21T19:44:36.470Z"
   },
   {
    "duration": 624,
    "start_time": "2023-12-21T19:44:36.490Z"
   },
   {
    "duration": 98,
    "start_time": "2023-12-21T19:44:37.117Z"
   },
   {
    "duration": 112,
    "start_time": "2023-12-21T19:44:37.216Z"
   },
   {
    "duration": 54,
    "start_time": "2023-12-21T19:44:37.330Z"
   },
   {
    "duration": 208,
    "start_time": "2023-12-21T19:44:37.385Z"
   },
   {
    "duration": 399,
    "start_time": "2023-12-21T19:44:37.595Z"
   },
   {
    "duration": 4,
    "start_time": "2023-12-21T19:44:37.996Z"
   },
   {
    "duration": 15,
    "start_time": "2023-12-21T19:44:38.001Z"
   },
   {
    "duration": 215,
    "start_time": "2023-12-21T19:44:38.017Z"
   },
   {
    "duration": 24,
    "start_time": "2023-12-21T19:44:38.234Z"
   },
   {
    "duration": 21,
    "start_time": "2023-12-21T19:44:38.261Z"
   },
   {
    "duration": 2,
    "start_time": "2023-12-21T19:44:38.283Z"
   },
   {
    "duration": 200,
    "start_time": "2023-12-21T19:44:38.287Z"
   },
   {
    "duration": 235,
    "start_time": "2023-12-21T19:44:38.489Z"
   },
   {
    "duration": 14,
    "start_time": "2023-12-21T19:44:38.726Z"
   },
   {
    "duration": 78,
    "start_time": "2023-12-21T19:44:38.742Z"
   },
   {
    "duration": 3,
    "start_time": "2023-12-21T19:44:38.822Z"
   },
   {
    "duration": 3489,
    "start_time": "2023-12-21T19:44:38.827Z"
   },
   {
    "duration": 236,
    "start_time": "2023-12-21T19:44:42.318Z"
   },
   {
    "duration": 238,
    "start_time": "2023-12-21T19:44:42.555Z"
   },
   {
    "duration": 22,
    "start_time": "2023-12-21T19:44:42.795Z"
   },
   {
    "duration": 64,
    "start_time": "2023-12-21T19:44:42.818Z"
   },
   {
    "duration": 3,
    "start_time": "2023-12-21T19:44:42.884Z"
   },
   {
    "duration": 2130,
    "start_time": "2023-12-21T19:44:42.889Z"
   },
   {
    "duration": 237,
    "start_time": "2023-12-21T19:44:45.021Z"
   },
   {
    "duration": 10,
    "start_time": "2023-12-21T19:44:45.260Z"
   },
   {
    "duration": 181,
    "start_time": "2023-12-21T19:44:45.271Z"
   },
   {
    "duration": 406,
    "start_time": "2023-12-21T19:44:45.454Z"
   },
   {
    "duration": 12,
    "start_time": "2023-12-21T19:44:45.862Z"
   },
   {
    "duration": 22,
    "start_time": "2023-12-21T19:44:45.876Z"
   },
   {
    "duration": 29,
    "start_time": "2023-12-21T19:44:45.900Z"
   },
   {
    "duration": 188,
    "start_time": "2023-12-21T19:44:45.931Z"
   },
   {
    "duration": 27,
    "start_time": "2023-12-21T19:44:46.121Z"
   },
   {
    "duration": 28,
    "start_time": "2023-12-21T19:44:46.150Z"
   },
   {
    "duration": 42,
    "start_time": "2023-12-21T19:44:46.180Z"
   },
   {
    "duration": 20,
    "start_time": "2023-12-21T19:44:46.224Z"
   },
   {
    "duration": 32,
    "start_time": "2023-12-21T19:44:46.246Z"
   },
   {
    "duration": 269,
    "start_time": "2023-12-21T19:44:46.283Z"
   },
   {
    "duration": 18,
    "start_time": "2023-12-21T19:44:46.554Z"
   },
   {
    "duration": 266,
    "start_time": "2023-12-21T19:44:46.573Z"
   },
   {
    "duration": 58,
    "start_time": "2023-12-21T19:44:46.841Z"
   },
   {
    "duration": 52,
    "start_time": "2023-12-21T19:44:46.914Z"
   },
   {
    "duration": 10,
    "start_time": "2023-12-21T19:44:46.967Z"
   },
   {
    "duration": 2,
    "start_time": "2023-12-21T19:44:46.979Z"
   },
   {
    "duration": 33,
    "start_time": "2023-12-21T19:44:46.982Z"
   },
   {
    "duration": 31,
    "start_time": "2023-12-21T19:44:47.016Z"
   },
   {
    "duration": 412,
    "start_time": "2023-12-21T19:44:47.049Z"
   },
   {
    "duration": 137,
    "start_time": "2023-12-21T19:44:47.462Z"
   },
   {
    "duration": 20,
    "start_time": "2023-12-21T19:44:47.600Z"
   },
   {
    "duration": 14,
    "start_time": "2023-12-21T19:44:47.622Z"
   },
   {
    "duration": 55678,
    "start_time": "2023-12-21T19:44:47.638Z"
   },
   {
    "duration": 59121,
    "start_time": "2023-12-21T19:45:43.319Z"
   },
   {
    "duration": 62874,
    "start_time": "2023-12-21T19:46:42.442Z"
   },
   {
    "duration": 269545,
    "start_time": "2023-12-21T19:47:45.319Z"
   },
   {
    "duration": 21114,
    "start_time": "2023-12-21T19:52:14.865Z"
   },
   {
    "duration": 89735,
    "start_time": "2023-12-21T19:52:35.980Z"
   },
   {
    "duration": 13100,
    "start_time": "2023-12-21T19:54:05.716Z"
   },
   {
    "duration": 288,
    "start_time": "2023-12-21T19:54:18.819Z"
   },
   {
    "duration": 21681,
    "start_time": "2023-12-21T19:54:19.109Z"
   },
   {
    "duration": 736,
    "start_time": "2023-12-21T19:54:40.791Z"
   },
   {
    "duration": 5116,
    "start_time": "2023-12-21T19:54:41.528Z"
   },
   {
    "duration": 51,
    "start_time": "2023-12-21T19:54:46.645Z"
   },
   {
    "duration": 7130,
    "start_time": "2023-12-21T19:54:46.697Z"
   },
   {
    "duration": 90,
    "start_time": "2023-12-21T19:54:53.829Z"
   },
   {
    "duration": 12,
    "start_time": "2023-12-21T19:54:53.920Z"
   },
   {
    "duration": 760,
    "start_time": "2023-12-21T19:59:27.960Z"
   },
   {
    "duration": 0,
    "start_time": "2023-12-21T19:59:28.722Z"
   },
   {
    "duration": 17,
    "start_time": "2023-12-21T19:59:28.803Z"
   },
   {
    "duration": 182,
    "start_time": "2023-12-21T20:01:26.594Z"
   },
   {
    "duration": 186,
    "start_time": "2023-12-21T20:01:36.129Z"
   },
   {
    "duration": 181,
    "start_time": "2023-12-21T20:02:31.894Z"
   },
   {
    "duration": 11,
    "start_time": "2023-12-21T20:03:13.502Z"
   },
   {
    "duration": 9,
    "start_time": "2023-12-21T20:04:59.044Z"
   },
   {
    "duration": 395,
    "start_time": "2023-12-21T20:07:29.569Z"
   },
   {
    "duration": 124,
    "start_time": "2023-12-21T20:07:30.130Z"
   },
   {
    "duration": 15,
    "start_time": "2023-12-21T20:07:34.208Z"
   },
   {
    "duration": 15,
    "start_time": "2023-12-21T20:07:34.467Z"
   },
   {
    "duration": 9,
    "start_time": "2023-12-21T20:08:18.970Z"
   },
   {
    "duration": 4,
    "start_time": "2023-12-21T20:09:09.315Z"
   },
   {
    "duration": 4,
    "start_time": "2023-12-21T20:09:18.994Z"
   },
   {
    "duration": 368,
    "start_time": "2023-12-21T20:09:45.670Z"
   },
   {
    "duration": 56,
    "start_time": "2023-12-21T20:09:46.142Z"
   },
   {
    "duration": 372,
    "start_time": "2023-12-21T20:09:54.534Z"
   },
   {
    "duration": 116,
    "start_time": "2023-12-21T20:09:54.908Z"
   },
   {
    "duration": 10,
    "start_time": "2023-12-21T20:09:55.025Z"
   },
   {
    "duration": 9,
    "start_time": "2023-12-21T20:09:55.506Z"
   },
   {
    "duration": 1407,
    "start_time": "2023-12-21T20:10:29.227Z"
   },
   {
    "duration": 867,
    "start_time": "2023-12-21T20:10:30.636Z"
   },
   {
    "duration": 19,
    "start_time": "2023-12-21T20:10:31.504Z"
   },
   {
    "duration": 627,
    "start_time": "2023-12-21T20:10:31.524Z"
   },
   {
    "duration": 101,
    "start_time": "2023-12-21T20:10:32.153Z"
   },
   {
    "duration": 120,
    "start_time": "2023-12-21T20:10:32.256Z"
   },
   {
    "duration": 64,
    "start_time": "2023-12-21T20:10:32.378Z"
   },
   {
    "duration": 195,
    "start_time": "2023-12-21T20:10:32.443Z"
   },
   {
    "duration": 392,
    "start_time": "2023-12-21T20:10:32.640Z"
   },
   {
    "duration": 4,
    "start_time": "2023-12-21T20:10:33.033Z"
   },
   {
    "duration": 28,
    "start_time": "2023-12-21T20:10:33.039Z"
   },
   {
    "duration": 215,
    "start_time": "2023-12-21T20:10:33.068Z"
   },
   {
    "duration": 29,
    "start_time": "2023-12-21T20:10:33.285Z"
   },
   {
    "duration": 24,
    "start_time": "2023-12-21T20:10:33.317Z"
   },
   {
    "duration": 3,
    "start_time": "2023-12-21T20:10:33.342Z"
   },
   {
    "duration": 209,
    "start_time": "2023-12-21T20:10:33.346Z"
   },
   {
    "duration": 232,
    "start_time": "2023-12-21T20:10:33.556Z"
   },
   {
    "duration": 25,
    "start_time": "2023-12-21T20:10:33.789Z"
   },
   {
    "duration": 88,
    "start_time": "2023-12-21T20:10:33.816Z"
   },
   {
    "duration": 3,
    "start_time": "2023-12-21T20:10:33.906Z"
   },
   {
    "duration": 3729,
    "start_time": "2023-12-21T20:10:33.910Z"
   },
   {
    "duration": 241,
    "start_time": "2023-12-21T20:10:37.640Z"
   },
   {
    "duration": 238,
    "start_time": "2023-12-21T20:10:37.882Z"
   },
   {
    "duration": 15,
    "start_time": "2023-12-21T20:10:38.122Z"
   },
   {
    "duration": 93,
    "start_time": "2023-12-21T20:10:38.139Z"
   },
   {
    "duration": 3,
    "start_time": "2023-12-21T20:10:38.233Z"
   },
   {
    "duration": 2130,
    "start_time": "2023-12-21T20:10:38.238Z"
   },
   {
    "duration": 230,
    "start_time": "2023-12-21T20:10:40.369Z"
   },
   {
    "duration": 17,
    "start_time": "2023-12-21T20:10:40.601Z"
   },
   {
    "duration": 173,
    "start_time": "2023-12-21T20:10:40.619Z"
   },
   {
    "duration": 418,
    "start_time": "2023-12-21T20:10:40.794Z"
   },
   {
    "duration": 13,
    "start_time": "2023-12-21T20:10:41.213Z"
   },
   {
    "duration": 36,
    "start_time": "2023-12-21T20:10:41.228Z"
   },
   {
    "duration": 18,
    "start_time": "2023-12-21T20:10:41.266Z"
   },
   {
    "duration": 199,
    "start_time": "2023-12-21T20:10:41.285Z"
   },
   {
    "duration": 40,
    "start_time": "2023-12-21T20:10:41.486Z"
   },
   {
    "duration": 27,
    "start_time": "2023-12-21T20:10:41.528Z"
   },
   {
    "duration": 36,
    "start_time": "2023-12-21T20:10:41.557Z"
   },
   {
    "duration": 24,
    "start_time": "2023-12-21T20:10:41.594Z"
   },
   {
    "duration": 39,
    "start_time": "2023-12-21T20:10:41.620Z"
   },
   {
    "duration": 258,
    "start_time": "2023-12-21T20:10:41.663Z"
   },
   {
    "duration": 18,
    "start_time": "2023-12-21T20:10:41.923Z"
   },
   {
    "duration": 266,
    "start_time": "2023-12-21T20:10:41.943Z"
   },
   {
    "duration": 60,
    "start_time": "2023-12-21T20:10:42.211Z"
   },
   {
    "duration": 76,
    "start_time": "2023-12-21T20:10:42.273Z"
   },
   {
    "duration": 12,
    "start_time": "2023-12-21T20:10:42.350Z"
   },
   {
    "duration": 3,
    "start_time": "2023-12-21T20:10:42.364Z"
   },
   {
    "duration": 18,
    "start_time": "2023-12-21T20:10:42.368Z"
   },
   {
    "duration": 44,
    "start_time": "2023-12-21T20:10:42.387Z"
   },
   {
    "duration": 2,
    "start_time": "2023-12-21T20:10:42.433Z"
   },
   {
    "duration": 369,
    "start_time": "2023-12-21T20:10:42.436Z"
   },
   {
    "duration": 112,
    "start_time": "2023-12-21T20:10:42.806Z"
   },
   {
    "duration": 3,
    "start_time": "2023-12-21T20:10:42.919Z"
   },
   {
    "duration": 7,
    "start_time": "2023-12-21T20:10:42.923Z"
   },
   {
    "duration": 69685,
    "start_time": "2023-12-21T20:10:42.932Z"
   },
   {
    "duration": 126,
    "start_time": "2023-12-21T20:11:52.619Z"
   },
   {
    "duration": 82,
    "start_time": "2023-12-21T20:11:52.747Z"
   },
   {
    "duration": 225037,
    "start_time": "2023-12-21T20:11:52.831Z"
   },
   {
    "duration": 20925,
    "start_time": "2023-12-21T20:15:37.869Z"
   },
   {
    "duration": 69932,
    "start_time": "2023-12-21T20:15:58.795Z"
   },
   {
    "duration": 17094,
    "start_time": "2023-12-21T20:17:08.728Z"
   },
   {
    "duration": 92,
    "start_time": "2023-12-21T20:17:25.824Z"
   },
   {
    "duration": 17124,
    "start_time": "2023-12-21T20:17:25.918Z"
   },
   {
    "duration": 94,
    "start_time": "2023-12-21T20:17:43.043Z"
   },
   {
    "duration": 5131,
    "start_time": "2023-12-21T20:17:43.138Z"
   },
   {
    "duration": 52,
    "start_time": "2023-12-21T20:17:48.271Z"
   },
   {
    "duration": 6303,
    "start_time": "2023-12-21T20:17:48.324Z"
   },
   {
    "duration": 992,
    "start_time": "2023-12-21T20:17:54.628Z"
   },
   {
    "duration": 20,
    "start_time": "2023-12-21T20:17:55.621Z"
   },
   {
    "duration": 1405,
    "start_time": "2023-12-21T20:25:05.186Z"
   },
   {
    "duration": 835,
    "start_time": "2023-12-21T20:25:06.593Z"
   },
   {
    "duration": 18,
    "start_time": "2023-12-21T20:25:07.429Z"
   },
   {
    "duration": 607,
    "start_time": "2023-12-21T20:25:07.449Z"
   },
   {
    "duration": 108,
    "start_time": "2023-12-21T20:25:08.058Z"
   },
   {
    "duration": 124,
    "start_time": "2023-12-21T20:25:08.168Z"
   },
   {
    "duration": 67,
    "start_time": "2023-12-21T20:25:08.293Z"
   },
   {
    "duration": 188,
    "start_time": "2023-12-21T20:25:08.361Z"
   },
   {
    "duration": 392,
    "start_time": "2023-12-21T20:25:08.551Z"
   },
   {
    "duration": 5,
    "start_time": "2023-12-21T20:25:08.946Z"
   },
   {
    "duration": 13,
    "start_time": "2023-12-21T20:25:08.952Z"
   },
   {
    "duration": 220,
    "start_time": "2023-12-21T20:25:08.966Z"
   },
   {
    "duration": 31,
    "start_time": "2023-12-21T20:25:09.187Z"
   },
   {
    "duration": 29,
    "start_time": "2023-12-21T20:25:09.219Z"
   },
   {
    "duration": 2,
    "start_time": "2023-12-21T20:25:09.250Z"
   },
   {
    "duration": 192,
    "start_time": "2023-12-21T20:25:09.254Z"
   },
   {
    "duration": 250,
    "start_time": "2023-12-21T20:25:09.448Z"
   },
   {
    "duration": 19,
    "start_time": "2023-12-21T20:25:09.700Z"
   },
   {
    "duration": 65,
    "start_time": "2023-12-21T20:25:09.721Z"
   },
   {
    "duration": 3,
    "start_time": "2023-12-21T20:25:09.788Z"
   },
   {
    "duration": 3538,
    "start_time": "2023-12-21T20:25:09.792Z"
   },
   {
    "duration": 260,
    "start_time": "2023-12-21T20:25:13.332Z"
   },
   {
    "duration": 244,
    "start_time": "2023-12-21T20:25:13.594Z"
   },
   {
    "duration": 16,
    "start_time": "2023-12-21T20:25:13.840Z"
   },
   {
    "duration": 84,
    "start_time": "2023-12-21T20:25:13.858Z"
   },
   {
    "duration": 4,
    "start_time": "2023-12-21T20:25:13.943Z"
   },
   {
    "duration": 2200,
    "start_time": "2023-12-21T20:25:13.948Z"
   },
   {
    "duration": 237,
    "start_time": "2023-12-21T20:25:16.153Z"
   },
   {
    "duration": 8,
    "start_time": "2023-12-21T20:25:16.392Z"
   },
   {
    "duration": 184,
    "start_time": "2023-12-21T20:25:16.402Z"
   },
   {
    "duration": 416,
    "start_time": "2023-12-21T20:25:16.587Z"
   },
   {
    "duration": 21,
    "start_time": "2023-12-21T20:25:17.004Z"
   },
   {
    "duration": 25,
    "start_time": "2023-12-21T20:25:17.026Z"
   },
   {
    "duration": 17,
    "start_time": "2023-12-21T20:25:17.052Z"
   },
   {
    "duration": 199,
    "start_time": "2023-12-21T20:25:17.071Z"
   },
   {
    "duration": 27,
    "start_time": "2023-12-21T20:25:17.272Z"
   },
   {
    "duration": 34,
    "start_time": "2023-12-21T20:25:17.301Z"
   },
   {
    "duration": 32,
    "start_time": "2023-12-21T20:25:17.337Z"
   },
   {
    "duration": 20,
    "start_time": "2023-12-21T20:25:17.371Z"
   },
   {
    "duration": 55,
    "start_time": "2023-12-21T20:25:17.392Z"
   },
   {
    "duration": 274,
    "start_time": "2023-12-21T20:25:17.449Z"
   },
   {
    "duration": 18,
    "start_time": "2023-12-21T20:25:17.725Z"
   },
   {
    "duration": 261,
    "start_time": "2023-12-21T20:25:17.745Z"
   },
   {
    "duration": 57,
    "start_time": "2023-12-21T20:25:18.014Z"
   },
   {
    "duration": 74,
    "start_time": "2023-12-21T20:25:18.072Z"
   },
   {
    "duration": 11,
    "start_time": "2023-12-21T20:25:18.148Z"
   },
   {
    "duration": 4,
    "start_time": "2023-12-21T20:25:18.160Z"
   },
   {
    "duration": 26,
    "start_time": "2023-12-21T20:25:18.165Z"
   },
   {
    "duration": 46,
    "start_time": "2023-12-21T20:25:18.193Z"
   },
   {
    "duration": 3,
    "start_time": "2023-12-21T20:25:18.241Z"
   },
   {
    "duration": 392,
    "start_time": "2023-12-21T20:25:18.246Z"
   },
   {
    "duration": 112,
    "start_time": "2023-12-21T20:25:18.640Z"
   },
   {
    "duration": 2,
    "start_time": "2023-12-21T20:25:18.754Z"
   },
   {
    "duration": 4,
    "start_time": "2023-12-21T20:25:18.758Z"
   },
   {
    "duration": 1415,
    "start_time": "2023-12-21T20:25:34.182Z"
   },
   {
    "duration": 872,
    "start_time": "2023-12-21T20:25:35.599Z"
   },
   {
    "duration": 19,
    "start_time": "2023-12-21T20:25:36.472Z"
   },
   {
    "duration": 653,
    "start_time": "2023-12-21T20:25:36.493Z"
   },
   {
    "duration": 101,
    "start_time": "2023-12-21T20:25:37.148Z"
   },
   {
    "duration": 121,
    "start_time": "2023-12-21T20:25:37.250Z"
   },
   {
    "duration": 66,
    "start_time": "2023-12-21T20:25:37.372Z"
   },
   {
    "duration": 197,
    "start_time": "2023-12-21T20:25:37.439Z"
   },
   {
    "duration": 392,
    "start_time": "2023-12-21T20:25:37.638Z"
   },
   {
    "duration": 5,
    "start_time": "2023-12-21T20:25:38.031Z"
   },
   {
    "duration": 15,
    "start_time": "2023-12-21T20:25:38.037Z"
   },
   {
    "duration": 216,
    "start_time": "2023-12-21T20:25:38.054Z"
   },
   {
    "duration": 21,
    "start_time": "2023-12-21T20:25:38.272Z"
   },
   {
    "duration": 33,
    "start_time": "2023-12-21T20:25:38.297Z"
   },
   {
    "duration": 3,
    "start_time": "2023-12-21T20:25:38.331Z"
   },
   {
    "duration": 192,
    "start_time": "2023-12-21T20:25:38.335Z"
   },
   {
    "duration": 240,
    "start_time": "2023-12-21T20:25:38.528Z"
   },
   {
    "duration": 16,
    "start_time": "2023-12-21T20:25:38.770Z"
   },
   {
    "duration": 74,
    "start_time": "2023-12-21T20:25:38.787Z"
   },
   {
    "duration": 3,
    "start_time": "2023-12-21T20:25:38.863Z"
   },
   {
    "duration": 3549,
    "start_time": "2023-12-21T20:25:38.868Z"
   },
   {
    "duration": 239,
    "start_time": "2023-12-21T20:25:42.418Z"
   },
   {
    "duration": 234,
    "start_time": "2023-12-21T20:25:42.659Z"
   },
   {
    "duration": 20,
    "start_time": "2023-12-21T20:25:42.895Z"
   },
   {
    "duration": 62,
    "start_time": "2023-12-21T20:25:42.917Z"
   },
   {
    "duration": 3,
    "start_time": "2023-12-21T20:25:42.980Z"
   },
   {
    "duration": 2206,
    "start_time": "2023-12-21T20:25:42.985Z"
   },
   {
    "duration": 242,
    "start_time": "2023-12-21T20:25:45.193Z"
   },
   {
    "duration": 8,
    "start_time": "2023-12-21T20:25:45.437Z"
   },
   {
    "duration": 180,
    "start_time": "2023-12-21T20:25:45.446Z"
   },
   {
    "duration": 414,
    "start_time": "2023-12-21T20:25:45.627Z"
   },
   {
    "duration": 12,
    "start_time": "2023-12-21T20:25:46.043Z"
   },
   {
    "duration": 33,
    "start_time": "2023-12-21T20:25:46.057Z"
   },
   {
    "duration": 24,
    "start_time": "2023-12-21T20:25:46.091Z"
   },
   {
    "duration": 201,
    "start_time": "2023-12-21T20:25:46.117Z"
   },
   {
    "duration": 25,
    "start_time": "2023-12-21T20:25:46.320Z"
   },
   {
    "duration": 26,
    "start_time": "2023-12-21T20:25:46.346Z"
   },
   {
    "duration": 41,
    "start_time": "2023-12-21T20:25:46.374Z"
   },
   {
    "duration": 19,
    "start_time": "2023-12-21T20:25:46.417Z"
   },
   {
    "duration": 29,
    "start_time": "2023-12-21T20:25:46.438Z"
   },
   {
    "duration": 267,
    "start_time": "2023-12-21T20:25:46.471Z"
   },
   {
    "duration": 18,
    "start_time": "2023-12-21T20:25:46.740Z"
   },
   {
    "duration": 263,
    "start_time": "2023-12-21T20:25:46.760Z"
   },
   {
    "duration": 58,
    "start_time": "2023-12-21T20:25:47.024Z"
   },
   {
    "duration": 72,
    "start_time": "2023-12-21T20:25:47.084Z"
   },
   {
    "duration": 11,
    "start_time": "2023-12-21T20:25:47.157Z"
   },
   {
    "duration": 22,
    "start_time": "2023-12-21T20:25:47.170Z"
   },
   {
    "duration": 16,
    "start_time": "2023-12-21T20:25:47.194Z"
   },
   {
    "duration": 34,
    "start_time": "2023-12-21T20:25:47.212Z"
   },
   {
    "duration": 3,
    "start_time": "2023-12-21T20:25:47.247Z"
   },
   {
    "duration": 367,
    "start_time": "2023-12-21T20:25:47.251Z"
   },
   {
    "duration": 106,
    "start_time": "2023-12-21T20:25:47.619Z"
   },
   {
    "duration": 2,
    "start_time": "2023-12-21T20:25:47.727Z"
   },
   {
    "duration": 5,
    "start_time": "2023-12-21T20:25:47.730Z"
   },
   {
    "duration": 71182,
    "start_time": "2023-12-21T20:25:47.737Z"
   },
   {
    "duration": 125,
    "start_time": "2023-12-21T20:26:58.923Z"
   },
   {
    "duration": 83,
    "start_time": "2023-12-21T20:26:59.049Z"
   },
   {
    "duration": 230906,
    "start_time": "2023-12-21T20:26:59.134Z"
   },
   {
    "duration": 21151,
    "start_time": "2023-12-21T20:30:50.042Z"
   },
   {
    "duration": 70923,
    "start_time": "2023-12-21T20:31:11.195Z"
   },
   {
    "duration": 15601,
    "start_time": "2023-12-21T20:32:22.119Z"
   },
   {
    "duration": 94,
    "start_time": "2023-12-21T20:32:37.722Z"
   },
   {
    "duration": 18111,
    "start_time": "2023-12-21T20:32:37.818Z"
   },
   {
    "duration": 74,
    "start_time": "2023-12-21T20:32:55.930Z"
   },
   {
    "duration": 5017,
    "start_time": "2023-12-21T20:32:56.005Z"
   },
   {
    "duration": 51,
    "start_time": "2023-12-21T20:33:01.023Z"
   },
   {
    "duration": 9145,
    "start_time": "2023-12-21T20:33:01.075Z"
   },
   {
    "duration": 901,
    "start_time": "2023-12-21T20:33:10.222Z"
   },
   {
    "duration": 24,
    "start_time": "2023-12-21T20:33:11.125Z"
   },
   {
    "duration": 1360,
    "start_time": "2023-12-21T20:40:23.121Z"
   },
   {
    "duration": 862,
    "start_time": "2023-12-21T20:40:24.483Z"
   },
   {
    "duration": 18,
    "start_time": "2023-12-21T20:40:25.347Z"
   },
   {
    "duration": 627,
    "start_time": "2023-12-21T20:40:25.367Z"
   },
   {
    "duration": 96,
    "start_time": "2023-12-21T20:40:25.996Z"
   },
   {
    "duration": 129,
    "start_time": "2023-12-21T20:40:26.093Z"
   },
   {
    "duration": 53,
    "start_time": "2023-12-21T20:40:26.223Z"
   },
   {
    "duration": 198,
    "start_time": "2023-12-21T20:40:26.278Z"
   },
   {
    "duration": 362,
    "start_time": "2023-12-21T20:40:26.478Z"
   },
   {
    "duration": 4,
    "start_time": "2023-12-21T20:40:26.842Z"
   },
   {
    "duration": 13,
    "start_time": "2023-12-21T20:40:26.847Z"
   },
   {
    "duration": 204,
    "start_time": "2023-12-21T20:40:26.862Z"
   },
   {
    "duration": 23,
    "start_time": "2023-12-21T20:40:27.067Z"
   },
   {
    "duration": 40,
    "start_time": "2023-12-21T20:40:27.092Z"
   },
   {
    "duration": 3,
    "start_time": "2023-12-21T20:40:27.133Z"
   },
   {
    "duration": 192,
    "start_time": "2023-12-21T20:40:27.137Z"
   },
   {
    "duration": 228,
    "start_time": "2023-12-21T20:40:27.331Z"
   },
   {
    "duration": 14,
    "start_time": "2023-12-21T20:40:27.560Z"
   },
   {
    "duration": 79,
    "start_time": "2023-12-21T20:40:27.575Z"
   },
   {
    "duration": 3,
    "start_time": "2023-12-21T20:40:27.656Z"
   },
   {
    "duration": 3819,
    "start_time": "2023-12-21T20:40:27.660Z"
   },
   {
    "duration": 229,
    "start_time": "2023-12-21T20:40:31.480Z"
   },
   {
    "duration": 229,
    "start_time": "2023-12-21T20:40:31.715Z"
   },
   {
    "duration": 15,
    "start_time": "2023-12-21T20:40:31.945Z"
   },
   {
    "duration": 75,
    "start_time": "2023-12-21T20:40:31.962Z"
   },
   {
    "duration": 3,
    "start_time": "2023-12-21T20:40:32.039Z"
   },
   {
    "duration": 2134,
    "start_time": "2023-12-21T20:40:32.043Z"
   },
   {
    "duration": 244,
    "start_time": "2023-12-21T20:40:34.181Z"
   },
   {
    "duration": 8,
    "start_time": "2023-12-21T20:40:34.426Z"
   },
   {
    "duration": 184,
    "start_time": "2023-12-21T20:40:34.435Z"
   },
   {
    "duration": 421,
    "start_time": "2023-12-21T20:40:34.620Z"
   },
   {
    "duration": 15,
    "start_time": "2023-12-21T20:40:35.042Z"
   },
   {
    "duration": 30,
    "start_time": "2023-12-21T20:40:35.058Z"
   },
   {
    "duration": 34,
    "start_time": "2023-12-21T20:40:35.090Z"
   },
   {
    "duration": 191,
    "start_time": "2023-12-21T20:40:35.126Z"
   },
   {
    "duration": 26,
    "start_time": "2023-12-21T20:40:35.319Z"
   },
   {
    "duration": 21,
    "start_time": "2023-12-21T20:40:35.347Z"
   },
   {
    "duration": 55,
    "start_time": "2023-12-21T20:40:35.370Z"
   },
   {
    "duration": 18,
    "start_time": "2023-12-21T20:40:35.427Z"
   },
   {
    "duration": 30,
    "start_time": "2023-12-21T20:40:35.446Z"
   },
   {
    "duration": 279,
    "start_time": "2023-12-21T20:40:35.478Z"
   },
   {
    "duration": 24,
    "start_time": "2023-12-21T20:40:35.759Z"
   },
   {
    "duration": 278,
    "start_time": "2023-12-21T20:40:35.784Z"
   },
   {
    "duration": 72,
    "start_time": "2023-12-21T20:40:36.064Z"
   },
   {
    "duration": 54,
    "start_time": "2023-12-21T20:40:36.137Z"
   },
   {
    "duration": 28,
    "start_time": "2023-12-21T20:40:36.193Z"
   },
   {
    "duration": 3,
    "start_time": "2023-12-21T20:40:36.222Z"
   },
   {
    "duration": 10,
    "start_time": "2023-12-21T20:40:36.227Z"
   },
   {
    "duration": 34,
    "start_time": "2023-12-21T20:40:36.238Z"
   },
   {
    "duration": 3,
    "start_time": "2023-12-21T20:40:36.274Z"
   },
   {
    "duration": 393,
    "start_time": "2023-12-21T20:40:36.278Z"
   },
   {
    "duration": 109,
    "start_time": "2023-12-21T20:40:36.673Z"
   },
   {
    "duration": 2,
    "start_time": "2023-12-21T20:40:36.784Z"
   },
   {
    "duration": 9,
    "start_time": "2023-12-21T20:40:36.787Z"
   },
   {
    "duration": 67920,
    "start_time": "2023-12-21T20:40:36.797Z"
   },
   {
    "duration": 134,
    "start_time": "2023-12-21T20:41:44.719Z"
   },
   {
    "duration": 78,
    "start_time": "2023-12-21T20:41:44.855Z"
   },
   {
    "duration": 230514,
    "start_time": "2023-12-21T20:41:44.935Z"
   },
   {
    "duration": 20875,
    "start_time": "2023-12-21T20:45:35.451Z"
   },
   {
    "duration": 98295,
    "start_time": "2023-12-21T20:45:56.328Z"
   },
   {
    "duration": 17298,
    "start_time": "2023-12-21T20:47:34.624Z"
   },
   {
    "duration": 92,
    "start_time": "2023-12-21T20:47:51.924Z"
   },
   {
    "duration": 6,
    "start_time": "2023-12-21T20:47:52.018Z"
   },
   {
    "duration": 17323,
    "start_time": "2023-12-21T20:47:52.026Z"
   },
   {
    "duration": 70,
    "start_time": "2023-12-21T20:48:09.351Z"
   },
   {
    "duration": 4,
    "start_time": "2023-12-21T20:48:09.422Z"
   },
   {
    "duration": 4943,
    "start_time": "2023-12-21T20:48:09.427Z"
   },
   {
    "duration": 52,
    "start_time": "2023-12-21T20:48:14.372Z"
   },
   {
    "duration": 4,
    "start_time": "2023-12-21T20:48:14.426Z"
   },
   {
    "duration": 5889,
    "start_time": "2023-12-21T20:48:14.432Z"
   },
   {
    "duration": 901,
    "start_time": "2023-12-21T20:48:20.322Z"
   },
   {
    "duration": 3,
    "start_time": "2023-12-21T20:48:21.224Z"
   },
   {
    "duration": 75,
    "start_time": "2023-12-21T20:48:21.229Z"
   },
   {
    "duration": 84,
    "start_time": "2023-12-21T20:50:11.672Z"
   },
   {
    "duration": 19,
    "start_time": "2023-12-21T20:50:31.196Z"
   },
   {
    "duration": 8062,
    "start_time": "2023-12-21T20:56:17.298Z"
   },
   {
    "duration": 20898,
    "start_time": "2023-12-21T20:57:48.743Z"
   },
   {
    "duration": 1579,
    "start_time": "2023-12-22T20:16:38.861Z"
   },
   {
    "duration": 1048,
    "start_time": "2023-12-22T20:16:40.442Z"
   },
   {
    "duration": 21,
    "start_time": "2023-12-22T20:16:41.492Z"
   },
   {
    "duration": 644,
    "start_time": "2023-12-22T20:16:41.515Z"
   },
   {
    "duration": 89,
    "start_time": "2023-12-22T20:16:42.160Z"
   },
   {
    "duration": 114,
    "start_time": "2023-12-22T20:16:42.251Z"
   },
   {
    "duration": 59,
    "start_time": "2023-12-22T20:16:42.367Z"
   },
   {
    "duration": 223,
    "start_time": "2023-12-22T20:16:42.427Z"
   },
   {
    "duration": 365,
    "start_time": "2023-12-22T20:16:42.651Z"
   },
   {
    "duration": 4,
    "start_time": "2023-12-22T20:16:43.018Z"
   },
   {
    "duration": 6,
    "start_time": "2023-12-22T20:16:43.023Z"
   },
   {
    "duration": 209,
    "start_time": "2023-12-22T20:16:43.030Z"
   },
   {
    "duration": 20,
    "start_time": "2023-12-22T20:16:43.240Z"
   },
   {
    "duration": 32,
    "start_time": "2023-12-22T20:16:43.261Z"
   },
   {
    "duration": 3,
    "start_time": "2023-12-22T20:16:43.294Z"
   },
   {
    "duration": 167,
    "start_time": "2023-12-22T20:16:43.298Z"
   },
   {
    "duration": 225,
    "start_time": "2023-12-22T20:16:43.466Z"
   },
   {
    "duration": 14,
    "start_time": "2023-12-22T20:16:43.692Z"
   },
   {
    "duration": 52,
    "start_time": "2023-12-22T20:16:43.708Z"
   },
   {
    "duration": 3,
    "start_time": "2023-12-22T20:16:43.762Z"
   },
   {
    "duration": 3323,
    "start_time": "2023-12-22T20:16:43.781Z"
   },
   {
    "duration": 224,
    "start_time": "2023-12-22T20:16:47.105Z"
   },
   {
    "duration": 227,
    "start_time": "2023-12-22T20:16:47.330Z"
   },
   {
    "duration": 24,
    "start_time": "2023-12-22T20:16:47.558Z"
   },
   {
    "duration": 59,
    "start_time": "2023-12-22T20:16:47.583Z"
   },
   {
    "duration": 3,
    "start_time": "2023-12-22T20:16:47.643Z"
   },
   {
    "duration": 2080,
    "start_time": "2023-12-22T20:16:47.648Z"
   },
   {
    "duration": 233,
    "start_time": "2023-12-22T20:16:49.732Z"
   },
   {
    "duration": 16,
    "start_time": "2023-12-22T20:16:49.966Z"
   },
   {
    "duration": 160,
    "start_time": "2023-12-22T20:16:49.984Z"
   },
   {
    "duration": 370,
    "start_time": "2023-12-22T20:16:50.145Z"
   },
   {
    "duration": 11,
    "start_time": "2023-12-22T20:16:50.516Z"
   },
   {
    "duration": 20,
    "start_time": "2023-12-22T20:16:50.529Z"
   },
   {
    "duration": 35,
    "start_time": "2023-12-22T20:16:50.551Z"
   },
   {
    "duration": 174,
    "start_time": "2023-12-22T20:16:50.587Z"
   },
   {
    "duration": 35,
    "start_time": "2023-12-22T20:16:50.762Z"
   },
   {
    "duration": 19,
    "start_time": "2023-12-22T20:16:50.798Z"
   },
   {
    "duration": 27,
    "start_time": "2023-12-22T20:16:50.819Z"
   },
   {
    "duration": 37,
    "start_time": "2023-12-22T20:16:50.847Z"
   },
   {
    "duration": 27,
    "start_time": "2023-12-22T20:16:50.885Z"
   },
   {
    "duration": 249,
    "start_time": "2023-12-22T20:16:50.913Z"
   },
   {
    "duration": 27,
    "start_time": "2023-12-22T20:16:51.163Z"
   },
   {
    "duration": 230,
    "start_time": "2023-12-22T20:16:51.192Z"
   },
   {
    "duration": 67,
    "start_time": "2023-12-22T20:16:51.424Z"
   },
   {
    "duration": 49,
    "start_time": "2023-12-22T20:16:51.492Z"
   },
   {
    "duration": 10,
    "start_time": "2023-12-22T20:16:51.542Z"
   },
   {
    "duration": 7,
    "start_time": "2023-12-22T20:16:51.553Z"
   },
   {
    "duration": 22,
    "start_time": "2023-12-22T20:16:51.562Z"
   },
   {
    "duration": 28,
    "start_time": "2023-12-22T20:16:51.585Z"
   },
   {
    "duration": 3,
    "start_time": "2023-12-22T20:16:51.615Z"
   },
   {
    "duration": 375,
    "start_time": "2023-12-22T20:16:51.619Z"
   },
   {
    "duration": 103,
    "start_time": "2023-12-22T20:16:51.995Z"
   },
   {
    "duration": 2,
    "start_time": "2023-12-22T20:16:52.100Z"
   },
   {
    "duration": 3,
    "start_time": "2023-12-22T20:16:52.104Z"
   },
   {
    "duration": 57775,
    "start_time": "2023-12-22T20:16:52.108Z"
   },
   {
    "duration": 123,
    "start_time": "2023-12-22T20:17:49.885Z"
   },
   {
    "duration": 55,
    "start_time": "2023-12-22T20:17:50.009Z"
   },
   {
    "duration": 219690,
    "start_time": "2023-12-22T20:17:50.082Z"
   },
   {
    "duration": 19963,
    "start_time": "2023-12-22T20:21:29.774Z"
   },
   {
    "duration": 1601244,
    "start_time": "2023-12-22T20:21:49.739Z"
   },
   {
    "duration": 16500,
    "start_time": "2023-12-22T20:48:30.985Z"
   },
   {
    "duration": 95,
    "start_time": "2023-12-22T20:48:47.488Z"
   },
   {
    "duration": 4,
    "start_time": "2023-12-22T20:48:47.584Z"
   },
   {
    "duration": 16630,
    "start_time": "2023-12-22T20:48:47.589Z"
   },
   {
    "duration": 4673,
    "start_time": "2023-12-22T20:49:04.221Z"
   },
   {
    "duration": 6793,
    "start_time": "2023-12-22T20:49:08.895Z"
   },
   {
    "duration": 79,
    "start_time": "2023-12-22T20:49:15.690Z"
   },
   {
    "duration": 0,
    "start_time": "2023-12-22T20:49:15.770Z"
   },
   {
    "duration": 0,
    "start_time": "2023-12-22T20:49:15.771Z"
   },
   {
    "duration": 14,
    "start_time": "2023-12-22T20:56:23.031Z"
   },
   {
    "duration": 123,
    "start_time": "2023-12-22T20:56:25.557Z"
   },
   {
    "duration": 105,
    "start_time": "2023-12-22T20:56:26.290Z"
   },
   {
    "duration": 4558,
    "start_time": "2023-12-22T20:58:47.223Z"
   },
   {
    "duration": 136,
    "start_time": "2023-12-22T20:58:51.783Z"
   },
   {
    "duration": 11,
    "start_time": "2023-12-22T20:58:51.921Z"
   },
   {
    "duration": 50,
    "start_time": "2023-12-22T21:04:37.887Z"
   },
   {
    "duration": 4,
    "start_time": "2023-12-22T21:04:38.231Z"
   },
   {
    "duration": 1590,
    "start_time": "2023-12-23T21:08:05.557Z"
   },
   {
    "duration": 1112,
    "start_time": "2023-12-23T21:08:07.149Z"
   },
   {
    "duration": 19,
    "start_time": "2023-12-23T21:08:08.263Z"
   },
   {
    "duration": 622,
    "start_time": "2023-12-23T21:08:08.284Z"
   },
   {
    "duration": 89,
    "start_time": "2023-12-23T21:08:08.909Z"
   },
   {
    "duration": 118,
    "start_time": "2023-12-23T21:08:08.999Z"
   },
   {
    "duration": 58,
    "start_time": "2023-12-23T21:08:09.122Z"
   },
   {
    "duration": 226,
    "start_time": "2023-12-23T21:08:09.181Z"
   },
   {
    "duration": 391,
    "start_time": "2023-12-23T21:08:09.409Z"
   },
   {
    "duration": 4,
    "start_time": "2023-12-23T21:08:09.801Z"
   },
   {
    "duration": 8,
    "start_time": "2023-12-23T21:08:09.806Z"
   },
   {
    "duration": 199,
    "start_time": "2023-12-23T21:08:09.815Z"
   },
   {
    "duration": 25,
    "start_time": "2023-12-23T21:08:10.021Z"
   },
   {
    "duration": 20,
    "start_time": "2023-12-23T21:08:10.048Z"
   },
   {
    "duration": 3,
    "start_time": "2023-12-23T21:08:10.069Z"
   },
   {
    "duration": 197,
    "start_time": "2023-12-23T21:08:10.074Z"
   },
   {
    "duration": 239,
    "start_time": "2023-12-23T21:08:10.273Z"
   },
   {
    "duration": 21,
    "start_time": "2023-12-23T21:08:10.513Z"
   },
   {
    "duration": 66,
    "start_time": "2023-12-23T21:08:10.536Z"
   },
   {
    "duration": 3,
    "start_time": "2023-12-23T21:08:10.604Z"
   },
   {
    "duration": 3572,
    "start_time": "2023-12-23T21:08:10.609Z"
   },
   {
    "duration": 236,
    "start_time": "2023-12-23T21:08:14.182Z"
   },
   {
    "duration": 225,
    "start_time": "2023-12-23T21:08:14.422Z"
   },
   {
    "duration": 15,
    "start_time": "2023-12-23T21:08:14.648Z"
   },
   {
    "duration": 69,
    "start_time": "2023-12-23T21:08:14.665Z"
   },
   {
    "duration": 3,
    "start_time": "2023-12-23T21:08:14.735Z"
   },
   {
    "duration": 2215,
    "start_time": "2023-12-23T21:08:14.739Z"
   },
   {
    "duration": 233,
    "start_time": "2023-12-23T21:08:16.956Z"
   },
   {
    "duration": 8,
    "start_time": "2023-12-23T21:08:17.191Z"
   },
   {
    "duration": 188,
    "start_time": "2023-12-23T21:08:17.200Z"
   },
   {
    "duration": 417,
    "start_time": "2023-12-23T21:08:17.390Z"
   },
   {
    "duration": 19,
    "start_time": "2023-12-23T21:08:17.808Z"
   },
   {
    "duration": 22,
    "start_time": "2023-12-23T21:08:17.828Z"
   },
   {
    "duration": 20,
    "start_time": "2023-12-23T21:08:17.852Z"
   },
   {
    "duration": 198,
    "start_time": "2023-12-23T21:08:17.873Z"
   },
   {
    "duration": 27,
    "start_time": "2023-12-23T21:08:18.072Z"
   },
   {
    "duration": 35,
    "start_time": "2023-12-23T21:08:18.101Z"
   },
   {
    "duration": 32,
    "start_time": "2023-12-23T21:08:18.138Z"
   },
   {
    "duration": 20,
    "start_time": "2023-12-23T21:08:18.171Z"
   },
   {
    "duration": 48,
    "start_time": "2023-12-23T21:08:18.192Z"
   },
   {
    "duration": 262,
    "start_time": "2023-12-23T21:08:18.244Z"
   },
   {
    "duration": 28,
    "start_time": "2023-12-23T21:08:18.507Z"
   },
   {
    "duration": 265,
    "start_time": "2023-12-23T21:08:18.537Z"
   },
   {
    "duration": 74,
    "start_time": "2023-12-23T21:08:18.804Z"
   },
   {
    "duration": 68,
    "start_time": "2023-12-23T21:08:18.880Z"
   },
   {
    "duration": 12,
    "start_time": "2023-12-23T21:08:18.950Z"
   },
   {
    "duration": 3,
    "start_time": "2023-12-23T21:08:18.963Z"
   },
   {
    "duration": 13,
    "start_time": "2023-12-23T21:08:18.968Z"
   },
   {
    "duration": 57,
    "start_time": "2023-12-23T21:08:18.982Z"
   },
   {
    "duration": 3,
    "start_time": "2023-12-23T21:08:19.040Z"
   },
   {
    "duration": 362,
    "start_time": "2023-12-23T21:08:19.044Z"
   },
   {
    "duration": 107,
    "start_time": "2023-12-23T21:08:19.407Z"
   },
   {
    "duration": 2,
    "start_time": "2023-12-23T21:08:19.516Z"
   },
   {
    "duration": 15,
    "start_time": "2023-12-23T21:08:19.522Z"
   },
   {
    "duration": 66889,
    "start_time": "2023-12-23T21:08:19.538Z"
   },
   {
    "duration": 129,
    "start_time": "2023-12-23T21:09:26.430Z"
   },
   {
    "duration": 80,
    "start_time": "2023-12-23T21:09:26.560Z"
   },
   {
    "duration": 233515,
    "start_time": "2023-12-23T21:09:26.641Z"
   },
   {
    "duration": 21088,
    "start_time": "2023-12-23T21:13:20.157Z"
   },
   {
    "duration": 57497,
    "start_time": "2023-12-23T21:13:41.247Z"
   },
   {
    "duration": 17184,
    "start_time": "2023-12-23T21:14:38.746Z"
   },
   {
    "duration": 386,
    "start_time": "2023-12-23T21:14:55.932Z"
   },
   {
    "duration": 17781,
    "start_time": "2023-12-23T21:14:56.320Z"
   },
   {
    "duration": 218,
    "start_time": "2023-12-23T21:15:14.103Z"
   },
   {
    "duration": 5054,
    "start_time": "2023-12-23T21:15:14.322Z"
   },
   {
    "duration": 101,
    "start_time": "2023-12-23T21:15:19.378Z"
   },
   {
    "duration": 7152,
    "start_time": "2023-12-23T21:15:19.481Z"
   },
   {
    "duration": 2431,
    "start_time": "2023-12-23T21:15:26.634Z"
   },
   {
    "duration": 72,
    "start_time": "2023-12-23T21:15:29.066Z"
   },
   {
    "duration": 5063,
    "start_time": "2023-12-23T21:15:29.140Z"
   },
   {
    "duration": 52,
    "start_time": "2023-12-23T21:15:34.204Z"
   },
   {
    "duration": 5,
    "start_time": "2023-12-23T21:15:34.257Z"
   },
   {
    "duration": 5,
    "start_time": "2023-12-23T21:16:15.649Z"
   },
   {
    "duration": 100,
    "start_time": "2023-12-23T21:16:26.214Z"
   },
   {
    "duration": 222,
    "start_time": "2023-12-23T21:16:31.615Z"
   },
   {
    "duration": 145,
    "start_time": "2023-12-23T21:16:40.945Z"
   },
   {
    "duration": 18,
    "start_time": "2023-12-23T21:17:39.883Z"
   },
   {
    "duration": 18,
    "start_time": "2023-12-23T21:21:35.109Z"
   }
  ],
  "kernelspec": {
   "display_name": "Python 3 (ipykernel)",
   "language": "python",
   "name": "python3"
  },
  "language_info": {
   "codemirror_mode": {
    "name": "ipython",
    "version": 3
   },
   "file_extension": ".py",
   "mimetype": "text/x-python",
   "name": "python",
   "nbconvert_exporter": "python",
   "pygments_lexer": "ipython3",
   "version": "3.11.4"
  },
  "toc": {
   "base_numbering": 1,
   "nav_menu": {},
   "number_sections": true,
   "sideBar": true,
   "skip_h1_title": true,
   "title_cell": "Table of Contents",
   "title_sidebar": "Contents",
   "toc_cell": false,
   "toc_position": {
    "height": "calc(100% - 180px)",
    "left": "10px",
    "top": "150px",
    "width": "218px"
   },
   "toc_section_display": true,
   "toc_window_display": true
  }
 },
 "nbformat": 4,
 "nbformat_minor": 2
}
